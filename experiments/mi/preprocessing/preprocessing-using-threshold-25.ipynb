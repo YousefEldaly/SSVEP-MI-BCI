{
 "cells": [
  {
   "cell_type": "code",
   "execution_count": 1,
   "id": "6547837e",
   "metadata": {
    "_cell_guid": "b1076dfc-b9ad-4769-8c92-a6c4dae69d19",
    "_uuid": "8f2839f25d086af736a60e9eeb907d3b93b6e0e5",
    "execution": {
     "iopub.execute_input": "2025-06-25T06:27:20.315033Z",
     "iopub.status.busy": "2025-06-25T06:27:20.314207Z",
     "iopub.status.idle": "2025-06-25T06:27:20.328663Z",
     "shell.execute_reply": "2025-06-25T06:27:20.327635Z"
    },
    "papermill": {
     "duration": 0.021432,
     "end_time": "2025-06-25T06:27:20.330267",
     "exception": false,
     "start_time": "2025-06-25T06:27:20.308835",
     "status": "completed"
    },
    "tags": []
   },
   "outputs": [],
   "source": [
    "# import numpy as np\n",
    "# import pandas as pd\n",
    "# import os\n",
    "# import json\n",
    "# from scipy import signal, fft\n",
    "# from sklearn.decomposition import FastICA\n",
    "# import traceback\n",
    "\n",
    "# # =============================\n",
    "# # CONFIGURATION\n",
    "# # =============================\n",
    "# BASE_PATH = '/kaggle/input/mtcaic3'\n",
    "# PREPROCESSED_PATH = './quality_controlled_preprocessed/'\n",
    "# EEG_CHANNELS = ['FZ', 'C3', 'CZ', 'C4', 'PZ', 'PO7', 'OZ', 'PO8']\n",
    "# MOTION_SENSORS = ['AccX', 'AccY', 'AccZ', 'Gyro1', 'Gyro2', 'Gyro3']\n",
    "# FS = 250  # Sampling rate (Hz)\n",
    "# ARTIFACT_REJECTION_THRESHOLD = 25  # Reject trials with >50% artifacts\n",
    "\n",
    "# # =============================\n",
    "# # HELPER FUNCTIONS\n",
    "# # =============================\n",
    "# def load_full_trial(row):\n",
    "#     \"\"\"Load complete trial data with all columns\"\"\"\n",
    "#     try:\n",
    "#         # Determine dataset split\n",
    "#         id_num = row['id']\n",
    "#         if id_num <= 4800:\n",
    "#             split = 'train'\n",
    "#         elif id_num <= 4900:\n",
    "#             split = 'validation'\n",
    "#         else:\n",
    "#             split = 'test'\n",
    "        \n",
    "#         # Build file path\n",
    "#         eeg_path = f\"{BASE_PATH}/{row['task']}/{split}/{row['subject_id']}/{row['trial_session']}/EEGdata.csv\"\n",
    "        \n",
    "#         # Load EEG data\n",
    "#         full_data = pd.read_csv(eeg_path)\n",
    "        \n",
    "#         # Calculate trial indices\n",
    "#         trial_duration = 2250 if row['task'] == 'MI' else 1750\n",
    "#         start_idx = (row['trial'] - 1) * trial_duration\n",
    "#         end_idx = start_idx + trial_duration\n",
    "        \n",
    "#         # Handle short trials\n",
    "#         if end_idx > len(full_data):\n",
    "#             end_idx = len(full_data)\n",
    "#             if end_idx <= start_idx:\n",
    "#                 raise ValueError(f\"Invalid trial range: {start_idx}-{end_idx}\")\n",
    "        \n",
    "#         return full_data.iloc[start_idx:end_idx].copy()\n",
    "    \n",
    "#     except Exception as e:\n",
    "#         print(f\"Error loading trial {row['id']}: {str(e)}\")\n",
    "#         raise\n",
    "\n",
    "# def save_preprocessed_data(preprocessed_data, row):\n",
    "#     \"\"\"Save preprocessed data to organized directory structure\"\"\"\n",
    "#     # Determine dataset split\n",
    "#     id_num = row['id']\n",
    "#     if id_num <= 4800:\n",
    "#         split = 'train'\n",
    "#     elif id_num <= 4900:\n",
    "#         split = 'validation'\n",
    "#     else:\n",
    "#         split = 'test'\n",
    "    \n",
    "#     # Create output directory\n",
    "#     output_dir = f\"{PREPROCESSED_PATH}/{row['task']}/{split}/{row['subject_id']}/{row['trial_session']}/\"\n",
    "#     os.makedirs(output_dir, exist_ok=True)\n",
    "    \n",
    "#     # Save as compressed numpy file\n",
    "#     output_path = f\"{output_dir}/trial_{row['trial']}.npz\"\n",
    "#     np.savez_compressed(output_path, data=preprocessed_data.values)\n",
    "    \n",
    "#     return output_path\n",
    "\n",
    "# # =============================\n",
    "# # QUALITY-CONTROLLED PREPROCESSING\n",
    "# # =============================\n",
    "# def remove_line_noise(data, f0=50, harmonics=3):\n",
    "#     \"\"\"Adaptive multi-notch filtering with phase correction\"\"\"\n",
    "#     filtered = data.copy()\n",
    "#     n_samples = len(data)\n",
    "    \n",
    "#     for n in range(1, harmonics + 1):\n",
    "#         freq = n * f0\n",
    "#         if freq < FS/2.1:\n",
    "#             Q = 35 if n == 1 else 25\n",
    "#             b, a = signal.iirnotch(freq, Q, FS)\n",
    "#             filtered = signal.filtfilt(b, a, filtered, axis=0)\n",
    "    \n",
    "#     return filtered\n",
    "\n",
    "# def preprocess_trial(trial_data, task, trial_id=None):\n",
    "#     \"\"\"Quality-controlled preprocessing with artifact rejection\"\"\"\n",
    "#     try:\n",
    "#         # 1. Convert nV to μV\n",
    "#         eeg_data = trial_data[EEG_CHANNELS].copy() / 1000\n",
    "        \n",
    "#         # 2. Extract validation flags and motion sensors\n",
    "#         validation_flags = trial_data['Validation'].values if 'Validation' in trial_data else None\n",
    "#         motion_data = trial_data[MOTION_SENSORS].copy() if all(col in trial_data for col in MOTION_SENSORS) else None\n",
    "        \n",
    "#         # 3. Remove DC offset using median\n",
    "#         eeg_data = eeg_data - np.median(eeg_data, axis=0)\n",
    "        \n",
    "#         # 4. Create combined artifact mask\n",
    "#         artifact_mask = np.zeros(len(eeg_data), dtype=bool)\n",
    "#         artifact_counts = {'validation': 0, 'clipping': 0, 'motion': 0}\n",
    "        \n",
    "#         # Handle validation flags - only mark explicit invalid points\n",
    "#         if validation_flags is not None:\n",
    "#             validation_artifacts = (validation_flags == 0)\n",
    "#             artifact_mask |= validation_artifacts\n",
    "#             artifact_counts['validation'] = int(np.sum(validation_artifacts))  # Convert to int\n",
    "        \n",
    "#         # Optimized clipping detection\n",
    "#         def detect_clipping(channel_data):\n",
    "#             \"\"\"Less aggressive clipping detection\"\"\"\n",
    "#             # Find flat segments (consecutive identical values)\n",
    "#             diff = np.diff(channel_data, prepend=channel_data[0])\n",
    "#             flat_points = (np.abs(diff) < 1e-4)\n",
    "            \n",
    "#             # Find extreme values (only top/bottom 1% of range)\n",
    "#             data_range = np.max(channel_data) - np.min(channel_data)\n",
    "#             if data_range < 1e-5:  # Avoid division by zero for flat channels\n",
    "#                 return np.zeros_like(channel_data, dtype=bool)\n",
    "                \n",
    "#             extreme_threshold = 0.01 * data_range\n",
    "#             top_extreme = channel_data > (np.max(channel_data) - extreme_threshold)\n",
    "#             bottom_extreme = channel_data < (np.min(channel_data) + extreme_threshold)\n",
    "            \n",
    "#             # Only mark as clipping if flat AND extreme\n",
    "#             return flat_points & (top_extreme | bottom_extreme)\n",
    "        \n",
    "#         # Apply clipping detection per channel\n",
    "#         clipping_mask = np.zeros(len(eeg_data), dtype=bool)\n",
    "#         for channel in EEG_CHANNELS:\n",
    "#             channel_mask = detect_clipping(eeg_data[channel].values)\n",
    "#             clipping_mask |= channel_mask\n",
    "        \n",
    "#         artifact_mask |= clipping_mask\n",
    "#         artifact_counts['clipping'] = int(np.sum(clipping_mask))  # Convert to int\n",
    "        \n",
    "#         # Motion artifact detection - less sensitive\n",
    "#         if motion_data is not None and not motion_data.empty:\n",
    "#             # Compute motion magnitude\n",
    "#             acc_mag = np.sqrt(motion_data[['AccX', 'AccY', 'AccZ']].pow(2).sum(axis=1))\n",
    "#             gyro_mag = np.sqrt(motion_data[['Gyro1', 'Gyro2', 'Gyro3']].pow(2).sum(axis=1))\n",
    "#             motion_index = acc_mag + gyro_mag\n",
    "            \n",
    "#             # Only detect motion if there's variation\n",
    "#             if motion_index.nunique() > 1:\n",
    "#                 # Use percentiles instead of z-scores\n",
    "#                 upper_quartile = np.percentile(motion_index, 75)\n",
    "#                 lower_quartile = np.percentile(motion_index, 25)\n",
    "#                 iqr = upper_quartile - lower_quartile\n",
    "                \n",
    "#                 # Higher threshold for motion detection\n",
    "#                 motion_threshold = upper_quartile + 3 * iqr\n",
    "#                 motion_artifacts = motion_index > motion_threshold\n",
    "                \n",
    "#                 artifact_mask |= motion_artifacts\n",
    "#                 artifact_counts['motion'] = int(np.sum(motion_artifacts))  # Convert to int\n",
    "        \n",
    "#         # Calculate artifact percentage\n",
    "#         total_artifacts = np.sum(artifact_mask)\n",
    "#         artifact_percent = total_artifacts / len(artifact_mask) * 100\n",
    "        \n",
    "#         # ===== QUALITY CONTROL =====\n",
    "#         # Reject severely contaminated trials\n",
    "#         if artifact_percent > ARTIFACT_REJECTION_THRESHOLD:\n",
    "#             if trial_id:\n",
    "#                 print(f\"REJECTING trial {trial_id}: {artifact_percent:.1f}% artifacts\")\n",
    "#             return None, artifact_percent, artifact_counts\n",
    "        \n",
    "#         # Log artifact statistics\n",
    "#         if trial_id:\n",
    "#             print(f\"Trial {trial_id}: Artifacts - {artifact_percent:.1f}% \"\n",
    "#                   f\"(Validation: {artifact_counts['validation']}, \"\n",
    "#                   f\"Clipping: {artifact_counts['clipping']}, \"\n",
    "#                   f\"Motion: {artifact_counts['motion']})\")\n",
    "        \n",
    "#         # Expand artifact regions conservatively\n",
    "#         expanded_mask = artifact_mask.copy()\n",
    "#         artifact_indices = np.where(artifact_mask)[0]\n",
    "        \n",
    "#         if len(artifact_indices) > 0:\n",
    "#             # Only expand by 50ms (12 samples) instead of 100ms\n",
    "#             for i in artifact_indices:\n",
    "#                 start = max(0, i - 12)\n",
    "#                 end = min(len(artifact_mask), i + 13)\n",
    "#                 expanded_mask[start:end] = True\n",
    "        \n",
    "#         # 5. Apply artifact mask with validation\n",
    "#         valid_mask = ~expanded_mask\n",
    "#         x = np.arange(len(eeg_data))\n",
    "        \n",
    "#         # Ensure there are enough valid points\n",
    "#         min_valid_points = max(50, int(0.1 * len(eeg_data)))  # At least 50 points or 10% of trial\n",
    "        \n",
    "#         if np.sum(valid_mask) < min_valid_points:\n",
    "#             # Use fallback: mark as valid unless explicitly invalid\n",
    "#             valid_mask = ~artifact_mask  # Only original artifacts\n",
    "#             if np.sum(valid_mask) < min_valid_points:\n",
    "#                 valid_mask = np.ones(len(eeg_data), dtype=bool)\n",
    "#                 if trial_id:\n",
    "#                     print(f\"Warning: Limited valid points in trial {trial_id}. Using all points\")\n",
    "        \n",
    "#         # Apply interpolation per channel\n",
    "#         for channel in EEG_CHANNELS:\n",
    "#             channel_data = eeg_data[channel].values\n",
    "#             eeg_data[channel] = np.interp(x, x[valid_mask], channel_data[valid_mask])\n",
    "        \n",
    "#         # 6. Enhanced Line Noise Removal\n",
    "#         eeg_values = remove_line_noise(eeg_data.values)\n",
    "#         eeg_data = pd.DataFrame(eeg_values, columns=EEG_CHANNELS)\n",
    "        \n",
    "#         # 7. ERD Preservation\n",
    "#         sos_bp = signal.butter(3, [4, 40], btype='bandpass', output='sos', fs=FS)\n",
    "#         filtered = signal.sosfiltfilt(sos_bp, eeg_data.values, axis=0)\n",
    "        \n",
    "#         # 8. Motion artifact handling with ICA (only when significant motion artifacts detected)\n",
    "#         if motion_data is not None and not motion_data.empty and artifact_counts['motion'] > 50:\n",
    "#             try:\n",
    "#                 ica = FastICA(n_components=len(EEG_CHANNELS), random_state=0, max_iter=500)\n",
    "#                 ica_sources = ica.fit_transform(filtered)\n",
    "                \n",
    "#                 # Compute motion index\n",
    "#                 acc_mag = np.sqrt(motion_data[['AccX', 'AccY', 'AccZ']].pow(2).sum(axis=1))\n",
    "#                 gyro_mag = np.sqrt(motion_data[['Gyro1', 'Gyro2', 'Gyro3']].pow(2).sum(axis=1))\n",
    "#                 motion_index = acc_mag + gyro_mag\n",
    "                \n",
    "#                 # Identify motion-correlated components\n",
    "#                 motion_corr = np.zeros(ica_sources.shape[1])\n",
    "#                 for i in range(ica_sources.shape[1]):\n",
    "#                     corr = np.corrcoef(np.abs(ica_sources[:, i]), np.abs(motion_index))[0, 1]\n",
    "#                     motion_corr[i] = np.abs(corr)\n",
    "                \n",
    "#                 # Remove only strongly correlated components\n",
    "#                 motion_components = motion_corr > 0.7\n",
    "#                 if np.any(motion_components):\n",
    "#                     ica_sources[:, motion_components] = 0\n",
    "#                     filtered = ica.inverse_transform(ica_sources)\n",
    "#             except Exception as e:\n",
    "#                 if trial_id:\n",
    "#                     print(f\"ICA skipped in trial {trial_id}: {str(e)}\")\n",
    "        \n",
    "#         # 9. Final output\n",
    "#         eeg_data = pd.DataFrame(filtered, columns=EEG_CHANNELS)\n",
    "        \n",
    "#         return eeg_data, artifact_percent, artifact_counts\n",
    "    \n",
    "#     except Exception as e:\n",
    "#         print(f\"Error during preprocessing trial {trial_id}: {str(e)}\")\n",
    "#         traceback.print_exc()\n",
    "#         return None, None, None\n",
    "\n",
    "# # =============================\n",
    "# # PIPELINE EXECUTION WITH QUALITY TRACKING\n",
    "# # =============================\n",
    "# def preprocess_dataset(df, dataset_name):\n",
    "#     \"\"\"Preprocess entire dataset with quality tracking\"\"\"\n",
    "#     print(f\"Preprocessing {dataset_name} set with {len(df)} trials...\")\n",
    "    \n",
    "#     processed_paths = []\n",
    "#     artifact_percentages = []\n",
    "#     artifact_reports = []\n",
    "#     rejected_trials = []\n",
    "#     error_trials = []\n",
    "    \n",
    "#     for idx, row in df.iterrows():\n",
    "#         trial_id = int(row['id'])  # Convert to native Python int\n",
    "#         try:\n",
    "#             # Load full trial data\n",
    "#             trial_data = load_full_trial(row)\n",
    "            \n",
    "#             # Apply preprocessing pipeline\n",
    "#             preprocessed, artifact_percent, artifact_counts = preprocess_trial(\n",
    "#                 trial_data, row['task'], trial_id=trial_id\n",
    "#             )\n",
    "            \n",
    "#             # Create artifact report\n",
    "#             report_entry = {\n",
    "#                 'trial_id': trial_id,\n",
    "#             }\n",
    "            \n",
    "#             # Track artifact metrics\n",
    "#             if artifact_percent is not None:\n",
    "#                 artifact_percentages.append(float(artifact_percent))  # Convert to float\n",
    "#                 report_entry['artifact_percent'] = float(artifact_percent)\n",
    "            \n",
    "#             if artifact_counts is not None:\n",
    "#                 # Convert counts to native Python integers\n",
    "#                 report_entry['artifact_counts'] = {k: int(v) for k, v in artifact_counts.items()}\n",
    "            \n",
    "#             artifact_reports.append(report_entry)\n",
    "            \n",
    "#             # Handle rejected trials\n",
    "#             if preprocessed is None and artifact_percent is not None:\n",
    "#                 processed_paths.append(None)\n",
    "#                 rejected_trials.append(trial_id)\n",
    "#                 continue\n",
    "                \n",
    "#             # Handle processing errors\n",
    "#             if preprocessed is None:\n",
    "#                 processed_paths.append(None)\n",
    "#                 error_trials.append(trial_id)\n",
    "#                 continue\n",
    "                \n",
    "#             # Save processed data\n",
    "#             output_path = save_preprocessed_data(preprocessed, row)\n",
    "#             processed_paths.append(output_path)\n",
    "            \n",
    "#             # Print progress\n",
    "#             if (idx + 1) % 100 == 0:\n",
    "#                 print(f\"Processed {idx+1}/{len(df)} trials\")\n",
    "                \n",
    "#         except Exception as e:\n",
    "#             print(f\"Error processing trial {trial_id}: {str(e)}\")\n",
    "#             processed_paths.append(None)\n",
    "#             error_trials.append(trial_id)\n",
    "#             artifact_reports.append({\n",
    "#                 'trial_id': trial_id,\n",
    "#                 'error': str(e)\n",
    "#             })\n",
    "    \n",
    "#     # Add paths to dataframe\n",
    "#     df['processed_path'] = processed_paths\n",
    "    \n",
    "#     # Save updated dataframe\n",
    "#     df.to_csv(f\"{PREPROCESSED_PATH}/{dataset_name}.csv\", index=False)\n",
    "    \n",
    "#     # Calculate statistics\n",
    "#     processed_count = len([p for p in processed_paths if p is not None])\n",
    "#     rejected_count = len(rejected_trials)\n",
    "#     error_count = len(error_trials)\n",
    "#     valid_artifact_percentages = [p for p in artifact_percentages if not np.isnan(p)]\n",
    "    \n",
    "#     # Save quality report\n",
    "#     quality_report = {\n",
    "#         'dataset': dataset_name,\n",
    "#         'total_trials': len(df),\n",
    "#         'processed_trials': processed_count,\n",
    "#         'rejected_trials': rejected_trials,\n",
    "#         'error_trials': error_trials,\n",
    "#         'rejection_rate': rejected_count / len(df) * 100,\n",
    "#         'error_rate': error_count / len(df) * 100,\n",
    "#         'mean_artifact_percent': float(np.mean(valid_artifact_percentages)) if valid_artifact_percentages else 0,\n",
    "#         'median_artifact_percent': float(np.median(valid_artifact_percentages)) if valid_artifact_percentages else 0,\n",
    "#         'artifact_reports': artifact_reports\n",
    "#     }\n",
    "    \n",
    "#     # Save with native Python types\n",
    "#     with open(f\"{PREPROCESSED_PATH}/{dataset_name}_quality.json\", 'w') as f:\n",
    "#         json.dump(quality_report, f, indent=2, default=str)\n",
    "    \n",
    "#     # Print summary\n",
    "#     print(f\"\\n===== {dataset_name.upper()} SET SUMMARY =====\")\n",
    "#     print(f\"Total trials: {len(df)}\")\n",
    "#     print(f\"Successfully processed: {processed_count} ({processed_count/len(df)*100:.1f}%)\")\n",
    "#     print(f\"Rejected trials: {rejected_count} ({rejected_count/len(df)*100:.1f}%)\")\n",
    "#     print(f\"Error trials: {error_count} ({error_count/len(df)*100:.1f}%)\")\n",
    "#     if valid_artifact_percentages:\n",
    "#         print(f\"Average artifact percentage: {np.mean(valid_artifact_percentages):.1f}%\")\n",
    "#         print(f\"Median artifact percentage: {np.median(valid_artifact_percentages):.1f}%\")\n",
    "    \n",
    "#     return df\n",
    "\n",
    "# # =============================\n",
    "# # MAIN EXECUTION\n",
    "# # =============================\n",
    "# if __name__ == \"__main__\":\n",
    "#     # Create output directory\n",
    "#     os.makedirs(PREPROCESSED_PATH, exist_ok=True)\n",
    "    \n",
    "#     # Load datasets\n",
    "#     train_df = pd.read_csv(os.path.join(BASE_PATH, 'train.csv'))\n",
    "#     val_df = pd.read_csv(os.path.join(BASE_PATH, 'validation.csv'))\n",
    "#     test_df = pd.read_csv(os.path.join(BASE_PATH, 'test.csv'))\n",
    "    \n",
    "#     # Preprocess all datasets\n",
    "#     print(\"Starting quality-controlled preprocessing...\")\n",
    "#     print(f\"Rejection threshold: >{ARTIFACT_REJECTION_THRESHOLD}% artifacts\\n\")\n",
    "    \n",
    "#     print(\"=== PROCESSING TRAINING SET ===\")\n",
    "#     train_df = preprocess_dataset(train_df, 'train')\n",
    "    \n",
    "#     print(\"\\n=== PROCESSING VALIDATION SET ===\")\n",
    "#     val_df = preprocess_dataset(val_df, 'validation')\n",
    "    \n",
    "#     print(\"\\n=== PROCESSING TEST SET ===\")\n",
    "#     test_df = preprocess_dataset(test_df, 'test')\n",
    "    \n",
    "#     # Save final metadata\n",
    "#     train_df.to_csv(os.path.join(PREPROCESSED_PATH, 'train.csv'), index=False)\n",
    "#     val_df.to_csv(os.path.join(PREPROCESSED_PATH, 'validation.csv'), index=False)\n",
    "#     test_df.to_csv(os.path.join(PREPROCESSED_PATH, 'test.csv'), index=False)\n",
    "    \n",
    "#     # Final summary\n",
    "#     total_trials = len(train_df) + len(val_df) + len(test_df)\n",
    "#     total_processed = (\n",
    "#         sum(1 for p in train_df['processed_path'] if p is not None) +\n",
    "#         sum(1 for p in val_df['processed_path'] if p is not None) +\n",
    "#         sum(1 for p in test_df['processed_path'] if p is not None)\n",
    "#     )\n",
    "    \n",
    "#     print(\"\\n===== FINAL SUMMARY =====\")\n",
    "#     print(f\"Total trials in dataset: {total_trials}\")\n",
    "#     print(f\"Successfully processed: {total_processed} ({total_processed/total_trials*100:.1f}%)\")\n",
    "#     print(f\"Rejection threshold: >{ARTIFACT_REJECTION_THRESHOLD}% artifacts\")\n",
    "#     print(\"\\nPreprocessing complete! Data saved to:\", PREPROCESSED_PATH)\n",
    "#     print(\"Quality reports available for each dataset:\")\n",
    "#     print(\"- train_quality.json\")\n",
    "#     print(\"- validation_quality.json\")\n",
    "#     print(\"- test_quality.json\")\n",
    "    \n",
    "#     print(\"\\nTo analyze results:\")\n",
    "#     print(\"import json, pandas as pd\")\n",
    "#     print(\"report = json.load(open('./quality_controlled_preprocessed/train_quality.json'))\")\n",
    "#     print(\"print(f\\\"Rejected trials: {len(report['rejected_trials'])}\\\")\")\n",
    "#     print(\"print(f\\\"Error trials: {len(report['error_trials'])}\\\")\")"
   ]
  },
  {
   "cell_type": "code",
   "execution_count": null,
   "id": "441038b1",
   "metadata": {
    "papermill": {
     "duration": 0.002413,
     "end_time": "2025-06-25T06:27:20.335651",
     "exception": false,
     "start_time": "2025-06-25T06:27:20.333238",
     "status": "completed"
    },
    "tags": []
   },
   "outputs": [],
   "source": []
  },
  {
   "cell_type": "code",
   "execution_count": 2,
   "id": "54e1c7ec",
   "metadata": {
    "execution": {
     "iopub.execute_input": "2025-06-25T06:27:20.342196Z",
     "iopub.status.busy": "2025-06-25T06:27:20.341874Z",
     "iopub.status.idle": "2025-06-25T06:40:30.849620Z",
     "shell.execute_reply": "2025-06-25T06:40:30.848503Z"
    },
    "papermill": {
     "duration": 790.513233,
     "end_time": "2025-06-25T06:40:30.851271",
     "exception": false,
     "start_time": "2025-06-25T06:27:20.338038",
     "status": "completed"
    },
    "tags": []
   },
   "outputs": [
    {
     "name": "stdout",
     "output_type": "stream",
     "text": [
      "Starting quality-controlled preprocessing...\n",
      "Rejection threshold: >25% artifacts\n",
      "\n",
      "=== PROCESSING TRAINING SET ===\n",
      "Preprocessing train set with 4800 trials...\n",
      "Trial 1: Artifacts - 7.4% (Validation: 72, Clipping: 0, Motion: 95)\n"
     ]
    },
    {
     "name": "stderr",
     "output_type": "stream",
     "text": [
      "/usr/local/lib/python3.11/dist-packages/sklearn/decomposition/_fastica.py:542: FutureWarning: Starting in v1.3, whiten='unit-variance' will be used by default.\n",
      "  warnings.warn(\n"
     ]
    },
    {
     "name": "stdout",
     "output_type": "stream",
     "text": [
      "Trial 2: Artifacts - 0.0% (Validation: 0, Clipping: 0, Motion: 0)\n",
      "Trial 3: Artifacts - 0.0% (Validation: 0, Clipping: 0, Motion: 0)\n",
      "Trial 4: Artifacts - 0.0% (Validation: 0, Clipping: 0, Motion: 0)\n",
      "Trial 5: Artifacts - 0.0% (Validation: 0, Clipping: 0, Motion: 0)\n",
      "Trial 6: Artifacts - 4.9% (Validation: 70, Clipping: 0, Motion: 95)\n"
     ]
    },
    {
     "name": "stderr",
     "output_type": "stream",
     "text": [
      "/usr/local/lib/python3.11/dist-packages/sklearn/decomposition/_fastica.py:542: FutureWarning: Starting in v1.3, whiten='unit-variance' will be used by default.\n",
      "  warnings.warn(\n"
     ]
    },
    {
     "name": "stdout",
     "output_type": "stream",
     "text": [
      "Trial 7: Artifacts - 6.0% (Validation: 0, Clipping: 0, Motion: 134)\n"
     ]
    },
    {
     "name": "stderr",
     "output_type": "stream",
     "text": [
      "/usr/local/lib/python3.11/dist-packages/sklearn/decomposition/_fastica.py:542: FutureWarning: Starting in v1.3, whiten='unit-variance' will be used by default.\n",
      "  warnings.warn(\n"
     ]
    },
    {
     "name": "stdout",
     "output_type": "stream",
     "text": [
      "Trial 8: Artifacts - 2.7% (Validation: 0, Clipping: 0, Motion: 61)\n"
     ]
    },
    {
     "name": "stderr",
     "output_type": "stream",
     "text": [
      "/usr/local/lib/python3.11/dist-packages/sklearn/decomposition/_fastica.py:542: FutureWarning: Starting in v1.3, whiten='unit-variance' will be used by default.\n",
      "  warnings.warn(\n"
     ]
    },
    {
     "name": "stdout",
     "output_type": "stream",
     "text": [
      "Trial 9: Artifacts - 0.0% (Validation: 0, Clipping: 0, Motion: 0)\n",
      "Trial 10: Artifacts - 2.9% (Validation: 0, Clipping: 0, Motion: 65)\n"
     ]
    },
    {
     "name": "stderr",
     "output_type": "stream",
     "text": [
      "/usr/local/lib/python3.11/dist-packages/sklearn/decomposition/_fastica.py:542: FutureWarning: Starting in v1.3, whiten='unit-variance' will be used by default.\n",
      "  warnings.warn(\n"
     ]
    },
    {
     "name": "stdout",
     "output_type": "stream",
     "text": [
      "Trial 11: Artifacts - 13.2% (Validation: 0, Clipping: 1, Motion: 297)\n"
     ]
    },
    {
     "name": "stderr",
     "output_type": "stream",
     "text": [
      "/usr/local/lib/python3.11/dist-packages/sklearn/decomposition/_fastica.py:542: FutureWarning: Starting in v1.3, whiten='unit-variance' will be used by default.\n",
      "  warnings.warn(\n"
     ]
    },
    {
     "name": "stdout",
     "output_type": "stream",
     "text": [
      "Trial 12: Artifacts - 0.0% (Validation: 0, Clipping: 1, Motion: 0)\n",
      "Trial 13: Artifacts - 0.0% (Validation: 0, Clipping: 1, Motion: 0)\n",
      "Trial 14: Artifacts - 0.0% (Validation: 0, Clipping: 1, Motion: 0)\n",
      "Trial 15: Artifacts - 0.0% (Validation: 0, Clipping: 1, Motion: 0)\n",
      "Trial 16: Artifacts - 7.5% (Validation: 101, Clipping: 1, Motion: 66)\n"
     ]
    },
    {
     "name": "stderr",
     "output_type": "stream",
     "text": [
      "/usr/local/lib/python3.11/dist-packages/sklearn/decomposition/_fastica.py:542: FutureWarning: Starting in v1.3, whiten='unit-variance' will be used by default.\n",
      "  warnings.warn(\n"
     ]
    },
    {
     "name": "stdout",
     "output_type": "stream",
     "text": [
      "Trial 17: Artifacts - 0.0% (Validation: 0, Clipping: 1, Motion: 0)\n",
      "Trial 18: Artifacts - 0.0% (Validation: 0, Clipping: 1, Motion: 0)\n",
      "Trial 19: Artifacts - 0.0% (Validation: 0, Clipping: 0, Motion: 0)\n",
      "Trial 20: Artifacts - 0.0% (Validation: 0, Clipping: 0, Motion: 0)\n",
      "Trial 21: Artifacts - 5.7% (Validation: 0, Clipping: 0, Motion: 128)\n"
     ]
    },
    {
     "name": "stderr",
     "output_type": "stream",
     "text": [
      "/usr/local/lib/python3.11/dist-packages/sklearn/decomposition/_fastica.py:542: FutureWarning: Starting in v1.3, whiten='unit-variance' will be used by default.\n",
      "  warnings.warn(\n"
     ]
    },
    {
     "name": "stdout",
     "output_type": "stream",
     "text": [
      "Trial 22: Artifacts - 0.0% (Validation: 0, Clipping: 0, Motion: 0)\n",
      "Trial 23: Artifacts - 0.0% (Validation: 0, Clipping: 0, Motion: 0)\n",
      "Trial 24: Artifacts - 8.8% (Validation: 199, Clipping: 74, Motion: 0)\n",
      "Trial 25: Artifacts - 4.4% (Validation: 0, Clipping: 0, Motion: 98)\n"
     ]
    },
    {
     "name": "stderr",
     "output_type": "stream",
     "text": [
      "/usr/local/lib/python3.11/dist-packages/sklearn/decomposition/_fastica.py:542: FutureWarning: Starting in v1.3, whiten='unit-variance' will be used by default.\n",
      "  warnings.warn(\n"
     ]
    },
    {
     "name": "stdout",
     "output_type": "stream",
     "text": [
      "Trial 26: Artifacts - 0.0% (Validation: 0, Clipping: 1, Motion: 0)\n",
      "Trial 27: Artifacts - 0.0% (Validation: 0, Clipping: 1, Motion: 0)\n",
      "Trial 28: Artifacts - 0.0% (Validation: 0, Clipping: 1, Motion: 0)\n",
      "Trial 29: Artifacts - 2.5% (Validation: 0, Clipping: 0, Motion: 57)\n"
     ]
    },
    {
     "name": "stderr",
     "output_type": "stream",
     "text": [
      "/usr/local/lib/python3.11/dist-packages/sklearn/decomposition/_fastica.py:542: FutureWarning: Starting in v1.3, whiten='unit-variance' will be used by default.\n",
      "  warnings.warn(\n"
     ]
    },
    {
     "name": "stdout",
     "output_type": "stream",
     "text": [
      "Trial 30: Artifacts - 0.0% (Validation: 0, Clipping: 0, Motion: 0)\n",
      "Trial 31: Artifacts - 10.1% (Validation: 0, Clipping: 1, Motion: 228)\n"
     ]
    },
    {
     "name": "stderr",
     "output_type": "stream",
     "text": [
      "/usr/local/lib/python3.11/dist-packages/sklearn/decomposition/_fastica.py:542: FutureWarning: Starting in v1.3, whiten='unit-variance' will be used by default.\n",
      "  warnings.warn(\n"
     ]
    },
    {
     "name": "stdout",
     "output_type": "stream",
     "text": [
      "Trial 32: Artifacts - 4.2% (Validation: 95, Clipping: 0, Motion: 0)\n",
      "Trial 33: Artifacts - 0.0% (Validation: 0, Clipping: 0, Motion: 0)\n",
      "Trial 34: Artifacts - 0.0% (Validation: 0, Clipping: 0, Motion: 0)\n",
      "Trial 35: Artifacts - 6.5% (Validation: 0, Clipping: 0, Motion: 146)\n"
     ]
    },
    {
     "name": "stderr",
     "output_type": "stream",
     "text": [
      "/usr/local/lib/python3.11/dist-packages/sklearn/decomposition/_fastica.py:542: FutureWarning: Starting in v1.3, whiten='unit-variance' will be used by default.\n",
      "  warnings.warn(\n"
     ]
    },
    {
     "name": "stdout",
     "output_type": "stream",
     "text": [
      "Trial 36: Artifacts - 0.0% (Validation: 0, Clipping: 0, Motion: 0)\n",
      "Trial 37: Artifacts - 3.4% (Validation: 77, Clipping: 0, Motion: 0)\n",
      "Trial 38: Artifacts - 0.0% (Validation: 0, Clipping: 0, Motion: 0)\n",
      "Trial 39: Artifacts - 0.0% (Validation: 0, Clipping: 1, Motion: 0)\n",
      "Trial 40: Artifacts - 5.3% (Validation: 83, Clipping: 0, Motion: 37)\n",
      "Trial 41: Artifacts - 16.4% (Validation: 74, Clipping: 0, Motion: 296)\n"
     ]
    },
    {
     "name": "stderr",
     "output_type": "stream",
     "text": [
      "/usr/local/lib/python3.11/dist-packages/sklearn/decomposition/_fastica.py:542: FutureWarning: Starting in v1.3, whiten='unit-variance' will be used by default.\n",
      "  warnings.warn(\n"
     ]
    },
    {
     "name": "stdout",
     "output_type": "stream",
     "text": [
      "Trial 42: Artifacts - 0.0% (Validation: 0, Clipping: 0, Motion: 0)\n",
      "Trial 43: Artifacts - 0.1% (Validation: 0, Clipping: 1, Motion: 1)\n",
      "Trial 44: Artifacts - 10.7% (Validation: 70, Clipping: 53, Motion: 169)\n"
     ]
    },
    {
     "name": "stderr",
     "output_type": "stream",
     "text": [
      "/usr/local/lib/python3.11/dist-packages/sklearn/decomposition/_fastica.py:542: FutureWarning: Starting in v1.3, whiten='unit-variance' will be used by default.\n",
      "  warnings.warn(\n"
     ]
    },
    {
     "name": "stdout",
     "output_type": "stream",
     "text": [
      "Trial 45: Artifacts - 0.5% (Validation: 0, Clipping: 0, Motion: 11)\n",
      "Trial 46: Artifacts - 0.0% (Validation: 0, Clipping: 0, Motion: 0)\n",
      "Trial 47: Artifacts - 0.0% (Validation: 0, Clipping: 0, Motion: 0)\n",
      "Trial 48: Artifacts - 0.0% (Validation: 0, Clipping: 0, Motion: 0)\n",
      "Trial 49: Artifacts - 0.0% (Validation: 0, Clipping: 0, Motion: 1)\n",
      "Trial 50: Artifacts - 0.0% (Validation: 0, Clipping: 0, Motion: 0)\n",
      "Trial 51: Artifacts - 6.9% (Validation: 0, Clipping: 0, Motion: 156)\n"
     ]
    },
    {
     "name": "stderr",
     "output_type": "stream",
     "text": [
      "/usr/local/lib/python3.11/dist-packages/sklearn/decomposition/_fastica.py:542: FutureWarning: Starting in v1.3, whiten='unit-variance' will be used by default.\n",
      "  warnings.warn(\n"
     ]
    },
    {
     "name": "stdout",
     "output_type": "stream",
     "text": [
      "Trial 52: Artifacts - 0.0% (Validation: 0, Clipping: 1, Motion: 0)\n",
      "Trial 53: Artifacts - 0.0% (Validation: 0, Clipping: 0, Motion: 0)\n",
      "Trial 54: Artifacts - 8.4% (Validation: 0, Clipping: 0, Motion: 190)\n"
     ]
    },
    {
     "name": "stderr",
     "output_type": "stream",
     "text": [
      "/usr/local/lib/python3.11/dist-packages/sklearn/decomposition/_fastica.py:542: FutureWarning: Starting in v1.3, whiten='unit-variance' will be used by default.\n",
      "  warnings.warn(\n"
     ]
    },
    {
     "name": "stdout",
     "output_type": "stream",
     "text": [
      "Trial 55: Artifacts - 6.6% (Validation: 0, Clipping: 0, Motion: 148)\n"
     ]
    },
    {
     "name": "stderr",
     "output_type": "stream",
     "text": [
      "/usr/local/lib/python3.11/dist-packages/sklearn/decomposition/_fastica.py:542: FutureWarning: Starting in v1.3, whiten='unit-variance' will be used by default.\n",
      "  warnings.warn(\n"
     ]
    },
    {
     "name": "stdout",
     "output_type": "stream",
     "text": [
      "Trial 56: Artifacts - 1.9% (Validation: 0, Clipping: 0, Motion: 43)\n",
      "Trial 57: Artifacts - 0.0% (Validation: 0, Clipping: 0, Motion: 0)\n",
      "Trial 58: Artifacts - 0.3% (Validation: 0, Clipping: 0, Motion: 6)\n",
      "Trial 59: Artifacts - 3.7% (Validation: 84, Clipping: 48, Motion: 0)\n",
      "Trial 60: Artifacts - 0.0% (Validation: 0, Clipping: 1, Motion: 0)\n",
      "Trial 61: Artifacts - 4.9% (Validation: 92, Clipping: 1, Motion: 17)\n",
      "Trial 62: Artifacts - 6.3% (Validation: 73, Clipping: 0, Motion: 69)\n"
     ]
    },
    {
     "name": "stderr",
     "output_type": "stream",
     "text": [
      "/usr/local/lib/python3.11/dist-packages/sklearn/decomposition/_fastica.py:542: FutureWarning: Starting in v1.3, whiten='unit-variance' will be used by default.\n",
      "  warnings.warn(\n"
     ]
    },
    {
     "name": "stdout",
     "output_type": "stream",
     "text": [
      "Trial 63: Artifacts - 2.3% (Validation: 0, Clipping: 1, Motion: 50)\n",
      "Trial 64: Artifacts - 3.6% (Validation: 80, Clipping: 14, Motion: 0)\n",
      "Trial 65: Artifacts - 4.0% (Validation: 89, Clipping: 53, Motion: 0)\n",
      "Trial 66: Artifacts - 0.0% (Validation: 0, Clipping: 1, Motion: 0)\n",
      "Trial 67: Artifacts - 1.0% (Validation: 0, Clipping: 1, Motion: 21)\n",
      "Trial 68: Artifacts - 6.7% (Validation: 0, Clipping: 0, Motion: 151)\n"
     ]
    },
    {
     "name": "stderr",
     "output_type": "stream",
     "text": [
      "/usr/local/lib/python3.11/dist-packages/sklearn/decomposition/_fastica.py:542: FutureWarning: Starting in v1.3, whiten='unit-variance' will be used by default.\n",
      "  warnings.warn(\n"
     ]
    },
    {
     "name": "stdout",
     "output_type": "stream",
     "text": [
      "Trial 69: Artifacts - 0.0% (Validation: 0, Clipping: 0, Motion: 0)\n",
      "Trial 70: Artifacts - 4.0% (Validation: 71, Clipping: 17, Motion: 18)\n",
      "Trial 71: Artifacts - 16.4% (Validation: 0, Clipping: 1, Motion: 368)\n"
     ]
    },
    {
     "name": "stderr",
     "output_type": "stream",
     "text": [
      "/usr/local/lib/python3.11/dist-packages/sklearn/decomposition/_fastica.py:542: FutureWarning: Starting in v1.3, whiten='unit-variance' will be used by default.\n",
      "  warnings.warn(\n"
     ]
    },
    {
     "name": "stdout",
     "output_type": "stream",
     "text": [
      "Trial 72: Artifacts - 0.1% (Validation: 0, Clipping: 0, Motion: 2)\n",
      "Trial 73: Artifacts - 0.0% (Validation: 0, Clipping: 0, Motion: 0)\n",
      "Trial 74: Artifacts - 3.4% (Validation: 77, Clipping: 0, Motion: 0)\n",
      "Trial 75: Artifacts - 0.0% (Validation: 0, Clipping: 1, Motion: 0)\n",
      "Trial 76: Artifacts - 4.0% (Validation: 0, Clipping: 1, Motion: 90)\n"
     ]
    },
    {
     "name": "stderr",
     "output_type": "stream",
     "text": [
      "/usr/local/lib/python3.11/dist-packages/sklearn/decomposition/_fastica.py:542: FutureWarning: Starting in v1.3, whiten='unit-variance' will be used by default.\n",
      "  warnings.warn(\n"
     ]
    },
    {
     "name": "stdout",
     "output_type": "stream",
     "text": [
      "Trial 77: Artifacts - 0.0% (Validation: 0, Clipping: 0, Motion: 0)\n",
      "Trial 78: Artifacts - 0.0% (Validation: 0, Clipping: 0, Motion: 0)\n",
      "Trial 79: Artifacts - 0.0% (Validation: 0, Clipping: 0, Motion: 0)\n",
      "Trial 80: Artifacts - 0.0% (Validation: 0, Clipping: 0, Motion: 0)\n",
      "Trial 81: Artifacts - 9.2% (Validation: 0, Clipping: 0, Motion: 207)\n"
     ]
    },
    {
     "name": "stderr",
     "output_type": "stream",
     "text": [
      "/usr/local/lib/python3.11/dist-packages/sklearn/decomposition/_fastica.py:542: FutureWarning: Starting in v1.3, whiten='unit-variance' will be used by default.\n",
      "  warnings.warn(\n"
     ]
    },
    {
     "name": "stdout",
     "output_type": "stream",
     "text": [
      "Trial 82: Artifacts - 0.0% (Validation: 0, Clipping: 0, Motion: 0)\n",
      "Trial 83: Artifacts - 0.0% (Validation: 0, Clipping: 0, Motion: 0)\n",
      "Trial 84: Artifacts - 0.0% (Validation: 0, Clipping: 0, Motion: 0)\n",
      "Trial 85: Artifacts - 0.0% (Validation: 0, Clipping: 0, Motion: 0)\n",
      "Trial 86: Artifacts - 8.1% (Validation: 0, Clipping: 0, Motion: 182)\n"
     ]
    },
    {
     "name": "stderr",
     "output_type": "stream",
     "text": [
      "/usr/local/lib/python3.11/dist-packages/sklearn/decomposition/_fastica.py:542: FutureWarning: Starting in v1.3, whiten='unit-variance' will be used by default.\n",
      "  warnings.warn(\n"
     ]
    },
    {
     "name": "stdout",
     "output_type": "stream",
     "text": [
      "Trial 87: Artifacts - 7.2% (Validation: 0, Clipping: 1, Motion: 161)\n"
     ]
    },
    {
     "name": "stderr",
     "output_type": "stream",
     "text": [
      "/usr/local/lib/python3.11/dist-packages/sklearn/decomposition/_fastica.py:542: FutureWarning: Starting in v1.3, whiten='unit-variance' will be used by default.\n",
      "  warnings.warn(\n"
     ]
    },
    {
     "name": "stdout",
     "output_type": "stream",
     "text": [
      "Trial 88: Artifacts - 0.0% (Validation: 0, Clipping: 0, Motion: 0)\n",
      "Trial 89: Artifacts - 0.8% (Validation: 0, Clipping: 0, Motion: 18)\n",
      "Trial 90: Artifacts - 4.3% (Validation: 0, Clipping: 0, Motion: 96)\n"
     ]
    },
    {
     "name": "stderr",
     "output_type": "stream",
     "text": [
      "/usr/local/lib/python3.11/dist-packages/sklearn/decomposition/_fastica.py:542: FutureWarning: Starting in v1.3, whiten='unit-variance' will be used by default.\n",
      "  warnings.warn(\n"
     ]
    },
    {
     "name": "stdout",
     "output_type": "stream",
     "text": [
      "Trial 91: Artifacts - 15.5% (Validation: 0, Clipping: 0, Motion: 349)\n"
     ]
    },
    {
     "name": "stderr",
     "output_type": "stream",
     "text": [
      "/usr/local/lib/python3.11/dist-packages/sklearn/decomposition/_fastica.py:542: FutureWarning: Starting in v1.3, whiten='unit-variance' will be used by default.\n",
      "  warnings.warn(\n"
     ]
    },
    {
     "name": "stdout",
     "output_type": "stream",
     "text": [
      "Trial 92: Artifacts - 0.0% (Validation: 0, Clipping: 0, Motion: 0)\n",
      "Trial 93: Artifacts - 0.1% (Validation: 0, Clipping: 1, Motion: 1)\n",
      "Trial 94: Artifacts - 0.1% (Validation: 0, Clipping: 0, Motion: 2)\n",
      "Trial 95: Artifacts - 7.2% (Validation: 0, Clipping: 0, Motion: 161)\n"
     ]
    },
    {
     "name": "stderr",
     "output_type": "stream",
     "text": [
      "/usr/local/lib/python3.11/dist-packages/sklearn/decomposition/_fastica.py:542: FutureWarning: Starting in v1.3, whiten='unit-variance' will be used by default.\n",
      "  warnings.warn(\n"
     ]
    },
    {
     "name": "stdout",
     "output_type": "stream",
     "text": [
      "Trial 96: Artifacts - 0.1% (Validation: 0, Clipping: 0, Motion: 3)\n",
      "Trial 97: Artifacts - 0.0% (Validation: 0, Clipping: 0, Motion: 0)\n",
      "Trial 98: Artifacts - 0.0% (Validation: 0, Clipping: 1, Motion: 0)\n",
      "Trial 99: Artifacts - 0.0% (Validation: 0, Clipping: 0, Motion: 0)\n",
      "Trial 100: Artifacts - 0.0% (Validation: 0, Clipping: 1, Motion: 0)\n",
      "Processed 100/4800 trials\n",
      "Trial 101: Artifacts - 18.2% (Validation: 0, Clipping: 0, Motion: 409)\n"
     ]
    },
    {
     "name": "stderr",
     "output_type": "stream",
     "text": [
      "/usr/local/lib/python3.11/dist-packages/sklearn/decomposition/_fastica.py:542: FutureWarning: Starting in v1.3, whiten='unit-variance' will be used by default.\n",
      "  warnings.warn(\n"
     ]
    },
    {
     "name": "stdout",
     "output_type": "stream",
     "text": [
      "Trial 102: Artifacts - 6.5% (Validation: 0, Clipping: 0, Motion: 146)\n"
     ]
    },
    {
     "name": "stderr",
     "output_type": "stream",
     "text": [
      "/usr/local/lib/python3.11/dist-packages/sklearn/decomposition/_fastica.py:542: FutureWarning: Starting in v1.3, whiten='unit-variance' will be used by default.\n",
      "  warnings.warn(\n"
     ]
    },
    {
     "name": "stdout",
     "output_type": "stream",
     "text": [
      "Trial 103: Artifacts - 0.0% (Validation: 0, Clipping: 0, Motion: 0)\n",
      "Trial 104: Artifacts - 0.0% (Validation: 0, Clipping: 0, Motion: 0)\n",
      "Trial 105: Artifacts - 0.1% (Validation: 0, Clipping: 0, Motion: 2)\n",
      "Trial 106: Artifacts - 4.4% (Validation: 0, Clipping: 0, Motion: 98)\n"
     ]
    },
    {
     "name": "stderr",
     "output_type": "stream",
     "text": [
      "/usr/local/lib/python3.11/dist-packages/sklearn/decomposition/_fastica.py:542: FutureWarning: Starting in v1.3, whiten='unit-variance' will be used by default.\n",
      "  warnings.warn(\n"
     ]
    },
    {
     "name": "stdout",
     "output_type": "stream",
     "text": [
      "Trial 107: Artifacts - 5.3% (Validation: 0, Clipping: 0, Motion: 119)\n"
     ]
    },
    {
     "name": "stderr",
     "output_type": "stream",
     "text": [
      "/usr/local/lib/python3.11/dist-packages/sklearn/decomposition/_fastica.py:542: FutureWarning: Starting in v1.3, whiten='unit-variance' will be used by default.\n",
      "  warnings.warn(\n"
     ]
    },
    {
     "name": "stdout",
     "output_type": "stream",
     "text": [
      "Trial 108: Artifacts - 0.0% (Validation: 0, Clipping: 0, Motion: 0)\n",
      "Trial 109: Artifacts - 0.0% (Validation: 0, Clipping: 0, Motion: 0)\n",
      "Trial 110: Artifacts - 0.6% (Validation: 0, Clipping: 0, Motion: 14)\n",
      "Trial 111: Artifacts - 9.9% (Validation: 0, Clipping: 0, Motion: 223)\n"
     ]
    },
    {
     "name": "stderr",
     "output_type": "stream",
     "text": [
      "/usr/local/lib/python3.11/dist-packages/sklearn/decomposition/_fastica.py:542: FutureWarning: Starting in v1.3, whiten='unit-variance' will be used by default.\n",
      "  warnings.warn(\n"
     ]
    },
    {
     "name": "stdout",
     "output_type": "stream",
     "text": [
      "Trial 112: Artifacts - 2.1% (Validation: 0, Clipping: 0, Motion: 48)\n",
      "Trial 113: Artifacts - 6.3% (Validation: 0, Clipping: 0, Motion: 141)\n"
     ]
    },
    {
     "name": "stderr",
     "output_type": "stream",
     "text": [
      "/usr/local/lib/python3.11/dist-packages/sklearn/decomposition/_fastica.py:542: FutureWarning: Starting in v1.3, whiten='unit-variance' will be used by default.\n",
      "  warnings.warn(\n"
     ]
    },
    {
     "name": "stdout",
     "output_type": "stream",
     "text": [
      "Trial 114: Artifacts - 4.5% (Validation: 0, Clipping: 0, Motion: 101)\n"
     ]
    },
    {
     "name": "stderr",
     "output_type": "stream",
     "text": [
      "/usr/local/lib/python3.11/dist-packages/sklearn/decomposition/_fastica.py:542: FutureWarning: Starting in v1.3, whiten='unit-variance' will be used by default.\n",
      "  warnings.warn(\n"
     ]
    },
    {
     "name": "stdout",
     "output_type": "stream",
     "text": [
      "Trial 115: Artifacts - 0.0% (Validation: 0, Clipping: 0, Motion: 0)\n",
      "Trial 116: Artifacts - 3.2% (Validation: 0, Clipping: 0, Motion: 71)\n"
     ]
    },
    {
     "name": "stderr",
     "output_type": "stream",
     "text": [
      "/usr/local/lib/python3.11/dist-packages/sklearn/decomposition/_fastica.py:542: FutureWarning: Starting in v1.3, whiten='unit-variance' will be used by default.\n",
      "  warnings.warn(\n"
     ]
    },
    {
     "name": "stdout",
     "output_type": "stream",
     "text": [
      "Trial 117: Artifacts - 0.0% (Validation: 0, Clipping: 1, Motion: 0)\n",
      "Trial 118: Artifacts - 7.2% (Validation: 0, Clipping: 0, Motion: 163)\n"
     ]
    },
    {
     "name": "stderr",
     "output_type": "stream",
     "text": [
      "/usr/local/lib/python3.11/dist-packages/sklearn/decomposition/_fastica.py:542: FutureWarning: Starting in v1.3, whiten='unit-variance' will be used by default.\n",
      "  warnings.warn(\n"
     ]
    },
    {
     "name": "stdout",
     "output_type": "stream",
     "text": [
      "Trial 119: Artifacts - 8.4% (Validation: 0, Clipping: 0, Motion: 190)\n"
     ]
    },
    {
     "name": "stderr",
     "output_type": "stream",
     "text": [
      "/usr/local/lib/python3.11/dist-packages/sklearn/decomposition/_fastica.py:542: FutureWarning: Starting in v1.3, whiten='unit-variance' will be used by default.\n",
      "  warnings.warn(\n"
     ]
    },
    {
     "name": "stdout",
     "output_type": "stream",
     "text": [
      "Trial 120: Artifacts - 3.3% (Validation: 0, Clipping: 1, Motion: 73)\n"
     ]
    },
    {
     "name": "stderr",
     "output_type": "stream",
     "text": [
      "/usr/local/lib/python3.11/dist-packages/sklearn/decomposition/_fastica.py:542: FutureWarning: Starting in v1.3, whiten='unit-variance' will be used by default.\n",
      "  warnings.warn(\n"
     ]
    },
    {
     "name": "stdout",
     "output_type": "stream",
     "text": [
      "Trial 121: Artifacts - 6.7% (Validation: 0, Clipping: 0, Motion: 151)\n"
     ]
    },
    {
     "name": "stderr",
     "output_type": "stream",
     "text": [
      "/usr/local/lib/python3.11/dist-packages/sklearn/decomposition/_fastica.py:542: FutureWarning: Starting in v1.3, whiten='unit-variance' will be used by default.\n",
      "  warnings.warn(\n"
     ]
    },
    {
     "name": "stdout",
     "output_type": "stream",
     "text": [
      "Trial 122: Artifacts - 0.0% (Validation: 0, Clipping: 0, Motion: 0)\n",
      "Trial 123: Artifacts - 0.0% (Validation: 0, Clipping: 0, Motion: 0)\n",
      "Trial 124: Artifacts - 0.0% (Validation: 0, Clipping: 1, Motion: 0)\n",
      "Trial 125: Artifacts - 0.0% (Validation: 0, Clipping: 0, Motion: 0)\n",
      "Trial 126: Artifacts - 0.0% (Validation: 0, Clipping: 0, Motion: 0)\n",
      "Trial 127: Artifacts - 7.4% (Validation: 0, Clipping: 0, Motion: 166)\n"
     ]
    },
    {
     "name": "stderr",
     "output_type": "stream",
     "text": [
      "/usr/local/lib/python3.11/dist-packages/sklearn/decomposition/_fastica.py:542: FutureWarning: Starting in v1.3, whiten='unit-variance' will be used by default.\n",
      "  warnings.warn(\n"
     ]
    },
    {
     "name": "stdout",
     "output_type": "stream",
     "text": [
      "Trial 128: Artifacts - 1.5% (Validation: 0, Clipping: 1, Motion: 33)\n",
      "Trial 129: Artifacts - 0.0% (Validation: 0, Clipping: 0, Motion: 0)\n",
      "Trial 130: Artifacts - 0.0% (Validation: 0, Clipping: 0, Motion: 0)\n",
      "Trial 131: Artifacts - 1.4% (Validation: 0, Clipping: 0, Motion: 32)\n",
      "Trial 132: Artifacts - 0.0% (Validation: 0, Clipping: 0, Motion: 0)\n",
      "Trial 133: Artifacts - 0.0% (Validation: 0, Clipping: 0, Motion: 0)\n",
      "Trial 134: Artifacts - 0.0% (Validation: 0, Clipping: 0, Motion: 0)\n",
      "Trial 135: Artifacts - 0.0% (Validation: 0, Clipping: 0, Motion: 0)\n",
      "Trial 136: Artifacts - 2.1% (Validation: 0, Clipping: 1, Motion: 47)\n",
      "Trial 137: Artifacts - 0.0% (Validation: 0, Clipping: 0, Motion: 0)\n",
      "Trial 138: Artifacts - 2.8% (Validation: 0, Clipping: 0, Motion: 62)\n"
     ]
    },
    {
     "name": "stderr",
     "output_type": "stream",
     "text": [
      "/usr/local/lib/python3.11/dist-packages/sklearn/decomposition/_fastica.py:542: FutureWarning: Starting in v1.3, whiten='unit-variance' will be used by default.\n",
      "  warnings.warn(\n"
     ]
    },
    {
     "name": "stdout",
     "output_type": "stream",
     "text": [
      "Trial 139: Artifacts - 3.5% (Validation: 0, Clipping: 0, Motion: 78)\n"
     ]
    },
    {
     "name": "stderr",
     "output_type": "stream",
     "text": [
      "/usr/local/lib/python3.11/dist-packages/sklearn/decomposition/_fastica.py:542: FutureWarning: Starting in v1.3, whiten='unit-variance' will be used by default.\n",
      "  warnings.warn(\n"
     ]
    },
    {
     "name": "stdout",
     "output_type": "stream",
     "text": [
      "Trial 140: Artifacts - 3.8% (Validation: 0, Clipping: 1, Motion: 85)\n"
     ]
    },
    {
     "name": "stderr",
     "output_type": "stream",
     "text": [
      "/usr/local/lib/python3.11/dist-packages/sklearn/decomposition/_fastica.py:542: FutureWarning: Starting in v1.3, whiten='unit-variance' will be used by default.\n",
      "  warnings.warn(\n"
     ]
    },
    {
     "name": "stdout",
     "output_type": "stream",
     "text": [
      "Trial 141: Artifacts - 6.8% (Validation: 0, Clipping: 0, Motion: 153)\n"
     ]
    },
    {
     "name": "stderr",
     "output_type": "stream",
     "text": [
      "/usr/local/lib/python3.11/dist-packages/sklearn/decomposition/_fastica.py:542: FutureWarning: Starting in v1.3, whiten='unit-variance' will be used by default.\n",
      "  warnings.warn(\n"
     ]
    },
    {
     "name": "stdout",
     "output_type": "stream",
     "text": [
      "Trial 142: Artifacts - 0.4% (Validation: 0, Clipping: 0, Motion: 10)\n",
      "Trial 143: Artifacts - 0.0% (Validation: 0, Clipping: 0, Motion: 0)\n",
      "Trial 144: Artifacts - 7.6% (Validation: 0, Clipping: 0, Motion: 172)\n"
     ]
    },
    {
     "name": "stderr",
     "output_type": "stream",
     "text": [
      "/usr/local/lib/python3.11/dist-packages/sklearn/decomposition/_fastica.py:542: FutureWarning: Starting in v1.3, whiten='unit-variance' will be used by default.\n",
      "  warnings.warn(\n"
     ]
    },
    {
     "name": "stdout",
     "output_type": "stream",
     "text": [
      "Trial 145: Artifacts - 11.0% (Validation: 0, Clipping: 0, Motion: 247)\n"
     ]
    },
    {
     "name": "stderr",
     "output_type": "stream",
     "text": [
      "/usr/local/lib/python3.11/dist-packages/sklearn/decomposition/_fastica.py:542: FutureWarning: Starting in v1.3, whiten='unit-variance' will be used by default.\n",
      "  warnings.warn(\n"
     ]
    },
    {
     "name": "stdout",
     "output_type": "stream",
     "text": [
      "Trial 146: Artifacts - 10.8% (Validation: 0, Clipping: 0, Motion: 244)\n"
     ]
    },
    {
     "name": "stderr",
     "output_type": "stream",
     "text": [
      "/usr/local/lib/python3.11/dist-packages/sklearn/decomposition/_fastica.py:542: FutureWarning: Starting in v1.3, whiten='unit-variance' will be used by default.\n",
      "  warnings.warn(\n"
     ]
    },
    {
     "name": "stdout",
     "output_type": "stream",
     "text": [
      "Trial 147: Artifacts - 0.0% (Validation: 0, Clipping: 0, Motion: 0)\n",
      "Trial 148: Artifacts - 5.8% (Validation: 0, Clipping: 0, Motion: 130)\n"
     ]
    },
    {
     "name": "stderr",
     "output_type": "stream",
     "text": [
      "/usr/local/lib/python3.11/dist-packages/sklearn/decomposition/_fastica.py:542: FutureWarning: Starting in v1.3, whiten='unit-variance' will be used by default.\n",
      "  warnings.warn(\n"
     ]
    },
    {
     "name": "stdout",
     "output_type": "stream",
     "text": [
      "Trial 149: Artifacts - 0.2% (Validation: 0, Clipping: 0, Motion: 4)\n",
      "Trial 150: Artifacts - 0.0% (Validation: 0, Clipping: 1, Motion: 0)\n",
      "Trial 151: Artifacts - 1.6% (Validation: 0, Clipping: 1, Motion: 36)\n",
      "Trial 152: Artifacts - 1.2% (Validation: 0, Clipping: 0, Motion: 27)\n",
      "Trial 153: Artifacts - 0.0% (Validation: 0, Clipping: 0, Motion: 0)\n",
      "Trial 154: Artifacts - 6.1% (Validation: 0, Clipping: 0, Motion: 138)\n"
     ]
    },
    {
     "name": "stderr",
     "output_type": "stream",
     "text": [
      "/usr/local/lib/python3.11/dist-packages/sklearn/decomposition/_fastica.py:542: FutureWarning: Starting in v1.3, whiten='unit-variance' will be used by default.\n",
      "  warnings.warn(\n"
     ]
    },
    {
     "name": "stdout",
     "output_type": "stream",
     "text": [
      "Trial 155: Artifacts - 0.0% (Validation: 0, Clipping: 0, Motion: 0)\n",
      "Trial 156: Artifacts - 0.0% (Validation: 0, Clipping: 1, Motion: 0)\n",
      "Trial 157: Artifacts - 0.0% (Validation: 0, Clipping: 1, Motion: 0)\n",
      "Trial 158: Artifacts - 0.0% (Validation: 0, Clipping: 0, Motion: 0)\n",
      "Trial 159: Artifacts - 0.0% (Validation: 0, Clipping: 0, Motion: 0)\n",
      "Trial 160: Artifacts - 0.0% (Validation: 0, Clipping: 0, Motion: 0)\n",
      "Trial 161: Artifacts - 12.8% (Validation: 0, Clipping: 0, Motion: 287)\n"
     ]
    },
    {
     "name": "stderr",
     "output_type": "stream",
     "text": [
      "/usr/local/lib/python3.11/dist-packages/sklearn/decomposition/_fastica.py:542: FutureWarning: Starting in v1.3, whiten='unit-variance' will be used by default.\n",
      "  warnings.warn(\n"
     ]
    },
    {
     "name": "stdout",
     "output_type": "stream",
     "text": [
      "Trial 162: Artifacts - 4.4% (Validation: 99, Clipping: 0, Motion: 0)\n",
      "Trial 163: Artifacts - 2.2% (Validation: 17, Clipping: 0, Motion: 33)\n",
      "Trial 164: Artifacts - 3.5% (Validation: 78, Clipping: 7, Motion: 0)\n",
      "Trial 165: Artifacts - 0.0% (Validation: 0, Clipping: 1, Motion: 0)\n",
      "Trial 166: Artifacts - 1.2% (Validation: 0, Clipping: 0, Motion: 28)\n",
      "Trial 167: Artifacts - 0.0% (Validation: 0, Clipping: 0, Motion: 0)\n",
      "Trial 168: Artifacts - 0.0% (Validation: 0, Clipping: 0, Motion: 0)\n",
      "Trial 169: Artifacts - 0.0% (Validation: 0, Clipping: 0, Motion: 0)\n",
      "Trial 170: Artifacts - 0.0% (Validation: 0, Clipping: 0, Motion: 0)\n",
      "Trial 171: Artifacts - 0.0% (Validation: 0, Clipping: 0, Motion: 0)\n",
      "Trial 172: Artifacts - 0.0% (Validation: 0, Clipping: 0, Motion: 0)\n",
      "Trial 173: Artifacts - 20.9% (Validation: 471, Clipping: 0, Motion: 0)\n",
      "Trial 174: Artifacts - 0.0% (Validation: 0, Clipping: 0, Motion: 0)\n",
      "Trial 175: Artifacts - 0.0% (Validation: 0, Clipping: 0, Motion: 0)\n",
      "Trial 176: Artifacts - 0.4% (Validation: 0, Clipping: 0, Motion: 8)\n",
      "Trial 177: Artifacts - 0.0% (Validation: 0, Clipping: 0, Motion: 0)\n",
      "Trial 178: Artifacts - 4.1% (Validation: 92, Clipping: 0, Motion: 0)\n",
      "Trial 179: Artifacts - 0.1% (Validation: 0, Clipping: 1, Motion: 1)\n",
      "Trial 180: Artifacts - 1.3% (Validation: 0, Clipping: 0, Motion: 30)\n",
      "Trial 181: Artifacts - 9.9% (Validation: 0, Clipping: 0, Motion: 222)\n"
     ]
    },
    {
     "name": "stderr",
     "output_type": "stream",
     "text": [
      "/usr/local/lib/python3.11/dist-packages/sklearn/decomposition/_fastica.py:542: FutureWarning: Starting in v1.3, whiten='unit-variance' will be used by default.\n",
      "  warnings.warn(\n"
     ]
    },
    {
     "name": "stdout",
     "output_type": "stream",
     "text": [
      "Trial 182: Artifacts - 5.6% (Validation: 0, Clipping: 0, Motion: 125)\n"
     ]
    },
    {
     "name": "stderr",
     "output_type": "stream",
     "text": [
      "/usr/local/lib/python3.11/dist-packages/sklearn/decomposition/_fastica.py:542: FutureWarning: Starting in v1.3, whiten='unit-variance' will be used by default.\n",
      "  warnings.warn(\n"
     ]
    },
    {
     "name": "stdout",
     "output_type": "stream",
     "text": [
      "Trial 183: Artifacts - 4.7% (Validation: 106, Clipping: 0, Motion: 0)\n",
      "Trial 184: Artifacts - 1.2% (Validation: 0, Clipping: 1, Motion: 26)\n",
      "Trial 185: Artifacts - 3.3% (Validation: 0, Clipping: 0, Motion: 74)\n"
     ]
    },
    {
     "name": "stderr",
     "output_type": "stream",
     "text": [
      "/usr/local/lib/python3.11/dist-packages/sklearn/decomposition/_fastica.py:542: FutureWarning: Starting in v1.3, whiten='unit-variance' will be used by default.\n",
      "  warnings.warn(\n",
      "/usr/local/lib/python3.11/dist-packages/sklearn/decomposition/_fastica.py:123: ConvergenceWarning: FastICA did not converge. Consider increasing tolerance or the maximum number of iterations.\n",
      "  warnings.warn(\n"
     ]
    },
    {
     "name": "stdout",
     "output_type": "stream",
     "text": [
      "Trial 186: Artifacts - 0.0% (Validation: 0, Clipping: 0, Motion: 0)\n",
      "Trial 187: Artifacts - 1.8% (Validation: 0, Clipping: 0, Motion: 40)\n",
      "Trial 188: Artifacts - 3.8% (Validation: 85, Clipping: 0, Motion: 0)\n",
      "Trial 189: Artifacts - 1.9% (Validation: 0, Clipping: 1, Motion: 42)\n",
      "Trial 190: Artifacts - 1.6% (Validation: 0, Clipping: 1, Motion: 35)\n",
      "Trial 191: Artifacts - 2.5% (Validation: 0, Clipping: 0, Motion: 56)\n"
     ]
    },
    {
     "name": "stderr",
     "output_type": "stream",
     "text": [
      "/usr/local/lib/python3.11/dist-packages/sklearn/decomposition/_fastica.py:542: FutureWarning: Starting in v1.3, whiten='unit-variance' will be used by default.\n",
      "  warnings.warn(\n"
     ]
    },
    {
     "name": "stdout",
     "output_type": "stream",
     "text": [
      "Trial 192: Artifacts - 0.1% (Validation: 0, Clipping: 0, Motion: 2)\n",
      "Trial 193: Artifacts - 0.0% (Validation: 0, Clipping: 0, Motion: 0)\n",
      "Trial 194: Artifacts - 6.1% (Validation: 0, Clipping: 1, Motion: 137)\n"
     ]
    },
    {
     "name": "stderr",
     "output_type": "stream",
     "text": [
      "/usr/local/lib/python3.11/dist-packages/sklearn/decomposition/_fastica.py:542: FutureWarning: Starting in v1.3, whiten='unit-variance' will be used by default.\n",
      "  warnings.warn(\n"
     ]
    },
    {
     "name": "stdout",
     "output_type": "stream",
     "text": [
      "Trial 195: Artifacts - 0.4% (Validation: 0, Clipping: 1, Motion: 8)\n",
      "Trial 196: Artifacts - 4.3% (Validation: 91, Clipping: 1, Motion: 44)\n",
      "Trial 197: Artifacts - 3.7% (Validation: 84, Clipping: 5, Motion: 0)\n",
      "Trial 198: Artifacts - 0.0% (Validation: 0, Clipping: 0, Motion: 0)\n",
      "Trial 199: Artifacts - 0.0% (Validation: 0, Clipping: 1, Motion: 0)\n",
      "Trial 200: Artifacts - 10.6% (Validation: 0, Clipping: 0, Motion: 239)\n"
     ]
    },
    {
     "name": "stderr",
     "output_type": "stream",
     "text": [
      "/usr/local/lib/python3.11/dist-packages/sklearn/decomposition/_fastica.py:542: FutureWarning: Starting in v1.3, whiten='unit-variance' will be used by default.\n",
      "  warnings.warn(\n"
     ]
    },
    {
     "name": "stdout",
     "output_type": "stream",
     "text": [
      "Processed 200/4800 trials\n",
      "Trial 201: Artifacts - 7.4% (Validation: 72, Clipping: 5, Motion: 95)\n"
     ]
    },
    {
     "name": "stderr",
     "output_type": "stream",
     "text": [
      "/usr/local/lib/python3.11/dist-packages/sklearn/decomposition/_fastica.py:542: FutureWarning: Starting in v1.3, whiten='unit-variance' will be used by default.\n",
      "  warnings.warn(\n"
     ]
    },
    {
     "name": "stdout",
     "output_type": "stream",
     "text": [
      "Trial 202: Artifacts - 12.0% (Validation: 97, Clipping: 41, Motion: 173)\n"
     ]
    },
    {
     "name": "stderr",
     "output_type": "stream",
     "text": [
      "/usr/local/lib/python3.11/dist-packages/sklearn/decomposition/_fastica.py:542: FutureWarning: Starting in v1.3, whiten='unit-variance' will be used by default.\n",
      "  warnings.warn(\n"
     ]
    },
    {
     "name": "stdout",
     "output_type": "stream",
     "text": [
      "Trial 203: Artifacts - 0.6% (Validation: 0, Clipping: 0, Motion: 14)\n",
      "Trial 204: Artifacts - 3.0% (Validation: 0, Clipping: 0, Motion: 68)\n"
     ]
    },
    {
     "name": "stderr",
     "output_type": "stream",
     "text": [
      "/usr/local/lib/python3.11/dist-packages/sklearn/decomposition/_fastica.py:542: FutureWarning: Starting in v1.3, whiten='unit-variance' will be used by default.\n",
      "  warnings.warn(\n"
     ]
    },
    {
     "name": "stdout",
     "output_type": "stream",
     "text": [
      "Trial 205: Artifacts - 6.7% (Validation: 0, Clipping: 0, Motion: 150)\n"
     ]
    },
    {
     "name": "stderr",
     "output_type": "stream",
     "text": [
      "/usr/local/lib/python3.11/dist-packages/sklearn/decomposition/_fastica.py:542: FutureWarning: Starting in v1.3, whiten='unit-variance' will be used by default.\n",
      "  warnings.warn(\n"
     ]
    },
    {
     "name": "stdout",
     "output_type": "stream",
     "text": [
      "Trial 206: Artifacts - 0.0% (Validation: 0, Clipping: 0, Motion: 0)\n",
      "Trial 207: Artifacts - 4.8% (Validation: 0, Clipping: 0, Motion: 108)\n"
     ]
    },
    {
     "name": "stderr",
     "output_type": "stream",
     "text": [
      "/usr/local/lib/python3.11/dist-packages/sklearn/decomposition/_fastica.py:542: FutureWarning: Starting in v1.3, whiten='unit-variance' will be used by default.\n",
      "  warnings.warn(\n"
     ]
    },
    {
     "name": "stdout",
     "output_type": "stream",
     "text": [
      "Trial 208: Artifacts - 0.0% (Validation: 0, Clipping: 0, Motion: 0)\n",
      "Trial 209: Artifacts - 0.0% (Validation: 0, Clipping: 0, Motion: 0)\n",
      "Trial 210: Artifacts - 0.0% (Validation: 0, Clipping: 0, Motion: 0)\n",
      "REJECTING trial 211: 34.8% artifacts\n",
      "Trial 212: Artifacts - 7.1% (Validation: 0, Clipping: 0, Motion: 160)\n"
     ]
    },
    {
     "name": "stderr",
     "output_type": "stream",
     "text": [
      "/usr/local/lib/python3.11/dist-packages/sklearn/decomposition/_fastica.py:542: FutureWarning: Starting in v1.3, whiten='unit-variance' will be used by default.\n",
      "  warnings.warn(\n"
     ]
    },
    {
     "name": "stdout",
     "output_type": "stream",
     "text": [
      "Trial 213: Artifacts - 7.8% (Validation: 175, Clipping: 33, Motion: 0)\n",
      "Trial 214: Artifacts - 4.5% (Validation: 0, Clipping: 0, Motion: 101)\n"
     ]
    },
    {
     "name": "stderr",
     "output_type": "stream",
     "text": [
      "/usr/local/lib/python3.11/dist-packages/sklearn/decomposition/_fastica.py:542: FutureWarning: Starting in v1.3, whiten='unit-variance' will be used by default.\n",
      "  warnings.warn(\n"
     ]
    },
    {
     "name": "stdout",
     "output_type": "stream",
     "text": [
      "Trial 215: Artifacts - 9.3% (Validation: 0, Clipping: 1, Motion: 209)\n"
     ]
    },
    {
     "name": "stderr",
     "output_type": "stream",
     "text": [
      "/usr/local/lib/python3.11/dist-packages/sklearn/decomposition/_fastica.py:542: FutureWarning: Starting in v1.3, whiten='unit-variance' will be used by default.\n",
      "  warnings.warn(\n"
     ]
    },
    {
     "name": "stdout",
     "output_type": "stream",
     "text": [
      "Trial 216: Artifacts - 0.0% (Validation: 0, Clipping: 0, Motion: 0)\n",
      "Trial 217: Artifacts - 0.0% (Validation: 0, Clipping: 0, Motion: 0)\n",
      "Trial 218: Artifacts - 0.0% (Validation: 0, Clipping: 0, Motion: 0)\n",
      "Trial 219: Artifacts - 0.0% (Validation: 0, Clipping: 0, Motion: 0)\n",
      "Trial 220: Artifacts - 6.3% (Validation: 142, Clipping: 6, Motion: 0)\n",
      "Trial 221: Artifacts - 7.4% (Validation: 0, Clipping: 0, Motion: 167)\n"
     ]
    },
    {
     "name": "stderr",
     "output_type": "stream",
     "text": [
      "/usr/local/lib/python3.11/dist-packages/sklearn/decomposition/_fastica.py:542: FutureWarning: Starting in v1.3, whiten='unit-variance' will be used by default.\n",
      "  warnings.warn(\n"
     ]
    },
    {
     "name": "stdout",
     "output_type": "stream",
     "text": [
      "Trial 222: Artifacts - 1.7% (Validation: 0, Clipping: 1, Motion: 37)\n",
      "Trial 223: Artifacts - 0.0% (Validation: 0, Clipping: 0, Motion: 0)\n",
      "Trial 224: Artifacts - 0.2% (Validation: 0, Clipping: 1, Motion: 3)\n",
      "Trial 225: Artifacts - 0.0% (Validation: 0, Clipping: 0, Motion: 0)\n",
      "Trial 226: Artifacts - 0.0% (Validation: 0, Clipping: 0, Motion: 0)\n",
      "Trial 227: Artifacts - 0.0% (Validation: 0, Clipping: 0, Motion: 0)\n",
      "Trial 228: Artifacts - 0.0% (Validation: 0, Clipping: 0, Motion: 0)\n",
      "Trial 229: Artifacts - 0.0% (Validation: 0, Clipping: 0, Motion: 0)\n",
      "Trial 230: Artifacts - 7.6% (Validation: 0, Clipping: 0, Motion: 171)\n"
     ]
    },
    {
     "name": "stderr",
     "output_type": "stream",
     "text": [
      "/usr/local/lib/python3.11/dist-packages/sklearn/decomposition/_fastica.py:542: FutureWarning: Starting in v1.3, whiten='unit-variance' will be used by default.\n",
      "  warnings.warn(\n"
     ]
    },
    {
     "name": "stdout",
     "output_type": "stream",
     "text": [
      "Trial 231: Artifacts - 3.7% (Validation: 84, Clipping: 0, Motion: 0)\n",
      "Trial 232: Artifacts - 0.0% (Validation: 0, Clipping: 0, Motion: 0)\n",
      "Trial 233: Artifacts - 0.0% (Validation: 0, Clipping: 0, Motion: 0)\n",
      "Trial 234: Artifacts - 5.0% (Validation: 113, Clipping: 0, Motion: 0)\n",
      "Trial 235: Artifacts - 6.5% (Validation: 0, Clipping: 0, Motion: 147)\n"
     ]
    },
    {
     "name": "stderr",
     "output_type": "stream",
     "text": [
      "/usr/local/lib/python3.11/dist-packages/sklearn/decomposition/_fastica.py:542: FutureWarning: Starting in v1.3, whiten='unit-variance' will be used by default.\n",
      "  warnings.warn(\n"
     ]
    },
    {
     "name": "stdout",
     "output_type": "stream",
     "text": [
      "Trial 236: Artifacts - 0.6% (Validation: 0, Clipping: 0, Motion: 14)\n",
      "Trial 237: Artifacts - 9.1% (Validation: 204, Clipping: 0, Motion: 0)\n",
      "Trial 238: Artifacts - 2.7% (Validation: 60, Clipping: 0, Motion: 0)\n",
      "Trial 239: Artifacts - 0.4% (Validation: 0, Clipping: 0, Motion: 8)\n",
      "Trial 240: Artifacts - 0.4% (Validation: 9, Clipping: 0, Motion: 0)\n",
      "Trial 241: Artifacts - 10.7% (Validation: 0, Clipping: 0, Motion: 240)\n"
     ]
    },
    {
     "name": "stderr",
     "output_type": "stream",
     "text": [
      "/usr/local/lib/python3.11/dist-packages/sklearn/decomposition/_fastica.py:542: FutureWarning: Starting in v1.3, whiten='unit-variance' will be used by default.\n",
      "  warnings.warn(\n"
     ]
    },
    {
     "name": "stdout",
     "output_type": "stream",
     "text": [
      "Trial 242: Artifacts - 0.0% (Validation: 0, Clipping: 0, Motion: 0)\n",
      "Trial 243: Artifacts - 0.1% (Validation: 0, Clipping: 0, Motion: 2)\n",
      "Trial 244: Artifacts - 0.0% (Validation: 0, Clipping: 0, Motion: 0)\n",
      "Trial 245: Artifacts - 11.2% (Validation: 0, Clipping: 0, Motion: 252)\n"
     ]
    },
    {
     "name": "stderr",
     "output_type": "stream",
     "text": [
      "/usr/local/lib/python3.11/dist-packages/sklearn/decomposition/_fastica.py:542: FutureWarning: Starting in v1.3, whiten='unit-variance' will be used by default.\n",
      "  warnings.warn(\n"
     ]
    },
    {
     "name": "stdout",
     "output_type": "stream",
     "text": [
      "Trial 246: Artifacts - 3.6% (Validation: 0, Clipping: 0, Motion: 81)\n"
     ]
    },
    {
     "name": "stderr",
     "output_type": "stream",
     "text": [
      "/usr/local/lib/python3.11/dist-packages/sklearn/decomposition/_fastica.py:542: FutureWarning: Starting in v1.3, whiten='unit-variance' will be used by default.\n",
      "  warnings.warn(\n"
     ]
    },
    {
     "name": "stdout",
     "output_type": "stream",
     "text": [
      "Trial 247: Artifacts - 0.4% (Validation: 0, Clipping: 0, Motion: 10)\n",
      "Trial 248: Artifacts - 0.0% (Validation: 0, Clipping: 0, Motion: 0)\n",
      "Trial 249: Artifacts - 0.0% (Validation: 0, Clipping: 0, Motion: 0)\n",
      "Trial 250: Artifacts - 0.2% (Validation: 0, Clipping: 0, Motion: 5)\n",
      "Trial 251: Artifacts - 18.2% (Validation: 0, Clipping: 0, Motion: 410)\n"
     ]
    },
    {
     "name": "stderr",
     "output_type": "stream",
     "text": [
      "/usr/local/lib/python3.11/dist-packages/sklearn/decomposition/_fastica.py:542: FutureWarning: Starting in v1.3, whiten='unit-variance' will be used by default.\n",
      "  warnings.warn(\n"
     ]
    },
    {
     "name": "stdout",
     "output_type": "stream",
     "text": [
      "Trial 252: Artifacts - 0.2% (Validation: 0, Clipping: 0, Motion: 5)\n",
      "Trial 253: Artifacts - 0.8% (Validation: 0, Clipping: 1, Motion: 18)\n",
      "Trial 254: Artifacts - 1.7% (Validation: 0, Clipping: 0, Motion: 39)\n",
      "Trial 255: Artifacts - 0.0% (Validation: 0, Clipping: 1, Motion: 0)\n",
      "Trial 256: Artifacts - 0.0% (Validation: 0, Clipping: 0, Motion: 0)\n",
      "Trial 257: Artifacts - 14.6% (Validation: 0, Clipping: 0, Motion: 329)\n"
     ]
    },
    {
     "name": "stderr",
     "output_type": "stream",
     "text": [
      "/usr/local/lib/python3.11/dist-packages/sklearn/decomposition/_fastica.py:542: FutureWarning: Starting in v1.3, whiten='unit-variance' will be used by default.\n",
      "  warnings.warn(\n"
     ]
    },
    {
     "name": "stdout",
     "output_type": "stream",
     "text": [
      "Trial 258: Artifacts - 0.0% (Validation: 0, Clipping: 0, Motion: 0)\n",
      "Trial 259: Artifacts - 1.2% (Validation: 0, Clipping: 1, Motion: 27)\n",
      "Trial 260: Artifacts - 0.0% (Validation: 0, Clipping: 0, Motion: 0)\n",
      "Trial 261: Artifacts - 14.3% (Validation: 0, Clipping: 0, Motion: 321)\n"
     ]
    },
    {
     "name": "stderr",
     "output_type": "stream",
     "text": [
      "/usr/local/lib/python3.11/dist-packages/sklearn/decomposition/_fastica.py:542: FutureWarning: Starting in v1.3, whiten='unit-variance' will be used by default.\n",
      "  warnings.warn(\n"
     ]
    },
    {
     "name": "stdout",
     "output_type": "stream",
     "text": [
      "Trial 262: Artifacts - 0.0% (Validation: 0, Clipping: 1, Motion: 0)\n",
      "Trial 263: Artifacts - 0.0% (Validation: 0, Clipping: 0, Motion: 0)\n",
      "Trial 264: Artifacts - 0.0% (Validation: 0, Clipping: 0, Motion: 0)\n",
      "Trial 265: Artifacts - 0.0% (Validation: 0, Clipping: 0, Motion: 0)\n",
      "Trial 266: Artifacts - 1.1% (Validation: 0, Clipping: 0, Motion: 24)\n",
      "Trial 267: Artifacts - 10.0% (Validation: 0, Clipping: 0, Motion: 225)\n"
     ]
    },
    {
     "name": "stderr",
     "output_type": "stream",
     "text": [
      "/usr/local/lib/python3.11/dist-packages/sklearn/decomposition/_fastica.py:542: FutureWarning: Starting in v1.3, whiten='unit-variance' will be used by default.\n",
      "  warnings.warn(\n"
     ]
    },
    {
     "name": "stdout",
     "output_type": "stream",
     "text": [
      "Trial 268: Artifacts - 0.0% (Validation: 0, Clipping: 0, Motion: 0)\n",
      "Trial 269: Artifacts - 0.1% (Validation: 0, Clipping: 0, Motion: 2)\n",
      "Trial 270: Artifacts - 0.0% (Validation: 0, Clipping: 0, Motion: 0)\n",
      "Trial 271: Artifacts - 4.9% (Validation: 0, Clipping: 1, Motion: 110)\n"
     ]
    },
    {
     "name": "stderr",
     "output_type": "stream",
     "text": [
      "/usr/local/lib/python3.11/dist-packages/sklearn/decomposition/_fastica.py:542: FutureWarning: Starting in v1.3, whiten='unit-variance' will be used by default.\n",
      "  warnings.warn(\n"
     ]
    },
    {
     "name": "stdout",
     "output_type": "stream",
     "text": [
      "Trial 272: Artifacts - 0.0% (Validation: 0, Clipping: 0, Motion: 0)\n",
      "Trial 273: Artifacts - 0.0% (Validation: 0, Clipping: 0, Motion: 0)\n",
      "Trial 274: Artifacts - 0.0% (Validation: 0, Clipping: 1, Motion: 0)\n",
      "Trial 275: Artifacts - 1.9% (Validation: 0, Clipping: 0, Motion: 42)\n",
      "Trial 276: Artifacts - 2.0% (Validation: 0, Clipping: 0, Motion: 44)\n",
      "Trial 277: Artifacts - 12.0% (Validation: 0, Clipping: 0, Motion: 271)\n"
     ]
    },
    {
     "name": "stderr",
     "output_type": "stream",
     "text": [
      "/usr/local/lib/python3.11/dist-packages/sklearn/decomposition/_fastica.py:542: FutureWarning: Starting in v1.3, whiten='unit-variance' will be used by default.\n",
      "  warnings.warn(\n"
     ]
    },
    {
     "name": "stdout",
     "output_type": "stream",
     "text": [
      "Trial 278: Artifacts - 1.0% (Validation: 0, Clipping: 0, Motion: 22)\n",
      "Trial 279: Artifacts - 0.0% (Validation: 0, Clipping: 0, Motion: 0)\n",
      "Trial 280: Artifacts - 1.2% (Validation: 0, Clipping: 0, Motion: 26)\n",
      "Trial 281: Artifacts - 0.0% (Validation: 0, Clipping: 0, Motion: 0)\n",
      "Trial 282: Artifacts - 2.0% (Validation: 0, Clipping: 0, Motion: 44)\n",
      "Trial 283: Artifacts - 10.5% (Validation: 0, Clipping: 1, Motion: 236)\n"
     ]
    },
    {
     "name": "stderr",
     "output_type": "stream",
     "text": [
      "/usr/local/lib/python3.11/dist-packages/sklearn/decomposition/_fastica.py:542: FutureWarning: Starting in v1.3, whiten='unit-variance' will be used by default.\n",
      "  warnings.warn(\n"
     ]
    },
    {
     "name": "stdout",
     "output_type": "stream",
     "text": [
      "Trial 284: Artifacts - 1.6% (Validation: 0, Clipping: 0, Motion: 35)\n",
      "Trial 285: Artifacts - 2.2% (Validation: 0, Clipping: 0, Motion: 49)\n",
      "Trial 286: Artifacts - 6.3% (Validation: 0, Clipping: 0, Motion: 142)\n"
     ]
    },
    {
     "name": "stderr",
     "output_type": "stream",
     "text": [
      "/usr/local/lib/python3.11/dist-packages/sklearn/decomposition/_fastica.py:542: FutureWarning: Starting in v1.3, whiten='unit-variance' will be used by default.\n",
      "  warnings.warn(\n"
     ]
    },
    {
     "name": "stdout",
     "output_type": "stream",
     "text": [
      "Trial 287: Artifacts - 0.0% (Validation: 0, Clipping: 0, Motion: 0)\n",
      "Trial 288: Artifacts - 0.0% (Validation: 0, Clipping: 0, Motion: 0)\n",
      "Trial 289: Artifacts - 2.0% (Validation: 0, Clipping: 0, Motion: 46)\n",
      "Trial 290: Artifacts - 0.0% (Validation: 0, Clipping: 0, Motion: 0)\n",
      "Trial 291: Artifacts - 0.0% (Validation: 0, Clipping: 0, Motion: 0)\n",
      "Trial 292: Artifacts - 0.0% (Validation: 0, Clipping: 0, Motion: 0)\n",
      "Trial 293: Artifacts - 2.8% (Validation: 0, Clipping: 0, Motion: 63)\n"
     ]
    },
    {
     "name": "stderr",
     "output_type": "stream",
     "text": [
      "/usr/local/lib/python3.11/dist-packages/sklearn/decomposition/_fastica.py:542: FutureWarning: Starting in v1.3, whiten='unit-variance' will be used by default.\n",
      "  warnings.warn(\n"
     ]
    },
    {
     "name": "stdout",
     "output_type": "stream",
     "text": [
      "Trial 294: Artifacts - 0.0% (Validation: 0, Clipping: 0, Motion: 0)\n",
      "Trial 295: Artifacts - 0.0% (Validation: 0, Clipping: 1, Motion: 0)\n",
      "Trial 296: Artifacts - 0.0% (Validation: 0, Clipping: 0, Motion: 0)\n",
      "Trial 297: Artifacts - 16.0% (Validation: 0, Clipping: 0, Motion: 360)\n"
     ]
    },
    {
     "name": "stderr",
     "output_type": "stream",
     "text": [
      "/usr/local/lib/python3.11/dist-packages/sklearn/decomposition/_fastica.py:542: FutureWarning: Starting in v1.3, whiten='unit-variance' will be used by default.\n",
      "  warnings.warn(\n"
     ]
    },
    {
     "name": "stdout",
     "output_type": "stream",
     "text": [
      "Trial 298: Artifacts - 7.3% (Validation: 0, Clipping: 0, Motion: 164)\n"
     ]
    },
    {
     "name": "stderr",
     "output_type": "stream",
     "text": [
      "/usr/local/lib/python3.11/dist-packages/sklearn/decomposition/_fastica.py:542: FutureWarning: Starting in v1.3, whiten='unit-variance' will be used by default.\n",
      "  warnings.warn(\n"
     ]
    },
    {
     "name": "stdout",
     "output_type": "stream",
     "text": [
      "Trial 299: Artifacts - 4.2% (Validation: 0, Clipping: 1, Motion: 94)\n"
     ]
    },
    {
     "name": "stderr",
     "output_type": "stream",
     "text": [
      "/usr/local/lib/python3.11/dist-packages/sklearn/decomposition/_fastica.py:542: FutureWarning: Starting in v1.3, whiten='unit-variance' will be used by default.\n",
      "  warnings.warn(\n"
     ]
    },
    {
     "name": "stdout",
     "output_type": "stream",
     "text": [
      "Trial 300: Artifacts - 3.0% (Validation: 0, Clipping: 0, Motion: 67)\n",
      "Processed 300/4800 trials\n"
     ]
    },
    {
     "name": "stderr",
     "output_type": "stream",
     "text": [
      "/usr/local/lib/python3.11/dist-packages/sklearn/decomposition/_fastica.py:542: FutureWarning: Starting in v1.3, whiten='unit-variance' will be used by default.\n",
      "  warnings.warn(\n"
     ]
    },
    {
     "name": "stdout",
     "output_type": "stream",
     "text": [
      "Trial 301: Artifacts - 10.8% (Validation: 0, Clipping: 0, Motion: 243)\n"
     ]
    },
    {
     "name": "stderr",
     "output_type": "stream",
     "text": [
      "/usr/local/lib/python3.11/dist-packages/sklearn/decomposition/_fastica.py:542: FutureWarning: Starting in v1.3, whiten='unit-variance' will be used by default.\n",
      "  warnings.warn(\n"
     ]
    },
    {
     "name": "stdout",
     "output_type": "stream",
     "text": [
      "Trial 302: Artifacts - 0.0% (Validation: 0, Clipping: 0, Motion: 0)\n",
      "Trial 303: Artifacts - 1.4% (Validation: 0, Clipping: 0, Motion: 32)\n",
      "Trial 304: Artifacts - 0.0% (Validation: 0, Clipping: 1, Motion: 0)\n",
      "Trial 305: Artifacts - 1.7% (Validation: 0, Clipping: 1, Motion: 37)\n",
      "Trial 306: Artifacts - 0.0% (Validation: 0, Clipping: 0, Motion: 0)\n",
      "Trial 307: Artifacts - 8.4% (Validation: 0, Clipping: 0, Motion: 190)\n"
     ]
    },
    {
     "name": "stderr",
     "output_type": "stream",
     "text": [
      "/usr/local/lib/python3.11/dist-packages/sklearn/decomposition/_fastica.py:542: FutureWarning: Starting in v1.3, whiten='unit-variance' will be used by default.\n",
      "  warnings.warn(\n"
     ]
    },
    {
     "name": "stdout",
     "output_type": "stream",
     "text": [
      "Trial 308: Artifacts - 0.0% (Validation: 0, Clipping: 0, Motion: 0)\n",
      "Trial 309: Artifacts - 0.0% (Validation: 0, Clipping: 0, Motion: 0)\n",
      "Trial 310: Artifacts - 0.0% (Validation: 0, Clipping: 0, Motion: 0)\n",
      "Trial 311: Artifacts - 0.7% (Validation: 0, Clipping: 2, Motion: 14)\n",
      "Trial 312: Artifacts - 2.7% (Validation: 0, Clipping: 1, Motion: 60)\n"
     ]
    },
    {
     "name": "stderr",
     "output_type": "stream",
     "text": [
      "/usr/local/lib/python3.11/dist-packages/sklearn/decomposition/_fastica.py:542: FutureWarning: Starting in v1.3, whiten='unit-variance' will be used by default.\n",
      "  warnings.warn(\n"
     ]
    },
    {
     "name": "stdout",
     "output_type": "stream",
     "text": [
      "Trial 313: Artifacts - 0.0% (Validation: 0, Clipping: 0, Motion: 0)\n",
      "Trial 314: Artifacts - 12.7% (Validation: 0, Clipping: 0, Motion: 285)\n"
     ]
    },
    {
     "name": "stderr",
     "output_type": "stream",
     "text": [
      "/usr/local/lib/python3.11/dist-packages/sklearn/decomposition/_fastica.py:542: FutureWarning: Starting in v1.3, whiten='unit-variance' will be used by default.\n",
      "  warnings.warn(\n"
     ]
    },
    {
     "name": "stdout",
     "output_type": "stream",
     "text": [
      "Trial 315: Artifacts - 1.1% (Validation: 0, Clipping: 1, Motion: 23)\n",
      "Trial 316: Artifacts - 0.0% (Validation: 0, Clipping: 0, Motion: 0)\n",
      "Trial 317: Artifacts - 0.0% (Validation: 0, Clipping: 0, Motion: 0)\n",
      "Trial 318: Artifacts - 7.6% (Validation: 0, Clipping: 0, Motion: 172)\n"
     ]
    },
    {
     "name": "stderr",
     "output_type": "stream",
     "text": [
      "/usr/local/lib/python3.11/dist-packages/sklearn/decomposition/_fastica.py:542: FutureWarning: Starting in v1.3, whiten='unit-variance' will be used by default.\n",
      "  warnings.warn(\n"
     ]
    },
    {
     "name": "stdout",
     "output_type": "stream",
     "text": [
      "Trial 319: Artifacts - 0.3% (Validation: 0, Clipping: 0, Motion: 7)\n",
      "Trial 320: Artifacts - 0.0% (Validation: 0, Clipping: 0, Motion: 0)\n",
      "Trial 321: Artifacts - 1.7% (Validation: 0, Clipping: 0, Motion: 39)\n",
      "Trial 322: Artifacts - 4.7% (Validation: 85, Clipping: 0, Motion: 21)\n",
      "Trial 323: Artifacts - 7.9% (Validation: 0, Clipping: 0, Motion: 177)\n"
     ]
    },
    {
     "name": "stderr",
     "output_type": "stream",
     "text": [
      "/usr/local/lib/python3.11/dist-packages/sklearn/decomposition/_fastica.py:542: FutureWarning: Starting in v1.3, whiten='unit-variance' will be used by default.\n",
      "  warnings.warn(\n"
     ]
    },
    {
     "name": "stdout",
     "output_type": "stream",
     "text": [
      "Trial 324: Artifacts - 3.6% (Validation: 82, Clipping: 30, Motion: 0)\n",
      "Trial 325: Artifacts - 1.3% (Validation: 0, Clipping: 1, Motion: 28)\n",
      "Trial 326: Artifacts - 0.0% (Validation: 0, Clipping: 0, Motion: 0)\n",
      "Trial 327: Artifacts - 10.4% (Validation: 194, Clipping: 0, Motion: 63)\n"
     ]
    },
    {
     "name": "stderr",
     "output_type": "stream",
     "text": [
      "/usr/local/lib/python3.11/dist-packages/sklearn/decomposition/_fastica.py:542: FutureWarning: Starting in v1.3, whiten='unit-variance' will be used by default.\n",
      "  warnings.warn(\n"
     ]
    },
    {
     "name": "stdout",
     "output_type": "stream",
     "text": [
      "Trial 328: Artifacts - 0.0% (Validation: 0, Clipping: 0, Motion: 0)\n",
      "Trial 329: Artifacts - 0.8% (Validation: 0, Clipping: 0, Motion: 17)\n",
      "Trial 330: Artifacts - 0.0% (Validation: 0, Clipping: 0, Motion: 0)\n",
      "Trial 331: Artifacts - 13.2% (Validation: 109, Clipping: 1, Motion: 296)\n"
     ]
    },
    {
     "name": "stderr",
     "output_type": "stream",
     "text": [
      "/usr/local/lib/python3.11/dist-packages/sklearn/decomposition/_fastica.py:542: FutureWarning: Starting in v1.3, whiten='unit-variance' will be used by default.\n",
      "  warnings.warn(\n"
     ]
    },
    {
     "name": "stdout",
     "output_type": "stream",
     "text": [
      "Trial 332: Artifacts - 0.0% (Validation: 0, Clipping: 0, Motion: 0)\n",
      "Trial 333: Artifacts - 0.8% (Validation: 0, Clipping: 1, Motion: 17)\n",
      "Trial 334: Artifacts - 2.8% (Validation: 0, Clipping: 0, Motion: 63)\n"
     ]
    },
    {
     "name": "stderr",
     "output_type": "stream",
     "text": [
      "/usr/local/lib/python3.11/dist-packages/sklearn/decomposition/_fastica.py:542: FutureWarning: Starting in v1.3, whiten='unit-variance' will be used by default.\n",
      "  warnings.warn(\n"
     ]
    },
    {
     "name": "stdout",
     "output_type": "stream",
     "text": [
      "Trial 335: Artifacts - 4.1% (Validation: 0, Clipping: 0, Motion: 92)\n"
     ]
    },
    {
     "name": "stderr",
     "output_type": "stream",
     "text": [
      "/usr/local/lib/python3.11/dist-packages/sklearn/decomposition/_fastica.py:542: FutureWarning: Starting in v1.3, whiten='unit-variance' will be used by default.\n",
      "  warnings.warn(\n"
     ]
    },
    {
     "name": "stdout",
     "output_type": "stream",
     "text": [
      "Trial 336: Artifacts - 6.4% (Validation: 0, Clipping: 0, Motion: 144)\n"
     ]
    },
    {
     "name": "stderr",
     "output_type": "stream",
     "text": [
      "/usr/local/lib/python3.11/dist-packages/sklearn/decomposition/_fastica.py:542: FutureWarning: Starting in v1.3, whiten='unit-variance' will be used by default.\n",
      "  warnings.warn(\n"
     ]
    },
    {
     "name": "stdout",
     "output_type": "stream",
     "text": [
      "Trial 337: Artifacts - 2.2% (Validation: 0, Clipping: 0, Motion: 50)\n",
      "Trial 338: Artifacts - 0.0% (Validation: 0, Clipping: 0, Motion: 0)\n",
      "Trial 339: Artifacts - 0.2% (Validation: 0, Clipping: 0, Motion: 5)\n",
      "Trial 340: Artifacts - 0.0% (Validation: 0, Clipping: 1, Motion: 0)\n",
      "Trial 341: Artifacts - 17.3% (Validation: 364, Clipping: 9, Motion: 26)\n",
      "Trial 342: Artifacts - 2.7% (Validation: 0, Clipping: 0, Motion: 60)\n"
     ]
    },
    {
     "name": "stderr",
     "output_type": "stream",
     "text": [
      "/usr/local/lib/python3.11/dist-packages/sklearn/decomposition/_fastica.py:542: FutureWarning: Starting in v1.3, whiten='unit-variance' will be used by default.\n",
      "  warnings.warn(\n"
     ]
    },
    {
     "name": "stdout",
     "output_type": "stream",
     "text": [
      "Trial 343: Artifacts - 3.8% (Validation: 86, Clipping: 0, Motion: 0)\n",
      "Trial 344: Artifacts - 1.4% (Validation: 0, Clipping: 1, Motion: 30)\n",
      "Trial 345: Artifacts - 2.3% (Validation: 0, Clipping: 0, Motion: 52)\n"
     ]
    },
    {
     "name": "stderr",
     "output_type": "stream",
     "text": [
      "/usr/local/lib/python3.11/dist-packages/sklearn/decomposition/_fastica.py:542: FutureWarning: Starting in v1.3, whiten='unit-variance' will be used by default.\n",
      "  warnings.warn(\n"
     ]
    },
    {
     "name": "stdout",
     "output_type": "stream",
     "text": [
      "Trial 346: Artifacts - 5.4% (Validation: 101, Clipping: 0, Motion: 21)\n",
      "Trial 347: Artifacts - 0.0% (Validation: 0, Clipping: 0, Motion: 0)\n",
      "Trial 348: Artifacts - 3.0% (Validation: 0, Clipping: 0, Motion: 67)\n"
     ]
    },
    {
     "name": "stderr",
     "output_type": "stream",
     "text": [
      "/usr/local/lib/python3.11/dist-packages/sklearn/decomposition/_fastica.py:542: FutureWarning: Starting in v1.3, whiten='unit-variance' will be used by default.\n",
      "  warnings.warn(\n"
     ]
    },
    {
     "name": "stdout",
     "output_type": "stream",
     "text": [
      "Trial 349: Artifacts - 1.9% (Validation: 0, Clipping: 0, Motion: 42)\n",
      "Trial 350: Artifacts - 0.4% (Validation: 0, Clipping: 0, Motion: 10)\n",
      "Trial 351: Artifacts - 7.1% (Validation: 0, Clipping: 0, Motion: 160)\n"
     ]
    },
    {
     "name": "stderr",
     "output_type": "stream",
     "text": [
      "/usr/local/lib/python3.11/dist-packages/sklearn/decomposition/_fastica.py:542: FutureWarning: Starting in v1.3, whiten='unit-variance' will be used by default.\n",
      "  warnings.warn(\n"
     ]
    },
    {
     "name": "stdout",
     "output_type": "stream",
     "text": [
      "Trial 352: Artifacts - 1.2% (Validation: 0, Clipping: 1, Motion: 27)\n",
      "Trial 353: Artifacts - 5.2% (Validation: 47, Clipping: 29, Motion: 69)\n"
     ]
    },
    {
     "name": "stderr",
     "output_type": "stream",
     "text": [
      "/usr/local/lib/python3.11/dist-packages/sklearn/decomposition/_fastica.py:542: FutureWarning: Starting in v1.3, whiten='unit-variance' will be used by default.\n",
      "  warnings.warn(\n"
     ]
    },
    {
     "name": "stdout",
     "output_type": "stream",
     "text": [
      "Trial 354: Artifacts - 3.0% (Validation: 67, Clipping: 0, Motion: 0)\n",
      "Trial 355: Artifacts - 1.7% (Validation: 0, Clipping: 1, Motion: 37)\n",
      "Trial 356: Artifacts - 4.3% (Validation: 3, Clipping: 0, Motion: 93)\n"
     ]
    },
    {
     "name": "stderr",
     "output_type": "stream",
     "text": [
      "/usr/local/lib/python3.11/dist-packages/sklearn/decomposition/_fastica.py:542: FutureWarning: Starting in v1.3, whiten='unit-variance' will be used by default.\n",
      "  warnings.warn(\n"
     ]
    },
    {
     "name": "stdout",
     "output_type": "stream",
     "text": [
      "Trial 357: Artifacts - 9.5% (Validation: 60, Clipping: 30, Motion: 168)\n"
     ]
    },
    {
     "name": "stderr",
     "output_type": "stream",
     "text": [
      "/usr/local/lib/python3.11/dist-packages/sklearn/decomposition/_fastica.py:542: FutureWarning: Starting in v1.3, whiten='unit-variance' will be used by default.\n",
      "  warnings.warn(\n"
     ]
    },
    {
     "name": "stdout",
     "output_type": "stream",
     "text": [
      "Trial 358: Artifacts - 4.2% (Validation: 93, Clipping: 31, Motion: 0)\n",
      "Trial 359: Artifacts - 9.8% (Validation: 151, Clipping: 38, Motion: 69)\n"
     ]
    },
    {
     "name": "stderr",
     "output_type": "stream",
     "text": [
      "/usr/local/lib/python3.11/dist-packages/sklearn/decomposition/_fastica.py:542: FutureWarning: Starting in v1.3, whiten='unit-variance' will be used by default.\n",
      "  warnings.warn(\n"
     ]
    },
    {
     "name": "stdout",
     "output_type": "stream",
     "text": [
      "Trial 360: Artifacts - 10.8% (Validation: 0, Clipping: 0, Motion: 243)\n"
     ]
    },
    {
     "name": "stderr",
     "output_type": "stream",
     "text": [
      "/usr/local/lib/python3.11/dist-packages/sklearn/decomposition/_fastica.py:542: FutureWarning: Starting in v1.3, whiten='unit-variance' will be used by default.\n",
      "  warnings.warn(\n"
     ]
    },
    {
     "name": "stdout",
     "output_type": "stream",
     "text": [
      "Trial 361: Artifacts - 24.7% (Validation: 362, Clipping: 4, Motion: 198)\n"
     ]
    },
    {
     "name": "stderr",
     "output_type": "stream",
     "text": [
      "/usr/local/lib/python3.11/dist-packages/sklearn/decomposition/_fastica.py:542: FutureWarning: Starting in v1.3, whiten='unit-variance' will be used by default.\n",
      "  warnings.warn(\n"
     ]
    },
    {
     "name": "stdout",
     "output_type": "stream",
     "text": [
      "Trial 362: Artifacts - 7.5% (Validation: 88, Clipping: 8, Motion: 80)\n"
     ]
    },
    {
     "name": "stderr",
     "output_type": "stream",
     "text": [
      "/usr/local/lib/python3.11/dist-packages/sklearn/decomposition/_fastica.py:542: FutureWarning: Starting in v1.3, whiten='unit-variance' will be used by default.\n",
      "  warnings.warn(\n"
     ]
    },
    {
     "name": "stdout",
     "output_type": "stream",
     "text": [
      "Trial 363: Artifacts - 14.2% (Validation: 320, Clipping: 117, Motion: 0)\n",
      "Trial 364: Artifacts - 3.2% (Validation: 0, Clipping: 0, Motion: 73)\n"
     ]
    },
    {
     "name": "stderr",
     "output_type": "stream",
     "text": [
      "/usr/local/lib/python3.11/dist-packages/sklearn/decomposition/_fastica.py:542: FutureWarning: Starting in v1.3, whiten='unit-variance' will be used by default.\n",
      "  warnings.warn(\n"
     ]
    },
    {
     "name": "stdout",
     "output_type": "stream",
     "text": [
      "Trial 365: Artifacts - 0.5% (Validation: 11, Clipping: 0, Motion: 0)\n",
      "REJECTING trial 366: 37.7% artifacts\n",
      "REJECTING trial 367: 36.1% artifacts\n",
      "Trial 368: Artifacts - 22.8% (Validation: 483, Clipping: 35, Motion: 28)\n",
      "Trial 369: Artifacts - 13.4% (Validation: 39, Clipping: 0, Motion: 285)\n"
     ]
    },
    {
     "name": "stderr",
     "output_type": "stream",
     "text": [
      "/usr/local/lib/python3.11/dist-packages/sklearn/decomposition/_fastica.py:542: FutureWarning: Starting in v1.3, whiten='unit-variance' will be used by default.\n",
      "  warnings.warn(\n"
     ]
    },
    {
     "name": "stdout",
     "output_type": "stream",
     "text": [
      "Trial 370: Artifacts - 0.3% (Validation: 0, Clipping: 0, Motion: 7)\n",
      "Trial 371: Artifacts - 1.2% (Validation: 0, Clipping: 0, Motion: 26)\n",
      "Trial 372: Artifacts - 0.0% (Validation: 0, Clipping: 0, Motion: 0)\n",
      "Trial 373: Artifacts - 0.0% (Validation: 0, Clipping: 1, Motion: 0)\n",
      "Trial 374: Artifacts - 1.0% (Validation: 0, Clipping: 0, Motion: 23)\n",
      "Trial 375: Artifacts - 0.3% (Validation: 0, Clipping: 0, Motion: 7)\n",
      "Trial 376: Artifacts - 0.0% (Validation: 0, Clipping: 0, Motion: 0)\n",
      "Trial 377: Artifacts - 0.0% (Validation: 0, Clipping: 0, Motion: 0)\n",
      "Trial 378: Artifacts - 0.0% (Validation: 0, Clipping: 0, Motion: 0)\n",
      "Trial 379: Artifacts - 0.6% (Validation: 0, Clipping: 0, Motion: 13)\n",
      "Trial 380: Artifacts - 0.0% (Validation: 0, Clipping: 0, Motion: 0)\n",
      "Trial 381: Artifacts - 9.0% (Validation: 0, Clipping: 1, Motion: 202)\n"
     ]
    },
    {
     "name": "stderr",
     "output_type": "stream",
     "text": [
      "/usr/local/lib/python3.11/dist-packages/sklearn/decomposition/_fastica.py:542: FutureWarning: Starting in v1.3, whiten='unit-variance' will be used by default.\n",
      "  warnings.warn(\n"
     ]
    },
    {
     "name": "stdout",
     "output_type": "stream",
     "text": [
      "Trial 382: Artifacts - 9.6% (Validation: 216, Clipping: 24, Motion: 0)\n",
      "Trial 383: Artifacts - 0.0% (Validation: 0, Clipping: 1, Motion: 0)\n",
      "Trial 384: Artifacts - 3.3% (Validation: 0, Clipping: 0, Motion: 75)\n"
     ]
    },
    {
     "name": "stderr",
     "output_type": "stream",
     "text": [
      "/usr/local/lib/python3.11/dist-packages/sklearn/decomposition/_fastica.py:542: FutureWarning: Starting in v1.3, whiten='unit-variance' will be used by default.\n",
      "  warnings.warn(\n"
     ]
    },
    {
     "name": "stdout",
     "output_type": "stream",
     "text": [
      "Trial 385: Artifacts - 11.4% (Validation: 0, Clipping: 0, Motion: 256)\n"
     ]
    },
    {
     "name": "stderr",
     "output_type": "stream",
     "text": [
      "/usr/local/lib/python3.11/dist-packages/sklearn/decomposition/_fastica.py:542: FutureWarning: Starting in v1.3, whiten='unit-variance' will be used by default.\n",
      "  warnings.warn(\n"
     ]
    },
    {
     "name": "stdout",
     "output_type": "stream",
     "text": [
      "Trial 386: Artifacts - 0.3% (Validation: 0, Clipping: 1, Motion: 5)\n",
      "Trial 387: Artifacts - 0.0% (Validation: 0, Clipping: 0, Motion: 0)\n",
      "Trial 388: Artifacts - 3.7% (Validation: 0, Clipping: 0, Motion: 84)\n"
     ]
    },
    {
     "name": "stderr",
     "output_type": "stream",
     "text": [
      "/usr/local/lib/python3.11/dist-packages/sklearn/decomposition/_fastica.py:542: FutureWarning: Starting in v1.3, whiten='unit-variance' will be used by default.\n",
      "  warnings.warn(\n"
     ]
    },
    {
     "name": "stdout",
     "output_type": "stream",
     "text": [
      "Trial 389: Artifacts - 0.0% (Validation: 0, Clipping: 0, Motion: 0)\n",
      "Trial 390: Artifacts - 0.0% (Validation: 0, Clipping: 0, Motion: 0)\n",
      "Trial 391: Artifacts - 10.6% (Validation: 0, Clipping: 0, Motion: 238)\n"
     ]
    },
    {
     "name": "stderr",
     "output_type": "stream",
     "text": [
      "/usr/local/lib/python3.11/dist-packages/sklearn/decomposition/_fastica.py:542: FutureWarning: Starting in v1.3, whiten='unit-variance' will be used by default.\n",
      "  warnings.warn(\n"
     ]
    },
    {
     "name": "stdout",
     "output_type": "stream",
     "text": [
      "Trial 392: Artifacts - 0.0% (Validation: 0, Clipping: 0, Motion: 0)\n",
      "Trial 393: Artifacts - 0.0% (Validation: 0, Clipping: 1, Motion: 0)\n",
      "Trial 394: Artifacts - 5.8% (Validation: 0, Clipping: 0, Motion: 130)\n"
     ]
    },
    {
     "name": "stderr",
     "output_type": "stream",
     "text": [
      "/usr/local/lib/python3.11/dist-packages/sklearn/decomposition/_fastica.py:542: FutureWarning: Starting in v1.3, whiten='unit-variance' will be used by default.\n",
      "  warnings.warn(\n"
     ]
    },
    {
     "name": "stdout",
     "output_type": "stream",
     "text": [
      "Trial 395: Artifacts - 0.0% (Validation: 0, Clipping: 0, Motion: 0)\n",
      "Trial 396: Artifacts - 12.4% (Validation: 96, Clipping: 47, Motion: 182)\n"
     ]
    },
    {
     "name": "stderr",
     "output_type": "stream",
     "text": [
      "/usr/local/lib/python3.11/dist-packages/sklearn/decomposition/_fastica.py:542: FutureWarning: Starting in v1.3, whiten='unit-variance' will be used by default.\n",
      "  warnings.warn(\n"
     ]
    },
    {
     "name": "stdout",
     "output_type": "stream",
     "text": [
      "Trial 397: Artifacts - 1.6% (Validation: 0, Clipping: 0, Motion: 35)\n",
      "Trial 398: Artifacts - 0.0% (Validation: 0, Clipping: 0, Motion: 0)\n",
      "Trial 399: Artifacts - 0.6% (Validation: 0, Clipping: 1, Motion: 12)\n",
      "Trial 400: Artifacts - 0.7% (Validation: 0, Clipping: 0, Motion: 16)\n",
      "Processed 400/4800 trials\n",
      "Trial 401: Artifacts - 1.4% (Validation: 0, Clipping: 0, Motion: 32)\n",
      "Trial 402: Artifacts - 2.0% (Validation: 0, Clipping: 0, Motion: 44)\n",
      "Trial 403: Artifacts - 0.4% (Validation: 0, Clipping: 0, Motion: 10)\n",
      "Trial 404: Artifacts - 0.2% (Validation: 0, Clipping: 0, Motion: 4)\n",
      "Trial 405: Artifacts - 0.0% (Validation: 0, Clipping: 0, Motion: 0)\n",
      "Trial 406: Artifacts - 0.0% (Validation: 0, Clipping: 0, Motion: 0)\n",
      "Trial 407: Artifacts - 0.1% (Validation: 0, Clipping: 0, Motion: 3)\n",
      "Trial 408: Artifacts - 0.0% (Validation: 0, Clipping: 1, Motion: 0)\n",
      "Trial 409: Artifacts - 0.0% (Validation: 0, Clipping: 0, Motion: 0)\n",
      "Trial 410: Artifacts - 0.0% (Validation: 0, Clipping: 0, Motion: 0)\n",
      "Trial 411: Artifacts - 15.4% (Validation: 0, Clipping: 0, Motion: 347)\n"
     ]
    },
    {
     "name": "stderr",
     "output_type": "stream",
     "text": [
      "/usr/local/lib/python3.11/dist-packages/sklearn/decomposition/_fastica.py:542: FutureWarning: Starting in v1.3, whiten='unit-variance' will be used by default.\n",
      "  warnings.warn(\n"
     ]
    },
    {
     "name": "stdout",
     "output_type": "stream",
     "text": [
      "Trial 412: Artifacts - 1.6% (Validation: 0, Clipping: 1, Motion: 35)\n",
      "Trial 413: Artifacts - 1.3% (Validation: 0, Clipping: 0, Motion: 29)\n",
      "Trial 414: Artifacts - 0.0% (Validation: 0, Clipping: 0, Motion: 0)\n",
      "Trial 415: Artifacts - 0.0% (Validation: 0, Clipping: 0, Motion: 0)\n",
      "Trial 416: Artifacts - 0.0% (Validation: 0, Clipping: 0, Motion: 0)\n",
      "Trial 417: Artifacts - 0.0% (Validation: 0, Clipping: 0, Motion: 0)\n",
      "Trial 418: Artifacts - 0.0% (Validation: 0, Clipping: 0, Motion: 0)\n",
      "Trial 419: Artifacts - 0.0% (Validation: 0, Clipping: 0, Motion: 0)\n",
      "Trial 420: Artifacts - 0.0% (Validation: 0, Clipping: 0, Motion: 0)\n",
      "Trial 421: Artifacts - 6.8% (Validation: 0, Clipping: 0, Motion: 153)\n"
     ]
    },
    {
     "name": "stderr",
     "output_type": "stream",
     "text": [
      "/usr/local/lib/python3.11/dist-packages/sklearn/decomposition/_fastica.py:542: FutureWarning: Starting in v1.3, whiten='unit-variance' will be used by default.\n",
      "  warnings.warn(\n"
     ]
    },
    {
     "name": "stdout",
     "output_type": "stream",
     "text": [
      "Trial 422: Artifacts - 2.0% (Validation: 0, Clipping: 0, Motion: 44)\n",
      "Trial 423: Artifacts - 3.9% (Validation: 0, Clipping: 0, Motion: 88)\n"
     ]
    },
    {
     "name": "stderr",
     "output_type": "stream",
     "text": [
      "/usr/local/lib/python3.11/dist-packages/sklearn/decomposition/_fastica.py:542: FutureWarning: Starting in v1.3, whiten='unit-variance' will be used by default.\n",
      "  warnings.warn(\n"
     ]
    },
    {
     "name": "stdout",
     "output_type": "stream",
     "text": [
      "Trial 424: Artifacts - 2.6% (Validation: 0, Clipping: 0, Motion: 59)\n"
     ]
    },
    {
     "name": "stderr",
     "output_type": "stream",
     "text": [
      "/usr/local/lib/python3.11/dist-packages/sklearn/decomposition/_fastica.py:542: FutureWarning: Starting in v1.3, whiten='unit-variance' will be used by default.\n",
      "  warnings.warn(\n"
     ]
    },
    {
     "name": "stdout",
     "output_type": "stream",
     "text": [
      "Trial 425: Artifacts - 0.0% (Validation: 0, Clipping: 0, Motion: 0)\n",
      "Trial 426: Artifacts - 0.0% (Validation: 0, Clipping: 0, Motion: 0)\n",
      "Trial 427: Artifacts - 3.7% (Validation: 0, Clipping: 0, Motion: 83)\n"
     ]
    },
    {
     "name": "stderr",
     "output_type": "stream",
     "text": [
      "/usr/local/lib/python3.11/dist-packages/sklearn/decomposition/_fastica.py:542: FutureWarning: Starting in v1.3, whiten='unit-variance' will be used by default.\n",
      "  warnings.warn(\n"
     ]
    },
    {
     "name": "stdout",
     "output_type": "stream",
     "text": [
      "Trial 428: Artifacts - 0.0% (Validation: 0, Clipping: 0, Motion: 0)\n",
      "Trial 429: Artifacts - 1.6% (Validation: 0, Clipping: 0, Motion: 35)\n",
      "Trial 430: Artifacts - 0.0% (Validation: 0, Clipping: 0, Motion: 0)\n",
      "Trial 431: Artifacts - 12.4% (Validation: 0, Clipping: 0, Motion: 280)\n"
     ]
    },
    {
     "name": "stderr",
     "output_type": "stream",
     "text": [
      "/usr/local/lib/python3.11/dist-packages/sklearn/decomposition/_fastica.py:542: FutureWarning: Starting in v1.3, whiten='unit-variance' will be used by default.\n",
      "  warnings.warn(\n"
     ]
    },
    {
     "name": "stdout",
     "output_type": "stream",
     "text": [
      "Trial 432: Artifacts - 2.0% (Validation: 0, Clipping: 0, Motion: 44)\n",
      "Trial 433: Artifacts - 3.3% (Validation: 0, Clipping: 0, Motion: 74)\n"
     ]
    },
    {
     "name": "stderr",
     "output_type": "stream",
     "text": [
      "/usr/local/lib/python3.11/dist-packages/sklearn/decomposition/_fastica.py:542: FutureWarning: Starting in v1.3, whiten='unit-variance' will be used by default.\n",
      "  warnings.warn(\n"
     ]
    },
    {
     "name": "stdout",
     "output_type": "stream",
     "text": [
      "Trial 434: Artifacts - 0.0% (Validation: 0, Clipping: 0, Motion: 0)\n",
      "Trial 435: Artifacts - 0.0% (Validation: 0, Clipping: 0, Motion: 0)\n",
      "Trial 436: Artifacts - 0.0% (Validation: 0, Clipping: 0, Motion: 0)\n",
      "Trial 437: Artifacts - 0.0% (Validation: 0, Clipping: 0, Motion: 0)\n",
      "Trial 438: Artifacts - 0.0% (Validation: 0, Clipping: 0, Motion: 0)\n",
      "Trial 439: Artifacts - 0.0% (Validation: 0, Clipping: 0, Motion: 0)\n",
      "Trial 440: Artifacts - 0.0% (Validation: 0, Clipping: 0, Motion: 0)\n",
      "Trial 441: Artifacts - 8.0% (Validation: 0, Clipping: 0, Motion: 179)\n"
     ]
    },
    {
     "name": "stderr",
     "output_type": "stream",
     "text": [
      "/usr/local/lib/python3.11/dist-packages/sklearn/decomposition/_fastica.py:542: FutureWarning: Starting in v1.3, whiten='unit-variance' will be used by default.\n",
      "  warnings.warn(\n"
     ]
    },
    {
     "name": "stdout",
     "output_type": "stream",
     "text": [
      "Trial 442: Artifacts - 0.0% (Validation: 0, Clipping: 0, Motion: 0)\n",
      "Trial 443: Artifacts - 7.6% (Validation: 0, Clipping: 0, Motion: 172)\n"
     ]
    },
    {
     "name": "stderr",
     "output_type": "stream",
     "text": [
      "/usr/local/lib/python3.11/dist-packages/sklearn/decomposition/_fastica.py:542: FutureWarning: Starting in v1.3, whiten='unit-variance' will be used by default.\n",
      "  warnings.warn(\n"
     ]
    },
    {
     "name": "stdout",
     "output_type": "stream",
     "text": [
      "Trial 444: Artifacts - 0.0% (Validation: 0, Clipping: 0, Motion: 0)\n",
      "Trial 445: Artifacts - 0.4% (Validation: 0, Clipping: 0, Motion: 10)\n",
      "Trial 446: Artifacts - 0.8% (Validation: 0, Clipping: 0, Motion: 19)\n",
      "Trial 447: Artifacts - 7.8% (Validation: 0, Clipping: 0, Motion: 175)\n"
     ]
    },
    {
     "name": "stderr",
     "output_type": "stream",
     "text": [
      "/usr/local/lib/python3.11/dist-packages/sklearn/decomposition/_fastica.py:542: FutureWarning: Starting in v1.3, whiten='unit-variance' will be used by default.\n",
      "  warnings.warn(\n"
     ]
    },
    {
     "name": "stdout",
     "output_type": "stream",
     "text": [
      "Trial 448: Artifacts - 0.0% (Validation: 0, Clipping: 0, Motion: 0)\n",
      "Trial 449: Artifacts - 0.0% (Validation: 0, Clipping: 0, Motion: 0)\n",
      "Trial 450: Artifacts - 0.0% (Validation: 0, Clipping: 0, Motion: 0)\n",
      "Trial 451: Artifacts - 8.5% (Validation: 0, Clipping: 0, Motion: 191)\n"
     ]
    },
    {
     "name": "stderr",
     "output_type": "stream",
     "text": [
      "/usr/local/lib/python3.11/dist-packages/sklearn/decomposition/_fastica.py:542: FutureWarning: Starting in v1.3, whiten='unit-variance' will be used by default.\n",
      "  warnings.warn(\n"
     ]
    },
    {
     "name": "stdout",
     "output_type": "stream",
     "text": [
      "Trial 452: Artifacts - 0.0% (Validation: 0, Clipping: 0, Motion: 0)\n",
      "Trial 453: Artifacts - 5.7% (Validation: 0, Clipping: 1, Motion: 128)\n"
     ]
    },
    {
     "name": "stderr",
     "output_type": "stream",
     "text": [
      "/usr/local/lib/python3.11/dist-packages/sklearn/decomposition/_fastica.py:542: FutureWarning: Starting in v1.3, whiten='unit-variance' will be used by default.\n",
      "  warnings.warn(\n"
     ]
    },
    {
     "name": "stdout",
     "output_type": "stream",
     "text": [
      "Trial 454: Artifacts - 2.2% (Validation: 0, Clipping: 0, Motion: 50)\n",
      "Trial 455: Artifacts - 0.6% (Validation: 0, Clipping: 1, Motion: 12)\n",
      "Trial 456: Artifacts - 0.0% (Validation: 0, Clipping: 0, Motion: 0)\n",
      "Trial 457: Artifacts - 0.0% (Validation: 0, Clipping: 1, Motion: 0)\n",
      "Trial 458: Artifacts - 0.0% (Validation: 0, Clipping: 0, Motion: 0)\n",
      "Trial 459: Artifacts - 0.0% (Validation: 0, Clipping: 1, Motion: 0)\n",
      "Trial 460: Artifacts - 8.7% (Validation: 0, Clipping: 1, Motion: 194)\n"
     ]
    },
    {
     "name": "stderr",
     "output_type": "stream",
     "text": [
      "/usr/local/lib/python3.11/dist-packages/sklearn/decomposition/_fastica.py:542: FutureWarning: Starting in v1.3, whiten='unit-variance' will be used by default.\n",
      "  warnings.warn(\n"
     ]
    },
    {
     "name": "stdout",
     "output_type": "stream",
     "text": [
      "Trial 461: Artifacts - 13.2% (Validation: 0, Clipping: 0, Motion: 297)\n"
     ]
    },
    {
     "name": "stderr",
     "output_type": "stream",
     "text": [
      "/usr/local/lib/python3.11/dist-packages/sklearn/decomposition/_fastica.py:542: FutureWarning: Starting in v1.3, whiten='unit-variance' will be used by default.\n",
      "  warnings.warn(\n"
     ]
    },
    {
     "name": "stdout",
     "output_type": "stream",
     "text": [
      "Trial 462: Artifacts - 1.4% (Validation: 0, Clipping: 0, Motion: 31)\n",
      "Trial 463: Artifacts - 0.0% (Validation: 0, Clipping: 1, Motion: 0)\n",
      "Trial 464: Artifacts - 0.0% (Validation: 0, Clipping: 1, Motion: 0)\n",
      "Trial 465: Artifacts - 0.0% (Validation: 0, Clipping: 0, Motion: 0)\n",
      "Trial 466: Artifacts - 3.7% (Validation: 0, Clipping: 0, Motion: 84)\n"
     ]
    },
    {
     "name": "stderr",
     "output_type": "stream",
     "text": [
      "/usr/local/lib/python3.11/dist-packages/sklearn/decomposition/_fastica.py:542: FutureWarning: Starting in v1.3, whiten='unit-variance' will be used by default.\n",
      "  warnings.warn(\n"
     ]
    },
    {
     "name": "stdout",
     "output_type": "stream",
     "text": [
      "Trial 467: Artifacts - 0.0% (Validation: 0, Clipping: 0, Motion: 0)\n",
      "Trial 468: Artifacts - 0.0% (Validation: 0, Clipping: 0, Motion: 0)\n",
      "Trial 469: Artifacts - 0.0% (Validation: 0, Clipping: 0, Motion: 0)\n",
      "Trial 470: Artifacts - 0.1% (Validation: 0, Clipping: 0, Motion: 2)\n",
      "Trial 471: Artifacts - 10.7% (Validation: 0, Clipping: 0, Motion: 241)\n"
     ]
    },
    {
     "name": "stderr",
     "output_type": "stream",
     "text": [
      "/usr/local/lib/python3.11/dist-packages/sklearn/decomposition/_fastica.py:542: FutureWarning: Starting in v1.3, whiten='unit-variance' will be used by default.\n",
      "  warnings.warn(\n"
     ]
    },
    {
     "name": "stdout",
     "output_type": "stream",
     "text": [
      "Trial 472: Artifacts - 2.4% (Validation: 0, Clipping: 0, Motion: 54)\n"
     ]
    },
    {
     "name": "stderr",
     "output_type": "stream",
     "text": [
      "/usr/local/lib/python3.11/dist-packages/sklearn/decomposition/_fastica.py:542: FutureWarning: Starting in v1.3, whiten='unit-variance' will be used by default.\n",
      "  warnings.warn(\n"
     ]
    },
    {
     "name": "stdout",
     "output_type": "stream",
     "text": [
      "Trial 473: Artifacts - 5.4% (Validation: 0, Clipping: 0, Motion: 122)\n"
     ]
    },
    {
     "name": "stderr",
     "output_type": "stream",
     "text": [
      "/usr/local/lib/python3.11/dist-packages/sklearn/decomposition/_fastica.py:542: FutureWarning: Starting in v1.3, whiten='unit-variance' will be used by default.\n",
      "  warnings.warn(\n"
     ]
    },
    {
     "name": "stdout",
     "output_type": "stream",
     "text": [
      "Trial 474: Artifacts - 0.4% (Validation: 0, Clipping: 0, Motion: 8)\n",
      "Trial 475: Artifacts - 3.7% (Validation: 0, Clipping: 0, Motion: 83)\n"
     ]
    },
    {
     "name": "stderr",
     "output_type": "stream",
     "text": [
      "/usr/local/lib/python3.11/dist-packages/sklearn/decomposition/_fastica.py:542: FutureWarning: Starting in v1.3, whiten='unit-variance' will be used by default.\n",
      "  warnings.warn(\n"
     ]
    },
    {
     "name": "stdout",
     "output_type": "stream",
     "text": [
      "Trial 476: Artifacts - 0.0% (Validation: 0, Clipping: 0, Motion: 1)\n",
      "Trial 477: Artifacts - 0.0% (Validation: 0, Clipping: 0, Motion: 0)\n",
      "Trial 478: Artifacts - 0.2% (Validation: 0, Clipping: 1, Motion: 4)\n",
      "Trial 479: Artifacts - 4.6% (Validation: 0, Clipping: 0, Motion: 103)\n"
     ]
    },
    {
     "name": "stderr",
     "output_type": "stream",
     "text": [
      "/usr/local/lib/python3.11/dist-packages/sklearn/decomposition/_fastica.py:542: FutureWarning: Starting in v1.3, whiten='unit-variance' will be used by default.\n",
      "  warnings.warn(\n"
     ]
    },
    {
     "name": "stdout",
     "output_type": "stream",
     "text": [
      "Trial 480: Artifacts - 6.0% (Validation: 0, Clipping: 0, Motion: 136)\n"
     ]
    },
    {
     "name": "stderr",
     "output_type": "stream",
     "text": [
      "/usr/local/lib/python3.11/dist-packages/sklearn/decomposition/_fastica.py:542: FutureWarning: Starting in v1.3, whiten='unit-variance' will be used by default.\n",
      "  warnings.warn(\n"
     ]
    },
    {
     "name": "stdout",
     "output_type": "stream",
     "text": [
      "Trial 481: Artifacts - 1.6% (Validation: 0, Clipping: 0, Motion: 36)\n",
      "Trial 482: Artifacts - 0.0% (Validation: 0, Clipping: 1, Motion: 0)\n",
      "Trial 483: Artifacts - 0.0% (Validation: 0, Clipping: 0, Motion: 0)\n",
      "Trial 484: Artifacts - 0.0% (Validation: 0, Clipping: 0, Motion: 0)\n",
      "Trial 485: Artifacts - 0.0% (Validation: 0, Clipping: 0, Motion: 0)\n",
      "Trial 486: Artifacts - 0.0% (Validation: 0, Clipping: 0, Motion: 0)\n",
      "Trial 487: Artifacts - 0.0% (Validation: 0, Clipping: 0, Motion: 0)\n",
      "Trial 488: Artifacts - 0.0% (Validation: 0, Clipping: 0, Motion: 0)\n",
      "Trial 489: Artifacts - 0.0% (Validation: 0, Clipping: 1, Motion: 0)\n",
      "Trial 490: Artifacts - 3.2% (Validation: 71, Clipping: 7, Motion: 0)\n",
      "Trial 491: Artifacts - 6.3% (Validation: 0, Clipping: 0, Motion: 141)\n"
     ]
    },
    {
     "name": "stderr",
     "output_type": "stream",
     "text": [
      "/usr/local/lib/python3.11/dist-packages/sklearn/decomposition/_fastica.py:542: FutureWarning: Starting in v1.3, whiten='unit-variance' will be used by default.\n",
      "  warnings.warn(\n"
     ]
    },
    {
     "name": "stdout",
     "output_type": "stream",
     "text": [
      "Trial 492: Artifacts - 0.0% (Validation: 0, Clipping: 0, Motion: 0)\n",
      "Trial 493: Artifacts - 0.0% (Validation: 0, Clipping: 0, Motion: 0)\n",
      "Trial 494: Artifacts - 0.0% (Validation: 0, Clipping: 0, Motion: 0)\n",
      "Trial 495: Artifacts - 0.0% (Validation: 0, Clipping: 0, Motion: 0)\n",
      "Trial 496: Artifacts - 0.0% (Validation: 0, Clipping: 0, Motion: 0)\n",
      "Trial 497: Artifacts - 0.0% (Validation: 0, Clipping: 0, Motion: 0)\n",
      "Trial 498: Artifacts - 15.0% (Validation: 338, Clipping: 75, Motion: 0)\n",
      "Trial 499: Artifacts - 0.0% (Validation: 0, Clipping: 0, Motion: 0)\n",
      "Trial 500: Artifacts - 0.0% (Validation: 0, Clipping: 1, Motion: 0)\n",
      "Processed 500/4800 trials\n",
      "Trial 501: Artifacts - 14.0% (Validation: 93, Clipping: 0, Motion: 223)\n"
     ]
    },
    {
     "name": "stderr",
     "output_type": "stream",
     "text": [
      "/usr/local/lib/python3.11/dist-packages/sklearn/decomposition/_fastica.py:542: FutureWarning: Starting in v1.3, whiten='unit-variance' will be used by default.\n",
      "  warnings.warn(\n"
     ]
    },
    {
     "name": "stdout",
     "output_type": "stream",
     "text": [
      "Trial 502: Artifacts - 0.0% (Validation: 0, Clipping: 1, Motion: 0)\n",
      "Trial 503: Artifacts - 0.0% (Validation: 0, Clipping: 0, Motion: 0)\n",
      "Trial 504: Artifacts - 0.0% (Validation: 0, Clipping: 0, Motion: 0)\n",
      "Trial 505: Artifacts - 3.2% (Validation: 72, Clipping: 1, Motion: 0)\n",
      "Trial 506: Artifacts - 0.0% (Validation: 0, Clipping: 0, Motion: 0)\n",
      "Trial 507: Artifacts - 0.0% (Validation: 0, Clipping: 1, Motion: 0)\n",
      "Trial 508: Artifacts - 0.0% (Validation: 0, Clipping: 0, Motion: 0)\n",
      "Trial 509: Artifacts - 0.0% (Validation: 0, Clipping: 1, Motion: 0)\n",
      "Trial 510: Artifacts - 0.0% (Validation: 0, Clipping: 1, Motion: 0)\n",
      "Trial 511: Artifacts - 1.5% (Validation: 0, Clipping: 0, Motion: 33)\n",
      "Trial 512: Artifacts - 0.0% (Validation: 0, Clipping: 0, Motion: 0)\n",
      "Trial 513: Artifacts - 0.0% (Validation: 0, Clipping: 0, Motion: 0)\n",
      "Trial 514: Artifacts - 0.0% (Validation: 0, Clipping: 1, Motion: 0)\n",
      "Trial 515: Artifacts - 0.0% (Validation: 0, Clipping: 0, Motion: 0)\n",
      "Trial 516: Artifacts - 3.6% (Validation: 82, Clipping: 16, Motion: 0)\n",
      "Trial 517: Artifacts - 4.8% (Validation: 107, Clipping: 53, Motion: 0)\n",
      "Trial 518: Artifacts - 0.0% (Validation: 0, Clipping: 1, Motion: 0)\n",
      "Trial 519: Artifacts - 3.2% (Validation: 71, Clipping: 1, Motion: 0)\n",
      "Trial 520: Artifacts - 1.6% (Validation: 0, Clipping: 0, Motion: 36)\n",
      "Trial 521: Artifacts - 8.9% (Validation: 79, Clipping: 0, Motion: 122)\n"
     ]
    },
    {
     "name": "stderr",
     "output_type": "stream",
     "text": [
      "/usr/local/lib/python3.11/dist-packages/sklearn/decomposition/_fastica.py:542: FutureWarning: Starting in v1.3, whiten='unit-variance' will be used by default.\n",
      "  warnings.warn(\n"
     ]
    },
    {
     "name": "stdout",
     "output_type": "stream",
     "text": [
      "Trial 522: Artifacts - 0.0% (Validation: 0, Clipping: 1, Motion: 0)\n",
      "Trial 523: Artifacts - 2.9% (Validation: 65, Clipping: 11, Motion: 0)\n",
      "Trial 524: Artifacts - 0.0% (Validation: 0, Clipping: 0, Motion: 0)\n",
      "Trial 525: Artifacts - 0.0% (Validation: 0, Clipping: 0, Motion: 0)\n",
      "Trial 526: Artifacts - 0.0% (Validation: 0, Clipping: 0, Motion: 0)\n",
      "Trial 527: Artifacts - 0.0% (Validation: 0, Clipping: 1, Motion: 0)\n",
      "Trial 528: Artifacts - 0.0% (Validation: 0, Clipping: 1, Motion: 0)\n",
      "Trial 529: Artifacts - 0.0% (Validation: 0, Clipping: 0, Motion: 0)\n",
      "Trial 530: Artifacts - 0.0% (Validation: 0, Clipping: 1, Motion: 0)\n",
      "Trial 531: Artifacts - 4.4% (Validation: 0, Clipping: 0, Motion: 99)\n"
     ]
    },
    {
     "name": "stderr",
     "output_type": "stream",
     "text": [
      "/usr/local/lib/python3.11/dist-packages/sklearn/decomposition/_fastica.py:542: FutureWarning: Starting in v1.3, whiten='unit-variance' will be used by default.\n",
      "  warnings.warn(\n"
     ]
    },
    {
     "name": "stdout",
     "output_type": "stream",
     "text": [
      "Trial 532: Artifacts - 0.0% (Validation: 0, Clipping: 0, Motion: 0)\n",
      "Trial 533: Artifacts - 0.0% (Validation: 0, Clipping: 0, Motion: 0)\n",
      "Trial 534: Artifacts - 0.0% (Validation: 0, Clipping: 0, Motion: 0)\n",
      "Trial 535: Artifacts - 0.0% (Validation: 0, Clipping: 0, Motion: 0)\n",
      "Trial 536: Artifacts - 0.0% (Validation: 0, Clipping: 0, Motion: 0)\n",
      "Trial 537: Artifacts - 2.2% (Validation: 49, Clipping: 28, Motion: 0)\n",
      "Trial 538: Artifacts - 0.0% (Validation: 0, Clipping: 0, Motion: 0)\n",
      "Trial 539: Artifacts - 3.2% (Validation: 71, Clipping: 17, Motion: 0)\n",
      "Trial 540: Artifacts - 0.0% (Validation: 0, Clipping: 0, Motion: 0)\n",
      "Trial 541: Artifacts - 16.1% (Validation: 190, Clipping: 1, Motion: 199)\n"
     ]
    },
    {
     "name": "stderr",
     "output_type": "stream",
     "text": [
      "/usr/local/lib/python3.11/dist-packages/sklearn/decomposition/_fastica.py:542: FutureWarning: Starting in v1.3, whiten='unit-variance' will be used by default.\n",
      "  warnings.warn(\n"
     ]
    },
    {
     "name": "stdout",
     "output_type": "stream",
     "text": [
      "Trial 542: Artifacts - 0.0% (Validation: 0, Clipping: 1, Motion: 0)\n",
      "Trial 543: Artifacts - 0.0% (Validation: 0, Clipping: 0, Motion: 0)\n",
      "Trial 544: Artifacts - 0.0% (Validation: 0, Clipping: 1, Motion: 0)\n",
      "Trial 545: Artifacts - 0.6% (Validation: 0, Clipping: 0, Motion: 14)\n",
      "Trial 546: Artifacts - 0.0% (Validation: 0, Clipping: 0, Motion: 0)\n",
      "Trial 547: Artifacts - 0.0% (Validation: 0, Clipping: 0, Motion: 0)\n",
      "Trial 548: Artifacts - 0.0% (Validation: 0, Clipping: 0, Motion: 0)\n",
      "Trial 549: Artifacts - 4.6% (Validation: 103, Clipping: 15, Motion: 0)\n",
      "Trial 550: Artifacts - 0.0% (Validation: 0, Clipping: 0, Motion: 0)\n",
      "Trial 551: Artifacts - 8.7% (Validation: 0, Clipping: 0, Motion: 195)\n"
     ]
    },
    {
     "name": "stderr",
     "output_type": "stream",
     "text": [
      "/usr/local/lib/python3.11/dist-packages/sklearn/decomposition/_fastica.py:542: FutureWarning: Starting in v1.3, whiten='unit-variance' will be used by default.\n",
      "  warnings.warn(\n"
     ]
    },
    {
     "name": "stdout",
     "output_type": "stream",
     "text": [
      "Trial 552: Artifacts - 0.0% (Validation: 0, Clipping: 0, Motion: 0)\n",
      "Trial 553: Artifacts - 0.0% (Validation: 0, Clipping: 0, Motion: 0)\n",
      "Trial 554: Artifacts - 0.0% (Validation: 0, Clipping: 0, Motion: 0)\n",
      "Trial 555: Artifacts - 0.0% (Validation: 0, Clipping: 1, Motion: 0)\n",
      "Trial 556: Artifacts - 0.0% (Validation: 0, Clipping: 0, Motion: 0)\n",
      "Trial 557: Artifacts - 0.0% (Validation: 0, Clipping: 0, Motion: 0)\n",
      "Trial 558: Artifacts - 0.0% (Validation: 0, Clipping: 0, Motion: 0)\n",
      "Trial 559: Artifacts - 0.0% (Validation: 0, Clipping: 0, Motion: 0)\n",
      "Trial 560: Artifacts - 0.0% (Validation: 0, Clipping: 0, Motion: 0)\n",
      "Trial 561: Artifacts - 3.8% (Validation: 0, Clipping: 0, Motion: 85)\n"
     ]
    },
    {
     "name": "stderr",
     "output_type": "stream",
     "text": [
      "/usr/local/lib/python3.11/dist-packages/sklearn/decomposition/_fastica.py:542: FutureWarning: Starting in v1.3, whiten='unit-variance' will be used by default.\n",
      "  warnings.warn(\n"
     ]
    },
    {
     "name": "stdout",
     "output_type": "stream",
     "text": [
      "Trial 562: Artifacts - 0.0% (Validation: 0, Clipping: 0, Motion: 1)\n",
      "Trial 563: Artifacts - 7.8% (Validation: 0, Clipping: 0, Motion: 175)\n"
     ]
    },
    {
     "name": "stderr",
     "output_type": "stream",
     "text": [
      "/usr/local/lib/python3.11/dist-packages/sklearn/decomposition/_fastica.py:542: FutureWarning: Starting in v1.3, whiten='unit-variance' will be used by default.\n",
      "  warnings.warn(\n"
     ]
    },
    {
     "name": "stdout",
     "output_type": "stream",
     "text": [
      "Trial 564: Artifacts - 0.8% (Validation: 0, Clipping: 0, Motion: 18)\n",
      "Trial 565: Artifacts - 3.9% (Validation: 0, Clipping: 0, Motion: 88)\n"
     ]
    },
    {
     "name": "stderr",
     "output_type": "stream",
     "text": [
      "/usr/local/lib/python3.11/dist-packages/sklearn/decomposition/_fastica.py:542: FutureWarning: Starting in v1.3, whiten='unit-variance' will be used by default.\n",
      "  warnings.warn(\n"
     ]
    },
    {
     "name": "stdout",
     "output_type": "stream",
     "text": [
      "Trial 566: Artifacts - 7.2% (Validation: 0, Clipping: 1, Motion: 160)\n"
     ]
    },
    {
     "name": "stderr",
     "output_type": "stream",
     "text": [
      "/usr/local/lib/python3.11/dist-packages/sklearn/decomposition/_fastica.py:542: FutureWarning: Starting in v1.3, whiten='unit-variance' will be used by default.\n",
      "  warnings.warn(\n"
     ]
    },
    {
     "name": "stdout",
     "output_type": "stream",
     "text": [
      "Trial 567: Artifacts - 3.7% (Validation: 0, Clipping: 0, Motion: 83)\n"
     ]
    },
    {
     "name": "stderr",
     "output_type": "stream",
     "text": [
      "/usr/local/lib/python3.11/dist-packages/sklearn/decomposition/_fastica.py:542: FutureWarning: Starting in v1.3, whiten='unit-variance' will be used by default.\n",
      "  warnings.warn(\n"
     ]
    },
    {
     "name": "stdout",
     "output_type": "stream",
     "text": [
      "Trial 568: Artifacts - 1.6% (Validation: 0, Clipping: 0, Motion: 36)\n",
      "Trial 569: Artifacts - 2.4% (Validation: 0, Clipping: 0, Motion: 55)\n"
     ]
    },
    {
     "name": "stderr",
     "output_type": "stream",
     "text": [
      "/usr/local/lib/python3.11/dist-packages/sklearn/decomposition/_fastica.py:542: FutureWarning: Starting in v1.3, whiten='unit-variance' will be used by default.\n",
      "  warnings.warn(\n"
     ]
    },
    {
     "name": "stdout",
     "output_type": "stream",
     "text": [
      "Trial 570: Artifacts - 0.0% (Validation: 0, Clipping: 0, Motion: 0)\n",
      "Trial 571: Artifacts - 0.9% (Validation: 0, Clipping: 0, Motion: 21)\n",
      "Trial 572: Artifacts - 1.2% (Validation: 0, Clipping: 0, Motion: 27)\n",
      "Trial 573: Artifacts - 0.8% (Validation: 0, Clipping: 0, Motion: 18)\n",
      "Trial 574: Artifacts - 0.0% (Validation: 0, Clipping: 0, Motion: 0)\n",
      "Trial 575: Artifacts - 0.7% (Validation: 0, Clipping: 0, Motion: 15)\n",
      "Trial 576: Artifacts - 0.0% (Validation: 0, Clipping: 0, Motion: 0)\n",
      "Trial 577: Artifacts - 6.7% (Validation: 0, Clipping: 0, Motion: 150)\n"
     ]
    },
    {
     "name": "stderr",
     "output_type": "stream",
     "text": [
      "/usr/local/lib/python3.11/dist-packages/sklearn/decomposition/_fastica.py:542: FutureWarning: Starting in v1.3, whiten='unit-variance' will be used by default.\n",
      "  warnings.warn(\n"
     ]
    },
    {
     "name": "stdout",
     "output_type": "stream",
     "text": [
      "Trial 578: Artifacts - 6.4% (Validation: 0, Clipping: 0, Motion: 144)\n"
     ]
    },
    {
     "name": "stderr",
     "output_type": "stream",
     "text": [
      "/usr/local/lib/python3.11/dist-packages/sklearn/decomposition/_fastica.py:542: FutureWarning: Starting in v1.3, whiten='unit-variance' will be used by default.\n",
      "  warnings.warn(\n"
     ]
    },
    {
     "name": "stdout",
     "output_type": "stream",
     "text": [
      "Trial 579: Artifacts - 0.0% (Validation: 0, Clipping: 0, Motion: 0)\n",
      "Trial 580: Artifacts - 0.0% (Validation: 0, Clipping: 0, Motion: 0)\n",
      "Trial 581: Artifacts - 2.4% (Validation: 0, Clipping: 0, Motion: 53)\n"
     ]
    },
    {
     "name": "stderr",
     "output_type": "stream",
     "text": [
      "/usr/local/lib/python3.11/dist-packages/sklearn/decomposition/_fastica.py:542: FutureWarning: Starting in v1.3, whiten='unit-variance' will be used by default.\n",
      "  warnings.warn(\n"
     ]
    },
    {
     "name": "stdout",
     "output_type": "stream",
     "text": [
      "Trial 582: Artifacts - 3.4% (Validation: 0, Clipping: 0, Motion: 77)\n"
     ]
    },
    {
     "name": "stderr",
     "output_type": "stream",
     "text": [
      "/usr/local/lib/python3.11/dist-packages/sklearn/decomposition/_fastica.py:542: FutureWarning: Starting in v1.3, whiten='unit-variance' will be used by default.\n",
      "  warnings.warn(\n"
     ]
    },
    {
     "name": "stdout",
     "output_type": "stream",
     "text": [
      "Trial 583: Artifacts - 0.0% (Validation: 0, Clipping: 1, Motion: 0)\n",
      "Trial 584: Artifacts - 0.0% (Validation: 0, Clipping: 0, Motion: 0)\n",
      "Trial 585: Artifacts - 0.0% (Validation: 0, Clipping: 1, Motion: 0)\n",
      "Trial 586: Artifacts - 0.7% (Validation: 0, Clipping: 0, Motion: 15)\n",
      "Trial 587: Artifacts - 0.0% (Validation: 0, Clipping: 1, Motion: 0)\n",
      "Trial 588: Artifacts - 0.0% (Validation: 0, Clipping: 0, Motion: 0)\n",
      "Trial 589: Artifacts - 8.3% (Validation: 0, Clipping: 0, Motion: 186)\n"
     ]
    },
    {
     "name": "stderr",
     "output_type": "stream",
     "text": [
      "/usr/local/lib/python3.11/dist-packages/sklearn/decomposition/_fastica.py:542: FutureWarning: Starting in v1.3, whiten='unit-variance' will be used by default.\n",
      "  warnings.warn(\n"
     ]
    },
    {
     "name": "stdout",
     "output_type": "stream",
     "text": [
      "Trial 590: Artifacts - 1.0% (Validation: 0, Clipping: 0, Motion: 22)\n",
      "Trial 591: Artifacts - 0.9% (Validation: 0, Clipping: 0, Motion: 21)\n",
      "Trial 592: Artifacts - 0.0% (Validation: 0, Clipping: 0, Motion: 0)\n",
      "Trial 593: Artifacts - 0.0% (Validation: 0, Clipping: 1, Motion: 0)\n",
      "Trial 594: Artifacts - 0.0% (Validation: 0, Clipping: 0, Motion: 0)\n",
      "Trial 595: Artifacts - 6.6% (Validation: 0, Clipping: 0, Motion: 149)\n"
     ]
    },
    {
     "name": "stderr",
     "output_type": "stream",
     "text": [
      "/usr/local/lib/python3.11/dist-packages/sklearn/decomposition/_fastica.py:542: FutureWarning: Starting in v1.3, whiten='unit-variance' will be used by default.\n",
      "  warnings.warn(\n"
     ]
    },
    {
     "name": "stdout",
     "output_type": "stream",
     "text": [
      "Trial 596: Artifacts - 0.0% (Validation: 0, Clipping: 0, Motion: 0)\n",
      "Trial 597: Artifacts - 0.0% (Validation: 0, Clipping: 0, Motion: 0)\n",
      "Trial 598: Artifacts - 3.8% (Validation: 0, Clipping: 0, Motion: 85)\n"
     ]
    },
    {
     "name": "stderr",
     "output_type": "stream",
     "text": [
      "/usr/local/lib/python3.11/dist-packages/sklearn/decomposition/_fastica.py:542: FutureWarning: Starting in v1.3, whiten='unit-variance' will be used by default.\n",
      "  warnings.warn(\n"
     ]
    },
    {
     "name": "stdout",
     "output_type": "stream",
     "text": [
      "Trial 599: Artifacts - 0.0% (Validation: 0, Clipping: 0, Motion: 0)\n",
      "Trial 600: Artifacts - 2.1% (Validation: 0, Clipping: 0, Motion: 47)\n",
      "Processed 600/4800 trials\n",
      "Trial 601: Artifacts - 5.6% (Validation: 0, Clipping: 0, Motion: 126)\n"
     ]
    },
    {
     "name": "stderr",
     "output_type": "stream",
     "text": [
      "/usr/local/lib/python3.11/dist-packages/sklearn/decomposition/_fastica.py:542: FutureWarning: Starting in v1.3, whiten='unit-variance' will be used by default.\n",
      "  warnings.warn(\n"
     ]
    },
    {
     "name": "stdout",
     "output_type": "stream",
     "text": [
      "Trial 602: Artifacts - 4.8% (Validation: 0, Clipping: 0, Motion: 109)\n"
     ]
    },
    {
     "name": "stderr",
     "output_type": "stream",
     "text": [
      "/usr/local/lib/python3.11/dist-packages/sklearn/decomposition/_fastica.py:542: FutureWarning: Starting in v1.3, whiten='unit-variance' will be used by default.\n",
      "  warnings.warn(\n"
     ]
    },
    {
     "name": "stdout",
     "output_type": "stream",
     "text": [
      "Trial 603: Artifacts - 6.9% (Validation: 0, Clipping: 0, Motion: 155)\n",
      "Trial 604: Artifacts - 0.0% (Validation: 0, Clipping: 0, Motion: 0)\n"
     ]
    },
    {
     "name": "stderr",
     "output_type": "stream",
     "text": [
      "/usr/local/lib/python3.11/dist-packages/sklearn/decomposition/_fastica.py:542: FutureWarning: Starting in v1.3, whiten='unit-variance' will be used by default.\n",
      "  warnings.warn(\n"
     ]
    },
    {
     "name": "stdout",
     "output_type": "stream",
     "text": [
      "Trial 605: Artifacts - 2.8% (Validation: 0, Clipping: 0, Motion: 62)\n"
     ]
    },
    {
     "name": "stderr",
     "output_type": "stream",
     "text": [
      "/usr/local/lib/python3.11/dist-packages/sklearn/decomposition/_fastica.py:542: FutureWarning: Starting in v1.3, whiten='unit-variance' will be used by default.\n",
      "  warnings.warn(\n"
     ]
    },
    {
     "name": "stdout",
     "output_type": "stream",
     "text": [
      "Trial 606: Artifacts - 0.0% (Validation: 0, Clipping: 0, Motion: 0)\n",
      "Trial 607: Artifacts - 0.9% (Validation: 0, Clipping: 1, Motion: 19)\n",
      "Trial 608: Artifacts - 0.0% (Validation: 0, Clipping: 0, Motion: 0)\n",
      "Trial 609: Artifacts - 0.0% (Validation: 0, Clipping: 0, Motion: 0)\n",
      "Trial 610: Artifacts - 0.0% (Validation: 0, Clipping: 0, Motion: 0)\n",
      "Trial 611: Artifacts - 0.0% (Validation: 0, Clipping: 0, Motion: 0)\n",
      "Trial 612: Artifacts - 0.1% (Validation: 0, Clipping: 0, Motion: 2)\n",
      "Trial 613: Artifacts - 0.0% (Validation: 0, Clipping: 0, Motion: 0)\n",
      "Trial 614: Artifacts - 0.0% (Validation: 0, Clipping: 0, Motion: 0)\n",
      "Trial 615: Artifacts - 2.7% (Validation: 0, Clipping: 1, Motion: 59)\n"
     ]
    },
    {
     "name": "stderr",
     "output_type": "stream",
     "text": [
      "/usr/local/lib/python3.11/dist-packages/sklearn/decomposition/_fastica.py:542: FutureWarning: Starting in v1.3, whiten='unit-variance' will be used by default.\n",
      "  warnings.warn(\n",
      "/usr/local/lib/python3.11/dist-packages/sklearn/decomposition/_fastica.py:123: ConvergenceWarning: FastICA did not converge. Consider increasing tolerance or the maximum number of iterations.\n",
      "  warnings.warn(\n"
     ]
    },
    {
     "name": "stdout",
     "output_type": "stream",
     "text": [
      "Trial 616: Artifacts - 0.0% (Validation: 0, Clipping: 0, Motion: 0)\n",
      "Trial 617: Artifacts - 2.4% (Validation: 0, Clipping: 0, Motion: 53)\n"
     ]
    },
    {
     "name": "stderr",
     "output_type": "stream",
     "text": [
      "/usr/local/lib/python3.11/dist-packages/sklearn/decomposition/_fastica.py:542: FutureWarning: Starting in v1.3, whiten='unit-variance' will be used by default.\n",
      "  warnings.warn(\n"
     ]
    },
    {
     "name": "stdout",
     "output_type": "stream",
     "text": [
      "Trial 618: Artifacts - 4.8% (Validation: 0, Clipping: 0, Motion: 107)\n"
     ]
    },
    {
     "name": "stderr",
     "output_type": "stream",
     "text": [
      "/usr/local/lib/python3.11/dist-packages/sklearn/decomposition/_fastica.py:542: FutureWarning: Starting in v1.3, whiten='unit-variance' will be used by default.\n",
      "  warnings.warn(\n"
     ]
    },
    {
     "name": "stdout",
     "output_type": "stream",
     "text": [
      "Trial 619: Artifacts - 0.0% (Validation: 0, Clipping: 0, Motion: 0)\n",
      "Trial 620: Artifacts - 0.7% (Validation: 0, Clipping: 0, Motion: 15)\n",
      "Trial 621: Artifacts - 1.8% (Validation: 0, Clipping: 0, Motion: 40)\n",
      "Trial 622: Artifacts - 0.0% (Validation: 0, Clipping: 0, Motion: 0)\n",
      "Trial 623: Artifacts - 0.0% (Validation: 0, Clipping: 0, Motion: 0)\n",
      "Trial 624: Artifacts - 0.0% (Validation: 0, Clipping: 0, Motion: 0)\n",
      "Trial 625: Artifacts - 0.0% (Validation: 0, Clipping: 0, Motion: 0)\n",
      "Trial 626: Artifacts - 4.8% (Validation: 0, Clipping: 0, Motion: 108)\n"
     ]
    },
    {
     "name": "stderr",
     "output_type": "stream",
     "text": [
      "/usr/local/lib/python3.11/dist-packages/sklearn/decomposition/_fastica.py:542: FutureWarning: Starting in v1.3, whiten='unit-variance' will be used by default.\n",
      "  warnings.warn(\n"
     ]
    },
    {
     "name": "stdout",
     "output_type": "stream",
     "text": [
      "Trial 627: Artifacts - 0.0% (Validation: 0, Clipping: 0, Motion: 0)\n",
      "Trial 628: Artifacts - 0.0% (Validation: 0, Clipping: 0, Motion: 0)\n",
      "Trial 629: Artifacts - 0.0% (Validation: 0, Clipping: 0, Motion: 0)\n",
      "Trial 630: Artifacts - 14.1% (Validation: 0, Clipping: 0, Motion: 318)\n"
     ]
    },
    {
     "name": "stderr",
     "output_type": "stream",
     "text": [
      "/usr/local/lib/python3.11/dist-packages/sklearn/decomposition/_fastica.py:542: FutureWarning: Starting in v1.3, whiten='unit-variance' will be used by default.\n",
      "  warnings.warn(\n"
     ]
    },
    {
     "name": "stdout",
     "output_type": "stream",
     "text": [
      "Trial 631: Artifacts - 0.8% (Validation: 0, Clipping: 0, Motion: 19)\n",
      "Trial 632: Artifacts - 1.2% (Validation: 0, Clipping: 0, Motion: 28)\n",
      "Trial 633: Artifacts - 0.0% (Validation: 0, Clipping: 0, Motion: 0)\n",
      "Trial 634: Artifacts - 0.0% (Validation: 0, Clipping: 0, Motion: 0)\n",
      "Trial 635: Artifacts - 0.9% (Validation: 0, Clipping: 0, Motion: 20)\n",
      "Trial 636: Artifacts - 4.9% (Validation: 0, Clipping: 0, Motion: 110)\n"
     ]
    },
    {
     "name": "stderr",
     "output_type": "stream",
     "text": [
      "/usr/local/lib/python3.11/dist-packages/sklearn/decomposition/_fastica.py:542: FutureWarning: Starting in v1.3, whiten='unit-variance' will be used by default.\n",
      "  warnings.warn(\n"
     ]
    },
    {
     "name": "stdout",
     "output_type": "stream",
     "text": [
      "Trial 637: Artifacts - 0.0% (Validation: 0, Clipping: 1, Motion: 0)\n",
      "Trial 638: Artifacts - 0.0% (Validation: 0, Clipping: 0, Motion: 0)\n",
      "Trial 639: Artifacts - 0.0% (Validation: 0, Clipping: 0, Motion: 0)\n",
      "Trial 640: Artifacts - 0.0% (Validation: 0, Clipping: 0, Motion: 0)\n",
      "Trial 641: Artifacts - 4.2% (Validation: 95, Clipping: 0, Motion: 0)\n",
      "Trial 642: Artifacts - 0.0% (Validation: 0, Clipping: 0, Motion: 1)\n",
      "Trial 643: Artifacts - 0.7% (Validation: 0, Clipping: 0, Motion: 16)\n",
      "Trial 644: Artifacts - 0.0% (Validation: 0, Clipping: 0, Motion: 0)\n",
      "Trial 645: Artifacts - 0.0% (Validation: 0, Clipping: 0, Motion: 0)\n",
      "Trial 646: Artifacts - 3.6% (Validation: 81, Clipping: 0, Motion: 0)\n",
      "Trial 647: Artifacts - 10.8% (Validation: 242, Clipping: 0, Motion: 0)\n",
      "Trial 648: Artifacts - 1.8% (Validation: 0, Clipping: 0, Motion: 41)\n",
      "Trial 649: Artifacts - 0.0% (Validation: 0, Clipping: 0, Motion: 0)\n",
      "Trial 650: Artifacts - 0.3% (Validation: 0, Clipping: 0, Motion: 6)\n",
      "Trial 651: Artifacts - 8.7% (Validation: 0, Clipping: 0, Motion: 195)\n"
     ]
    },
    {
     "name": "stderr",
     "output_type": "stream",
     "text": [
      "/usr/local/lib/python3.11/dist-packages/sklearn/decomposition/_fastica.py:542: FutureWarning: Starting in v1.3, whiten='unit-variance' will be used by default.\n",
      "  warnings.warn(\n"
     ]
    },
    {
     "name": "stdout",
     "output_type": "stream",
     "text": [
      "Trial 652: Artifacts - 0.0% (Validation: 0, Clipping: 0, Motion: 0)\n",
      "Trial 653: Artifacts - 5.1% (Validation: 94, Clipping: 0, Motion: 20)\n",
      "Trial 654: Artifacts - 0.8% (Validation: 0, Clipping: 0, Motion: 17)\n",
      "Trial 655: Artifacts - 7.3% (Validation: 128, Clipping: 16, Motion: 37)\n",
      "Trial 656: Artifacts - 8.6% (Validation: 193, Clipping: 1, Motion: 0)\n",
      "Trial 657: Artifacts - 0.0% (Validation: 0, Clipping: 0, Motion: 0)\n",
      "Trial 658: Artifacts - 0.3% (Validation: 0, Clipping: 0, Motion: 7)\n",
      "Trial 659: Artifacts - 0.0% (Validation: 0, Clipping: 0, Motion: 0)\n",
      "Trial 660: Artifacts - 0.0% (Validation: 0, Clipping: 0, Motion: 0)\n",
      "Trial 661: Artifacts - 5.4% (Validation: 0, Clipping: 0, Motion: 122)\n"
     ]
    },
    {
     "name": "stderr",
     "output_type": "stream",
     "text": [
      "/usr/local/lib/python3.11/dist-packages/sklearn/decomposition/_fastica.py:542: FutureWarning: Starting in v1.3, whiten='unit-variance' will be used by default.\n",
      "  warnings.warn(\n"
     ]
    },
    {
     "name": "stdout",
     "output_type": "stream",
     "text": [
      "Trial 662: Artifacts - 0.0% (Validation: 0, Clipping: 0, Motion: 0)\n",
      "Trial 663: Artifacts - 0.9% (Validation: 0, Clipping: 0, Motion: 21)\n",
      "Trial 664: Artifacts - 0.4% (Validation: 0, Clipping: 0, Motion: 10)\n",
      "Trial 665: Artifacts - 0.0% (Validation: 0, Clipping: 0, Motion: 0)\n",
      "Trial 666: Artifacts - 1.1% (Validation: 24, Clipping: 0, Motion: 0)\n",
      "Trial 667: Artifacts - 4.8% (Validation: 109, Clipping: 0, Motion: 0)\n",
      "Trial 668: Artifacts - 0.2% (Validation: 0, Clipping: 1, Motion: 3)\n",
      "Trial 669: Artifacts - 0.3% (Validation: 0, Clipping: 0, Motion: 6)\n",
      "Trial 670: Artifacts - 10.4% (Validation: 139, Clipping: 30, Motion: 96)\n"
     ]
    },
    {
     "name": "stderr",
     "output_type": "stream",
     "text": [
      "/usr/local/lib/python3.11/dist-packages/sklearn/decomposition/_fastica.py:542: FutureWarning: Starting in v1.3, whiten='unit-variance' will be used by default.\n",
      "  warnings.warn(\n"
     ]
    },
    {
     "name": "stdout",
     "output_type": "stream",
     "text": [
      "Trial 671: Artifacts - 2.5% (Validation: 0, Clipping: 0, Motion: 57)\n"
     ]
    },
    {
     "name": "stderr",
     "output_type": "stream",
     "text": [
      "/usr/local/lib/python3.11/dist-packages/sklearn/decomposition/_fastica.py:542: FutureWarning: Starting in v1.3, whiten='unit-variance' will be used by default.\n",
      "  warnings.warn(\n"
     ]
    },
    {
     "name": "stdout",
     "output_type": "stream",
     "text": [
      "Trial 672: Artifacts - 0.0% (Validation: 0, Clipping: 0, Motion: 0)\n",
      "Trial 673: Artifacts - 0.2% (Validation: 0, Clipping: 0, Motion: 4)\n",
      "Trial 674: Artifacts - 0.3% (Validation: 0, Clipping: 1, Motion: 5)\n",
      "Trial 675: Artifacts - 0.8% (Validation: 0, Clipping: 0, Motion: 17)\n",
      "Trial 676: Artifacts - 0.0% (Validation: 0, Clipping: 0, Motion: 0)\n",
      "Trial 677: Artifacts - 4.8% (Validation: 107, Clipping: 8, Motion: 0)\n",
      "Trial 678: Artifacts - 6.3% (Validation: 142, Clipping: 0, Motion: 0)\n",
      "Trial 679: Artifacts - 1.0% (Validation: 0, Clipping: 0, Motion: 22)\n",
      "Trial 680: Artifacts - 0.0% (Validation: 0, Clipping: 0, Motion: 0)\n",
      "Trial 681: Artifacts - 2.0% (Validation: 0, Clipping: 0, Motion: 44)\n",
      "Trial 682: Artifacts - 0.0% (Validation: 0, Clipping: 1, Motion: 0)\n",
      "Trial 683: Artifacts - 0.0% (Validation: 0, Clipping: 1, Motion: 0)\n",
      "Trial 684: Artifacts - 0.0% (Validation: 0, Clipping: 0, Motion: 0)\n",
      "Trial 685: Artifacts - 0.5% (Validation: 0, Clipping: 0, Motion: 12)\n",
      "Trial 686: Artifacts - 0.0% (Validation: 0, Clipping: 0, Motion: 0)\n",
      "Trial 687: Artifacts - 0.0% (Validation: 0, Clipping: 0, Motion: 0)\n",
      "Trial 688: Artifacts - 0.0% (Validation: 0, Clipping: 0, Motion: 0)\n",
      "Trial 689: Artifacts - 0.0% (Validation: 0, Clipping: 0, Motion: 0)\n",
      "Trial 690: Artifacts - 0.2% (Validation: 0, Clipping: 0, Motion: 4)\n",
      "Trial 691: Artifacts - 8.1% (Validation: 0, Clipping: 0, Motion: 183)\n"
     ]
    },
    {
     "name": "stderr",
     "output_type": "stream",
     "text": [
      "/usr/local/lib/python3.11/dist-packages/sklearn/decomposition/_fastica.py:542: FutureWarning: Starting in v1.3, whiten='unit-variance' will be used by default.\n",
      "  warnings.warn(\n"
     ]
    },
    {
     "name": "stdout",
     "output_type": "stream",
     "text": [
      "Trial 692: Artifacts - 0.0% (Validation: 0, Clipping: 0, Motion: 0)\n",
      "Trial 693: Artifacts - 0.0% (Validation: 0, Clipping: 0, Motion: 0)\n",
      "Trial 694: Artifacts - 0.0% (Validation: 0, Clipping: 0, Motion: 0)\n",
      "Trial 695: Artifacts - 0.0% (Validation: 0, Clipping: 0, Motion: 0)\n",
      "Trial 696: Artifacts - 3.6% (Validation: 0, Clipping: 0, Motion: 82)\n"
     ]
    },
    {
     "name": "stderr",
     "output_type": "stream",
     "text": [
      "/usr/local/lib/python3.11/dist-packages/sklearn/decomposition/_fastica.py:542: FutureWarning: Starting in v1.3, whiten='unit-variance' will be used by default.\n",
      "  warnings.warn(\n"
     ]
    },
    {
     "name": "stdout",
     "output_type": "stream",
     "text": [
      "Trial 697: Artifacts - 4.2% (Validation: 87, Clipping: 55, Motion: 8)\n",
      "Trial 698: Artifacts - 0.7% (Validation: 0, Clipping: 1, Motion: 15)\n",
      "Trial 699: Artifacts - 0.0% (Validation: 0, Clipping: 0, Motion: 1)\n",
      "Trial 700: Artifacts - 0.0% (Validation: 0, Clipping: 0, Motion: 0)\n",
      "Processed 700/4800 trials\n",
      "Trial 701: Artifacts - 2.0% (Validation: 0, Clipping: 0, Motion: 46)\n",
      "Trial 702: Artifacts - 0.0% (Validation: 0, Clipping: 1, Motion: 0)\n",
      "Trial 703: Artifacts - 1.2% (Validation: 0, Clipping: 1, Motion: 26)\n",
      "Trial 704: Artifacts - 0.0% (Validation: 0, Clipping: 0, Motion: 0)\n",
      "Trial 705: Artifacts - 0.8% (Validation: 0, Clipping: 0, Motion: 19)\n",
      "Trial 706: Artifacts - 8.4% (Validation: 0, Clipping: 0, Motion: 189)\n"
     ]
    },
    {
     "name": "stderr",
     "output_type": "stream",
     "text": [
      "/usr/local/lib/python3.11/dist-packages/sklearn/decomposition/_fastica.py:542: FutureWarning: Starting in v1.3, whiten='unit-variance' will be used by default.\n",
      "  warnings.warn(\n"
     ]
    },
    {
     "name": "stdout",
     "output_type": "stream",
     "text": [
      "Trial 707: Artifacts - 0.4% (Validation: 0, Clipping: 0, Motion: 8)\n",
      "Trial 708: Artifacts - 2.5% (Validation: 0, Clipping: 0, Motion: 57)\n"
     ]
    },
    {
     "name": "stderr",
     "output_type": "stream",
     "text": [
      "/usr/local/lib/python3.11/dist-packages/sklearn/decomposition/_fastica.py:542: FutureWarning: Starting in v1.3, whiten='unit-variance' will be used by default.\n",
      "  warnings.warn(\n"
     ]
    },
    {
     "name": "stdout",
     "output_type": "stream",
     "text": [
      "Trial 709: Artifacts - 10.7% (Validation: 0, Clipping: 0, Motion: 241)\n"
     ]
    },
    {
     "name": "stderr",
     "output_type": "stream",
     "text": [
      "/usr/local/lib/python3.11/dist-packages/sklearn/decomposition/_fastica.py:542: FutureWarning: Starting in v1.3, whiten='unit-variance' will be used by default.\n",
      "  warnings.warn(\n"
     ]
    },
    {
     "name": "stdout",
     "output_type": "stream",
     "text": [
      "Trial 710: Artifacts - 0.6% (Validation: 0, Clipping: 0, Motion: 14)\n",
      "Trial 711: Artifacts - 10.4% (Validation: 118, Clipping: 1, Motion: 114)\n"
     ]
    },
    {
     "name": "stderr",
     "output_type": "stream",
     "text": [
      "/usr/local/lib/python3.11/dist-packages/sklearn/decomposition/_fastica.py:542: FutureWarning: Starting in v1.3, whiten='unit-variance' will be used by default.\n",
      "  warnings.warn(\n"
     ]
    },
    {
     "name": "stdout",
     "output_type": "stream",
     "text": [
      "Trial 712: Artifacts - 3.7% (Validation: 81, Clipping: 7, Motion: 2)\n",
      "Trial 713: Artifacts - 9.4% (Validation: 180, Clipping: 46, Motion: 31)\n",
      "Trial 714: Artifacts - 0.0% (Validation: 0, Clipping: 0, Motion: 0)\n",
      "Trial 715: Artifacts - 10.2% (Validation: 229, Clipping: 26, Motion: 0)\n",
      "Trial 716: Artifacts - 7.6% (Validation: 169, Clipping: 79, Motion: 1)\n",
      "Trial 717: Artifacts - 10.9% (Validation: 246, Clipping: 94, Motion: 0)\n",
      "Trial 718: Artifacts - 9.2% (Validation: 186, Clipping: 85, Motion: 40)\n",
      "Trial 719: Artifacts - 1.6% (Validation: 0, Clipping: 0, Motion: 37)\n",
      "Trial 720: Artifacts - 14.7% (Validation: 320, Clipping: 69, Motion: 10)\n",
      "Trial 721: Artifacts - 17.5% (Validation: 232, Clipping: 0, Motion: 235)\n"
     ]
    },
    {
     "name": "stderr",
     "output_type": "stream",
     "text": [
      "/usr/local/lib/python3.11/dist-packages/sklearn/decomposition/_fastica.py:542: FutureWarning: Starting in v1.3, whiten='unit-variance' will be used by default.\n",
      "  warnings.warn(\n"
     ]
    },
    {
     "name": "stdout",
     "output_type": "stream",
     "text": [
      "Trial 722: Artifacts - 4.6% (Validation: 0, Clipping: 0, Motion: 103)\n"
     ]
    },
    {
     "name": "stderr",
     "output_type": "stream",
     "text": [
      "/usr/local/lib/python3.11/dist-packages/sklearn/decomposition/_fastica.py:542: FutureWarning: Starting in v1.3, whiten='unit-variance' will be used by default.\n",
      "  warnings.warn(\n"
     ]
    },
    {
     "name": "stdout",
     "output_type": "stream",
     "text": [
      "Trial 723: Artifacts - 3.8% (Validation: 86, Clipping: 0, Motion: 0)\n",
      "Trial 724: Artifacts - 4.8% (Validation: 92, Clipping: 0, Motion: 16)\n",
      "Trial 725: Artifacts - 18.0% (Validation: 219, Clipping: 0, Motion: 185)\n"
     ]
    },
    {
     "name": "stderr",
     "output_type": "stream",
     "text": [
      "/usr/local/lib/python3.11/dist-packages/sklearn/decomposition/_fastica.py:542: FutureWarning: Starting in v1.3, whiten='unit-variance' will be used by default.\n",
      "  warnings.warn(\n"
     ]
    },
    {
     "name": "stdout",
     "output_type": "stream",
     "text": [
      "Trial 726: Artifacts - 5.1% (Validation: 0, Clipping: 0, Motion: 115)\n"
     ]
    },
    {
     "name": "stderr",
     "output_type": "stream",
     "text": [
      "/usr/local/lib/python3.11/dist-packages/sklearn/decomposition/_fastica.py:542: FutureWarning: Starting in v1.3, whiten='unit-variance' will be used by default.\n",
      "  warnings.warn(\n"
     ]
    },
    {
     "name": "stdout",
     "output_type": "stream",
     "text": [
      "Trial 727: Artifacts - 0.0% (Validation: 0, Clipping: 0, Motion: 0)\n",
      "Trial 728: Artifacts - 5.2% (Validation: 0, Clipping: 0, Motion: 116)\n"
     ]
    },
    {
     "name": "stderr",
     "output_type": "stream",
     "text": [
      "/usr/local/lib/python3.11/dist-packages/sklearn/decomposition/_fastica.py:542: FutureWarning: Starting in v1.3, whiten='unit-variance' will be used by default.\n",
      "  warnings.warn(\n"
     ]
    },
    {
     "name": "stdout",
     "output_type": "stream",
     "text": [
      "Trial 729: Artifacts - 9.3% (Validation: 202, Clipping: 38, Motion: 7)\n",
      "Trial 730: Artifacts - 0.0% (Validation: 0, Clipping: 1, Motion: 0)\n",
      "REJECTING trial 731: 27.5% artifacts\n",
      "Trial 732: Artifacts - 11.8% (Validation: 261, Clipping: 0, Motion: 5)\n",
      "Trial 733: Artifacts - 5.1% (Validation: 84, Clipping: 1, Motion: 29)\n",
      "Trial 734: Artifacts - 5.2% (Validation: 117, Clipping: 8, Motion: 0)\n",
      "Trial 735: Artifacts - 6.5% (Validation: 139, Clipping: 0, Motion: 8)\n",
      "Trial 736: Artifacts - 11.5% (Validation: 259, Clipping: 27, Motion: 0)\n",
      "Trial 737: Artifacts - 3.7% (Validation: 83, Clipping: 0, Motion: 0)\n",
      "Trial 738: Artifacts - 3.6% (Validation: 80, Clipping: 5, Motion: 0)\n",
      "Trial 739: Artifacts - 3.8% (Validation: 63, Clipping: 0, Motion: 22)\n",
      "Trial 740: Artifacts - 0.8% (Validation: 0, Clipping: 1, Motion: 18)\n",
      "Trial 741: Artifacts - 10.1% (Validation: 28, Clipping: 0, Motion: 199)\n"
     ]
    },
    {
     "name": "stderr",
     "output_type": "stream",
     "text": [
      "/usr/local/lib/python3.11/dist-packages/sklearn/decomposition/_fastica.py:542: FutureWarning: Starting in v1.3, whiten='unit-variance' will be used by default.\n",
      "  warnings.warn(\n"
     ]
    },
    {
     "name": "stdout",
     "output_type": "stream",
     "text": [
      "Trial 742: Artifacts - 2.5% (Validation: 38, Clipping: 0, Motion: 18)\n",
      "Trial 743: Artifacts - 4.3% (Validation: 84, Clipping: 0, Motion: 12)\n",
      "Trial 744: Artifacts - 4.4% (Validation: 79, Clipping: 0, Motion: 19)\n",
      "Trial 745: Artifacts - 3.8% (Validation: 86, Clipping: 47, Motion: 0)\n",
      "Trial 746: Artifacts - 6.8% (Validation: 152, Clipping: 0, Motion: 0)\n",
      "Trial 747: Artifacts - 7.7% (Validation: 0, Clipping: 0, Motion: 173)\n"
     ]
    },
    {
     "name": "stderr",
     "output_type": "stream",
     "text": [
      "/usr/local/lib/python3.11/dist-packages/sklearn/decomposition/_fastica.py:542: FutureWarning: Starting in v1.3, whiten='unit-variance' will be used by default.\n",
      "  warnings.warn(\n"
     ]
    },
    {
     "name": "stdout",
     "output_type": "stream",
     "text": [
      "Trial 748: Artifacts - 7.3% (Validation: 99, Clipping: 0, Motion: 66)\n"
     ]
    },
    {
     "name": "stderr",
     "output_type": "stream",
     "text": [
      "/usr/local/lib/python3.11/dist-packages/sklearn/decomposition/_fastica.py:542: FutureWarning: Starting in v1.3, whiten='unit-variance' will be used by default.\n",
      "  warnings.warn(\n"
     ]
    },
    {
     "name": "stdout",
     "output_type": "stream",
     "text": [
      "Trial 749: Artifacts - 8.0% (Validation: 83, Clipping: 0, Motion: 98)\n"
     ]
    },
    {
     "name": "stderr",
     "output_type": "stream",
     "text": [
      "/usr/local/lib/python3.11/dist-packages/sklearn/decomposition/_fastica.py:542: FutureWarning: Starting in v1.3, whiten='unit-variance' will be used by default.\n",
      "  warnings.warn(\n"
     ]
    },
    {
     "name": "stdout",
     "output_type": "stream",
     "text": [
      "Trial 750: Artifacts - 13.0% (Validation: 257, Clipping: 28, Motion: 36)\n",
      "Trial 751: Artifacts - 16.6% (Validation: 262, Clipping: 0, Motion: 111)\n"
     ]
    },
    {
     "name": "stderr",
     "output_type": "stream",
     "text": [
      "/usr/local/lib/python3.11/dist-packages/sklearn/decomposition/_fastica.py:542: FutureWarning: Starting in v1.3, whiten='unit-variance' will be used by default.\n",
      "  warnings.warn(\n"
     ]
    },
    {
     "name": "stdout",
     "output_type": "stream",
     "text": [
      "Trial 752: Artifacts - 10.7% (Validation: 68, Clipping: 0, Motion: 172)\n"
     ]
    },
    {
     "name": "stderr",
     "output_type": "stream",
     "text": [
      "/usr/local/lib/python3.11/dist-packages/sklearn/decomposition/_fastica.py:542: FutureWarning: Starting in v1.3, whiten='unit-variance' will be used by default.\n",
      "  warnings.warn(\n"
     ]
    },
    {
     "name": "stdout",
     "output_type": "stream",
     "text": [
      "Trial 753: Artifacts - 0.0% (Validation: 0, Clipping: 1, Motion: 0)\n",
      "Trial 754: Artifacts - 7.7% (Validation: 174, Clipping: 0, Motion: 0)\n",
      "Trial 755: Artifacts - 10.6% (Validation: 238, Clipping: 12, Motion: 0)\n",
      "Trial 756: Artifacts - 13.5% (Validation: 177, Clipping: 37, Motion: 127)\n"
     ]
    },
    {
     "name": "stderr",
     "output_type": "stream",
     "text": [
      "/usr/local/lib/python3.11/dist-packages/sklearn/decomposition/_fastica.py:542: FutureWarning: Starting in v1.3, whiten='unit-variance' will be used by default.\n",
      "  warnings.warn(\n"
     ]
    },
    {
     "name": "stdout",
     "output_type": "stream",
     "text": [
      "Trial 757: Artifacts - 11.2% (Validation: 151, Clipping: 0, Motion: 102)\n"
     ]
    },
    {
     "name": "stderr",
     "output_type": "stream",
     "text": [
      "/usr/local/lib/python3.11/dist-packages/sklearn/decomposition/_fastica.py:542: FutureWarning: Starting in v1.3, whiten='unit-variance' will be used by default.\n",
      "  warnings.warn(\n"
     ]
    },
    {
     "name": "stdout",
     "output_type": "stream",
     "text": [
      "Trial 758: Artifacts - 8.2% (Validation: 184, Clipping: 7, Motion: 0)\n",
      "Trial 759: Artifacts - 0.6% (Validation: 13, Clipping: 0, Motion: 0)\n",
      "Trial 760: Artifacts - 1.2% (Validation: 0, Clipping: 1, Motion: 25)\n",
      "Trial 761: Artifacts - 13.7% (Validation: 252, Clipping: 73, Motion: 57)\n"
     ]
    },
    {
     "name": "stderr",
     "output_type": "stream",
     "text": [
      "/usr/local/lib/python3.11/dist-packages/sklearn/decomposition/_fastica.py:542: FutureWarning: Starting in v1.3, whiten='unit-variance' will be used by default.\n",
      "  warnings.warn(\n"
     ]
    },
    {
     "name": "stdout",
     "output_type": "stream",
     "text": [
      "Trial 762: Artifacts - 2.9% (Validation: 0, Clipping: 0, Motion: 66)\n"
     ]
    },
    {
     "name": "stderr",
     "output_type": "stream",
     "text": [
      "/usr/local/lib/python3.11/dist-packages/sklearn/decomposition/_fastica.py:542: FutureWarning: Starting in v1.3, whiten='unit-variance' will be used by default.\n",
      "  warnings.warn(\n"
     ]
    },
    {
     "name": "stdout",
     "output_type": "stream",
     "text": [
      "Trial 763: Artifacts - 0.0% (Validation: 0, Clipping: 0, Motion: 0)\n",
      "Trial 764: Artifacts - 5.7% (Validation: 28, Clipping: 0, Motion: 101)\n"
     ]
    },
    {
     "name": "stderr",
     "output_type": "stream",
     "text": [
      "/usr/local/lib/python3.11/dist-packages/sklearn/decomposition/_fastica.py:542: FutureWarning: Starting in v1.3, whiten='unit-variance' will be used by default.\n",
      "  warnings.warn(\n"
     ]
    },
    {
     "name": "stdout",
     "output_type": "stream",
     "text": [
      "Trial 765: Artifacts - 19.9% (Validation: 359, Clipping: 42, Motion: 135)\n"
     ]
    },
    {
     "name": "stderr",
     "output_type": "stream",
     "text": [
      "/usr/local/lib/python3.11/dist-packages/sklearn/decomposition/_fastica.py:542: FutureWarning: Starting in v1.3, whiten='unit-variance' will be used by default.\n",
      "  warnings.warn(\n"
     ]
    },
    {
     "name": "stdout",
     "output_type": "stream",
     "text": [
      "Trial 766: Artifacts - 18.4% (Validation: 287, Clipping: 54, Motion: 156)\n"
     ]
    },
    {
     "name": "stderr",
     "output_type": "stream",
     "text": [
      "/usr/local/lib/python3.11/dist-packages/sklearn/decomposition/_fastica.py:542: FutureWarning: Starting in v1.3, whiten='unit-variance' will be used by default.\n",
      "  warnings.warn(\n"
     ]
    },
    {
     "name": "stdout",
     "output_type": "stream",
     "text": [
      "Trial 767: Artifacts - 22.1% (Validation: 290, Clipping: 0, Motion: 207)\n"
     ]
    },
    {
     "name": "stderr",
     "output_type": "stream",
     "text": [
      "/usr/local/lib/python3.11/dist-packages/sklearn/decomposition/_fastica.py:542: FutureWarning: Starting in v1.3, whiten='unit-variance' will be used by default.\n",
      "  warnings.warn(\n"
     ]
    },
    {
     "name": "stdout",
     "output_type": "stream",
     "text": [
      "Trial 768: Artifacts - 11.5% (Validation: 259, Clipping: 13, Motion: 0)\n",
      "Trial 769: Artifacts - 17.4% (Validation: 209, Clipping: 0, Motion: 182)\n"
     ]
    },
    {
     "name": "stderr",
     "output_type": "stream",
     "text": [
      "/usr/local/lib/python3.11/dist-packages/sklearn/decomposition/_fastica.py:542: FutureWarning: Starting in v1.3, whiten='unit-variance' will be used by default.\n",
      "  warnings.warn(\n"
     ]
    },
    {
     "name": "stdout",
     "output_type": "stream",
     "text": [
      "Trial 770: Artifacts - 6.3% (Validation: 25, Clipping: 1, Motion: 141)\n"
     ]
    },
    {
     "name": "stderr",
     "output_type": "stream",
     "text": [
      "/usr/local/lib/python3.11/dist-packages/sklearn/decomposition/_fastica.py:542: FutureWarning: Starting in v1.3, whiten='unit-variance' will be used by default.\n",
      "  warnings.warn(\n"
     ]
    },
    {
     "name": "stdout",
     "output_type": "stream",
     "text": [
      "Trial 771: Artifacts - 12.3% (Validation: 219, Clipping: 0, Motion: 58)\n"
     ]
    },
    {
     "name": "stderr",
     "output_type": "stream",
     "text": [
      "/usr/local/lib/python3.11/dist-packages/sklearn/decomposition/_fastica.py:542: FutureWarning: Starting in v1.3, whiten='unit-variance' will be used by default.\n",
      "  warnings.warn(\n"
     ]
    },
    {
     "name": "stdout",
     "output_type": "stream",
     "text": [
      "Trial 772: Artifacts - 0.0% (Validation: 0, Clipping: 1, Motion: 0)\n",
      "Trial 773: Artifacts - 12.4% (Validation: 262, Clipping: 0, Motion: 16)\n",
      "REJECTING trial 774: 29.8% artifacts\n",
      "Trial 775: Artifacts - 7.5% (Validation: 168, Clipping: 27, Motion: 0)\n",
      "Trial 776: Artifacts - 4.0% (Validation: 89, Clipping: 0, Motion: 0)\n",
      "Trial 777: Artifacts - 9.2% (Validation: 195, Clipping: 7, Motion: 11)\n",
      "Trial 778: Artifacts - 9.2% (Validation: 99, Clipping: 1, Motion: 108)\n"
     ]
    },
    {
     "name": "stderr",
     "output_type": "stream",
     "text": [
      "/usr/local/lib/python3.11/dist-packages/sklearn/decomposition/_fastica.py:542: FutureWarning: Starting in v1.3, whiten='unit-variance' will be used by default.\n",
      "  warnings.warn(\n"
     ]
    },
    {
     "name": "stdout",
     "output_type": "stream",
     "text": [
      "Trial 779: Artifacts - 12.6% (Validation: 175, Clipping: 0, Motion: 109)\n"
     ]
    },
    {
     "name": "stderr",
     "output_type": "stream",
     "text": [
      "/usr/local/lib/python3.11/dist-packages/sklearn/decomposition/_fastica.py:542: FutureWarning: Starting in v1.3, whiten='unit-variance' will be used by default.\n",
      "  warnings.warn(\n"
     ]
    },
    {
     "name": "stdout",
     "output_type": "stream",
     "text": [
      "Trial 780: Artifacts - 7.7% (Validation: 0, Clipping: 0, Motion: 174)\n"
     ]
    },
    {
     "name": "stderr",
     "output_type": "stream",
     "text": [
      "/usr/local/lib/python3.11/dist-packages/sklearn/decomposition/_fastica.py:542: FutureWarning: Starting in v1.3, whiten='unit-variance' will be used by default.\n",
      "  warnings.warn(\n"
     ]
    },
    {
     "name": "stdout",
     "output_type": "stream",
     "text": [
      "Trial 781: Artifacts - 7.8% (Validation: 0, Clipping: 1, Motion: 174)\n"
     ]
    },
    {
     "name": "stderr",
     "output_type": "stream",
     "text": [
      "/usr/local/lib/python3.11/dist-packages/sklearn/decomposition/_fastica.py:542: FutureWarning: Starting in v1.3, whiten='unit-variance' will be used by default.\n",
      "  warnings.warn(\n"
     ]
    },
    {
     "name": "stdout",
     "output_type": "stream",
     "text": [
      "Trial 782: Artifacts - 8.0% (Validation: 169, Clipping: 13, Motion: 10)\n",
      "Trial 783: Artifacts - 3.3% (Validation: 74, Clipping: 0, Motion: 0)\n",
      "Trial 784: Artifacts - 4.5% (Validation: 86, Clipping: 0, Motion: 15)\n",
      "Trial 785: Artifacts - 21.6% (Validation: 340, Clipping: 0, Motion: 147)\n"
     ]
    },
    {
     "name": "stderr",
     "output_type": "stream",
     "text": [
      "/usr/local/lib/python3.11/dist-packages/sklearn/decomposition/_fastica.py:542: FutureWarning: Starting in v1.3, whiten='unit-variance' will be used by default.\n",
      "  warnings.warn(\n"
     ]
    },
    {
     "name": "stdout",
     "output_type": "stream",
     "text": [
      "Trial 786: Artifacts - 8.3% (Validation: 140, Clipping: 0, Motion: 46)\n",
      "Trial 787: Artifacts - 2.6% (Validation: 0, Clipping: 0, Motion: 58)\n"
     ]
    },
    {
     "name": "stderr",
     "output_type": "stream",
     "text": [
      "/usr/local/lib/python3.11/dist-packages/sklearn/decomposition/_fastica.py:542: FutureWarning: Starting in v1.3, whiten='unit-variance' will be used by default.\n",
      "  warnings.warn(\n"
     ]
    },
    {
     "name": "stdout",
     "output_type": "stream",
     "text": [
      "Trial 788: Artifacts - 0.0% (Validation: 0, Clipping: 0, Motion: 0)\n",
      "Trial 789: Artifacts - 2.4% (Validation: 0, Clipping: 0, Motion: 54)\n"
     ]
    },
    {
     "name": "stderr",
     "output_type": "stream",
     "text": [
      "/usr/local/lib/python3.11/dist-packages/sklearn/decomposition/_fastica.py:542: FutureWarning: Starting in v1.3, whiten='unit-variance' will be used by default.\n",
      "  warnings.warn(\n"
     ]
    },
    {
     "name": "stdout",
     "output_type": "stream",
     "text": [
      "Trial 790: Artifacts - 0.2% (Validation: 0, Clipping: 1, Motion: 3)\n",
      "Trial 791: Artifacts - 20.1% (Validation: 145, Clipping: 0, Motion: 308)\n"
     ]
    },
    {
     "name": "stderr",
     "output_type": "stream",
     "text": [
      "/usr/local/lib/python3.11/dist-packages/sklearn/decomposition/_fastica.py:542: FutureWarning: Starting in v1.3, whiten='unit-variance' will be used by default.\n",
      "  warnings.warn(\n"
     ]
    },
    {
     "name": "stdout",
     "output_type": "stream",
     "text": [
      "Trial 792: Artifacts - 12.1% (Validation: 232, Clipping: 37, Motion: 41)\n",
      "Trial 793: Artifacts - 5.8% (Validation: 118, Clipping: 22, Motion: 12)\n",
      "Trial 794: Artifacts - 4.9% (Validation: 86, Clipping: 0, Motion: 24)\n",
      "Trial 795: Artifacts - 7.2% (Validation: 163, Clipping: 22, Motion: 0)\n",
      "Trial 796: Artifacts - 14.2% (Validation: 309, Clipping: 39, Motion: 10)\n",
      "Trial 797: Artifacts - 9.8% (Validation: 220, Clipping: 56, Motion: 0)\n",
      "Trial 798: Artifacts - 13.3% (Validation: 134, Clipping: 26, Motion: 165)\n"
     ]
    },
    {
     "name": "stderr",
     "output_type": "stream",
     "text": [
      "/usr/local/lib/python3.11/dist-packages/sklearn/decomposition/_fastica.py:542: FutureWarning: Starting in v1.3, whiten='unit-variance' will be used by default.\n",
      "  warnings.warn(\n"
     ]
    },
    {
     "name": "stdout",
     "output_type": "stream",
     "text": [
      "Trial 799: Artifacts - 21.2% (Validation: 377, Clipping: 74, Motion: 100)\n"
     ]
    },
    {
     "name": "stderr",
     "output_type": "stream",
     "text": [
      "/usr/local/lib/python3.11/dist-packages/sklearn/decomposition/_fastica.py:542: FutureWarning: Starting in v1.3, whiten='unit-variance' will be used by default.\n",
      "  warnings.warn(\n"
     ]
    },
    {
     "name": "stdout",
     "output_type": "stream",
     "text": [
      "Trial 800: Artifacts - 10.8% (Validation: 243, Clipping: 1, Motion: 0)\n",
      "Processed 800/4800 trials\n",
      "Trial 801: Artifacts - 3.5% (Validation: 0, Clipping: 0, Motion: 78)\n"
     ]
    },
    {
     "name": "stderr",
     "output_type": "stream",
     "text": [
      "/usr/local/lib/python3.11/dist-packages/sklearn/decomposition/_fastica.py:542: FutureWarning: Starting in v1.3, whiten='unit-variance' will be used by default.\n",
      "  warnings.warn(\n"
     ]
    },
    {
     "name": "stdout",
     "output_type": "stream",
     "text": [
      "Trial 802: Artifacts - 5.8% (Validation: 0, Clipping: 0, Motion: 130)\n"
     ]
    },
    {
     "name": "stderr",
     "output_type": "stream",
     "text": [
      "/usr/local/lib/python3.11/dist-packages/sklearn/decomposition/_fastica.py:542: FutureWarning: Starting in v1.3, whiten='unit-variance' will be used by default.\n",
      "  warnings.warn(\n"
     ]
    },
    {
     "name": "stdout",
     "output_type": "stream",
     "text": [
      "Trial 803: Artifacts - 0.0% (Validation: 0, Clipping: 0, Motion: 0)\n",
      "Trial 804: Artifacts - 0.0% (Validation: 0, Clipping: 0, Motion: 0)\n",
      "Trial 805: Artifacts - 0.5% (Validation: 0, Clipping: 0, Motion: 11)\n",
      "Trial 806: Artifacts - 10.6% (Validation: 0, Clipping: 0, Motion: 238)\n"
     ]
    },
    {
     "name": "stderr",
     "output_type": "stream",
     "text": [
      "/usr/local/lib/python3.11/dist-packages/sklearn/decomposition/_fastica.py:542: FutureWarning: Starting in v1.3, whiten='unit-variance' will be used by default.\n",
      "  warnings.warn(\n"
     ]
    },
    {
     "name": "stdout",
     "output_type": "stream",
     "text": [
      "Trial 807: Artifacts - 4.6% (Validation: 103, Clipping: 0, Motion: 0)\n",
      "Trial 808: Artifacts - 8.0% (Validation: 0, Clipping: 0, Motion: 180)\n"
     ]
    },
    {
     "name": "stderr",
     "output_type": "stream",
     "text": [
      "/usr/local/lib/python3.11/dist-packages/sklearn/decomposition/_fastica.py:542: FutureWarning: Starting in v1.3, whiten='unit-variance' will be used by default.\n",
      "  warnings.warn(\n"
     ]
    },
    {
     "name": "stdout",
     "output_type": "stream",
     "text": [
      "Trial 809: Artifacts - 6.4% (Validation: 108, Clipping: 0, Motion: 35)\n",
      "Trial 810: Artifacts - 20.5% (Validation: 450, Clipping: 27, Motion: 12)\n",
      "Trial 811: Artifacts - 1.6% (Validation: 0, Clipping: 0, Motion: 37)\n",
      "Trial 812: Artifacts - 8.6% (Validation: 0, Clipping: 0, Motion: 193)\n"
     ]
    },
    {
     "name": "stderr",
     "output_type": "stream",
     "text": [
      "/usr/local/lib/python3.11/dist-packages/sklearn/decomposition/_fastica.py:542: FutureWarning: Starting in v1.3, whiten='unit-variance' will be used by default.\n",
      "  warnings.warn(\n"
     ]
    },
    {
     "name": "stdout",
     "output_type": "stream",
     "text": [
      "Trial 813: Artifacts - 1.0% (Validation: 0, Clipping: 0, Motion: 22)\n",
      "Trial 814: Artifacts - 3.4% (Validation: 0, Clipping: 0, Motion: 77)\n"
     ]
    },
    {
     "name": "stderr",
     "output_type": "stream",
     "text": [
      "/usr/local/lib/python3.11/dist-packages/sklearn/decomposition/_fastica.py:542: FutureWarning: Starting in v1.3, whiten='unit-variance' will be used by default.\n",
      "  warnings.warn(\n"
     ]
    },
    {
     "name": "stdout",
     "output_type": "stream",
     "text": [
      "Trial 815: Artifacts - 4.0% (Validation: 0, Clipping: 0, Motion: 90)\n"
     ]
    },
    {
     "name": "stderr",
     "output_type": "stream",
     "text": [
      "/usr/local/lib/python3.11/dist-packages/sklearn/decomposition/_fastica.py:542: FutureWarning: Starting in v1.3, whiten='unit-variance' will be used by default.\n",
      "  warnings.warn(\n"
     ]
    },
    {
     "name": "stdout",
     "output_type": "stream",
     "text": [
      "Trial 816: Artifacts - 0.0% (Validation: 0, Clipping: 0, Motion: 0)\n",
      "Trial 817: Artifacts - 1.2% (Validation: 0, Clipping: 0, Motion: 26)\n",
      "Trial 818: Artifacts - 8.8% (Validation: 6, Clipping: 0, Motion: 191)\n"
     ]
    },
    {
     "name": "stderr",
     "output_type": "stream",
     "text": [
      "/usr/local/lib/python3.11/dist-packages/sklearn/decomposition/_fastica.py:542: FutureWarning: Starting in v1.3, whiten='unit-variance' will be used by default.\n",
      "  warnings.warn(\n"
     ]
    },
    {
     "name": "stdout",
     "output_type": "stream",
     "text": [
      "Trial 819: Artifacts - 0.3% (Validation: 0, Clipping: 0, Motion: 7)\n",
      "Trial 820: Artifacts - 0.0% (Validation: 0, Clipping: 0, Motion: 0)\n",
      "Trial 821: Artifacts - 18.5% (Validation: 108, Clipping: 0, Motion: 309)\n"
     ]
    },
    {
     "name": "stderr",
     "output_type": "stream",
     "text": [
      "/usr/local/lib/python3.11/dist-packages/sklearn/decomposition/_fastica.py:542: FutureWarning: Starting in v1.3, whiten='unit-variance' will be used by default.\n",
      "  warnings.warn(\n"
     ]
    },
    {
     "name": "stdout",
     "output_type": "stream",
     "text": [
      "Trial 822: Artifacts - 1.3% (Validation: 18, Clipping: 0, Motion: 11)\n",
      "Trial 823: Artifacts - 1.2% (Validation: 0, Clipping: 0, Motion: 28)\n",
      "Trial 824: Artifacts - 0.8% (Validation: 0, Clipping: 0, Motion: 19)\n",
      "Trial 825: Artifacts - 2.4% (Validation: 0, Clipping: 0, Motion: 53)\n"
     ]
    },
    {
     "name": "stderr",
     "output_type": "stream",
     "text": [
      "/usr/local/lib/python3.11/dist-packages/sklearn/decomposition/_fastica.py:542: FutureWarning: Starting in v1.3, whiten='unit-variance' will be used by default.\n",
      "  warnings.warn(\n"
     ]
    },
    {
     "name": "stdout",
     "output_type": "stream",
     "text": [
      "Trial 826: Artifacts - 6.7% (Validation: 0, Clipping: 0, Motion: 150)\n"
     ]
    },
    {
     "name": "stderr",
     "output_type": "stream",
     "text": [
      "/usr/local/lib/python3.11/dist-packages/sklearn/decomposition/_fastica.py:542: FutureWarning: Starting in v1.3, whiten='unit-variance' will be used by default.\n",
      "  warnings.warn(\n"
     ]
    },
    {
     "name": "stdout",
     "output_type": "stream",
     "text": [
      "Trial 827: Artifacts - 8.8% (Validation: 169, Clipping: 44, Motion: 28)\n",
      "Trial 828: Artifacts - 0.7% (Validation: 0, Clipping: 0, Motion: 15)\n",
      "Trial 829: Artifacts - 0.0% (Validation: 0, Clipping: 0, Motion: 0)\n",
      "Trial 830: Artifacts - 5.4% (Validation: 121, Clipping: 1, Motion: 0)\n",
      "Trial 831: Artifacts - 14.0% (Validation: 0, Clipping: 0, Motion: 316)\n"
     ]
    },
    {
     "name": "stderr",
     "output_type": "stream",
     "text": [
      "/usr/local/lib/python3.11/dist-packages/sklearn/decomposition/_fastica.py:542: FutureWarning: Starting in v1.3, whiten='unit-variance' will be used by default.\n",
      "  warnings.warn(\n"
     ]
    },
    {
     "name": "stdout",
     "output_type": "stream",
     "text": [
      "Trial 832: Artifacts - 7.4% (Validation: 0, Clipping: 1, Motion: 166)\n"
     ]
    },
    {
     "name": "stderr",
     "output_type": "stream",
     "text": [
      "/usr/local/lib/python3.11/dist-packages/sklearn/decomposition/_fastica.py:542: FutureWarning: Starting in v1.3, whiten='unit-variance' will be used by default.\n",
      "  warnings.warn(\n"
     ]
    },
    {
     "name": "stdout",
     "output_type": "stream",
     "text": [
      "Trial 833: Artifacts - 0.0% (Validation: 0, Clipping: 0, Motion: 0)\n",
      "Trial 834: Artifacts - 0.0% (Validation: 0, Clipping: 0, Motion: 0)\n",
      "Trial 835: Artifacts - 0.0% (Validation: 0, Clipping: 0, Motion: 0)\n",
      "Trial 836: Artifacts - 0.8% (Validation: 0, Clipping: 0, Motion: 18)\n",
      "Trial 837: Artifacts - 0.0% (Validation: 0, Clipping: 0, Motion: 0)\n",
      "Trial 838: Artifacts - 0.0% (Validation: 0, Clipping: 0, Motion: 0)\n",
      "Trial 839: Artifacts - 5.2% (Validation: 0, Clipping: 0, Motion: 116)\n"
     ]
    },
    {
     "name": "stderr",
     "output_type": "stream",
     "text": [
      "/usr/local/lib/python3.11/dist-packages/sklearn/decomposition/_fastica.py:542: FutureWarning: Starting in v1.3, whiten='unit-variance' will be used by default.\n",
      "  warnings.warn(\n"
     ]
    },
    {
     "name": "stdout",
     "output_type": "stream",
     "text": [
      "Trial 840: Artifacts - 2.0% (Validation: 0, Clipping: 0, Motion: 44)\n",
      "Trial 841: Artifacts - 2.0% (Validation: 0, Clipping: 0, Motion: 46)\n",
      "Trial 842: Artifacts - 0.0% (Validation: 0, Clipping: 0, Motion: 0)\n",
      "Trial 843: Artifacts - 0.0% (Validation: 0, Clipping: 1, Motion: 0)\n",
      "Trial 844: Artifacts - 0.0% (Validation: 0, Clipping: 0, Motion: 0)\n",
      "Trial 845: Artifacts - 4.4% (Validation: 0, Clipping: 0, Motion: 98)\n"
     ]
    },
    {
     "name": "stderr",
     "output_type": "stream",
     "text": [
      "/usr/local/lib/python3.11/dist-packages/sklearn/decomposition/_fastica.py:542: FutureWarning: Starting in v1.3, whiten='unit-variance' will be used by default.\n",
      "  warnings.warn(\n"
     ]
    },
    {
     "name": "stdout",
     "output_type": "stream",
     "text": [
      "Trial 846: Artifacts - 8.4% (Validation: 189, Clipping: 22, Motion: 0)\n",
      "Trial 847: Artifacts - 0.0% (Validation: 0, Clipping: 0, Motion: 0)\n",
      "Trial 848: Artifacts - 0.0% (Validation: 0, Clipping: 0, Motion: 0)\n",
      "Trial 849: Artifacts - 0.0% (Validation: 0, Clipping: 1, Motion: 0)\n",
      "Trial 850: Artifacts - 0.0% (Validation: 0, Clipping: 0, Motion: 0)\n",
      "Trial 851: Artifacts - 13.7% (Validation: 96, Clipping: 1, Motion: 212)\n"
     ]
    },
    {
     "name": "stderr",
     "output_type": "stream",
     "text": [
      "/usr/local/lib/python3.11/dist-packages/sklearn/decomposition/_fastica.py:542: FutureWarning: Starting in v1.3, whiten='unit-variance' will be used by default.\n",
      "  warnings.warn(\n"
     ]
    },
    {
     "name": "stdout",
     "output_type": "stream",
     "text": [
      "Trial 852: Artifacts - 4.3% (Validation: 97, Clipping: 0, Motion: 0)\n",
      "Trial 853: Artifacts - 0.0% (Validation: 0, Clipping: 0, Motion: 0)\n",
      "Trial 854: Artifacts - 0.0% (Validation: 0, Clipping: 0, Motion: 0)\n",
      "Trial 855: Artifacts - 4.1% (Validation: 91, Clipping: 1, Motion: 0)\n",
      "Trial 856: Artifacts - 0.0% (Validation: 0, Clipping: 0, Motion: 0)\n",
      "Trial 857: Artifacts - 2.2% (Validation: 0, Clipping: 0, Motion: 50)\n",
      "Trial 858: Artifacts - 9.6% (Validation: 0, Clipping: 1, Motion: 214)\n"
     ]
    },
    {
     "name": "stderr",
     "output_type": "stream",
     "text": [
      "/usr/local/lib/python3.11/dist-packages/sklearn/decomposition/_fastica.py:542: FutureWarning: Starting in v1.3, whiten='unit-variance' will be used by default.\n",
      "  warnings.warn(\n"
     ]
    },
    {
     "name": "stdout",
     "output_type": "stream",
     "text": [
      "Trial 859: Artifacts - 0.0% (Validation: 0, Clipping: 1, Motion: 0)\n",
      "Trial 860: Artifacts - 6.2% (Validation: 102, Clipping: 0, Motion: 99)\n"
     ]
    },
    {
     "name": "stderr",
     "output_type": "stream",
     "text": [
      "/usr/local/lib/python3.11/dist-packages/sklearn/decomposition/_fastica.py:542: FutureWarning: Starting in v1.3, whiten='unit-variance' will be used by default.\n",
      "  warnings.warn(\n"
     ]
    },
    {
     "name": "stdout",
     "output_type": "stream",
     "text": [
      "REJECTING trial 861: 69.9% artifacts\n",
      "REJECTING trial 862: 70.6% artifacts\n",
      "REJECTING trial 863: 57.9% artifacts\n",
      "REJECTING trial 864: 55.2% artifacts\n",
      "REJECTING trial 865: 52.8% artifacts\n",
      "REJECTING trial 866: 58.1% artifacts\n",
      "REJECTING trial 867: 44.3% artifacts\n",
      "Trial 868: Artifacts - 23.2% (Validation: 523, Clipping: 40, Motion: 0)\n",
      "REJECTING trial 869: 43.9% artifacts\n",
      "REJECTING trial 870: 68.6% artifacts\n",
      "REJECTING trial 871: 73.4% artifacts\n",
      "REJECTING trial 872: 61.0% artifacts\n",
      "REJECTING trial 873: 72.7% artifacts\n",
      "REJECTING trial 874: 66.9% artifacts\n",
      "REJECTING trial 875: 54.7% artifacts\n",
      "REJECTING trial 876: 53.4% artifacts\n",
      "REJECTING trial 877: 54.9% artifacts\n",
      "REJECTING trial 878: 59.6% artifacts\n",
      "REJECTING trial 879: 48.5% artifacts\n",
      "REJECTING trial 880: 58.1% artifacts\n",
      "Trial 881: Artifacts - 4.2% (Validation: 0, Clipping: 0, Motion: 94)\n"
     ]
    },
    {
     "name": "stderr",
     "output_type": "stream",
     "text": [
      "/usr/local/lib/python3.11/dist-packages/sklearn/decomposition/_fastica.py:542: FutureWarning: Starting in v1.3, whiten='unit-variance' will be used by default.\n",
      "  warnings.warn(\n"
     ]
    },
    {
     "name": "stdout",
     "output_type": "stream",
     "text": [
      "Trial 882: Artifacts - 8.0% (Validation: 0, Clipping: 0, Motion: 179)\n"
     ]
    },
    {
     "name": "stderr",
     "output_type": "stream",
     "text": [
      "/usr/local/lib/python3.11/dist-packages/sklearn/decomposition/_fastica.py:542: FutureWarning: Starting in v1.3, whiten='unit-variance' will be used by default.\n",
      "  warnings.warn(\n"
     ]
    },
    {
     "name": "stdout",
     "output_type": "stream",
     "text": [
      "Trial 883: Artifacts - 0.0% (Validation: 0, Clipping: 0, Motion: 0)\n",
      "Trial 884: Artifacts - 1.3% (Validation: 0, Clipping: 0, Motion: 29)\n",
      "Trial 885: Artifacts - 5.9% (Validation: 0, Clipping: 0, Motion: 132)\n"
     ]
    },
    {
     "name": "stderr",
     "output_type": "stream",
     "text": [
      "/usr/local/lib/python3.11/dist-packages/sklearn/decomposition/_fastica.py:542: FutureWarning: Starting in v1.3, whiten='unit-variance' will be used by default.\n",
      "  warnings.warn(\n"
     ]
    },
    {
     "name": "stdout",
     "output_type": "stream",
     "text": [
      "Trial 886: Artifacts - 0.0% (Validation: 0, Clipping: 0, Motion: 0)\n",
      "Trial 887: Artifacts - 1.1% (Validation: 0, Clipping: 0, Motion: 24)\n",
      "Trial 888: Artifacts - 0.2% (Validation: 0, Clipping: 0, Motion: 4)\n",
      "Trial 889: Artifacts - 3.4% (Validation: 0, Clipping: 1, Motion: 76)\n"
     ]
    },
    {
     "name": "stderr",
     "output_type": "stream",
     "text": [
      "/usr/local/lib/python3.11/dist-packages/sklearn/decomposition/_fastica.py:542: FutureWarning: Starting in v1.3, whiten='unit-variance' will be used by default.\n",
      "  warnings.warn(\n"
     ]
    },
    {
     "name": "stdout",
     "output_type": "stream",
     "text": [
      "Trial 890: Artifacts - 1.1% (Validation: 0, Clipping: 0, Motion: 24)\n",
      "Trial 891: Artifacts - 12.3% (Validation: 0, Clipping: 0, Motion: 277)\n"
     ]
    },
    {
     "name": "stderr",
     "output_type": "stream",
     "text": [
      "/usr/local/lib/python3.11/dist-packages/sklearn/decomposition/_fastica.py:542: FutureWarning: Starting in v1.3, whiten='unit-variance' will be used by default.\n",
      "  warnings.warn(\n"
     ]
    },
    {
     "name": "stdout",
     "output_type": "stream",
     "text": [
      "Trial 892: Artifacts - 0.0% (Validation: 0, Clipping: 0, Motion: 0)\n",
      "Trial 893: Artifacts - 0.0% (Validation: 0, Clipping: 0, Motion: 0)\n",
      "Trial 894: Artifacts - 0.6% (Validation: 0, Clipping: 0, Motion: 13)\n",
      "Trial 895: Artifacts - 0.7% (Validation: 0, Clipping: 0, Motion: 15)\n",
      "Trial 896: Artifacts - 0.5% (Validation: 0, Clipping: 0, Motion: 12)\n",
      "Trial 897: Artifacts - 8.4% (Validation: 0, Clipping: 0, Motion: 188)\n"
     ]
    },
    {
     "name": "stderr",
     "output_type": "stream",
     "text": [
      "/usr/local/lib/python3.11/dist-packages/sklearn/decomposition/_fastica.py:542: FutureWarning: Starting in v1.3, whiten='unit-variance' will be used by default.\n",
      "  warnings.warn(\n"
     ]
    },
    {
     "name": "stdout",
     "output_type": "stream",
     "text": [
      "Trial 898: Artifacts - 4.4% (Validation: 0, Clipping: 1, Motion: 99)\n"
     ]
    },
    {
     "name": "stderr",
     "output_type": "stream",
     "text": [
      "/usr/local/lib/python3.11/dist-packages/sklearn/decomposition/_fastica.py:542: FutureWarning: Starting in v1.3, whiten='unit-variance' will be used by default.\n",
      "  warnings.warn(\n"
     ]
    },
    {
     "name": "stdout",
     "output_type": "stream",
     "text": [
      "Trial 899: Artifacts - 0.0% (Validation: 0, Clipping: 1, Motion: 0)\n",
      "Trial 900: Artifacts - 2.3% (Validation: 0, Clipping: 0, Motion: 51)\n"
     ]
    },
    {
     "name": "stderr",
     "output_type": "stream",
     "text": [
      "/usr/local/lib/python3.11/dist-packages/sklearn/decomposition/_fastica.py:542: FutureWarning: Starting in v1.3, whiten='unit-variance' will be used by default.\n",
      "  warnings.warn(\n"
     ]
    },
    {
     "name": "stdout",
     "output_type": "stream",
     "text": [
      "Processed 900/4800 trials\n",
      "Trial 901: Artifacts - 13.1% (Validation: 0, Clipping: 0, Motion: 294)\n"
     ]
    },
    {
     "name": "stderr",
     "output_type": "stream",
     "text": [
      "/usr/local/lib/python3.11/dist-packages/sklearn/decomposition/_fastica.py:542: FutureWarning: Starting in v1.3, whiten='unit-variance' will be used by default.\n",
      "  warnings.warn(\n"
     ]
    },
    {
     "name": "stdout",
     "output_type": "stream",
     "text": [
      "Trial 902: Artifacts - 3.7% (Validation: 0, Clipping: 0, Motion: 84)\n"
     ]
    },
    {
     "name": "stderr",
     "output_type": "stream",
     "text": [
      "/usr/local/lib/python3.11/dist-packages/sklearn/decomposition/_fastica.py:542: FutureWarning: Starting in v1.3, whiten='unit-variance' will be used by default.\n",
      "  warnings.warn(\n"
     ]
    },
    {
     "name": "stdout",
     "output_type": "stream",
     "text": [
      "Trial 903: Artifacts - 6.5% (Validation: 0, Clipping: 1, Motion: 146)\n"
     ]
    },
    {
     "name": "stderr",
     "output_type": "stream",
     "text": [
      "/usr/local/lib/python3.11/dist-packages/sklearn/decomposition/_fastica.py:542: FutureWarning: Starting in v1.3, whiten='unit-variance' will be used by default.\n",
      "  warnings.warn(\n"
     ]
    },
    {
     "name": "stdout",
     "output_type": "stream",
     "text": [
      "Trial 904: Artifacts - 7.6% (Validation: 0, Clipping: 0, Motion: 170)\n"
     ]
    },
    {
     "name": "stderr",
     "output_type": "stream",
     "text": [
      "/usr/local/lib/python3.11/dist-packages/sklearn/decomposition/_fastica.py:542: FutureWarning: Starting in v1.3, whiten='unit-variance' will be used by default.\n",
      "  warnings.warn(\n"
     ]
    },
    {
     "name": "stdout",
     "output_type": "stream",
     "text": [
      "Trial 905: Artifacts - 4.7% (Validation: 0, Clipping: 0, Motion: 106)\n"
     ]
    },
    {
     "name": "stderr",
     "output_type": "stream",
     "text": [
      "/usr/local/lib/python3.11/dist-packages/sklearn/decomposition/_fastica.py:542: FutureWarning: Starting in v1.3, whiten='unit-variance' will be used by default.\n",
      "  warnings.warn(\n"
     ]
    },
    {
     "name": "stdout",
     "output_type": "stream",
     "text": [
      "Trial 906: Artifacts - 8.6% (Validation: 0, Clipping: 0, Motion: 193)\n"
     ]
    },
    {
     "name": "stderr",
     "output_type": "stream",
     "text": [
      "/usr/local/lib/python3.11/dist-packages/sklearn/decomposition/_fastica.py:542: FutureWarning: Starting in v1.3, whiten='unit-variance' will be used by default.\n",
      "  warnings.warn(\n"
     ]
    },
    {
     "name": "stdout",
     "output_type": "stream",
     "text": [
      "Trial 907: Artifacts - 7.7% (Validation: 0, Clipping: 0, Motion: 174)\n"
     ]
    },
    {
     "name": "stderr",
     "output_type": "stream",
     "text": [
      "/usr/local/lib/python3.11/dist-packages/sklearn/decomposition/_fastica.py:542: FutureWarning: Starting in v1.3, whiten='unit-variance' will be used by default.\n",
      "  warnings.warn(\n"
     ]
    },
    {
     "name": "stdout",
     "output_type": "stream",
     "text": [
      "Trial 908: Artifacts - 9.1% (Validation: 0, Clipping: 0, Motion: 205)\n"
     ]
    },
    {
     "name": "stderr",
     "output_type": "stream",
     "text": [
      "/usr/local/lib/python3.11/dist-packages/sklearn/decomposition/_fastica.py:542: FutureWarning: Starting in v1.3, whiten='unit-variance' will be used by default.\n",
      "  warnings.warn(\n"
     ]
    },
    {
     "name": "stdout",
     "output_type": "stream",
     "text": [
      "Trial 909: Artifacts - 0.0% (Validation: 0, Clipping: 0, Motion: 0)\n",
      "Trial 910: Artifacts - 4.7% (Validation: 0, Clipping: 0, Motion: 106)\n"
     ]
    },
    {
     "name": "stderr",
     "output_type": "stream",
     "text": [
      "/usr/local/lib/python3.11/dist-packages/sklearn/decomposition/_fastica.py:542: FutureWarning: Starting in v1.3, whiten='unit-variance' will be used by default.\n",
      "  warnings.warn(\n"
     ]
    },
    {
     "name": "stdout",
     "output_type": "stream",
     "text": [
      "Trial 911: Artifacts - 2.1% (Validation: 0, Clipping: 0, Motion: 48)\n",
      "Trial 912: Artifacts - 1.1% (Validation: 0, Clipping: 0, Motion: 24)\n",
      "Trial 913: Artifacts - 0.5% (Validation: 0, Clipping: 1, Motion: 10)\n",
      "Trial 914: Artifacts - 1.6% (Validation: 0, Clipping: 0, Motion: 36)\n",
      "Trial 915: Artifacts - 0.7% (Validation: 0, Clipping: 1, Motion: 15)\n",
      "Trial 916: Artifacts - 0.0% (Validation: 0, Clipping: 0, Motion: 0)\n",
      "Trial 917: Artifacts - 0.0% (Validation: 0, Clipping: 0, Motion: 0)\n",
      "Trial 918: Artifacts - 0.0% (Validation: 0, Clipping: 0, Motion: 0)\n",
      "Trial 919: Artifacts - 0.0% (Validation: 0, Clipping: 0, Motion: 1)\n",
      "Trial 920: Artifacts - 0.0% (Validation: 0, Clipping: 0, Motion: 0)\n",
      "Trial 921: Artifacts - 7.6% (Validation: 0, Clipping: 0, Motion: 170)\n"
     ]
    },
    {
     "name": "stderr",
     "output_type": "stream",
     "text": [
      "/usr/local/lib/python3.11/dist-packages/sklearn/decomposition/_fastica.py:542: FutureWarning: Starting in v1.3, whiten='unit-variance' will be used by default.\n",
      "  warnings.warn(\n"
     ]
    },
    {
     "name": "stdout",
     "output_type": "stream",
     "text": [
      "Trial 922: Artifacts - 4.2% (Validation: 0, Clipping: 0, Motion: 94)\n"
     ]
    },
    {
     "name": "stderr",
     "output_type": "stream",
     "text": [
      "/usr/local/lib/python3.11/dist-packages/sklearn/decomposition/_fastica.py:542: FutureWarning: Starting in v1.3, whiten='unit-variance' will be used by default.\n",
      "  warnings.warn(\n"
     ]
    },
    {
     "name": "stdout",
     "output_type": "stream",
     "text": [
      "Trial 923: Artifacts - 0.8% (Validation: 0, Clipping: 0, Motion: 19)\n",
      "Trial 924: Artifacts - 6.4% (Validation: 0, Clipping: 0, Motion: 144)\n"
     ]
    },
    {
     "name": "stderr",
     "output_type": "stream",
     "text": [
      "/usr/local/lib/python3.11/dist-packages/sklearn/decomposition/_fastica.py:542: FutureWarning: Starting in v1.3, whiten='unit-variance' will be used by default.\n",
      "  warnings.warn(\n"
     ]
    },
    {
     "name": "stdout",
     "output_type": "stream",
     "text": [
      "Trial 925: Artifacts - 0.0% (Validation: 0, Clipping: 0, Motion: 0)\n",
      "Trial 926: Artifacts - 0.6% (Validation: 0, Clipping: 0, Motion: 13)\n",
      "Trial 927: Artifacts - 0.8% (Validation: 0, Clipping: 1, Motion: 18)\n",
      "Trial 928: Artifacts - 0.0% (Validation: 0, Clipping: 0, Motion: 0)\n",
      "Trial 929: Artifacts - 0.0% (Validation: 0, Clipping: 0, Motion: 0)\n",
      "Trial 930: Artifacts - 0.0% (Validation: 0, Clipping: 0, Motion: 0)\n",
      "Trial 931: Artifacts - 15.6% (Validation: 0, Clipping: 1, Motion: 350)\n"
     ]
    },
    {
     "name": "stderr",
     "output_type": "stream",
     "text": [
      "/usr/local/lib/python3.11/dist-packages/sklearn/decomposition/_fastica.py:542: FutureWarning: Starting in v1.3, whiten='unit-variance' will be used by default.\n",
      "  warnings.warn(\n"
     ]
    },
    {
     "name": "stdout",
     "output_type": "stream",
     "text": [
      "Trial 932: Artifacts - 0.4% (Validation: 0, Clipping: 0, Motion: 10)\n",
      "Trial 933: Artifacts - 0.6% (Validation: 0, Clipping: 0, Motion: 13)\n",
      "Trial 934: Artifacts - 0.1% (Validation: 0, Clipping: 0, Motion: 2)\n",
      "Trial 935: Artifacts - 1.2% (Validation: 0, Clipping: 0, Motion: 27)\n",
      "Trial 936: Artifacts - 0.1% (Validation: 0, Clipping: 0, Motion: 2)\n",
      "Trial 937: Artifacts - 0.2% (Validation: 0, Clipping: 0, Motion: 5)\n",
      "Trial 938: Artifacts - 0.0% (Validation: 0, Clipping: 0, Motion: 1)\n",
      "Trial 939: Artifacts - 0.9% (Validation: 0, Clipping: 0, Motion: 21)\n",
      "Trial 940: Artifacts - 0.5% (Validation: 0, Clipping: 0, Motion: 11)\n",
      "Trial 941: Artifacts - 11.7% (Validation: 0, Clipping: 0, Motion: 263)\n"
     ]
    },
    {
     "name": "stderr",
     "output_type": "stream",
     "text": [
      "/usr/local/lib/python3.11/dist-packages/sklearn/decomposition/_fastica.py:542: FutureWarning: Starting in v1.3, whiten='unit-variance' will be used by default.\n",
      "  warnings.warn(\n"
     ]
    },
    {
     "name": "stdout",
     "output_type": "stream",
     "text": [
      "Trial 942: Artifacts - 1.2% (Validation: 0, Clipping: 0, Motion: 26)\n",
      "Trial 943: Artifacts - 5.3% (Validation: 0, Clipping: 0, Motion: 119)\n"
     ]
    },
    {
     "name": "stderr",
     "output_type": "stream",
     "text": [
      "/usr/local/lib/python3.11/dist-packages/sklearn/decomposition/_fastica.py:542: FutureWarning: Starting in v1.3, whiten='unit-variance' will be used by default.\n",
      "  warnings.warn(\n"
     ]
    },
    {
     "name": "stdout",
     "output_type": "stream",
     "text": [
      "Trial 944: Artifacts - 1.1% (Validation: 0, Clipping: 0, Motion: 25)\n",
      "Trial 945: Artifacts - 0.5% (Validation: 0, Clipping: 1, Motion: 10)\n",
      "Trial 946: Artifacts - 0.1% (Validation: 0, Clipping: 0, Motion: 3)\n",
      "Trial 947: Artifacts - 0.0% (Validation: 0, Clipping: 0, Motion: 0)\n",
      "Trial 948: Artifacts - 0.1% (Validation: 0, Clipping: 0, Motion: 2)\n",
      "Trial 949: Artifacts - 1.0% (Validation: 0, Clipping: 0, Motion: 23)\n",
      "Trial 950: Artifacts - 0.3% (Validation: 0, Clipping: 0, Motion: 7)\n",
      "Trial 951: Artifacts - 12.2% (Validation: 0, Clipping: 0, Motion: 275)\n"
     ]
    },
    {
     "name": "stderr",
     "output_type": "stream",
     "text": [
      "/usr/local/lib/python3.11/dist-packages/sklearn/decomposition/_fastica.py:542: FutureWarning: Starting in v1.3, whiten='unit-variance' will be used by default.\n",
      "  warnings.warn(\n"
     ]
    },
    {
     "name": "stdout",
     "output_type": "stream",
     "text": [
      "Trial 952: Artifacts - 0.0% (Validation: 0, Clipping: 0, Motion: 0)\n",
      "Trial 953: Artifacts - 0.2% (Validation: 0, Clipping: 0, Motion: 5)\n",
      "Trial 954: Artifacts - 0.1% (Validation: 0, Clipping: 0, Motion: 3)\n",
      "Trial 955: Artifacts - 5.8% (Validation: 0, Clipping: 1, Motion: 130)\n"
     ]
    },
    {
     "name": "stderr",
     "output_type": "stream",
     "text": [
      "/usr/local/lib/python3.11/dist-packages/sklearn/decomposition/_fastica.py:542: FutureWarning: Starting in v1.3, whiten='unit-variance' will be used by default.\n",
      "  warnings.warn(\n"
     ]
    },
    {
     "name": "stdout",
     "output_type": "stream",
     "text": [
      "Trial 956: Artifacts - 0.0% (Validation: 0, Clipping: 1, Motion: 0)\n",
      "Trial 957: Artifacts - 0.2% (Validation: 0, Clipping: 1, Motion: 3)\n",
      "Trial 958: Artifacts - 0.0% (Validation: 0, Clipping: 0, Motion: 0)\n",
      "Trial 959: Artifacts - 0.0% (Validation: 0, Clipping: 0, Motion: 0)\n",
      "Trial 960: Artifacts - 0.6% (Validation: 0, Clipping: 0, Motion: 13)\n",
      "Trial 961: Artifacts - 4.6% (Validation: 0, Clipping: 0, Motion: 103)\n"
     ]
    },
    {
     "name": "stderr",
     "output_type": "stream",
     "text": [
      "/usr/local/lib/python3.11/dist-packages/sklearn/decomposition/_fastica.py:542: FutureWarning: Starting in v1.3, whiten='unit-variance' will be used by default.\n",
      "  warnings.warn(\n"
     ]
    },
    {
     "name": "stdout",
     "output_type": "stream",
     "text": [
      "Trial 962: Artifacts - 1.0% (Validation: 0, Clipping: 0, Motion: 23)\n",
      "Trial 963: Artifacts - 0.0% (Validation: 0, Clipping: 0, Motion: 0)\n",
      "Trial 964: Artifacts - 0.4% (Validation: 0, Clipping: 0, Motion: 10)\n",
      "Trial 965: Artifacts - 1.4% (Validation: 0, Clipping: 0, Motion: 32)\n",
      "Trial 966: Artifacts - 3.6% (Validation: 0, Clipping: 0, Motion: 81)\n"
     ]
    },
    {
     "name": "stderr",
     "output_type": "stream",
     "text": [
      "/usr/local/lib/python3.11/dist-packages/sklearn/decomposition/_fastica.py:542: FutureWarning: Starting in v1.3, whiten='unit-variance' will be used by default.\n",
      "  warnings.warn(\n"
     ]
    },
    {
     "name": "stdout",
     "output_type": "stream",
     "text": [
      "Trial 967: Artifacts - 0.9% (Validation: 0, Clipping: 0, Motion: 21)\n",
      "Trial 968: Artifacts - 0.0% (Validation: 0, Clipping: 0, Motion: 0)\n",
      "Trial 969: Artifacts - 0.0% (Validation: 0, Clipping: 0, Motion: 0)\n",
      "Trial 970: Artifacts - 0.0% (Validation: 0, Clipping: 0, Motion: 0)\n",
      "Trial 971: Artifacts - 14.3% (Validation: 0, Clipping: 1, Motion: 321)\n"
     ]
    },
    {
     "name": "stderr",
     "output_type": "stream",
     "text": [
      "/usr/local/lib/python3.11/dist-packages/sklearn/decomposition/_fastica.py:542: FutureWarning: Starting in v1.3, whiten='unit-variance' will be used by default.\n",
      "  warnings.warn(\n"
     ]
    },
    {
     "name": "stdout",
     "output_type": "stream",
     "text": [
      "Trial 972: Artifacts - 1.0% (Validation: 0, Clipping: 0, Motion: 22)\n",
      "Trial 973: Artifacts - 4.5% (Validation: 0, Clipping: 0, Motion: 102)\n"
     ]
    },
    {
     "name": "stderr",
     "output_type": "stream",
     "text": [
      "/usr/local/lib/python3.11/dist-packages/sklearn/decomposition/_fastica.py:542: FutureWarning: Starting in v1.3, whiten='unit-variance' will be used by default.\n",
      "  warnings.warn(\n"
     ]
    },
    {
     "name": "stdout",
     "output_type": "stream",
     "text": [
      "Trial 974: Artifacts - 0.0% (Validation: 0, Clipping: 0, Motion: 0)\n",
      "Trial 975: Artifacts - 2.0% (Validation: 0, Clipping: 0, Motion: 45)\n",
      "Trial 976: Artifacts - 0.0% (Validation: 0, Clipping: 0, Motion: 0)\n",
      "Trial 977: Artifacts - 0.0% (Validation: 0, Clipping: 0, Motion: 0)\n",
      "Trial 978: Artifacts - 1.8% (Validation: 0, Clipping: 0, Motion: 40)\n",
      "Trial 979: Artifacts - 0.0% (Validation: 0, Clipping: 0, Motion: 0)\n",
      "Trial 980: Artifacts - 0.7% (Validation: 0, Clipping: 0, Motion: 15)\n",
      "Trial 981: Artifacts - 2.3% (Validation: 0, Clipping: 0, Motion: 51)\n"
     ]
    },
    {
     "name": "stderr",
     "output_type": "stream",
     "text": [
      "/usr/local/lib/python3.11/dist-packages/sklearn/decomposition/_fastica.py:542: FutureWarning: Starting in v1.3, whiten='unit-variance' will be used by default.\n",
      "  warnings.warn(\n"
     ]
    },
    {
     "name": "stdout",
     "output_type": "stream",
     "text": [
      "Trial 982: Artifacts - 7.6% (Validation: 0, Clipping: 1, Motion: 170)\n"
     ]
    },
    {
     "name": "stderr",
     "output_type": "stream",
     "text": [
      "/usr/local/lib/python3.11/dist-packages/sklearn/decomposition/_fastica.py:542: FutureWarning: Starting in v1.3, whiten='unit-variance' will be used by default.\n",
      "  warnings.warn(\n"
     ]
    },
    {
     "name": "stdout",
     "output_type": "stream",
     "text": [
      "Trial 983: Artifacts - 8.5% (Validation: 0, Clipping: 0, Motion: 191)\n"
     ]
    },
    {
     "name": "stderr",
     "output_type": "stream",
     "text": [
      "/usr/local/lib/python3.11/dist-packages/sklearn/decomposition/_fastica.py:542: FutureWarning: Starting in v1.3, whiten='unit-variance' will be used by default.\n",
      "  warnings.warn(\n"
     ]
    },
    {
     "name": "stdout",
     "output_type": "stream",
     "text": [
      "Trial 984: Artifacts - 0.0% (Validation: 0, Clipping: 0, Motion: 0)\n",
      "Trial 985: Artifacts - 0.0% (Validation: 0, Clipping: 0, Motion: 0)\n",
      "Trial 986: Artifacts - 0.3% (Validation: 0, Clipping: 1, Motion: 5)\n",
      "Trial 987: Artifacts - 0.0% (Validation: 0, Clipping: 0, Motion: 0)\n",
      "Trial 988: Artifacts - 2.4% (Validation: 0, Clipping: 0, Motion: 54)\n"
     ]
    },
    {
     "name": "stderr",
     "output_type": "stream",
     "text": [
      "/usr/local/lib/python3.11/dist-packages/sklearn/decomposition/_fastica.py:542: FutureWarning: Starting in v1.3, whiten='unit-variance' will be used by default.\n",
      "  warnings.warn(\n"
     ]
    },
    {
     "name": "stdout",
     "output_type": "stream",
     "text": [
      "Trial 989: Artifacts - 0.8% (Validation: 0, Clipping: 0, Motion: 18)\n",
      "Trial 990: Artifacts - 0.0% (Validation: 0, Clipping: 1, Motion: 0)\n",
      "Trial 991: Artifacts - 3.0% (Validation: 0, Clipping: 0, Motion: 67)\n"
     ]
    },
    {
     "name": "stderr",
     "output_type": "stream",
     "text": [
      "/usr/local/lib/python3.11/dist-packages/sklearn/decomposition/_fastica.py:542: FutureWarning: Starting in v1.3, whiten='unit-variance' will be used by default.\n",
      "  warnings.warn(\n"
     ]
    },
    {
     "name": "stdout",
     "output_type": "stream",
     "text": [
      "Trial 992: Artifacts - 0.0% (Validation: 0, Clipping: 0, Motion: 0)\n",
      "Trial 993: Artifacts - 1.1% (Validation: 0, Clipping: 0, Motion: 25)\n",
      "Trial 994: Artifacts - 2.6% (Validation: 0, Clipping: 0, Motion: 58)\n"
     ]
    },
    {
     "name": "stderr",
     "output_type": "stream",
     "text": [
      "/usr/local/lib/python3.11/dist-packages/sklearn/decomposition/_fastica.py:542: FutureWarning: Starting in v1.3, whiten='unit-variance' will be used by default.\n",
      "  warnings.warn(\n"
     ]
    },
    {
     "name": "stdout",
     "output_type": "stream",
     "text": [
      "Trial 995: Artifacts - 6.3% (Validation: 0, Clipping: 0, Motion: 141)\n"
     ]
    },
    {
     "name": "stderr",
     "output_type": "stream",
     "text": [
      "/usr/local/lib/python3.11/dist-packages/sklearn/decomposition/_fastica.py:542: FutureWarning: Starting in v1.3, whiten='unit-variance' will be used by default.\n",
      "  warnings.warn(\n"
     ]
    },
    {
     "name": "stdout",
     "output_type": "stream",
     "text": [
      "Trial 996: Artifacts - 0.0% (Validation: 0, Clipping: 0, Motion: 0)\n",
      "Trial 997: Artifacts - 5.2% (Validation: 0, Clipping: 1, Motion: 118)\n"
     ]
    },
    {
     "name": "stderr",
     "output_type": "stream",
     "text": [
      "/usr/local/lib/python3.11/dist-packages/sklearn/decomposition/_fastica.py:542: FutureWarning: Starting in v1.3, whiten='unit-variance' will be used by default.\n",
      "  warnings.warn(\n"
     ]
    },
    {
     "name": "stdout",
     "output_type": "stream",
     "text": [
      "Trial 998: Artifacts - 13.1% (Validation: 0, Clipping: 0, Motion: 294)\n"
     ]
    },
    {
     "name": "stderr",
     "output_type": "stream",
     "text": [
      "/usr/local/lib/python3.11/dist-packages/sklearn/decomposition/_fastica.py:542: FutureWarning: Starting in v1.3, whiten='unit-variance' will be used by default.\n",
      "  warnings.warn(\n"
     ]
    },
    {
     "name": "stdout",
     "output_type": "stream",
     "text": [
      "Trial 999: Artifacts - 0.0% (Validation: 0, Clipping: 1, Motion: 0)\n",
      "Trial 1000: Artifacts - 0.0% (Validation: 0, Clipping: 0, Motion: 0)\n",
      "Processed 1000/4800 trials\n",
      "Trial 1001: Artifacts - 9.0% (Validation: 0, Clipping: 0, Motion: 202)\n"
     ]
    },
    {
     "name": "stderr",
     "output_type": "stream",
     "text": [
      "/usr/local/lib/python3.11/dist-packages/sklearn/decomposition/_fastica.py:542: FutureWarning: Starting in v1.3, whiten='unit-variance' will be used by default.\n",
      "  warnings.warn(\n"
     ]
    },
    {
     "name": "stdout",
     "output_type": "stream",
     "text": [
      "Trial 1002: Artifacts - 9.6% (Validation: 0, Clipping: 0, Motion: 215)\n"
     ]
    },
    {
     "name": "stderr",
     "output_type": "stream",
     "text": [
      "/usr/local/lib/python3.11/dist-packages/sklearn/decomposition/_fastica.py:542: FutureWarning: Starting in v1.3, whiten='unit-variance' will be used by default.\n",
      "  warnings.warn(\n"
     ]
    },
    {
     "name": "stdout",
     "output_type": "stream",
     "text": [
      "Trial 1003: Artifacts - 5.4% (Validation: 0, Clipping: 0, Motion: 122)\n"
     ]
    },
    {
     "name": "stderr",
     "output_type": "stream",
     "text": [
      "/usr/local/lib/python3.11/dist-packages/sklearn/decomposition/_fastica.py:542: FutureWarning: Starting in v1.3, whiten='unit-variance' will be used by default.\n",
      "  warnings.warn(\n"
     ]
    },
    {
     "name": "stdout",
     "output_type": "stream",
     "text": [
      "Trial 1004: Artifacts - 12.7% (Validation: 0, Clipping: 0, Motion: 285)\n"
     ]
    },
    {
     "name": "stderr",
     "output_type": "stream",
     "text": [
      "/usr/local/lib/python3.11/dist-packages/sklearn/decomposition/_fastica.py:542: FutureWarning: Starting in v1.3, whiten='unit-variance' will be used by default.\n",
      "  warnings.warn(\n"
     ]
    },
    {
     "name": "stdout",
     "output_type": "stream",
     "text": [
      "Trial 1005: Artifacts - 0.9% (Validation: 0, Clipping: 0, Motion: 20)\n",
      "Trial 1006: Artifacts - 2.8% (Validation: 0, Clipping: 0, Motion: 64)\n"
     ]
    },
    {
     "name": "stderr",
     "output_type": "stream",
     "text": [
      "/usr/local/lib/python3.11/dist-packages/sklearn/decomposition/_fastica.py:542: FutureWarning: Starting in v1.3, whiten='unit-variance' will be used by default.\n",
      "  warnings.warn(\n"
     ]
    },
    {
     "name": "stdout",
     "output_type": "stream",
     "text": [
      "Trial 1007: Artifacts - 0.0% (Validation: 0, Clipping: 0, Motion: 0)\n",
      "Trial 1008: Artifacts - 0.0% (Validation: 0, Clipping: 0, Motion: 0)\n",
      "Trial 1009: Artifacts - 0.8% (Validation: 0, Clipping: 0, Motion: 17)\n",
      "Trial 1010: Artifacts - 0.7% (Validation: 0, Clipping: 0, Motion: 16)\n",
      "Trial 1011: Artifacts - 14.5% (Validation: 0, Clipping: 0, Motion: 327)\n"
     ]
    },
    {
     "name": "stderr",
     "output_type": "stream",
     "text": [
      "/usr/local/lib/python3.11/dist-packages/sklearn/decomposition/_fastica.py:542: FutureWarning: Starting in v1.3, whiten='unit-variance' will be used by default.\n",
      "  warnings.warn(\n"
     ]
    },
    {
     "name": "stdout",
     "output_type": "stream",
     "text": [
      "Trial 1012: Artifacts - 0.0% (Validation: 0, Clipping: 1, Motion: 0)\n",
      "Trial 1013: Artifacts - 0.9% (Validation: 0, Clipping: 0, Motion: 20)\n",
      "Trial 1014: Artifacts - 0.2% (Validation: 0, Clipping: 1, Motion: 4)\n",
      "Trial 1015: Artifacts - 0.0% (Validation: 0, Clipping: 1, Motion: 0)\n",
      "Trial 1016: Artifacts - 0.0% (Validation: 0, Clipping: 0, Motion: 0)\n",
      "Trial 1017: Artifacts - 4.0% (Validation: 0, Clipping: 0, Motion: 91)\n"
     ]
    },
    {
     "name": "stderr",
     "output_type": "stream",
     "text": [
      "/usr/local/lib/python3.11/dist-packages/sklearn/decomposition/_fastica.py:542: FutureWarning: Starting in v1.3, whiten='unit-variance' will be used by default.\n",
      "  warnings.warn(\n"
     ]
    },
    {
     "name": "stdout",
     "output_type": "stream",
     "text": [
      "Trial 1018: Artifacts - 0.0% (Validation: 0, Clipping: 0, Motion: 0)\n",
      "Trial 1019: Artifacts - 0.4% (Validation: 0, Clipping: 0, Motion: 10)\n",
      "Trial 1020: Artifacts - 0.0% (Validation: 0, Clipping: 0, Motion: 0)\n",
      "Trial 1021: Artifacts - 16.0% (Validation: 0, Clipping: 0, Motion: 361)\n"
     ]
    },
    {
     "name": "stderr",
     "output_type": "stream",
     "text": [
      "/usr/local/lib/python3.11/dist-packages/sklearn/decomposition/_fastica.py:542: FutureWarning: Starting in v1.3, whiten='unit-variance' will be used by default.\n",
      "  warnings.warn(\n"
     ]
    },
    {
     "name": "stdout",
     "output_type": "stream",
     "text": [
      "Trial 1022: Artifacts - 0.0% (Validation: 0, Clipping: 0, Motion: 0)\n",
      "Trial 1023: Artifacts - 1.3% (Validation: 0, Clipping: 0, Motion: 30)\n",
      "Trial 1024: Artifacts - 0.5% (Validation: 0, Clipping: 0, Motion: 12)\n",
      "Trial 1025: Artifacts - 3.0% (Validation: 0, Clipping: 0, Motion: 68)\n"
     ]
    },
    {
     "name": "stderr",
     "output_type": "stream",
     "text": [
      "/usr/local/lib/python3.11/dist-packages/sklearn/decomposition/_fastica.py:542: FutureWarning: Starting in v1.3, whiten='unit-variance' will be used by default.\n",
      "  warnings.warn(\n"
     ]
    },
    {
     "name": "stdout",
     "output_type": "stream",
     "text": [
      "Trial 1026: Artifacts - 10.2% (Validation: 0, Clipping: 0, Motion: 229)\n"
     ]
    },
    {
     "name": "stderr",
     "output_type": "stream",
     "text": [
      "/usr/local/lib/python3.11/dist-packages/sklearn/decomposition/_fastica.py:542: FutureWarning: Starting in v1.3, whiten='unit-variance' will be used by default.\n",
      "  warnings.warn(\n"
     ]
    },
    {
     "name": "stdout",
     "output_type": "stream",
     "text": [
      "Trial 1027: Artifacts - 5.1% (Validation: 0, Clipping: 0, Motion: 114)\n"
     ]
    },
    {
     "name": "stderr",
     "output_type": "stream",
     "text": [
      "/usr/local/lib/python3.11/dist-packages/sklearn/decomposition/_fastica.py:542: FutureWarning: Starting in v1.3, whiten='unit-variance' will be used by default.\n",
      "  warnings.warn(\n"
     ]
    },
    {
     "name": "stdout",
     "output_type": "stream",
     "text": [
      "Trial 1028: Artifacts - 0.0% (Validation: 0, Clipping: 0, Motion: 0)\n",
      "Trial 1029: Artifacts - 0.0% (Validation: 0, Clipping: 0, Motion: 0)\n",
      "Trial 1030: Artifacts - 3.3% (Validation: 0, Clipping: 0, Motion: 74)\n"
     ]
    },
    {
     "name": "stderr",
     "output_type": "stream",
     "text": [
      "/usr/local/lib/python3.11/dist-packages/sklearn/decomposition/_fastica.py:542: FutureWarning: Starting in v1.3, whiten='unit-variance' will be used by default.\n",
      "  warnings.warn(\n"
     ]
    },
    {
     "name": "stdout",
     "output_type": "stream",
     "text": [
      "Trial 1031: Artifacts - 12.4% (Validation: 0, Clipping: 0, Motion: 280)\n"
     ]
    },
    {
     "name": "stderr",
     "output_type": "stream",
     "text": [
      "/usr/local/lib/python3.11/dist-packages/sklearn/decomposition/_fastica.py:542: FutureWarning: Starting in v1.3, whiten='unit-variance' will be used by default.\n",
      "  warnings.warn(\n"
     ]
    },
    {
     "name": "stdout",
     "output_type": "stream",
     "text": [
      "Trial 1032: Artifacts - 8.8% (Validation: 0, Clipping: 0, Motion: 197)\n"
     ]
    },
    {
     "name": "stderr",
     "output_type": "stream",
     "text": [
      "/usr/local/lib/python3.11/dist-packages/sklearn/decomposition/_fastica.py:542: FutureWarning: Starting in v1.3, whiten='unit-variance' will be used by default.\n",
      "  warnings.warn(\n"
     ]
    },
    {
     "name": "stdout",
     "output_type": "stream",
     "text": [
      "Trial 1033: Artifacts - 2.3% (Validation: 0, Clipping: 0, Motion: 52)\n"
     ]
    },
    {
     "name": "stderr",
     "output_type": "stream",
     "text": [
      "/usr/local/lib/python3.11/dist-packages/sklearn/decomposition/_fastica.py:542: FutureWarning: Starting in v1.3, whiten='unit-variance' will be used by default.\n",
      "  warnings.warn(\n"
     ]
    },
    {
     "name": "stdout",
     "output_type": "stream",
     "text": [
      "Trial 1034: Artifacts - 0.1% (Validation: 0, Clipping: 0, Motion: 3)\n",
      "Trial 1035: Artifacts - 0.0% (Validation: 0, Clipping: 0, Motion: 0)\n",
      "Trial 1036: Artifacts - 0.0% (Validation: 0, Clipping: 0, Motion: 1)\n",
      "Trial 1037: Artifacts - 0.0% (Validation: 0, Clipping: 0, Motion: 0)\n",
      "Trial 1038: Artifacts - 0.0% (Validation: 0, Clipping: 0, Motion: 0)\n",
      "Trial 1039: Artifacts - 1.5% (Validation: 0, Clipping: 0, Motion: 33)\n",
      "Trial 1040: Artifacts - 0.0% (Validation: 0, Clipping: 0, Motion: 0)\n",
      "Trial 1041: Artifacts - 4.3% (Validation: 0, Clipping: 0, Motion: 96)\n"
     ]
    },
    {
     "name": "stderr",
     "output_type": "stream",
     "text": [
      "/usr/local/lib/python3.11/dist-packages/sklearn/decomposition/_fastica.py:542: FutureWarning: Starting in v1.3, whiten='unit-variance' will be used by default.\n",
      "  warnings.warn(\n"
     ]
    },
    {
     "name": "stdout",
     "output_type": "stream",
     "text": [
      "Trial 1042: Artifacts - 0.0% (Validation: 0, Clipping: 1, Motion: 0)\n",
      "Trial 1043: Artifacts - 3.1% (Validation: 0, Clipping: 1, Motion: 68)\n"
     ]
    },
    {
     "name": "stderr",
     "output_type": "stream",
     "text": [
      "/usr/local/lib/python3.11/dist-packages/sklearn/decomposition/_fastica.py:542: FutureWarning: Starting in v1.3, whiten='unit-variance' will be used by default.\n",
      "  warnings.warn(\n"
     ]
    },
    {
     "name": "stdout",
     "output_type": "stream",
     "text": [
      "Trial 1044: Artifacts - 0.0% (Validation: 0, Clipping: 0, Motion: 0)\n",
      "Trial 1045: Artifacts - 2.3% (Validation: 51, Clipping: 52, Motion: 0)\n",
      "Trial 1046: Artifacts - 6.5% (Validation: 147, Clipping: 77, Motion: 0)\n",
      "Trial 1047: Artifacts - 0.0% (Validation: 0, Clipping: 0, Motion: 0)\n",
      "Trial 1048: Artifacts - 0.0% (Validation: 0, Clipping: 0, Motion: 0)\n",
      "Trial 1049: Artifacts - 5.3% (Validation: 83, Clipping: 1, Motion: 36)\n",
      "Trial 1050: Artifacts - 0.7% (Validation: 15, Clipping: 0, Motion: 0)\n",
      "Trial 1051: Artifacts - 4.0% (Validation: 0, Clipping: 0, Motion: 90)\n"
     ]
    },
    {
     "name": "stderr",
     "output_type": "stream",
     "text": [
      "/usr/local/lib/python3.11/dist-packages/sklearn/decomposition/_fastica.py:542: FutureWarning: Starting in v1.3, whiten='unit-variance' will be used by default.\n",
      "  warnings.warn(\n"
     ]
    },
    {
     "name": "stdout",
     "output_type": "stream",
     "text": [
      "Trial 1052: Artifacts - 0.0% (Validation: 0, Clipping: 0, Motion: 0)\n",
      "Trial 1053: Artifacts - 0.0% (Validation: 0, Clipping: 0, Motion: 0)\n",
      "Trial 1054: Artifacts - 4.8% (Validation: 107, Clipping: 0, Motion: 0)\n",
      "Trial 1055: Artifacts - 16.7% (Validation: 376, Clipping: 52, Motion: 0)\n",
      "Trial 1056: Artifacts - 0.0% (Validation: 0, Clipping: 0, Motion: 0)\n",
      "Trial 1057: Artifacts - 0.8% (Validation: 0, Clipping: 0, Motion: 19)\n",
      "Trial 1058: Artifacts - 4.1% (Validation: 0, Clipping: 0, Motion: 92)\n"
     ]
    },
    {
     "name": "stderr",
     "output_type": "stream",
     "text": [
      "/usr/local/lib/python3.11/dist-packages/sklearn/decomposition/_fastica.py:542: FutureWarning: Starting in v1.3, whiten='unit-variance' will be used by default.\n",
      "  warnings.warn(\n"
     ]
    },
    {
     "name": "stdout",
     "output_type": "stream",
     "text": [
      "Trial 1059: Artifacts - 0.0% (Validation: 0, Clipping: 0, Motion: 0)\n",
      "Trial 1060: Artifacts - 0.0% (Validation: 0, Clipping: 0, Motion: 0)\n",
      "Trial 1061: Artifacts - 0.3% (Validation: 0, Clipping: 0, Motion: 7)\n",
      "Trial 1062: Artifacts - 1.9% (Validation: 0, Clipping: 0, Motion: 42)\n",
      "Trial 1063: Artifacts - 0.0% (Validation: 0, Clipping: 0, Motion: 0)\n",
      "Trial 1064: Artifacts - 0.0% (Validation: 0, Clipping: 0, Motion: 0)\n",
      "Trial 1065: Artifacts - 4.0% (Validation: 89, Clipping: 8, Motion: 0)\n",
      "Trial 1066: Artifacts - 0.0% (Validation: 0, Clipping: 0, Motion: 0)\n",
      "Trial 1067: Artifacts - 7.0% (Validation: 120, Clipping: 0, Motion: 38)\n",
      "Trial 1068: Artifacts - 2.5% (Validation: 0, Clipping: 1, Motion: 55)\n"
     ]
    },
    {
     "name": "stderr",
     "output_type": "stream",
     "text": [
      "/usr/local/lib/python3.11/dist-packages/sklearn/decomposition/_fastica.py:542: FutureWarning: Starting in v1.3, whiten='unit-variance' will be used by default.\n",
      "  warnings.warn(\n"
     ]
    },
    {
     "name": "stdout",
     "output_type": "stream",
     "text": [
      "Trial 1069: Artifacts - 0.8% (Validation: 0, Clipping: 0, Motion: 17)\n",
      "Trial 1070: Artifacts - 10.7% (Validation: 184, Clipping: 0, Motion: 57)\n"
     ]
    },
    {
     "name": "stderr",
     "output_type": "stream",
     "text": [
      "/usr/local/lib/python3.11/dist-packages/sklearn/decomposition/_fastica.py:542: FutureWarning: Starting in v1.3, whiten='unit-variance' will be used by default.\n",
      "  warnings.warn(\n"
     ]
    },
    {
     "name": "stdout",
     "output_type": "stream",
     "text": [
      "Trial 1071: Artifacts - 1.2% (Validation: 0, Clipping: 0, Motion: 28)\n",
      "Trial 1072: Artifacts - 2.0% (Validation: 0, Clipping: 0, Motion: 44)\n",
      "Trial 1073: Artifacts - 0.0% (Validation: 0, Clipping: 0, Motion: 0)\n",
      "Trial 1074: Artifacts - 0.0% (Validation: 0, Clipping: 0, Motion: 0)\n",
      "Trial 1075: Artifacts - 0.0% (Validation: 0, Clipping: 0, Motion: 0)\n",
      "Trial 1076: Artifacts - 0.0% (Validation: 0, Clipping: 0, Motion: 0)\n",
      "Trial 1077: Artifacts - 0.0% (Validation: 0, Clipping: 0, Motion: 0)\n",
      "Trial 1078: Artifacts - 0.0% (Validation: 0, Clipping: 0, Motion: 0)\n",
      "Trial 1079: Artifacts - 0.0% (Validation: 0, Clipping: 0, Motion: 0)\n",
      "Trial 1080: Artifacts - 0.0% (Validation: 0, Clipping: 0, Motion: 0)\n",
      "Trial 1081: Artifacts - 10.5% (Validation: 0, Clipping: 0, Motion: 236)\n"
     ]
    },
    {
     "name": "stderr",
     "output_type": "stream",
     "text": [
      "/usr/local/lib/python3.11/dist-packages/sklearn/decomposition/_fastica.py:542: FutureWarning: Starting in v1.3, whiten='unit-variance' will be used by default.\n",
      "  warnings.warn(\n"
     ]
    },
    {
     "name": "stdout",
     "output_type": "stream",
     "text": [
      "Trial 1082: Artifacts - 0.0% (Validation: 0, Clipping: 0, Motion: 0)\n",
      "Trial 1083: Artifacts - 0.0% (Validation: 0, Clipping: 0, Motion: 0)\n",
      "Trial 1084: Artifacts - 0.0% (Validation: 0, Clipping: 1, Motion: 0)\n",
      "Trial 1085: Artifacts - 0.0% (Validation: 0, Clipping: 0, Motion: 0)\n",
      "Trial 1086: Artifacts - 3.6% (Validation: 81, Clipping: 0, Motion: 0)\n",
      "Trial 1087: Artifacts - 0.6% (Validation: 0, Clipping: 0, Motion: 13)\n",
      "Trial 1088: Artifacts - 2.2% (Validation: 0, Clipping: 0, Motion: 49)\n",
      "Trial 1089: Artifacts - 1.2% (Validation: 27, Clipping: 0, Motion: 0)\n",
      "Trial 1090: Artifacts - 3.2% (Validation: 73, Clipping: 31, Motion: 0)\n",
      "Trial 1091: Artifacts - 9.2% (Validation: 0, Clipping: 0, Motion: 207)\n"
     ]
    },
    {
     "name": "stderr",
     "output_type": "stream",
     "text": [
      "/usr/local/lib/python3.11/dist-packages/sklearn/decomposition/_fastica.py:542: FutureWarning: Starting in v1.3, whiten='unit-variance' will be used by default.\n",
      "  warnings.warn(\n"
     ]
    },
    {
     "name": "stdout",
     "output_type": "stream",
     "text": [
      "Trial 1092: Artifacts - 0.0% (Validation: 0, Clipping: 0, Motion: 0)\n",
      "Trial 1093: Artifacts - 0.0% (Validation: 0, Clipping: 0, Motion: 0)\n",
      "Trial 1094: Artifacts - 3.6% (Validation: 82, Clipping: 43, Motion: 0)\n",
      "Trial 1095: Artifacts - 4.8% (Validation: 0, Clipping: 0, Motion: 109)\n"
     ]
    },
    {
     "name": "stderr",
     "output_type": "stream",
     "text": [
      "/usr/local/lib/python3.11/dist-packages/sklearn/decomposition/_fastica.py:542: FutureWarning: Starting in v1.3, whiten='unit-variance' will be used by default.\n",
      "  warnings.warn(\n"
     ]
    },
    {
     "name": "stdout",
     "output_type": "stream",
     "text": [
      "Trial 1096: Artifacts - 0.4% (Validation: 0, Clipping: 0, Motion: 9)\n",
      "Trial 1097: Artifacts - 4.6% (Validation: 103, Clipping: 0, Motion: 0)\n",
      "Trial 1098: Artifacts - 0.0% (Validation: 0, Clipping: 0, Motion: 0)\n",
      "Trial 1099: Artifacts - 0.0% (Validation: 0, Clipping: 0, Motion: 0)\n",
      "Trial 1100: Artifacts - 0.0% (Validation: 0, Clipping: 1, Motion: 0)\n",
      "Processed 1100/4800 trials\n",
      "Trial 1101: Artifacts - 3.2% (Validation: 0, Clipping: 1, Motion: 70)\n"
     ]
    },
    {
     "name": "stderr",
     "output_type": "stream",
     "text": [
      "/usr/local/lib/python3.11/dist-packages/sklearn/decomposition/_fastica.py:542: FutureWarning: Starting in v1.3, whiten='unit-variance' will be used by default.\n",
      "  warnings.warn(\n"
     ]
    },
    {
     "name": "stdout",
     "output_type": "stream",
     "text": [
      "Trial 1102: Artifacts - 0.0% (Validation: 0, Clipping: 0, Motion: 0)\n",
      "Trial 1103: Artifacts - 0.0% (Validation: 0, Clipping: 0, Motion: 0)\n",
      "Trial 1104: Artifacts - 0.0% (Validation: 0, Clipping: 0, Motion: 0)\n",
      "Trial 1105: Artifacts - 0.0% (Validation: 0, Clipping: 0, Motion: 0)\n",
      "Trial 1106: Artifacts - 0.0% (Validation: 0, Clipping: 0, Motion: 0)\n",
      "Trial 1107: Artifacts - 14.6% (Validation: 197, Clipping: 49, Motion: 131)\n"
     ]
    },
    {
     "name": "stderr",
     "output_type": "stream",
     "text": [
      "/usr/local/lib/python3.11/dist-packages/sklearn/decomposition/_fastica.py:542: FutureWarning: Starting in v1.3, whiten='unit-variance' will be used by default.\n",
      "  warnings.warn(\n"
     ]
    },
    {
     "name": "stdout",
     "output_type": "stream",
     "text": [
      "Trial 1108: Artifacts - 2.6% (Validation: 0, Clipping: 0, Motion: 58)\n"
     ]
    },
    {
     "name": "stderr",
     "output_type": "stream",
     "text": [
      "/usr/local/lib/python3.11/dist-packages/sklearn/decomposition/_fastica.py:542: FutureWarning: Starting in v1.3, whiten='unit-variance' will be used by default.\n",
      "  warnings.warn(\n"
     ]
    },
    {
     "name": "stdout",
     "output_type": "stream",
     "text": [
      "Trial 1109: Artifacts - 1.4% (Validation: 0, Clipping: 0, Motion: 31)\n",
      "Trial 1110: Artifacts - 0.0% (Validation: 0, Clipping: 0, Motion: 0)\n",
      "Trial 1111: Artifacts - 4.7% (Validation: 53, Clipping: 0, Motion: 53)\n"
     ]
    },
    {
     "name": "stderr",
     "output_type": "stream",
     "text": [
      "/usr/local/lib/python3.11/dist-packages/sklearn/decomposition/_fastica.py:542: FutureWarning: Starting in v1.3, whiten='unit-variance' will be used by default.\n",
      "  warnings.warn(\n"
     ]
    },
    {
     "name": "stdout",
     "output_type": "stream",
     "text": [
      "Trial 1112: Artifacts - 0.0% (Validation: 0, Clipping: 0, Motion: 0)\n",
      "Trial 1113: Artifacts - 0.0% (Validation: 0, Clipping: 0, Motion: 0)\n",
      "Trial 1114: Artifacts - 5.3% (Validation: 118, Clipping: 1, Motion: 0)\n",
      "Trial 1115: Artifacts - 0.0% (Validation: 0, Clipping: 0, Motion: 0)\n",
      "Trial 1116: Artifacts - 0.0% (Validation: 0, Clipping: 0, Motion: 0)\n",
      "Trial 1117: Artifacts - 4.5% (Validation: 0, Clipping: 0, Motion: 102)\n"
     ]
    },
    {
     "name": "stderr",
     "output_type": "stream",
     "text": [
      "/usr/local/lib/python3.11/dist-packages/sklearn/decomposition/_fastica.py:542: FutureWarning: Starting in v1.3, whiten='unit-variance' will be used by default.\n",
      "  warnings.warn(\n"
     ]
    },
    {
     "name": "stdout",
     "output_type": "stream",
     "text": [
      "Trial 1118: Artifacts - 0.0% (Validation: 0, Clipping: 1, Motion: 0)\n",
      "Trial 1119: Artifacts - 0.8% (Validation: 0, Clipping: 0, Motion: 17)\n",
      "Trial 1120: Artifacts - 0.0% (Validation: 0, Clipping: 0, Motion: 0)\n",
      "Trial 1121: Artifacts - 20.9% (Validation: 193, Clipping: 0, Motion: 277)\n"
     ]
    },
    {
     "name": "stderr",
     "output_type": "stream",
     "text": [
      "/usr/local/lib/python3.11/dist-packages/sklearn/decomposition/_fastica.py:542: FutureWarning: Starting in v1.3, whiten='unit-variance' will be used by default.\n",
      "  warnings.warn(\n"
     ]
    },
    {
     "name": "stdout",
     "output_type": "stream",
     "text": [
      "Trial 1122: Artifacts - 3.6% (Validation: 80, Clipping: 0, Motion: 0)\n",
      "Trial 1123: Artifacts - 4.4% (Validation: 79, Clipping: 0, Motion: 19)\n",
      "Trial 1124: Artifacts - 0.0% (Validation: 0, Clipping: 1, Motion: 0)\n",
      "Trial 1125: Artifacts - 0.0% (Validation: 0, Clipping: 0, Motion: 0)\n",
      "Trial 1126: Artifacts - 0.0% (Validation: 0, Clipping: 0, Motion: 0)\n",
      "Trial 1127: Artifacts - 8.0% (Validation: 178, Clipping: 1, Motion: 0)\n",
      "Trial 1128: Artifacts - 3.2% (Validation: 0, Clipping: 0, Motion: 72)\n"
     ]
    },
    {
     "name": "stderr",
     "output_type": "stream",
     "text": [
      "/usr/local/lib/python3.11/dist-packages/sklearn/decomposition/_fastica.py:542: FutureWarning: Starting in v1.3, whiten='unit-variance' will be used by default.\n",
      "  warnings.warn(\n"
     ]
    },
    {
     "name": "stdout",
     "output_type": "stream",
     "text": [
      "Trial 1129: Artifacts - 5.7% (Validation: 0, Clipping: 0, Motion: 128)\n"
     ]
    },
    {
     "name": "stderr",
     "output_type": "stream",
     "text": [
      "/usr/local/lib/python3.11/dist-packages/sklearn/decomposition/_fastica.py:542: FutureWarning: Starting in v1.3, whiten='unit-variance' will be used by default.\n",
      "  warnings.warn(\n"
     ]
    },
    {
     "name": "stdout",
     "output_type": "stream",
     "text": [
      "Trial 1130: Artifacts - 3.4% (Validation: 66, Clipping: 0, Motion: 10)\n",
      "Trial 1131: Artifacts - 17.3% (Validation: 361, Clipping: 0, Motion: 29)\n",
      "Trial 1132: Artifacts - 16.8% (Validation: 345, Clipping: 7, Motion: 69)\n"
     ]
    },
    {
     "name": "stderr",
     "output_type": "stream",
     "text": [
      "/usr/local/lib/python3.11/dist-packages/sklearn/decomposition/_fastica.py:542: FutureWarning: Starting in v1.3, whiten='unit-variance' will be used by default.\n",
      "  warnings.warn(\n"
     ]
    },
    {
     "name": "stdout",
     "output_type": "stream",
     "text": [
      "Trial 1133: Artifacts - 7.0% (Validation: 148, Clipping: 39, Motion: 9)\n",
      "Trial 1134: Artifacts - 7.2% (Validation: 158, Clipping: 20, Motion: 4)\n",
      "Trial 1135: Artifacts - 9.5% (Validation: 213, Clipping: 21, Motion: 0)\n",
      "Trial 1136: Artifacts - 0.0% (Validation: 0, Clipping: 0, Motion: 1)\n",
      "Trial 1137: Artifacts - 0.0% (Validation: 0, Clipping: 0, Motion: 0)\n",
      "Trial 1138: Artifacts - 10.3% (Validation: 167, Clipping: 11, Motion: 121)\n"
     ]
    },
    {
     "name": "stderr",
     "output_type": "stream",
     "text": [
      "/usr/local/lib/python3.11/dist-packages/sklearn/decomposition/_fastica.py:542: FutureWarning: Starting in v1.3, whiten='unit-variance' will be used by default.\n",
      "  warnings.warn(\n"
     ]
    },
    {
     "name": "stdout",
     "output_type": "stream",
     "text": [
      "Trial 1139: Artifacts - 0.0% (Validation: 0, Clipping: 0, Motion: 0)\n",
      "Trial 1140: Artifacts - 1.7% (Validation: 0, Clipping: 0, Motion: 39)\n",
      "Trial 1141: Artifacts - 11.3% (Validation: 255, Clipping: 7, Motion: 0)\n",
      "Trial 1142: Artifacts - 5.6% (Validation: 67, Clipping: 0, Motion: 58)\n"
     ]
    },
    {
     "name": "stderr",
     "output_type": "stream",
     "text": [
      "/usr/local/lib/python3.11/dist-packages/sklearn/decomposition/_fastica.py:542: FutureWarning: Starting in v1.3, whiten='unit-variance' will be used by default.\n",
      "  warnings.warn(\n"
     ]
    },
    {
     "name": "stdout",
     "output_type": "stream",
     "text": [
      "Trial 1143: Artifacts - 17.8% (Validation: 388, Clipping: 0, Motion: 13)\n",
      "Trial 1144: Artifacts - 3.7% (Validation: 0, Clipping: 0, Motion: 84)\n"
     ]
    },
    {
     "name": "stderr",
     "output_type": "stream",
     "text": [
      "/usr/local/lib/python3.11/dist-packages/sklearn/decomposition/_fastica.py:542: FutureWarning: Starting in v1.3, whiten='unit-variance' will be used by default.\n",
      "  warnings.warn(\n"
     ]
    },
    {
     "name": "stdout",
     "output_type": "stream",
     "text": [
      "Trial 1145: Artifacts - 0.0% (Validation: 0, Clipping: 0, Motion: 0)\n",
      "Trial 1146: Artifacts - 0.8% (Validation: 18, Clipping: 0, Motion: 0)\n",
      "Trial 1147: Artifacts - 7.4% (Validation: 157, Clipping: 0, Motion: 10)\n",
      "Trial 1148: Artifacts - 1.1% (Validation: 0, Clipping: 0, Motion: 25)\n",
      "Trial 1149: Artifacts - 4.0% (Validation: 91, Clipping: 0, Motion: 0)\n",
      "Trial 1150: Artifacts - 0.5% (Validation: 0, Clipping: 1, Motion: 10)\n",
      "Trial 1151: Artifacts - 16.5% (Validation: 360, Clipping: 1, Motion: 11)\n",
      "Trial 1152: Artifacts - 9.1% (Validation: 167, Clipping: 37, Motion: 38)\n",
      "Trial 1153: Artifacts - 0.0% (Validation: 0, Clipping: 0, Motion: 0)\n",
      "Trial 1154: Artifacts - 6.8% (Validation: 152, Clipping: 39, Motion: 0)\n",
      "Trial 1155: Artifacts - 8.9% (Validation: 0, Clipping: 0, Motion: 201)\n"
     ]
    },
    {
     "name": "stderr",
     "output_type": "stream",
     "text": [
      "/usr/local/lib/python3.11/dist-packages/sklearn/decomposition/_fastica.py:542: FutureWarning: Starting in v1.3, whiten='unit-variance' will be used by default.\n",
      "  warnings.warn(\n"
     ]
    },
    {
     "name": "stdout",
     "output_type": "stream",
     "text": [
      "Trial 1156: Artifacts - 12.8% (Validation: 286, Clipping: 70, Motion: 0)\n",
      "Trial 1157: Artifacts - 4.3% (Validation: 97, Clipping: 26, Motion: 0)\n",
      "Trial 1158: Artifacts - 5.0% (Validation: 0, Clipping: 0, Motion: 113)\n"
     ]
    },
    {
     "name": "stderr",
     "output_type": "stream",
     "text": [
      "/usr/local/lib/python3.11/dist-packages/sklearn/decomposition/_fastica.py:542: FutureWarning: Starting in v1.3, whiten='unit-variance' will be used by default.\n",
      "  warnings.warn(\n"
     ]
    },
    {
     "name": "stdout",
     "output_type": "stream",
     "text": [
      "Trial 1159: Artifacts - 4.4% (Validation: 100, Clipping: 0, Motion: 0)\n",
      "Trial 1160: Artifacts - 12.4% (Validation: 168, Clipping: 9, Motion: 110)\n"
     ]
    },
    {
     "name": "stderr",
     "output_type": "stream",
     "text": [
      "/usr/local/lib/python3.11/dist-packages/sklearn/decomposition/_fastica.py:542: FutureWarning: Starting in v1.3, whiten='unit-variance' will be used by default.\n",
      "  warnings.warn(\n"
     ]
    },
    {
     "name": "stdout",
     "output_type": "stream",
     "text": [
      "Trial 1161: Artifacts - 15.8% (Validation: 264, Clipping: 28, Motion: 120)\n"
     ]
    },
    {
     "name": "stderr",
     "output_type": "stream",
     "text": [
      "/usr/local/lib/python3.11/dist-packages/sklearn/decomposition/_fastica.py:542: FutureWarning: Starting in v1.3, whiten='unit-variance' will be used by default.\n",
      "  warnings.warn(\n"
     ]
    },
    {
     "name": "stdout",
     "output_type": "stream",
     "text": [
      "Trial 1162: Artifacts - 5.6% (Validation: 125, Clipping: 7, Motion: 0)\n",
      "Trial 1163: Artifacts - 13.1% (Validation: 277, Clipping: 77, Motion: 17)\n",
      "Trial 1164: Artifacts - 12.4% (Validation: 278, Clipping: 52, Motion: 0)\n",
      "Trial 1165: Artifacts - 14.2% (Validation: 320, Clipping: 42, Motion: 0)\n",
      "Trial 1166: Artifacts - 9.1% (Validation: 205, Clipping: 0, Motion: 0)\n",
      "Trial 1167: Artifacts - 3.8% (Validation: 86, Clipping: 5, Motion: 0)\n",
      "Trial 1168: Artifacts - 6.7% (Validation: 151, Clipping: 0, Motion: 0)\n",
      "Trial 1169: Artifacts - 18.9% (Validation: 80, Clipping: 0, Motion: 346)\n"
     ]
    },
    {
     "name": "stderr",
     "output_type": "stream",
     "text": [
      "/usr/local/lib/python3.11/dist-packages/sklearn/decomposition/_fastica.py:542: FutureWarning: Starting in v1.3, whiten='unit-variance' will be used by default.\n",
      "  warnings.warn(\n"
     ]
    },
    {
     "name": "stdout",
     "output_type": "stream",
     "text": [
      "Trial 1170: Artifacts - 5.2% (Validation: 116, Clipping: 34, Motion: 0)\n",
      "Trial 1171: Artifacts - 5.8% (Validation: 125, Clipping: 19, Motion: 4)\n",
      "Trial 1172: Artifacts - 16.7% (Validation: 375, Clipping: 1, Motion: 0)\n",
      "Trial 1173: Artifacts - 11.0% (Validation: 202, Clipping: 34, Motion: 46)\n",
      "Trial 1174: Artifacts - 3.6% (Validation: 80, Clipping: 0, Motion: 0)\n",
      "Trial 1175: Artifacts - 12.5% (Validation: 282, Clipping: 0, Motion: 0)\n",
      "Trial 1176: Artifacts - 8.2% (Validation: 108, Clipping: 0, Motion: 76)\n"
     ]
    },
    {
     "name": "stderr",
     "output_type": "stream",
     "text": [
      "/usr/local/lib/python3.11/dist-packages/sklearn/decomposition/_fastica.py:542: FutureWarning: Starting in v1.3, whiten='unit-variance' will be used by default.\n",
      "  warnings.warn(\n"
     ]
    },
    {
     "name": "stdout",
     "output_type": "stream",
     "text": [
      "Trial 1177: Artifacts - 8.2% (Validation: 103, Clipping: 0, Motion: 82)\n"
     ]
    },
    {
     "name": "stderr",
     "output_type": "stream",
     "text": [
      "/usr/local/lib/python3.11/dist-packages/sklearn/decomposition/_fastica.py:542: FutureWarning: Starting in v1.3, whiten='unit-variance' will be used by default.\n",
      "  warnings.warn(\n"
     ]
    },
    {
     "name": "stdout",
     "output_type": "stream",
     "text": [
      "Trial 1178: Artifacts - 3.1% (Validation: 69, Clipping: 13, Motion: 0)\n",
      "Trial 1179: Artifacts - 5.2% (Validation: 101, Clipping: 4, Motion: 15)\n",
      "Trial 1180: Artifacts - 11.7% (Validation: 263, Clipping: 45, Motion: 0)\n",
      "Trial 1181: Artifacts - 18.4% (Validation: 387, Clipping: 0, Motion: 28)\n",
      "Trial 1182: Artifacts - 1.4% (Validation: 25, Clipping: 6, Motion: 7)\n",
      "Trial 1183: Artifacts - 0.0% (Validation: 0, Clipping: 0, Motion: 0)\n",
      "Trial 1184: Artifacts - 7.8% (Validation: 176, Clipping: 0, Motion: 0)\n",
      "Trial 1185: Artifacts - 8.5% (Validation: 141, Clipping: 0, Motion: 76)\n"
     ]
    },
    {
     "name": "stderr",
     "output_type": "stream",
     "text": [
      "/usr/local/lib/python3.11/dist-packages/sklearn/decomposition/_fastica.py:542: FutureWarning: Starting in v1.3, whiten='unit-variance' will be used by default.\n",
      "  warnings.warn(\n"
     ]
    },
    {
     "name": "stdout",
     "output_type": "stream",
     "text": [
      "Trial 1186: Artifacts - 2.7% (Validation: 0, Clipping: 1, Motion: 60)\n"
     ]
    },
    {
     "name": "stderr",
     "output_type": "stream",
     "text": [
      "/usr/local/lib/python3.11/dist-packages/sklearn/decomposition/_fastica.py:542: FutureWarning: Starting in v1.3, whiten='unit-variance' will be used by default.\n",
      "  warnings.warn(\n"
     ]
    },
    {
     "name": "stdout",
     "output_type": "stream",
     "text": [
      "Trial 1187: Artifacts - 6.4% (Validation: 142, Clipping: 15, Motion: 0)\n",
      "Trial 1188: Artifacts - 7.6% (Validation: 15, Clipping: 15, Motion: 157)\n"
     ]
    },
    {
     "name": "stderr",
     "output_type": "stream",
     "text": [
      "/usr/local/lib/python3.11/dist-packages/sklearn/decomposition/_fastica.py:542: FutureWarning: Starting in v1.3, whiten='unit-variance' will be used by default.\n",
      "  warnings.warn(\n"
     ]
    },
    {
     "name": "stdout",
     "output_type": "stream",
     "text": [
      "Trial 1189: Artifacts - 8.4% (Validation: 187, Clipping: 1, Motion: 0)\n",
      "Trial 1190: Artifacts - 6.9% (Validation: 133, Clipping: 23, Motion: 21)\n",
      "Trial 1191: Artifacts - 13.8% (Validation: 310, Clipping: 0, Motion: 0)\n",
      "Trial 1192: Artifacts - 4.0% (Validation: 78, Clipping: 0, Motion: 12)\n",
      "Trial 1193: Artifacts - 15.5% (Validation: 348, Clipping: 51, Motion: 0)\n",
      "Trial 1194: Artifacts - 7.9% (Validation: 177, Clipping: 0, Motion: 0)\n",
      "Trial 1195: Artifacts - 11.8% (Validation: 265, Clipping: 0, Motion: 0)\n",
      "Trial 1196: Artifacts - 4.9% (Validation: 98, Clipping: 0, Motion: 12)\n",
      "Trial 1197: Artifacts - 21.2% (Validation: 345, Clipping: 0, Motion: 132)\n"
     ]
    },
    {
     "name": "stderr",
     "output_type": "stream",
     "text": [
      "/usr/local/lib/python3.11/dist-packages/sklearn/decomposition/_fastica.py:542: FutureWarning: Starting in v1.3, whiten='unit-variance' will be used by default.\n",
      "  warnings.warn(\n"
     ]
    },
    {
     "name": "stdout",
     "output_type": "stream",
     "text": [
      "Trial 1198: Artifacts - 13.2% (Validation: 297, Clipping: 8, Motion: 0)\n",
      "Trial 1199: Artifacts - 22.1% (Validation: 298, Clipping: 0, Motion: 313)\n"
     ]
    },
    {
     "name": "stderr",
     "output_type": "stream",
     "text": [
      "/usr/local/lib/python3.11/dist-packages/sklearn/decomposition/_fastica.py:542: FutureWarning: Starting in v1.3, whiten='unit-variance' will be used by default.\n",
      "  warnings.warn(\n"
     ]
    },
    {
     "name": "stdout",
     "output_type": "stream",
     "text": [
      "Trial 1200: Artifacts - 12.9% (Validation: 289, Clipping: 5, Motion: 0)\n",
      "Processed 1200/4800 trials\n",
      "Trial 1201: Artifacts - 5.7% (Validation: 0, Clipping: 1, Motion: 128)\n"
     ]
    },
    {
     "name": "stderr",
     "output_type": "stream",
     "text": [
      "/usr/local/lib/python3.11/dist-packages/sklearn/decomposition/_fastica.py:542: FutureWarning: Starting in v1.3, whiten='unit-variance' will be used by default.\n",
      "  warnings.warn(\n"
     ]
    },
    {
     "name": "stdout",
     "output_type": "stream",
     "text": [
      "Trial 1202: Artifacts - 4.6% (Validation: 0, Clipping: 0, Motion: 103)\n"
     ]
    },
    {
     "name": "stderr",
     "output_type": "stream",
     "text": [
      "/usr/local/lib/python3.11/dist-packages/sklearn/decomposition/_fastica.py:542: FutureWarning: Starting in v1.3, whiten='unit-variance' will be used by default.\n",
      "  warnings.warn(\n"
     ]
    },
    {
     "name": "stdout",
     "output_type": "stream",
     "text": [
      "Trial 1203: Artifacts - 0.0% (Validation: 0, Clipping: 0, Motion: 0)\n",
      "Trial 1204: Artifacts - 0.0% (Validation: 0, Clipping: 1, Motion: 0)\n",
      "Trial 1205: Artifacts - 0.7% (Validation: 0, Clipping: 0, Motion: 16)\n",
      "Trial 1206: Artifacts - 1.9% (Validation: 0, Clipping: 0, Motion: 43)\n",
      "Trial 1207: Artifacts - 0.0% (Validation: 0, Clipping: 1, Motion: 0)\n",
      "Trial 1208: Artifacts - 2.5% (Validation: 0, Clipping: 0, Motion: 57)\n"
     ]
    },
    {
     "name": "stderr",
     "output_type": "stream",
     "text": [
      "/usr/local/lib/python3.11/dist-packages/sklearn/decomposition/_fastica.py:542: FutureWarning: Starting in v1.3, whiten='unit-variance' will be used by default.\n",
      "  warnings.warn(\n"
     ]
    },
    {
     "name": "stdout",
     "output_type": "stream",
     "text": [
      "Trial 1209: Artifacts - 0.2% (Validation: 0, Clipping: 0, Motion: 4)\n",
      "Trial 1210: Artifacts - 0.0% (Validation: 0, Clipping: 0, Motion: 0)\n",
      "Trial 1211: Artifacts - 10.4% (Validation: 0, Clipping: 0, Motion: 234)\n"
     ]
    },
    {
     "name": "stderr",
     "output_type": "stream",
     "text": [
      "/usr/local/lib/python3.11/dist-packages/sklearn/decomposition/_fastica.py:542: FutureWarning: Starting in v1.3, whiten='unit-variance' will be used by default.\n",
      "  warnings.warn(\n"
     ]
    },
    {
     "name": "stdout",
     "output_type": "stream",
     "text": [
      "Trial 1212: Artifacts - 1.4% (Validation: 0, Clipping: 0, Motion: 32)\n",
      "Trial 1213: Artifacts - 1.0% (Validation: 0, Clipping: 0, Motion: 22)\n",
      "Trial 1214: Artifacts - 0.4% (Validation: 0, Clipping: 0, Motion: 9)\n",
      "Trial 1215: Artifacts - 3.0% (Validation: 0, Clipping: 0, Motion: 67)\n"
     ]
    },
    {
     "name": "stderr",
     "output_type": "stream",
     "text": [
      "/usr/local/lib/python3.11/dist-packages/sklearn/decomposition/_fastica.py:542: FutureWarning: Starting in v1.3, whiten='unit-variance' will be used by default.\n",
      "  warnings.warn(\n"
     ]
    },
    {
     "name": "stdout",
     "output_type": "stream",
     "text": [
      "Trial 1216: Artifacts - 0.9% (Validation: 0, Clipping: 0, Motion: 20)\n",
      "Trial 1217: Artifacts - 1.9% (Validation: 0, Clipping: 0, Motion: 43)\n",
      "Trial 1218: Artifacts - 10.2% (Validation: 0, Clipping: 0, Motion: 229)\n"
     ]
    },
    {
     "name": "stderr",
     "output_type": "stream",
     "text": [
      "/usr/local/lib/python3.11/dist-packages/sklearn/decomposition/_fastica.py:542: FutureWarning: Starting in v1.3, whiten='unit-variance' will be used by default.\n",
      "  warnings.warn(\n"
     ]
    },
    {
     "name": "stdout",
     "output_type": "stream",
     "text": [
      "Trial 1219: Artifacts - 4.6% (Validation: 0, Clipping: 0, Motion: 104)\n"
     ]
    },
    {
     "name": "stderr",
     "output_type": "stream",
     "text": [
      "/usr/local/lib/python3.11/dist-packages/sklearn/decomposition/_fastica.py:542: FutureWarning: Starting in v1.3, whiten='unit-variance' will be used by default.\n",
      "  warnings.warn(\n"
     ]
    },
    {
     "name": "stdout",
     "output_type": "stream",
     "text": [
      "Trial 1220: Artifacts - 2.0% (Validation: 0, Clipping: 0, Motion: 45)\n",
      "Trial 1221: Artifacts - 2.4% (Validation: 0, Clipping: 0, Motion: 54)\n"
     ]
    },
    {
     "name": "stderr",
     "output_type": "stream",
     "text": [
      "/usr/local/lib/python3.11/dist-packages/sklearn/decomposition/_fastica.py:542: FutureWarning: Starting in v1.3, whiten='unit-variance' will be used by default.\n",
      "  warnings.warn(\n"
     ]
    },
    {
     "name": "stdout",
     "output_type": "stream",
     "text": [
      "Trial 1222: Artifacts - 0.5% (Validation: 0, Clipping: 0, Motion: 12)\n",
      "Trial 1223: Artifacts - 2.6% (Validation: 0, Clipping: 0, Motion: 59)\n"
     ]
    },
    {
     "name": "stderr",
     "output_type": "stream",
     "text": [
      "/usr/local/lib/python3.11/dist-packages/sklearn/decomposition/_fastica.py:542: FutureWarning: Starting in v1.3, whiten='unit-variance' will be used by default.\n",
      "  warnings.warn(\n"
     ]
    },
    {
     "name": "stdout",
     "output_type": "stream",
     "text": [
      "Trial 1224: Artifacts - 2.4% (Validation: 0, Clipping: 0, Motion: 53)\n"
     ]
    },
    {
     "name": "stderr",
     "output_type": "stream",
     "text": [
      "/usr/local/lib/python3.11/dist-packages/sklearn/decomposition/_fastica.py:542: FutureWarning: Starting in v1.3, whiten='unit-variance' will be used by default.\n",
      "  warnings.warn(\n"
     ]
    },
    {
     "name": "stdout",
     "output_type": "stream",
     "text": [
      "Trial 1225: Artifacts - 0.5% (Validation: 0, Clipping: 0, Motion: 11)\n",
      "Trial 1226: Artifacts - 1.5% (Validation: 0, Clipping: 0, Motion: 33)\n",
      "Trial 1227: Artifacts - 1.2% (Validation: 0, Clipping: 0, Motion: 26)\n",
      "Trial 1228: Artifacts - 1.7% (Validation: 0, Clipping: 1, Motion: 38)\n",
      "Trial 1229: Artifacts - 1.7% (Validation: 0, Clipping: 0, Motion: 39)\n",
      "Trial 1230: Artifacts - 1.4% (Validation: 0, Clipping: 0, Motion: 31)\n",
      "Trial 1231: Artifacts - 11.9% (Validation: 0, Clipping: 0, Motion: 268)\n"
     ]
    },
    {
     "name": "stderr",
     "output_type": "stream",
     "text": [
      "/usr/local/lib/python3.11/dist-packages/sklearn/decomposition/_fastica.py:542: FutureWarning: Starting in v1.3, whiten='unit-variance' will be used by default.\n",
      "  warnings.warn(\n"
     ]
    },
    {
     "name": "stdout",
     "output_type": "stream",
     "text": [
      "Trial 1232: Artifacts - 0.0% (Validation: 0, Clipping: 0, Motion: 0)\n",
      "Trial 1233: Artifacts - 2.3% (Validation: 0, Clipping: 1, Motion: 50)\n",
      "Trial 1234: Artifacts - 0.0% (Validation: 0, Clipping: 0, Motion: 0)\n",
      "Trial 1235: Artifacts - 1.6% (Validation: 0, Clipping: 0, Motion: 36)\n",
      "Trial 1236: Artifacts - 0.4% (Validation: 0, Clipping: 0, Motion: 8)\n",
      "Trial 1237: Artifacts - 1.1% (Validation: 0, Clipping: 1, Motion: 24)\n",
      "Trial 1238: Artifacts - 3.3% (Validation: 0, Clipping: 0, Motion: 74)\n"
     ]
    },
    {
     "name": "stderr",
     "output_type": "stream",
     "text": [
      "/usr/local/lib/python3.11/dist-packages/sklearn/decomposition/_fastica.py:542: FutureWarning: Starting in v1.3, whiten='unit-variance' will be used by default.\n",
      "  warnings.warn(\n"
     ]
    },
    {
     "name": "stdout",
     "output_type": "stream",
     "text": [
      "Trial 1239: Artifacts - 1.3% (Validation: 0, Clipping: 0, Motion: 29)\n",
      "Trial 1240: Artifacts - 0.0% (Validation: 0, Clipping: 1, Motion: 0)\n",
      "Trial 1241: Artifacts - 7.8% (Validation: 0, Clipping: 0, Motion: 175)\n"
     ]
    },
    {
     "name": "stderr",
     "output_type": "stream",
     "text": [
      "/usr/local/lib/python3.11/dist-packages/sklearn/decomposition/_fastica.py:542: FutureWarning: Starting in v1.3, whiten='unit-variance' will be used by default.\n",
      "  warnings.warn(\n"
     ]
    },
    {
     "name": "stdout",
     "output_type": "stream",
     "text": [
      "Trial 1242: Artifacts - 0.0% (Validation: 0, Clipping: 1, Motion: 0)\n",
      "Trial 1243: Artifacts - 2.4% (Validation: 0, Clipping: 0, Motion: 55)\n"
     ]
    },
    {
     "name": "stderr",
     "output_type": "stream",
     "text": [
      "/usr/local/lib/python3.11/dist-packages/sklearn/decomposition/_fastica.py:542: FutureWarning: Starting in v1.3, whiten='unit-variance' will be used by default.\n",
      "  warnings.warn(\n"
     ]
    },
    {
     "name": "stdout",
     "output_type": "stream",
     "text": [
      "Trial 1244: Artifacts - 10.2% (Validation: 0, Clipping: 0, Motion: 230)\n"
     ]
    },
    {
     "name": "stderr",
     "output_type": "stream",
     "text": [
      "/usr/local/lib/python3.11/dist-packages/sklearn/decomposition/_fastica.py:542: FutureWarning: Starting in v1.3, whiten='unit-variance' will be used by default.\n",
      "  warnings.warn(\n"
     ]
    },
    {
     "name": "stdout",
     "output_type": "stream",
     "text": [
      "Trial 1245: Artifacts - 5.3% (Validation: 0, Clipping: 0, Motion: 119)\n"
     ]
    },
    {
     "name": "stderr",
     "output_type": "stream",
     "text": [
      "/usr/local/lib/python3.11/dist-packages/sklearn/decomposition/_fastica.py:542: FutureWarning: Starting in v1.3, whiten='unit-variance' will be used by default.\n",
      "  warnings.warn(\n"
     ]
    },
    {
     "name": "stdout",
     "output_type": "stream",
     "text": [
      "Trial 1246: Artifacts - 0.0% (Validation: 0, Clipping: 0, Motion: 1)\n",
      "Trial 1247: Artifacts - 1.9% (Validation: 0, Clipping: 0, Motion: 43)\n",
      "Trial 1248: Artifacts - 6.0% (Validation: 0, Clipping: 0, Motion: 134)\n"
     ]
    },
    {
     "name": "stderr",
     "output_type": "stream",
     "text": [
      "/usr/local/lib/python3.11/dist-packages/sklearn/decomposition/_fastica.py:542: FutureWarning: Starting in v1.3, whiten='unit-variance' will be used by default.\n",
      "  warnings.warn(\n"
     ]
    },
    {
     "name": "stdout",
     "output_type": "stream",
     "text": [
      "Trial 1249: Artifacts - 9.4% (Validation: 0, Clipping: 0, Motion: 211)\n"
     ]
    },
    {
     "name": "stderr",
     "output_type": "stream",
     "text": [
      "/usr/local/lib/python3.11/dist-packages/sklearn/decomposition/_fastica.py:542: FutureWarning: Starting in v1.3, whiten='unit-variance' will be used by default.\n",
      "  warnings.warn(\n"
     ]
    },
    {
     "name": "stdout",
     "output_type": "stream",
     "text": [
      "Trial 1250: Artifacts - 2.2% (Validation: 0, Clipping: 0, Motion: 49)\n",
      "Trial 1251: Artifacts - 4.0% (Validation: 0, Clipping: 0, Motion: 89)\n"
     ]
    },
    {
     "name": "stderr",
     "output_type": "stream",
     "text": [
      "/usr/local/lib/python3.11/dist-packages/sklearn/decomposition/_fastica.py:542: FutureWarning: Starting in v1.3, whiten='unit-variance' will be used by default.\n",
      "  warnings.warn(\n"
     ]
    },
    {
     "name": "stdout",
     "output_type": "stream",
     "text": [
      "Trial 1252: Artifacts - 2.5% (Validation: 0, Clipping: 0, Motion: 57)\n"
     ]
    },
    {
     "name": "stderr",
     "output_type": "stream",
     "text": [
      "/usr/local/lib/python3.11/dist-packages/sklearn/decomposition/_fastica.py:542: FutureWarning: Starting in v1.3, whiten='unit-variance' will be used by default.\n",
      "  warnings.warn(\n"
     ]
    },
    {
     "name": "stdout",
     "output_type": "stream",
     "text": [
      "Trial 1253: Artifacts - 2.8% (Validation: 0, Clipping: 1, Motion: 63)\n"
     ]
    },
    {
     "name": "stderr",
     "output_type": "stream",
     "text": [
      "/usr/local/lib/python3.11/dist-packages/sklearn/decomposition/_fastica.py:542: FutureWarning: Starting in v1.3, whiten='unit-variance' will be used by default.\n",
      "  warnings.warn(\n"
     ]
    },
    {
     "name": "stdout",
     "output_type": "stream",
     "text": [
      "Trial 1254: Artifacts - 2.1% (Validation: 0, Clipping: 0, Motion: 48)\n",
      "Trial 1255: Artifacts - 2.4% (Validation: 0, Clipping: 0, Motion: 55)\n"
     ]
    },
    {
     "name": "stderr",
     "output_type": "stream",
     "text": [
      "/usr/local/lib/python3.11/dist-packages/sklearn/decomposition/_fastica.py:542: FutureWarning: Starting in v1.3, whiten='unit-variance' will be used by default.\n",
      "  warnings.warn(\n"
     ]
    },
    {
     "name": "stdout",
     "output_type": "stream",
     "text": [
      "Trial 1256: Artifacts - 1.6% (Validation: 0, Clipping: 0, Motion: 37)\n",
      "Trial 1257: Artifacts - 2.1% (Validation: 0, Clipping: 0, Motion: 47)\n",
      "Trial 1258: Artifacts - 0.4% (Validation: 0, Clipping: 0, Motion: 10)\n",
      "Trial 1259: Artifacts - 1.1% (Validation: 0, Clipping: 0, Motion: 25)\n",
      "Trial 1260: Artifacts - 1.2% (Validation: 0, Clipping: 0, Motion: 28)\n",
      "Trial 1261: Artifacts - 2.5% (Validation: 0, Clipping: 0, Motion: 57)\n"
     ]
    },
    {
     "name": "stderr",
     "output_type": "stream",
     "text": [
      "/usr/local/lib/python3.11/dist-packages/sklearn/decomposition/_fastica.py:542: FutureWarning: Starting in v1.3, whiten='unit-variance' will be used by default.\n",
      "  warnings.warn(\n"
     ]
    },
    {
     "name": "stdout",
     "output_type": "stream",
     "text": [
      "Trial 1262: Artifacts - 0.4% (Validation: 0, Clipping: 0, Motion: 8)\n",
      "Trial 1263: Artifacts - 0.2% (Validation: 0, Clipping: 0, Motion: 5)\n",
      "Trial 1264: Artifacts - 3.7% (Validation: 0, Clipping: 0, Motion: 83)\n"
     ]
    },
    {
     "name": "stderr",
     "output_type": "stream",
     "text": [
      "/usr/local/lib/python3.11/dist-packages/sklearn/decomposition/_fastica.py:542: FutureWarning: Starting in v1.3, whiten='unit-variance' will be used by default.\n",
      "  warnings.warn(\n"
     ]
    },
    {
     "name": "stdout",
     "output_type": "stream",
     "text": [
      "Trial 1265: Artifacts - 0.4% (Validation: 0, Clipping: 0, Motion: 8)\n",
      "Trial 1266: Artifacts - 0.6% (Validation: 0, Clipping: 0, Motion: 14)\n",
      "Trial 1267: Artifacts - 0.0% (Validation: 0, Clipping: 0, Motion: 0)\n",
      "Trial 1268: Artifacts - 0.0% (Validation: 0, Clipping: 0, Motion: 0)\n",
      "Trial 1269: Artifacts - 1.4% (Validation: 0, Clipping: 0, Motion: 31)\n",
      "Trial 1270: Artifacts - 0.0% (Validation: 0, Clipping: 0, Motion: 1)\n",
      "Trial 1271: Artifacts - 3.8% (Validation: 0, Clipping: 0, Motion: 85)\n"
     ]
    },
    {
     "name": "stderr",
     "output_type": "stream",
     "text": [
      "/usr/local/lib/python3.11/dist-packages/sklearn/decomposition/_fastica.py:542: FutureWarning: Starting in v1.3, whiten='unit-variance' will be used by default.\n",
      "  warnings.warn(\n"
     ]
    },
    {
     "name": "stdout",
     "output_type": "stream",
     "text": [
      "Trial 1272: Artifacts - 0.8% (Validation: 0, Clipping: 0, Motion: 19)\n",
      "Trial 1273: Artifacts - 4.9% (Validation: 0, Clipping: 0, Motion: 110)\n"
     ]
    },
    {
     "name": "stderr",
     "output_type": "stream",
     "text": [
      "/usr/local/lib/python3.11/dist-packages/sklearn/decomposition/_fastica.py:542: FutureWarning: Starting in v1.3, whiten='unit-variance' will be used by default.\n",
      "  warnings.warn(\n"
     ]
    },
    {
     "name": "stdout",
     "output_type": "stream",
     "text": [
      "Trial 1274: Artifacts - 1.7% (Validation: 0, Clipping: 0, Motion: 39)\n",
      "Trial 1275: Artifacts - 4.9% (Validation: 0, Clipping: 0, Motion: 111)\n"
     ]
    },
    {
     "name": "stderr",
     "output_type": "stream",
     "text": [
      "/usr/local/lib/python3.11/dist-packages/sklearn/decomposition/_fastica.py:542: FutureWarning: Starting in v1.3, whiten='unit-variance' will be used by default.\n",
      "  warnings.warn(\n"
     ]
    },
    {
     "name": "stdout",
     "output_type": "stream",
     "text": [
      "Trial 1276: Artifacts - 0.5% (Validation: 0, Clipping: 0, Motion: 12)\n",
      "Trial 1277: Artifacts - 1.7% (Validation: 0, Clipping: 0, Motion: 39)\n",
      "Trial 1278: Artifacts - 0.5% (Validation: 0, Clipping: 0, Motion: 12)\n",
      "Trial 1279: Artifacts - 0.8% (Validation: 0, Clipping: 0, Motion: 18)\n",
      "Trial 1280: Artifacts - 2.5% (Validation: 0, Clipping: 0, Motion: 57)\n"
     ]
    },
    {
     "name": "stderr",
     "output_type": "stream",
     "text": [
      "/usr/local/lib/python3.11/dist-packages/sklearn/decomposition/_fastica.py:542: FutureWarning: Starting in v1.3, whiten='unit-variance' will be used by default.\n",
      "  warnings.warn(\n"
     ]
    },
    {
     "name": "stdout",
     "output_type": "stream",
     "text": [
      "Trial 1281: Artifacts - 6.0% (Validation: 0, Clipping: 0, Motion: 134)\n"
     ]
    },
    {
     "name": "stderr",
     "output_type": "stream",
     "text": [
      "/usr/local/lib/python3.11/dist-packages/sklearn/decomposition/_fastica.py:542: FutureWarning: Starting in v1.3, whiten='unit-variance' will be used by default.\n",
      "  warnings.warn(\n"
     ]
    },
    {
     "name": "stdout",
     "output_type": "stream",
     "text": [
      "Trial 1282: Artifacts - 0.0% (Validation: 0, Clipping: 0, Motion: 0)\n",
      "Trial 1283: Artifacts - 0.0% (Validation: 0, Clipping: 0, Motion: 0)\n",
      "Trial 1284: Artifacts - 0.0% (Validation: 0, Clipping: 0, Motion: 0)\n",
      "Trial 1285: Artifacts - 0.0% (Validation: 0, Clipping: 0, Motion: 0)\n",
      "Trial 1286: Artifacts - 0.0% (Validation: 0, Clipping: 0, Motion: 0)\n",
      "Trial 1287: Artifacts - 0.0% (Validation: 0, Clipping: 0, Motion: 0)\n",
      "Trial 1288: Artifacts - 0.0% (Validation: 0, Clipping: 0, Motion: 0)\n",
      "Trial 1289: Artifacts - 0.0% (Validation: 0, Clipping: 0, Motion: 0)\n",
      "Trial 1290: Artifacts - 0.0% (Validation: 0, Clipping: 0, Motion: 0)\n",
      "Trial 1291: Artifacts - 8.1% (Validation: 0, Clipping: 0, Motion: 182)\n"
     ]
    },
    {
     "name": "stderr",
     "output_type": "stream",
     "text": [
      "/usr/local/lib/python3.11/dist-packages/sklearn/decomposition/_fastica.py:542: FutureWarning: Starting in v1.3, whiten='unit-variance' will be used by default.\n",
      "  warnings.warn(\n"
     ]
    },
    {
     "name": "stdout",
     "output_type": "stream",
     "text": [
      "Trial 1292: Artifacts - 0.0% (Validation: 0, Clipping: 0, Motion: 0)\n",
      "Trial 1293: Artifacts - 1.6% (Validation: 0, Clipping: 1, Motion: 35)\n",
      "Trial 1294: Artifacts - 0.0% (Validation: 0, Clipping: 0, Motion: 0)\n",
      "Trial 1295: Artifacts - 0.0% (Validation: 0, Clipping: 0, Motion: 0)\n",
      "Trial 1296: Artifacts - 0.0% (Validation: 0, Clipping: 0, Motion: 0)\n",
      "Trial 1297: Artifacts - 0.0% (Validation: 0, Clipping: 1, Motion: 0)\n",
      "Trial 1298: Artifacts - 0.0% (Validation: 0, Clipping: 0, Motion: 0)\n",
      "Trial 1299: Artifacts - 0.0% (Validation: 0, Clipping: 0, Motion: 0)\n",
      "Trial 1300: Artifacts - 0.0% (Validation: 0, Clipping: 0, Motion: 0)\n",
      "Processed 1300/4800 trials\n",
      "Trial 1301: Artifacts - 6.8% (Validation: 0, Clipping: 0, Motion: 152)\n"
     ]
    },
    {
     "name": "stderr",
     "output_type": "stream",
     "text": [
      "/usr/local/lib/python3.11/dist-packages/sklearn/decomposition/_fastica.py:542: FutureWarning: Starting in v1.3, whiten='unit-variance' will be used by default.\n",
      "  warnings.warn(\n"
     ]
    },
    {
     "name": "stdout",
     "output_type": "stream",
     "text": [
      "Trial 1302: Artifacts - 0.0% (Validation: 0, Clipping: 1, Motion: 0)\n",
      "Trial 1303: Artifacts - 0.0% (Validation: 0, Clipping: 0, Motion: 0)\n",
      "Trial 1304: Artifacts - 0.0% (Validation: 0, Clipping: 0, Motion: 0)\n",
      "Trial 1305: Artifacts - 0.1% (Validation: 0, Clipping: 0, Motion: 3)\n",
      "Trial 1306: Artifacts - 0.0% (Validation: 0, Clipping: 0, Motion: 0)\n",
      "Trial 1307: Artifacts - 0.0% (Validation: 0, Clipping: 0, Motion: 0)\n",
      "Trial 1308: Artifacts - 0.0% (Validation: 0, Clipping: 0, Motion: 0)\n",
      "Trial 1309: Artifacts - 0.0% (Validation: 0, Clipping: 0, Motion: 0)\n",
      "Trial 1310: Artifacts - 0.0% (Validation: 0, Clipping: 0, Motion: 0)\n",
      "Trial 1311: Artifacts - 12.4% (Validation: 0, Clipping: 0, Motion: 280)\n"
     ]
    },
    {
     "name": "stderr",
     "output_type": "stream",
     "text": [
      "/usr/local/lib/python3.11/dist-packages/sklearn/decomposition/_fastica.py:542: FutureWarning: Starting in v1.3, whiten='unit-variance' will be used by default.\n",
      "  warnings.warn(\n"
     ]
    },
    {
     "name": "stdout",
     "output_type": "stream",
     "text": [
      "Trial 1312: Artifacts - 0.8% (Validation: 0, Clipping: 0, Motion: 19)\n",
      "Trial 1313: Artifacts - 0.0% (Validation: 0, Clipping: 0, Motion: 0)\n",
      "Trial 1314: Artifacts - 0.8% (Validation: 0, Clipping: 0, Motion: 19)\n",
      "Trial 1315: Artifacts - 0.0% (Validation: 0, Clipping: 1, Motion: 0)\n",
      "Trial 1316: Artifacts - 0.3% (Validation: 0, Clipping: 0, Motion: 6)\n",
      "Trial 1317: Artifacts - 0.2% (Validation: 0, Clipping: 0, Motion: 5)\n",
      "Trial 1318: Artifacts - 0.0% (Validation: 0, Clipping: 0, Motion: 0)\n",
      "Trial 1319: Artifacts - 1.2% (Validation: 0, Clipping: 0, Motion: 28)\n",
      "Trial 1320: Artifacts - 0.0% (Validation: 0, Clipping: 0, Motion: 0)\n",
      "Trial 1321: Artifacts - 8.4% (Validation: 0, Clipping: 0, Motion: 189)\n"
     ]
    },
    {
     "name": "stderr",
     "output_type": "stream",
     "text": [
      "/usr/local/lib/python3.11/dist-packages/sklearn/decomposition/_fastica.py:542: FutureWarning: Starting in v1.3, whiten='unit-variance' will be used by default.\n",
      "  warnings.warn(\n"
     ]
    },
    {
     "name": "stdout",
     "output_type": "stream",
     "text": [
      "Trial 1322: Artifacts - 0.0% (Validation: 0, Clipping: 1, Motion: 0)\n",
      "Trial 1323: Artifacts - 0.0% (Validation: 0, Clipping: 0, Motion: 0)\n",
      "Trial 1324: Artifacts - 1.4% (Validation: 0, Clipping: 0, Motion: 31)\n",
      "Trial 1325: Artifacts - 0.0% (Validation: 0, Clipping: 0, Motion: 0)\n",
      "Trial 1326: Artifacts - 0.0% (Validation: 0, Clipping: 0, Motion: 0)\n",
      "Trial 1327: Artifacts - 0.0% (Validation: 0, Clipping: 0, Motion: 0)\n",
      "Trial 1328: Artifacts - 0.0% (Validation: 0, Clipping: 0, Motion: 0)\n",
      "Trial 1329: Artifacts - 0.0% (Validation: 0, Clipping: 0, Motion: 0)\n",
      "Trial 1330: Artifacts - 0.0% (Validation: 0, Clipping: 0, Motion: 0)\n",
      "Trial 1331: Artifacts - 9.2% (Validation: 0, Clipping: 1, Motion: 207)\n"
     ]
    },
    {
     "name": "stderr",
     "output_type": "stream",
     "text": [
      "/usr/local/lib/python3.11/dist-packages/sklearn/decomposition/_fastica.py:542: FutureWarning: Starting in v1.3, whiten='unit-variance' will be used by default.\n",
      "  warnings.warn(\n"
     ]
    },
    {
     "name": "stdout",
     "output_type": "stream",
     "text": [
      "Trial 1332: Artifacts - 0.0% (Validation: 0, Clipping: 1, Motion: 0)\n",
      "Trial 1333: Artifacts - 0.0% (Validation: 0, Clipping: 0, Motion: 0)\n",
      "Trial 1334: Artifacts - 1.8% (Validation: 0, Clipping: 0, Motion: 41)\n",
      "Trial 1335: Artifacts - 0.0% (Validation: 0, Clipping: 1, Motion: 0)\n",
      "Trial 1336: Artifacts - 0.2% (Validation: 0, Clipping: 0, Motion: 4)\n",
      "Trial 1337: Artifacts - 0.0% (Validation: 0, Clipping: 1, Motion: 0)\n",
      "Trial 1338: Artifacts - 0.0% (Validation: 0, Clipping: 1, Motion: 0)\n",
      "Trial 1339: Artifacts - 2.2% (Validation: 0, Clipping: 0, Motion: 50)\n",
      "Trial 1340: Artifacts - 0.0% (Validation: 0, Clipping: 0, Motion: 0)\n",
      "Trial 1341: Artifacts - 11.6% (Validation: 0, Clipping: 0, Motion: 261)\n"
     ]
    },
    {
     "name": "stderr",
     "output_type": "stream",
     "text": [
      "/usr/local/lib/python3.11/dist-packages/sklearn/decomposition/_fastica.py:542: FutureWarning: Starting in v1.3, whiten='unit-variance' will be used by default.\n",
      "  warnings.warn(\n"
     ]
    },
    {
     "name": "stdout",
     "output_type": "stream",
     "text": [
      "Trial 1342: Artifacts - 0.0% (Validation: 0, Clipping: 0, Motion: 0)\n",
      "Trial 1343: Artifacts - 0.0% (Validation: 0, Clipping: 0, Motion: 0)\n",
      "Trial 1344: Artifacts - 0.0% (Validation: 0, Clipping: 0, Motion: 0)\n",
      "Trial 1345: Artifacts - 0.0% (Validation: 0, Clipping: 0, Motion: 0)\n",
      "Trial 1346: Artifacts - 0.0% (Validation: 0, Clipping: 0, Motion: 0)\n",
      "Trial 1347: Artifacts - 0.0% (Validation: 0, Clipping: 1, Motion: 0)\n",
      "Trial 1348: Artifacts - 0.0% (Validation: 0, Clipping: 0, Motion: 0)\n",
      "Trial 1349: Artifacts - 0.2% (Validation: 0, Clipping: 0, Motion: 4)\n",
      "Trial 1350: Artifacts - 0.0% (Validation: 0, Clipping: 0, Motion: 0)\n",
      "Trial 1351: Artifacts - 12.4% (Validation: 0, Clipping: 0, Motion: 278)\n"
     ]
    },
    {
     "name": "stderr",
     "output_type": "stream",
     "text": [
      "/usr/local/lib/python3.11/dist-packages/sklearn/decomposition/_fastica.py:542: FutureWarning: Starting in v1.3, whiten='unit-variance' will be used by default.\n",
      "  warnings.warn(\n"
     ]
    },
    {
     "name": "stdout",
     "output_type": "stream",
     "text": [
      "Trial 1352: Artifacts - 0.0% (Validation: 0, Clipping: 0, Motion: 0)\n",
      "Trial 1353: Artifacts - 1.7% (Validation: 0, Clipping: 1, Motion: 38)\n",
      "Trial 1354: Artifacts - 0.0% (Validation: 0, Clipping: 0, Motion: 0)\n",
      "Trial 1355: Artifacts - 0.0% (Validation: 0, Clipping: 0, Motion: 0)\n",
      "Trial 1356: Artifacts - 0.0% (Validation: 0, Clipping: 1, Motion: 0)\n",
      "Trial 1357: Artifacts - 0.0% (Validation: 0, Clipping: 0, Motion: 0)\n",
      "Trial 1358: Artifacts - 0.4% (Validation: 0, Clipping: 0, Motion: 8)\n",
      "Trial 1359: Artifacts - 0.0% (Validation: 0, Clipping: 0, Motion: 0)\n",
      "Trial 1360: Artifacts - 0.0% (Validation: 0, Clipping: 0, Motion: 0)\n",
      "Trial 1361: Artifacts - 8.0% (Validation: 0, Clipping: 0, Motion: 181)\n"
     ]
    },
    {
     "name": "stderr",
     "output_type": "stream",
     "text": [
      "/usr/local/lib/python3.11/dist-packages/sklearn/decomposition/_fastica.py:542: FutureWarning: Starting in v1.3, whiten='unit-variance' will be used by default.\n",
      "  warnings.warn(\n"
     ]
    },
    {
     "name": "stdout",
     "output_type": "stream",
     "text": [
      "Trial 1362: Artifacts - 2.2% (Validation: 0, Clipping: 0, Motion: 49)\n",
      "Trial 1363: Artifacts - 4.8% (Validation: 0, Clipping: 1, Motion: 107)\n"
     ]
    },
    {
     "name": "stderr",
     "output_type": "stream",
     "text": [
      "/usr/local/lib/python3.11/dist-packages/sklearn/decomposition/_fastica.py:542: FutureWarning: Starting in v1.3, whiten='unit-variance' will be used by default.\n",
      "  warnings.warn(\n"
     ]
    },
    {
     "name": "stdout",
     "output_type": "stream",
     "text": [
      "Trial 1364: Artifacts - 7.8% (Validation: 174, Clipping: 59, Motion: 0)\n",
      "Trial 1365: Artifacts - 0.0% (Validation: 0, Clipping: 0, Motion: 0)\n",
      "Trial 1366: Artifacts - 7.2% (Validation: 0, Clipping: 0, Motion: 161)\n"
     ]
    },
    {
     "name": "stderr",
     "output_type": "stream",
     "text": [
      "/usr/local/lib/python3.11/dist-packages/sklearn/decomposition/_fastica.py:542: FutureWarning: Starting in v1.3, whiten='unit-variance' will be used by default.\n",
      "  warnings.warn(\n"
     ]
    },
    {
     "name": "stdout",
     "output_type": "stream",
     "text": [
      "Trial 1367: Artifacts - 11.6% (Validation: 105, Clipping: 0, Motion: 155)\n"
     ]
    },
    {
     "name": "stderr",
     "output_type": "stream",
     "text": [
      "/usr/local/lib/python3.11/dist-packages/sklearn/decomposition/_fastica.py:542: FutureWarning: Starting in v1.3, whiten='unit-variance' will be used by default.\n",
      "  warnings.warn(\n"
     ]
    },
    {
     "name": "stdout",
     "output_type": "stream",
     "text": [
      "Trial 1368: Artifacts - 0.5% (Validation: 11, Clipping: 0, Motion: 0)\n",
      "Trial 1369: Artifacts - 0.4% (Validation: 8, Clipping: 1, Motion: 0)\n",
      "Trial 1370: Artifacts - 1.8% (Validation: 41, Clipping: 0, Motion: 0)\n",
      "Trial 1371: Artifacts - 14.9% (Validation: 308, Clipping: 0, Motion: 27)\n",
      "Trial 1372: Artifacts - 12.1% (Validation: 0, Clipping: 0, Motion: 272)\n"
     ]
    },
    {
     "name": "stderr",
     "output_type": "stream",
     "text": [
      "/usr/local/lib/python3.11/dist-packages/sklearn/decomposition/_fastica.py:542: FutureWarning: Starting in v1.3, whiten='unit-variance' will be used by default.\n",
      "  warnings.warn(\n"
     ]
    },
    {
     "name": "stdout",
     "output_type": "stream",
     "text": [
      "Trial 1373: Artifacts - 0.0% (Validation: 0, Clipping: 0, Motion: 0)\n",
      "Trial 1374: Artifacts - 10.0% (Validation: 225, Clipping: 29, Motion: 0)\n",
      "Trial 1375: Artifacts - 7.1% (Validation: 160, Clipping: 0, Motion: 0)\n",
      "Trial 1376: Artifacts - 0.0% (Validation: 0, Clipping: 0, Motion: 0)\n",
      "Trial 1377: Artifacts - 0.0% (Validation: 0, Clipping: 0, Motion: 0)\n",
      "Trial 1378: Artifacts - 0.5% (Validation: 0, Clipping: 0, Motion: 12)\n",
      "Trial 1379: Artifacts - 0.0% (Validation: 0, Clipping: 0, Motion: 0)\n",
      "Trial 1380: Artifacts - 3.6% (Validation: 0, Clipping: 0, Motion: 80)\n"
     ]
    },
    {
     "name": "stderr",
     "output_type": "stream",
     "text": [
      "/usr/local/lib/python3.11/dist-packages/sklearn/decomposition/_fastica.py:542: FutureWarning: Starting in v1.3, whiten='unit-variance' will be used by default.\n",
      "  warnings.warn(\n"
     ]
    },
    {
     "name": "stdout",
     "output_type": "stream",
     "text": [
      "Trial 1381: Artifacts - 0.4% (Validation: 0, Clipping: 0, Motion: 9)\n",
      "Trial 1382: Artifacts - 1.1% (Validation: 0, Clipping: 0, Motion: 24)\n",
      "Trial 1383: Artifacts - 3.1% (Validation: 44, Clipping: 0, Motion: 25)\n",
      "Trial 1384: Artifacts - 3.3% (Validation: 75, Clipping: 0, Motion: 0)\n",
      "Trial 1385: Artifacts - 2.1% (Validation: 46, Clipping: 1, Motion: 0)\n",
      "Trial 1386: Artifacts - 0.0% (Validation: 0, Clipping: 0, Motion: 0)\n",
      "Trial 1387: Artifacts - 0.9% (Validation: 19, Clipping: 17, Motion: 0)\n",
      "Trial 1388: Artifacts - 2.5% (Validation: 55, Clipping: 1, Motion: 0)\n",
      "Trial 1389: Artifacts - 0.0% (Validation: 0, Clipping: 1, Motion: 0)\n",
      "Trial 1390: Artifacts - 0.0% (Validation: 0, Clipping: 0, Motion: 0)\n",
      "Trial 1391: Artifacts - 6.2% (Validation: 100, Clipping: 0, Motion: 39)\n",
      "Trial 1392: Artifacts - 4.3% (Validation: 0, Clipping: 0, Motion: 97)\n"
     ]
    },
    {
     "name": "stderr",
     "output_type": "stream",
     "text": [
      "/usr/local/lib/python3.11/dist-packages/sklearn/decomposition/_fastica.py:542: FutureWarning: Starting in v1.3, whiten='unit-variance' will be used by default.\n",
      "  warnings.warn(\n"
     ]
    },
    {
     "name": "stdout",
     "output_type": "stream",
     "text": [
      "Trial 1393: Artifacts - 0.0% (Validation: 0, Clipping: 0, Motion: 0)\n",
      "Trial 1394: Artifacts - 3.8% (Validation: 85, Clipping: 1, Motion: 0)\n",
      "Trial 1395: Artifacts - 0.0% (Validation: 0, Clipping: 0, Motion: 0)\n",
      "Trial 1396: Artifacts - 3.3% (Validation: 74, Clipping: 0, Motion: 0)\n",
      "Trial 1397: Artifacts - 0.0% (Validation: 0, Clipping: 0, Motion: 0)\n",
      "Trial 1398: Artifacts - 0.0% (Validation: 0, Clipping: 0, Motion: 0)\n",
      "Trial 1399: Artifacts - 0.0% (Validation: 0, Clipping: 1, Motion: 0)\n",
      "Trial 1400: Artifacts - 4.4% (Validation: 100, Clipping: 0, Motion: 0)\n",
      "Processed 1400/4800 trials\n",
      "Trial 1401: Artifacts - 1.9% (Validation: 0, Clipping: 0, Motion: 43)\n",
      "Trial 1402: Artifacts - 13.3% (Validation: 0, Clipping: 0, Motion: 299)\n"
     ]
    },
    {
     "name": "stderr",
     "output_type": "stream",
     "text": [
      "/usr/local/lib/python3.11/dist-packages/sklearn/decomposition/_fastica.py:542: FutureWarning: Starting in v1.3, whiten='unit-variance' will be used by default.\n",
      "  warnings.warn(\n"
     ]
    },
    {
     "name": "stdout",
     "output_type": "stream",
     "text": [
      "Trial 1403: Artifacts - 6.1% (Validation: 0, Clipping: 0, Motion: 138)\n"
     ]
    },
    {
     "name": "stderr",
     "output_type": "stream",
     "text": [
      "/usr/local/lib/python3.11/dist-packages/sklearn/decomposition/_fastica.py:542: FutureWarning: Starting in v1.3, whiten='unit-variance' will be used by default.\n",
      "  warnings.warn(\n"
     ]
    },
    {
     "name": "stdout",
     "output_type": "stream",
     "text": [
      "Trial 1404: Artifacts - 0.6% (Validation: 14, Clipping: 0, Motion: 0)\n",
      "Trial 1405: Artifacts - 0.0% (Validation: 0, Clipping: 0, Motion: 0)\n",
      "Trial 1406: Artifacts - 0.0% (Validation: 0, Clipping: 0, Motion: 0)\n",
      "Trial 1407: Artifacts - 5.7% (Validation: 127, Clipping: 11, Motion: 0)\n",
      "Trial 1408: Artifacts - 2.4% (Validation: 54, Clipping: 0, Motion: 0)\n",
      "Trial 1409: Artifacts - 0.0% (Validation: 0, Clipping: 0, Motion: 0)\n",
      "Trial 1410: Artifacts - 0.0% (Validation: 0, Clipping: 0, Motion: 0)\n",
      "REJECTING trial 1411: 27.3% artifacts\n",
      "Trial 1412: Artifacts - 0.5% (Validation: 12, Clipping: 0, Motion: 0)\n",
      "Trial 1413: Artifacts - 0.0% (Validation: 0, Clipping: 0, Motion: 0)\n",
      "Trial 1414: Artifacts - 4.1% (Validation: 92, Clipping: 0, Motion: 0)\n",
      "Trial 1415: Artifacts - 0.5% (Validation: 0, Clipping: 0, Motion: 11)\n",
      "Trial 1416: Artifacts - 0.0% (Validation: 0, Clipping: 0, Motion: 0)\n",
      "Trial 1417: Artifacts - 0.0% (Validation: 0, Clipping: 0, Motion: 0)\n",
      "Trial 1418: Artifacts - 0.0% (Validation: 0, Clipping: 0, Motion: 0)\n",
      "Trial 1419: Artifacts - 8.8% (Validation: 0, Clipping: 0, Motion: 197)\n"
     ]
    },
    {
     "name": "stderr",
     "output_type": "stream",
     "text": [
      "/usr/local/lib/python3.11/dist-packages/sklearn/decomposition/_fastica.py:542: FutureWarning: Starting in v1.3, whiten='unit-variance' will be used by default.\n",
      "  warnings.warn(\n"
     ]
    },
    {
     "name": "stdout",
     "output_type": "stream",
     "text": [
      "Trial 1420: Artifacts - 2.4% (Validation: 0, Clipping: 0, Motion: 54)\n"
     ]
    },
    {
     "name": "stderr",
     "output_type": "stream",
     "text": [
      "/usr/local/lib/python3.11/dist-packages/sklearn/decomposition/_fastica.py:542: FutureWarning: Starting in v1.3, whiten='unit-variance' will be used by default.\n",
      "  warnings.warn(\n"
     ]
    },
    {
     "name": "stdout",
     "output_type": "stream",
     "text": [
      "Trial 1421: Artifacts - 4.5% (Validation: 92, Clipping: 51, Motion: 61)\n"
     ]
    },
    {
     "name": "stderr",
     "output_type": "stream",
     "text": [
      "/usr/local/lib/python3.11/dist-packages/sklearn/decomposition/_fastica.py:542: FutureWarning: Starting in v1.3, whiten='unit-variance' will be used by default.\n",
      "  warnings.warn(\n"
     ]
    },
    {
     "name": "stdout",
     "output_type": "stream",
     "text": [
      "Trial 1422: Artifacts - 1.9% (Validation: 0, Clipping: 0, Motion: 43)\n",
      "Trial 1423: Artifacts - 0.7% (Validation: 0, Clipping: 0, Motion: 15)\n",
      "Trial 1424: Artifacts - 0.3% (Validation: 0, Clipping: 0, Motion: 7)\n",
      "Trial 1425: Artifacts - 1.0% (Validation: 0, Clipping: 0, Motion: 22)\n",
      "Trial 1426: Artifacts - 9.6% (Validation: 85, Clipping: 0, Motion: 131)\n"
     ]
    },
    {
     "name": "stderr",
     "output_type": "stream",
     "text": [
      "/usr/local/lib/python3.11/dist-packages/sklearn/decomposition/_fastica.py:542: FutureWarning: Starting in v1.3, whiten='unit-variance' will be used by default.\n",
      "  warnings.warn(\n"
     ]
    },
    {
     "name": "stdout",
     "output_type": "stream",
     "text": [
      "Trial 1427: Artifacts - 0.0% (Validation: 0, Clipping: 0, Motion: 0)\n",
      "Trial 1428: Artifacts - 0.0% (Validation: 0, Clipping: 0, Motion: 0)\n",
      "Trial 1429: Artifacts - 0.5% (Validation: 0, Clipping: 0, Motion: 11)\n",
      "Trial 1430: Artifacts - 0.0% (Validation: 0, Clipping: 0, Motion: 0)\n",
      "Trial 1431: Artifacts - 4.8% (Validation: 0, Clipping: 0, Motion: 108)\n"
     ]
    },
    {
     "name": "stderr",
     "output_type": "stream",
     "text": [
      "/usr/local/lib/python3.11/dist-packages/sklearn/decomposition/_fastica.py:542: FutureWarning: Starting in v1.3, whiten='unit-variance' will be used by default.\n",
      "  warnings.warn(\n"
     ]
    },
    {
     "name": "stdout",
     "output_type": "stream",
     "text": [
      "Trial 1432: Artifacts - 0.0% (Validation: 0, Clipping: 0, Motion: 0)\n",
      "Trial 1433: Artifacts - 4.4% (Validation: 0, Clipping: 1, Motion: 97)\n"
     ]
    },
    {
     "name": "stderr",
     "output_type": "stream",
     "text": [
      "/usr/local/lib/python3.11/dist-packages/sklearn/decomposition/_fastica.py:542: FutureWarning: Starting in v1.3, whiten='unit-variance' will be used by default.\n",
      "  warnings.warn(\n"
     ]
    },
    {
     "name": "stdout",
     "output_type": "stream",
     "text": [
      "Trial 1434: Artifacts - 0.0% (Validation: 0, Clipping: 0, Motion: 0)\n",
      "Trial 1435: Artifacts - 3.6% (Validation: 81, Clipping: 0, Motion: 0)\n",
      "Trial 1436: Artifacts - 0.0% (Validation: 0, Clipping: 0, Motion: 0)\n",
      "Trial 1437: Artifacts - 0.0% (Validation: 0, Clipping: 0, Motion: 0)\n",
      "Trial 1438: Artifacts - 0.0% (Validation: 0, Clipping: 0, Motion: 0)\n",
      "Trial 1439: Artifacts - 0.0% (Validation: 0, Clipping: 0, Motion: 0)\n",
      "Trial 1440: Artifacts - 0.0% (Validation: 0, Clipping: 0, Motion: 0)\n",
      "Trial 1441: Artifacts - 0.7% (Validation: 0, Clipping: 0, Motion: 15)\n",
      "Trial 1442: Artifacts - 7.8% (Validation: 0, Clipping: 0, Motion: 176)\n"
     ]
    },
    {
     "name": "stderr",
     "output_type": "stream",
     "text": [
      "/usr/local/lib/python3.11/dist-packages/sklearn/decomposition/_fastica.py:542: FutureWarning: Starting in v1.3, whiten='unit-variance' will be used by default.\n",
      "  warnings.warn(\n"
     ]
    },
    {
     "name": "stdout",
     "output_type": "stream",
     "text": [
      "Trial 1443: Artifacts - 7.0% (Validation: 0, Clipping: 0, Motion: 158)\n",
      "Trial 1444: Artifacts - 0.2% (Validation: 0, Clipping: 1, Motion: 4)\n"
     ]
    },
    {
     "name": "stderr",
     "output_type": "stream",
     "text": [
      "/usr/local/lib/python3.11/dist-packages/sklearn/decomposition/_fastica.py:542: FutureWarning: Starting in v1.3, whiten='unit-variance' will be used by default.\n",
      "  warnings.warn(\n"
     ]
    },
    {
     "name": "stdout",
     "output_type": "stream",
     "text": [
      "Trial 1445: Artifacts - 0.0% (Validation: 0, Clipping: 0, Motion: 0)\n",
      "Trial 1446: Artifacts - 13.2% (Validation: 0, Clipping: 0, Motion: 298)\n"
     ]
    },
    {
     "name": "stderr",
     "output_type": "stream",
     "text": [
      "/usr/local/lib/python3.11/dist-packages/sklearn/decomposition/_fastica.py:542: FutureWarning: Starting in v1.3, whiten='unit-variance' will be used by default.\n",
      "  warnings.warn(\n"
     ]
    },
    {
     "name": "stdout",
     "output_type": "stream",
     "text": [
      "Trial 1447: Artifacts - 0.0% (Validation: 0, Clipping: 0, Motion: 0)\n",
      "Trial 1448: Artifacts - 0.0% (Validation: 0, Clipping: 1, Motion: 0)\n",
      "Trial 1449: Artifacts - 7.6% (Validation: 0, Clipping: 0, Motion: 172)\n"
     ]
    },
    {
     "name": "stderr",
     "output_type": "stream",
     "text": [
      "/usr/local/lib/python3.11/dist-packages/sklearn/decomposition/_fastica.py:542: FutureWarning: Starting in v1.3, whiten='unit-variance' will be used by default.\n",
      "  warnings.warn(\n"
     ]
    },
    {
     "name": "stdout",
     "output_type": "stream",
     "text": [
      "Trial 1450: Artifacts - 0.4% (Validation: 0, Clipping: 1, Motion: 8)\n",
      "Trial 1451: Artifacts - 0.0% (Validation: 0, Clipping: 0, Motion: 0)\n",
      "Trial 1452: Artifacts - 5.8% (Validation: 0, Clipping: 1, Motion: 130)\n"
     ]
    },
    {
     "name": "stderr",
     "output_type": "stream",
     "text": [
      "/usr/local/lib/python3.11/dist-packages/sklearn/decomposition/_fastica.py:542: FutureWarning: Starting in v1.3, whiten='unit-variance' will be used by default.\n",
      "  warnings.warn(\n"
     ]
    },
    {
     "name": "stdout",
     "output_type": "stream",
     "text": [
      "Trial 1453: Artifacts - 10.5% (Validation: 0, Clipping: 0, Motion: 237)\n"
     ]
    },
    {
     "name": "stderr",
     "output_type": "stream",
     "text": [
      "/usr/local/lib/python3.11/dist-packages/sklearn/decomposition/_fastica.py:542: FutureWarning: Starting in v1.3, whiten='unit-variance' will be used by default.\n",
      "  warnings.warn(\n"
     ]
    },
    {
     "name": "stdout",
     "output_type": "stream",
     "text": [
      "Trial 1454: Artifacts - 1.6% (Validation: 0, Clipping: 0, Motion: 37)\n",
      "Trial 1455: Artifacts - 0.1% (Validation: 0, Clipping: 0, Motion: 2)\n",
      "Trial 1456: Artifacts - 0.0% (Validation: 0, Clipping: 0, Motion: 0)\n",
      "Trial 1457: Artifacts - 0.3% (Validation: 0, Clipping: 0, Motion: 7)\n",
      "Trial 1458: Artifacts - 9.2% (Validation: 0, Clipping: 1, Motion: 207)\n"
     ]
    },
    {
     "name": "stderr",
     "output_type": "stream",
     "text": [
      "/usr/local/lib/python3.11/dist-packages/sklearn/decomposition/_fastica.py:542: FutureWarning: Starting in v1.3, whiten='unit-variance' will be used by default.\n",
      "  warnings.warn(\n"
     ]
    },
    {
     "name": "stdout",
     "output_type": "stream",
     "text": [
      "Trial 1459: Artifacts - 5.6% (Validation: 0, Clipping: 0, Motion: 126)\n"
     ]
    },
    {
     "name": "stderr",
     "output_type": "stream",
     "text": [
      "/usr/local/lib/python3.11/dist-packages/sklearn/decomposition/_fastica.py:542: FutureWarning: Starting in v1.3, whiten='unit-variance' will be used by default.\n",
      "  warnings.warn(\n"
     ]
    },
    {
     "name": "stdout",
     "output_type": "stream",
     "text": [
      "Trial 1460: Artifacts - 5.5% (Validation: 0, Clipping: 0, Motion: 124)\n"
     ]
    },
    {
     "name": "stderr",
     "output_type": "stream",
     "text": [
      "/usr/local/lib/python3.11/dist-packages/sklearn/decomposition/_fastica.py:542: FutureWarning: Starting in v1.3, whiten='unit-variance' will be used by default.\n",
      "  warnings.warn(\n"
     ]
    },
    {
     "name": "stdout",
     "output_type": "stream",
     "text": [
      "Trial 1461: Artifacts - 0.0% (Validation: 0, Clipping: 1, Motion: 0)\n",
      "Trial 1462: Artifacts - 5.6% (Validation: 0, Clipping: 0, Motion: 127)\n"
     ]
    },
    {
     "name": "stderr",
     "output_type": "stream",
     "text": [
      "/usr/local/lib/python3.11/dist-packages/sklearn/decomposition/_fastica.py:542: FutureWarning: Starting in v1.3, whiten='unit-variance' will be used by default.\n",
      "  warnings.warn(\n"
     ]
    },
    {
     "name": "stdout",
     "output_type": "stream",
     "text": [
      "Trial 1463: Artifacts - 2.0% (Validation: 0, Clipping: 0, Motion: 46)\n",
      "Trial 1464: Artifacts - 0.0% (Validation: 0, Clipping: 0, Motion: 0)\n",
      "Trial 1465: Artifacts - 0.8% (Validation: 0, Clipping: 1, Motion: 16)\n",
      "Trial 1466: Artifacts - 0.8% (Validation: 0, Clipping: 0, Motion: 19)\n",
      "Trial 1467: Artifacts - 9.7% (Validation: 0, Clipping: 0, Motion: 218)\n"
     ]
    },
    {
     "name": "stderr",
     "output_type": "stream",
     "text": [
      "/usr/local/lib/python3.11/dist-packages/sklearn/decomposition/_fastica.py:542: FutureWarning: Starting in v1.3, whiten='unit-variance' will be used by default.\n",
      "  warnings.warn(\n"
     ]
    },
    {
     "name": "stdout",
     "output_type": "stream",
     "text": [
      "Trial 1468: Artifacts - 0.3% (Validation: 0, Clipping: 0, Motion: 6)\n",
      "Trial 1469: Artifacts - 1.0% (Validation: 0, Clipping: 0, Motion: 23)\n",
      "Trial 1470: Artifacts - 2.2% (Validation: 0, Clipping: 0, Motion: 50)\n",
      "Trial 1471: Artifacts - 3.8% (Validation: 0, Clipping: 0, Motion: 85)\n"
     ]
    },
    {
     "name": "stderr",
     "output_type": "stream",
     "text": [
      "/usr/local/lib/python3.11/dist-packages/sklearn/decomposition/_fastica.py:542: FutureWarning: Starting in v1.3, whiten='unit-variance' will be used by default.\n",
      "  warnings.warn(\n"
     ]
    },
    {
     "name": "stdout",
     "output_type": "stream",
     "text": [
      "Trial 1472: Artifacts - 8.0% (Validation: 0, Clipping: 3, Motion: 177)\n"
     ]
    },
    {
     "name": "stderr",
     "output_type": "stream",
     "text": [
      "/usr/local/lib/python3.11/dist-packages/sklearn/decomposition/_fastica.py:542: FutureWarning: Starting in v1.3, whiten='unit-variance' will be used by default.\n",
      "  warnings.warn(\n"
     ]
    },
    {
     "name": "stdout",
     "output_type": "stream",
     "text": [
      "Trial 1473: Artifacts - 8.1% (Validation: 0, Clipping: 1, Motion: 181)\n"
     ]
    },
    {
     "name": "stderr",
     "output_type": "stream",
     "text": [
      "/usr/local/lib/python3.11/dist-packages/sklearn/decomposition/_fastica.py:542: FutureWarning: Starting in v1.3, whiten='unit-variance' will be used by default.\n",
      "  warnings.warn(\n"
     ]
    },
    {
     "name": "stdout",
     "output_type": "stream",
     "text": [
      "Trial 1474: Artifacts - 0.0% (Validation: 0, Clipping: 0, Motion: 0)\n",
      "Trial 1475: Artifacts - 3.0% (Validation: 0, Clipping: 0, Motion: 67)\n"
     ]
    },
    {
     "name": "stderr",
     "output_type": "stream",
     "text": [
      "/usr/local/lib/python3.11/dist-packages/sklearn/decomposition/_fastica.py:542: FutureWarning: Starting in v1.3, whiten='unit-variance' will be used by default.\n",
      "  warnings.warn(\n"
     ]
    },
    {
     "name": "stdout",
     "output_type": "stream",
     "text": [
      "Trial 1476: Artifacts - 4.0% (Validation: 0, Clipping: 0, Motion: 90)\n"
     ]
    },
    {
     "name": "stderr",
     "output_type": "stream",
     "text": [
      "/usr/local/lib/python3.11/dist-packages/sklearn/decomposition/_fastica.py:542: FutureWarning: Starting in v1.3, whiten='unit-variance' will be used by default.\n",
      "  warnings.warn(\n"
     ]
    },
    {
     "name": "stdout",
     "output_type": "stream",
     "text": [
      "Trial 1477: Artifacts - 5.2% (Validation: 0, Clipping: 0, Motion: 118)\n"
     ]
    },
    {
     "name": "stderr",
     "output_type": "stream",
     "text": [
      "/usr/local/lib/python3.11/dist-packages/sklearn/decomposition/_fastica.py:542: FutureWarning: Starting in v1.3, whiten='unit-variance' will be used by default.\n",
      "  warnings.warn(\n"
     ]
    },
    {
     "name": "stdout",
     "output_type": "stream",
     "text": [
      "Trial 1478: Artifacts - 0.8% (Validation: 0, Clipping: 1, Motion: 16)\n",
      "Trial 1479: Artifacts - 3.2% (Validation: 0, Clipping: 0, Motion: 72)\n"
     ]
    },
    {
     "name": "stderr",
     "output_type": "stream",
     "text": [
      "/usr/local/lib/python3.11/dist-packages/sklearn/decomposition/_fastica.py:542: FutureWarning: Starting in v1.3, whiten='unit-variance' will be used by default.\n",
      "  warnings.warn(\n"
     ]
    },
    {
     "name": "stdout",
     "output_type": "stream",
     "text": [
      "Trial 1480: Artifacts - 4.5% (Validation: 0, Clipping: 0, Motion: 102)\n"
     ]
    },
    {
     "name": "stderr",
     "output_type": "stream",
     "text": [
      "/usr/local/lib/python3.11/dist-packages/sklearn/decomposition/_fastica.py:542: FutureWarning: Starting in v1.3, whiten='unit-variance' will be used by default.\n",
      "  warnings.warn(\n"
     ]
    },
    {
     "name": "stdout",
     "output_type": "stream",
     "text": [
      "Trial 1481: Artifacts - 7.9% (Validation: 0, Clipping: 0, Motion: 178)\n"
     ]
    },
    {
     "name": "stderr",
     "output_type": "stream",
     "text": [
      "/usr/local/lib/python3.11/dist-packages/sklearn/decomposition/_fastica.py:542: FutureWarning: Starting in v1.3, whiten='unit-variance' will be used by default.\n",
      "  warnings.warn(\n"
     ]
    },
    {
     "name": "stdout",
     "output_type": "stream",
     "text": [
      "Trial 1482: Artifacts - 1.2% (Validation: 0, Clipping: 0, Motion: 26)\n",
      "Trial 1483: Artifacts - 0.0% (Validation: 0, Clipping: 0, Motion: 1)\n",
      "Trial 1484: Artifacts - 2.6% (Validation: 0, Clipping: 0, Motion: 58)\n"
     ]
    },
    {
     "name": "stderr",
     "output_type": "stream",
     "text": [
      "/usr/local/lib/python3.11/dist-packages/sklearn/decomposition/_fastica.py:542: FutureWarning: Starting in v1.3, whiten='unit-variance' will be used by default.\n",
      "  warnings.warn(\n"
     ]
    },
    {
     "name": "stdout",
     "output_type": "stream",
     "text": [
      "Trial 1485: Artifacts - 1.8% (Validation: 0, Clipping: 0, Motion: 40)\n",
      "Trial 1486: Artifacts - 2.3% (Validation: 0, Clipping: 0, Motion: 52)\n"
     ]
    },
    {
     "name": "stderr",
     "output_type": "stream",
     "text": [
      "/usr/local/lib/python3.11/dist-packages/sklearn/decomposition/_fastica.py:542: FutureWarning: Starting in v1.3, whiten='unit-variance' will be used by default.\n",
      "  warnings.warn(\n"
     ]
    },
    {
     "name": "stdout",
     "output_type": "stream",
     "text": [
      "Trial 1487: Artifacts - 5.4% (Validation: 0, Clipping: 0, Motion: 122)\n"
     ]
    },
    {
     "name": "stderr",
     "output_type": "stream",
     "text": [
      "/usr/local/lib/python3.11/dist-packages/sklearn/decomposition/_fastica.py:542: FutureWarning: Starting in v1.3, whiten='unit-variance' will be used by default.\n",
      "  warnings.warn(\n"
     ]
    },
    {
     "name": "stdout",
     "output_type": "stream",
     "text": [
      "Trial 1488: Artifacts - 0.0% (Validation: 0, Clipping: 1, Motion: 0)\n",
      "Trial 1489: Artifacts - 0.0% (Validation: 0, Clipping: 0, Motion: 0)\n",
      "Trial 1490: Artifacts - 4.1% (Validation: 0, Clipping: 0, Motion: 92)\n"
     ]
    },
    {
     "name": "stderr",
     "output_type": "stream",
     "text": [
      "/usr/local/lib/python3.11/dist-packages/sklearn/decomposition/_fastica.py:542: FutureWarning: Starting in v1.3, whiten='unit-variance' will be used by default.\n",
      "  warnings.warn(\n"
     ]
    },
    {
     "name": "stdout",
     "output_type": "stream",
     "text": [
      "Trial 1491: Artifacts - 1.3% (Validation: 0, Clipping: 0, Motion: 29)\n",
      "Trial 1492: Artifacts - 7.3% (Validation: 0, Clipping: 1, Motion: 164)\n"
     ]
    },
    {
     "name": "stderr",
     "output_type": "stream",
     "text": [
      "/usr/local/lib/python3.11/dist-packages/sklearn/decomposition/_fastica.py:542: FutureWarning: Starting in v1.3, whiten='unit-variance' will be used by default.\n",
      "  warnings.warn(\n"
     ]
    },
    {
     "name": "stdout",
     "output_type": "stream",
     "text": [
      "Trial 1493: Artifacts - 0.0% (Validation: 0, Clipping: 1, Motion: 0)\n",
      "Trial 1494: Artifacts - 1.4% (Validation: 0, Clipping: 0, Motion: 32)\n",
      "Trial 1495: Artifacts - 4.6% (Validation: 0, Clipping: 0, Motion: 104)\n"
     ]
    },
    {
     "name": "stderr",
     "output_type": "stream",
     "text": [
      "/usr/local/lib/python3.11/dist-packages/sklearn/decomposition/_fastica.py:542: FutureWarning: Starting in v1.3, whiten='unit-variance' will be used by default.\n",
      "  warnings.warn(\n"
     ]
    },
    {
     "name": "stdout",
     "output_type": "stream",
     "text": [
      "Trial 1496: Artifacts - 4.4% (Validation: 0, Clipping: 0, Motion: 98)\n"
     ]
    },
    {
     "name": "stderr",
     "output_type": "stream",
     "text": [
      "/usr/local/lib/python3.11/dist-packages/sklearn/decomposition/_fastica.py:542: FutureWarning: Starting in v1.3, whiten='unit-variance' will be used by default.\n",
      "  warnings.warn(\n"
     ]
    },
    {
     "name": "stdout",
     "output_type": "stream",
     "text": [
      "Trial 1497: Artifacts - 0.4% (Validation: 0, Clipping: 0, Motion: 9)\n",
      "Trial 1498: Artifacts - 0.0% (Validation: 0, Clipping: 0, Motion: 0)\n",
      "Trial 1499: Artifacts - 6.9% (Validation: 0, Clipping: 1, Motion: 155)\n"
     ]
    },
    {
     "name": "stderr",
     "output_type": "stream",
     "text": [
      "/usr/local/lib/python3.11/dist-packages/sklearn/decomposition/_fastica.py:542: FutureWarning: Starting in v1.3, whiten='unit-variance' will be used by default.\n",
      "  warnings.warn(\n"
     ]
    },
    {
     "name": "stdout",
     "output_type": "stream",
     "text": [
      "Trial 1500: Artifacts - 10.5% (Validation: 0, Clipping: 0, Motion: 237)\n",
      "Processed 1500/4800 trials\n"
     ]
    },
    {
     "name": "stderr",
     "output_type": "stream",
     "text": [
      "/usr/local/lib/python3.11/dist-packages/sklearn/decomposition/_fastica.py:542: FutureWarning: Starting in v1.3, whiten='unit-variance' will be used by default.\n",
      "  warnings.warn(\n"
     ]
    },
    {
     "name": "stdout",
     "output_type": "stream",
     "text": [
      "Trial 1501: Artifacts - 2.0% (Validation: 0, Clipping: 0, Motion: 46)\n",
      "Trial 1502: Artifacts - 0.0% (Validation: 0, Clipping: 1, Motion: 0)\n",
      "Trial 1503: Artifacts - 1.2% (Validation: 0, Clipping: 1, Motion: 26)\n",
      "Trial 1504: Artifacts - 0.0% (Validation: 0, Clipping: 0, Motion: 0)\n",
      "Trial 1505: Artifacts - 0.8% (Validation: 0, Clipping: 0, Motion: 19)\n",
      "Trial 1506: Artifacts - 8.4% (Validation: 0, Clipping: 0, Motion: 189)\n"
     ]
    },
    {
     "name": "stderr",
     "output_type": "stream",
     "text": [
      "/usr/local/lib/python3.11/dist-packages/sklearn/decomposition/_fastica.py:542: FutureWarning: Starting in v1.3, whiten='unit-variance' will be used by default.\n",
      "  warnings.warn(\n"
     ]
    },
    {
     "name": "stdout",
     "output_type": "stream",
     "text": [
      "Trial 1507: Artifacts - 0.4% (Validation: 0, Clipping: 0, Motion: 8)\n",
      "Trial 1508: Artifacts - 2.5% (Validation: 0, Clipping: 0, Motion: 57)\n"
     ]
    },
    {
     "name": "stderr",
     "output_type": "stream",
     "text": [
      "/usr/local/lib/python3.11/dist-packages/sklearn/decomposition/_fastica.py:542: FutureWarning: Starting in v1.3, whiten='unit-variance' will be used by default.\n",
      "  warnings.warn(\n"
     ]
    },
    {
     "name": "stdout",
     "output_type": "stream",
     "text": [
      "Trial 1509: Artifacts - 10.7% (Validation: 0, Clipping: 0, Motion: 241)\n"
     ]
    },
    {
     "name": "stderr",
     "output_type": "stream",
     "text": [
      "/usr/local/lib/python3.11/dist-packages/sklearn/decomposition/_fastica.py:542: FutureWarning: Starting in v1.3, whiten='unit-variance' will be used by default.\n",
      "  warnings.warn(\n"
     ]
    },
    {
     "name": "stdout",
     "output_type": "stream",
     "text": [
      "Trial 1510: Artifacts - 0.6% (Validation: 0, Clipping: 0, Motion: 14)\n",
      "Trial 1511: Artifacts - 8.8% (Validation: 0, Clipping: 0, Motion: 197)\n"
     ]
    },
    {
     "name": "stderr",
     "output_type": "stream",
     "text": [
      "/usr/local/lib/python3.11/dist-packages/sklearn/decomposition/_fastica.py:542: FutureWarning: Starting in v1.3, whiten='unit-variance' will be used by default.\n",
      "  warnings.warn(\n"
     ]
    },
    {
     "name": "stdout",
     "output_type": "stream",
     "text": [
      "Trial 1512: Artifacts - 2.6% (Validation: 0, Clipping: 0, Motion: 58)\n"
     ]
    },
    {
     "name": "stderr",
     "output_type": "stream",
     "text": [
      "/usr/local/lib/python3.11/dist-packages/sklearn/decomposition/_fastica.py:542: FutureWarning: Starting in v1.3, whiten='unit-variance' will be used by default.\n",
      "  warnings.warn(\n"
     ]
    },
    {
     "name": "stdout",
     "output_type": "stream",
     "text": [
      "Trial 1513: Artifacts - 0.0% (Validation: 0, Clipping: 0, Motion: 0)\n",
      "Trial 1514: Artifacts - 5.2% (Validation: 0, Clipping: 0, Motion: 116)\n"
     ]
    },
    {
     "name": "stderr",
     "output_type": "stream",
     "text": [
      "/usr/local/lib/python3.11/dist-packages/sklearn/decomposition/_fastica.py:542: FutureWarning: Starting in v1.3, whiten='unit-variance' will be used by default.\n",
      "  warnings.warn(\n"
     ]
    },
    {
     "name": "stdout",
     "output_type": "stream",
     "text": [
      "Trial 1515: Artifacts - 0.0% (Validation: 0, Clipping: 0, Motion: 0)\n",
      "Trial 1516: Artifacts - 1.8% (Validation: 0, Clipping: 0, Motion: 40)\n",
      "Trial 1517: Artifacts - 0.3% (Validation: 0, Clipping: 0, Motion: 6)\n",
      "Trial 1518: Artifacts - 0.8% (Validation: 0, Clipping: 0, Motion: 17)\n",
      "Trial 1519: Artifacts - 0.0% (Validation: 0, Clipping: 0, Motion: 0)\n",
      "Trial 1520: Artifacts - 1.7% (Validation: 0, Clipping: 0, Motion: 38)\n",
      "Trial 1521: Artifacts - 0.0% (Validation: 0, Clipping: 1, Motion: 0)\n",
      "Trial 1522: Artifacts - 3.0% (Validation: 0, Clipping: 0, Motion: 67)\n"
     ]
    },
    {
     "name": "stderr",
     "output_type": "stream",
     "text": [
      "/usr/local/lib/python3.11/dist-packages/sklearn/decomposition/_fastica.py:542: FutureWarning: Starting in v1.3, whiten='unit-variance' will be used by default.\n",
      "  warnings.warn(\n"
     ]
    },
    {
     "name": "stdout",
     "output_type": "stream",
     "text": [
      "Trial 1523: Artifacts - 0.2% (Validation: 0, Clipping: 0, Motion: 4)\n",
      "Trial 1524: Artifacts - 0.0% (Validation: 0, Clipping: 1, Motion: 0)\n",
      "Trial 1525: Artifacts - 0.0% (Validation: 0, Clipping: 0, Motion: 0)\n",
      "Trial 1526: Artifacts - 0.0% (Validation: 0, Clipping: 0, Motion: 0)\n",
      "Trial 1527: Artifacts - 0.0% (Validation: 0, Clipping: 0, Motion: 0)\n",
      "Trial 1528: Artifacts - 0.0% (Validation: 0, Clipping: 1, Motion: 0)\n",
      "Trial 1529: Artifacts - 0.0% (Validation: 0, Clipping: 0, Motion: 0)\n",
      "Trial 1530: Artifacts - 0.0% (Validation: 0, Clipping: 0, Motion: 0)\n",
      "Trial 1531: Artifacts - 1.2% (Validation: 0, Clipping: 0, Motion: 28)\n",
      "Trial 1532: Artifacts - 1.0% (Validation: 0, Clipping: 1, Motion: 21)\n",
      "Trial 1533: Artifacts - 0.8% (Validation: 0, Clipping: 0, Motion: 17)\n",
      "Trial 1534: Artifacts - 0.0% (Validation: 0, Clipping: 0, Motion: 0)\n",
      "Trial 1535: Artifacts - 0.0% (Validation: 0, Clipping: 1, Motion: 0)\n",
      "Trial 1536: Artifacts - 5.6% (Validation: 0, Clipping: 1, Motion: 124)\n"
     ]
    },
    {
     "name": "stderr",
     "output_type": "stream",
     "text": [
      "/usr/local/lib/python3.11/dist-packages/sklearn/decomposition/_fastica.py:542: FutureWarning: Starting in v1.3, whiten='unit-variance' will be used by default.\n",
      "  warnings.warn(\n"
     ]
    },
    {
     "name": "stdout",
     "output_type": "stream",
     "text": [
      "Trial 1537: Artifacts - 4.6% (Validation: 0, Clipping: 0, Motion: 104)\n"
     ]
    },
    {
     "name": "stderr",
     "output_type": "stream",
     "text": [
      "/usr/local/lib/python3.11/dist-packages/sklearn/decomposition/_fastica.py:542: FutureWarning: Starting in v1.3, whiten='unit-variance' will be used by default.\n",
      "  warnings.warn(\n"
     ]
    },
    {
     "name": "stdout",
     "output_type": "stream",
     "text": [
      "Trial 1538: Artifacts - 0.7% (Validation: 0, Clipping: 0, Motion: 16)\n",
      "Trial 1539: Artifacts - 0.0% (Validation: 0, Clipping: 0, Motion: 0)\n",
      "Trial 1540: Artifacts - 0.0% (Validation: 0, Clipping: 0, Motion: 0)\n",
      "Trial 1541: Artifacts - 0.0% (Validation: 0, Clipping: 1, Motion: 0)\n",
      "Trial 1542: Artifacts - 0.0% (Validation: 0, Clipping: 0, Motion: 0)\n",
      "Trial 1543: Artifacts - 3.2% (Validation: 73, Clipping: 3, Motion: 0)\n",
      "Trial 1544: Artifacts - 0.0% (Validation: 0, Clipping: 0, Motion: 0)\n",
      "Trial 1545: Artifacts - 5.6% (Validation: 0, Clipping: 0, Motion: 125)\n"
     ]
    },
    {
     "name": "stderr",
     "output_type": "stream",
     "text": [
      "/usr/local/lib/python3.11/dist-packages/sklearn/decomposition/_fastica.py:542: FutureWarning: Starting in v1.3, whiten='unit-variance' will be used by default.\n",
      "  warnings.warn(\n"
     ]
    },
    {
     "name": "stdout",
     "output_type": "stream",
     "text": [
      "Trial 1546: Artifacts - 0.5% (Validation: 0, Clipping: 0, Motion: 12)\n",
      "Trial 1547: Artifacts - 3.3% (Validation: 0, Clipping: 0, Motion: 74)\n"
     ]
    },
    {
     "name": "stderr",
     "output_type": "stream",
     "text": [
      "/usr/local/lib/python3.11/dist-packages/sklearn/decomposition/_fastica.py:542: FutureWarning: Starting in v1.3, whiten='unit-variance' will be used by default.\n",
      "  warnings.warn(\n"
     ]
    },
    {
     "name": "stdout",
     "output_type": "stream",
     "text": [
      "Trial 1548: Artifacts - 0.0% (Validation: 0, Clipping: 1, Motion: 0)\n",
      "Trial 1549: Artifacts - 4.2% (Validation: 0, Clipping: 0, Motion: 95)\n"
     ]
    },
    {
     "name": "stderr",
     "output_type": "stream",
     "text": [
      "/usr/local/lib/python3.11/dist-packages/sklearn/decomposition/_fastica.py:542: FutureWarning: Starting in v1.3, whiten='unit-variance' will be used by default.\n",
      "  warnings.warn(\n"
     ]
    },
    {
     "name": "stdout",
     "output_type": "stream",
     "text": [
      "Trial 1550: Artifacts - 6.3% (Validation: 0, Clipping: 1, Motion: 140)\n"
     ]
    },
    {
     "name": "stderr",
     "output_type": "stream",
     "text": [
      "/usr/local/lib/python3.11/dist-packages/sklearn/decomposition/_fastica.py:542: FutureWarning: Starting in v1.3, whiten='unit-variance' will be used by default.\n",
      "  warnings.warn(\n"
     ]
    },
    {
     "name": "stdout",
     "output_type": "stream",
     "text": [
      "Trial 1551: Artifacts - 0.0% (Validation: 0, Clipping: 0, Motion: 0)\n",
      "Trial 1552: Artifacts - 0.0% (Validation: 0, Clipping: 0, Motion: 0)\n",
      "Trial 1553: Artifacts - 5.2% (Validation: 118, Clipping: 34, Motion: 0)\n",
      "Trial 1554: Artifacts - 0.0% (Validation: 0, Clipping: 1, Motion: 0)\n",
      "Trial 1555: Artifacts - 0.0% (Validation: 0, Clipping: 0, Motion: 0)\n",
      "Trial 1556: Artifacts - 0.0% (Validation: 0, Clipping: 0, Motion: 0)\n",
      "Trial 1557: Artifacts - 0.1% (Validation: 0, Clipping: 0, Motion: 3)\n",
      "Trial 1558: Artifacts - 3.9% (Validation: 0, Clipping: 0, Motion: 87)\n"
     ]
    },
    {
     "name": "stderr",
     "output_type": "stream",
     "text": [
      "/usr/local/lib/python3.11/dist-packages/sklearn/decomposition/_fastica.py:542: FutureWarning: Starting in v1.3, whiten='unit-variance' will be used by default.\n",
      "  warnings.warn(\n"
     ]
    },
    {
     "name": "stdout",
     "output_type": "stream",
     "text": [
      "Trial 1559: Artifacts - 2.0% (Validation: 0, Clipping: 0, Motion: 46)\n",
      "Trial 1560: Artifacts - 1.8% (Validation: 0, Clipping: 0, Motion: 41)\n",
      "Trial 1561: Artifacts - 16.2% (Validation: 71, Clipping: 10, Motion: 294)\n"
     ]
    },
    {
     "name": "stderr",
     "output_type": "stream",
     "text": [
      "/usr/local/lib/python3.11/dist-packages/sklearn/decomposition/_fastica.py:542: FutureWarning: Starting in v1.3, whiten='unit-variance' will be used by default.\n",
      "  warnings.warn(\n"
     ]
    },
    {
     "name": "stdout",
     "output_type": "stream",
     "text": [
      "Trial 1562: Artifacts - 0.0% (Validation: 0, Clipping: 0, Motion: 0)\n",
      "Trial 1563: Artifacts - 0.0% (Validation: 0, Clipping: 0, Motion: 0)\n",
      "Trial 1564: Artifacts - 0.0% (Validation: 0, Clipping: 0, Motion: 0)\n",
      "Trial 1565: Artifacts - 0.6% (Validation: 0, Clipping: 0, Motion: 14)\n",
      "Trial 1566: Artifacts - 3.2% (Validation: 0, Clipping: 0, Motion: 73)\n"
     ]
    },
    {
     "name": "stderr",
     "output_type": "stream",
     "text": [
      "/usr/local/lib/python3.11/dist-packages/sklearn/decomposition/_fastica.py:542: FutureWarning: Starting in v1.3, whiten='unit-variance' will be used by default.\n",
      "  warnings.warn(\n"
     ]
    },
    {
     "name": "stdout",
     "output_type": "stream",
     "text": [
      "Trial 1567: Artifacts - 1.4% (Validation: 0, Clipping: 0, Motion: 32)\n",
      "Trial 1568: Artifacts - 7.6% (Validation: 0, Clipping: 0, Motion: 171)\n"
     ]
    },
    {
     "name": "stderr",
     "output_type": "stream",
     "text": [
      "/usr/local/lib/python3.11/dist-packages/sklearn/decomposition/_fastica.py:542: FutureWarning: Starting in v1.3, whiten='unit-variance' will be used by default.\n",
      "  warnings.warn(\n"
     ]
    },
    {
     "name": "stdout",
     "output_type": "stream",
     "text": [
      "Trial 1569: Artifacts - 0.6% (Validation: 0, Clipping: 0, Motion: 13)\n",
      "Trial 1570: Artifacts - 2.7% (Validation: 0, Clipping: 0, Motion: 60)\n"
     ]
    },
    {
     "name": "stderr",
     "output_type": "stream",
     "text": [
      "/usr/local/lib/python3.11/dist-packages/sklearn/decomposition/_fastica.py:542: FutureWarning: Starting in v1.3, whiten='unit-variance' will be used by default.\n",
      "  warnings.warn(\n"
     ]
    },
    {
     "name": "stdout",
     "output_type": "stream",
     "text": [
      "Trial 1571: Artifacts - 9.5% (Validation: 0, Clipping: 0, Motion: 213)\n"
     ]
    },
    {
     "name": "stderr",
     "output_type": "stream",
     "text": [
      "/usr/local/lib/python3.11/dist-packages/sklearn/decomposition/_fastica.py:542: FutureWarning: Starting in v1.3, whiten='unit-variance' will be used by default.\n",
      "  warnings.warn(\n"
     ]
    },
    {
     "name": "stdout",
     "output_type": "stream",
     "text": [
      "Trial 1572: Artifacts - 5.2% (Validation: 0, Clipping: 0, Motion: 118)\n"
     ]
    },
    {
     "name": "stderr",
     "output_type": "stream",
     "text": [
      "/usr/local/lib/python3.11/dist-packages/sklearn/decomposition/_fastica.py:542: FutureWarning: Starting in v1.3, whiten='unit-variance' will be used by default.\n",
      "  warnings.warn(\n"
     ]
    },
    {
     "name": "stdout",
     "output_type": "stream",
     "text": [
      "Trial 1573: Artifacts - 6.2% (Validation: 85, Clipping: 0, Motion: 54)\n"
     ]
    },
    {
     "name": "stderr",
     "output_type": "stream",
     "text": [
      "/usr/local/lib/python3.11/dist-packages/sklearn/decomposition/_fastica.py:542: FutureWarning: Starting in v1.3, whiten='unit-variance' will be used by default.\n",
      "  warnings.warn(\n"
     ]
    },
    {
     "name": "stdout",
     "output_type": "stream",
     "text": [
      "Trial 1574: Artifacts - 8.4% (Validation: 0, Clipping: 1, Motion: 187)\n"
     ]
    },
    {
     "name": "stderr",
     "output_type": "stream",
     "text": [
      "/usr/local/lib/python3.11/dist-packages/sklearn/decomposition/_fastica.py:542: FutureWarning: Starting in v1.3, whiten='unit-variance' will be used by default.\n",
      "  warnings.warn(\n"
     ]
    },
    {
     "name": "stdout",
     "output_type": "stream",
     "text": [
      "Trial 1575: Artifacts - 0.0% (Validation: 0, Clipping: 0, Motion: 0)\n",
      "Trial 1576: Artifacts - 4.5% (Validation: 0, Clipping: 0, Motion: 101)\n"
     ]
    },
    {
     "name": "stderr",
     "output_type": "stream",
     "text": [
      "/usr/local/lib/python3.11/dist-packages/sklearn/decomposition/_fastica.py:542: FutureWarning: Starting in v1.3, whiten='unit-variance' will be used by default.\n",
      "  warnings.warn(\n"
     ]
    },
    {
     "name": "stdout",
     "output_type": "stream",
     "text": [
      "Trial 1577: Artifacts - 2.2% (Validation: 0, Clipping: 0, Motion: 49)\n",
      "Trial 1578: Artifacts - 6.9% (Validation: 79, Clipping: 0, Motion: 76)\n"
     ]
    },
    {
     "name": "stderr",
     "output_type": "stream",
     "text": [
      "/usr/local/lib/python3.11/dist-packages/sklearn/decomposition/_fastica.py:542: FutureWarning: Starting in v1.3, whiten='unit-variance' will be used by default.\n",
      "  warnings.warn(\n"
     ]
    },
    {
     "name": "stdout",
     "output_type": "stream",
     "text": [
      "Trial 1579: Artifacts - 5.6% (Validation: 0, Clipping: 0, Motion: 126)\n"
     ]
    },
    {
     "name": "stderr",
     "output_type": "stream",
     "text": [
      "/usr/local/lib/python3.11/dist-packages/sklearn/decomposition/_fastica.py:542: FutureWarning: Starting in v1.3, whiten='unit-variance' will be used by default.\n",
      "  warnings.warn(\n"
     ]
    },
    {
     "name": "stdout",
     "output_type": "stream",
     "text": [
      "Trial 1580: Artifacts - 0.0% (Validation: 0, Clipping: 0, Motion: 0)\n",
      "Trial 1581: Artifacts - 12.7% (Validation: 171, Clipping: 0, Motion: 114)\n"
     ]
    },
    {
     "name": "stderr",
     "output_type": "stream",
     "text": [
      "/usr/local/lib/python3.11/dist-packages/sklearn/decomposition/_fastica.py:542: FutureWarning: Starting in v1.3, whiten='unit-variance' will be used by default.\n",
      "  warnings.warn(\n"
     ]
    },
    {
     "name": "stdout",
     "output_type": "stream",
     "text": [
      "Trial 1582: Artifacts - 6.6% (Validation: 0, Clipping: 0, Motion: 148)\n"
     ]
    },
    {
     "name": "stderr",
     "output_type": "stream",
     "text": [
      "/usr/local/lib/python3.11/dist-packages/sklearn/decomposition/_fastica.py:542: FutureWarning: Starting in v1.3, whiten='unit-variance' will be used by default.\n",
      "  warnings.warn(\n"
     ]
    },
    {
     "name": "stdout",
     "output_type": "stream",
     "text": [
      "Trial 1583: Artifacts - 0.2% (Validation: 0, Clipping: 0, Motion: 5)\n",
      "Trial 1584: Artifacts - 13.0% (Validation: 0, Clipping: 0, Motion: 293)\n"
     ]
    },
    {
     "name": "stderr",
     "output_type": "stream",
     "text": [
      "/usr/local/lib/python3.11/dist-packages/sklearn/decomposition/_fastica.py:542: FutureWarning: Starting in v1.3, whiten='unit-variance' will be used by default.\n",
      "  warnings.warn(\n"
     ]
    },
    {
     "name": "stdout",
     "output_type": "stream",
     "text": [
      "Trial 1585: Artifacts - 3.1% (Validation: 0, Clipping: 0, Motion: 69)\n"
     ]
    },
    {
     "name": "stderr",
     "output_type": "stream",
     "text": [
      "/usr/local/lib/python3.11/dist-packages/sklearn/decomposition/_fastica.py:542: FutureWarning: Starting in v1.3, whiten='unit-variance' will be used by default.\n",
      "  warnings.warn(\n"
     ]
    },
    {
     "name": "stdout",
     "output_type": "stream",
     "text": [
      "Trial 1586: Artifacts - 4.7% (Validation: 83, Clipping: 0, Motion: 23)\n",
      "Trial 1587: Artifacts - 1.5% (Validation: 0, Clipping: 0, Motion: 34)\n",
      "Trial 1588: Artifacts - 3.5% (Validation: 0, Clipping: 0, Motion: 79)\n"
     ]
    },
    {
     "name": "stderr",
     "output_type": "stream",
     "text": [
      "/usr/local/lib/python3.11/dist-packages/sklearn/decomposition/_fastica.py:542: FutureWarning: Starting in v1.3, whiten='unit-variance' will be used by default.\n",
      "  warnings.warn(\n"
     ]
    },
    {
     "name": "stdout",
     "output_type": "stream",
     "text": [
      "Trial 1589: Artifacts - 4.4% (Validation: 74, Clipping: 7, Motion: 25)\n",
      "Trial 1590: Artifacts - 2.9% (Validation: 0, Clipping: 0, Motion: 65)\n"
     ]
    },
    {
     "name": "stderr",
     "output_type": "stream",
     "text": [
      "/usr/local/lib/python3.11/dist-packages/sklearn/decomposition/_fastica.py:542: FutureWarning: Starting in v1.3, whiten='unit-variance' will be used by default.\n",
      "  warnings.warn(\n"
     ]
    },
    {
     "name": "stdout",
     "output_type": "stream",
     "text": [
      "Trial 1591: Artifacts - 5.2% (Validation: 0, Clipping: 0, Motion: 117)\n"
     ]
    },
    {
     "name": "stderr",
     "output_type": "stream",
     "text": [
      "/usr/local/lib/python3.11/dist-packages/sklearn/decomposition/_fastica.py:542: FutureWarning: Starting in v1.3, whiten='unit-variance' will be used by default.\n",
      "  warnings.warn(\n"
     ]
    },
    {
     "name": "stdout",
     "output_type": "stream",
     "text": [
      "Trial 1592: Artifacts - 0.1% (Validation: 0, Clipping: 0, Motion: 3)\n",
      "Trial 1593: Artifacts - 0.0% (Validation: 0, Clipping: 0, Motion: 0)\n",
      "Trial 1594: Artifacts - 1.7% (Validation: 0, Clipping: 0, Motion: 38)\n",
      "Trial 1595: Artifacts - 7.7% (Validation: 0, Clipping: 0, Motion: 173)\n"
     ]
    },
    {
     "name": "stderr",
     "output_type": "stream",
     "text": [
      "/usr/local/lib/python3.11/dist-packages/sklearn/decomposition/_fastica.py:542: FutureWarning: Starting in v1.3, whiten='unit-variance' will be used by default.\n",
      "  warnings.warn(\n"
     ]
    },
    {
     "name": "stdout",
     "output_type": "stream",
     "text": [
      "Trial 1596: Artifacts - 2.4% (Validation: 36, Clipping: 1, Motion: 18)\n",
      "Trial 1597: Artifacts - 18.5% (Validation: 365, Clipping: 48, Motion: 52)\n"
     ]
    },
    {
     "name": "stderr",
     "output_type": "stream",
     "text": [
      "/usr/local/lib/python3.11/dist-packages/sklearn/decomposition/_fastica.py:542: FutureWarning: Starting in v1.3, whiten='unit-variance' will be used by default.\n",
      "  warnings.warn(\n"
     ]
    },
    {
     "name": "stdout",
     "output_type": "stream",
     "text": [
      "Trial 1598: Artifacts - 5.3% (Validation: 0, Clipping: 1, Motion: 119)\n"
     ]
    },
    {
     "name": "stderr",
     "output_type": "stream",
     "text": [
      "/usr/local/lib/python3.11/dist-packages/sklearn/decomposition/_fastica.py:542: FutureWarning: Starting in v1.3, whiten='unit-variance' will be used by default.\n",
      "  warnings.warn(\n"
     ]
    },
    {
     "name": "stdout",
     "output_type": "stream",
     "text": [
      "Trial 1599: Artifacts - 2.8% (Validation: 0, Clipping: 0, Motion: 62)\n"
     ]
    },
    {
     "name": "stderr",
     "output_type": "stream",
     "text": [
      "/usr/local/lib/python3.11/dist-packages/sklearn/decomposition/_fastica.py:542: FutureWarning: Starting in v1.3, whiten='unit-variance' will be used by default.\n",
      "  warnings.warn(\n"
     ]
    },
    {
     "name": "stdout",
     "output_type": "stream",
     "text": [
      "Trial 1600: Artifacts - 2.0% (Validation: 0, Clipping: 0, Motion: 44)\n",
      "Processed 1600/4800 trials\n",
      "Trial 1601: Artifacts - 6.0% (Validation: 0, Clipping: 0, Motion: 134)\n"
     ]
    },
    {
     "name": "stderr",
     "output_type": "stream",
     "text": [
      "/usr/local/lib/python3.11/dist-packages/sklearn/decomposition/_fastica.py:542: FutureWarning: Starting in v1.3, whiten='unit-variance' will be used by default.\n",
      "  warnings.warn(\n"
     ]
    },
    {
     "name": "stdout",
     "output_type": "stream",
     "text": [
      "Trial 1602: Artifacts - 0.0% (Validation: 0, Clipping: 0, Motion: 0)\n",
      "Trial 1603: Artifacts - 0.8% (Validation: 0, Clipping: 0, Motion: 19)\n",
      "Trial 1604: Artifacts - 0.0% (Validation: 0, Clipping: 0, Motion: 0)\n",
      "Trial 1605: Artifacts - 0.1% (Validation: 0, Clipping: 0, Motion: 3)\n",
      "Trial 1606: Artifacts - 0.0% (Validation: 0, Clipping: 0, Motion: 0)\n",
      "Trial 1607: Artifacts - 0.0% (Validation: 0, Clipping: 0, Motion: 0)\n",
      "Trial 1608: Artifacts - 0.0% (Validation: 0, Clipping: 0, Motion: 0)\n",
      "Trial 1609: Artifacts - 1.0% (Validation: 0, Clipping: 0, Motion: 22)\n",
      "Trial 1610: Artifacts - 6.5% (Validation: 0, Clipping: 0, Motion: 147)\n"
     ]
    },
    {
     "name": "stderr",
     "output_type": "stream",
     "text": [
      "/usr/local/lib/python3.11/dist-packages/sklearn/decomposition/_fastica.py:542: FutureWarning: Starting in v1.3, whiten='unit-variance' will be used by default.\n",
      "  warnings.warn(\n"
     ]
    },
    {
     "name": "stdout",
     "output_type": "stream",
     "text": [
      "Trial 1611: Artifacts - 15.6% (Validation: 0, Clipping: 0, Motion: 351)\n"
     ]
    },
    {
     "name": "stderr",
     "output_type": "stream",
     "text": [
      "/usr/local/lib/python3.11/dist-packages/sklearn/decomposition/_fastica.py:542: FutureWarning: Starting in v1.3, whiten='unit-variance' will be used by default.\n",
      "  warnings.warn(\n"
     ]
    },
    {
     "name": "stdout",
     "output_type": "stream",
     "text": [
      "Trial 1612: Artifacts - 12.9% (Validation: 0, Clipping: 0, Motion: 290)\n"
     ]
    },
    {
     "name": "stderr",
     "output_type": "stream",
     "text": [
      "/usr/local/lib/python3.11/dist-packages/sklearn/decomposition/_fastica.py:542: FutureWarning: Starting in v1.3, whiten='unit-variance' will be used by default.\n",
      "  warnings.warn(\n"
     ]
    },
    {
     "name": "stdout",
     "output_type": "stream",
     "text": [
      "Trial 1613: Artifacts - 6.3% (Validation: 0, Clipping: 0, Motion: 142)\n"
     ]
    },
    {
     "name": "stderr",
     "output_type": "stream",
     "text": [
      "/usr/local/lib/python3.11/dist-packages/sklearn/decomposition/_fastica.py:542: FutureWarning: Starting in v1.3, whiten='unit-variance' will be used by default.\n",
      "  warnings.warn(\n"
     ]
    },
    {
     "name": "stdout",
     "output_type": "stream",
     "text": [
      "Trial 1614: Artifacts - 1.4% (Validation: 0, Clipping: 1, Motion: 30)\n",
      "Trial 1615: Artifacts - 0.0% (Validation: 0, Clipping: 0, Motion: 0)\n",
      "Trial 1616: Artifacts - 0.0% (Validation: 0, Clipping: 0, Motion: 0)\n",
      "Trial 1617: Artifacts - 0.2% (Validation: 0, Clipping: 0, Motion: 4)\n",
      "Trial 1618: Artifacts - 0.0% (Validation: 0, Clipping: 0, Motion: 0)\n",
      "Trial 1619: Artifacts - 0.0% (Validation: 0, Clipping: 0, Motion: 0)\n",
      "Trial 1620: Artifacts - 0.0% (Validation: 0, Clipping: 0, Motion: 0)\n",
      "Trial 1621: Artifacts - 5.5% (Validation: 0, Clipping: 0, Motion: 123)\n"
     ]
    },
    {
     "name": "stderr",
     "output_type": "stream",
     "text": [
      "/usr/local/lib/python3.11/dist-packages/sklearn/decomposition/_fastica.py:542: FutureWarning: Starting in v1.3, whiten='unit-variance' will be used by default.\n",
      "  warnings.warn(\n"
     ]
    },
    {
     "name": "stdout",
     "output_type": "stream",
     "text": [
      "Trial 1622: Artifacts - 0.0% (Validation: 0, Clipping: 1, Motion: 0)\n",
      "Trial 1623: Artifacts - 10.9% (Validation: 0, Clipping: 0, Motion: 245)\n"
     ]
    },
    {
     "name": "stderr",
     "output_type": "stream",
     "text": [
      "/usr/local/lib/python3.11/dist-packages/sklearn/decomposition/_fastica.py:542: FutureWarning: Starting in v1.3, whiten='unit-variance' will be used by default.\n",
      "  warnings.warn(\n"
     ]
    },
    {
     "name": "stdout",
     "output_type": "stream",
     "text": [
      "Trial 1624: Artifacts - 0.0% (Validation: 0, Clipping: 0, Motion: 0)\n",
      "Trial 1625: Artifacts - 1.0% (Validation: 0, Clipping: 0, Motion: 22)\n",
      "Trial 1626: Artifacts - 0.0% (Validation: 0, Clipping: 0, Motion: 0)\n",
      "Trial 1627: Artifacts - 0.5% (Validation: 0, Clipping: 0, Motion: 12)\n",
      "Trial 1628: Artifacts - 1.2% (Validation: 0, Clipping: 0, Motion: 27)\n",
      "Trial 1629: Artifacts - 0.2% (Validation: 0, Clipping: 0, Motion: 4)\n",
      "Trial 1630: Artifacts - 0.0% (Validation: 0, Clipping: 0, Motion: 0)\n",
      "Trial 1631: Artifacts - 0.4% (Validation: 0, Clipping: 0, Motion: 8)\n",
      "Trial 1632: Artifacts - 6.3% (Validation: 0, Clipping: 0, Motion: 141)\n"
     ]
    },
    {
     "name": "stderr",
     "output_type": "stream",
     "text": [
      "/usr/local/lib/python3.11/dist-packages/sklearn/decomposition/_fastica.py:542: FutureWarning: Starting in v1.3, whiten='unit-variance' will be used by default.\n",
      "  warnings.warn(\n"
     ]
    },
    {
     "name": "stdout",
     "output_type": "stream",
     "text": [
      "Trial 1633: Artifacts - 0.0% (Validation: 0, Clipping: 0, Motion: 0)\n",
      "Trial 1634: Artifacts - 0.0% (Validation: 0, Clipping: 0, Motion: 0)\n",
      "Trial 1635: Artifacts - 1.2% (Validation: 0, Clipping: 0, Motion: 26)\n",
      "Trial 1636: Artifacts - 0.0% (Validation: 0, Clipping: 0, Motion: 0)\n",
      "Trial 1637: Artifacts - 0.0% (Validation: 0, Clipping: 0, Motion: 0)\n",
      "Trial 1638: Artifacts - 0.0% (Validation: 0, Clipping: 0, Motion: 0)\n",
      "Trial 1639: Artifacts - 0.0% (Validation: 0, Clipping: 0, Motion: 0)\n",
      "Trial 1640: Artifacts - 0.0% (Validation: 0, Clipping: 0, Motion: 0)\n",
      "Trial 1641: Artifacts - 7.5% (Validation: 0, Clipping: 0, Motion: 168)\n"
     ]
    },
    {
     "name": "stderr",
     "output_type": "stream",
     "text": [
      "/usr/local/lib/python3.11/dist-packages/sklearn/decomposition/_fastica.py:542: FutureWarning: Starting in v1.3, whiten='unit-variance' will be used by default.\n",
      "  warnings.warn(\n"
     ]
    },
    {
     "name": "stdout",
     "output_type": "stream",
     "text": [
      "Trial 1642: Artifacts - 0.8% (Validation: 0, Clipping: 0, Motion: 18)\n",
      "Trial 1643: Artifacts - 0.0% (Validation: 0, Clipping: 0, Motion: 0)\n",
      "Trial 1644: Artifacts - 0.0% (Validation: 0, Clipping: 0, Motion: 0)\n",
      "Trial 1645: Artifacts - 0.7% (Validation: 0, Clipping: 0, Motion: 16)\n",
      "Trial 1646: Artifacts - 0.0% (Validation: 0, Clipping: 0, Motion: 0)\n",
      "Trial 1647: Artifacts - 0.0% (Validation: 0, Clipping: 0, Motion: 0)\n",
      "Trial 1648: Artifacts - 0.4% (Validation: 0, Clipping: 0, Motion: 8)\n",
      "Trial 1649: Artifacts - 2.2% (Validation: 0, Clipping: 0, Motion: 49)\n",
      "Trial 1650: Artifacts - 0.0% (Validation: 0, Clipping: 0, Motion: 0)\n",
      "Trial 1651: Artifacts - 1.2% (Validation: 0, Clipping: 0, Motion: 26)\n",
      "Trial 1652: Artifacts - 0.0% (Validation: 0, Clipping: 0, Motion: 0)\n",
      "Trial 1653: Artifacts - 0.0% (Validation: 0, Clipping: 1, Motion: 0)\n",
      "Trial 1654: Artifacts - 1.0% (Validation: 0, Clipping: 0, Motion: 23)\n",
      "Trial 1655: Artifacts - 0.3% (Validation: 0, Clipping: 0, Motion: 7)\n",
      "Trial 1656: Artifacts - 0.0% (Validation: 0, Clipping: 0, Motion: 0)\n",
      "Trial 1657: Artifacts - 0.0% (Validation: 0, Clipping: 0, Motion: 0)\n",
      "Trial 1658: Artifacts - 0.0% (Validation: 0, Clipping: 0, Motion: 0)\n",
      "Trial 1659: Artifacts - 0.6% (Validation: 0, Clipping: 0, Motion: 13)\n",
      "Trial 1660: Artifacts - 0.0% (Validation: 0, Clipping: 0, Motion: 0)\n",
      "Trial 1661: Artifacts - 8.3% (Validation: 0, Clipping: 0, Motion: 186)\n"
     ]
    },
    {
     "name": "stderr",
     "output_type": "stream",
     "text": [
      "/usr/local/lib/python3.11/dist-packages/sklearn/decomposition/_fastica.py:542: FutureWarning: Starting in v1.3, whiten='unit-variance' will be used by default.\n",
      "  warnings.warn(\n"
     ]
    },
    {
     "name": "stdout",
     "output_type": "stream",
     "text": [
      "Trial 1662: Artifacts - 0.2% (Validation: 0, Clipping: 0, Motion: 5)\n",
      "Trial 1663: Artifacts - 0.0% (Validation: 0, Clipping: 1, Motion: 0)\n",
      "Trial 1664: Artifacts - 0.6% (Validation: 0, Clipping: 0, Motion: 14)\n",
      "Trial 1665: Artifacts - 2.8% (Validation: 0, Clipping: 0, Motion: 64)\n"
     ]
    },
    {
     "name": "stderr",
     "output_type": "stream",
     "text": [
      "/usr/local/lib/python3.11/dist-packages/sklearn/decomposition/_fastica.py:542: FutureWarning: Starting in v1.3, whiten='unit-variance' will be used by default.\n",
      "  warnings.warn(\n"
     ]
    },
    {
     "name": "stdout",
     "output_type": "stream",
     "text": [
      "Trial 1666: Artifacts - 5.1% (Validation: 0, Clipping: 0, Motion: 114)\n"
     ]
    },
    {
     "name": "stderr",
     "output_type": "stream",
     "text": [
      "/usr/local/lib/python3.11/dist-packages/sklearn/decomposition/_fastica.py:542: FutureWarning: Starting in v1.3, whiten='unit-variance' will be used by default.\n",
      "  warnings.warn(\n"
     ]
    },
    {
     "name": "stdout",
     "output_type": "stream",
     "text": [
      "Trial 1667: Artifacts - 0.2% (Validation: 0, Clipping: 0, Motion: 5)\n",
      "Trial 1668: Artifacts - 0.0% (Validation: 0, Clipping: 0, Motion: 0)\n",
      "Trial 1669: Artifacts - 3.1% (Validation: 0, Clipping: 0, Motion: 70)\n"
     ]
    },
    {
     "name": "stderr",
     "output_type": "stream",
     "text": [
      "/usr/local/lib/python3.11/dist-packages/sklearn/decomposition/_fastica.py:542: FutureWarning: Starting in v1.3, whiten='unit-variance' will be used by default.\n",
      "  warnings.warn(\n"
     ]
    },
    {
     "name": "stdout",
     "output_type": "stream",
     "text": [
      "Trial 1670: Artifacts - 0.0% (Validation: 0, Clipping: 0, Motion: 0)\n",
      "Trial 1671: Artifacts - 1.5% (Validation: 0, Clipping: 0, Motion: 33)\n",
      "Trial 1672: Artifacts - 0.0% (Validation: 0, Clipping: 0, Motion: 0)\n",
      "Trial 1673: Artifacts - 0.0% (Validation: 0, Clipping: 0, Motion: 0)\n",
      "Trial 1674: Artifacts - 0.5% (Validation: 0, Clipping: 0, Motion: 11)\n",
      "Trial 1675: Artifacts - 0.0% (Validation: 0, Clipping: 0, Motion: 0)\n",
      "Trial 1676: Artifacts - 1.3% (Validation: 0, Clipping: 0, Motion: 29)\n",
      "Trial 1677: Artifacts - 0.3% (Validation: 0, Clipping: 0, Motion: 7)\n",
      "Trial 1678: Artifacts - 4.2% (Validation: 0, Clipping: 0, Motion: 94)\n"
     ]
    },
    {
     "name": "stderr",
     "output_type": "stream",
     "text": [
      "/usr/local/lib/python3.11/dist-packages/sklearn/decomposition/_fastica.py:542: FutureWarning: Starting in v1.3, whiten='unit-variance' will be used by default.\n",
      "  warnings.warn(\n"
     ]
    },
    {
     "name": "stdout",
     "output_type": "stream",
     "text": [
      "Trial 1679: Artifacts - 0.0% (Validation: 0, Clipping: 0, Motion: 0)\n",
      "Trial 1680: Artifacts - 0.2% (Validation: 0, Clipping: 0, Motion: 4)\n",
      "Trial 1681: Artifacts - 1.2% (Validation: 0, Clipping: 1, Motion: 27)\n",
      "Trial 1682: Artifacts - 0.0% (Validation: 0, Clipping: 0, Motion: 0)\n",
      "Trial 1683: Artifacts - 0.0% (Validation: 0, Clipping: 1, Motion: 0)\n",
      "Trial 1684: Artifacts - 4.3% (Validation: 97, Clipping: 0, Motion: 0)\n",
      "Trial 1685: Artifacts - 0.0% (Validation: 0, Clipping: 0, Motion: 0)\n",
      "Trial 1686: Artifacts - 0.0% (Validation: 0, Clipping: 0, Motion: 0)\n",
      "Trial 1687: Artifacts - 0.0% (Validation: 0, Clipping: 0, Motion: 0)\n",
      "Trial 1688: Artifacts - 0.0% (Validation: 0, Clipping: 0, Motion: 0)\n",
      "Trial 1689: Artifacts - 0.0% (Validation: 0, Clipping: 0, Motion: 0)\n",
      "Trial 1690: Artifacts - 0.0% (Validation: 0, Clipping: 1, Motion: 0)\n",
      "Trial 1691: Artifacts - 7.1% (Validation: 0, Clipping: 0, Motion: 160)\n"
     ]
    },
    {
     "name": "stderr",
     "output_type": "stream",
     "text": [
      "/usr/local/lib/python3.11/dist-packages/sklearn/decomposition/_fastica.py:542: FutureWarning: Starting in v1.3, whiten='unit-variance' will be used by default.\n",
      "  warnings.warn(\n"
     ]
    },
    {
     "name": "stdout",
     "output_type": "stream",
     "text": [
      "Trial 1692: Artifacts - 0.0% (Validation: 0, Clipping: 1, Motion: 0)\n",
      "Trial 1693: Artifacts - 5.2% (Validation: 97, Clipping: 21, Motion: 19)\n",
      "Trial 1694: Artifacts - 0.0% (Validation: 0, Clipping: 0, Motion: 0)\n",
      "Trial 1695: Artifacts - 0.0% (Validation: 0, Clipping: 0, Motion: 0)\n",
      "Trial 1696: Artifacts - 0.0% (Validation: 0, Clipping: 0, Motion: 0)\n",
      "Trial 1697: Artifacts - 0.0% (Validation: 0, Clipping: 0, Motion: 0)\n",
      "Trial 1698: Artifacts - 0.0% (Validation: 0, Clipping: 0, Motion: 0)\n",
      "Trial 1699: Artifacts - 0.0% (Validation: 0, Clipping: 0, Motion: 0)\n",
      "Trial 1700: Artifacts - 0.0% (Validation: 0, Clipping: 1, Motion: 0)\n",
      "Processed 1700/4800 trials\n",
      "Trial 1701: Artifacts - 17.3% (Validation: 86, Clipping: 1, Motion: 303)\n"
     ]
    },
    {
     "name": "stderr",
     "output_type": "stream",
     "text": [
      "/usr/local/lib/python3.11/dist-packages/sklearn/decomposition/_fastica.py:542: FutureWarning: Starting in v1.3, whiten='unit-variance' will be used by default.\n",
      "  warnings.warn(\n"
     ]
    },
    {
     "name": "stdout",
     "output_type": "stream",
     "text": [
      "Trial 1702: Artifacts - 0.0% (Validation: 0, Clipping: 0, Motion: 0)\n",
      "Trial 1703: Artifacts - 1.7% (Validation: 0, Clipping: 1, Motion: 37)\n",
      "Trial 1704: Artifacts - 0.0% (Validation: 0, Clipping: 1, Motion: 0)\n",
      "Trial 1705: Artifacts - 0.0% (Validation: 0, Clipping: 1, Motion: 0)\n",
      "Trial 1706: Artifacts - 0.2% (Validation: 0, Clipping: 0, Motion: 4)\n",
      "Trial 1707: Artifacts - 0.0% (Validation: 0, Clipping: 1, Motion: 0)\n",
      "Trial 1708: Artifacts - 0.0% (Validation: 0, Clipping: 0, Motion: 0)\n",
      "Trial 1709: Artifacts - 0.0% (Validation: 0, Clipping: 0, Motion: 0)\n",
      "Trial 1710: Artifacts - 0.0% (Validation: 0, Clipping: 0, Motion: 0)\n",
      "Trial 1711: Artifacts - 7.4% (Validation: 0, Clipping: 0, Motion: 167)\n"
     ]
    },
    {
     "name": "stderr",
     "output_type": "stream",
     "text": [
      "/usr/local/lib/python3.11/dist-packages/sklearn/decomposition/_fastica.py:542: FutureWarning: Starting in v1.3, whiten='unit-variance' will be used by default.\n",
      "  warnings.warn(\n"
     ]
    },
    {
     "name": "stdout",
     "output_type": "stream",
     "text": [
      "Trial 1712: Artifacts - 0.0% (Validation: 0, Clipping: 0, Motion: 0)\n",
      "Trial 1713: Artifacts - 16.6% (Validation: 374, Clipping: 89, Motion: 0)\n",
      "Trial 1714: Artifacts - 0.0% (Validation: 0, Clipping: 1, Motion: 0)\n",
      "Trial 1715: Artifacts - 1.0% (Validation: 0, Clipping: 0, Motion: 22)\n",
      "Trial 1716: Artifacts - 0.0% (Validation: 0, Clipping: 1, Motion: 0)\n",
      "Trial 1717: Artifacts - 0.0% (Validation: 0, Clipping: 0, Motion: 0)\n",
      "Trial 1718: Artifacts - 0.0% (Validation: 0, Clipping: 0, Motion: 0)\n",
      "Trial 1719: Artifacts - 0.0% (Validation: 0, Clipping: 1, Motion: 0)\n",
      "Trial 1720: Artifacts - 1.2% (Validation: 0, Clipping: 0, Motion: 26)\n",
      "Trial 1721: Artifacts - 8.4% (Validation: 0, Clipping: 0, Motion: 188)\n"
     ]
    },
    {
     "name": "stderr",
     "output_type": "stream",
     "text": [
      "/usr/local/lib/python3.11/dist-packages/sklearn/decomposition/_fastica.py:542: FutureWarning: Starting in v1.3, whiten='unit-variance' will be used by default.\n",
      "  warnings.warn(\n"
     ]
    },
    {
     "name": "stdout",
     "output_type": "stream",
     "text": [
      "Trial 1722: Artifacts - 0.0% (Validation: 0, Clipping: 0, Motion: 0)\n",
      "Trial 1723: Artifacts - 0.0% (Validation: 0, Clipping: 0, Motion: 0)\n",
      "Trial 1724: Artifacts - 0.0% (Validation: 0, Clipping: 0, Motion: 0)\n",
      "Trial 1725: Artifacts - 0.0% (Validation: 0, Clipping: 0, Motion: 0)\n",
      "Trial 1726: Artifacts - 0.0% (Validation: 0, Clipping: 0, Motion: 0)\n",
      "Trial 1727: Artifacts - 6.9% (Validation: 155, Clipping: 1, Motion: 0)\n",
      "Trial 1728: Artifacts - 0.0% (Validation: 0, Clipping: 0, Motion: 0)\n",
      "Trial 1729: Artifacts - 0.3% (Validation: 0, Clipping: 1, Motion: 5)\n",
      "Trial 1730: Artifacts - 3.6% (Validation: 82, Clipping: 23, Motion: 0)\n",
      "Trial 1731: Artifacts - 11.2% (Validation: 0, Clipping: 0, Motion: 253)\n"
     ]
    },
    {
     "name": "stderr",
     "output_type": "stream",
     "text": [
      "/usr/local/lib/python3.11/dist-packages/sklearn/decomposition/_fastica.py:542: FutureWarning: Starting in v1.3, whiten='unit-variance' will be used by default.\n",
      "  warnings.warn(\n"
     ]
    },
    {
     "name": "stdout",
     "output_type": "stream",
     "text": [
      "Trial 1732: Artifacts - 0.0% (Validation: 0, Clipping: 0, Motion: 0)\n",
      "Trial 1733: Artifacts - 0.0% (Validation: 0, Clipping: 0, Motion: 0)\n",
      "Trial 1734: Artifacts - 0.0% (Validation: 0, Clipping: 0, Motion: 0)\n",
      "Trial 1735: Artifacts - 0.8% (Validation: 0, Clipping: 1, Motion: 16)\n",
      "Trial 1736: Artifacts - 3.1% (Validation: 56, Clipping: 0, Motion: 14)\n",
      "Trial 1737: Artifacts - 0.3% (Validation: 0, Clipping: 0, Motion: 6)\n",
      "Trial 1738: Artifacts - 0.0% (Validation: 0, Clipping: 1, Motion: 0)\n",
      "Trial 1739: Artifacts - 0.0% (Validation: 0, Clipping: 0, Motion: 0)\n",
      "Trial 1740: Artifacts - 0.0% (Validation: 0, Clipping: 0, Motion: 0)\n",
      "Trial 1741: Artifacts - 8.1% (Validation: 0, Clipping: 1, Motion: 183)\n"
     ]
    },
    {
     "name": "stderr",
     "output_type": "stream",
     "text": [
      "/usr/local/lib/python3.11/dist-packages/sklearn/decomposition/_fastica.py:542: FutureWarning: Starting in v1.3, whiten='unit-variance' will be used by default.\n",
      "  warnings.warn(\n"
     ]
    },
    {
     "name": "stdout",
     "output_type": "stream",
     "text": [
      "Trial 1742: Artifacts - 3.3% (Validation: 74, Clipping: 20, Motion: 0)\n",
      "Trial 1743: Artifacts - 0.0% (Validation: 0, Clipping: 0, Motion: 0)\n",
      "Trial 1744: Artifacts - 0.0% (Validation: 0, Clipping: 0, Motion: 0)\n",
      "Trial 1745: Artifacts - 0.0% (Validation: 0, Clipping: 0, Motion: 0)\n",
      "Trial 1746: Artifacts - 0.0% (Validation: 0, Clipping: 0, Motion: 0)\n",
      "Trial 1747: Artifacts - 1.1% (Validation: 0, Clipping: 1, Motion: 24)\n",
      "Trial 1748: Artifacts - 0.0% (Validation: 0, Clipping: 0, Motion: 0)\n",
      "Trial 1749: Artifacts - 0.0% (Validation: 0, Clipping: 0, Motion: 0)\n",
      "Trial 1750: Artifacts - 0.0% (Validation: 0, Clipping: 0, Motion: 0)\n",
      "Trial 1751: Artifacts - 2.9% (Validation: 0, Clipping: 0, Motion: 65)\n"
     ]
    },
    {
     "name": "stderr",
     "output_type": "stream",
     "text": [
      "/usr/local/lib/python3.11/dist-packages/sklearn/decomposition/_fastica.py:542: FutureWarning: Starting in v1.3, whiten='unit-variance' will be used by default.\n",
      "  warnings.warn(\n"
     ]
    },
    {
     "name": "stdout",
     "output_type": "stream",
     "text": [
      "Trial 1752: Artifacts - 0.0% (Validation: 0, Clipping: 0, Motion: 0)\n",
      "Trial 1753: Artifacts - 0.0% (Validation: 0, Clipping: 0, Motion: 0)\n",
      "Trial 1754: Artifacts - 0.0% (Validation: 0, Clipping: 0, Motion: 0)\n",
      "Trial 1755: Artifacts - 0.0% (Validation: 0, Clipping: 0, Motion: 0)\n",
      "Trial 1756: Artifacts - 0.0% (Validation: 0, Clipping: 0, Motion: 0)\n",
      "Trial 1757: Artifacts - 0.0% (Validation: 0, Clipping: 0, Motion: 0)\n",
      "Trial 1758: Artifacts - 7.2% (Validation: 163, Clipping: 51, Motion: 0)\n",
      "Trial 1759: Artifacts - 2.4% (Validation: 55, Clipping: 0, Motion: 0)\n",
      "Trial 1760: Artifacts - 0.9% (Validation: 0, Clipping: 1, Motion: 20)\n",
      "Trial 1761: Artifacts - 0.0% (Validation: 0, Clipping: 0, Motion: 1)\n",
      "Trial 1762: Artifacts - 0.0% (Validation: 0, Clipping: 0, Motion: 0)\n",
      "Trial 1763: Artifacts - 0.3% (Validation: 0, Clipping: 0, Motion: 6)\n",
      "Trial 1764: Artifacts - 0.0% (Validation: 0, Clipping: 1, Motion: 0)\n",
      "Trial 1765: Artifacts - 0.0% (Validation: 0, Clipping: 0, Motion: 1)\n",
      "Trial 1766: Artifacts - 0.0% (Validation: 0, Clipping: 0, Motion: 0)\n",
      "Trial 1767: Artifacts - 0.0% (Validation: 0, Clipping: 0, Motion: 0)\n",
      "Trial 1768: Artifacts - 0.1% (Validation: 0, Clipping: 0, Motion: 2)\n",
      "Trial 1769: Artifacts - 0.0% (Validation: 0, Clipping: 0, Motion: 0)\n",
      "Trial 1770: Artifacts - 0.0% (Validation: 0, Clipping: 0, Motion: 0)\n",
      "Trial 1771: Artifacts - 6.9% (Validation: 0, Clipping: 0, Motion: 155)\n"
     ]
    },
    {
     "name": "stderr",
     "output_type": "stream",
     "text": [
      "/usr/local/lib/python3.11/dist-packages/sklearn/decomposition/_fastica.py:542: FutureWarning: Starting in v1.3, whiten='unit-variance' will be used by default.\n",
      "  warnings.warn(\n"
     ]
    },
    {
     "name": "stdout",
     "output_type": "stream",
     "text": [
      "Trial 1772: Artifacts - 0.0% (Validation: 0, Clipping: 0, Motion: 0)\n",
      "Trial 1773: Artifacts - 0.0% (Validation: 0, Clipping: 0, Motion: 0)\n",
      "Trial 1774: Artifacts - 0.0% (Validation: 0, Clipping: 0, Motion: 0)\n",
      "Trial 1775: Artifacts - 0.0% (Validation: 0, Clipping: 0, Motion: 0)\n",
      "Trial 1776: Artifacts - 0.0% (Validation: 0, Clipping: 0, Motion: 0)\n",
      "Trial 1777: Artifacts - 0.0% (Validation: 0, Clipping: 0, Motion: 0)\n",
      "Trial 1778: Artifacts - 0.0% (Validation: 0, Clipping: 1, Motion: 0)\n",
      "Trial 1779: Artifacts - 0.0% (Validation: 0, Clipping: 0, Motion: 0)\n",
      "Trial 1780: Artifacts - 0.0% (Validation: 0, Clipping: 0, Motion: 0)\n",
      "Trial 1781: Artifacts - 14.2% (Validation: 0, Clipping: 0, Motion: 319)\n"
     ]
    },
    {
     "name": "stderr",
     "output_type": "stream",
     "text": [
      "/usr/local/lib/python3.11/dist-packages/sklearn/decomposition/_fastica.py:542: FutureWarning: Starting in v1.3, whiten='unit-variance' will be used by default.\n",
      "  warnings.warn(\n"
     ]
    },
    {
     "name": "stdout",
     "output_type": "stream",
     "text": [
      "Trial 1782: Artifacts - 1.3% (Validation: 0, Clipping: 0, Motion: 29)\n",
      "Trial 1783: Artifacts - 0.0% (Validation: 0, Clipping: 1, Motion: 0)\n",
      "Trial 1784: Artifacts - 0.0% (Validation: 0, Clipping: 1, Motion: 0)\n",
      "Trial 1785: Artifacts - 0.0% (Validation: 0, Clipping: 0, Motion: 0)\n",
      "Trial 1786: Artifacts - 0.8% (Validation: 0, Clipping: 0, Motion: 17)\n",
      "Trial 1787: Artifacts - 0.0% (Validation: 0, Clipping: 0, Motion: 0)\n",
      "Trial 1788: Artifacts - 0.5% (Validation: 0, Clipping: 0, Motion: 11)\n",
      "Trial 1789: Artifacts - 0.0% (Validation: 0, Clipping: 0, Motion: 0)\n",
      "Trial 1790: Artifacts - 0.0% (Validation: 0, Clipping: 0, Motion: 0)\n",
      "Trial 1791: Artifacts - 6.2% (Validation: 0, Clipping: 0, Motion: 140)\n"
     ]
    },
    {
     "name": "stderr",
     "output_type": "stream",
     "text": [
      "/usr/local/lib/python3.11/dist-packages/sklearn/decomposition/_fastica.py:542: FutureWarning: Starting in v1.3, whiten='unit-variance' will be used by default.\n",
      "  warnings.warn(\n"
     ]
    },
    {
     "name": "stdout",
     "output_type": "stream",
     "text": [
      "Trial 1792: Artifacts - 0.5% (Validation: 0, Clipping: 0, Motion: 11)\n",
      "Trial 1793: Artifacts - 9.0% (Validation: 0, Clipping: 0, Motion: 203)\n"
     ]
    },
    {
     "name": "stderr",
     "output_type": "stream",
     "text": [
      "/usr/local/lib/python3.11/dist-packages/sklearn/decomposition/_fastica.py:542: FutureWarning: Starting in v1.3, whiten='unit-variance' will be used by default.\n",
      "  warnings.warn(\n"
     ]
    },
    {
     "name": "stdout",
     "output_type": "stream",
     "text": [
      "Trial 1794: Artifacts - 0.0% (Validation: 0, Clipping: 1, Motion: 0)\n",
      "Trial 1795: Artifacts - 0.0% (Validation: 0, Clipping: 0, Motion: 0)\n",
      "Trial 1796: Artifacts - 3.9% (Validation: 0, Clipping: 0, Motion: 87)\n"
     ]
    },
    {
     "name": "stderr",
     "output_type": "stream",
     "text": [
      "/usr/local/lib/python3.11/dist-packages/sklearn/decomposition/_fastica.py:542: FutureWarning: Starting in v1.3, whiten='unit-variance' will be used by default.\n",
      "  warnings.warn(\n"
     ]
    },
    {
     "name": "stdout",
     "output_type": "stream",
     "text": [
      "Trial 1797: Artifacts - 0.0% (Validation: 0, Clipping: 0, Motion: 0)\n",
      "Trial 1798: Artifacts - 0.0% (Validation: 0, Clipping: 0, Motion: 0)\n",
      "Trial 1799: Artifacts - 0.0% (Validation: 0, Clipping: 0, Motion: 0)\n",
      "Trial 1800: Artifacts - 0.3% (Validation: 0, Clipping: 0, Motion: 7)\n",
      "Processed 1800/4800 trials\n",
      "Trial 1801: Artifacts - 10.7% (Validation: 0, Clipping: 0, Motion: 240)\n"
     ]
    },
    {
     "name": "stderr",
     "output_type": "stream",
     "text": [
      "/usr/local/lib/python3.11/dist-packages/sklearn/decomposition/_fastica.py:542: FutureWarning: Starting in v1.3, whiten='unit-variance' will be used by default.\n",
      "  warnings.warn(\n"
     ]
    },
    {
     "name": "stdout",
     "output_type": "stream",
     "text": [
      "Trial 1802: Artifacts - 0.3% (Validation: 0, Clipping: 0, Motion: 7)\n",
      "Trial 1803: Artifacts - 0.0% (Validation: 0, Clipping: 0, Motion: 0)\n",
      "Trial 1804: Artifacts - 0.0% (Validation: 0, Clipping: 0, Motion: 0)\n",
      "Trial 1805: Artifacts - 0.0% (Validation: 0, Clipping: 0, Motion: 0)\n",
      "Trial 1806: Artifacts - 0.0% (Validation: 0, Clipping: 0, Motion: 0)\n",
      "Trial 1807: Artifacts - 0.2% (Validation: 0, Clipping: 0, Motion: 5)\n",
      "Trial 1808: Artifacts - 0.4% (Validation: 0, Clipping: 0, Motion: 10)\n",
      "Trial 1809: Artifacts - 0.0% (Validation: 0, Clipping: 0, Motion: 0)\n",
      "Trial 1810: Artifacts - 0.0% (Validation: 0, Clipping: 0, Motion: 0)\n",
      "Trial 1811: Artifacts - 6.8% (Validation: 0, Clipping: 0, Motion: 153)\n"
     ]
    },
    {
     "name": "stderr",
     "output_type": "stream",
     "text": [
      "/usr/local/lib/python3.11/dist-packages/sklearn/decomposition/_fastica.py:542: FutureWarning: Starting in v1.3, whiten='unit-variance' will be used by default.\n",
      "  warnings.warn(\n"
     ]
    },
    {
     "name": "stdout",
     "output_type": "stream",
     "text": [
      "Trial 1812: Artifacts - 0.0% (Validation: 0, Clipping: 0, Motion: 0)\n",
      "Trial 1813: Artifacts - 0.0% (Validation: 0, Clipping: 0, Motion: 0)\n",
      "Trial 1814: Artifacts - 0.0% (Validation: 0, Clipping: 0, Motion: 0)\n",
      "Trial 1815: Artifacts - 0.0% (Validation: 0, Clipping: 0, Motion: 0)\n",
      "Trial 1816: Artifacts - 0.0% (Validation: 0, Clipping: 0, Motion: 0)\n",
      "Trial 1817: Artifacts - 0.3% (Validation: 0, Clipping: 0, Motion: 7)\n",
      "Trial 1818: Artifacts - 0.9% (Validation: 0, Clipping: 0, Motion: 21)\n",
      "Trial 1819: Artifacts - 0.0% (Validation: 0, Clipping: 0, Motion: 0)\n",
      "Trial 1820: Artifacts - 0.0% (Validation: 0, Clipping: 0, Motion: 0)\n",
      "Trial 1821: Artifacts - 10.0% (Validation: 0, Clipping: 0, Motion: 226)\n"
     ]
    },
    {
     "name": "stderr",
     "output_type": "stream",
     "text": [
      "/usr/local/lib/python3.11/dist-packages/sklearn/decomposition/_fastica.py:542: FutureWarning: Starting in v1.3, whiten='unit-variance' will be used by default.\n",
      "  warnings.warn(\n"
     ]
    },
    {
     "name": "stdout",
     "output_type": "stream",
     "text": [
      "Trial 1822: Artifacts - 0.0% (Validation: 0, Clipping: 0, Motion: 0)\n",
      "Trial 1823: Artifacts - 0.0% (Validation: 0, Clipping: 1, Motion: 0)\n",
      "Trial 1824: Artifacts - 0.0% (Validation: 0, Clipping: 1, Motion: 0)\n",
      "Trial 1825: Artifacts - 0.5% (Validation: 0, Clipping: 0, Motion: 11)\n",
      "Trial 1826: Artifacts - 0.4% (Validation: 0, Clipping: 0, Motion: 9)\n",
      "Trial 1827: Artifacts - 0.0% (Validation: 0, Clipping: 0, Motion: 0)\n",
      "Trial 1828: Artifacts - 0.2% (Validation: 0, Clipping: 0, Motion: 4)\n",
      "Trial 1829: Artifacts - 1.6% (Validation: 0, Clipping: 0, Motion: 37)\n",
      "Trial 1830: Artifacts - 1.9% (Validation: 0, Clipping: 0, Motion: 42)\n",
      "Trial 1831: Artifacts - 10.1% (Validation: 0, Clipping: 0, Motion: 228)\n"
     ]
    },
    {
     "name": "stderr",
     "output_type": "stream",
     "text": [
      "/usr/local/lib/python3.11/dist-packages/sklearn/decomposition/_fastica.py:542: FutureWarning: Starting in v1.3, whiten='unit-variance' will be used by default.\n",
      "  warnings.warn(\n"
     ]
    },
    {
     "name": "stdout",
     "output_type": "stream",
     "text": [
      "Trial 1832: Artifacts - 0.0% (Validation: 0, Clipping: 0, Motion: 1)\n",
      "Trial 1833: Artifacts - 1.1% (Validation: 0, Clipping: 0, Motion: 25)\n",
      "Trial 1834: Artifacts - 1.8% (Validation: 0, Clipping: 0, Motion: 41)\n",
      "Trial 1835: Artifacts - 0.7% (Validation: 0, Clipping: 0, Motion: 15)\n",
      "Trial 1836: Artifacts - 0.0% (Validation: 0, Clipping: 0, Motion: 0)\n",
      "Trial 1837: Artifacts - 0.0% (Validation: 0, Clipping: 0, Motion: 0)\n",
      "Trial 1838: Artifacts - 1.4% (Validation: 0, Clipping: 0, Motion: 32)\n",
      "Trial 1839: Artifacts - 0.0% (Validation: 0, Clipping: 1, Motion: 0)\n",
      "Trial 1840: Artifacts - 0.8% (Validation: 0, Clipping: 0, Motion: 17)\n",
      "Trial 1841: Artifacts - 6.4% (Validation: 0, Clipping: 0, Motion: 143)\n"
     ]
    },
    {
     "name": "stderr",
     "output_type": "stream",
     "text": [
      "/usr/local/lib/python3.11/dist-packages/sklearn/decomposition/_fastica.py:542: FutureWarning: Starting in v1.3, whiten='unit-variance' will be used by default.\n",
      "  warnings.warn(\n"
     ]
    },
    {
     "name": "stdout",
     "output_type": "stream",
     "text": [
      "Trial 1842: Artifacts - 0.0% (Validation: 0, Clipping: 0, Motion: 0)\n",
      "Trial 1843: Artifacts - 0.0% (Validation: 0, Clipping: 0, Motion: 0)\n",
      "Trial 1844: Artifacts - 3.6% (Validation: 80, Clipping: 1, Motion: 0)\n",
      "Trial 1845: Artifacts - 1.4% (Validation: 0, Clipping: 0, Motion: 32)\n",
      "Trial 1846: Artifacts - 0.0% (Validation: 0, Clipping: 0, Motion: 0)\n",
      "Trial 1847: Artifacts - 0.0% (Validation: 0, Clipping: 0, Motion: 0)\n",
      "Trial 1848: Artifacts - 0.0% (Validation: 0, Clipping: 0, Motion: 0)\n",
      "Trial 1849: Artifacts - 0.0% (Validation: 0, Clipping: 1, Motion: 0)\n",
      "Trial 1850: Artifacts - 3.6% (Validation: 80, Clipping: 22, Motion: 0)\n",
      "Trial 1851: Artifacts - 0.0% (Validation: 0, Clipping: 0, Motion: 0)\n",
      "Trial 1852: Artifacts - 0.0% (Validation: 0, Clipping: 0, Motion: 0)\n",
      "Trial 1853: Artifacts - 0.0% (Validation: 0, Clipping: 0, Motion: 0)\n",
      "Trial 1854: Artifacts - 3.3% (Validation: 74, Clipping: 0, Motion: 0)\n",
      "Trial 1855: Artifacts - 0.5% (Validation: 0, Clipping: 0, Motion: 11)\n",
      "Trial 1856: Artifacts - 2.0% (Validation: 0, Clipping: 0, Motion: 46)\n",
      "Trial 1857: Artifacts - 4.7% (Validation: 0, Clipping: 0, Motion: 105)\n"
     ]
    },
    {
     "name": "stderr",
     "output_type": "stream",
     "text": [
      "/usr/local/lib/python3.11/dist-packages/sklearn/decomposition/_fastica.py:542: FutureWarning: Starting in v1.3, whiten='unit-variance' will be used by default.\n",
      "  warnings.warn(\n"
     ]
    },
    {
     "name": "stdout",
     "output_type": "stream",
     "text": [
      "Trial 1858: Artifacts - 0.0% (Validation: 0, Clipping: 0, Motion: 0)\n",
      "Trial 1859: Artifacts - 0.0% (Validation: 0, Clipping: 0, Motion: 0)\n",
      "Trial 1860: Artifacts - 2.1% (Validation: 0, Clipping: 0, Motion: 48)\n",
      "Trial 1861: Artifacts - 2.0% (Validation: 0, Clipping: 0, Motion: 44)\n",
      "Trial 1862: Artifacts - 0.0% (Validation: 0, Clipping: 0, Motion: 1)\n",
      "Trial 1863: Artifacts - 0.0% (Validation: 0, Clipping: 0, Motion: 0)\n",
      "Trial 1864: Artifacts - 0.1% (Validation: 0, Clipping: 0, Motion: 2)\n",
      "Trial 1865: Artifacts - 22.2% (Validation: 499, Clipping: 0, Motion: 1)\n",
      "Trial 1866: Artifacts - 0.0% (Validation: 0, Clipping: 1, Motion: 0)\n",
      "Trial 1867: Artifacts - 0.0% (Validation: 0, Clipping: 0, Motion: 0)\n",
      "Trial 1868: Artifacts - 0.0% (Validation: 0, Clipping: 0, Motion: 0)\n",
      "Trial 1869: Artifacts - 0.0% (Validation: 0, Clipping: 1, Motion: 0)\n",
      "Trial 1870: Artifacts - 0.0% (Validation: 0, Clipping: 0, Motion: 0)\n",
      "Trial 1871: Artifacts - 3.2% (Validation: 0, Clipping: 0, Motion: 72)\n"
     ]
    },
    {
     "name": "stderr",
     "output_type": "stream",
     "text": [
      "/usr/local/lib/python3.11/dist-packages/sklearn/decomposition/_fastica.py:542: FutureWarning: Starting in v1.3, whiten='unit-variance' will be used by default.\n",
      "  warnings.warn(\n"
     ]
    },
    {
     "name": "stdout",
     "output_type": "stream",
     "text": [
      "Trial 1872: Artifacts - 3.3% (Validation: 0, Clipping: 0, Motion: 75)\n"
     ]
    },
    {
     "name": "stderr",
     "output_type": "stream",
     "text": [
      "/usr/local/lib/python3.11/dist-packages/sklearn/decomposition/_fastica.py:542: FutureWarning: Starting in v1.3, whiten='unit-variance' will be used by default.\n",
      "  warnings.warn(\n"
     ]
    },
    {
     "name": "stdout",
     "output_type": "stream",
     "text": [
      "Trial 1873: Artifacts - 0.0% (Validation: 0, Clipping: 0, Motion: 0)\n",
      "Trial 1874: Artifacts - 0.0% (Validation: 0, Clipping: 0, Motion: 0)\n",
      "Trial 1875: Artifacts - 0.0% (Validation: 0, Clipping: 0, Motion: 0)\n",
      "Trial 1876: Artifacts - 0.0% (Validation: 0, Clipping: 0, Motion: 0)\n",
      "Trial 1877: Artifacts - 0.0% (Validation: 0, Clipping: 0, Motion: 0)\n",
      "Trial 1878: Artifacts - 0.0% (Validation: 0, Clipping: 0, Motion: 0)\n",
      "Trial 1879: Artifacts - 4.4% (Validation: 0, Clipping: 0, Motion: 98)\n"
     ]
    },
    {
     "name": "stderr",
     "output_type": "stream",
     "text": [
      "/usr/local/lib/python3.11/dist-packages/sklearn/decomposition/_fastica.py:542: FutureWarning: Starting in v1.3, whiten='unit-variance' will be used by default.\n",
      "  warnings.warn(\n"
     ]
    },
    {
     "name": "stdout",
     "output_type": "stream",
     "text": [
      "Trial 1880: Artifacts - 0.0% (Validation: 0, Clipping: 0, Motion: 0)\n",
      "Trial 1881: Artifacts - 11.6% (Validation: 0, Clipping: 0, Motion: 261)\n"
     ]
    },
    {
     "name": "stderr",
     "output_type": "stream",
     "text": [
      "/usr/local/lib/python3.11/dist-packages/sklearn/decomposition/_fastica.py:542: FutureWarning: Starting in v1.3, whiten='unit-variance' will be used by default.\n",
      "  warnings.warn(\n"
     ]
    },
    {
     "name": "stdout",
     "output_type": "stream",
     "text": [
      "Trial 1882: Artifacts - 0.0% (Validation: 0, Clipping: 0, Motion: 1)\n",
      "Trial 1883: Artifacts - 0.0% (Validation: 0, Clipping: 0, Motion: 0)\n",
      "Trial 1884: Artifacts - 0.0% (Validation: 0, Clipping: 0, Motion: 0)\n",
      "Trial 1885: Artifacts - 6.5% (Validation: 0, Clipping: 0, Motion: 146)\n"
     ]
    },
    {
     "name": "stderr",
     "output_type": "stream",
     "text": [
      "/usr/local/lib/python3.11/dist-packages/sklearn/decomposition/_fastica.py:542: FutureWarning: Starting in v1.3, whiten='unit-variance' will be used by default.\n",
      "  warnings.warn(\n"
     ]
    },
    {
     "name": "stdout",
     "output_type": "stream",
     "text": [
      "Trial 1886: Artifacts - 0.0% (Validation: 0, Clipping: 1, Motion: 0)\n",
      "Trial 1887: Artifacts - 0.0% (Validation: 0, Clipping: 0, Motion: 0)\n",
      "Trial 1888: Artifacts - 0.0% (Validation: 0, Clipping: 0, Motion: 0)\n",
      "Trial 1889: Artifacts - 0.0% (Validation: 0, Clipping: 0, Motion: 0)\n",
      "Trial 1890: Artifacts - 0.0% (Validation: 0, Clipping: 0, Motion: 0)\n",
      "Trial 1891: Artifacts - 9.2% (Validation: 0, Clipping: 1, Motion: 207)\n"
     ]
    },
    {
     "name": "stderr",
     "output_type": "stream",
     "text": [
      "/usr/local/lib/python3.11/dist-packages/sklearn/decomposition/_fastica.py:542: FutureWarning: Starting in v1.3, whiten='unit-variance' will be used by default.\n",
      "  warnings.warn(\n"
     ]
    },
    {
     "name": "stdout",
     "output_type": "stream",
     "text": [
      "Trial 1892: Artifacts - 0.0% (Validation: 0, Clipping: 0, Motion: 0)\n",
      "Trial 1893: Artifacts - 0.0% (Validation: 0, Clipping: 0, Motion: 0)\n",
      "Trial 1894: Artifacts - 0.0% (Validation: 0, Clipping: 0, Motion: 0)\n",
      "Trial 1895: Artifacts - 0.3% (Validation: 0, Clipping: 0, Motion: 7)\n",
      "Trial 1896: Artifacts - 0.0% (Validation: 0, Clipping: 0, Motion: 0)\n",
      "Trial 1897: Artifacts - 0.0% (Validation: 0, Clipping: 1, Motion: 0)\n",
      "Trial 1898: Artifacts - 0.0% (Validation: 0, Clipping: 0, Motion: 0)\n",
      "Trial 1899: Artifacts - 0.0% (Validation: 0, Clipping: 0, Motion: 0)\n",
      "Trial 1900: Artifacts - 0.0% (Validation: 0, Clipping: 1, Motion: 0)\n",
      "Processed 1900/4800 trials\n",
      "Trial 1901: Artifacts - 18.5% (Validation: 0, Clipping: 0, Motion: 417)\n"
     ]
    },
    {
     "name": "stderr",
     "output_type": "stream",
     "text": [
      "/usr/local/lib/python3.11/dist-packages/sklearn/decomposition/_fastica.py:542: FutureWarning: Starting in v1.3, whiten='unit-variance' will be used by default.\n",
      "  warnings.warn(\n"
     ]
    },
    {
     "name": "stdout",
     "output_type": "stream",
     "text": [
      "Trial 1902: Artifacts - 8.1% (Validation: 74, Clipping: 0, Motion: 109)\n"
     ]
    },
    {
     "name": "stderr",
     "output_type": "stream",
     "text": [
      "/usr/local/lib/python3.11/dist-packages/sklearn/decomposition/_fastica.py:542: FutureWarning: Starting in v1.3, whiten='unit-variance' will be used by default.\n",
      "  warnings.warn(\n"
     ]
    },
    {
     "name": "stdout",
     "output_type": "stream",
     "text": [
      "Trial 1903: Artifacts - 2.3% (Validation: 0, Clipping: 0, Motion: 51)\n"
     ]
    },
    {
     "name": "stderr",
     "output_type": "stream",
     "text": [
      "/usr/local/lib/python3.11/dist-packages/sklearn/decomposition/_fastica.py:542: FutureWarning: Starting in v1.3, whiten='unit-variance' will be used by default.\n",
      "  warnings.warn(\n"
     ]
    },
    {
     "name": "stdout",
     "output_type": "stream",
     "text": [
      "Trial 1904: Artifacts - 0.0% (Validation: 0, Clipping: 0, Motion: 0)\n",
      "Trial 1905: Artifacts - 7.6% (Validation: 0, Clipping: 0, Motion: 170)\n"
     ]
    },
    {
     "name": "stderr",
     "output_type": "stream",
     "text": [
      "/usr/local/lib/python3.11/dist-packages/sklearn/decomposition/_fastica.py:542: FutureWarning: Starting in v1.3, whiten='unit-variance' will be used by default.\n",
      "  warnings.warn(\n"
     ]
    },
    {
     "name": "stdout",
     "output_type": "stream",
     "text": [
      "Trial 1906: Artifacts - 3.4% (Validation: 0, Clipping: 1, Motion: 77)\n"
     ]
    },
    {
     "name": "stderr",
     "output_type": "stream",
     "text": [
      "/usr/local/lib/python3.11/dist-packages/sklearn/decomposition/_fastica.py:542: FutureWarning: Starting in v1.3, whiten='unit-variance' will be used by default.\n",
      "  warnings.warn(\n"
     ]
    },
    {
     "name": "stdout",
     "output_type": "stream",
     "text": [
      "Trial 1907: Artifacts - 1.4% (Validation: 0, Clipping: 0, Motion: 31)\n",
      "Trial 1908: Artifacts - 3.0% (Validation: 0, Clipping: 0, Motion: 68)\n"
     ]
    },
    {
     "name": "stderr",
     "output_type": "stream",
     "text": [
      "/usr/local/lib/python3.11/dist-packages/sklearn/decomposition/_fastica.py:542: FutureWarning: Starting in v1.3, whiten='unit-variance' will be used by default.\n",
      "  warnings.warn(\n"
     ]
    },
    {
     "name": "stdout",
     "output_type": "stream",
     "text": [
      "Trial 1909: Artifacts - 5.4% (Validation: 76, Clipping: 0, Motion: 46)\n",
      "Trial 1910: Artifacts - 14.3% (Validation: 74, Clipping: 1, Motion: 247)\n"
     ]
    },
    {
     "name": "stderr",
     "output_type": "stream",
     "text": [
      "/usr/local/lib/python3.11/dist-packages/sklearn/decomposition/_fastica.py:542: FutureWarning: Starting in v1.3, whiten='unit-variance' will be used by default.\n",
      "  warnings.warn(\n"
     ]
    },
    {
     "name": "stdout",
     "output_type": "stream",
     "text": [
      "Trial 1911: Artifacts - 13.2% (Validation: 91, Clipping: 0, Motion: 207)\n"
     ]
    },
    {
     "name": "stderr",
     "output_type": "stream",
     "text": [
      "/usr/local/lib/python3.11/dist-packages/sklearn/decomposition/_fastica.py:542: FutureWarning: Starting in v1.3, whiten='unit-variance' will be used by default.\n",
      "  warnings.warn(\n"
     ]
    },
    {
     "name": "stdout",
     "output_type": "stream",
     "text": [
      "Trial 1912: Artifacts - 10.7% (Validation: 92, Clipping: 0, Motion: 148)\n"
     ]
    },
    {
     "name": "stderr",
     "output_type": "stream",
     "text": [
      "/usr/local/lib/python3.11/dist-packages/sklearn/decomposition/_fastica.py:542: FutureWarning: Starting in v1.3, whiten='unit-variance' will be used by default.\n",
      "  warnings.warn(\n"
     ]
    },
    {
     "name": "stdout",
     "output_type": "stream",
     "text": [
      "Trial 1913: Artifacts - 11.6% (Validation: 188, Clipping: 94, Motion: 73)\n"
     ]
    },
    {
     "name": "stderr",
     "output_type": "stream",
     "text": [
      "/usr/local/lib/python3.11/dist-packages/sklearn/decomposition/_fastica.py:542: FutureWarning: Starting in v1.3, whiten='unit-variance' will be used by default.\n",
      "  warnings.warn(\n"
     ]
    },
    {
     "name": "stdout",
     "output_type": "stream",
     "text": [
      "Trial 1914: Artifacts - 8.3% (Validation: 0, Clipping: 0, Motion: 187)\n"
     ]
    },
    {
     "name": "stderr",
     "output_type": "stream",
     "text": [
      "/usr/local/lib/python3.11/dist-packages/sklearn/decomposition/_fastica.py:542: FutureWarning: Starting in v1.3, whiten='unit-variance' will be used by default.\n",
      "  warnings.warn(\n"
     ]
    },
    {
     "name": "stdout",
     "output_type": "stream",
     "text": [
      "Trial 1915: Artifacts - 1.0% (Validation: 0, Clipping: 1, Motion: 22)\n",
      "Trial 1916: Artifacts - 4.3% (Validation: 96, Clipping: 0, Motion: 0)\n",
      "Trial 1917: Artifacts - 3.7% (Validation: 82, Clipping: 5, Motion: 0)\n",
      "Trial 1918: Artifacts - 7.6% (Validation: 90, Clipping: 0, Motion: 82)\n"
     ]
    },
    {
     "name": "stderr",
     "output_type": "stream",
     "text": [
      "/usr/local/lib/python3.11/dist-packages/sklearn/decomposition/_fastica.py:542: FutureWarning: Starting in v1.3, whiten='unit-variance' will be used by default.\n",
      "  warnings.warn(\n"
     ]
    },
    {
     "name": "stdout",
     "output_type": "stream",
     "text": [
      "Trial 1919: Artifacts - 5.1% (Validation: 19, Clipping: 15, Motion: 95)\n"
     ]
    },
    {
     "name": "stderr",
     "output_type": "stream",
     "text": [
      "/usr/local/lib/python3.11/dist-packages/sklearn/decomposition/_fastica.py:542: FutureWarning: Starting in v1.3, whiten='unit-variance' will be used by default.\n",
      "  warnings.warn(\n"
     ]
    },
    {
     "name": "stdout",
     "output_type": "stream",
     "text": [
      "Trial 1920: Artifacts - 8.3% (Validation: 75, Clipping: 0, Motion: 112)\n"
     ]
    },
    {
     "name": "stderr",
     "output_type": "stream",
     "text": [
      "/usr/local/lib/python3.11/dist-packages/sklearn/decomposition/_fastica.py:542: FutureWarning: Starting in v1.3, whiten='unit-variance' will be used by default.\n",
      "  warnings.warn(\n"
     ]
    },
    {
     "name": "stdout",
     "output_type": "stream",
     "text": [
      "REJECTING trial 1921: 75.3% artifacts\n",
      "REJECTING trial 1922: 74.5% artifacts\n",
      "REJECTING trial 1923: 72.6% artifacts\n",
      "REJECTING trial 1924: 73.9% artifacts\n",
      "REJECTING trial 1925: 75.2% artifacts\n",
      "REJECTING trial 1926: 76.5% artifacts\n",
      "REJECTING trial 1927: 71.2% artifacts\n",
      "REJECTING trial 1928: 75.4% artifacts\n",
      "REJECTING trial 1929: 71.1% artifacts\n",
      "REJECTING trial 1930: 77.9% artifacts\n",
      "Trial 1931: Artifacts - 2.3% (Validation: 0, Clipping: 0, Motion: 52)\n"
     ]
    },
    {
     "name": "stderr",
     "output_type": "stream",
     "text": [
      "/usr/local/lib/python3.11/dist-packages/sklearn/decomposition/_fastica.py:542: FutureWarning: Starting in v1.3, whiten='unit-variance' will be used by default.\n",
      "  warnings.warn(\n"
     ]
    },
    {
     "name": "stdout",
     "output_type": "stream",
     "text": [
      "Trial 1932: Artifacts - 0.1% (Validation: 1, Clipping: 2, Motion: 0)\n",
      "Trial 1933: Artifacts - 0.0% (Validation: 0, Clipping: 0, Motion: 0)\n",
      "Trial 1934: Artifacts - 0.0% (Validation: 0, Clipping: 0, Motion: 0)\n",
      "Trial 1935: Artifacts - 0.1% (Validation: 1, Clipping: 1, Motion: 0)\n",
      "Trial 1936: Artifacts - 0.0% (Validation: 0, Clipping: 0, Motion: 0)\n",
      "Trial 1937: Artifacts - 0.0% (Validation: 0, Clipping: 1, Motion: 0)\n",
      "Trial 1938: Artifacts - 0.0% (Validation: 0, Clipping: 1, Motion: 0)\n",
      "Trial 1939: Artifacts - 0.4% (Validation: 10, Clipping: 0, Motion: 0)\n",
      "Trial 1940: Artifacts - 0.2% (Validation: 5, Clipping: 0, Motion: 0)\n",
      "Trial 1941: Artifacts - 0.0% (Validation: 0, Clipping: 1, Motion: 0)\n",
      "Trial 1942: Artifacts - 11.1% (Validation: 4, Clipping: 1, Motion: 245)\n"
     ]
    },
    {
     "name": "stderr",
     "output_type": "stream",
     "text": [
      "/usr/local/lib/python3.11/dist-packages/sklearn/decomposition/_fastica.py:542: FutureWarning: Starting in v1.3, whiten='unit-variance' will be used by default.\n",
      "  warnings.warn(\n"
     ]
    },
    {
     "name": "stdout",
     "output_type": "stream",
     "text": [
      "Trial 1943: Artifacts - 0.1% (Validation: 0, Clipping: 0, Motion: 3)\n",
      "Trial 1944: Artifacts - 0.1% (Validation: 3, Clipping: 3, Motion: 0)\n",
      "Trial 1945: Artifacts - 2.0% (Validation: 46, Clipping: 3, Motion: 0)\n",
      "Trial 1946: Artifacts - 0.5% (Validation: 12, Clipping: 4, Motion: 0)\n",
      "Trial 1947: Artifacts - 0.6% (Validation: 14, Clipping: 11, Motion: 0)\n",
      "Trial 1948: Artifacts - 0.0% (Validation: 0, Clipping: 0, Motion: 0)\n",
      "Trial 1949: Artifacts - 0.0% (Validation: 0, Clipping: 0, Motion: 0)\n",
      "Trial 1950: Artifacts - 0.0% (Validation: 0, Clipping: 0, Motion: 0)\n",
      "Trial 1951: Artifacts - 0.0% (Validation: 0, Clipping: 0, Motion: 0)\n",
      "Trial 1952: Artifacts - 0.3% (Validation: 6, Clipping: 0, Motion: 0)\n",
      "Trial 1953: Artifacts - 0.0% (Validation: 0, Clipping: 1, Motion: 0)\n",
      "Trial 1954: Artifacts - 0.0% (Validation: 0, Clipping: 1, Motion: 0)\n",
      "Trial 1955: Artifacts - 0.1% (Validation: 2, Clipping: 0, Motion: 0)\n",
      "Trial 1956: Artifacts - 0.0% (Validation: 1, Clipping: 0, Motion: 0)\n",
      "Trial 1957: Artifacts - 0.2% (Validation: 4, Clipping: 0, Motion: 0)\n",
      "Trial 1958: Artifacts - 0.1% (Validation: 1, Clipping: 1, Motion: 0)\n",
      "Trial 1959: Artifacts - 0.1% (Validation: 3, Clipping: 1, Motion: 0)\n",
      "Trial 1960: Artifacts - 0.0% (Validation: 0, Clipping: 0, Motion: 0)\n",
      "Trial 1961: Artifacts - 0.2% (Validation: 3, Clipping: 1, Motion: 0)\n",
      "Trial 1962: Artifacts - 0.0% (Validation: 0, Clipping: 0, Motion: 0)\n",
      "Trial 1963: Artifacts - 0.2% (Validation: 4, Clipping: 4, Motion: 0)\n",
      "Trial 1964: Artifacts - 0.8% (Validation: 0, Clipping: 0, Motion: 17)\n",
      "Trial 1965: Artifacts - 1.4% (Validation: 32, Clipping: 0, Motion: 0)\n",
      "Trial 1966: Artifacts - 8.0% (Validation: 0, Clipping: 0, Motion: 179)\n"
     ]
    },
    {
     "name": "stderr",
     "output_type": "stream",
     "text": [
      "/usr/local/lib/python3.11/dist-packages/sklearn/decomposition/_fastica.py:542: FutureWarning: Starting in v1.3, whiten='unit-variance' will be used by default.\n",
      "  warnings.warn(\n"
     ]
    },
    {
     "name": "stdout",
     "output_type": "stream",
     "text": [
      "Trial 1967: Artifacts - 3.1% (Validation: 11, Clipping: 6, Motion: 57)\n"
     ]
    },
    {
     "name": "stderr",
     "output_type": "stream",
     "text": [
      "/usr/local/lib/python3.11/dist-packages/sklearn/decomposition/_fastica.py:542: FutureWarning: Starting in v1.3, whiten='unit-variance' will be used by default.\n",
      "  warnings.warn(\n"
     ]
    },
    {
     "name": "stdout",
     "output_type": "stream",
     "text": [
      "Trial 1968: Artifacts - 3.2% (Validation: 1, Clipping: 0, Motion: 72)\n"
     ]
    },
    {
     "name": "stderr",
     "output_type": "stream",
     "text": [
      "/usr/local/lib/python3.11/dist-packages/sklearn/decomposition/_fastica.py:542: FutureWarning: Starting in v1.3, whiten='unit-variance' will be used by default.\n",
      "  warnings.warn(\n"
     ]
    },
    {
     "name": "stdout",
     "output_type": "stream",
     "text": [
      "Trial 1969: Artifacts - 0.0% (Validation: 0, Clipping: 1, Motion: 0)\n",
      "Trial 1970: Artifacts - 0.0% (Validation: 0, Clipping: 0, Motion: 0)\n",
      "Trial 1971: Artifacts - 3.9% (Validation: 2, Clipping: 0, Motion: 86)\n"
     ]
    },
    {
     "name": "stderr",
     "output_type": "stream",
     "text": [
      "/usr/local/lib/python3.11/dist-packages/sklearn/decomposition/_fastica.py:542: FutureWarning: Starting in v1.3, whiten='unit-variance' will be used by default.\n",
      "  warnings.warn(\n"
     ]
    },
    {
     "name": "stdout",
     "output_type": "stream",
     "text": [
      "Trial 1972: Artifacts - 11.4% (Validation: 0, Clipping: 1, Motion: 256)\n"
     ]
    },
    {
     "name": "stderr",
     "output_type": "stream",
     "text": [
      "/usr/local/lib/python3.11/dist-packages/sklearn/decomposition/_fastica.py:542: FutureWarning: Starting in v1.3, whiten='unit-variance' will be used by default.\n",
      "  warnings.warn(\n"
     ]
    },
    {
     "name": "stdout",
     "output_type": "stream",
     "text": [
      "Trial 1973: Artifacts - 0.4% (Validation: 0, Clipping: 0, Motion: 10)\n",
      "Trial 1974: Artifacts - 0.0% (Validation: 0, Clipping: 0, Motion: 0)\n",
      "Trial 1975: Artifacts - 0.7% (Validation: 2, Clipping: 0, Motion: 14)\n",
      "Trial 1976: Artifacts - 0.4% (Validation: 7, Clipping: 0, Motion: 1)\n",
      "Trial 1977: Artifacts - 0.3% (Validation: 5, Clipping: 6, Motion: 0)\n",
      "Trial 1978: Artifacts - 0.0% (Validation: 0, Clipping: 1, Motion: 0)\n",
      "Trial 1979: Artifacts - 0.1% (Validation: 2, Clipping: 2, Motion: 0)\n",
      "Trial 1980: Artifacts - 2.0% (Validation: 0, Clipping: 1, Motion: 43)\n",
      "Trial 1981: Artifacts - 0.0% (Validation: 0, Clipping: 0, Motion: 0)\n",
      "Trial 1982: Artifacts - 0.6% (Validation: 3, Clipping: 1, Motion: 11)\n",
      "Trial 1983: Artifacts - 0.1% (Validation: 0, Clipping: 2, Motion: 0)\n",
      "Trial 1984: Artifacts - 1.7% (Validation: 0, Clipping: 0, Motion: 38)\n",
      "Trial 1985: Artifacts - 0.1% (Validation: 2, Clipping: 0, Motion: 0)\n",
      "Trial 1986: Artifacts - 0.1% (Validation: 3, Clipping: 3, Motion: 0)\n",
      "Trial 1987: Artifacts - 0.0% (Validation: 0, Clipping: 1, Motion: 0)\n",
      "Trial 1988: Artifacts - 0.0% (Validation: 1, Clipping: 1, Motion: 0)\n",
      "Trial 1989: Artifacts - 0.0% (Validation: 0, Clipping: 1, Motion: 0)\n",
      "Trial 1990: Artifacts - 0.0% (Validation: 0, Clipping: 1, Motion: 0)\n",
      "Trial 1991: Artifacts - 1.1% (Validation: 0, Clipping: 0, Motion: 25)\n",
      "Trial 1992: Artifacts - 8.5% (Validation: 0, Clipping: 0, Motion: 192)\n"
     ]
    },
    {
     "name": "stderr",
     "output_type": "stream",
     "text": [
      "/usr/local/lib/python3.11/dist-packages/sklearn/decomposition/_fastica.py:542: FutureWarning: Starting in v1.3, whiten='unit-variance' will be used by default.\n",
      "  warnings.warn(\n"
     ]
    },
    {
     "name": "stdout",
     "output_type": "stream",
     "text": [
      "Trial 1993: Artifacts - 0.2% (Validation: 4, Clipping: 0, Motion: 0)\n",
      "Trial 1994: Artifacts - 0.0% (Validation: 0, Clipping: 0, Motion: 0)\n",
      "Trial 1995: Artifacts - 0.0% (Validation: 0, Clipping: 1, Motion: 0)\n",
      "Trial 1996: Artifacts - 0.0% (Validation: 0, Clipping: 1, Motion: 0)\n",
      "Trial 1997: Artifacts - 0.1% (Validation: 3, Clipping: 0, Motion: 0)\n",
      "Trial 1998: Artifacts - 0.0% (Validation: 0, Clipping: 0, Motion: 0)\n",
      "Trial 1999: Artifacts - 0.0% (Validation: 0, Clipping: 0, Motion: 0)\n",
      "Trial 2000: Artifacts - 0.0% (Validation: 1, Clipping: 0, Motion: 0)\n",
      "Processed 2000/4800 trials\n",
      "Trial 2001: Artifacts - 10.5% (Validation: 0, Clipping: 0, Motion: 236)\n"
     ]
    },
    {
     "name": "stderr",
     "output_type": "stream",
     "text": [
      "/usr/local/lib/python3.11/dist-packages/sklearn/decomposition/_fastica.py:542: FutureWarning: Starting in v1.3, whiten='unit-variance' will be used by default.\n",
      "  warnings.warn(\n"
     ]
    },
    {
     "name": "stdout",
     "output_type": "stream",
     "text": [
      "Trial 2002: Artifacts - 1.1% (Validation: 0, Clipping: 0, Motion: 25)\n",
      "Trial 2003: Artifacts - 0.0% (Validation: 0, Clipping: 0, Motion: 0)\n",
      "Trial 2004: Artifacts - 0.0% (Validation: 0, Clipping: 0, Motion: 0)\n",
      "Trial 2005: Artifacts - 0.0% (Validation: 0, Clipping: 0, Motion: 0)\n",
      "Trial 2006: Artifacts - 0.0% (Validation: 0, Clipping: 0, Motion: 0)\n",
      "Trial 2007: Artifacts - 0.0% (Validation: 0, Clipping: 0, Motion: 0)\n",
      "Trial 2008: Artifacts - 0.0% (Validation: 0, Clipping: 0, Motion: 0)\n",
      "Trial 2009: Artifacts - 0.0% (Validation: 0, Clipping: 0, Motion: 0)\n",
      "Trial 2010: Artifacts - 0.0% (Validation: 0, Clipping: 0, Motion: 0)\n",
      "Trial 2011: Artifacts - 5.9% (Validation: 0, Clipping: 0, Motion: 132)\n"
     ]
    },
    {
     "name": "stderr",
     "output_type": "stream",
     "text": [
      "/usr/local/lib/python3.11/dist-packages/sklearn/decomposition/_fastica.py:542: FutureWarning: Starting in v1.3, whiten='unit-variance' will be used by default.\n",
      "  warnings.warn(\n"
     ]
    },
    {
     "name": "stdout",
     "output_type": "stream",
     "text": [
      "Trial 2012: Artifacts - 0.0% (Validation: 0, Clipping: 0, Motion: 0)\n",
      "Trial 2013: Artifacts - 0.0% (Validation: 0, Clipping: 1, Motion: 0)\n",
      "Trial 2014: Artifacts - 0.0% (Validation: 0, Clipping: 0, Motion: 0)\n",
      "Trial 2015: Artifacts - 0.0% (Validation: 0, Clipping: 0, Motion: 0)\n",
      "Trial 2016: Artifacts - 0.0% (Validation: 0, Clipping: 0, Motion: 0)\n",
      "Trial 2017: Artifacts - 0.0% (Validation: 0, Clipping: 0, Motion: 0)\n",
      "Trial 2018: Artifacts - 0.0% (Validation: 0, Clipping: 0, Motion: 0)\n",
      "Trial 2019: Artifacts - 0.0% (Validation: 0, Clipping: 0, Motion: 0)\n",
      "Trial 2020: Artifacts - 0.0% (Validation: 0, Clipping: 0, Motion: 0)\n",
      "Trial 2021: Artifacts - 8.0% (Validation: 0, Clipping: 0, Motion: 181)\n"
     ]
    },
    {
     "name": "stderr",
     "output_type": "stream",
     "text": [
      "/usr/local/lib/python3.11/dist-packages/sklearn/decomposition/_fastica.py:542: FutureWarning: Starting in v1.3, whiten='unit-variance' will be used by default.\n",
      "  warnings.warn(\n"
     ]
    },
    {
     "name": "stdout",
     "output_type": "stream",
     "text": [
      "Trial 2022: Artifacts - 2.5% (Validation: 0, Clipping: 0, Motion: 57)\n"
     ]
    },
    {
     "name": "stderr",
     "output_type": "stream",
     "text": [
      "/usr/local/lib/python3.11/dist-packages/sklearn/decomposition/_fastica.py:542: FutureWarning: Starting in v1.3, whiten='unit-variance' will be used by default.\n",
      "  warnings.warn(\n"
     ]
    },
    {
     "name": "stdout",
     "output_type": "stream",
     "text": [
      "Trial 2023: Artifacts - 0.0% (Validation: 0, Clipping: 1, Motion: 0)\n",
      "Trial 2024: Artifacts - 0.0% (Validation: 0, Clipping: 1, Motion: 0)\n",
      "Trial 2025: Artifacts - 0.0% (Validation: 0, Clipping: 1, Motion: 0)\n",
      "Trial 2026: Artifacts - 0.0% (Validation: 0, Clipping: 0, Motion: 0)\n",
      "Trial 2027: Artifacts - 0.0% (Validation: 0, Clipping: 0, Motion: 0)\n",
      "Trial 2028: Artifacts - 0.6% (Validation: 13, Clipping: 0, Motion: 0)\n",
      "Trial 2029: Artifacts - 0.0% (Validation: 0, Clipping: 1, Motion: 0)\n",
      "Trial 2030: Artifacts - 0.0% (Validation: 0, Clipping: 0, Motion: 0)\n",
      "Trial 2031: Artifacts - 9.3% (Validation: 0, Clipping: 1, Motion: 209)\n"
     ]
    },
    {
     "name": "stderr",
     "output_type": "stream",
     "text": [
      "/usr/local/lib/python3.11/dist-packages/sklearn/decomposition/_fastica.py:542: FutureWarning: Starting in v1.3, whiten='unit-variance' will be used by default.\n",
      "  warnings.warn(\n"
     ]
    },
    {
     "name": "stdout",
     "output_type": "stream",
     "text": [
      "Trial 2032: Artifacts - 0.0% (Validation: 0, Clipping: 1, Motion: 0)\n",
      "Trial 2033: Artifacts - 0.0% (Validation: 0, Clipping: 0, Motion: 0)\n",
      "Trial 2034: Artifacts - 0.0% (Validation: 0, Clipping: 0, Motion: 0)\n",
      "Trial 2035: Artifacts - 0.0% (Validation: 0, Clipping: 1, Motion: 0)\n",
      "Trial 2036: Artifacts - 0.0% (Validation: 0, Clipping: 0, Motion: 0)\n",
      "Trial 2037: Artifacts - 0.0% (Validation: 0, Clipping: 0, Motion: 0)\n",
      "Trial 2038: Artifacts - 0.0% (Validation: 0, Clipping: 1, Motion: 0)\n",
      "Trial 2039: Artifacts - 0.0% (Validation: 0, Clipping: 1, Motion: 0)\n",
      "Trial 2040: Artifacts - 0.0% (Validation: 0, Clipping: 0, Motion: 0)\n",
      "Trial 2041: Artifacts - 7.4% (Validation: 0, Clipping: 0, Motion: 166)\n"
     ]
    },
    {
     "name": "stderr",
     "output_type": "stream",
     "text": [
      "/usr/local/lib/python3.11/dist-packages/sklearn/decomposition/_fastica.py:542: FutureWarning: Starting in v1.3, whiten='unit-variance' will be used by default.\n",
      "  warnings.warn(\n"
     ]
    },
    {
     "name": "stdout",
     "output_type": "stream",
     "text": [
      "Trial 2042: Artifacts - 0.0% (Validation: 0, Clipping: 0, Motion: 0)\n",
      "Trial 2043: Artifacts - 0.0% (Validation: 0, Clipping: 1, Motion: 0)\n",
      "Trial 2044: Artifacts - 0.0% (Validation: 1, Clipping: 0, Motion: 0)\n",
      "Trial 2045: Artifacts - 0.0% (Validation: 0, Clipping: 1, Motion: 0)\n",
      "Trial 2046: Artifacts - 0.0% (Validation: 0, Clipping: 0, Motion: 0)\n",
      "Trial 2047: Artifacts - 0.0% (Validation: 0, Clipping: 0, Motion: 0)\n",
      "Trial 2048: Artifacts - 0.0% (Validation: 0, Clipping: 0, Motion: 0)\n",
      "Trial 2049: Artifacts - 0.0% (Validation: 0, Clipping: 0, Motion: 0)\n",
      "Trial 2050: Artifacts - 0.0% (Validation: 0, Clipping: 0, Motion: 0)\n",
      "Trial 2051: Artifacts - 11.6% (Validation: 0, Clipping: 0, Motion: 261)\n"
     ]
    },
    {
     "name": "stderr",
     "output_type": "stream",
     "text": [
      "/usr/local/lib/python3.11/dist-packages/sklearn/decomposition/_fastica.py:542: FutureWarning: Starting in v1.3, whiten='unit-variance' will be used by default.\n",
      "  warnings.warn(\n"
     ]
    },
    {
     "name": "stdout",
     "output_type": "stream",
     "text": [
      "Trial 2052: Artifacts - 0.0% (Validation: 0, Clipping: 0, Motion: 0)\n",
      "Trial 2053: Artifacts - 0.0% (Validation: 0, Clipping: 1, Motion: 0)\n",
      "Trial 2054: Artifacts - 6.6% (Validation: 0, Clipping: 0, Motion: 149)\n"
     ]
    },
    {
     "name": "stderr",
     "output_type": "stream",
     "text": [
      "/usr/local/lib/python3.11/dist-packages/sklearn/decomposition/_fastica.py:542: FutureWarning: Starting in v1.3, whiten='unit-variance' will be used by default.\n",
      "  warnings.warn(\n"
     ]
    },
    {
     "name": "stdout",
     "output_type": "stream",
     "text": [
      "Trial 2055: Artifacts - 0.0% (Validation: 0, Clipping: 0, Motion: 0)\n",
      "Trial 2056: Artifacts - 0.0% (Validation: 0, Clipping: 0, Motion: 0)\n",
      "Trial 2057: Artifacts - 0.4% (Validation: 0, Clipping: 0, Motion: 9)\n",
      "Trial 2058: Artifacts - 0.0% (Validation: 0, Clipping: 0, Motion: 0)\n",
      "Trial 2059: Artifacts - 0.0% (Validation: 0, Clipping: 0, Motion: 0)\n",
      "Trial 2060: Artifacts - 2.3% (Validation: 0, Clipping: 0, Motion: 52)\n"
     ]
    },
    {
     "name": "stderr",
     "output_type": "stream",
     "text": [
      "/usr/local/lib/python3.11/dist-packages/sklearn/decomposition/_fastica.py:542: FutureWarning: Starting in v1.3, whiten='unit-variance' will be used by default.\n",
      "  warnings.warn(\n"
     ]
    },
    {
     "name": "stdout",
     "output_type": "stream",
     "text": [
      "Trial 2061: Artifacts - 6.7% (Validation: 0, Clipping: 0, Motion: 150)\n"
     ]
    },
    {
     "name": "stderr",
     "output_type": "stream",
     "text": [
      "/usr/local/lib/python3.11/dist-packages/sklearn/decomposition/_fastica.py:542: FutureWarning: Starting in v1.3, whiten='unit-variance' will be used by default.\n",
      "  warnings.warn(\n"
     ]
    },
    {
     "name": "stdout",
     "output_type": "stream",
     "text": [
      "Trial 2062: Artifacts - 9.2% (Validation: 0, Clipping: 0, Motion: 207)\n"
     ]
    },
    {
     "name": "stderr",
     "output_type": "stream",
     "text": [
      "/usr/local/lib/python3.11/dist-packages/sklearn/decomposition/_fastica.py:542: FutureWarning: Starting in v1.3, whiten='unit-variance' will be used by default.\n",
      "  warnings.warn(\n"
     ]
    },
    {
     "name": "stdout",
     "output_type": "stream",
     "text": [
      "Trial 2063: Artifacts - 1.4% (Validation: 0, Clipping: 0, Motion: 32)\n",
      "Trial 2064: Artifacts - 0.0% (Validation: 0, Clipping: 0, Motion: 0)\n",
      "Trial 2065: Artifacts - 0.0% (Validation: 0, Clipping: 1, Motion: 0)\n",
      "Trial 2066: Artifacts - 0.0% (Validation: 0, Clipping: 1, Motion: 0)\n",
      "Trial 2067: Artifacts - 1.6% (Validation: 0, Clipping: 0, Motion: 36)\n",
      "Trial 2068: Artifacts - 15.0% (Validation: 0, Clipping: 0, Motion: 338)\n"
     ]
    },
    {
     "name": "stderr",
     "output_type": "stream",
     "text": [
      "/usr/local/lib/python3.11/dist-packages/sklearn/decomposition/_fastica.py:542: FutureWarning: Starting in v1.3, whiten='unit-variance' will be used by default.\n",
      "  warnings.warn(\n"
     ]
    },
    {
     "name": "stdout",
     "output_type": "stream",
     "text": [
      "Trial 2069: Artifacts - 1.9% (Validation: 0, Clipping: 0, Motion: 42)\n",
      "Trial 2070: Artifacts - 16.1% (Validation: 0, Clipping: 0, Motion: 363)\n"
     ]
    },
    {
     "name": "stderr",
     "output_type": "stream",
     "text": [
      "/usr/local/lib/python3.11/dist-packages/sklearn/decomposition/_fastica.py:542: FutureWarning: Starting in v1.3, whiten='unit-variance' will be used by default.\n",
      "  warnings.warn(\n"
     ]
    },
    {
     "name": "stdout",
     "output_type": "stream",
     "text": [
      "Trial 2071: Artifacts - 8.0% (Validation: 0, Clipping: 0, Motion: 179)\n"
     ]
    },
    {
     "name": "stderr",
     "output_type": "stream",
     "text": [
      "/usr/local/lib/python3.11/dist-packages/sklearn/decomposition/_fastica.py:542: FutureWarning: Starting in v1.3, whiten='unit-variance' will be used by default.\n",
      "  warnings.warn(\n"
     ]
    },
    {
     "name": "stdout",
     "output_type": "stream",
     "text": [
      "Trial 2072: Artifacts - 6.8% (Validation: 0, Clipping: 0, Motion: 152)\n"
     ]
    },
    {
     "name": "stderr",
     "output_type": "stream",
     "text": [
      "/usr/local/lib/python3.11/dist-packages/sklearn/decomposition/_fastica.py:542: FutureWarning: Starting in v1.3, whiten='unit-variance' will be used by default.\n",
      "  warnings.warn(\n"
     ]
    },
    {
     "name": "stdout",
     "output_type": "stream",
     "text": [
      "Trial 2073: Artifacts - 4.6% (Validation: 0, Clipping: 0, Motion: 103)\n"
     ]
    },
    {
     "name": "stderr",
     "output_type": "stream",
     "text": [
      "/usr/local/lib/python3.11/dist-packages/sklearn/decomposition/_fastica.py:542: FutureWarning: Starting in v1.3, whiten='unit-variance' will be used by default.\n",
      "  warnings.warn(\n"
     ]
    },
    {
     "name": "stdout",
     "output_type": "stream",
     "text": [
      "Trial 2074: Artifacts - 0.3% (Validation: 0, Clipping: 0, Motion: 7)\n",
      "Trial 2075: Artifacts - 9.3% (Validation: 0, Clipping: 0, Motion: 210)\n"
     ]
    },
    {
     "name": "stderr",
     "output_type": "stream",
     "text": [
      "/usr/local/lib/python3.11/dist-packages/sklearn/decomposition/_fastica.py:542: FutureWarning: Starting in v1.3, whiten='unit-variance' will be used by default.\n",
      "  warnings.warn(\n"
     ]
    },
    {
     "name": "stdout",
     "output_type": "stream",
     "text": [
      "Trial 2076: Artifacts - 2.7% (Validation: 0, Clipping: 0, Motion: 60)\n"
     ]
    },
    {
     "name": "stderr",
     "output_type": "stream",
     "text": [
      "/usr/local/lib/python3.11/dist-packages/sklearn/decomposition/_fastica.py:542: FutureWarning: Starting in v1.3, whiten='unit-variance' will be used by default.\n",
      "  warnings.warn(\n"
     ]
    },
    {
     "name": "stdout",
     "output_type": "stream",
     "text": [
      "Trial 2077: Artifacts - 1.0% (Validation: 0, Clipping: 0, Motion: 23)\n",
      "Trial 2078: Artifacts - 0.0% (Validation: 0, Clipping: 0, Motion: 0)\n",
      "Trial 2079: Artifacts - 0.1% (Validation: 0, Clipping: 0, Motion: 2)\n",
      "Trial 2080: Artifacts - 12.7% (Validation: 0, Clipping: 0, Motion: 285)\n"
     ]
    },
    {
     "name": "stderr",
     "output_type": "stream",
     "text": [
      "/usr/local/lib/python3.11/dist-packages/sklearn/decomposition/_fastica.py:542: FutureWarning: Starting in v1.3, whiten='unit-variance' will be used by default.\n",
      "  warnings.warn(\n"
     ]
    },
    {
     "name": "stdout",
     "output_type": "stream",
     "text": [
      "Trial 2081: Artifacts - 12.0% (Validation: 0, Clipping: 0, Motion: 270)\n"
     ]
    },
    {
     "name": "stderr",
     "output_type": "stream",
     "text": [
      "/usr/local/lib/python3.11/dist-packages/sklearn/decomposition/_fastica.py:542: FutureWarning: Starting in v1.3, whiten='unit-variance' will be used by default.\n",
      "  warnings.warn(\n"
     ]
    },
    {
     "name": "stdout",
     "output_type": "stream",
     "text": [
      "Trial 2082: Artifacts - 0.0% (Validation: 0, Clipping: 1, Motion: 0)\n",
      "Trial 2083: Artifacts - 14.1% (Validation: 0, Clipping: 0, Motion: 317)\n"
     ]
    },
    {
     "name": "stderr",
     "output_type": "stream",
     "text": [
      "/usr/local/lib/python3.11/dist-packages/sklearn/decomposition/_fastica.py:542: FutureWarning: Starting in v1.3, whiten='unit-variance' will be used by default.\n",
      "  warnings.warn(\n"
     ]
    },
    {
     "name": "stdout",
     "output_type": "stream",
     "text": [
      "Trial 2084: Artifacts - 15.5% (Validation: 0, Clipping: 0, Motion: 349)\n"
     ]
    },
    {
     "name": "stderr",
     "output_type": "stream",
     "text": [
      "/usr/local/lib/python3.11/dist-packages/sklearn/decomposition/_fastica.py:542: FutureWarning: Starting in v1.3, whiten='unit-variance' will be used by default.\n",
      "  warnings.warn(\n"
     ]
    },
    {
     "name": "stdout",
     "output_type": "stream",
     "text": [
      "Trial 2085: Artifacts - 0.7% (Validation: 0, Clipping: 0, Motion: 15)\n",
      "Trial 2086: Artifacts - 0.9% (Validation: 0, Clipping: 0, Motion: 20)\n",
      "Trial 2087: Artifacts - 0.0% (Validation: 0, Clipping: 0, Motion: 0)\n",
      "Trial 2088: Artifacts - 0.0% (Validation: 0, Clipping: 0, Motion: 0)\n",
      "Trial 2089: Artifacts - 8.1% (Validation: 0, Clipping: 0, Motion: 182)\n"
     ]
    },
    {
     "name": "stderr",
     "output_type": "stream",
     "text": [
      "/usr/local/lib/python3.11/dist-packages/sklearn/decomposition/_fastica.py:542: FutureWarning: Starting in v1.3, whiten='unit-variance' will be used by default.\n",
      "  warnings.warn(\n"
     ]
    },
    {
     "name": "stdout",
     "output_type": "stream",
     "text": [
      "Trial 2090: Artifacts - 3.2% (Validation: 0, Clipping: 0, Motion: 71)\n"
     ]
    },
    {
     "name": "stderr",
     "output_type": "stream",
     "text": [
      "/usr/local/lib/python3.11/dist-packages/sklearn/decomposition/_fastica.py:542: FutureWarning: Starting in v1.3, whiten='unit-variance' will be used by default.\n",
      "  warnings.warn(\n"
     ]
    },
    {
     "name": "stdout",
     "output_type": "stream",
     "text": [
      "Trial 2091: Artifacts - 1.0% (Validation: 0, Clipping: 0, Motion: 22)\n",
      "Trial 2092: Artifacts - 2.0% (Validation: 0, Clipping: 0, Motion: 44)\n",
      "Trial 2093: Artifacts - 3.0% (Validation: 0, Clipping: 0, Motion: 68)\n"
     ]
    },
    {
     "name": "stderr",
     "output_type": "stream",
     "text": [
      "/usr/local/lib/python3.11/dist-packages/sklearn/decomposition/_fastica.py:542: FutureWarning: Starting in v1.3, whiten='unit-variance' will be used by default.\n",
      "  warnings.warn(\n"
     ]
    },
    {
     "name": "stdout",
     "output_type": "stream",
     "text": [
      "Trial 2094: Artifacts - 0.0% (Validation: 0, Clipping: 0, Motion: 0)\n",
      "Trial 2095: Artifacts - 0.0% (Validation: 0, Clipping: 0, Motion: 0)\n",
      "Trial 2096: Artifacts - 0.0% (Validation: 0, Clipping: 0, Motion: 0)\n",
      "Trial 2097: Artifacts - 6.3% (Validation: 0, Clipping: 0, Motion: 142)\n"
     ]
    },
    {
     "name": "stderr",
     "output_type": "stream",
     "text": [
      "/usr/local/lib/python3.11/dist-packages/sklearn/decomposition/_fastica.py:542: FutureWarning: Starting in v1.3, whiten='unit-variance' will be used by default.\n",
      "  warnings.warn(\n"
     ]
    },
    {
     "name": "stdout",
     "output_type": "stream",
     "text": [
      "Trial 2098: Artifacts - 1.0% (Validation: 0, Clipping: 0, Motion: 23)\n",
      "Trial 2099: Artifacts - 0.0% (Validation: 0, Clipping: 0, Motion: 0)\n",
      "Trial 2100: Artifacts - 15.4% (Validation: 0, Clipping: 0, Motion: 347)\n",
      "Processed 2100/4800 trials\n"
     ]
    },
    {
     "name": "stderr",
     "output_type": "stream",
     "text": [
      "/usr/local/lib/python3.11/dist-packages/sklearn/decomposition/_fastica.py:542: FutureWarning: Starting in v1.3, whiten='unit-variance' will be used by default.\n",
      "  warnings.warn(\n"
     ]
    },
    {
     "name": "stdout",
     "output_type": "stream",
     "text": [
      "Trial 2101: Artifacts - 10.6% (Validation: 0, Clipping: 0, Motion: 238)\n"
     ]
    },
    {
     "name": "stderr",
     "output_type": "stream",
     "text": [
      "/usr/local/lib/python3.11/dist-packages/sklearn/decomposition/_fastica.py:542: FutureWarning: Starting in v1.3, whiten='unit-variance' will be used by default.\n",
      "  warnings.warn(\n"
     ]
    },
    {
     "name": "stdout",
     "output_type": "stream",
     "text": [
      "Trial 2102: Artifacts - 0.0% (Validation: 0, Clipping: 0, Motion: 0)\n",
      "Trial 2103: Artifacts - 0.0% (Validation: 0, Clipping: 0, Motion: 0)\n",
      "Trial 2104: Artifacts - 0.0% (Validation: 0, Clipping: 0, Motion: 0)\n",
      "Trial 2105: Artifacts - 0.0% (Validation: 0, Clipping: 0, Motion: 0)\n",
      "Trial 2106: Artifacts - 1.5% (Validation: 0, Clipping: 0, Motion: 34)\n",
      "Trial 2107: Artifacts - 0.0% (Validation: 0, Clipping: 0, Motion: 0)\n",
      "Trial 2108: Artifacts - 1.4% (Validation: 0, Clipping: 0, Motion: 31)\n",
      "Trial 2109: Artifacts - 0.0% (Validation: 0, Clipping: 1, Motion: 0)\n",
      "Trial 2110: Artifacts - 2.3% (Validation: 0, Clipping: 0, Motion: 51)\n"
     ]
    },
    {
     "name": "stderr",
     "output_type": "stream",
     "text": [
      "/usr/local/lib/python3.11/dist-packages/sklearn/decomposition/_fastica.py:542: FutureWarning: Starting in v1.3, whiten='unit-variance' will be used by default.\n",
      "  warnings.warn(\n"
     ]
    },
    {
     "name": "stdout",
     "output_type": "stream",
     "text": [
      "Trial 2111: Artifacts - 0.2% (Validation: 0, Clipping: 0, Motion: 5)\n",
      "Trial 2112: Artifacts - 0.0% (Validation: 0, Clipping: 0, Motion: 0)\n",
      "Trial 2113: Artifacts - 2.1% (Validation: 0, Clipping: 0, Motion: 47)\n",
      "Trial 2114: Artifacts - 3.8% (Validation: 0, Clipping: 0, Motion: 86)\n"
     ]
    },
    {
     "name": "stderr",
     "output_type": "stream",
     "text": [
      "/usr/local/lib/python3.11/dist-packages/sklearn/decomposition/_fastica.py:542: FutureWarning: Starting in v1.3, whiten='unit-variance' will be used by default.\n",
      "  warnings.warn(\n"
     ]
    },
    {
     "name": "stdout",
     "output_type": "stream",
     "text": [
      "Trial 2115: Artifacts - 2.8% (Validation: 0, Clipping: 0, Motion: 64)\n"
     ]
    },
    {
     "name": "stderr",
     "output_type": "stream",
     "text": [
      "/usr/local/lib/python3.11/dist-packages/sklearn/decomposition/_fastica.py:542: FutureWarning: Starting in v1.3, whiten='unit-variance' will be used by default.\n",
      "  warnings.warn(\n"
     ]
    },
    {
     "name": "stdout",
     "output_type": "stream",
     "text": [
      "Trial 2116: Artifacts - 1.7% (Validation: 0, Clipping: 0, Motion: 38)\n",
      "Trial 2117: Artifacts - 0.0% (Validation: 0, Clipping: 0, Motion: 0)\n",
      "Trial 2118: Artifacts - 2.1% (Validation: 0, Clipping: 0, Motion: 48)\n",
      "Trial 2119: Artifacts - 0.7% (Validation: 0, Clipping: 0, Motion: 15)\n",
      "Trial 2120: Artifacts - 5.9% (Validation: 0, Clipping: 0, Motion: 133)\n"
     ]
    },
    {
     "name": "stderr",
     "output_type": "stream",
     "text": [
      "/usr/local/lib/python3.11/dist-packages/sklearn/decomposition/_fastica.py:542: FutureWarning: Starting in v1.3, whiten='unit-variance' will be used by default.\n",
      "  warnings.warn(\n"
     ]
    },
    {
     "name": "stdout",
     "output_type": "stream",
     "text": [
      "Trial 2121: Artifacts - 1.7% (Validation: 0, Clipping: 0, Motion: 39)\n",
      "Trial 2122: Artifacts - 0.0% (Validation: 0, Clipping: 0, Motion: 0)\n",
      "Trial 2123: Artifacts - 5.3% (Validation: 0, Clipping: 0, Motion: 119)\n"
     ]
    },
    {
     "name": "stderr",
     "output_type": "stream",
     "text": [
      "/usr/local/lib/python3.11/dist-packages/sklearn/decomposition/_fastica.py:542: FutureWarning: Starting in v1.3, whiten='unit-variance' will be used by default.\n",
      "  warnings.warn(\n"
     ]
    },
    {
     "name": "stdout",
     "output_type": "stream",
     "text": [
      "Trial 2124: Artifacts - 1.4% (Validation: 0, Clipping: 1, Motion: 31)\n",
      "Trial 2125: Artifacts - 3.8% (Validation: 0, Clipping: 0, Motion: 85)\n"
     ]
    },
    {
     "name": "stderr",
     "output_type": "stream",
     "text": [
      "/usr/local/lib/python3.11/dist-packages/sklearn/decomposition/_fastica.py:542: FutureWarning: Starting in v1.3, whiten='unit-variance' will be used by default.\n",
      "  warnings.warn(\n"
     ]
    },
    {
     "name": "stdout",
     "output_type": "stream",
     "text": [
      "Trial 2126: Artifacts - 13.5% (Validation: 0, Clipping: 0, Motion: 304)\n"
     ]
    },
    {
     "name": "stderr",
     "output_type": "stream",
     "text": [
      "/usr/local/lib/python3.11/dist-packages/sklearn/decomposition/_fastica.py:542: FutureWarning: Starting in v1.3, whiten='unit-variance' will be used by default.\n",
      "  warnings.warn(\n"
     ]
    },
    {
     "name": "stdout",
     "output_type": "stream",
     "text": [
      "Trial 2127: Artifacts - 0.0% (Validation: 0, Clipping: 0, Motion: 0)\n",
      "Trial 2128: Artifacts - 2.0% (Validation: 0, Clipping: 0, Motion: 45)\n",
      "Trial 2129: Artifacts - 0.0% (Validation: 0, Clipping: 0, Motion: 0)\n",
      "Trial 2130: Artifacts - 0.5% (Validation: 0, Clipping: 0, Motion: 11)\n",
      "Trial 2131: Artifacts - 3.6% (Validation: 0, Clipping: 0, Motion: 81)\n"
     ]
    },
    {
     "name": "stderr",
     "output_type": "stream",
     "text": [
      "/usr/local/lib/python3.11/dist-packages/sklearn/decomposition/_fastica.py:542: FutureWarning: Starting in v1.3, whiten='unit-variance' will be used by default.\n",
      "  warnings.warn(\n"
     ]
    },
    {
     "name": "stdout",
     "output_type": "stream",
     "text": [
      "Trial 2132: Artifacts - 1.5% (Validation: 0, Clipping: 0, Motion: 33)\n",
      "Trial 2133: Artifacts - 1.0% (Validation: 0, Clipping: 0, Motion: 23)\n",
      "Trial 2134: Artifacts - 1.2% (Validation: 0, Clipping: 1, Motion: 27)\n",
      "Trial 2135: Artifacts - 6.4% (Validation: 0, Clipping: 0, Motion: 143)\n"
     ]
    },
    {
     "name": "stderr",
     "output_type": "stream",
     "text": [
      "/usr/local/lib/python3.11/dist-packages/sklearn/decomposition/_fastica.py:542: FutureWarning: Starting in v1.3, whiten='unit-variance' will be used by default.\n",
      "  warnings.warn(\n"
     ]
    },
    {
     "name": "stdout",
     "output_type": "stream",
     "text": [
      "Trial 2136: Artifacts - 0.0% (Validation: 0, Clipping: 0, Motion: 0)\n",
      "Trial 2137: Artifacts - 6.4% (Validation: 0, Clipping: 0, Motion: 145)\n"
     ]
    },
    {
     "name": "stderr",
     "output_type": "stream",
     "text": [
      "/usr/local/lib/python3.11/dist-packages/sklearn/decomposition/_fastica.py:542: FutureWarning: Starting in v1.3, whiten='unit-variance' will be used by default.\n",
      "  warnings.warn(\n"
     ]
    },
    {
     "name": "stdout",
     "output_type": "stream",
     "text": [
      "Trial 2138: Artifacts - 10.8% (Validation: 0, Clipping: 0, Motion: 243)\n"
     ]
    },
    {
     "name": "stderr",
     "output_type": "stream",
     "text": [
      "/usr/local/lib/python3.11/dist-packages/sklearn/decomposition/_fastica.py:542: FutureWarning: Starting in v1.3, whiten='unit-variance' will be used by default.\n",
      "  warnings.warn(\n"
     ]
    },
    {
     "name": "stdout",
     "output_type": "stream",
     "text": [
      "Trial 2139: Artifacts - 2.2% (Validation: 0, Clipping: 0, Motion: 50)\n",
      "Trial 2140: Artifacts - 0.0% (Validation: 0, Clipping: 0, Motion: 0)\n",
      "Trial 2141: Artifacts - 4.9% (Validation: 0, Clipping: 0, Motion: 110)\n"
     ]
    },
    {
     "name": "stderr",
     "output_type": "stream",
     "text": [
      "/usr/local/lib/python3.11/dist-packages/sklearn/decomposition/_fastica.py:542: FutureWarning: Starting in v1.3, whiten='unit-variance' will be used by default.\n",
      "  warnings.warn(\n"
     ]
    },
    {
     "name": "stdout",
     "output_type": "stream",
     "text": [
      "Trial 2142: Artifacts - 0.8% (Validation: 0, Clipping: 0, Motion: 18)\n",
      "Trial 2143: Artifacts - 0.9% (Validation: 0, Clipping: 1, Motion: 20)\n",
      "Trial 2144: Artifacts - 0.0% (Validation: 0, Clipping: 0, Motion: 0)\n",
      "Trial 2145: Artifacts - 0.0% (Validation: 0, Clipping: 0, Motion: 0)\n",
      "Trial 2146: Artifacts - 4.4% (Validation: 0, Clipping: 0, Motion: 99)\n"
     ]
    },
    {
     "name": "stderr",
     "output_type": "stream",
     "text": [
      "/usr/local/lib/python3.11/dist-packages/sklearn/decomposition/_fastica.py:542: FutureWarning: Starting in v1.3, whiten='unit-variance' will be used by default.\n",
      "  warnings.warn(\n"
     ]
    },
    {
     "name": "stdout",
     "output_type": "stream",
     "text": [
      "Trial 2147: Artifacts - 8.4% (Validation: 0, Clipping: 0, Motion: 189)\n"
     ]
    },
    {
     "name": "stderr",
     "output_type": "stream",
     "text": [
      "/usr/local/lib/python3.11/dist-packages/sklearn/decomposition/_fastica.py:542: FutureWarning: Starting in v1.3, whiten='unit-variance' will be used by default.\n",
      "  warnings.warn(\n"
     ]
    },
    {
     "name": "stdout",
     "output_type": "stream",
     "text": [
      "Trial 2148: Artifacts - 0.0% (Validation: 0, Clipping: 0, Motion: 0)\n",
      "Trial 2149: Artifacts - 0.0% (Validation: 0, Clipping: 1, Motion: 0)\n",
      "Trial 2150: Artifacts - 3.5% (Validation: 0, Clipping: 1, Motion: 77)\n"
     ]
    },
    {
     "name": "stderr",
     "output_type": "stream",
     "text": [
      "/usr/local/lib/python3.11/dist-packages/sklearn/decomposition/_fastica.py:542: FutureWarning: Starting in v1.3, whiten='unit-variance' will be used by default.\n",
      "  warnings.warn(\n"
     ]
    },
    {
     "name": "stdout",
     "output_type": "stream",
     "text": [
      "Trial 2151: Artifacts - 12.1% (Validation: 0, Clipping: 0, Motion: 272)\n"
     ]
    },
    {
     "name": "stderr",
     "output_type": "stream",
     "text": [
      "/usr/local/lib/python3.11/dist-packages/sklearn/decomposition/_fastica.py:542: FutureWarning: Starting in v1.3, whiten='unit-variance' will be used by default.\n",
      "  warnings.warn(\n"
     ]
    },
    {
     "name": "stdout",
     "output_type": "stream",
     "text": [
      "Trial 2152: Artifacts - 14.0% (Validation: 0, Clipping: 0, Motion: 316)\n"
     ]
    },
    {
     "name": "stderr",
     "output_type": "stream",
     "text": [
      "/usr/local/lib/python3.11/dist-packages/sklearn/decomposition/_fastica.py:542: FutureWarning: Starting in v1.3, whiten='unit-variance' will be used by default.\n",
      "  warnings.warn(\n"
     ]
    },
    {
     "name": "stdout",
     "output_type": "stream",
     "text": [
      "Trial 2153: Artifacts - 1.4% (Validation: 0, Clipping: 0, Motion: 32)\n",
      "Trial 2154: Artifacts - 0.0% (Validation: 0, Clipping: 0, Motion: 0)\n",
      "Trial 2155: Artifacts - 0.0% (Validation: 0, Clipping: 1, Motion: 0)\n",
      "Trial 2156: Artifacts - 0.0% (Validation: 0, Clipping: 0, Motion: 0)\n",
      "Trial 2157: Artifacts - 0.0% (Validation: 0, Clipping: 0, Motion: 0)\n",
      "Trial 2158: Artifacts - 0.0% (Validation: 0, Clipping: 0, Motion: 0)\n",
      "Trial 2159: Artifacts - 0.0% (Validation: 0, Clipping: 0, Motion: 0)\n",
      "Trial 2160: Artifacts - 0.0% (Validation: 0, Clipping: 0, Motion: 0)\n",
      "Trial 2161: Artifacts - 13.7% (Validation: 0, Clipping: 0, Motion: 308)\n"
     ]
    },
    {
     "name": "stderr",
     "output_type": "stream",
     "text": [
      "/usr/local/lib/python3.11/dist-packages/sklearn/decomposition/_fastica.py:542: FutureWarning: Starting in v1.3, whiten='unit-variance' will be used by default.\n",
      "  warnings.warn(\n"
     ]
    },
    {
     "name": "stdout",
     "output_type": "stream",
     "text": [
      "Trial 2162: Artifacts - 1.8% (Validation: 0, Clipping: 0, Motion: 40)\n",
      "Trial 2163: Artifacts - 4.0% (Validation: 0, Clipping: 1, Motion: 89)\n"
     ]
    },
    {
     "name": "stderr",
     "output_type": "stream",
     "text": [
      "/usr/local/lib/python3.11/dist-packages/sklearn/decomposition/_fastica.py:542: FutureWarning: Starting in v1.3, whiten='unit-variance' will be used by default.\n",
      "  warnings.warn(\n"
     ]
    },
    {
     "name": "stdout",
     "output_type": "stream",
     "text": [
      "Trial 2164: Artifacts - 6.8% (Validation: 0, Clipping: 0, Motion: 154)\n"
     ]
    },
    {
     "name": "stderr",
     "output_type": "stream",
     "text": [
      "/usr/local/lib/python3.11/dist-packages/sklearn/decomposition/_fastica.py:542: FutureWarning: Starting in v1.3, whiten='unit-variance' will be used by default.\n",
      "  warnings.warn(\n"
     ]
    },
    {
     "name": "stdout",
     "output_type": "stream",
     "text": [
      "Trial 2165: Artifacts - 3.2% (Validation: 0, Clipping: 0, Motion: 73)\n"
     ]
    },
    {
     "name": "stderr",
     "output_type": "stream",
     "text": [
      "/usr/local/lib/python3.11/dist-packages/sklearn/decomposition/_fastica.py:542: FutureWarning: Starting in v1.3, whiten='unit-variance' will be used by default.\n",
      "  warnings.warn(\n"
     ]
    },
    {
     "name": "stdout",
     "output_type": "stream",
     "text": [
      "Trial 2166: Artifacts - 0.0% (Validation: 0, Clipping: 1, Motion: 0)\n",
      "Trial 2167: Artifacts - 0.0% (Validation: 0, Clipping: 1, Motion: 0)\n",
      "Trial 2168: Artifacts - 3.0% (Validation: 0, Clipping: 0, Motion: 68)\n"
     ]
    },
    {
     "name": "stderr",
     "output_type": "stream",
     "text": [
      "/usr/local/lib/python3.11/dist-packages/sklearn/decomposition/_fastica.py:542: FutureWarning: Starting in v1.3, whiten='unit-variance' will be used by default.\n",
      "  warnings.warn(\n"
     ]
    },
    {
     "name": "stdout",
     "output_type": "stream",
     "text": [
      "Trial 2169: Artifacts - 0.0% (Validation: 0, Clipping: 1, Motion: 0)\n",
      "Trial 2170: Artifacts - 0.0% (Validation: 0, Clipping: 0, Motion: 0)\n",
      "Trial 2171: Artifacts - 10.9% (Validation: 0, Clipping: 0, Motion: 245)\n"
     ]
    },
    {
     "name": "stderr",
     "output_type": "stream",
     "text": [
      "/usr/local/lib/python3.11/dist-packages/sklearn/decomposition/_fastica.py:542: FutureWarning: Starting in v1.3, whiten='unit-variance' will be used by default.\n",
      "  warnings.warn(\n"
     ]
    },
    {
     "name": "stdout",
     "output_type": "stream",
     "text": [
      "Trial 2172: Artifacts - 1.0% (Validation: 0, Clipping: 1, Motion: 21)\n",
      "Trial 2173: Artifacts - 0.9% (Validation: 0, Clipping: 1, Motion: 19)\n",
      "Trial 2174: Artifacts - 7.0% (Validation: 0, Clipping: 0, Motion: 158)\n"
     ]
    },
    {
     "name": "stderr",
     "output_type": "stream",
     "text": [
      "/usr/local/lib/python3.11/dist-packages/sklearn/decomposition/_fastica.py:542: FutureWarning: Starting in v1.3, whiten='unit-variance' will be used by default.\n",
      "  warnings.warn(\n"
     ]
    },
    {
     "name": "stdout",
     "output_type": "stream",
     "text": [
      "Trial 2175: Artifacts - 0.0% (Validation: 0, Clipping: 0, Motion: 0)\n",
      "Trial 2176: Artifacts - 14.0% (Validation: 0, Clipping: 0, Motion: 316)\n"
     ]
    },
    {
     "name": "stderr",
     "output_type": "stream",
     "text": [
      "/usr/local/lib/python3.11/dist-packages/sklearn/decomposition/_fastica.py:542: FutureWarning: Starting in v1.3, whiten='unit-variance' will be used by default.\n",
      "  warnings.warn(\n"
     ]
    },
    {
     "name": "stdout",
     "output_type": "stream",
     "text": [
      "Trial 2177: Artifacts - 0.0% (Validation: 0, Clipping: 1, Motion: 0)\n",
      "Trial 2178: Artifacts - 5.2% (Validation: 0, Clipping: 0, Motion: 116)\n"
     ]
    },
    {
     "name": "stderr",
     "output_type": "stream",
     "text": [
      "/usr/local/lib/python3.11/dist-packages/sklearn/decomposition/_fastica.py:542: FutureWarning: Starting in v1.3, whiten='unit-variance' will be used by default.\n",
      "  warnings.warn(\n"
     ]
    },
    {
     "name": "stdout",
     "output_type": "stream",
     "text": [
      "Trial 2179: Artifacts - 4.8% (Validation: 0, Clipping: 0, Motion: 108)\n"
     ]
    },
    {
     "name": "stderr",
     "output_type": "stream",
     "text": [
      "/usr/local/lib/python3.11/dist-packages/sklearn/decomposition/_fastica.py:542: FutureWarning: Starting in v1.3, whiten='unit-variance' will be used by default.\n",
      "  warnings.warn(\n"
     ]
    },
    {
     "name": "stdout",
     "output_type": "stream",
     "text": [
      "Trial 2180: Artifacts - 3.4% (Validation: 0, Clipping: 1, Motion: 76)\n"
     ]
    },
    {
     "name": "stderr",
     "output_type": "stream",
     "text": [
      "/usr/local/lib/python3.11/dist-packages/sklearn/decomposition/_fastica.py:542: FutureWarning: Starting in v1.3, whiten='unit-variance' will be used by default.\n",
      "  warnings.warn(\n"
     ]
    },
    {
     "name": "stdout",
     "output_type": "stream",
     "text": [
      "Trial 2181: Artifacts - 5.2% (Validation: 0, Clipping: 0, Motion: 118)\n"
     ]
    },
    {
     "name": "stderr",
     "output_type": "stream",
     "text": [
      "/usr/local/lib/python3.11/dist-packages/sklearn/decomposition/_fastica.py:542: FutureWarning: Starting in v1.3, whiten='unit-variance' will be used by default.\n",
      "  warnings.warn(\n"
     ]
    },
    {
     "name": "stdout",
     "output_type": "stream",
     "text": [
      "Trial 2182: Artifacts - 3.5% (Validation: 0, Clipping: 0, Motion: 79)\n"
     ]
    },
    {
     "name": "stderr",
     "output_type": "stream",
     "text": [
      "/usr/local/lib/python3.11/dist-packages/sklearn/decomposition/_fastica.py:542: FutureWarning: Starting in v1.3, whiten='unit-variance' will be used by default.\n",
      "  warnings.warn(\n"
     ]
    },
    {
     "name": "stdout",
     "output_type": "stream",
     "text": [
      "Trial 2183: Artifacts - 0.0% (Validation: 0, Clipping: 1, Motion: 0)\n",
      "Trial 2184: Artifacts - 0.0% (Validation: 0, Clipping: 0, Motion: 0)\n",
      "Trial 2185: Artifacts - 1.5% (Validation: 0, Clipping: 0, Motion: 34)\n",
      "Trial 2186: Artifacts - 0.8% (Validation: 0, Clipping: 0, Motion: 18)\n",
      "Trial 2187: Artifacts - 3.8% (Validation: 0, Clipping: 0, Motion: 85)\n"
     ]
    },
    {
     "name": "stderr",
     "output_type": "stream",
     "text": [
      "/usr/local/lib/python3.11/dist-packages/sklearn/decomposition/_fastica.py:542: FutureWarning: Starting in v1.3, whiten='unit-variance' will be used by default.\n",
      "  warnings.warn(\n"
     ]
    },
    {
     "name": "stdout",
     "output_type": "stream",
     "text": [
      "Trial 2188: Artifacts - 1.1% (Validation: 0, Clipping: 0, Motion: 25)\n",
      "Trial 2189: Artifacts - 0.0% (Validation: 0, Clipping: 0, Motion: 0)\n",
      "Trial 2190: Artifacts - 0.9% (Validation: 0, Clipping: 0, Motion: 20)\n",
      "Trial 2191: Artifacts - 7.9% (Validation: 0, Clipping: 1, Motion: 177)\n"
     ]
    },
    {
     "name": "stderr",
     "output_type": "stream",
     "text": [
      "/usr/local/lib/python3.11/dist-packages/sklearn/decomposition/_fastica.py:542: FutureWarning: Starting in v1.3, whiten='unit-variance' will be used by default.\n",
      "  warnings.warn(\n"
     ]
    },
    {
     "name": "stdout",
     "output_type": "stream",
     "text": [
      "Trial 2192: Artifacts - 3.1% (Validation: 0, Clipping: 0, Motion: 69)\n",
      "Trial 2193: Artifacts - 8.2% (Validation: 23, Clipping: 0, Motion: 162)\n"
     ]
    },
    {
     "name": "stderr",
     "output_type": "stream",
     "text": [
      "/usr/local/lib/python3.11/dist-packages/sklearn/decomposition/_fastica.py:542: FutureWarning: Starting in v1.3, whiten='unit-variance' will be used by default.\n",
      "  warnings.warn(\n",
      "/usr/local/lib/python3.11/dist-packages/sklearn/decomposition/_fastica.py:542: FutureWarning: Starting in v1.3, whiten='unit-variance' will be used by default.\n",
      "  warnings.warn(\n",
      "/usr/local/lib/python3.11/dist-packages/sklearn/decomposition/_fastica.py:542: FutureWarning: Starting in v1.3, whiten='unit-variance' will be used by default.\n",
      "  warnings.warn(\n"
     ]
    },
    {
     "name": "stdout",
     "output_type": "stream",
     "text": [
      "Trial 2194: Artifacts - 11.6% (Validation: 188, Clipping: 14, Motion: 72)\n",
      "REJECTING trial 2195: 30.6% artifacts\n",
      "REJECTING trial 2196: 65.1% artifacts\n",
      "REJECTING trial 2197: 41.7% artifacts\n",
      "REJECTING trial 2198: 46.7% artifacts\n",
      "Trial 2199: Artifacts - 19.5% (Validation: 339, Clipping: 48, Motion: 98)\n"
     ]
    },
    {
     "name": "stderr",
     "output_type": "stream",
     "text": [
      "/usr/local/lib/python3.11/dist-packages/sklearn/decomposition/_fastica.py:542: FutureWarning: Starting in v1.3, whiten='unit-variance' will be used by default.\n",
      "  warnings.warn(\n"
     ]
    },
    {
     "name": "stdout",
     "output_type": "stream",
     "text": [
      "Trial 2200: Artifacts - 0.4% (Validation: 0, Clipping: 0, Motion: 8)\n",
      "Processed 2200/4800 trials\n",
      "Trial 2201: Artifacts - 4.4% (Validation: 27, Clipping: 0, Motion: 73)\n"
     ]
    },
    {
     "name": "stderr",
     "output_type": "stream",
     "text": [
      "/usr/local/lib/python3.11/dist-packages/sklearn/decomposition/_fastica.py:542: FutureWarning: Starting in v1.3, whiten='unit-variance' will be used by default.\n",
      "  warnings.warn(\n"
     ]
    },
    {
     "name": "stdout",
     "output_type": "stream",
     "text": [
      "Trial 2202: Artifacts - 1.2% (Validation: 27, Clipping: 0, Motion: 0)\n",
      "Trial 2203: Artifacts - 0.0% (Validation: 0, Clipping: 0, Motion: 0)\n",
      "Trial 2204: Artifacts - 0.0% (Validation: 0, Clipping: 1, Motion: 0)\n",
      "Trial 2205: Artifacts - 0.0% (Validation: 0, Clipping: 0, Motion: 0)\n",
      "Trial 2206: Artifacts - 3.4% (Validation: 11, Clipping: 11, Motion: 65)\n"
     ]
    },
    {
     "name": "stderr",
     "output_type": "stream",
     "text": [
      "/usr/local/lib/python3.11/dist-packages/sklearn/decomposition/_fastica.py:542: FutureWarning: Starting in v1.3, whiten='unit-variance' will be used by default.\n",
      "  warnings.warn(\n"
     ]
    },
    {
     "name": "stdout",
     "output_type": "stream",
     "text": [
      "Trial 2207: Artifacts - 5.6% (Validation: 106, Clipping: 59, Motion: 19)\n",
      "Trial 2208: Artifacts - 0.0% (Validation: 0, Clipping: 0, Motion: 0)\n",
      "Trial 2209: Artifacts - 3.9% (Validation: 0, Clipping: 0, Motion: 87)\n"
     ]
    },
    {
     "name": "stderr",
     "output_type": "stream",
     "text": [
      "/usr/local/lib/python3.11/dist-packages/sklearn/decomposition/_fastica.py:542: FutureWarning: Starting in v1.3, whiten='unit-variance' will be used by default.\n",
      "  warnings.warn(\n"
     ]
    },
    {
     "name": "stdout",
     "output_type": "stream",
     "text": [
      "Trial 2210: Artifacts - 0.0% (Validation: 0, Clipping: 0, Motion: 1)\n",
      "Trial 2211: Artifacts - 0.0% (Validation: 0, Clipping: 0, Motion: 0)\n",
      "Trial 2212: Artifacts - 0.0% (Validation: 0, Clipping: 1, Motion: 0)\n",
      "Trial 2213: Artifacts - 5.2% (Validation: 7, Clipping: 7, Motion: 109)\n"
     ]
    },
    {
     "name": "stderr",
     "output_type": "stream",
     "text": [
      "/usr/local/lib/python3.11/dist-packages/sklearn/decomposition/_fastica.py:542: FutureWarning: Starting in v1.3, whiten='unit-variance' will be used by default.\n",
      "  warnings.warn(\n"
     ]
    },
    {
     "name": "stdout",
     "output_type": "stream",
     "text": [
      "Trial 2214: Artifacts - 3.5% (Validation: 0, Clipping: 1, Motion: 77)\n"
     ]
    },
    {
     "name": "stderr",
     "output_type": "stream",
     "text": [
      "/usr/local/lib/python3.11/dist-packages/sklearn/decomposition/_fastica.py:542: FutureWarning: Starting in v1.3, whiten='unit-variance' will be used by default.\n",
      "  warnings.warn(\n"
     ]
    },
    {
     "name": "stdout",
     "output_type": "stream",
     "text": [
      "Trial 2215: Artifacts - 0.0% (Validation: 0, Clipping: 0, Motion: 0)\n",
      "REJECTING trial 2216: 49.3% artifacts\n",
      "REJECTING trial 2217: 28.5% artifacts\n",
      "Trial 2218: Artifacts - 11.3% (Validation: 0, Clipping: 0, Motion: 255)\n"
     ]
    },
    {
     "name": "stderr",
     "output_type": "stream",
     "text": [
      "/usr/local/lib/python3.11/dist-packages/sklearn/decomposition/_fastica.py:542: FutureWarning: Starting in v1.3, whiten='unit-variance' will be used by default.\n",
      "  warnings.warn(\n"
     ]
    },
    {
     "name": "stdout",
     "output_type": "stream",
     "text": [
      "Trial 2219: Artifacts - 11.2% (Validation: 0, Clipping: 0, Motion: 251)\n"
     ]
    },
    {
     "name": "stderr",
     "output_type": "stream",
     "text": [
      "/usr/local/lib/python3.11/dist-packages/sklearn/decomposition/_fastica.py:542: FutureWarning: Starting in v1.3, whiten='unit-variance' will be used by default.\n",
      "  warnings.warn(\n"
     ]
    },
    {
     "name": "stdout",
     "output_type": "stream",
     "text": [
      "Trial 2220: Artifacts - 6.0% (Validation: 18, Clipping: 1, Motion: 122)\n"
     ]
    },
    {
     "name": "stderr",
     "output_type": "stream",
     "text": [
      "/usr/local/lib/python3.11/dist-packages/sklearn/decomposition/_fastica.py:542: FutureWarning: Starting in v1.3, whiten='unit-variance' will be used by default.\n",
      "  warnings.warn(\n"
     ]
    },
    {
     "name": "stdout",
     "output_type": "stream",
     "text": [
      "Trial 2221: Artifacts - 0.9% (Validation: 0, Clipping: 0, Motion: 21)\n",
      "Trial 2222: Artifacts - 0.0% (Validation: 0, Clipping: 0, Motion: 0)\n",
      "Trial 2223: Artifacts - 0.0% (Validation: 0, Clipping: 0, Motion: 0)\n",
      "Trial 2224: Artifacts - 0.0% (Validation: 0, Clipping: 1, Motion: 0)\n",
      "Trial 2225: Artifacts - 0.0% (Validation: 0, Clipping: 0, Motion: 0)\n",
      "Trial 2226: Artifacts - 0.0% (Validation: 0, Clipping: 0, Motion: 0)\n",
      "Trial 2227: Artifacts - 0.8% (Validation: 0, Clipping: 0, Motion: 18)\n",
      "Trial 2228: Artifacts - 0.0% (Validation: 0, Clipping: 0, Motion: 0)\n",
      "Trial 2229: Artifacts - 0.0% (Validation: 0, Clipping: 0, Motion: 0)\n",
      "Trial 2230: Artifacts - 0.0% (Validation: 0, Clipping: 0, Motion: 0)\n",
      "Trial 2231: Artifacts - 1.9% (Validation: 0, Clipping: 0, Motion: 42)\n",
      "Trial 2232: Artifacts - 10.9% (Validation: 0, Clipping: 0, Motion: 246)\n"
     ]
    },
    {
     "name": "stderr",
     "output_type": "stream",
     "text": [
      "/usr/local/lib/python3.11/dist-packages/sklearn/decomposition/_fastica.py:542: FutureWarning: Starting in v1.3, whiten='unit-variance' will be used by default.\n",
      "  warnings.warn(\n"
     ]
    },
    {
     "name": "stdout",
     "output_type": "stream",
     "text": [
      "Trial 2233: Artifacts - 0.0% (Validation: 0, Clipping: 1, Motion: 0)\n",
      "Trial 2234: Artifacts - 0.0% (Validation: 0, Clipping: 1, Motion: 0)\n",
      "Trial 2235: Artifacts - 0.0% (Validation: 0, Clipping: 0, Motion: 0)\n",
      "Trial 2236: Artifacts - 3.6% (Validation: 0, Clipping: 0, Motion: 81)\n"
     ]
    },
    {
     "name": "stderr",
     "output_type": "stream",
     "text": [
      "/usr/local/lib/python3.11/dist-packages/sklearn/decomposition/_fastica.py:542: FutureWarning: Starting in v1.3, whiten='unit-variance' will be used by default.\n",
      "  warnings.warn(\n"
     ]
    },
    {
     "name": "stdout",
     "output_type": "stream",
     "text": [
      "Trial 2237: Artifacts - 2.7% (Validation: 0, Clipping: 0, Motion: 61)\n"
     ]
    },
    {
     "name": "stderr",
     "output_type": "stream",
     "text": [
      "/usr/local/lib/python3.11/dist-packages/sklearn/decomposition/_fastica.py:542: FutureWarning: Starting in v1.3, whiten='unit-variance' will be used by default.\n",
      "  warnings.warn(\n"
     ]
    },
    {
     "name": "stdout",
     "output_type": "stream",
     "text": [
      "Trial 2238: Artifacts - 7.7% (Validation: 0, Clipping: 0, Motion: 174)\n"
     ]
    },
    {
     "name": "stderr",
     "output_type": "stream",
     "text": [
      "/usr/local/lib/python3.11/dist-packages/sklearn/decomposition/_fastica.py:542: FutureWarning: Starting in v1.3, whiten='unit-variance' will be used by default.\n",
      "  warnings.warn(\n"
     ]
    },
    {
     "name": "stdout",
     "output_type": "stream",
     "text": [
      "Trial 2239: Artifacts - 0.0% (Validation: 0, Clipping: 0, Motion: 0)\n",
      "Trial 2240: Artifacts - 3.4% (Validation: 0, Clipping: 0, Motion: 77)\n"
     ]
    },
    {
     "name": "stderr",
     "output_type": "stream",
     "text": [
      "/usr/local/lib/python3.11/dist-packages/sklearn/decomposition/_fastica.py:542: FutureWarning: Starting in v1.3, whiten='unit-variance' will be used by default.\n",
      "  warnings.warn(\n"
     ]
    },
    {
     "name": "stdout",
     "output_type": "stream",
     "text": [
      "Trial 2241: Artifacts - 3.3% (Validation: 8, Clipping: 0, Motion: 66)\n"
     ]
    },
    {
     "name": "stderr",
     "output_type": "stream",
     "text": [
      "/usr/local/lib/python3.11/dist-packages/sklearn/decomposition/_fastica.py:542: FutureWarning: Starting in v1.3, whiten='unit-variance' will be used by default.\n",
      "  warnings.warn(\n"
     ]
    },
    {
     "name": "stdout",
     "output_type": "stream",
     "text": [
      "Trial 2242: Artifacts - 12.5% (Validation: 268, Clipping: 3, Motion: 13)\n",
      "Trial 2243: Artifacts - 10.8% (Validation: 244, Clipping: 32, Motion: 0)\n",
      "Trial 2244: Artifacts - 24.9% (Validation: 441, Clipping: 1, Motion: 130)\n"
     ]
    },
    {
     "name": "stderr",
     "output_type": "stream",
     "text": [
      "/usr/local/lib/python3.11/dist-packages/sklearn/decomposition/_fastica.py:542: FutureWarning: Starting in v1.3, whiten='unit-variance' will be used by default.\n",
      "  warnings.warn(\n"
     ]
    },
    {
     "name": "stdout",
     "output_type": "stream",
     "text": [
      "Trial 2245: Artifacts - 14.3% (Validation: 196, Clipping: 1, Motion: 124)\n"
     ]
    },
    {
     "name": "stderr",
     "output_type": "stream",
     "text": [
      "/usr/local/lib/python3.11/dist-packages/sklearn/decomposition/_fastica.py:542: FutureWarning: Starting in v1.3, whiten='unit-variance' will be used by default.\n",
      "  warnings.warn(\n"
     ]
    },
    {
     "name": "stdout",
     "output_type": "stream",
     "text": [
      "Trial 2246: Artifacts - 0.1% (Validation: 0, Clipping: 0, Motion: 3)\n",
      "Trial 2247: Artifacts - 9.7% (Validation: 157, Clipping: 22, Motion: 60)\n"
     ]
    },
    {
     "name": "stderr",
     "output_type": "stream",
     "text": [
      "/usr/local/lib/python3.11/dist-packages/sklearn/decomposition/_fastica.py:542: FutureWarning: Starting in v1.3, whiten='unit-variance' will be used by default.\n",
      "  warnings.warn(\n"
     ]
    },
    {
     "name": "stdout",
     "output_type": "stream",
     "text": [
      "Trial 2248: Artifacts - 4.8% (Validation: 51, Clipping: 0, Motion: 56)\n"
     ]
    },
    {
     "name": "stderr",
     "output_type": "stream",
     "text": [
      "/usr/local/lib/python3.11/dist-packages/sklearn/decomposition/_fastica.py:542: FutureWarning: Starting in v1.3, whiten='unit-variance' will be used by default.\n",
      "  warnings.warn(\n"
     ]
    },
    {
     "name": "stdout",
     "output_type": "stream",
     "text": [
      "Trial 2249: Artifacts - 3.8% (Validation: 74, Clipping: 27, Motion: 12)\n",
      "Trial 2250: Artifacts - 7.4% (Validation: 106, Clipping: 0, Motion: 60)\n"
     ]
    },
    {
     "name": "stderr",
     "output_type": "stream",
     "text": [
      "/usr/local/lib/python3.11/dist-packages/sklearn/decomposition/_fastica.py:542: FutureWarning: Starting in v1.3, whiten='unit-variance' will be used by default.\n",
      "  warnings.warn(\n"
     ]
    },
    {
     "name": "stdout",
     "output_type": "stream",
     "text": [
      "Trial 2251: Artifacts - 16.3% (Validation: 171, Clipping: 0, Motion: 195)\n"
     ]
    },
    {
     "name": "stderr",
     "output_type": "stream",
     "text": [
      "/usr/local/lib/python3.11/dist-packages/sklearn/decomposition/_fastica.py:542: FutureWarning: Starting in v1.3, whiten='unit-variance' will be used by default.\n",
      "  warnings.warn(\n"
     ]
    },
    {
     "name": "stdout",
     "output_type": "stream",
     "text": [
      "Trial 2252: Artifacts - 5.1% (Validation: 96, Clipping: 1, Motion: 17)\n",
      "Trial 2253: Artifacts - 6.5% (Validation: 146, Clipping: 15, Motion: 0)\n",
      "Trial 2254: Artifacts - 10.8% (Validation: 165, Clipping: 0, Motion: 158)\n"
     ]
    },
    {
     "name": "stderr",
     "output_type": "stream",
     "text": [
      "/usr/local/lib/python3.11/dist-packages/sklearn/decomposition/_fastica.py:542: FutureWarning: Starting in v1.3, whiten='unit-variance' will be used by default.\n",
      "  warnings.warn(\n"
     ]
    },
    {
     "name": "stdout",
     "output_type": "stream",
     "text": [
      "Trial 2255: Artifacts - 3.8% (Validation: 41, Clipping: 0, Motion: 45)\n",
      "Trial 2256: Artifacts - 0.6% (Validation: 0, Clipping: 0, Motion: 14)\n",
      "Trial 2257: Artifacts - 0.6% (Validation: 0, Clipping: 0, Motion: 13)\n",
      "Trial 2258: Artifacts - 0.6% (Validation: 0, Clipping: 1, Motion: 13)\n",
      "Trial 2259: Artifacts - 7.5% (Validation: 0, Clipping: 0, Motion: 168)\n"
     ]
    },
    {
     "name": "stderr",
     "output_type": "stream",
     "text": [
      "/usr/local/lib/python3.11/dist-packages/sklearn/decomposition/_fastica.py:542: FutureWarning: Starting in v1.3, whiten='unit-variance' will be used by default.\n",
      "  warnings.warn(\n"
     ]
    },
    {
     "name": "stdout",
     "output_type": "stream",
     "text": [
      "Trial 2260: Artifacts - 16.7% (Validation: 175, Clipping: 12, Motion: 200)\n"
     ]
    },
    {
     "name": "stderr",
     "output_type": "stream",
     "text": [
      "/usr/local/lib/python3.11/dist-packages/sklearn/decomposition/_fastica.py:542: FutureWarning: Starting in v1.3, whiten='unit-variance' will be used by default.\n",
      "  warnings.warn(\n"
     ]
    },
    {
     "name": "stdout",
     "output_type": "stream",
     "text": [
      "Trial 2261: Artifacts - 1.3% (Validation: 0, Clipping: 0, Motion: 29)\n",
      "Trial 2262: Artifacts - 0.0% (Validation: 0, Clipping: 0, Motion: 0)\n",
      "Trial 2263: Artifacts - 0.9% (Validation: 0, Clipping: 0, Motion: 21)\n",
      "Trial 2264: Artifacts - 1.7% (Validation: 0, Clipping: 0, Motion: 39)\n",
      "Trial 2265: Artifacts - 3.2% (Validation: 0, Clipping: 0, Motion: 71)\n"
     ]
    },
    {
     "name": "stderr",
     "output_type": "stream",
     "text": [
      "/usr/local/lib/python3.11/dist-packages/sklearn/decomposition/_fastica.py:542: FutureWarning: Starting in v1.3, whiten='unit-variance' will be used by default.\n",
      "  warnings.warn(\n"
     ]
    },
    {
     "name": "stdout",
     "output_type": "stream",
     "text": [
      "Trial 2266: Artifacts - 0.0% (Validation: 0, Clipping: 0, Motion: 0)\n",
      "Trial 2267: Artifacts - 0.0% (Validation: 0, Clipping: 0, Motion: 0)\n",
      "Trial 2268: Artifacts - 0.0% (Validation: 0, Clipping: 0, Motion: 0)\n",
      "Trial 2269: Artifacts - 0.1% (Validation: 0, Clipping: 0, Motion: 2)\n",
      "Trial 2270: Artifacts - 1.9% (Validation: 0, Clipping: 0, Motion: 43)\n",
      "Trial 2271: Artifacts - 0.0% (Validation: 0, Clipping: 0, Motion: 0)\n",
      "Trial 2272: Artifacts - 0.3% (Validation: 0, Clipping: 0, Motion: 7)\n",
      "Trial 2273: Artifacts - 0.0% (Validation: 0, Clipping: 1, Motion: 0)\n",
      "Trial 2274: Artifacts - 0.1% (Validation: 0, Clipping: 0, Motion: 3)\n",
      "Trial 2275: Artifacts - 0.0% (Validation: 0, Clipping: 0, Motion: 0)\n",
      "Trial 2276: Artifacts - 0.7% (Validation: 0, Clipping: 0, Motion: 15)\n",
      "Trial 2277: Artifacts - 1.7% (Validation: 0, Clipping: 0, Motion: 38)\n",
      "Trial 2278: Artifacts - 1.3% (Validation: 0, Clipping: 0, Motion: 30)\n",
      "Trial 2279: Artifacts - 1.1% (Validation: 0, Clipping: 0, Motion: 24)\n",
      "Trial 2280: Artifacts - 2.0% (Validation: 0, Clipping: 0, Motion: 44)\n",
      "REJECTING trial 2281: 33.7% artifacts\n",
      "REJECTING trial 2282: 43.7% artifacts\n",
      "REJECTING trial 2283: 35.1% artifacts\n",
      "Trial 2284: Artifacts - 16.0% (Validation: 359, Clipping: 86, Motion: 0)\n",
      "Trial 2285: Artifacts - 0.0% (Validation: 0, Clipping: 1, Motion: 0)\n",
      "Trial 2286: Artifacts - 10.6% (Validation: 238, Clipping: 46, Motion: 0)\n",
      "Trial 2287: Artifacts - 18.5% (Validation: 416, Clipping: 108, Motion: 0)\n",
      "Trial 2288: Artifacts - 9.2% (Validation: 208, Clipping: 75, Motion: 0)\n",
      "Trial 2289: Artifacts - 7.8% (Validation: 176, Clipping: 1, Motion: 0)\n",
      "Trial 2290: Artifacts - 1.2% (Validation: 0, Clipping: 0, Motion: 27)\n",
      "Trial 2291: Artifacts - 0.0% (Validation: 0, Clipping: 0, Motion: 0)\n",
      "Trial 2292: Artifacts - 0.1% (Validation: 0, Clipping: 0, Motion: 2)\n",
      "Trial 2293: Artifacts - 0.0% (Validation: 0, Clipping: 0, Motion: 0)\n",
      "Trial 2294: Artifacts - 0.0% (Validation: 0, Clipping: 0, Motion: 0)\n",
      "Trial 2295: Artifacts - 2.7% (Validation: 0, Clipping: 1, Motion: 59)\n"
     ]
    },
    {
     "name": "stderr",
     "output_type": "stream",
     "text": [
      "/usr/local/lib/python3.11/dist-packages/sklearn/decomposition/_fastica.py:542: FutureWarning: Starting in v1.3, whiten='unit-variance' will be used by default.\n",
      "  warnings.warn(\n",
      "/usr/local/lib/python3.11/dist-packages/sklearn/decomposition/_fastica.py:123: ConvergenceWarning: FastICA did not converge. Consider increasing tolerance or the maximum number of iterations.\n",
      "  warnings.warn(\n"
     ]
    },
    {
     "name": "stdout",
     "output_type": "stream",
     "text": [
      "Trial 2296: Artifacts - 0.0% (Validation: 0, Clipping: 0, Motion: 0)\n",
      "Trial 2297: Artifacts - 2.4% (Validation: 0, Clipping: 0, Motion: 53)\n"
     ]
    },
    {
     "name": "stderr",
     "output_type": "stream",
     "text": [
      "/usr/local/lib/python3.11/dist-packages/sklearn/decomposition/_fastica.py:542: FutureWarning: Starting in v1.3, whiten='unit-variance' will be used by default.\n",
      "  warnings.warn(\n"
     ]
    },
    {
     "name": "stdout",
     "output_type": "stream",
     "text": [
      "Trial 2298: Artifacts - 4.8% (Validation: 0, Clipping: 0, Motion: 107)\n"
     ]
    },
    {
     "name": "stderr",
     "output_type": "stream",
     "text": [
      "/usr/local/lib/python3.11/dist-packages/sklearn/decomposition/_fastica.py:542: FutureWarning: Starting in v1.3, whiten='unit-variance' will be used by default.\n",
      "  warnings.warn(\n"
     ]
    },
    {
     "name": "stdout",
     "output_type": "stream",
     "text": [
      "Trial 2299: Artifacts - 0.0% (Validation: 0, Clipping: 0, Motion: 0)\n",
      "Trial 2300: Artifacts - 0.7% (Validation: 0, Clipping: 0, Motion: 15)\n",
      "Processed 2300/4800 trials\n",
      "Trial 2301: Artifacts - 7.4% (Validation: 0, Clipping: 0, Motion: 167)\n"
     ]
    },
    {
     "name": "stderr",
     "output_type": "stream",
     "text": [
      "/usr/local/lib/python3.11/dist-packages/sklearn/decomposition/_fastica.py:542: FutureWarning: Starting in v1.3, whiten='unit-variance' will be used by default.\n",
      "  warnings.warn(\n"
     ]
    },
    {
     "name": "stdout",
     "output_type": "stream",
     "text": [
      "Trial 2302: Artifacts - 1.7% (Validation: 0, Clipping: 1, Motion: 37)\n",
      "Trial 2303: Artifacts - 0.0% (Validation: 0, Clipping: 0, Motion: 0)\n",
      "Trial 2304: Artifacts - 0.2% (Validation: 0, Clipping: 1, Motion: 3)\n",
      "Trial 2305: Artifacts - 0.0% (Validation: 0, Clipping: 0, Motion: 0)\n",
      "Trial 2306: Artifacts - 0.0% (Validation: 0, Clipping: 0, Motion: 0)\n",
      "Trial 2307: Artifacts - 0.0% (Validation: 0, Clipping: 0, Motion: 0)\n",
      "Trial 2308: Artifacts - 0.0% (Validation: 0, Clipping: 0, Motion: 0)\n",
      "Trial 2309: Artifacts - 0.0% (Validation: 0, Clipping: 0, Motion: 0)\n",
      "Trial 2310: Artifacts - 7.6% (Validation: 0, Clipping: 0, Motion: 171)\n"
     ]
    },
    {
     "name": "stderr",
     "output_type": "stream",
     "text": [
      "/usr/local/lib/python3.11/dist-packages/sklearn/decomposition/_fastica.py:542: FutureWarning: Starting in v1.3, whiten='unit-variance' will be used by default.\n",
      "  warnings.warn(\n"
     ]
    },
    {
     "name": "stdout",
     "output_type": "stream",
     "text": [
      "Trial 2311: Artifacts - 1.0% (Validation: 0, Clipping: 0, Motion: 23)\n",
      "Trial 2312: Artifacts - 0.9% (Validation: 0, Clipping: 1, Motion: 20)\n",
      "Trial 2313: Artifacts - 0.0% (Validation: 0, Clipping: 0, Motion: 0)\n",
      "Trial 2314: Artifacts - 3.4% (Validation: 0, Clipping: 0, Motion: 76)\n"
     ]
    },
    {
     "name": "stderr",
     "output_type": "stream",
     "text": [
      "/usr/local/lib/python3.11/dist-packages/sklearn/decomposition/_fastica.py:542: FutureWarning: Starting in v1.3, whiten='unit-variance' will be used by default.\n",
      "  warnings.warn(\n"
     ]
    },
    {
     "name": "stdout",
     "output_type": "stream",
     "text": [
      "Trial 2315: Artifacts - 1.7% (Validation: 0, Clipping: 0, Motion: 39)\n",
      "Trial 2316: Artifacts - 0.0% (Validation: 0, Clipping: 0, Motion: 0)\n",
      "Trial 2317: Artifacts - 2.0% (Validation: 0, Clipping: 0, Motion: 46)\n",
      "Trial 2318: Artifacts - 3.4% (Validation: 0, Clipping: 0, Motion: 76)\n"
     ]
    },
    {
     "name": "stderr",
     "output_type": "stream",
     "text": [
      "/usr/local/lib/python3.11/dist-packages/sklearn/decomposition/_fastica.py:542: FutureWarning: Starting in v1.3, whiten='unit-variance' will be used by default.\n",
      "  warnings.warn(\n"
     ]
    },
    {
     "name": "stdout",
     "output_type": "stream",
     "text": [
      "Trial 2319: Artifacts - 3.6% (Validation: 0, Clipping: 0, Motion: 82)\n"
     ]
    },
    {
     "name": "stderr",
     "output_type": "stream",
     "text": [
      "/usr/local/lib/python3.11/dist-packages/sklearn/decomposition/_fastica.py:542: FutureWarning: Starting in v1.3, whiten='unit-variance' will be used by default.\n",
      "  warnings.warn(\n"
     ]
    },
    {
     "name": "stdout",
     "output_type": "stream",
     "text": [
      "Trial 2320: Artifacts - 0.2% (Validation: 0, Clipping: 0, Motion: 5)\n",
      "Trial 2321: Artifacts - 14.2% (Validation: 309, Clipping: 1, Motion: 10)\n",
      "Trial 2322: Artifacts - 9.0% (Validation: 201, Clipping: 13, Motion: 0)\n",
      "REJECTING trial 2323: 26.4% artifacts\n",
      "Trial 2324: Artifacts - 14.3% (Validation: 230, Clipping: 24, Motion: 191)\n"
     ]
    },
    {
     "name": "stderr",
     "output_type": "stream",
     "text": [
      "/usr/local/lib/python3.11/dist-packages/sklearn/decomposition/_fastica.py:542: FutureWarning: Starting in v1.3, whiten='unit-variance' will be used by default.\n",
      "  warnings.warn(\n"
     ]
    },
    {
     "name": "stdout",
     "output_type": "stream",
     "text": [
      "Trial 2325: Artifacts - 21.2% (Validation: 466, Clipping: 60, Motion: 10)\n",
      "Trial 2326: Artifacts - 0.8% (Validation: 0, Clipping: 0, Motion: 19)\n",
      "Trial 2327: Artifacts - 12.0% (Validation: 210, Clipping: 25, Motion: 58)\n"
     ]
    },
    {
     "name": "stderr",
     "output_type": "stream",
     "text": [
      "/usr/local/lib/python3.11/dist-packages/sklearn/decomposition/_fastica.py:542: FutureWarning: Starting in v1.3, whiten='unit-variance' will be used by default.\n",
      "  warnings.warn(\n"
     ]
    },
    {
     "name": "stdout",
     "output_type": "stream",
     "text": [
      "Trial 2328: Artifacts - 7.4% (Validation: 166, Clipping: 35, Motion: 0)\n",
      "Trial 2329: Artifacts - 14.3% (Validation: 318, Clipping: 39, Motion: 3)\n",
      "Trial 2330: Artifacts - 20.4% (Validation: 372, Clipping: 9, Motion: 101)\n"
     ]
    },
    {
     "name": "stderr",
     "output_type": "stream",
     "text": [
      "/usr/local/lib/python3.11/dist-packages/sklearn/decomposition/_fastica.py:542: FutureWarning: Starting in v1.3, whiten='unit-variance' will be used by default.\n",
      "  warnings.warn(\n"
     ]
    },
    {
     "name": "stdout",
     "output_type": "stream",
     "text": [
      "Trial 2331: Artifacts - 12.8% (Validation: 183, Clipping: 0, Motion: 105)\n"
     ]
    },
    {
     "name": "stderr",
     "output_type": "stream",
     "text": [
      "/usr/local/lib/python3.11/dist-packages/sklearn/decomposition/_fastica.py:542: FutureWarning: Starting in v1.3, whiten='unit-variance' will be used by default.\n",
      "  warnings.warn(\n"
     ]
    },
    {
     "name": "stdout",
     "output_type": "stream",
     "text": [
      "Trial 2332: Artifacts - 18.4% (Validation: 320, Clipping: 0, Motion: 105)\n"
     ]
    },
    {
     "name": "stderr",
     "output_type": "stream",
     "text": [
      "/usr/local/lib/python3.11/dist-packages/sklearn/decomposition/_fastica.py:542: FutureWarning: Starting in v1.3, whiten='unit-variance' will be used by default.\n",
      "  warnings.warn(\n"
     ]
    },
    {
     "name": "stdout",
     "output_type": "stream",
     "text": [
      "Trial 2333: Artifacts - 18.3% (Validation: 162, Clipping: 0, Motion: 268)\n"
     ]
    },
    {
     "name": "stderr",
     "output_type": "stream",
     "text": [
      "/usr/local/lib/python3.11/dist-packages/sklearn/decomposition/_fastica.py:542: FutureWarning: Starting in v1.3, whiten='unit-variance' will be used by default.\n",
      "  warnings.warn(\n"
     ]
    },
    {
     "name": "stdout",
     "output_type": "stream",
     "text": [
      "Trial 2334: Artifacts - 16.8% (Validation: 378, Clipping: 84, Motion: 0)\n",
      "Trial 2335: Artifacts - 2.4% (Validation: 28, Clipping: 0, Motion: 26)\n",
      "Trial 2336: Artifacts - 1.7% (Validation: 0, Clipping: 0, Motion: 38)\n",
      "Trial 2337: Artifacts - 6.2% (Validation: 83, Clipping: 1, Motion: 55)\n"
     ]
    },
    {
     "name": "stderr",
     "output_type": "stream",
     "text": [
      "/usr/local/lib/python3.11/dist-packages/sklearn/decomposition/_fastica.py:542: FutureWarning: Starting in v1.3, whiten='unit-variance' will be used by default.\n",
      "  warnings.warn(\n"
     ]
    },
    {
     "name": "stdout",
     "output_type": "stream",
     "text": [
      "Trial 2338: Artifacts - 0.3% (Validation: 0, Clipping: 1, Motion: 6)\n",
      "Trial 2339: Artifacts - 1.5% (Validation: 32, Clipping: 1, Motion: 0)\n",
      "Trial 2340: Artifacts - 9.6% (Validation: 216, Clipping: 1, Motion: 0)\n",
      "Trial 2341: Artifacts - 11.5% (Validation: 218, Clipping: 15, Motion: 40)\n",
      "Trial 2342: Artifacts - 10.3% (Validation: 94, Clipping: 0, Motion: 146)\n"
     ]
    },
    {
     "name": "stderr",
     "output_type": "stream",
     "text": [
      "/usr/local/lib/python3.11/dist-packages/sklearn/decomposition/_fastica.py:542: FutureWarning: Starting in v1.3, whiten='unit-variance' will be used by default.\n",
      "  warnings.warn(\n"
     ]
    },
    {
     "name": "stdout",
     "output_type": "stream",
     "text": [
      "Trial 2343: Artifacts - 3.2% (Validation: 0, Clipping: 0, Motion: 72)\n"
     ]
    },
    {
     "name": "stderr",
     "output_type": "stream",
     "text": [
      "/usr/local/lib/python3.11/dist-packages/sklearn/decomposition/_fastica.py:542: FutureWarning: Starting in v1.3, whiten='unit-variance' will be used by default.\n",
      "  warnings.warn(\n"
     ]
    },
    {
     "name": "stdout",
     "output_type": "stream",
     "text": [
      "Trial 2344: Artifacts - 8.0% (Validation: 181, Clipping: 0, Motion: 0)\n",
      "Trial 2345: Artifacts - 21.0% (Validation: 429, Clipping: 0, Motion: 47)\n",
      "Trial 2346: Artifacts - 9.7% (Validation: 218, Clipping: 0, Motion: 0)\n",
      "Trial 2347: Artifacts - 10.9% (Validation: 246, Clipping: 11, Motion: 0)\n",
      "Trial 2348: Artifacts - 7.5% (Validation: 71, Clipping: 1, Motion: 97)\n"
     ]
    },
    {
     "name": "stderr",
     "output_type": "stream",
     "text": [
      "/usr/local/lib/python3.11/dist-packages/sklearn/decomposition/_fastica.py:542: FutureWarning: Starting in v1.3, whiten='unit-variance' will be used by default.\n",
      "  warnings.warn(\n"
     ]
    },
    {
     "name": "stdout",
     "output_type": "stream",
     "text": [
      "Trial 2349: Artifacts - 10.4% (Validation: 186, Clipping: 5, Motion: 48)\n",
      "Trial 2350: Artifacts - 8.7% (Validation: 86, Clipping: 0, Motion: 110)\n"
     ]
    },
    {
     "name": "stderr",
     "output_type": "stream",
     "text": [
      "/usr/local/lib/python3.11/dist-packages/sklearn/decomposition/_fastica.py:542: FutureWarning: Starting in v1.3, whiten='unit-variance' will be used by default.\n",
      "  warnings.warn(\n"
     ]
    },
    {
     "name": "stdout",
     "output_type": "stream",
     "text": [
      "Trial 2351: Artifacts - 9.3% (Validation: 107, Clipping: 0, Motion: 103)\n"
     ]
    },
    {
     "name": "stderr",
     "output_type": "stream",
     "text": [
      "/usr/local/lib/python3.11/dist-packages/sklearn/decomposition/_fastica.py:542: FutureWarning: Starting in v1.3, whiten='unit-variance' will be used by default.\n",
      "  warnings.warn(\n"
     ]
    },
    {
     "name": "stdout",
     "output_type": "stream",
     "text": [
      "Trial 2352: Artifacts - 17.2% (Validation: 268, Clipping: 0, Motion: 118)\n"
     ]
    },
    {
     "name": "stderr",
     "output_type": "stream",
     "text": [
      "/usr/local/lib/python3.11/dist-packages/sklearn/decomposition/_fastica.py:542: FutureWarning: Starting in v1.3, whiten='unit-variance' will be used by default.\n",
      "  warnings.warn(\n"
     ]
    },
    {
     "name": "stdout",
     "output_type": "stream",
     "text": [
      "Trial 2353: Artifacts - 12.7% (Validation: 286, Clipping: 10, Motion: 0)\n",
      "Trial 2354: Artifacts - 6.9% (Validation: 155, Clipping: 0, Motion: 0)\n",
      "Trial 2355: Artifacts - 12.8% (Validation: 206, Clipping: 0, Motion: 81)\n"
     ]
    },
    {
     "name": "stderr",
     "output_type": "stream",
     "text": [
      "/usr/local/lib/python3.11/dist-packages/sklearn/decomposition/_fastica.py:542: FutureWarning: Starting in v1.3, whiten='unit-variance' will be used by default.\n",
      "  warnings.warn(\n"
     ]
    },
    {
     "name": "stdout",
     "output_type": "stream",
     "text": [
      "Trial 2356: Artifacts - 6.9% (Validation: 38, Clipping: 0, Motion: 118)\n"
     ]
    },
    {
     "name": "stderr",
     "output_type": "stream",
     "text": [
      "/usr/local/lib/python3.11/dist-packages/sklearn/decomposition/_fastica.py:542: FutureWarning: Starting in v1.3, whiten='unit-variance' will be used by default.\n",
      "  warnings.warn(\n"
     ]
    },
    {
     "name": "stdout",
     "output_type": "stream",
     "text": [
      "Trial 2357: Artifacts - 11.3% (Validation: 128, Clipping: 0, Motion: 127)\n",
      "Trial 2358: Artifacts - 9.8% (Validation: 32, Clipping: 0, Motion: 189)\n"
     ]
    },
    {
     "name": "stderr",
     "output_type": "stream",
     "text": [
      "/usr/local/lib/python3.11/dist-packages/sklearn/decomposition/_fastica.py:542: FutureWarning: Starting in v1.3, whiten='unit-variance' will be used by default.\n",
      "  warnings.warn(\n",
      "/usr/local/lib/python3.11/dist-packages/sklearn/decomposition/_fastica.py:542: FutureWarning: Starting in v1.3, whiten='unit-variance' will be used by default.\n",
      "  warnings.warn(\n"
     ]
    },
    {
     "name": "stdout",
     "output_type": "stream",
     "text": [
      "Trial 2359: Artifacts - 6.8% (Validation: 154, Clipping: 0, Motion: 0)\n",
      "Trial 2360: Artifacts - 11.1% (Validation: 223, Clipping: 0, Motion: 27)\n",
      "Trial 2361: Artifacts - 15.5% (Validation: 306, Clipping: 0, Motion: 43)\n",
      "Trial 2362: Artifacts - 12.6% (Validation: 266, Clipping: 0, Motion: 49)\n",
      "Trial 2363: Artifacts - 9.0% (Validation: 101, Clipping: 0, Motion: 124)\n"
     ]
    },
    {
     "name": "stderr",
     "output_type": "stream",
     "text": [
      "/usr/local/lib/python3.11/dist-packages/sklearn/decomposition/_fastica.py:542: FutureWarning: Starting in v1.3, whiten='unit-variance' will be used by default.\n",
      "  warnings.warn(\n"
     ]
    },
    {
     "name": "stdout",
     "output_type": "stream",
     "text": [
      "Trial 2364: Artifacts - 7.3% (Validation: 164, Clipping: 0, Motion: 0)\n",
      "Trial 2365: Artifacts - 10.2% (Validation: 152, Clipping: 7, Motion: 77)\n"
     ]
    },
    {
     "name": "stderr",
     "output_type": "stream",
     "text": [
      "/usr/local/lib/python3.11/dist-packages/sklearn/decomposition/_fastica.py:542: FutureWarning: Starting in v1.3, whiten='unit-variance' will be used by default.\n",
      "  warnings.warn(\n"
     ]
    },
    {
     "name": "stdout",
     "output_type": "stream",
     "text": [
      "Trial 2366: Artifacts - 8.5% (Validation: 0, Clipping: 0, Motion: 192)\n"
     ]
    },
    {
     "name": "stderr",
     "output_type": "stream",
     "text": [
      "/usr/local/lib/python3.11/dist-packages/sklearn/decomposition/_fastica.py:542: FutureWarning: Starting in v1.3, whiten='unit-variance' will be used by default.\n",
      "  warnings.warn(\n"
     ]
    },
    {
     "name": "stdout",
     "output_type": "stream",
     "text": [
      "Trial 2367: Artifacts - 7.9% (Validation: 0, Clipping: 0, Motion: 178)\n"
     ]
    },
    {
     "name": "stderr",
     "output_type": "stream",
     "text": [
      "/usr/local/lib/python3.11/dist-packages/sklearn/decomposition/_fastica.py:542: FutureWarning: Starting in v1.3, whiten='unit-variance' will be used by default.\n",
      "  warnings.warn(\n"
     ]
    },
    {
     "name": "stdout",
     "output_type": "stream",
     "text": [
      "Trial 2368: Artifacts - 1.1% (Validation: 0, Clipping: 0, Motion: 25)\n",
      "Trial 2369: Artifacts - 5.8% (Validation: 113, Clipping: 11, Motion: 17)\n",
      "Trial 2370: Artifacts - 11.1% (Validation: 93, Clipping: 17, Motion: 156)\n"
     ]
    },
    {
     "name": "stderr",
     "output_type": "stream",
     "text": [
      "/usr/local/lib/python3.11/dist-packages/sklearn/decomposition/_fastica.py:542: FutureWarning: Starting in v1.3, whiten='unit-variance' will be used by default.\n",
      "  warnings.warn(\n"
     ]
    },
    {
     "name": "stdout",
     "output_type": "stream",
     "text": [
      "Trial 2371: Artifacts - 3.6% (Validation: 61, Clipping: 0, Motion: 42)\n",
      "Trial 2372: Artifacts - 1.9% (Validation: 0, Clipping: 0, Motion: 43)\n",
      "Trial 2373: Artifacts - 7.7% (Validation: 173, Clipping: 37, Motion: 0)\n",
      "Trial 2374: Artifacts - 18.4% (Validation: 323, Clipping: 54, Motion: 90)\n"
     ]
    },
    {
     "name": "stderr",
     "output_type": "stream",
     "text": [
      "/usr/local/lib/python3.11/dist-packages/sklearn/decomposition/_fastica.py:542: FutureWarning: Starting in v1.3, whiten='unit-variance' will be used by default.\n",
      "  warnings.warn(\n"
     ]
    },
    {
     "name": "stdout",
     "output_type": "stream",
     "text": [
      "Trial 2375: Artifacts - 18.7% (Validation: 276, Clipping: 37, Motion: 145)\n"
     ]
    },
    {
     "name": "stderr",
     "output_type": "stream",
     "text": [
      "/usr/local/lib/python3.11/dist-packages/sklearn/decomposition/_fastica.py:542: FutureWarning: Starting in v1.3, whiten='unit-variance' will be used by default.\n",
      "  warnings.warn(\n"
     ]
    },
    {
     "name": "stdout",
     "output_type": "stream",
     "text": [
      "Trial 2376: Artifacts - 8.6% (Validation: 193, Clipping: 0, Motion: 0)\n",
      "Trial 2377: Artifacts - 17.4% (Validation: 344, Clipping: 1, Motion: 47)\n",
      "Trial 2378: Artifacts - 17.4% (Validation: 321, Clipping: 15, Motion: 71)\n"
     ]
    },
    {
     "name": "stderr",
     "output_type": "stream",
     "text": [
      "/usr/local/lib/python3.11/dist-packages/sklearn/decomposition/_fastica.py:542: FutureWarning: Starting in v1.3, whiten='unit-variance' will be used by default.\n",
      "  warnings.warn(\n"
     ]
    },
    {
     "name": "stdout",
     "output_type": "stream",
     "text": [
      "Trial 2379: Artifacts - 9.1% (Validation: 188, Clipping: 0, Motion: 16)\n",
      "Trial 2380: Artifacts - 10.5% (Validation: 236, Clipping: 36, Motion: 0)\n",
      "Trial 2381: Artifacts - 19.1% (Validation: 269, Clipping: 21, Motion: 205)\n"
     ]
    },
    {
     "name": "stderr",
     "output_type": "stream",
     "text": [
      "/usr/local/lib/python3.11/dist-packages/sklearn/decomposition/_fastica.py:542: FutureWarning: Starting in v1.3, whiten='unit-variance' will be used by default.\n",
      "  warnings.warn(\n"
     ]
    },
    {
     "name": "stdout",
     "output_type": "stream",
     "text": [
      "Trial 2382: Artifacts - 19.8% (Validation: 417, Clipping: 43, Motion: 56)\n"
     ]
    },
    {
     "name": "stderr",
     "output_type": "stream",
     "text": [
      "/usr/local/lib/python3.11/dist-packages/sklearn/decomposition/_fastica.py:542: FutureWarning: Starting in v1.3, whiten='unit-variance' will be used by default.\n",
      "  warnings.warn(\n"
     ]
    },
    {
     "name": "stdout",
     "output_type": "stream",
     "text": [
      "Trial 2383: Artifacts - 21.5% (Validation: 233, Clipping: 29, Motion: 291)\n"
     ]
    },
    {
     "name": "stderr",
     "output_type": "stream",
     "text": [
      "/usr/local/lib/python3.11/dist-packages/sklearn/decomposition/_fastica.py:542: FutureWarning: Starting in v1.3, whiten='unit-variance' will be used by default.\n",
      "  warnings.warn(\n"
     ]
    },
    {
     "name": "stdout",
     "output_type": "stream",
     "text": [
      "Trial 2384: Artifacts - 23.1% (Validation: 337, Clipping: 40, Motion: 226)\n"
     ]
    },
    {
     "name": "stderr",
     "output_type": "stream",
     "text": [
      "/usr/local/lib/python3.11/dist-packages/sklearn/decomposition/_fastica.py:542: FutureWarning: Starting in v1.3, whiten='unit-variance' will be used by default.\n",
      "  warnings.warn(\n"
     ]
    },
    {
     "name": "stdout",
     "output_type": "stream",
     "text": [
      "Trial 2385: Artifacts - 11.4% (Validation: 254, Clipping: 0, Motion: 2)\n",
      "Trial 2386: Artifacts - 8.2% (Validation: 91, Clipping: 0, Motion: 94)\n"
     ]
    },
    {
     "name": "stderr",
     "output_type": "stream",
     "text": [
      "/usr/local/lib/python3.11/dist-packages/sklearn/decomposition/_fastica.py:542: FutureWarning: Starting in v1.3, whiten='unit-variance' will be used by default.\n",
      "  warnings.warn(\n"
     ]
    },
    {
     "name": "stdout",
     "output_type": "stream",
     "text": [
      "Trial 2387: Artifacts - 7.2% (Validation: 65, Clipping: 41, Motion: 98)\n"
     ]
    },
    {
     "name": "stderr",
     "output_type": "stream",
     "text": [
      "/usr/local/lib/python3.11/dist-packages/sklearn/decomposition/_fastica.py:542: FutureWarning: Starting in v1.3, whiten='unit-variance' will be used by default.\n",
      "  warnings.warn(\n"
     ]
    },
    {
     "name": "stdout",
     "output_type": "stream",
     "text": [
      "Trial 2388: Artifacts - 8.4% (Validation: 103, Clipping: 0, Motion: 86)\n"
     ]
    },
    {
     "name": "stderr",
     "output_type": "stream",
     "text": [
      "/usr/local/lib/python3.11/dist-packages/sklearn/decomposition/_fastica.py:542: FutureWarning: Starting in v1.3, whiten='unit-variance' will be used by default.\n",
      "  warnings.warn(\n"
     ]
    },
    {
     "name": "stdout",
     "output_type": "stream",
     "text": [
      "Trial 2389: Artifacts - 2.3% (Validation: 0, Clipping: 0, Motion: 51)\n"
     ]
    },
    {
     "name": "stderr",
     "output_type": "stream",
     "text": [
      "/usr/local/lib/python3.11/dist-packages/sklearn/decomposition/_fastica.py:542: FutureWarning: Starting in v1.3, whiten='unit-variance' will be used by default.\n",
      "  warnings.warn(\n"
     ]
    },
    {
     "name": "stdout",
     "output_type": "stream",
     "text": [
      "Trial 2390: Artifacts - 12.0% (Validation: 255, Clipping: 0, Motion: 22)\n",
      "Trial 2391: Artifacts - 14.6% (Validation: 188, Clipping: 16, Motion: 179)\n"
     ]
    },
    {
     "name": "stderr",
     "output_type": "stream",
     "text": [
      "/usr/local/lib/python3.11/dist-packages/sklearn/decomposition/_fastica.py:542: FutureWarning: Starting in v1.3, whiten='unit-variance' will be used by default.\n",
      "  warnings.warn(\n"
     ]
    },
    {
     "name": "stdout",
     "output_type": "stream",
     "text": [
      "Trial 2392: Artifacts - 18.0% (Validation: 215, Clipping: 9, Motion: 189)\n"
     ]
    },
    {
     "name": "stderr",
     "output_type": "stream",
     "text": [
      "/usr/local/lib/python3.11/dist-packages/sklearn/decomposition/_fastica.py:542: FutureWarning: Starting in v1.3, whiten='unit-variance' will be used by default.\n",
      "  warnings.warn(\n"
     ]
    },
    {
     "name": "stdout",
     "output_type": "stream",
     "text": [
      "Trial 2393: Artifacts - 10.6% (Validation: 70, Clipping: 1, Motion: 170)\n"
     ]
    },
    {
     "name": "stderr",
     "output_type": "stream",
     "text": [
      "/usr/local/lib/python3.11/dist-packages/sklearn/decomposition/_fastica.py:542: FutureWarning: Starting in v1.3, whiten='unit-variance' will be used by default.\n",
      "  warnings.warn(\n"
     ]
    },
    {
     "name": "stdout",
     "output_type": "stream",
     "text": [
      "Trial 2394: Artifacts - 8.1% (Validation: 103, Clipping: 23, Motion: 80)\n"
     ]
    },
    {
     "name": "stderr",
     "output_type": "stream",
     "text": [
      "/usr/local/lib/python3.11/dist-packages/sklearn/decomposition/_fastica.py:542: FutureWarning: Starting in v1.3, whiten='unit-variance' will be used by default.\n",
      "  warnings.warn(\n"
     ]
    },
    {
     "name": "stdout",
     "output_type": "stream",
     "text": [
      "Trial 2395: Artifacts - 9.1% (Validation: 50, Clipping: 0, Motion: 162)\n"
     ]
    },
    {
     "name": "stderr",
     "output_type": "stream",
     "text": [
      "/usr/local/lib/python3.11/dist-packages/sklearn/decomposition/_fastica.py:542: FutureWarning: Starting in v1.3, whiten='unit-variance' will be used by default.\n",
      "  warnings.warn(\n"
     ]
    },
    {
     "name": "stdout",
     "output_type": "stream",
     "text": [
      "Trial 2396: Artifacts - 8.8% (Validation: 198, Clipping: 1, Motion: 0)\n",
      "Trial 2397: Artifacts - 15.9% (Validation: 322, Clipping: 0, Motion: 35)\n",
      "Trial 2398: Artifacts - 11.8% (Validation: 265, Clipping: 7, Motion: 0)\n",
      "Trial 2399: Artifacts - 22.5% (Validation: 276, Clipping: 14, Motion: 231)\n"
     ]
    },
    {
     "name": "stderr",
     "output_type": "stream",
     "text": [
      "/usr/local/lib/python3.11/dist-packages/sklearn/decomposition/_fastica.py:542: FutureWarning: Starting in v1.3, whiten='unit-variance' will be used by default.\n",
      "  warnings.warn(\n"
     ]
    },
    {
     "name": "stdout",
     "output_type": "stream",
     "text": [
      "Trial 2400: Artifacts - 10.6% (Validation: 139, Clipping: 0, Motion: 99)\n",
      "Processed 2400/4800 trials\n"
     ]
    },
    {
     "name": "stderr",
     "output_type": "stream",
     "text": [
      "/usr/local/lib/python3.11/dist-packages/sklearn/decomposition/_fastica.py:542: FutureWarning: Starting in v1.3, whiten='unit-variance' will be used by default.\n",
      "  warnings.warn(\n"
     ]
    },
    {
     "name": "stdout",
     "output_type": "stream",
     "text": [
      "Trial 2401: Artifacts - 0.2% (Validation: 3, Clipping: 0, Motion: 0)\n",
      "Trial 2402: Artifacts - 3.4% (Validation: 2, Clipping: 0, Motion: 58)\n"
     ]
    },
    {
     "name": "stderr",
     "output_type": "stream",
     "text": [
      "/usr/local/lib/python3.11/dist-packages/sklearn/decomposition/_fastica.py:542: FutureWarning: Starting in v1.3, whiten='unit-variance' will be used by default.\n",
      "  warnings.warn(\n"
     ]
    },
    {
     "name": "stdout",
     "output_type": "stream",
     "text": [
      "Trial 2403: Artifacts - 0.0% (Validation: 0, Clipping: 0, Motion: 0)\n",
      "Trial 2404: Artifacts - 0.1% (Validation: 0, Clipping: 1, Motion: 0)\n",
      "Trial 2405: Artifacts - 0.0% (Validation: 0, Clipping: 0, Motion: 0)\n",
      "Trial 2406: Artifacts - 0.1% (Validation: 0, Clipping: 2, Motion: 0)\n",
      "Trial 2407: Artifacts - 1.3% (Validation: 0, Clipping: 1, Motion: 22)\n",
      "Trial 2408: Artifacts - 0.0% (Validation: 0, Clipping: 0, Motion: 0)\n",
      "Trial 2409: Artifacts - 0.0% (Validation: 0, Clipping: 0, Motion: 0)\n",
      "Trial 2410: Artifacts - 0.0% (Validation: 0, Clipping: 0, Motion: 0)\n",
      "Trial 2411: Artifacts - 0.6% (Validation: 0, Clipping: 1, Motion: 10)\n",
      "Trial 2412: Artifacts - 0.1% (Validation: 0, Clipping: 1, Motion: 0)\n",
      "Trial 2413: Artifacts - 0.1% (Validation: 0, Clipping: 1, Motion: 0)\n",
      "Trial 2414: Artifacts - 0.0% (Validation: 0, Clipping: 0, Motion: 0)\n",
      "Trial 2415: Artifacts - 9.8% (Validation: 172, Clipping: 0, Motion: 0)\n",
      "Trial 2416: Artifacts - 3.0% (Validation: 0, Clipping: 0, Motion: 53)\n"
     ]
    },
    {
     "name": "stderr",
     "output_type": "stream",
     "text": [
      "/usr/local/lib/python3.11/dist-packages/sklearn/decomposition/_fastica.py:542: FutureWarning: Starting in v1.3, whiten='unit-variance' will be used by default.\n",
      "  warnings.warn(\n"
     ]
    },
    {
     "name": "stdout",
     "output_type": "stream",
     "text": [
      "Trial 2417: Artifacts - 0.1% (Validation: 0, Clipping: 1, Motion: 0)\n",
      "Trial 2418: Artifacts - 5.7% (Validation: 0, Clipping: 1, Motion: 99)\n"
     ]
    },
    {
     "name": "stderr",
     "output_type": "stream",
     "text": [
      "/usr/local/lib/python3.11/dist-packages/sklearn/decomposition/_fastica.py:542: FutureWarning: Starting in v1.3, whiten='unit-variance' will be used by default.\n",
      "  warnings.warn(\n",
      "/usr/local/lib/python3.11/dist-packages/sklearn/decomposition/_fastica.py:542: FutureWarning: Starting in v1.3, whiten='unit-variance' will be used by default.\n",
      "  warnings.warn(\n"
     ]
    },
    {
     "name": "stdout",
     "output_type": "stream",
     "text": [
      "Trial 2419: Artifacts - 3.7% (Validation: 0, Clipping: 1, Motion: 63)\n",
      "Trial 2420: Artifacts - 0.1% (Validation: 0, Clipping: 1, Motion: 0)\n",
      "Trial 2421: Artifacts - 7.9% (Validation: 0, Clipping: 1, Motion: 139)\n",
      "Trial 2422: Artifacts - 8.3% (Validation: 0, Clipping: 1, Motion: 145)\n"
     ]
    },
    {
     "name": "stderr",
     "output_type": "stream",
     "text": [
      "/usr/local/lib/python3.11/dist-packages/sklearn/decomposition/_fastica.py:542: FutureWarning: Starting in v1.3, whiten='unit-variance' will be used by default.\n",
      "  warnings.warn(\n",
      "/usr/local/lib/python3.11/dist-packages/sklearn/decomposition/_fastica.py:542: FutureWarning: Starting in v1.3, whiten='unit-variance' will be used by default.\n",
      "  warnings.warn(\n"
     ]
    },
    {
     "name": "stdout",
     "output_type": "stream",
     "text": [
      "Trial 2423: Artifacts - 7.0% (Validation: 0, Clipping: 1, Motion: 122)\n"
     ]
    },
    {
     "name": "stderr",
     "output_type": "stream",
     "text": [
      "/usr/local/lib/python3.11/dist-packages/sklearn/decomposition/_fastica.py:542: FutureWarning: Starting in v1.3, whiten='unit-variance' will be used by default.\n",
      "  warnings.warn(\n"
     ]
    },
    {
     "name": "stdout",
     "output_type": "stream",
     "text": [
      "Trial 2424: Artifacts - 4.5% (Validation: 70, Clipping: 29, Motion: 8)\n",
      "Trial 2425: Artifacts - 0.1% (Validation: 0, Clipping: 1, Motion: 0)\n",
      "Trial 2426: Artifacts - 0.1% (Validation: 0, Clipping: 1, Motion: 0)\n",
      "Trial 2427: Artifacts - 1.4% (Validation: 0, Clipping: 1, Motion: 23)\n",
      "Trial 2428: Artifacts - 4.7% (Validation: 82, Clipping: 1, Motion: 0)\n",
      "Trial 2429: Artifacts - 0.0% (Validation: 0, Clipping: 0, Motion: 0)\n",
      "Trial 2430: Artifacts - 0.0% (Validation: 0, Clipping: 0, Motion: 0)\n",
      "Trial 2431: Artifacts - 2.7% (Validation: 0, Clipping: 0, Motion: 48)\n",
      "Trial 2432: Artifacts - 5.7% (Validation: 100, Clipping: 25, Motion: 0)\n",
      "Trial 2433: Artifacts - 1.4% (Validation: 0, Clipping: 0, Motion: 25)\n",
      "Trial 2434: Artifacts - 0.0% (Validation: 0, Clipping: 0, Motion: 0)\n",
      "Trial 2435: Artifacts - 0.0% (Validation: 0, Clipping: 0, Motion: 0)\n",
      "Trial 2436: Artifacts - 1.9% (Validation: 0, Clipping: 1, Motion: 33)\n",
      "Trial 2437: Artifacts - 1.2% (Validation: 0, Clipping: 0, Motion: 21)\n",
      "Trial 2438: Artifacts - 0.1% (Validation: 0, Clipping: 1, Motion: 0)\n",
      "Trial 2439: Artifacts - 1.1% (Validation: 0, Clipping: 0, Motion: 20)\n",
      "Trial 2440: Artifacts - 0.0% (Validation: 0, Clipping: 0, Motion: 0)\n",
      "Trial 2441: Artifacts - 5.3% (Validation: 0, Clipping: 0, Motion: 92)\n"
     ]
    },
    {
     "name": "stderr",
     "output_type": "stream",
     "text": [
      "/usr/local/lib/python3.11/dist-packages/sklearn/decomposition/_fastica.py:542: FutureWarning: Starting in v1.3, whiten='unit-variance' will be used by default.\n",
      "  warnings.warn(\n",
      "/usr/local/lib/python3.11/dist-packages/sklearn/decomposition/_fastica.py:542: FutureWarning: Starting in v1.3, whiten='unit-variance' will be used by default.\n",
      "  warnings.warn(\n"
     ]
    },
    {
     "name": "stdout",
     "output_type": "stream",
     "text": [
      "Trial 2442: Artifacts - 6.0% (Validation: 0, Clipping: 1, Motion: 104)\n",
      "Trial 2443: Artifacts - 4.2% (Validation: 71, Clipping: 1, Motion: 3)\n",
      "Trial 2444: Artifacts - 5.9% (Validation: 0, Clipping: 1, Motion: 103)\n"
     ]
    },
    {
     "name": "stderr",
     "output_type": "stream",
     "text": [
      "/usr/local/lib/python3.11/dist-packages/sklearn/decomposition/_fastica.py:542: FutureWarning: Starting in v1.3, whiten='unit-variance' will be used by default.\n",
      "  warnings.warn(\n"
     ]
    },
    {
     "name": "stdout",
     "output_type": "stream",
     "text": [
      "Trial 2445: Artifacts - 0.1% (Validation: 0, Clipping: 1, Motion: 0)\n",
      "Trial 2446: Artifacts - 0.3% (Validation: 0, Clipping: 1, Motion: 5)\n",
      "Trial 2447: Artifacts - 0.1% (Validation: 0, Clipping: 1, Motion: 0)\n",
      "Trial 2448: Artifacts - 0.0% (Validation: 0, Clipping: 0, Motion: 0)\n",
      "Trial 2449: Artifacts - 0.1% (Validation: 0, Clipping: 1, Motion: 0)\n",
      "Trial 2450: Artifacts - 1.8% (Validation: 0, Clipping: 1, Motion: 30)\n",
      "Trial 2451: Artifacts - 5.4% (Validation: 0, Clipping: 0, Motion: 94)\n",
      "Trial 2452: Artifacts - 3.6% (Validation: 0, Clipping: 0, Motion: 63)\n"
     ]
    },
    {
     "name": "stderr",
     "output_type": "stream",
     "text": [
      "/usr/local/lib/python3.11/dist-packages/sklearn/decomposition/_fastica.py:542: FutureWarning: Starting in v1.3, whiten='unit-variance' will be used by default.\n",
      "  warnings.warn(\n",
      "/usr/local/lib/python3.11/dist-packages/sklearn/decomposition/_fastica.py:542: FutureWarning: Starting in v1.3, whiten='unit-variance' will be used by default.\n",
      "  warnings.warn(\n"
     ]
    },
    {
     "name": "stdout",
     "output_type": "stream",
     "text": [
      "Trial 2453: Artifacts - 0.0% (Validation: 0, Clipping: 0, Motion: 0)\n",
      "Trial 2454: Artifacts - 0.0% (Validation: 0, Clipping: 0, Motion: 0)\n",
      "Trial 2455: Artifacts - 0.3% (Validation: 0, Clipping: 0, Motion: 5)\n",
      "Trial 2456: Artifacts - 7.1% (Validation: 101, Clipping: 0, Motion: 23)\n",
      "Trial 2457: Artifacts - 0.0% (Validation: 0, Clipping: 0, Motion: 0)\n",
      "Trial 2458: Artifacts - 0.0% (Validation: 0, Clipping: 0, Motion: 0)\n",
      "Trial 2459: Artifacts - 0.0% (Validation: 0, Clipping: 0, Motion: 0)\n",
      "Trial 2460: Artifacts - 0.1% (Validation: 0, Clipping: 1, Motion: 0)\n",
      "Trial 2461: Artifacts - 9.5% (Validation: 0, Clipping: 0, Motion: 167)\n",
      "Trial 2462: Artifacts - 0.0% (Validation: 0, Clipping: 0, Motion: 0)\n"
     ]
    },
    {
     "name": "stderr",
     "output_type": "stream",
     "text": [
      "/usr/local/lib/python3.11/dist-packages/sklearn/decomposition/_fastica.py:542: FutureWarning: Starting in v1.3, whiten='unit-variance' will be used by default.\n",
      "  warnings.warn(\n"
     ]
    },
    {
     "name": "stdout",
     "output_type": "stream",
     "text": [
      "Trial 2463: Artifacts - 0.0% (Validation: 0, Clipping: 0, Motion: 0)\n",
      "Trial 2464: Artifacts - 0.0% (Validation: 0, Clipping: 0, Motion: 0)\n",
      "Trial 2465: Artifacts - 0.1% (Validation: 0, Clipping: 1, Motion: 0)\n",
      "Trial 2466: Artifacts - 0.1% (Validation: 0, Clipping: 1, Motion: 0)\n",
      "Trial 2467: Artifacts - 5.6% (Validation: 0, Clipping: 0, Motion: 98)\n",
      "Trial 2468: Artifacts - 0.7% (Validation: 0, Clipping: 0, Motion: 13)\n"
     ]
    },
    {
     "name": "stderr",
     "output_type": "stream",
     "text": [
      "/usr/local/lib/python3.11/dist-packages/sklearn/decomposition/_fastica.py:542: FutureWarning: Starting in v1.3, whiten='unit-variance' will be used by default.\n",
      "  warnings.warn(\n"
     ]
    },
    {
     "name": "stdout",
     "output_type": "stream",
     "text": [
      "Trial 2469: Artifacts - 3.8% (Validation: 66, Clipping: 1, Motion: 0)\n",
      "Trial 2470: Artifacts - 0.0% (Validation: 0, Clipping: 0, Motion: 0)\n",
      "Trial 2471: Artifacts - 5.2% (Validation: 0, Clipping: 0, Motion: 91)\n"
     ]
    },
    {
     "name": "stderr",
     "output_type": "stream",
     "text": [
      "/usr/local/lib/python3.11/dist-packages/sklearn/decomposition/_fastica.py:542: FutureWarning: Starting in v1.3, whiten='unit-variance' will be used by default.\n",
      "  warnings.warn(\n"
     ]
    },
    {
     "name": "stdout",
     "output_type": "stream",
     "text": [
      "Trial 2472: Artifacts - 0.8% (Validation: 0, Clipping: 0, Motion: 14)\n",
      "Trial 2473: Artifacts - 0.0% (Validation: 0, Clipping: 0, Motion: 0)\n",
      "Trial 2474: Artifacts - 0.5% (Validation: 0, Clipping: 0, Motion: 8)\n",
      "Trial 2475: Artifacts - 0.0% (Validation: 0, Clipping: 0, Motion: 0)\n",
      "Trial 2476: Artifacts - 0.4% (Validation: 0, Clipping: 0, Motion: 7)\n",
      "Trial 2477: Artifacts - 5.3% (Validation: 92, Clipping: 0, Motion: 0)\n",
      "Trial 2478: Artifacts - 0.1% (Validation: 0, Clipping: 1, Motion: 1)\n",
      "Trial 2479: Artifacts - 0.1% (Validation: 0, Clipping: 1, Motion: 0)\n",
      "Trial 2480: Artifacts - 3.4% (Validation: 0, Clipping: 1, Motion: 59)\n"
     ]
    },
    {
     "name": "stderr",
     "output_type": "stream",
     "text": [
      "/usr/local/lib/python3.11/dist-packages/sklearn/decomposition/_fastica.py:542: FutureWarning: Starting in v1.3, whiten='unit-variance' will be used by default.\n",
      "  warnings.warn(\n"
     ]
    },
    {
     "name": "stdout",
     "output_type": "stream",
     "text": [
      "Trial 2481: Artifacts - 4.2% (Validation: 0, Clipping: 0, Motion: 74)\n"
     ]
    },
    {
     "name": "stderr",
     "output_type": "stream",
     "text": [
      "/usr/local/lib/python3.11/dist-packages/sklearn/decomposition/_fastica.py:542: FutureWarning: Starting in v1.3, whiten='unit-variance' will be used by default.\n",
      "  warnings.warn(\n"
     ]
    },
    {
     "name": "stdout",
     "output_type": "stream",
     "text": [
      "Trial 2482: Artifacts - 0.0% (Validation: 0, Clipping: 0, Motion: 0)\n",
      "Trial 2483: Artifacts - 0.0% (Validation: 0, Clipping: 0, Motion: 0)\n",
      "Trial 2484: Artifacts - 0.0% (Validation: 0, Clipping: 0, Motion: 0)\n",
      "Trial 2485: Artifacts - 0.0% (Validation: 0, Clipping: 0, Motion: 0)\n",
      "Trial 2486: Artifacts - 0.1% (Validation: 0, Clipping: 1, Motion: 0)\n",
      "Trial 2487: Artifacts - 4.6% (Validation: 0, Clipping: 0, Motion: 81)\n"
     ]
    },
    {
     "name": "stderr",
     "output_type": "stream",
     "text": [
      "/usr/local/lib/python3.11/dist-packages/sklearn/decomposition/_fastica.py:542: FutureWarning: Starting in v1.3, whiten='unit-variance' will be used by default.\n",
      "  warnings.warn(\n"
     ]
    },
    {
     "name": "stdout",
     "output_type": "stream",
     "text": [
      "Trial 2488: Artifacts - 0.1% (Validation: 0, Clipping: 2, Motion: 0)\n",
      "Trial 2489: Artifacts - 0.4% (Validation: 0, Clipping: 0, Motion: 7)\n",
      "Trial 2490: Artifacts - 0.0% (Validation: 0, Clipping: 0, Motion: 0)\n",
      "Trial 2491: Artifacts - 7.9% (Validation: 0, Clipping: 0, Motion: 139)\n"
     ]
    },
    {
     "name": "stderr",
     "output_type": "stream",
     "text": [
      "/usr/local/lib/python3.11/dist-packages/sklearn/decomposition/_fastica.py:542: FutureWarning: Starting in v1.3, whiten='unit-variance' will be used by default.\n",
      "  warnings.warn(\n"
     ]
    },
    {
     "name": "stdout",
     "output_type": "stream",
     "text": [
      "Trial 2492: Artifacts - 0.3% (Validation: 0, Clipping: 1, Motion: 5)\n",
      "Trial 2493: Artifacts - 0.0% (Validation: 0, Clipping: 0, Motion: 0)\n",
      "Trial 2494: Artifacts - 0.0% (Validation: 0, Clipping: 0, Motion: 0)\n",
      "Trial 2495: Artifacts - 0.1% (Validation: 0, Clipping: 2, Motion: 0)\n",
      "Trial 2496: Artifacts - 0.1% (Validation: 0, Clipping: 1, Motion: 0)\n",
      "Trial 2497: Artifacts - 0.1% (Validation: 0, Clipping: 2, Motion: 0)\n",
      "Trial 2498: Artifacts - 4.8% (Validation: 0, Clipping: 0, Motion: 84)\n",
      "Trial 2499: Artifacts - 2.6% (Validation: 0, Clipping: 0, Motion: 46)\n"
     ]
    },
    {
     "name": "stderr",
     "output_type": "stream",
     "text": [
      "/usr/local/lib/python3.11/dist-packages/sklearn/decomposition/_fastica.py:542: FutureWarning: Starting in v1.3, whiten='unit-variance' will be used by default.\n",
      "  warnings.warn(\n"
     ]
    },
    {
     "name": "stdout",
     "output_type": "stream",
     "text": [
      "Trial 2500: Artifacts - 0.1% (Validation: 0, Clipping: 1, Motion: 0)\n",
      "Processed 2500/4800 trials\n",
      "Trial 2501: Artifacts - 15.0% (Validation: 0, Clipping: 1, Motion: 261)\n"
     ]
    },
    {
     "name": "stderr",
     "output_type": "stream",
     "text": [
      "/usr/local/lib/python3.11/dist-packages/sklearn/decomposition/_fastica.py:542: FutureWarning: Starting in v1.3, whiten='unit-variance' will be used by default.\n",
      "  warnings.warn(\n"
     ]
    },
    {
     "name": "stdout",
     "output_type": "stream",
     "text": [
      "Trial 2502: Artifacts - 0.1% (Validation: 0, Clipping: 1, Motion: 0)\n",
      "Trial 2503: Artifacts - 0.0% (Validation: 0, Clipping: 0, Motion: 0)\n",
      "Trial 2504: Artifacts - 0.0% (Validation: 0, Clipping: 0, Motion: 0)\n",
      "Trial 2505: Artifacts - 0.1% (Validation: 0, Clipping: 1, Motion: 0)\n",
      "Trial 2506: Artifacts - 0.0% (Validation: 0, Clipping: 0, Motion: 0)\n",
      "Trial 2507: Artifacts - 0.1% (Validation: 0, Clipping: 1, Motion: 0)\n",
      "Trial 2508: Artifacts - 0.0% (Validation: 0, Clipping: 0, Motion: 0)\n",
      "Trial 2509: Artifacts - 0.0% (Validation: 0, Clipping: 0, Motion: 0)\n",
      "Trial 2510: Artifacts - 0.0% (Validation: 0, Clipping: 0, Motion: 0)\n",
      "Trial 2511: Artifacts - 10.1% (Validation: 0, Clipping: 0, Motion: 176)\n"
     ]
    },
    {
     "name": "stderr",
     "output_type": "stream",
     "text": [
      "/usr/local/lib/python3.11/dist-packages/sklearn/decomposition/_fastica.py:542: FutureWarning: Starting in v1.3, whiten='unit-variance' will be used by default.\n",
      "  warnings.warn(\n"
     ]
    },
    {
     "name": "stdout",
     "output_type": "stream",
     "text": [
      "Trial 2512: Artifacts - 0.0% (Validation: 0, Clipping: 0, Motion: 0)\n",
      "Trial 2513: Artifacts - 0.0% (Validation: 0, Clipping: 0, Motion: 0)\n",
      "Trial 2514: Artifacts - 0.0% (Validation: 0, Clipping: 0, Motion: 0)\n",
      "Trial 2515: Artifacts - 0.0% (Validation: 0, Clipping: 0, Motion: 0)\n",
      "Trial 2516: Artifacts - 0.0% (Validation: 0, Clipping: 0, Motion: 0)\n",
      "Trial 2517: Artifacts - 0.0% (Validation: 0, Clipping: 0, Motion: 0)\n",
      "Trial 2518: Artifacts - 0.0% (Validation: 0, Clipping: 0, Motion: 0)\n",
      "Trial 2519: Artifacts - 0.1% (Validation: 0, Clipping: 1, Motion: 0)\n",
      "Trial 2520: Artifacts - 0.0% (Validation: 0, Clipping: 0, Motion: 0)\n",
      "Trial 2521: Artifacts - 14.2% (Validation: 0, Clipping: 0, Motion: 249)\n"
     ]
    },
    {
     "name": "stderr",
     "output_type": "stream",
     "text": [
      "/usr/local/lib/python3.11/dist-packages/sklearn/decomposition/_fastica.py:542: FutureWarning: Starting in v1.3, whiten='unit-variance' will be used by default.\n",
      "  warnings.warn(\n"
     ]
    },
    {
     "name": "stdout",
     "output_type": "stream",
     "text": [
      "Trial 2522: Artifacts - 0.0% (Validation: 0, Clipping: 0, Motion: 0)\n",
      "Trial 2523: Artifacts - 0.0% (Validation: 0, Clipping: 0, Motion: 0)\n",
      "Trial 2524: Artifacts - 0.0% (Validation: 0, Clipping: 0, Motion: 0)\n",
      "Trial 2525: Artifacts - 0.0% (Validation: 0, Clipping: 0, Motion: 0)\n",
      "Trial 2526: Artifacts - 0.0% (Validation: 0, Clipping: 0, Motion: 0)\n",
      "Trial 2527: Artifacts - 0.0% (Validation: 0, Clipping: 0, Motion: 0)\n",
      "Trial 2528: Artifacts - 0.0% (Validation: 0, Clipping: 0, Motion: 0)\n",
      "Trial 2529: Artifacts - 0.0% (Validation: 0, Clipping: 0, Motion: 0)\n",
      "Trial 2530: Artifacts - 0.0% (Validation: 0, Clipping: 0, Motion: 0)\n",
      "Trial 2531: Artifacts - 8.9% (Validation: 0, Clipping: 0, Motion: 155)\n"
     ]
    },
    {
     "name": "stderr",
     "output_type": "stream",
     "text": [
      "/usr/local/lib/python3.11/dist-packages/sklearn/decomposition/_fastica.py:542: FutureWarning: Starting in v1.3, whiten='unit-variance' will be used by default.\n",
      "  warnings.warn(\n"
     ]
    },
    {
     "name": "stdout",
     "output_type": "stream",
     "text": [
      "Trial 2532: Artifacts - 0.0% (Validation: 0, Clipping: 0, Motion: 0)\n",
      "Trial 2533: Artifacts - 0.1% (Validation: 0, Clipping: 1, Motion: 0)\n",
      "Trial 2534: Artifacts - 0.1% (Validation: 0, Clipping: 1, Motion: 0)\n",
      "Trial 2535: Artifacts - 0.1% (Validation: 0, Clipping: 2, Motion: 0)\n",
      "Trial 2536: Artifacts - 0.0% (Validation: 0, Clipping: 0, Motion: 0)\n",
      "Trial 2537: Artifacts - 0.0% (Validation: 0, Clipping: 0, Motion: 0)\n",
      "Trial 2538: Artifacts - 0.0% (Validation: 0, Clipping: 0, Motion: 0)\n",
      "Trial 2539: Artifacts - 0.0% (Validation: 0, Clipping: 0, Motion: 0)\n",
      "Trial 2540: Artifacts - 0.0% (Validation: 0, Clipping: 0, Motion: 0)\n",
      "Trial 2541: Artifacts - 12.5% (Validation: 0, Clipping: 0, Motion: 218)\n"
     ]
    },
    {
     "name": "stderr",
     "output_type": "stream",
     "text": [
      "/usr/local/lib/python3.11/dist-packages/sklearn/decomposition/_fastica.py:542: FutureWarning: Starting in v1.3, whiten='unit-variance' will be used by default.\n",
      "  warnings.warn(\n"
     ]
    },
    {
     "name": "stdout",
     "output_type": "stream",
     "text": [
      "Trial 2542: Artifacts - 0.0% (Validation: 0, Clipping: 0, Motion: 0)\n",
      "Trial 2543: Artifacts - 0.0% (Validation: 0, Clipping: 0, Motion: 0)\n",
      "Trial 2544: Artifacts - 0.0% (Validation: 0, Clipping: 0, Motion: 0)\n",
      "Trial 2545: Artifacts - 0.0% (Validation: 0, Clipping: 0, Motion: 0)\n",
      "Trial 2546: Artifacts - 0.0% (Validation: 0, Clipping: 0, Motion: 0)\n",
      "Trial 2547: Artifacts - 0.0% (Validation: 0, Clipping: 0, Motion: 0)\n",
      "Trial 2548: Artifacts - 0.0% (Validation: 0, Clipping: 0, Motion: 0)\n",
      "Trial 2549: Artifacts - 0.0% (Validation: 0, Clipping: 0, Motion: 0)\n",
      "Trial 2550: Artifacts - 0.0% (Validation: 0, Clipping: 0, Motion: 0)\n",
      "Trial 2551: Artifacts - 9.1% (Validation: 0, Clipping: 0, Motion: 160)\n"
     ]
    },
    {
     "name": "stderr",
     "output_type": "stream",
     "text": [
      "/usr/local/lib/python3.11/dist-packages/sklearn/decomposition/_fastica.py:542: FutureWarning: Starting in v1.3, whiten='unit-variance' will be used by default.\n",
      "  warnings.warn(\n"
     ]
    },
    {
     "name": "stdout",
     "output_type": "stream",
     "text": [
      "Trial 2552: Artifacts - 0.1% (Validation: 0, Clipping: 1, Motion: 0)\n",
      "Trial 2553: Artifacts - 0.7% (Validation: 0, Clipping: 0, Motion: 12)\n",
      "Trial 2554: Artifacts - 0.0% (Validation: 0, Clipping: 0, Motion: 0)\n",
      "Trial 2555: Artifacts - 0.1% (Validation: 0, Clipping: 1, Motion: 0)\n",
      "Trial 2556: Artifacts - 0.0% (Validation: 0, Clipping: 0, Motion: 0)\n",
      "Trial 2557: Artifacts - 0.0% (Validation: 0, Clipping: 0, Motion: 0)\n",
      "Trial 2558: Artifacts - 0.0% (Validation: 0, Clipping: 0, Motion: 0)\n",
      "Trial 2559: Artifacts - 0.0% (Validation: 0, Clipping: 0, Motion: 0)\n",
      "Trial 2560: Artifacts - 0.0% (Validation: 0, Clipping: 0, Motion: 0)\n",
      "REJECTING trial 2561: 56.9% artifacts\n",
      "REJECTING trial 2562: 60.8% artifacts\n",
      "REJECTING trial 2563: 58.1% artifacts\n",
      "Trial 2564: Artifacts - 11.0% (Validation: 191, Clipping: 42, Motion: 0)\n",
      "Trial 2565: Artifacts - 0.0% (Validation: 0, Clipping: 0, Motion: 0)\n",
      "Trial 2566: Artifacts - 0.0% (Validation: 0, Clipping: 0, Motion: 0)\n",
      "Trial 2567: Artifacts - 0.0% (Validation: 0, Clipping: 0, Motion: 0)\n",
      "Trial 2568: Artifacts - 0.0% (Validation: 0, Clipping: 0, Motion: 0)\n",
      "Trial 2569: Artifacts - 0.0% (Validation: 0, Clipping: 0, Motion: 0)\n",
      "Trial 2570: Artifacts - 0.0% (Validation: 0, Clipping: 0, Motion: 0)\n",
      "Trial 2571: Artifacts - 8.3% (Validation: 0, Clipping: 0, Motion: 146)\n",
      "Trial 2572: Artifacts - 4.7% (Validation: 0, Clipping: 0, Motion: 83)\n"
     ]
    },
    {
     "name": "stderr",
     "output_type": "stream",
     "text": [
      "/usr/local/lib/python3.11/dist-packages/sklearn/decomposition/_fastica.py:542: FutureWarning: Starting in v1.3, whiten='unit-variance' will be used by default.\n",
      "  warnings.warn(\n",
      "/usr/local/lib/python3.11/dist-packages/sklearn/decomposition/_fastica.py:542: FutureWarning: Starting in v1.3, whiten='unit-variance' will be used by default.\n",
      "  warnings.warn(\n"
     ]
    },
    {
     "name": "stdout",
     "output_type": "stream",
     "text": [
      "Trial 2573: Artifacts - 1.2% (Validation: 0, Clipping: 1, Motion: 20)\n",
      "Trial 2574: Artifacts - 4.5% (Validation: 0, Clipping: 1, Motion: 77)\n"
     ]
    },
    {
     "name": "stderr",
     "output_type": "stream",
     "text": [
      "/usr/local/lib/python3.11/dist-packages/sklearn/decomposition/_fastica.py:542: FutureWarning: Starting in v1.3, whiten='unit-variance' will be used by default.\n",
      "  warnings.warn(\n"
     ]
    },
    {
     "name": "stdout",
     "output_type": "stream",
     "text": [
      "Trial 2575: Artifacts - 11.7% (Validation: 204, Clipping: 7, Motion: 0)\n",
      "Trial 2576: Artifacts - 3.1% (Validation: 0, Clipping: 0, Motion: 54)\n"
     ]
    },
    {
     "name": "stderr",
     "output_type": "stream",
     "text": [
      "/usr/local/lib/python3.11/dist-packages/sklearn/decomposition/_fastica.py:542: FutureWarning: Starting in v1.3, whiten='unit-variance' will be used by default.\n",
      "  warnings.warn(\n",
      "/usr/local/lib/python3.11/dist-packages/sklearn/decomposition/_fastica.py:542: FutureWarning: Starting in v1.3, whiten='unit-variance' will be used by default.\n",
      "  warnings.warn(\n"
     ]
    },
    {
     "name": "stdout",
     "output_type": "stream",
     "text": [
      "Trial 2577: Artifacts - 5.0% (Validation: 0, Clipping: 0, Motion: 88)\n",
      "Trial 2578: Artifacts - 0.0% (Validation: 0, Clipping: 0, Motion: 0)\n",
      "Trial 2579: Artifacts - 10.8% (Validation: 0, Clipping: 0, Motion: 189)\n"
     ]
    },
    {
     "name": "stderr",
     "output_type": "stream",
     "text": [
      "/usr/local/lib/python3.11/dist-packages/sklearn/decomposition/_fastica.py:542: FutureWarning: Starting in v1.3, whiten='unit-variance' will be used by default.\n",
      "  warnings.warn(\n",
      "/usr/local/lib/python3.11/dist-packages/sklearn/decomposition/_fastica.py:542: FutureWarning: Starting in v1.3, whiten='unit-variance' will be used by default.\n",
      "  warnings.warn(\n"
     ]
    },
    {
     "name": "stdout",
     "output_type": "stream",
     "text": [
      "Trial 2580: Artifacts - 11.7% (Validation: 0, Clipping: 0, Motion: 205)\n",
      "Trial 2581: Artifacts - 5.8% (Validation: 0, Clipping: 0, Motion: 101)\n",
      "Trial 2582: Artifacts - 7.0% (Validation: 0, Clipping: 1, Motion: 121)\n"
     ]
    },
    {
     "name": "stderr",
     "output_type": "stream",
     "text": [
      "/usr/local/lib/python3.11/dist-packages/sklearn/decomposition/_fastica.py:542: FutureWarning: Starting in v1.3, whiten='unit-variance' will be used by default.\n",
      "  warnings.warn(\n",
      "/usr/local/lib/python3.11/dist-packages/sklearn/decomposition/_fastica.py:542: FutureWarning: Starting in v1.3, whiten='unit-variance' will be used by default.\n",
      "  warnings.warn(\n"
     ]
    },
    {
     "name": "stdout",
     "output_type": "stream",
     "text": [
      "Trial 2583: Artifacts - 1.8% (Validation: 0, Clipping: 0, Motion: 32)\n",
      "Trial 2584: Artifacts - 5.4% (Validation: 0, Clipping: 0, Motion: 95)\n"
     ]
    },
    {
     "name": "stderr",
     "output_type": "stream",
     "text": [
      "/usr/local/lib/python3.11/dist-packages/sklearn/decomposition/_fastica.py:542: FutureWarning: Starting in v1.3, whiten='unit-variance' will be used by default.\n",
      "  warnings.warn(\n",
      "/usr/local/lib/python3.11/dist-packages/sklearn/decomposition/_fastica.py:542: FutureWarning: Starting in v1.3, whiten='unit-variance' will be used by default.\n",
      "  warnings.warn(\n"
     ]
    },
    {
     "name": "stdout",
     "output_type": "stream",
     "text": [
      "Trial 2585: Artifacts - 5.5% (Validation: 0, Clipping: 0, Motion: 97)\n",
      "Trial 2586: Artifacts - 12.3% (Validation: 0, Clipping: 1, Motion: 216)\n",
      "Trial 2587: Artifacts - 6.0% (Validation: 0, Clipping: 1, Motion: 104)\n"
     ]
    },
    {
     "name": "stderr",
     "output_type": "stream",
     "text": [
      "/usr/local/lib/python3.11/dist-packages/sklearn/decomposition/_fastica.py:542: FutureWarning: Starting in v1.3, whiten='unit-variance' will be used by default.\n",
      "  warnings.warn(\n",
      "/usr/local/lib/python3.11/dist-packages/sklearn/decomposition/_fastica.py:542: FutureWarning: Starting in v1.3, whiten='unit-variance' will be used by default.\n",
      "  warnings.warn(\n"
     ]
    },
    {
     "name": "stdout",
     "output_type": "stream",
     "text": [
      "Trial 2588: Artifacts - 0.0% (Validation: 0, Clipping: 0, Motion: 0)\n",
      "Trial 2589: Artifacts - 0.0% (Validation: 0, Clipping: 0, Motion: 0)\n",
      "Trial 2590: Artifacts - 0.0% (Validation: 0, Clipping: 0, Motion: 0)\n",
      "Trial 2591: Artifacts - 8.3% (Validation: 0, Clipping: 0, Motion: 145)\n"
     ]
    },
    {
     "name": "stderr",
     "output_type": "stream",
     "text": [
      "/usr/local/lib/python3.11/dist-packages/sklearn/decomposition/_fastica.py:542: FutureWarning: Starting in v1.3, whiten='unit-variance' will be used by default.\n",
      "  warnings.warn(\n",
      "/usr/local/lib/python3.11/dist-packages/sklearn/decomposition/_fastica.py:542: FutureWarning: Starting in v1.3, whiten='unit-variance' will be used by default.\n",
      "  warnings.warn(\n"
     ]
    },
    {
     "name": "stdout",
     "output_type": "stream",
     "text": [
      "Trial 2592: Artifacts - 11.0% (Validation: 0, Clipping: 1, Motion: 191)\n",
      "Trial 2593: Artifacts - 0.1% (Validation: 0, Clipping: 1, Motion: 0)\n",
      "Trial 2594: Artifacts - 0.0% (Validation: 0, Clipping: 0, Motion: 0)\n",
      "Trial 2595: Artifacts - 2.7% (Validation: 0, Clipping: 1, Motion: 46)\n",
      "Trial 2596: Artifacts - 0.1% (Validation: 0, Clipping: 1, Motion: 0)\n",
      "Trial 2597: Artifacts - 0.0% (Validation: 0, Clipping: 0, Motion: 0)\n",
      "Trial 2598: Artifacts - 11.1% (Validation: 194, Clipping: 74, Motion: 0)\n",
      "Trial 2599: Artifacts - 0.0% (Validation: 0, Clipping: 0, Motion: 0)\n",
      "Trial 2600: Artifacts - 0.0% (Validation: 0, Clipping: 0, Motion: 0)\n",
      "Processed 2600/4800 trials\n",
      "Trial 2601: Artifacts - 8.1% (Validation: 0, Clipping: 0, Motion: 142)\n",
      "Trial 2602: Artifacts - 8.1% (Validation: 0, Clipping: 0, Motion: 141)\n"
     ]
    },
    {
     "name": "stderr",
     "output_type": "stream",
     "text": [
      "/usr/local/lib/python3.11/dist-packages/sklearn/decomposition/_fastica.py:542: FutureWarning: Starting in v1.3, whiten='unit-variance' will be used by default.\n",
      "  warnings.warn(\n",
      "/usr/local/lib/python3.11/dist-packages/sklearn/decomposition/_fastica.py:542: FutureWarning: Starting in v1.3, whiten='unit-variance' will be used by default.\n",
      "  warnings.warn(\n"
     ]
    },
    {
     "name": "stdout",
     "output_type": "stream",
     "text": [
      "Trial 2603: Artifacts - 1.5% (Validation: 0, Clipping: 0, Motion: 27)\n",
      "Trial 2604: Artifacts - 0.0% (Validation: 0, Clipping: 0, Motion: 0)\n",
      "Trial 2605: Artifacts - 0.0% (Validation: 0, Clipping: 0, Motion: 0)\n",
      "Trial 2606: Artifacts - 0.0% (Validation: 0, Clipping: 0, Motion: 0)\n",
      "Trial 2607: Artifacts - 0.0% (Validation: 0, Clipping: 0, Motion: 0)\n",
      "Trial 2608: Artifacts - 0.0% (Validation: 0, Clipping: 0, Motion: 0)\n",
      "Trial 2609: Artifacts - 0.0% (Validation: 0, Clipping: 0, Motion: 0)\n",
      "Trial 2610: Artifacts - 0.0% (Validation: 0, Clipping: 0, Motion: 0)\n",
      "Trial 2611: Artifacts - 3.3% (Validation: 0, Clipping: 1, Motion: 57)\n",
      "Trial 2612: Artifacts - 4.3% (Validation: 0, Clipping: 0, Motion: 75)\n"
     ]
    },
    {
     "name": "stderr",
     "output_type": "stream",
     "text": [
      "/usr/local/lib/python3.11/dist-packages/sklearn/decomposition/_fastica.py:542: FutureWarning: Starting in v1.3, whiten='unit-variance' will be used by default.\n",
      "  warnings.warn(\n",
      "/usr/local/lib/python3.11/dist-packages/sklearn/decomposition/_fastica.py:542: FutureWarning: Starting in v1.3, whiten='unit-variance' will be used by default.\n",
      "  warnings.warn(\n"
     ]
    },
    {
     "name": "stdout",
     "output_type": "stream",
     "text": [
      "Trial 2613: Artifacts - 0.2% (Validation: 0, Clipping: 1, Motion: 2)\n",
      "Trial 2614: Artifacts - 0.1% (Validation: 0, Clipping: 1, Motion: 0)\n",
      "Trial 2615: Artifacts - 0.2% (Validation: 0, Clipping: 0, Motion: 3)\n",
      "Trial 2616: Artifacts - 0.0% (Validation: 0, Clipping: 0, Motion: 0)\n",
      "Trial 2617: Artifacts - 0.1% (Validation: 0, Clipping: 1, Motion: 0)\n",
      "Trial 2618: Artifacts - 0.1% (Validation: 0, Clipping: 1, Motion: 0)\n",
      "Trial 2619: Artifacts - 0.0% (Validation: 0, Clipping: 0, Motion: 0)\n",
      "Trial 2620: Artifacts - 8.8% (Validation: 154, Clipping: 0, Motion: 0)\n",
      "Trial 2621: Artifacts - 15.6% (Validation: 114, Clipping: 1, Motion: 158)\n"
     ]
    },
    {
     "name": "stderr",
     "output_type": "stream",
     "text": [
      "/usr/local/lib/python3.11/dist-packages/sklearn/decomposition/_fastica.py:542: FutureWarning: Starting in v1.3, whiten='unit-variance' will be used by default.\n",
      "  warnings.warn(\n"
     ]
    },
    {
     "name": "stdout",
     "output_type": "stream",
     "text": [
      "Trial 2622: Artifacts - 2.1% (Validation: 0, Clipping: 0, Motion: 37)\n",
      "Trial 2623: Artifacts - 1.9% (Validation: 0, Clipping: 0, Motion: 33)\n",
      "Trial 2624: Artifacts - 0.0% (Validation: 0, Clipping: 0, Motion: 0)\n",
      "Trial 2625: Artifacts - 0.0% (Validation: 0, Clipping: 0, Motion: 0)\n",
      "Trial 2626: Artifacts - 5.1% (Validation: 89, Clipping: 0, Motion: 0)\n",
      "Trial 2627: Artifacts - 0.0% (Validation: 0, Clipping: 0, Motion: 0)\n",
      "Trial 2628: Artifacts - 0.0% (Validation: 0, Clipping: 0, Motion: 0)\n",
      "Trial 2629: Artifacts - 0.1% (Validation: 0, Clipping: 1, Motion: 0)\n",
      "Trial 2630: Artifacts - 0.0% (Validation: 0, Clipping: 0, Motion: 0)\n",
      "Trial 2631: Artifacts - 7.3% (Validation: 0, Clipping: 1, Motion: 127)\n"
     ]
    },
    {
     "name": "stderr",
     "output_type": "stream",
     "text": [
      "/usr/local/lib/python3.11/dist-packages/sklearn/decomposition/_fastica.py:542: FutureWarning: Starting in v1.3, whiten='unit-variance' will be used by default.\n",
      "  warnings.warn(\n"
     ]
    },
    {
     "name": "stdout",
     "output_type": "stream",
     "text": [
      "Trial 2632: Artifacts - 14.3% (Validation: 85, Clipping: 27, Motion: 166)\n"
     ]
    },
    {
     "name": "stderr",
     "output_type": "stream",
     "text": [
      "/usr/local/lib/python3.11/dist-packages/sklearn/decomposition/_fastica.py:542: FutureWarning: Starting in v1.3, whiten='unit-variance' will be used by default.\n",
      "  warnings.warn(\n"
     ]
    },
    {
     "name": "stdout",
     "output_type": "stream",
     "text": [
      "Trial 2633: Artifacts - 0.0% (Validation: 0, Clipping: 0, Motion: 0)\n",
      "Trial 2634: Artifacts - 0.0% (Validation: 0, Clipping: 0, Motion: 0)\n",
      "Trial 2635: Artifacts - 6.7% (Validation: 0, Clipping: 0, Motion: 118)\n",
      "Trial 2636: Artifacts - 0.3% (Validation: 0, Clipping: 0, Motion: 6)\n"
     ]
    },
    {
     "name": "stderr",
     "output_type": "stream",
     "text": [
      "/usr/local/lib/python3.11/dist-packages/sklearn/decomposition/_fastica.py:542: FutureWarning: Starting in v1.3, whiten='unit-variance' will be used by default.\n",
      "  warnings.warn(\n"
     ]
    },
    {
     "name": "stdout",
     "output_type": "stream",
     "text": [
      "Trial 2637: Artifacts - 0.0% (Validation: 0, Clipping: 0, Motion: 0)\n",
      "Trial 2638: Artifacts - 0.2% (Validation: 0, Clipping: 0, Motion: 3)\n",
      "Trial 2639: Artifacts - 1.2% (Validation: 0, Clipping: 1, Motion: 20)\n",
      "Trial 2640: Artifacts - 0.0% (Validation: 0, Clipping: 0, Motion: 0)\n",
      "Trial 2641: Artifacts - 5.5% (Validation: 0, Clipping: 0, Motion: 97)\n"
     ]
    },
    {
     "name": "stderr",
     "output_type": "stream",
     "text": [
      "/usr/local/lib/python3.11/dist-packages/sklearn/decomposition/_fastica.py:542: FutureWarning: Starting in v1.3, whiten='unit-variance' will be used by default.\n",
      "  warnings.warn(\n"
     ]
    },
    {
     "name": "stdout",
     "output_type": "stream",
     "text": [
      "Trial 2642: Artifacts - 1.4% (Validation: 0, Clipping: 0, Motion: 25)\n",
      "Trial 2643: Artifacts - 0.0% (Validation: 0, Clipping: 0, Motion: 0)\n",
      "Trial 2644: Artifacts - 0.1% (Validation: 0, Clipping: 1, Motion: 0)\n",
      "Trial 2645: Artifacts - 0.0% (Validation: 0, Clipping: 0, Motion: 0)\n",
      "Trial 2646: Artifacts - 0.0% (Validation: 0, Clipping: 0, Motion: 0)\n",
      "Trial 2647: Artifacts - 0.0% (Validation: 0, Clipping: 0, Motion: 0)\n",
      "Trial 2648: Artifacts - 0.0% (Validation: 0, Clipping: 0, Motion: 0)\n",
      "Trial 2649: Artifacts - 0.0% (Validation: 0, Clipping: 0, Motion: 0)\n",
      "Trial 2650: Artifacts - 0.0% (Validation: 0, Clipping: 0, Motion: 0)\n",
      "Trial 2651: Artifacts - 12.0% (Validation: 0, Clipping: 0, Motion: 210)\n"
     ]
    },
    {
     "name": "stderr",
     "output_type": "stream",
     "text": [
      "/usr/local/lib/python3.11/dist-packages/sklearn/decomposition/_fastica.py:542: FutureWarning: Starting in v1.3, whiten='unit-variance' will be used by default.\n",
      "  warnings.warn(\n"
     ]
    },
    {
     "name": "stdout",
     "output_type": "stream",
     "text": [
      "Trial 2652: Artifacts - 0.0% (Validation: 0, Clipping: 0, Motion: 0)\n",
      "Trial 2653: Artifacts - 0.7% (Validation: 0, Clipping: 1, Motion: 12)\n",
      "Trial 2654: Artifacts - 0.1% (Validation: 0, Clipping: 1, Motion: 0)\n",
      "Trial 2655: Artifacts - 0.0% (Validation: 0, Clipping: 0, Motion: 0)\n",
      "Trial 2656: Artifacts - 0.0% (Validation: 0, Clipping: 0, Motion: 0)\n",
      "Trial 2657: Artifacts - 0.0% (Validation: 0, Clipping: 0, Motion: 0)\n",
      "Trial 2658: Artifacts - 0.0% (Validation: 0, Clipping: 0, Motion: 0)\n",
      "Trial 2659: Artifacts - 0.0% (Validation: 0, Clipping: 0, Motion: 0)\n",
      "Trial 2660: Artifacts - 0.1% (Validation: 0, Clipping: 1, Motion: 0)\n",
      "Trial 2661: Artifacts - 15.7% (Validation: 0, Clipping: 0, Motion: 274)\n"
     ]
    },
    {
     "name": "stderr",
     "output_type": "stream",
     "text": [
      "/usr/local/lib/python3.11/dist-packages/sklearn/decomposition/_fastica.py:542: FutureWarning: Starting in v1.3, whiten='unit-variance' will be used by default.\n",
      "  warnings.warn(\n"
     ]
    },
    {
     "name": "stdout",
     "output_type": "stream",
     "text": [
      "Trial 2662: Artifacts - 0.0% (Validation: 0, Clipping: 0, Motion: 0)\n",
      "Trial 2663: Artifacts - 0.0% (Validation: 0, Clipping: 0, Motion: 0)\n",
      "Trial 2664: Artifacts - 0.0% (Validation: 0, Clipping: 0, Motion: 0)\n",
      "Trial 2665: Artifacts - 0.0% (Validation: 0, Clipping: 0, Motion: 0)\n",
      "Trial 2666: Artifacts - 0.0% (Validation: 0, Clipping: 0, Motion: 0)\n",
      "Trial 2667: Artifacts - 0.0% (Validation: 0, Clipping: 0, Motion: 0)\n",
      "Trial 2668: Artifacts - 0.3% (Validation: 0, Clipping: 0, Motion: 6)\n",
      "Trial 2669: Artifacts - 0.0% (Validation: 0, Clipping: 0, Motion: 0)\n",
      "Trial 2670: Artifacts - 0.0% (Validation: 0, Clipping: 0, Motion: 0)\n",
      "Trial 2671: Artifacts - 16.1% (Validation: 0, Clipping: 0, Motion: 282)\n"
     ]
    },
    {
     "name": "stderr",
     "output_type": "stream",
     "text": [
      "/usr/local/lib/python3.11/dist-packages/sklearn/decomposition/_fastica.py:542: FutureWarning: Starting in v1.3, whiten='unit-variance' will be used by default.\n",
      "  warnings.warn(\n"
     ]
    },
    {
     "name": "stdout",
     "output_type": "stream",
     "text": [
      "Trial 2672: Artifacts - 0.8% (Validation: 0, Clipping: 0, Motion: 14)\n",
      "Trial 2673: Artifacts - 0.0% (Validation: 0, Clipping: 0, Motion: 0)\n",
      "Trial 2674: Artifacts - 0.0% (Validation: 0, Clipping: 0, Motion: 0)\n",
      "Trial 2675: Artifacts - 0.0% (Validation: 0, Clipping: 0, Motion: 0)\n",
      "Trial 2676: Artifacts - 0.0% (Validation: 0, Clipping: 0, Motion: 0)\n",
      "Trial 2677: Artifacts - 0.0% (Validation: 0, Clipping: 0, Motion: 0)\n",
      "Trial 2678: Artifacts - 0.1% (Validation: 0, Clipping: 1, Motion: 0)\n",
      "Trial 2679: Artifacts - 0.6% (Validation: 0, Clipping: 1, Motion: 9)\n",
      "Trial 2680: Artifacts - 0.0% (Validation: 0, Clipping: 0, Motion: 0)\n",
      "Trial 2681: Artifacts - 11.5% (Validation: 0, Clipping: 0, Motion: 202)\n"
     ]
    },
    {
     "name": "stderr",
     "output_type": "stream",
     "text": [
      "/usr/local/lib/python3.11/dist-packages/sklearn/decomposition/_fastica.py:542: FutureWarning: Starting in v1.3, whiten='unit-variance' will be used by default.\n",
      "  warnings.warn(\n"
     ]
    },
    {
     "name": "stdout",
     "output_type": "stream",
     "text": [
      "Trial 2682: Artifacts - 1.1% (Validation: 0, Clipping: 0, Motion: 19)\n",
      "Trial 2683: Artifacts - 0.0% (Validation: 0, Clipping: 0, Motion: 0)\n",
      "Trial 2684: Artifacts - 0.0% (Validation: 0, Clipping: 0, Motion: 0)\n",
      "Trial 2685: Artifacts - 0.0% (Validation: 0, Clipping: 0, Motion: 0)\n",
      "Trial 2686: Artifacts - 0.0% (Validation: 0, Clipping: 0, Motion: 0)\n",
      "Trial 2687: Artifacts - 0.0% (Validation: 0, Clipping: 0, Motion: 0)\n",
      "Trial 2688: Artifacts - 0.0% (Validation: 0, Clipping: 0, Motion: 0)\n",
      "Trial 2689: Artifacts - 0.0% (Validation: 0, Clipping: 0, Motion: 0)\n",
      "Trial 2690: Artifacts - 0.1% (Validation: 0, Clipping: 1, Motion: 0)\n",
      "Trial 2691: Artifacts - 6.7% (Validation: 0, Clipping: 0, Motion: 117)\n"
     ]
    },
    {
     "name": "stderr",
     "output_type": "stream",
     "text": [
      "/usr/local/lib/python3.11/dist-packages/sklearn/decomposition/_fastica.py:542: FutureWarning: Starting in v1.3, whiten='unit-variance' will be used by default.\n",
      "  warnings.warn(\n"
     ]
    },
    {
     "name": "stdout",
     "output_type": "stream",
     "text": [
      "Trial 2692: Artifacts - 0.0% (Validation: 0, Clipping: 0, Motion: 0)\n",
      "Trial 2693: Artifacts - 0.0% (Validation: 0, Clipping: 0, Motion: 0)\n",
      "Trial 2694: Artifacts - 0.1% (Validation: 0, Clipping: 1, Motion: 0)\n",
      "Trial 2695: Artifacts - 0.1% (Validation: 0, Clipping: 1, Motion: 0)\n",
      "Trial 2696: Artifacts - 0.1% (Validation: 0, Clipping: 1, Motion: 0)\n",
      "Trial 2697: Artifacts - 0.0% (Validation: 0, Clipping: 0, Motion: 0)\n",
      "Trial 2698: Artifacts - 0.0% (Validation: 0, Clipping: 0, Motion: 0)\n",
      "Trial 2699: Artifacts - 0.0% (Validation: 0, Clipping: 0, Motion: 0)\n",
      "Trial 2700: Artifacts - 0.1% (Validation: 0, Clipping: 1, Motion: 0)\n",
      "Processed 2700/4800 trials\n",
      "Trial 2701: Artifacts - 12.3% (Validation: 0, Clipping: 0, Motion: 215)\n"
     ]
    },
    {
     "name": "stderr",
     "output_type": "stream",
     "text": [
      "/usr/local/lib/python3.11/dist-packages/sklearn/decomposition/_fastica.py:542: FutureWarning: Starting in v1.3, whiten='unit-variance' will be used by default.\n",
      "  warnings.warn(\n"
     ]
    },
    {
     "name": "stdout",
     "output_type": "stream",
     "text": [
      "Trial 2702: Artifacts - 0.1% (Validation: 0, Clipping: 1, Motion: 0)\n",
      "Trial 2703: Artifacts - 0.0% (Validation: 0, Clipping: 0, Motion: 0)\n",
      "Trial 2704: Artifacts - 0.0% (Validation: 0, Clipping: 0, Motion: 0)\n",
      "Trial 2705: Artifacts - 0.0% (Validation: 0, Clipping: 0, Motion: 0)\n",
      "Trial 2706: Artifacts - 0.0% (Validation: 0, Clipping: 0, Motion: 0)\n",
      "Trial 2707: Artifacts - 0.0% (Validation: 0, Clipping: 0, Motion: 0)\n",
      "Trial 2708: Artifacts - 0.0% (Validation: 0, Clipping: 0, Motion: 0)\n",
      "Trial 2709: Artifacts - 0.0% (Validation: 0, Clipping: 0, Motion: 0)\n",
      "Trial 2710: Artifacts - 0.0% (Validation: 0, Clipping: 0, Motion: 0)\n",
      "Trial 2711: Artifacts - 0.0% (Validation: 0, Clipping: 0, Motion: 0)\n",
      "Trial 2712: Artifacts - 0.0% (Validation: 0, Clipping: 0, Motion: 0)\n",
      "Trial 2713: Artifacts - 0.1% (Validation: 0, Clipping: 1, Motion: 0)\n",
      "Trial 2714: Artifacts - 0.0% (Validation: 0, Clipping: 0, Motion: 0)\n",
      "Trial 2715: Artifacts - 0.0% (Validation: 0, Clipping: 0, Motion: 0)\n",
      "Trial 2716: Artifacts - 0.0% (Validation: 0, Clipping: 0, Motion: 0)\n",
      "Trial 2717: Artifacts - 0.0% (Validation: 0, Clipping: 0, Motion: 0)\n",
      "Trial 2718: Artifacts - 0.0% (Validation: 0, Clipping: 0, Motion: 0)\n",
      "Trial 2719: Artifacts - 0.0% (Validation: 0, Clipping: 0, Motion: 0)\n",
      "Trial 2720: Artifacts - 0.0% (Validation: 0, Clipping: 0, Motion: 0)\n",
      "Trial 2721: Artifacts - 9.3% (Validation: 113, Clipping: 0, Motion: 50)\n",
      "Trial 2722: Artifacts - 13.9% (Validation: 213, Clipping: 0, Motion: 30)\n",
      "Trial 2723: Artifacts - 6.2% (Validation: 30, Clipping: 0, Motion: 79)\n"
     ]
    },
    {
     "name": "stderr",
     "output_type": "stream",
     "text": [
      "/usr/local/lib/python3.11/dist-packages/sklearn/decomposition/_fastica.py:542: FutureWarning: Starting in v1.3, whiten='unit-variance' will be used by default.\n",
      "  warnings.warn(\n"
     ]
    },
    {
     "name": "stdout",
     "output_type": "stream",
     "text": [
      "Trial 2724: Artifacts - 0.0% (Validation: 0, Clipping: 0, Motion: 0)\n",
      "Trial 2725: Artifacts - 0.0% (Validation: 0, Clipping: 0, Motion: 0)\n",
      "Trial 2726: Artifacts - 0.0% (Validation: 0, Clipping: 0, Motion: 0)\n",
      "Trial 2727: Artifacts - 1.5% (Validation: 0, Clipping: 0, Motion: 27)\n",
      "Trial 2728: Artifacts - 1.0% (Validation: 0, Clipping: 0, Motion: 18)\n",
      "Trial 2729: Artifacts - 2.0% (Validation: 0, Clipping: 0, Motion: 35)\n",
      "Trial 2730: Artifacts - 11.5% (Validation: 0, Clipping: 1, Motion: 200)\n"
     ]
    },
    {
     "name": "stderr",
     "output_type": "stream",
     "text": [
      "/usr/local/lib/python3.11/dist-packages/sklearn/decomposition/_fastica.py:542: FutureWarning: Starting in v1.3, whiten='unit-variance' will be used by default.\n",
      "  warnings.warn(\n"
     ]
    },
    {
     "name": "stdout",
     "output_type": "stream",
     "text": [
      "Trial 2731: Artifacts - 0.0% (Validation: 0, Clipping: 0, Motion: 0)\n",
      "Trial 2732: Artifacts - 0.1% (Validation: 0, Clipping: 0, Motion: 2)\n",
      "Trial 2733: Artifacts - 1.2% (Validation: 0, Clipping: 0, Motion: 21)\n",
      "Trial 2734: Artifacts - 0.0% (Validation: 0, Clipping: 0, Motion: 0)\n",
      "Trial 2735: Artifacts - 12.2% (Validation: 0, Clipping: 0, Motion: 213)\n",
      "Trial 2736: Artifacts - 1.5% (Validation: 0, Clipping: 0, Motion: 26)\n"
     ]
    },
    {
     "name": "stderr",
     "output_type": "stream",
     "text": [
      "/usr/local/lib/python3.11/dist-packages/sklearn/decomposition/_fastica.py:542: FutureWarning: Starting in v1.3, whiten='unit-variance' will be used by default.\n",
      "  warnings.warn(\n"
     ]
    },
    {
     "name": "stdout",
     "output_type": "stream",
     "text": [
      "Trial 2737: Artifacts - 1.1% (Validation: 0, Clipping: 0, Motion: 19)\n",
      "Trial 2738: Artifacts - 0.1% (Validation: 0, Clipping: 0, Motion: 1)\n",
      "Trial 2739: Artifacts - 0.5% (Validation: 0, Clipping: 1, Motion: 7)\n",
      "Trial 2740: Artifacts - 0.0% (Validation: 0, Clipping: 0, Motion: 0)\n",
      "Trial 2741: Artifacts - 3.4% (Validation: 0, Clipping: 0, Motion: 59)\n",
      "Trial 2742: Artifacts - 0.3% (Validation: 0, Clipping: 0, Motion: 5)\n"
     ]
    },
    {
     "name": "stderr",
     "output_type": "stream",
     "text": [
      "/usr/local/lib/python3.11/dist-packages/sklearn/decomposition/_fastica.py:542: FutureWarning: Starting in v1.3, whiten='unit-variance' will be used by default.\n",
      "  warnings.warn(\n"
     ]
    },
    {
     "name": "stdout",
     "output_type": "stream",
     "text": [
      "Trial 2743: Artifacts - 1.0% (Validation: 0, Clipping: 0, Motion: 17)\n",
      "Trial 2744: Artifacts - 3.1% (Validation: 0, Clipping: 0, Motion: 54)\n"
     ]
    },
    {
     "name": "stderr",
     "output_type": "stream",
     "text": [
      "/usr/local/lib/python3.11/dist-packages/sklearn/decomposition/_fastica.py:542: FutureWarning: Starting in v1.3, whiten='unit-variance' will be used by default.\n",
      "  warnings.warn(\n"
     ]
    },
    {
     "name": "stdout",
     "output_type": "stream",
     "text": [
      "Trial 2745: Artifacts - 7.3% (Validation: 103, Clipping: 0, Motion: 25)\n",
      "Trial 2746: Artifacts - 12.5% (Validation: 199, Clipping: 90, Motion: 19)\n",
      "Trial 2747: Artifacts - 2.9% (Validation: 50, Clipping: 6, Motion: 0)\n",
      "Trial 2748: Artifacts - 3.1% (Validation: 39, Clipping: 4, Motion: 16)\n",
      "Trial 2749: Artifacts - 0.0% (Validation: 0, Clipping: 0, Motion: 0)\n",
      "Trial 2750: Artifacts - 5.6% (Validation: 0, Clipping: 0, Motion: 98)\n"
     ]
    },
    {
     "name": "stderr",
     "output_type": "stream",
     "text": [
      "/usr/local/lib/python3.11/dist-packages/sklearn/decomposition/_fastica.py:542: FutureWarning: Starting in v1.3, whiten='unit-variance' will be used by default.\n",
      "  warnings.warn(\n"
     ]
    },
    {
     "name": "stdout",
     "output_type": "stream",
     "text": [
      "Trial 2751: Artifacts - 4.7% (Validation: 0, Clipping: 0, Motion: 82)\n",
      "Trial 2752: Artifacts - 0.6% (Validation: 0, Clipping: 1, Motion: 9)\n"
     ]
    },
    {
     "name": "stderr",
     "output_type": "stream",
     "text": [
      "/usr/local/lib/python3.11/dist-packages/sklearn/decomposition/_fastica.py:542: FutureWarning: Starting in v1.3, whiten='unit-variance' will be used by default.\n",
      "  warnings.warn(\n"
     ]
    },
    {
     "name": "stdout",
     "output_type": "stream",
     "text": [
      "Trial 2753: Artifacts - 0.0% (Validation: 0, Clipping: 0, Motion: 0)\n",
      "Trial 2754: Artifacts - 0.7% (Validation: 0, Clipping: 0, Motion: 12)\n",
      "Trial 2755: Artifacts - 4.8% (Validation: 0, Clipping: 0, Motion: 84)\n",
      "Trial 2756: Artifacts - 0.0% (Validation: 0, Clipping: 0, Motion: 0)\n"
     ]
    },
    {
     "name": "stderr",
     "output_type": "stream",
     "text": [
      "/usr/local/lib/python3.11/dist-packages/sklearn/decomposition/_fastica.py:542: FutureWarning: Starting in v1.3, whiten='unit-variance' will be used by default.\n",
      "  warnings.warn(\n"
     ]
    },
    {
     "name": "stdout",
     "output_type": "stream",
     "text": [
      "Trial 2757: Artifacts - 4.6% (Validation: 0, Clipping: 0, Motion: 80)\n",
      "Trial 2758: Artifacts - 5.3% (Validation: 59, Clipping: 0, Motion: 33)\n"
     ]
    },
    {
     "name": "stderr",
     "output_type": "stream",
     "text": [
      "/usr/local/lib/python3.11/dist-packages/sklearn/decomposition/_fastica.py:542: FutureWarning: Starting in v1.3, whiten='unit-variance' will be used by default.\n",
      "  warnings.warn(\n"
     ]
    },
    {
     "name": "stdout",
     "output_type": "stream",
     "text": [
      "Trial 2759: Artifacts - 0.1% (Validation: 0, Clipping: 1, Motion: 0)\n",
      "Trial 2760: Artifacts - 1.0% (Validation: 0, Clipping: 1, Motion: 16)\n",
      "Trial 2761: Artifacts - 9.9% (Validation: 0, Clipping: 0, Motion: 174)\n"
     ]
    },
    {
     "name": "stderr",
     "output_type": "stream",
     "text": [
      "/usr/local/lib/python3.11/dist-packages/sklearn/decomposition/_fastica.py:542: FutureWarning: Starting in v1.3, whiten='unit-variance' will be used by default.\n",
      "  warnings.warn(\n"
     ]
    },
    {
     "name": "stdout",
     "output_type": "stream",
     "text": [
      "Trial 2762: Artifacts - 8.7% (Validation: 152, Clipping: 9, Motion: 0)\n",
      "Trial 2763: Artifacts - 7.1% (Validation: 0, Clipping: 0, Motion: 125)\n"
     ]
    },
    {
     "name": "stderr",
     "output_type": "stream",
     "text": [
      "/usr/local/lib/python3.11/dist-packages/sklearn/decomposition/_fastica.py:542: FutureWarning: Starting in v1.3, whiten='unit-variance' will be used by default.\n",
      "  warnings.warn(\n"
     ]
    },
    {
     "name": "stdout",
     "output_type": "stream",
     "text": [
      "Trial 2764: Artifacts - 0.2% (Validation: 0, Clipping: 0, Motion: 3)\n",
      "Trial 2765: Artifacts - 0.0% (Validation: 0, Clipping: 0, Motion: 0)\n",
      "Trial 2766: Artifacts - 5.3% (Validation: 91, Clipping: 1, Motion: 0)\n",
      "Trial 2767: Artifacts - 2.7% (Validation: 0, Clipping: 1, Motion: 47)\n",
      "Trial 2768: Artifacts - 5.3% (Validation: 0, Clipping: 0, Motion: 93)\n",
      "Trial 2769: Artifacts - 7.0% (Validation: 123, Clipping: 26, Motion: 0)\n"
     ]
    },
    {
     "name": "stderr",
     "output_type": "stream",
     "text": [
      "/usr/local/lib/python3.11/dist-packages/sklearn/decomposition/_fastica.py:542: FutureWarning: Starting in v1.3, whiten='unit-variance' will be used by default.\n",
      "  warnings.warn(\n"
     ]
    },
    {
     "name": "stdout",
     "output_type": "stream",
     "text": [
      "Trial 2770: Artifacts - 0.1% (Validation: 0, Clipping: 1, Motion: 0)\n",
      "Trial 2771: Artifacts - 7.3% (Validation: 0, Clipping: 1, Motion: 126)\n"
     ]
    },
    {
     "name": "stderr",
     "output_type": "stream",
     "text": [
      "/usr/local/lib/python3.11/dist-packages/sklearn/decomposition/_fastica.py:542: FutureWarning: Starting in v1.3, whiten='unit-variance' will be used by default.\n",
      "  warnings.warn(\n"
     ]
    },
    {
     "name": "stdout",
     "output_type": "stream",
     "text": [
      "Trial 2772: Artifacts - 3.0% (Validation: 14, Clipping: 0, Motion: 38)\n",
      "Trial 2773: Artifacts - 11.3% (Validation: 70, Clipping: 0, Motion: 127)\n"
     ]
    },
    {
     "name": "stderr",
     "output_type": "stream",
     "text": [
      "/usr/local/lib/python3.11/dist-packages/sklearn/decomposition/_fastica.py:542: FutureWarning: Starting in v1.3, whiten='unit-variance' will be used by default.\n",
      "  warnings.warn(\n",
      "/usr/local/lib/python3.11/dist-packages/sklearn/decomposition/_fastica.py:542: FutureWarning: Starting in v1.3, whiten='unit-variance' will be used by default.\n",
      "  warnings.warn(\n"
     ]
    },
    {
     "name": "stdout",
     "output_type": "stream",
     "text": [
      "Trial 2774: Artifacts - 21.5% (Validation: 188, Clipping: 17, Motion: 189)\n",
      "Trial 2775: Artifacts - 0.1% (Validation: 0, Clipping: 1, Motion: 0)\n",
      "Trial 2776: Artifacts - 0.0% (Validation: 0, Clipping: 0, Motion: 0)\n",
      "Trial 2777: Artifacts - 0.0% (Validation: 0, Clipping: 0, Motion: 0)\n",
      "Trial 2778: Artifacts - 0.0% (Validation: 0, Clipping: 0, Motion: 0)\n",
      "Trial 2779: Artifacts - 0.0% (Validation: 0, Clipping: 0, Motion: 0)\n",
      "Trial 2780: Artifacts - 1.1% (Validation: 0, Clipping: 0, Motion: 19)\n",
      "Trial 2781: Artifacts - 10.5% (Validation: 0, Clipping: 0, Motion: 183)\n"
     ]
    },
    {
     "name": "stderr",
     "output_type": "stream",
     "text": [
      "/usr/local/lib/python3.11/dist-packages/sklearn/decomposition/_fastica.py:542: FutureWarning: Starting in v1.3, whiten='unit-variance' will be used by default.\n",
      "  warnings.warn(\n"
     ]
    },
    {
     "name": "stdout",
     "output_type": "stream",
     "text": [
      "Trial 2782: Artifacts - 0.6% (Validation: 0, Clipping: 0, Motion: 11)\n",
      "Trial 2783: Artifacts - 2.1% (Validation: 0, Clipping: 1, Motion: 36)\n",
      "Trial 2784: Artifacts - 0.1% (Validation: 0, Clipping: 1, Motion: 0)\n",
      "Trial 2785: Artifacts - 0.1% (Validation: 0, Clipping: 0, Motion: 1)\n",
      "Trial 2786: Artifacts - 2.0% (Validation: 0, Clipping: 0, Motion: 35)\n",
      "Trial 2787: Artifacts - 2.8% (Validation: 0, Clipping: 0, Motion: 49)\n",
      "Trial 2788: Artifacts - 0.3% (Validation: 0, Clipping: 1, Motion: 5)\n",
      "Trial 2789: Artifacts - 0.1% (Validation: 0, Clipping: 1, Motion: 0)\n",
      "Trial 2790: Artifacts - 6.0% (Validation: 104, Clipping: 37, Motion: 0)\n",
      "Trial 2791: Artifacts - 19.1% (Validation: 61, Clipping: 1, Motion: 331)\n"
     ]
    },
    {
     "name": "stderr",
     "output_type": "stream",
     "text": [
      "/usr/local/lib/python3.11/dist-packages/sklearn/decomposition/_fastica.py:542: FutureWarning: Starting in v1.3, whiten='unit-variance' will be used by default.\n",
      "  warnings.warn(\n"
     ]
    },
    {
     "name": "stdout",
     "output_type": "stream",
     "text": [
      "Trial 2792: Artifacts - 0.0% (Validation: 0, Clipping: 0, Motion: 0)\n",
      "Trial 2793: Artifacts - 0.6% (Validation: 0, Clipping: 0, Motion: 11)\n",
      "Trial 2794: Artifacts - 0.2% (Validation: 0, Clipping: 0, Motion: 4)\n",
      "Trial 2795: Artifacts - 0.0% (Validation: 0, Clipping: 0, Motion: 0)\n",
      "Trial 2796: Artifacts - 0.0% (Validation: 0, Clipping: 0, Motion: 0)\n",
      "Trial 2797: Artifacts - 0.1% (Validation: 0, Clipping: 1, Motion: 0)\n",
      "Trial 2798: Artifacts - 0.0% (Validation: 0, Clipping: 0, Motion: 0)\n",
      "Trial 2799: Artifacts - 0.0% (Validation: 0, Clipping: 0, Motion: 0)\n",
      "Trial 2800: Artifacts - 0.0% (Validation: 0, Clipping: 0, Motion: 0)\n",
      "Processed 2800/4800 trials\n",
      "Trial 2801: Artifacts - 10.5% (Validation: 0, Clipping: 0, Motion: 184)\n"
     ]
    },
    {
     "name": "stderr",
     "output_type": "stream",
     "text": [
      "/usr/local/lib/python3.11/dist-packages/sklearn/decomposition/_fastica.py:542: FutureWarning: Starting in v1.3, whiten='unit-variance' will be used by default.\n",
      "  warnings.warn(\n",
      "/usr/local/lib/python3.11/dist-packages/sklearn/decomposition/_fastica.py:542: FutureWarning: Starting in v1.3, whiten='unit-variance' will be used by default.\n",
      "  warnings.warn(\n"
     ]
    },
    {
     "name": "stdout",
     "output_type": "stream",
     "text": [
      "Trial 2802: Artifacts - 8.2% (Validation: 0, Clipping: 0, Motion: 144)\n",
      "Trial 2803: Artifacts - 7.2% (Validation: 0, Clipping: 0, Motion: 126)\n",
      "Trial 2804: Artifacts - 5.8% (Validation: 0, Clipping: 0, Motion: 101)\n"
     ]
    },
    {
     "name": "stderr",
     "output_type": "stream",
     "text": [
      "/usr/local/lib/python3.11/dist-packages/sklearn/decomposition/_fastica.py:542: FutureWarning: Starting in v1.3, whiten='unit-variance' will be used by default.\n",
      "  warnings.warn(\n",
      "/usr/local/lib/python3.11/dist-packages/sklearn/decomposition/_fastica.py:542: FutureWarning: Starting in v1.3, whiten='unit-variance' will be used by default.\n",
      "  warnings.warn(\n"
     ]
    },
    {
     "name": "stdout",
     "output_type": "stream",
     "text": [
      "Trial 2805: Artifacts - 0.0% (Validation: 0, Clipping: 0, Motion: 0)\n",
      "Trial 2806: Artifacts - 0.0% (Validation: 0, Clipping: 0, Motion: 0)\n",
      "Trial 2807: Artifacts - 0.1% (Validation: 0, Clipping: 1, Motion: 0)\n",
      "Trial 2808: Artifacts - 0.0% (Validation: 0, Clipping: 0, Motion: 0)\n",
      "Trial 2809: Artifacts - 8.0% (Validation: 0, Clipping: 0, Motion: 140)\n",
      "Trial 2810: Artifacts - 0.0% (Validation: 0, Clipping: 0, Motion: 0)\n"
     ]
    },
    {
     "name": "stderr",
     "output_type": "stream",
     "text": [
      "/usr/local/lib/python3.11/dist-packages/sklearn/decomposition/_fastica.py:542: FutureWarning: Starting in v1.3, whiten='unit-variance' will be used by default.\n",
      "  warnings.warn(\n"
     ]
    },
    {
     "name": "stdout",
     "output_type": "stream",
     "text": [
      "Trial 2811: Artifacts - 6.2% (Validation: 0, Clipping: 0, Motion: 109)\n",
      "Trial 2812: Artifacts - 8.1% (Validation: 0, Clipping: 0, Motion: 141)\n"
     ]
    },
    {
     "name": "stderr",
     "output_type": "stream",
     "text": [
      "/usr/local/lib/python3.11/dist-packages/sklearn/decomposition/_fastica.py:542: FutureWarning: Starting in v1.3, whiten='unit-variance' will be used by default.\n",
      "  warnings.warn(\n",
      "/usr/local/lib/python3.11/dist-packages/sklearn/decomposition/_fastica.py:542: FutureWarning: Starting in v1.3, whiten='unit-variance' will be used by default.\n",
      "  warnings.warn(\n"
     ]
    },
    {
     "name": "stdout",
     "output_type": "stream",
     "text": [
      "Trial 2813: Artifacts - 8.5% (Validation: 0, Clipping: 0, Motion: 148)\n",
      "Trial 2814: Artifacts - 3.1% (Validation: 0, Clipping: 0, Motion: 54)\n"
     ]
    },
    {
     "name": "stderr",
     "output_type": "stream",
     "text": [
      "/usr/local/lib/python3.11/dist-packages/sklearn/decomposition/_fastica.py:542: FutureWarning: Starting in v1.3, whiten='unit-variance' will be used by default.\n",
      "  warnings.warn(\n",
      "/usr/local/lib/python3.11/dist-packages/sklearn/decomposition/_fastica.py:542: FutureWarning: Starting in v1.3, whiten='unit-variance' will be used by default.\n",
      "  warnings.warn(\n"
     ]
    },
    {
     "name": "stdout",
     "output_type": "stream",
     "text": [
      "Trial 2815: Artifacts - 0.0% (Validation: 0, Clipping: 0, Motion: 0)\n",
      "Trial 2816: Artifacts - 0.0% (Validation: 0, Clipping: 0, Motion: 0)\n",
      "Trial 2817: Artifacts - 1.3% (Validation: 0, Clipping: 0, Motion: 23)\n",
      "Trial 2818: Artifacts - 0.0% (Validation: 0, Clipping: 0, Motion: 0)\n",
      "Trial 2819: Artifacts - 0.0% (Validation: 0, Clipping: 0, Motion: 0)\n",
      "Trial 2820: Artifacts - 0.0% (Validation: 0, Clipping: 0, Motion: 0)\n",
      "Trial 2821: Artifacts - 11.1% (Validation: 0, Clipping: 0, Motion: 195)\n",
      "Trial 2822: Artifacts - 3.7% (Validation: 0, Clipping: 0, Motion: 64)\n"
     ]
    },
    {
     "name": "stderr",
     "output_type": "stream",
     "text": [
      "/usr/local/lib/python3.11/dist-packages/sklearn/decomposition/_fastica.py:542: FutureWarning: Starting in v1.3, whiten='unit-variance' will be used by default.\n",
      "  warnings.warn(\n",
      "/usr/local/lib/python3.11/dist-packages/sklearn/decomposition/_fastica.py:542: FutureWarning: Starting in v1.3, whiten='unit-variance' will be used by default.\n",
      "  warnings.warn(\n",
      "/usr/local/lib/python3.11/dist-packages/sklearn/decomposition/_fastica.py:123: ConvergenceWarning: FastICA did not converge. Consider increasing tolerance or the maximum number of iterations.\n",
      "  warnings.warn(\n"
     ]
    },
    {
     "name": "stdout",
     "output_type": "stream",
     "text": [
      "Trial 2823: Artifacts - 1.5% (Validation: 0, Clipping: 0, Motion: 26)\n",
      "Trial 2824: Artifacts - 0.0% (Validation: 0, Clipping: 0, Motion: 0)\n",
      "Trial 2825: Artifacts - 0.0% (Validation: 0, Clipping: 0, Motion: 0)\n",
      "Trial 2826: Artifacts - 4.8% (Validation: 0, Clipping: 1, Motion: 83)\n"
     ]
    },
    {
     "name": "stderr",
     "output_type": "stream",
     "text": [
      "/usr/local/lib/python3.11/dist-packages/sklearn/decomposition/_fastica.py:542: FutureWarning: Starting in v1.3, whiten='unit-variance' will be used by default.\n",
      "  warnings.warn(\n"
     ]
    },
    {
     "name": "stdout",
     "output_type": "stream",
     "text": [
      "Trial 2827: Artifacts - 1.8% (Validation: 0, Clipping: 0, Motion: 31)\n",
      "Trial 2828: Artifacts - 0.0% (Validation: 0, Clipping: 0, Motion: 0)\n",
      "Trial 2829: Artifacts - 0.1% (Validation: 0, Clipping: 1, Motion: 0)\n",
      "Trial 2830: Artifacts - 0.0% (Validation: 0, Clipping: 0, Motion: 0)\n",
      "Trial 2831: Artifacts - 11.5% (Validation: 0, Clipping: 0, Motion: 201)\n"
     ]
    },
    {
     "name": "stderr",
     "output_type": "stream",
     "text": [
      "/usr/local/lib/python3.11/dist-packages/sklearn/decomposition/_fastica.py:542: FutureWarning: Starting in v1.3, whiten='unit-variance' will be used by default.\n",
      "  warnings.warn(\n"
     ]
    },
    {
     "name": "stdout",
     "output_type": "stream",
     "text": [
      "Trial 2832: Artifacts - 6.2% (Validation: 0, Clipping: 0, Motion: 108)\n"
     ]
    },
    {
     "name": "stderr",
     "output_type": "stream",
     "text": [
      "/usr/local/lib/python3.11/dist-packages/sklearn/decomposition/_fastica.py:542: FutureWarning: Starting in v1.3, whiten='unit-variance' will be used by default.\n",
      "  warnings.warn(\n"
     ]
    },
    {
     "name": "stdout",
     "output_type": "stream",
     "text": [
      "Trial 2833: Artifacts - 1.4% (Validation: 0, Clipping: 0, Motion: 25)\n",
      "Trial 2834: Artifacts - 0.1% (Validation: 0, Clipping: 1, Motion: 0)\n",
      "Trial 2835: Artifacts - 0.0% (Validation: 0, Clipping: 0, Motion: 0)\n",
      "Trial 2836: Artifacts - 5.2% (Validation: 0, Clipping: 0, Motion: 91)\n"
     ]
    },
    {
     "name": "stderr",
     "output_type": "stream",
     "text": [
      "/usr/local/lib/python3.11/dist-packages/sklearn/decomposition/_fastica.py:542: FutureWarning: Starting in v1.3, whiten='unit-variance' will be used by default.\n",
      "  warnings.warn(\n"
     ]
    },
    {
     "name": "stdout",
     "output_type": "stream",
     "text": [
      "Trial 2837: Artifacts - 0.1% (Validation: 0, Clipping: 0, Motion: 1)\n",
      "Trial 2838: Artifacts - 0.0% (Validation: 0, Clipping: 0, Motion: 0)\n",
      "Trial 2839: Artifacts - 1.3% (Validation: 0, Clipping: 0, Motion: 22)\n",
      "Trial 2840: Artifacts - 0.9% (Validation: 0, Clipping: 0, Motion: 15)\n",
      "Trial 2841: Artifacts - 11.9% (Validation: 0, Clipping: 1, Motion: 208)\n",
      "Trial 2842: Artifacts - 0.1% (Validation: 0, Clipping: 1, Motion: 0)\n"
     ]
    },
    {
     "name": "stderr",
     "output_type": "stream",
     "text": [
      "/usr/local/lib/python3.11/dist-packages/sklearn/decomposition/_fastica.py:542: FutureWarning: Starting in v1.3, whiten='unit-variance' will be used by default.\n",
      "  warnings.warn(\n"
     ]
    },
    {
     "name": "stdout",
     "output_type": "stream",
     "text": [
      "Trial 2843: Artifacts - 0.3% (Validation: 0, Clipping: 0, Motion: 5)\n",
      "Trial 2844: Artifacts - 0.0% (Validation: 0, Clipping: 0, Motion: 0)\n",
      "Trial 2845: Artifacts - 0.0% (Validation: 0, Clipping: 0, Motion: 0)\n",
      "Trial 2846: Artifacts - 0.0% (Validation: 0, Clipping: 0, Motion: 0)\n",
      "Trial 2847: Artifacts - 0.0% (Validation: 0, Clipping: 0, Motion: 0)\n",
      "Trial 2848: Artifacts - 0.0% (Validation: 0, Clipping: 0, Motion: 0)\n",
      "Trial 2849: Artifacts - 0.0% (Validation: 0, Clipping: 0, Motion: 0)\n",
      "Trial 2850: Artifacts - 0.0% (Validation: 0, Clipping: 0, Motion: 0)\n",
      "Trial 2851: Artifacts - 1.6% (Validation: 0, Clipping: 0, Motion: 28)\n",
      "Trial 2852: Artifacts - 12.9% (Validation: 0, Clipping: 0, Motion: 225)\n"
     ]
    },
    {
     "name": "stderr",
     "output_type": "stream",
     "text": [
      "/usr/local/lib/python3.11/dist-packages/sklearn/decomposition/_fastica.py:542: FutureWarning: Starting in v1.3, whiten='unit-variance' will be used by default.\n",
      "  warnings.warn(\n"
     ]
    },
    {
     "name": "stdout",
     "output_type": "stream",
     "text": [
      "Trial 2853: Artifacts - 7.8% (Validation: 0, Clipping: 0, Motion: 136)\n"
     ]
    },
    {
     "name": "stderr",
     "output_type": "stream",
     "text": [
      "/usr/local/lib/python3.11/dist-packages/sklearn/decomposition/_fastica.py:542: FutureWarning: Starting in v1.3, whiten='unit-variance' will be used by default.\n",
      "  warnings.warn(\n"
     ]
    },
    {
     "name": "stdout",
     "output_type": "stream",
     "text": [
      "Trial 2854: Artifacts - 6.1% (Validation: 0, Clipping: 0, Motion: 106)\n",
      "Trial 2855: Artifacts - 11.3% (Validation: 0, Clipping: 0, Motion: 198)\n"
     ]
    },
    {
     "name": "stderr",
     "output_type": "stream",
     "text": [
      "/usr/local/lib/python3.11/dist-packages/sklearn/decomposition/_fastica.py:542: FutureWarning: Starting in v1.3, whiten='unit-variance' will be used by default.\n",
      "  warnings.warn(\n",
      "/usr/local/lib/python3.11/dist-packages/sklearn/decomposition/_fastica.py:542: FutureWarning: Starting in v1.3, whiten='unit-variance' will be used by default.\n",
      "  warnings.warn(\n"
     ]
    },
    {
     "name": "stdout",
     "output_type": "stream",
     "text": [
      "Trial 2856: Artifacts - 2.3% (Validation: 0, Clipping: 0, Motion: 40)\n",
      "Trial 2857: Artifacts - 4.6% (Validation: 0, Clipping: 0, Motion: 80)\n"
     ]
    },
    {
     "name": "stderr",
     "output_type": "stream",
     "text": [
      "/usr/local/lib/python3.11/dist-packages/sklearn/decomposition/_fastica.py:542: FutureWarning: Starting in v1.3, whiten='unit-variance' will be used by default.\n",
      "  warnings.warn(\n"
     ]
    },
    {
     "name": "stdout",
     "output_type": "stream",
     "text": [
      "Trial 2858: Artifacts - 0.0% (Validation: 0, Clipping: 0, Motion: 0)\n",
      "Trial 2859: Artifacts - 0.0% (Validation: 0, Clipping: 0, Motion: 0)\n",
      "Trial 2860: Artifacts - 0.0% (Validation: 0, Clipping: 0, Motion: 0)\n",
      "Trial 2861: Artifacts - 8.2% (Validation: 0, Clipping: 0, Motion: 143)\n"
     ]
    },
    {
     "name": "stderr",
     "output_type": "stream",
     "text": [
      "/usr/local/lib/python3.11/dist-packages/sklearn/decomposition/_fastica.py:542: FutureWarning: Starting in v1.3, whiten='unit-variance' will be used by default.\n",
      "  warnings.warn(\n",
      "/usr/local/lib/python3.11/dist-packages/sklearn/decomposition/_fastica.py:542: FutureWarning: Starting in v1.3, whiten='unit-variance' will be used by default.\n",
      "  warnings.warn(\n"
     ]
    },
    {
     "name": "stdout",
     "output_type": "stream",
     "text": [
      "Trial 2862: Artifacts - 11.5% (Validation: 0, Clipping: 1, Motion: 201)\n",
      "Trial 2863: Artifacts - 2.0% (Validation: 0, Clipping: 0, Motion: 35)\n",
      "Trial 2864: Artifacts - 5.4% (Validation: 0, Clipping: 0, Motion: 95)\n",
      "Trial 2865: Artifacts - 2.7% (Validation: 0, Clipping: 0, Motion: 47)\n"
     ]
    },
    {
     "name": "stderr",
     "output_type": "stream",
     "text": [
      "/usr/local/lib/python3.11/dist-packages/sklearn/decomposition/_fastica.py:542: FutureWarning: Starting in v1.3, whiten='unit-variance' will be used by default.\n",
      "  warnings.warn(\n"
     ]
    },
    {
     "name": "stdout",
     "output_type": "stream",
     "text": [
      "Trial 2866: Artifacts - 0.0% (Validation: 0, Clipping: 0, Motion: 0)\n",
      "Trial 2867: Artifacts - 0.0% (Validation: 0, Clipping: 0, Motion: 0)\n",
      "Trial 2868: Artifacts - 0.0% (Validation: 0, Clipping: 0, Motion: 0)\n",
      "Trial 2869: Artifacts - 0.0% (Validation: 0, Clipping: 0, Motion: 0)\n",
      "Trial 2870: Artifacts - 0.0% (Validation: 0, Clipping: 0, Motion: 0)\n",
      "Trial 2871: Artifacts - 10.7% (Validation: 0, Clipping: 0, Motion: 187)\n"
     ]
    },
    {
     "name": "stderr",
     "output_type": "stream",
     "text": [
      "/usr/local/lib/python3.11/dist-packages/sklearn/decomposition/_fastica.py:542: FutureWarning: Starting in v1.3, whiten='unit-variance' will be used by default.\n",
      "  warnings.warn(\n"
     ]
    },
    {
     "name": "stdout",
     "output_type": "stream",
     "text": [
      "Trial 2872: Artifacts - 7.1% (Validation: 0, Clipping: 0, Motion: 125)\n"
     ]
    },
    {
     "name": "stderr",
     "output_type": "stream",
     "text": [
      "/usr/local/lib/python3.11/dist-packages/sklearn/decomposition/_fastica.py:542: FutureWarning: Starting in v1.3, whiten='unit-variance' will be used by default.\n",
      "  warnings.warn(\n"
     ]
    },
    {
     "name": "stdout",
     "output_type": "stream",
     "text": [
      "Trial 2873: Artifacts - 2.1% (Validation: 0, Clipping: 0, Motion: 37)\n",
      "Trial 2874: Artifacts - 3.0% (Validation: 0, Clipping: 0, Motion: 53)\n"
     ]
    },
    {
     "name": "stderr",
     "output_type": "stream",
     "text": [
      "/usr/local/lib/python3.11/dist-packages/sklearn/decomposition/_fastica.py:542: FutureWarning: Starting in v1.3, whiten='unit-variance' will be used by default.\n",
      "  warnings.warn(\n"
     ]
    },
    {
     "name": "stdout",
     "output_type": "stream",
     "text": [
      "Trial 2875: Artifacts - 0.0% (Validation: 0, Clipping: 0, Motion: 0)\n",
      "Trial 2876: Artifacts - 0.0% (Validation: 0, Clipping: 0, Motion: 0)\n",
      "Trial 2877: Artifacts - 0.0% (Validation: 0, Clipping: 0, Motion: 0)\n",
      "Trial 2878: Artifacts - 0.0% (Validation: 0, Clipping: 0, Motion: 0)\n",
      "Trial 2879: Artifacts - 0.6% (Validation: 0, Clipping: 0, Motion: 10)\n",
      "Trial 2880: Artifacts - 0.0% (Validation: 0, Clipping: 0, Motion: 0)\n",
      "Trial 2881: Artifacts - 10.9% (Validation: 0, Clipping: 0, Motion: 190)\n",
      "Trial 2882: Artifacts - 2.8% (Validation: 0, Clipping: 0, Motion: 49)\n"
     ]
    },
    {
     "name": "stderr",
     "output_type": "stream",
     "text": [
      "/usr/local/lib/python3.11/dist-packages/sklearn/decomposition/_fastica.py:542: FutureWarning: Starting in v1.3, whiten='unit-variance' will be used by default.\n",
      "  warnings.warn(\n"
     ]
    },
    {
     "name": "stdout",
     "output_type": "stream",
     "text": [
      "Trial 2883: Artifacts - 0.3% (Validation: 0, Clipping: 0, Motion: 6)\n",
      "Trial 2884: Artifacts - 2.8% (Validation: 0, Clipping: 0, Motion: 49)\n",
      "Trial 2885: Artifacts - 0.5% (Validation: 0, Clipping: 0, Motion: 8)\n",
      "Trial 2886: Artifacts - 0.0% (Validation: 0, Clipping: 0, Motion: 0)\n",
      "Trial 2887: Artifacts - 0.0% (Validation: 0, Clipping: 0, Motion: 0)\n",
      "Trial 2888: Artifacts - 0.0% (Validation: 0, Clipping: 0, Motion: 0)\n",
      "Trial 2889: Artifacts - 0.1% (Validation: 0, Clipping: 1, Motion: 0)\n",
      "Trial 2890: Artifacts - 0.0% (Validation: 0, Clipping: 0, Motion: 0)\n",
      "Trial 2891: Artifacts - 1.9% (Validation: 0, Clipping: 0, Motion: 33)\n",
      "Trial 2892: Artifacts - 5.1% (Validation: 0, Clipping: 0, Motion: 90)\n"
     ]
    },
    {
     "name": "stderr",
     "output_type": "stream",
     "text": [
      "/usr/local/lib/python3.11/dist-packages/sklearn/decomposition/_fastica.py:542: FutureWarning: Starting in v1.3, whiten='unit-variance' will be used by default.\n",
      "  warnings.warn(\n"
     ]
    },
    {
     "name": "stdout",
     "output_type": "stream",
     "text": [
      "Trial 2893: Artifacts - 3.9% (Validation: 68, Clipping: 0, Motion: 0)\n",
      "Trial 2894: Artifacts - 0.0% (Validation: 0, Clipping: 0, Motion: 0)\n",
      "Trial 2895: Artifacts - 0.0% (Validation: 0, Clipping: 0, Motion: 0)\n",
      "Trial 2896: Artifacts - 5.1% (Validation: 90, Clipping: 46, Motion: 0)\n",
      "Trial 2897: Artifacts - 6.2% (Validation: 109, Clipping: 0, Motion: 0)\n",
      "Trial 2898: Artifacts - 0.0% (Validation: 0, Clipping: 0, Motion: 0)\n",
      "Trial 2899: Artifacts - 0.0% (Validation: 0, Clipping: 0, Motion: 0)\n",
      "Trial 2900: Artifacts - 0.0% (Validation: 0, Clipping: 0, Motion: 0)\n",
      "Processed 2900/4800 trials\n",
      "Trial 2901: Artifacts - 13.5% (Validation: 0, Clipping: 0, Motion: 236)\n"
     ]
    },
    {
     "name": "stderr",
     "output_type": "stream",
     "text": [
      "/usr/local/lib/python3.11/dist-packages/sklearn/decomposition/_fastica.py:542: FutureWarning: Starting in v1.3, whiten='unit-variance' will be used by default.\n",
      "  warnings.warn(\n"
     ]
    },
    {
     "name": "stdout",
     "output_type": "stream",
     "text": [
      "Trial 2902: Artifacts - 1.1% (Validation: 0, Clipping: 0, Motion: 20)\n",
      "Trial 2903: Artifacts - 0.0% (Validation: 0, Clipping: 0, Motion: 0)\n",
      "Trial 2904: Artifacts - 0.0% (Validation: 0, Clipping: 0, Motion: 0)\n",
      "Trial 2905: Artifacts - 0.0% (Validation: 0, Clipping: 0, Motion: 0)\n",
      "Trial 2906: Artifacts - 0.0% (Validation: 0, Clipping: 0, Motion: 0)\n",
      "Trial 2907: Artifacts - 0.1% (Validation: 0, Clipping: 1, Motion: 0)\n",
      "Trial 2908: Artifacts - 0.0% (Validation: 0, Clipping: 0, Motion: 0)\n",
      "Trial 2909: Artifacts - 10.5% (Validation: 170, Clipping: 58, Motion: 57)\n"
     ]
    },
    {
     "name": "stderr",
     "output_type": "stream",
     "text": [
      "/usr/local/lib/python3.11/dist-packages/sklearn/decomposition/_fastica.py:542: FutureWarning: Starting in v1.3, whiten='unit-variance' will be used by default.\n",
      "  warnings.warn(\n",
      "/usr/local/lib/python3.11/dist-packages/sklearn/decomposition/_fastica.py:542: FutureWarning: Starting in v1.3, whiten='unit-variance' will be used by default.\n",
      "  warnings.warn(\n"
     ]
    },
    {
     "name": "stdout",
     "output_type": "stream",
     "text": [
      "Trial 2910: Artifacts - 3.0% (Validation: 0, Clipping: 0, Motion: 52)\n",
      "Trial 2911: Artifacts - 7.3% (Validation: 0, Clipping: 0, Motion: 127)\n",
      "Trial 2912: Artifacts - 0.0% (Validation: 0, Clipping: 0, Motion: 0)\n"
     ]
    },
    {
     "name": "stderr",
     "output_type": "stream",
     "text": [
      "/usr/local/lib/python3.11/dist-packages/sklearn/decomposition/_fastica.py:542: FutureWarning: Starting in v1.3, whiten='unit-variance' will be used by default.\n",
      "  warnings.warn(\n"
     ]
    },
    {
     "name": "stdout",
     "output_type": "stream",
     "text": [
      "Trial 2913: Artifacts - 2.1% (Validation: 0, Clipping: 0, Motion: 37)\n",
      "Trial 2914: Artifacts - 0.1% (Validation: 0, Clipping: 1, Motion: 0)\n",
      "Trial 2915: Artifacts - 4.6% (Validation: 80, Clipping: 32, Motion: 0)\n",
      "Trial 2916: Artifacts - 0.1% (Validation: 0, Clipping: 1, Motion: 0)\n",
      "Trial 2917: Artifacts - 0.0% (Validation: 0, Clipping: 0, Motion: 0)\n",
      "Trial 2918: Artifacts - 0.0% (Validation: 0, Clipping: 0, Motion: 0)\n",
      "Trial 2919: Artifacts - 0.0% (Validation: 0, Clipping: 0, Motion: 0)\n",
      "Trial 2920: Artifacts - 0.0% (Validation: 0, Clipping: 0, Motion: 0)\n",
      "Trial 2921: Artifacts - 5.1% (Validation: 0, Clipping: 0, Motion: 89)\n"
     ]
    },
    {
     "name": "stderr",
     "output_type": "stream",
     "text": [
      "/usr/local/lib/python3.11/dist-packages/sklearn/decomposition/_fastica.py:542: FutureWarning: Starting in v1.3, whiten='unit-variance' will be used by default.\n",
      "  warnings.warn(\n"
     ]
    },
    {
     "name": "stdout",
     "output_type": "stream",
     "text": [
      "Trial 2922: Artifacts - 0.9% (Validation: 0, Clipping: 1, Motion: 14)\n",
      "Trial 2923: Artifacts - 1.7% (Validation: 0, Clipping: 0, Motion: 30)\n",
      "Trial 2924: Artifacts - 0.0% (Validation: 0, Clipping: 0, Motion: 0)\n",
      "Trial 2925: Artifacts - 0.0% (Validation: 0, Clipping: 0, Motion: 0)\n",
      "Trial 2926: Artifacts - 4.3% (Validation: 76, Clipping: 0, Motion: 0)\n",
      "Trial 2927: Artifacts - 0.1% (Validation: 0, Clipping: 1, Motion: 0)\n",
      "Trial 2928: Artifacts - 0.0% (Validation: 0, Clipping: 0, Motion: 0)\n",
      "Trial 2929: Artifacts - 0.0% (Validation: 0, Clipping: 0, Motion: 0)\n",
      "Trial 2930: Artifacts - 0.1% (Validation: 0, Clipping: 1, Motion: 0)\n",
      "Trial 2931: Artifacts - 0.0% (Validation: 0, Clipping: 0, Motion: 0)\n",
      "Trial 2932: Artifacts - 0.0% (Validation: 0, Clipping: 0, Motion: 0)\n",
      "Trial 2933: Artifacts - 0.0% (Validation: 0, Clipping: 0, Motion: 0)\n",
      "Trial 2934: Artifacts - 0.1% (Validation: 0, Clipping: 1, Motion: 0)\n",
      "Trial 2935: Artifacts - 0.0% (Validation: 0, Clipping: 0, Motion: 0)\n",
      "Trial 2936: Artifacts - 0.0% (Validation: 0, Clipping: 0, Motion: 0)\n",
      "Trial 2937: Artifacts - 0.1% (Validation: 0, Clipping: 1, Motion: 0)\n",
      "Trial 2938: Artifacts - 3.7% (Validation: 65, Clipping: 17, Motion: 0)\n",
      "Trial 2939: Artifacts - 0.2% (Validation: 0, Clipping: 0, Motion: 3)\n",
      "Trial 2940: Artifacts - 0.0% (Validation: 0, Clipping: 0, Motion: 0)\n",
      "Trial 2941: Artifacts - 13.0% (Validation: 0, Clipping: 0, Motion: 228)\n"
     ]
    },
    {
     "name": "stderr",
     "output_type": "stream",
     "text": [
      "/usr/local/lib/python3.11/dist-packages/sklearn/decomposition/_fastica.py:542: FutureWarning: Starting in v1.3, whiten='unit-variance' will be used by default.\n",
      "  warnings.warn(\n"
     ]
    },
    {
     "name": "stdout",
     "output_type": "stream",
     "text": [
      "Trial 2942: Artifacts - 2.1% (Validation: 34, Clipping: 0, Motion: 2)\n",
      "Trial 2943: Artifacts - 6.4% (Validation: 111, Clipping: 64, Motion: 0)\n",
      "Trial 2944: Artifacts - 0.1% (Validation: 0, Clipping: 1, Motion: 0)\n",
      "Trial 2945: Artifacts - 0.0% (Validation: 0, Clipping: 0, Motion: 0)\n",
      "Trial 2946: Artifacts - 0.1% (Validation: 0, Clipping: 1, Motion: 0)\n",
      "Trial 2947: Artifacts - 0.1% (Validation: 0, Clipping: 1, Motion: 0)\n",
      "Trial 2948: Artifacts - 0.1% (Validation: 0, Clipping: 1, Motion: 0)\n",
      "Trial 2949: Artifacts - 0.0% (Validation: 0, Clipping: 0, Motion: 0)\n",
      "Trial 2950: Artifacts - 0.1% (Validation: 0, Clipping: 1, Motion: 0)\n",
      "Trial 2951: Artifacts - 8.5% (Validation: 0, Clipping: 0, Motion: 149)\n"
     ]
    },
    {
     "name": "stderr",
     "output_type": "stream",
     "text": [
      "/usr/local/lib/python3.11/dist-packages/sklearn/decomposition/_fastica.py:542: FutureWarning: Starting in v1.3, whiten='unit-variance' will be used by default.\n",
      "  warnings.warn(\n"
     ]
    },
    {
     "name": "stdout",
     "output_type": "stream",
     "text": [
      "Trial 2952: Artifacts - 0.0% (Validation: 0, Clipping: 0, Motion: 0)\n",
      "Trial 2953: Artifacts - 0.0% (Validation: 0, Clipping: 0, Motion: 0)\n",
      "Trial 2954: Artifacts - 4.1% (Validation: 72, Clipping: 70, Motion: 0)\n",
      "Trial 2955: Artifacts - 7.7% (Validation: 134, Clipping: 46, Motion: 0)\n",
      "Trial 2956: Artifacts - 1.7% (Validation: 29, Clipping: 2, Motion: 0)\n",
      "Trial 2957: Artifacts - 1.4% (Validation: 24, Clipping: 0, Motion: 0)\n",
      "Trial 2958: Artifacts - 0.0% (Validation: 0, Clipping: 0, Motion: 0)\n",
      "Trial 2959: Artifacts - 0.1% (Validation: 0, Clipping: 1, Motion: 0)\n",
      "Trial 2960: Artifacts - 0.1% (Validation: 0, Clipping: 1, Motion: 0)\n",
      "Trial 2961: Artifacts - 0.1% (Validation: 0, Clipping: 1, Motion: 0)\n",
      "Trial 2962: Artifacts - 6.7% (Validation: 0, Clipping: 0, Motion: 117)\n"
     ]
    },
    {
     "name": "stderr",
     "output_type": "stream",
     "text": [
      "/usr/local/lib/python3.11/dist-packages/sklearn/decomposition/_fastica.py:542: FutureWarning: Starting in v1.3, whiten='unit-variance' will be used by default.\n",
      "  warnings.warn(\n"
     ]
    },
    {
     "name": "stdout",
     "output_type": "stream",
     "text": [
      "Trial 2963: Artifacts - 11.3% (Validation: 0, Clipping: 0, Motion: 197)\n",
      "Trial 2964: Artifacts - 7.0% (Validation: 0, Clipping: 0, Motion: 123)\n"
     ]
    },
    {
     "name": "stderr",
     "output_type": "stream",
     "text": [
      "/usr/local/lib/python3.11/dist-packages/sklearn/decomposition/_fastica.py:542: FutureWarning: Starting in v1.3, whiten='unit-variance' will be used by default.\n",
      "  warnings.warn(\n",
      "/usr/local/lib/python3.11/dist-packages/sklearn/decomposition/_fastica.py:542: FutureWarning: Starting in v1.3, whiten='unit-variance' will be used by default.\n",
      "  warnings.warn(\n"
     ]
    },
    {
     "name": "stdout",
     "output_type": "stream",
     "text": [
      "Trial 2965: Artifacts - 3.7% (Validation: 0, Clipping: 0, Motion: 65)\n",
      "Trial 2966: Artifacts - 0.1% (Validation: 0, Clipping: 1, Motion: 0)\n"
     ]
    },
    {
     "name": "stderr",
     "output_type": "stream",
     "text": [
      "/usr/local/lib/python3.11/dist-packages/sklearn/decomposition/_fastica.py:542: FutureWarning: Starting in v1.3, whiten='unit-variance' will be used by default.\n",
      "  warnings.warn(\n"
     ]
    },
    {
     "name": "stdout",
     "output_type": "stream",
     "text": [
      "Trial 2967: Artifacts - 4.6% (Validation: 0, Clipping: 0, Motion: 80)\n",
      "Trial 2968: Artifacts - 1.4% (Validation: 0, Clipping: 0, Motion: 24)\n"
     ]
    },
    {
     "name": "stderr",
     "output_type": "stream",
     "text": [
      "/usr/local/lib/python3.11/dist-packages/sklearn/decomposition/_fastica.py:542: FutureWarning: Starting in v1.3, whiten='unit-variance' will be used by default.\n",
      "  warnings.warn(\n"
     ]
    },
    {
     "name": "stdout",
     "output_type": "stream",
     "text": [
      "Trial 2969: Artifacts - 0.0% (Validation: 0, Clipping: 0, Motion: 0)\n",
      "Trial 2970: Artifacts - 13.3% (Validation: 0, Clipping: 0, Motion: 233)\n"
     ]
    },
    {
     "name": "stderr",
     "output_type": "stream",
     "text": [
      "/usr/local/lib/python3.11/dist-packages/sklearn/decomposition/_fastica.py:542: FutureWarning: Starting in v1.3, whiten='unit-variance' will be used by default.\n",
      "  warnings.warn(\n"
     ]
    },
    {
     "name": "stdout",
     "output_type": "stream",
     "text": [
      "Trial 2971: Artifacts - 0.0% (Validation: 0, Clipping: 0, Motion: 0)\n",
      "Trial 2972: Artifacts - 2.4% (Validation: 0, Clipping: 1, Motion: 41)\n",
      "Trial 2973: Artifacts - 7.5% (Validation: 0, Clipping: 0, Motion: 132)\n",
      "Trial 2974: Artifacts - 9.9% (Validation: 0, Clipping: 0, Motion: 174)\n"
     ]
    },
    {
     "name": "stderr",
     "output_type": "stream",
     "text": [
      "/usr/local/lib/python3.11/dist-packages/sklearn/decomposition/_fastica.py:542: FutureWarning: Starting in v1.3, whiten='unit-variance' will be used by default.\n",
      "  warnings.warn(\n",
      "/usr/local/lib/python3.11/dist-packages/sklearn/decomposition/_fastica.py:542: FutureWarning: Starting in v1.3, whiten='unit-variance' will be used by default.\n",
      "  warnings.warn(\n"
     ]
    },
    {
     "name": "stdout",
     "output_type": "stream",
     "text": [
      "Trial 2975: Artifacts - 0.0% (Validation: 0, Clipping: 0, Motion: 0)\n",
      "Trial 2976: Artifacts - 0.0% (Validation: 0, Clipping: 0, Motion: 0)\n",
      "Trial 2977: Artifacts - 0.0% (Validation: 0, Clipping: 0, Motion: 0)\n",
      "Trial 2978: Artifacts - 0.0% (Validation: 0, Clipping: 0, Motion: 0)\n",
      "Trial 2979: Artifacts - 0.0% (Validation: 0, Clipping: 0, Motion: 0)\n",
      "Trial 2980: Artifacts - 6.9% (Validation: 0, Clipping: 0, Motion: 121)\n"
     ]
    },
    {
     "name": "stderr",
     "output_type": "stream",
     "text": [
      "/usr/local/lib/python3.11/dist-packages/sklearn/decomposition/_fastica.py:542: FutureWarning: Starting in v1.3, whiten='unit-variance' will be used by default.\n",
      "  warnings.warn(\n"
     ]
    },
    {
     "name": "stdout",
     "output_type": "stream",
     "text": [
      "Trial 2981: Artifacts - 0.0% (Validation: 0, Clipping: 0, Motion: 0)\n",
      "Trial 2982: Artifacts - 2.1% (Validation: 0, Clipping: 0, Motion: 36)\n",
      "Trial 2983: Artifacts - 15.3% (Validation: 0, Clipping: 0, Motion: 267)\n",
      "Trial 2984: Artifacts - 3.5% (Validation: 0, Clipping: 0, Motion: 61)\n"
     ]
    },
    {
     "name": "stderr",
     "output_type": "stream",
     "text": [
      "/usr/local/lib/python3.11/dist-packages/sklearn/decomposition/_fastica.py:542: FutureWarning: Starting in v1.3, whiten='unit-variance' will be used by default.\n",
      "  warnings.warn(\n",
      "/usr/local/lib/python3.11/dist-packages/sklearn/decomposition/_fastica.py:542: FutureWarning: Starting in v1.3, whiten='unit-variance' will be used by default.\n",
      "  warnings.warn(\n"
     ]
    },
    {
     "name": "stdout",
     "output_type": "stream",
     "text": [
      "Trial 2985: Artifacts - 14.6% (Validation: 0, Clipping: 0, Motion: 256)\n",
      "Trial 2986: Artifacts - 3.2% (Validation: 0, Clipping: 0, Motion: 56)\n"
     ]
    },
    {
     "name": "stderr",
     "output_type": "stream",
     "text": [
      "/usr/local/lib/python3.11/dist-packages/sklearn/decomposition/_fastica.py:542: FutureWarning: Starting in v1.3, whiten='unit-variance' will be used by default.\n",
      "  warnings.warn(\n",
      "/usr/local/lib/python3.11/dist-packages/sklearn/decomposition/_fastica.py:542: FutureWarning: Starting in v1.3, whiten='unit-variance' will be used by default.\n",
      "  warnings.warn(\n"
     ]
    },
    {
     "name": "stdout",
     "output_type": "stream",
     "text": [
      "Trial 2987: Artifacts - 2.1% (Validation: 0, Clipping: 0, Motion: 36)\n",
      "Trial 2988: Artifacts - 0.0% (Validation: 0, Clipping: 0, Motion: 0)\n",
      "Trial 2989: Artifacts - 0.1% (Validation: 0, Clipping: 1, Motion: 0)\n",
      "Trial 2990: Artifacts - 5.8% (Validation: 0, Clipping: 0, Motion: 101)\n"
     ]
    },
    {
     "name": "stderr",
     "output_type": "stream",
     "text": [
      "/usr/local/lib/python3.11/dist-packages/sklearn/decomposition/_fastica.py:542: FutureWarning: Starting in v1.3, whiten='unit-variance' will be used by default.\n",
      "  warnings.warn(\n"
     ]
    },
    {
     "name": "stdout",
     "output_type": "stream",
     "text": [
      "Trial 2991: Artifacts - 7.3% (Validation: 0, Clipping: 0, Motion: 128)\n",
      "Trial 2992: Artifacts - 0.0% (Validation: 0, Clipping: 0, Motion: 0)\n"
     ]
    },
    {
     "name": "stderr",
     "output_type": "stream",
     "text": [
      "/usr/local/lib/python3.11/dist-packages/sklearn/decomposition/_fastica.py:542: FutureWarning: Starting in v1.3, whiten='unit-variance' will be used by default.\n",
      "  warnings.warn(\n"
     ]
    },
    {
     "name": "stdout",
     "output_type": "stream",
     "text": [
      "Trial 2993: Artifacts - 6.1% (Validation: 0, Clipping: 0, Motion: 106)\n"
     ]
    },
    {
     "name": "stderr",
     "output_type": "stream",
     "text": [
      "/usr/local/lib/python3.11/dist-packages/sklearn/decomposition/_fastica.py:542: FutureWarning: Starting in v1.3, whiten='unit-variance' will be used by default.\n",
      "  warnings.warn(\n"
     ]
    },
    {
     "name": "stdout",
     "output_type": "stream",
     "text": [
      "Trial 2994: Artifacts - 0.0% (Validation: 0, Clipping: 0, Motion: 0)\n",
      "Trial 2995: Artifacts - 1.7% (Validation: 0, Clipping: 1, Motion: 28)\n",
      "Trial 2996: Artifacts - 0.0% (Validation: 0, Clipping: 0, Motion: 0)\n",
      "Trial 2997: Artifacts - 0.7% (Validation: 0, Clipping: 0, Motion: 12)\n",
      "Trial 2998: Artifacts - 0.0% (Validation: 0, Clipping: 0, Motion: 0)\n",
      "Trial 2999: Artifacts - 0.0% (Validation: 0, Clipping: 0, Motion: 0)\n",
      "Trial 3000: Artifacts - 0.1% (Validation: 0, Clipping: 0, Motion: 1)\n",
      "Processed 3000/4800 trials\n",
      "Trial 3001: Artifacts - 8.6% (Validation: 0, Clipping: 0, Motion: 151)\n"
     ]
    },
    {
     "name": "stderr",
     "output_type": "stream",
     "text": [
      "/usr/local/lib/python3.11/dist-packages/sklearn/decomposition/_fastica.py:542: FutureWarning: Starting in v1.3, whiten='unit-variance' will be used by default.\n",
      "  warnings.warn(\n"
     ]
    },
    {
     "name": "stdout",
     "output_type": "stream",
     "text": [
      "Trial 3002: Artifacts - 0.0% (Validation: 0, Clipping: 0, Motion: 0)\n",
      "Trial 3003: Artifacts - 4.5% (Validation: 0, Clipping: 0, Motion: 79)\n"
     ]
    },
    {
     "name": "stderr",
     "output_type": "stream",
     "text": [
      "/usr/local/lib/python3.11/dist-packages/sklearn/decomposition/_fastica.py:542: FutureWarning: Starting in v1.3, whiten='unit-variance' will be used by default.\n",
      "  warnings.warn(\n"
     ]
    },
    {
     "name": "stdout",
     "output_type": "stream",
     "text": [
      "Trial 3004: Artifacts - 0.7% (Validation: 0, Clipping: 0, Motion: 13)\n",
      "Trial 3005: Artifacts - 0.0% (Validation: 0, Clipping: 0, Motion: 0)\n",
      "Trial 3006: Artifacts - 0.2% (Validation: 0, Clipping: 0, Motion: 4)\n",
      "Trial 3007: Artifacts - 0.0% (Validation: 0, Clipping: 0, Motion: 0)\n",
      "Trial 3008: Artifacts - 0.2% (Validation: 0, Clipping: 0, Motion: 4)\n",
      "Trial 3009: Artifacts - 0.0% (Validation: 0, Clipping: 0, Motion: 0)\n",
      "Trial 3010: Artifacts - 0.1% (Validation: 0, Clipping: 0, Motion: 1)\n",
      "Trial 3011: Artifacts - 13.2% (Validation: 0, Clipping: 0, Motion: 231)\n"
     ]
    },
    {
     "name": "stderr",
     "output_type": "stream",
     "text": [
      "/usr/local/lib/python3.11/dist-packages/sklearn/decomposition/_fastica.py:542: FutureWarning: Starting in v1.3, whiten='unit-variance' will be used by default.\n",
      "  warnings.warn(\n"
     ]
    },
    {
     "name": "stdout",
     "output_type": "stream",
     "text": [
      "Trial 3012: Artifacts - 0.9% (Validation: 0, Clipping: 0, Motion: 15)\n",
      "Trial 3013: Artifacts - 5.2% (Validation: 0, Clipping: 0, Motion: 91)\n"
     ]
    },
    {
     "name": "stderr",
     "output_type": "stream",
     "text": [
      "/usr/local/lib/python3.11/dist-packages/sklearn/decomposition/_fastica.py:542: FutureWarning: Starting in v1.3, whiten='unit-variance' will be used by default.\n",
      "  warnings.warn(\n"
     ]
    },
    {
     "name": "stdout",
     "output_type": "stream",
     "text": [
      "Trial 3014: Artifacts - 10.5% (Validation: 0, Clipping: 0, Motion: 184)\n",
      "Trial 3015: Artifacts - 6.0% (Validation: 0, Clipping: 0, Motion: 105)\n"
     ]
    },
    {
     "name": "stderr",
     "output_type": "stream",
     "text": [
      "/usr/local/lib/python3.11/dist-packages/sklearn/decomposition/_fastica.py:542: FutureWarning: Starting in v1.3, whiten='unit-variance' will be used by default.\n",
      "  warnings.warn(\n",
      "/usr/local/lib/python3.11/dist-packages/sklearn/decomposition/_fastica.py:542: FutureWarning: Starting in v1.3, whiten='unit-variance' will be used by default.\n",
      "  warnings.warn(\n"
     ]
    },
    {
     "name": "stdout",
     "output_type": "stream",
     "text": [
      "Trial 3016: Artifacts - 1.5% (Validation: 0, Clipping: 0, Motion: 27)\n",
      "Trial 3017: Artifacts - 0.0% (Validation: 0, Clipping: 0, Motion: 0)\n",
      "Trial 3018: Artifacts - 3.1% (Validation: 0, Clipping: 0, Motion: 54)\n"
     ]
    },
    {
     "name": "stderr",
     "output_type": "stream",
     "text": [
      "/usr/local/lib/python3.11/dist-packages/sklearn/decomposition/_fastica.py:542: FutureWarning: Starting in v1.3, whiten='unit-variance' will be used by default.\n",
      "  warnings.warn(\n"
     ]
    },
    {
     "name": "stdout",
     "output_type": "stream",
     "text": [
      "Trial 3019: Artifacts - 2.1% (Validation: 0, Clipping: 0, Motion: 37)\n",
      "Trial 3020: Artifacts - 1.6% (Validation: 0, Clipping: 0, Motion: 28)\n",
      "Trial 3021: Artifacts - 2.1% (Validation: 0, Clipping: 0, Motion: 37)\n",
      "Trial 3022: Artifacts - 0.0% (Validation: 0, Clipping: 0, Motion: 0)\n",
      "Trial 3023: Artifacts - 6.0% (Validation: 0, Clipping: 0, Motion: 105)\n",
      "Trial 3024: Artifacts - 2.9% (Validation: 0, Clipping: 0, Motion: 51)\n"
     ]
    },
    {
     "name": "stderr",
     "output_type": "stream",
     "text": [
      "/usr/local/lib/python3.11/dist-packages/sklearn/decomposition/_fastica.py:542: FutureWarning: Starting in v1.3, whiten='unit-variance' will be used by default.\n",
      "  warnings.warn(\n",
      "/usr/local/lib/python3.11/dist-packages/sklearn/decomposition/_fastica.py:542: FutureWarning: Starting in v1.3, whiten='unit-variance' will be used by default.\n",
      "  warnings.warn(\n"
     ]
    },
    {
     "name": "stdout",
     "output_type": "stream",
     "text": [
      "Trial 3025: Artifacts - 7.4% (Validation: 0, Clipping: 0, Motion: 129)\n",
      "Trial 3026: Artifacts - 4.1% (Validation: 0, Clipping: 0, Motion: 71)\n"
     ]
    },
    {
     "name": "stderr",
     "output_type": "stream",
     "text": [
      "/usr/local/lib/python3.11/dist-packages/sklearn/decomposition/_fastica.py:542: FutureWarning: Starting in v1.3, whiten='unit-variance' will be used by default.\n",
      "  warnings.warn(\n",
      "/usr/local/lib/python3.11/dist-packages/sklearn/decomposition/_fastica.py:542: FutureWarning: Starting in v1.3, whiten='unit-variance' will be used by default.\n",
      "  warnings.warn(\n"
     ]
    },
    {
     "name": "stdout",
     "output_type": "stream",
     "text": [
      "Trial 3027: Artifacts - 0.0% (Validation: 0, Clipping: 0, Motion: 0)\n",
      "Trial 3028: Artifacts - 0.6% (Validation: 0, Clipping: 1, Motion: 10)\n",
      "Trial 3029: Artifacts - 0.0% (Validation: 0, Clipping: 0, Motion: 0)\n",
      "Trial 3030: Artifacts - 0.0% (Validation: 0, Clipping: 0, Motion: 0)\n",
      "Trial 3031: Artifacts - 8.7% (Validation: 0, Clipping: 0, Motion: 153)\n",
      "Trial 3032: Artifacts - 3.7% (Validation: 0, Clipping: 0, Motion: 64)\n"
     ]
    },
    {
     "name": "stderr",
     "output_type": "stream",
     "text": [
      "/usr/local/lib/python3.11/dist-packages/sklearn/decomposition/_fastica.py:542: FutureWarning: Starting in v1.3, whiten='unit-variance' will be used by default.\n",
      "  warnings.warn(\n",
      "/usr/local/lib/python3.11/dist-packages/sklearn/decomposition/_fastica.py:542: FutureWarning: Starting in v1.3, whiten='unit-variance' will be used by default.\n",
      "  warnings.warn(\n"
     ]
    },
    {
     "name": "stdout",
     "output_type": "stream",
     "text": [
      "Trial 3033: Artifacts - 5.3% (Validation: 0, Clipping: 0, Motion: 93)\n",
      "Trial 3034: Artifacts - 0.0% (Validation: 0, Clipping: 0, Motion: 0)\n"
     ]
    },
    {
     "name": "stderr",
     "output_type": "stream",
     "text": [
      "/usr/local/lib/python3.11/dist-packages/sklearn/decomposition/_fastica.py:542: FutureWarning: Starting in v1.3, whiten='unit-variance' will be used by default.\n",
      "  warnings.warn(\n"
     ]
    },
    {
     "name": "stdout",
     "output_type": "stream",
     "text": [
      "Trial 3035: Artifacts - 0.0% (Validation: 0, Clipping: 0, Motion: 0)\n",
      "Trial 3036: Artifacts - 0.0% (Validation: 0, Clipping: 0, Motion: 0)\n",
      "Trial 3037: Artifacts - 0.0% (Validation: 0, Clipping: 0, Motion: 0)\n",
      "Trial 3038: Artifacts - 3.7% (Validation: 0, Clipping: 0, Motion: 64)\n"
     ]
    },
    {
     "name": "stderr",
     "output_type": "stream",
     "text": [
      "/usr/local/lib/python3.11/dist-packages/sklearn/decomposition/_fastica.py:542: FutureWarning: Starting in v1.3, whiten='unit-variance' will be used by default.\n",
      "  warnings.warn(\n"
     ]
    },
    {
     "name": "stdout",
     "output_type": "stream",
     "text": [
      "Trial 3039: Artifacts - 0.0% (Validation: 0, Clipping: 0, Motion: 0)\n",
      "Trial 3040: Artifacts - 0.0% (Validation: 0, Clipping: 0, Motion: 0)\n",
      "Trial 3041: Artifacts - 3.6% (Validation: 0, Clipping: 0, Motion: 63)\n",
      "Trial 3042: Artifacts - 3.7% (Validation: 63, Clipping: 1, Motion: 1)\n"
     ]
    },
    {
     "name": "stderr",
     "output_type": "stream",
     "text": [
      "/usr/local/lib/python3.11/dist-packages/sklearn/decomposition/_fastica.py:542: FutureWarning: Starting in v1.3, whiten='unit-variance' will be used by default.\n",
      "  warnings.warn(\n"
     ]
    },
    {
     "name": "stdout",
     "output_type": "stream",
     "text": [
      "Trial 3043: Artifacts - 1.5% (Validation: 0, Clipping: 0, Motion: 27)\n",
      "Trial 3044: Artifacts - 0.0% (Validation: 0, Clipping: 0, Motion: 0)\n",
      "Trial 3045: Artifacts - 1.1% (Validation: 0, Clipping: 0, Motion: 20)\n",
      "Trial 3046: Artifacts - 0.1% (Validation: 0, Clipping: 1, Motion: 0)\n",
      "Trial 3047: Artifacts - 0.0% (Validation: 0, Clipping: 0, Motion: 0)\n",
      "Trial 3048: Artifacts - 0.2% (Validation: 0, Clipping: 0, Motion: 4)\n",
      "Trial 3049: Artifacts - 4.0% (Validation: 70, Clipping: 0, Motion: 0)\n",
      "Trial 3050: Artifacts - 0.1% (Validation: 0, Clipping: 1, Motion: 0)\n",
      "Trial 3051: Artifacts - 10.5% (Validation: 165, Clipping: 0, Motion: 24)\n",
      "Trial 3052: Artifacts - 0.0% (Validation: 0, Clipping: 0, Motion: 0)\n",
      "Trial 3053: Artifacts - 0.4% (Validation: 0, Clipping: 1, Motion: 6)\n",
      "Trial 3054: Artifacts - 7.4% (Validation: 86, Clipping: 0, Motion: 44)\n",
      "Trial 3055: Artifacts - 0.0% (Validation: 0, Clipping: 0, Motion: 0)\n",
      "Trial 3056: Artifacts - 0.1% (Validation: 0, Clipping: 1, Motion: 0)\n",
      "Trial 3057: Artifacts - 0.0% (Validation: 0, Clipping: 0, Motion: 0)\n",
      "Trial 3058: Artifacts - 0.3% (Validation: 0, Clipping: 0, Motion: 6)\n",
      "Trial 3059: Artifacts - 0.1% (Validation: 0, Clipping: 1, Motion: 0)\n",
      "Trial 3060: Artifacts - 0.0% (Validation: 0, Clipping: 0, Motion: 0)\n",
      "Trial 3061: Artifacts - 17.1% (Validation: 78, Clipping: 0, Motion: 222)\n",
      "Trial 3062: Artifacts - 0.0% (Validation: 0, Clipping: 0, Motion: 0)\n"
     ]
    },
    {
     "name": "stderr",
     "output_type": "stream",
     "text": [
      "/usr/local/lib/python3.11/dist-packages/sklearn/decomposition/_fastica.py:542: FutureWarning: Starting in v1.3, whiten='unit-variance' will be used by default.\n",
      "  warnings.warn(\n"
     ]
    },
    {
     "name": "stdout",
     "output_type": "stream",
     "text": [
      "Trial 3063: Artifacts - 9.3% (Validation: 0, Clipping: 0, Motion: 162)\n",
      "Trial 3064: Artifacts - 0.0% (Validation: 0, Clipping: 0, Motion: 0)\n"
     ]
    },
    {
     "name": "stderr",
     "output_type": "stream",
     "text": [
      "/usr/local/lib/python3.11/dist-packages/sklearn/decomposition/_fastica.py:542: FutureWarning: Starting in v1.3, whiten='unit-variance' will be used by default.\n",
      "  warnings.warn(\n"
     ]
    },
    {
     "name": "stdout",
     "output_type": "stream",
     "text": [
      "Trial 3065: Artifacts - 0.0% (Validation: 0, Clipping: 0, Motion: 0)\n",
      "Trial 3066: Artifacts - 1.5% (Validation: 0, Clipping: 0, Motion: 27)\n",
      "Trial 3067: Artifacts - 4.2% (Validation: 73, Clipping: 0, Motion: 0)\n",
      "Trial 3068: Artifacts - 5.3% (Validation: 85, Clipping: 0, Motion: 8)\n",
      "Trial 3069: Artifacts - 0.0% (Validation: 0, Clipping: 0, Motion: 0)\n",
      "Trial 3070: Artifacts - 0.0% (Validation: 0, Clipping: 0, Motion: 0)\n",
      "Trial 3071: Artifacts - 5.7% (Validation: 0, Clipping: 1, Motion: 99)\n"
     ]
    },
    {
     "name": "stderr",
     "output_type": "stream",
     "text": [
      "/usr/local/lib/python3.11/dist-packages/sklearn/decomposition/_fastica.py:542: FutureWarning: Starting in v1.3, whiten='unit-variance' will be used by default.\n",
      "  warnings.warn(\n"
     ]
    },
    {
     "name": "stdout",
     "output_type": "stream",
     "text": [
      "Trial 3072: Artifacts - 0.5% (Validation: 0, Clipping: 0, Motion: 9)\n",
      "Trial 3073: Artifacts - 0.7% (Validation: 0, Clipping: 1, Motion: 11)\n",
      "Trial 3074: Artifacts - 0.0% (Validation: 0, Clipping: 0, Motion: 0)\n",
      "Trial 3075: Artifacts - 0.1% (Validation: 0, Clipping: 1, Motion: 0)\n",
      "Trial 3076: Artifacts - 0.0% (Validation: 0, Clipping: 0, Motion: 0)\n",
      "Trial 3077: Artifacts - 0.0% (Validation: 0, Clipping: 0, Motion: 0)\n",
      "Trial 3078: Artifacts - 3.1% (Validation: 0, Clipping: 0, Motion: 54)\n"
     ]
    },
    {
     "name": "stderr",
     "output_type": "stream",
     "text": [
      "/usr/local/lib/python3.11/dist-packages/sklearn/decomposition/_fastica.py:542: FutureWarning: Starting in v1.3, whiten='unit-variance' will be used by default.\n",
      "  warnings.warn(\n"
     ]
    },
    {
     "name": "stdout",
     "output_type": "stream",
     "text": [
      "Trial 3079: Artifacts - 0.4% (Validation: 0, Clipping: 0, Motion: 7)\n",
      "Trial 3080: Artifacts - 0.2% (Validation: 0, Clipping: 0, Motion: 3)\n",
      "Trial 3081: Artifacts - 21.4% (Validation: 243, Clipping: 0, Motion: 201)\n",
      "Trial 3082: Artifacts - 1.1% (Validation: 0, Clipping: 1, Motion: 19)\n"
     ]
    },
    {
     "name": "stderr",
     "output_type": "stream",
     "text": [
      "/usr/local/lib/python3.11/dist-packages/sklearn/decomposition/_fastica.py:542: FutureWarning: Starting in v1.3, whiten='unit-variance' will be used by default.\n",
      "  warnings.warn(\n"
     ]
    },
    {
     "name": "stdout",
     "output_type": "stream",
     "text": [
      "Trial 3083: Artifacts - 0.0% (Validation: 0, Clipping: 0, Motion: 0)\n",
      "Trial 3084: Artifacts - 8.9% (Validation: 155, Clipping: 17, Motion: 0)\n",
      "Trial 3085: Artifacts - 13.8% (Validation: 223, Clipping: 35, Motion: 18)\n",
      "Trial 3086: Artifacts - 19.3% (Validation: 334, Clipping: 0, Motion: 3)\n",
      "Trial 3087: Artifacts - 6.6% (Validation: 90, Clipping: 0, Motion: 25)\n",
      "Trial 3088: Artifacts - 0.0% (Validation: 0, Clipping: 0, Motion: 0)\n",
      "Trial 3089: Artifacts - 0.1% (Validation: 0, Clipping: 1, Motion: 0)\n",
      "Trial 3090: Artifacts - 9.8% (Validation: 159, Clipping: 84, Motion: 12)\n",
      "Trial 3091: Artifacts - 2.7% (Validation: 0, Clipping: 0, Motion: 47)\n",
      "Trial 3092: Artifacts - 10.0% (Validation: 175, Clipping: 50, Motion: 0)\n",
      "Trial 3093: Artifacts - 11.9% (Validation: 209, Clipping: 12, Motion: 0)\n",
      "Trial 3094: Artifacts - 0.0% (Validation: 0, Clipping: 0, Motion: 0)\n",
      "Trial 3095: Artifacts - 0.0% (Validation: 0, Clipping: 0, Motion: 0)\n",
      "Trial 3096: Artifacts - 0.9% (Validation: 0, Clipping: 0, Motion: 16)\n",
      "Trial 3097: Artifacts - 0.1% (Validation: 0, Clipping: 0, Motion: 1)\n",
      "Trial 3098: Artifacts - 0.0% (Validation: 0, Clipping: 0, Motion: 0)\n",
      "Trial 3099: Artifacts - 0.0% (Validation: 0, Clipping: 0, Motion: 0)\n",
      "Trial 3100: Artifacts - 0.0% (Validation: 0, Clipping: 0, Motion: 0)\n",
      "Processed 3100/4800 trials\n",
      "Trial 3101: Artifacts - 12.3% (Validation: 86, Clipping: 0, Motion: 130)\n",
      "Trial 3102: Artifacts - 6.3% (Validation: 111, Clipping: 0, Motion: 0)\n"
     ]
    },
    {
     "name": "stderr",
     "output_type": "stream",
     "text": [
      "/usr/local/lib/python3.11/dist-packages/sklearn/decomposition/_fastica.py:542: FutureWarning: Starting in v1.3, whiten='unit-variance' will be used by default.\n",
      "  warnings.warn(\n"
     ]
    },
    {
     "name": "stdout",
     "output_type": "stream",
     "text": [
      "Trial 3103: Artifacts - 4.4% (Validation: 33, Clipping: 6, Motion: 44)\n",
      "Trial 3104: Artifacts - 6.9% (Validation: 109, Clipping: 0, Motion: 12)\n",
      "Trial 3105: Artifacts - 0.1% (Validation: 0, Clipping: 1, Motion: 0)\n",
      "Trial 3106: Artifacts - 0.0% (Validation: 0, Clipping: 0, Motion: 0)\n",
      "Trial 3107: Artifacts - 1.3% (Validation: 0, Clipping: 0, Motion: 22)\n",
      "Trial 3108: Artifacts - 1.4% (Validation: 9, Clipping: 0, Motion: 16)\n",
      "Trial 3109: Artifacts - 0.0% (Validation: 0, Clipping: 0, Motion: 0)\n",
      "Trial 3110: Artifacts - 0.0% (Validation: 0, Clipping: 0, Motion: 0)\n",
      "Trial 3111: Artifacts - 8.0% (Validation: 0, Clipping: 0, Motion: 140)\n",
      "Trial 3112: Artifacts - 0.3% (Validation: 0, Clipping: 0, Motion: 5)\n"
     ]
    },
    {
     "name": "stderr",
     "output_type": "stream",
     "text": [
      "/usr/local/lib/python3.11/dist-packages/sklearn/decomposition/_fastica.py:542: FutureWarning: Starting in v1.3, whiten='unit-variance' will be used by default.\n",
      "  warnings.warn(\n"
     ]
    },
    {
     "name": "stdout",
     "output_type": "stream",
     "text": [
      "Trial 3113: Artifacts - 0.0% (Validation: 0, Clipping: 0, Motion: 0)\n",
      "Trial 3114: Artifacts - 1.3% (Validation: 0, Clipping: 0, Motion: 23)\n",
      "Trial 3115: Artifacts - 0.1% (Validation: 0, Clipping: 1, Motion: 0)\n",
      "Trial 3116: Artifacts - 0.4% (Validation: 0, Clipping: 0, Motion: 7)\n",
      "Trial 3117: Artifacts - 0.1% (Validation: 0, Clipping: 1, Motion: 0)\n",
      "Trial 3118: Artifacts - 6.1% (Validation: 106, Clipping: 0, Motion: 0)\n",
      "Trial 3119: Artifacts - 0.1% (Validation: 0, Clipping: 1, Motion: 0)\n",
      "Trial 3120: Artifacts - 0.0% (Validation: 0, Clipping: 0, Motion: 0)\n",
      "Trial 3121: Artifacts - 2.1% (Validation: 0, Clipping: 1, Motion: 35)\n",
      "Trial 3122: Artifacts - 0.1% (Validation: 0, Clipping: 1, Motion: 0)\n",
      "Trial 3123: Artifacts - 5.3% (Validation: 0, Clipping: 0, Motion: 93)\n"
     ]
    },
    {
     "name": "stderr",
     "output_type": "stream",
     "text": [
      "/usr/local/lib/python3.11/dist-packages/sklearn/decomposition/_fastica.py:542: FutureWarning: Starting in v1.3, whiten='unit-variance' will be used by default.\n",
      "  warnings.warn(\n"
     ]
    },
    {
     "name": "stdout",
     "output_type": "stream",
     "text": [
      "Trial 3124: Artifacts - 9.0% (Validation: 0, Clipping: 1, Motion: 157)\n",
      "Trial 3125: Artifacts - 5.4% (Validation: 0, Clipping: 1, Motion: 94)\n"
     ]
    },
    {
     "name": "stderr",
     "output_type": "stream",
     "text": [
      "/usr/local/lib/python3.11/dist-packages/sklearn/decomposition/_fastica.py:542: FutureWarning: Starting in v1.3, whiten='unit-variance' will be used by default.\n",
      "  warnings.warn(\n",
      "/usr/local/lib/python3.11/dist-packages/sklearn/decomposition/_fastica.py:542: FutureWarning: Starting in v1.3, whiten='unit-variance' will be used by default.\n",
      "  warnings.warn(\n"
     ]
    },
    {
     "name": "stdout",
     "output_type": "stream",
     "text": [
      "Trial 3126: Artifacts - 0.9% (Validation: 0, Clipping: 1, Motion: 14)\n",
      "Trial 3127: Artifacts - 0.5% (Validation: 0, Clipping: 0, Motion: 9)\n",
      "Trial 3128: Artifacts - 0.0% (Validation: 0, Clipping: 0, Motion: 0)\n",
      "Trial 3129: Artifacts - 0.1% (Validation: 0, Clipping: 1, Motion: 0)\n",
      "Trial 3130: Artifacts - 0.0% (Validation: 0, Clipping: 0, Motion: 0)\n",
      "Trial 3131: Artifacts - 11.8% (Validation: 0, Clipping: 0, Motion: 206)\n"
     ]
    },
    {
     "name": "stderr",
     "output_type": "stream",
     "text": [
      "/usr/local/lib/python3.11/dist-packages/sklearn/decomposition/_fastica.py:542: FutureWarning: Starting in v1.3, whiten='unit-variance' will be used by default.\n",
      "  warnings.warn(\n"
     ]
    },
    {
     "name": "stdout",
     "output_type": "stream",
     "text": [
      "Trial 3132: Artifacts - 1.8% (Validation: 0, Clipping: 0, Motion: 32)\n",
      "Trial 3133: Artifacts - 14.9% (Validation: 0, Clipping: 0, Motion: 261)\n"
     ]
    },
    {
     "name": "stderr",
     "output_type": "stream",
     "text": [
      "/usr/local/lib/python3.11/dist-packages/sklearn/decomposition/_fastica.py:542: FutureWarning: Starting in v1.3, whiten='unit-variance' will be used by default.\n",
      "  warnings.warn(\n"
     ]
    },
    {
     "name": "stdout",
     "output_type": "stream",
     "text": [
      "Trial 3134: Artifacts - 6.1% (Validation: 0, Clipping: 0, Motion: 107)\n"
     ]
    },
    {
     "name": "stderr",
     "output_type": "stream",
     "text": [
      "/usr/local/lib/python3.11/dist-packages/sklearn/decomposition/_fastica.py:542: FutureWarning: Starting in v1.3, whiten='unit-variance' will be used by default.\n",
      "  warnings.warn(\n"
     ]
    },
    {
     "name": "stdout",
     "output_type": "stream",
     "text": [
      "Trial 3135: Artifacts - 7.4% (Validation: 0, Clipping: 0, Motion: 129)\n",
      "Trial 3136: Artifacts - 11.5% (Validation: 0, Clipping: 1, Motion: 200)\n"
     ]
    },
    {
     "name": "stderr",
     "output_type": "stream",
     "text": [
      "/usr/local/lib/python3.11/dist-packages/sklearn/decomposition/_fastica.py:542: FutureWarning: Starting in v1.3, whiten='unit-variance' will be used by default.\n",
      "  warnings.warn(\n",
      "/usr/local/lib/python3.11/dist-packages/sklearn/decomposition/_fastica.py:542: FutureWarning: Starting in v1.3, whiten='unit-variance' will be used by default.\n",
      "  warnings.warn(\n"
     ]
    },
    {
     "name": "stdout",
     "output_type": "stream",
     "text": [
      "Trial 3137: Artifacts - 2.5% (Validation: 0, Clipping: 1, Motion: 42)\n",
      "Trial 3138: Artifacts - 0.9% (Validation: 0, Clipping: 0, Motion: 15)\n",
      "Trial 3139: Artifacts - 10.2% (Validation: 0, Clipping: 1, Motion: 177)\n",
      "Trial 3140: Artifacts - 15.2% (Validation: 0, Clipping: 0, Motion: 266)\n"
     ]
    },
    {
     "name": "stderr",
     "output_type": "stream",
     "text": [
      "/usr/local/lib/python3.11/dist-packages/sklearn/decomposition/_fastica.py:542: FutureWarning: Starting in v1.3, whiten='unit-variance' will be used by default.\n",
      "  warnings.warn(\n",
      "/usr/local/lib/python3.11/dist-packages/sklearn/decomposition/_fastica.py:542: FutureWarning: Starting in v1.3, whiten='unit-variance' will be used by default.\n",
      "  warnings.warn(\n"
     ]
    },
    {
     "name": "stdout",
     "output_type": "stream",
     "text": [
      "Trial 3141: Artifacts - 19.6% (Validation: 158, Clipping: 39, Motion: 285)\n"
     ]
    },
    {
     "name": "stderr",
     "output_type": "stream",
     "text": [
      "/usr/local/lib/python3.11/dist-packages/sklearn/decomposition/_fastica.py:542: FutureWarning: Starting in v1.3, whiten='unit-variance' will be used by default.\n",
      "  warnings.warn(\n"
     ]
    },
    {
     "name": "stdout",
     "output_type": "stream",
     "text": [
      "Trial 3142: Artifacts - 0.1% (Validation: 0, Clipping: 1, Motion: 0)\n",
      "Trial 3143: Artifacts - 0.0% (Validation: 0, Clipping: 0, Motion: 0)\n",
      "Trial 3144: Artifacts - 0.0% (Validation: 0, Clipping: 0, Motion: 0)\n",
      "Trial 3145: Artifacts - 0.0% (Validation: 0, Clipping: 0, Motion: 0)\n",
      "Trial 3146: Artifacts - 4.6% (Validation: 80, Clipping: 0, Motion: 0)\n",
      "Trial 3147: Artifacts - 0.0% (Validation: 0, Clipping: 0, Motion: 0)\n",
      "Trial 3148: Artifacts - 0.0% (Validation: 0, Clipping: 0, Motion: 0)\n",
      "Trial 3149: Artifacts - 0.0% (Validation: 0, Clipping: 0, Motion: 0)\n",
      "Trial 3150: Artifacts - 0.0% (Validation: 0, Clipping: 0, Motion: 0)\n",
      "Trial 3151: Artifacts - 5.6% (Validation: 0, Clipping: 0, Motion: 98)\n"
     ]
    },
    {
     "name": "stderr",
     "output_type": "stream",
     "text": [
      "/usr/local/lib/python3.11/dist-packages/sklearn/decomposition/_fastica.py:542: FutureWarning: Starting in v1.3, whiten='unit-variance' will be used by default.\n",
      "  warnings.warn(\n"
     ]
    },
    {
     "name": "stdout",
     "output_type": "stream",
     "text": [
      "Trial 3152: Artifacts - 0.0% (Validation: 0, Clipping: 0, Motion: 0)\n",
      "Trial 3153: Artifacts - 0.0% (Validation: 0, Clipping: 0, Motion: 0)\n",
      "Trial 3154: Artifacts - 0.0% (Validation: 0, Clipping: 0, Motion: 0)\n",
      "Trial 3155: Artifacts - 0.0% (Validation: 0, Clipping: 0, Motion: 0)\n",
      "Trial 3156: Artifacts - 0.1% (Validation: 0, Clipping: 1, Motion: 0)\n",
      "Trial 3157: Artifacts - 2.2% (Validation: 0, Clipping: 0, Motion: 39)\n",
      "Trial 3158: Artifacts - 0.0% (Validation: 0, Clipping: 0, Motion: 0)\n",
      "Trial 3159: Artifacts - 0.0% (Validation: 0, Clipping: 0, Motion: 0)\n",
      "Trial 3160: Artifacts - 0.0% (Validation: 0, Clipping: 0, Motion: 0)\n",
      "Trial 3161: Artifacts - 10.1% (Validation: 0, Clipping: 1, Motion: 176)\n"
     ]
    },
    {
     "name": "stderr",
     "output_type": "stream",
     "text": [
      "/usr/local/lib/python3.11/dist-packages/sklearn/decomposition/_fastica.py:542: FutureWarning: Starting in v1.3, whiten='unit-variance' will be used by default.\n",
      "  warnings.warn(\n"
     ]
    },
    {
     "name": "stdout",
     "output_type": "stream",
     "text": [
      "Trial 3162: Artifacts - 0.9% (Validation: 0, Clipping: 0, Motion: 15)\n",
      "Trial 3163: Artifacts - 5.5% (Validation: 0, Clipping: 0, Motion: 96)\n"
     ]
    },
    {
     "name": "stderr",
     "output_type": "stream",
     "text": [
      "/usr/local/lib/python3.11/dist-packages/sklearn/decomposition/_fastica.py:542: FutureWarning: Starting in v1.3, whiten='unit-variance' will be used by default.\n",
      "  warnings.warn(\n"
     ]
    },
    {
     "name": "stdout",
     "output_type": "stream",
     "text": [
      "Trial 3164: Artifacts - 0.7% (Validation: 0, Clipping: 0, Motion: 13)\n",
      "Trial 3165: Artifacts - 0.1% (Validation: 0, Clipping: 1, Motion: 0)\n",
      "Trial 3166: Artifacts - 0.0% (Validation: 0, Clipping: 0, Motion: 0)\n",
      "Trial 3167: Artifacts - 0.0% (Validation: 0, Clipping: 0, Motion: 0)\n",
      "Trial 3168: Artifacts - 0.0% (Validation: 0, Clipping: 0, Motion: 0)\n",
      "Trial 3169: Artifacts - 0.0% (Validation: 0, Clipping: 0, Motion: 0)\n",
      "Trial 3170: Artifacts - 0.0% (Validation: 0, Clipping: 0, Motion: 0)\n",
      "Trial 3171: Artifacts - 6.4% (Validation: 0, Clipping: 0, Motion: 112)\n"
     ]
    },
    {
     "name": "stderr",
     "output_type": "stream",
     "text": [
      "/usr/local/lib/python3.11/dist-packages/sklearn/decomposition/_fastica.py:542: FutureWarning: Starting in v1.3, whiten='unit-variance' will be used by default.\n",
      "  warnings.warn(\n"
     ]
    },
    {
     "name": "stdout",
     "output_type": "stream",
     "text": [
      "Trial 3172: Artifacts - 0.0% (Validation: 0, Clipping: 0, Motion: 0)\n",
      "Trial 3173: Artifacts - 0.7% (Validation: 0, Clipping: 0, Motion: 13)\n",
      "Trial 3174: Artifacts - 4.3% (Validation: 0, Clipping: 0, Motion: 76)\n"
     ]
    },
    {
     "name": "stderr",
     "output_type": "stream",
     "text": [
      "/usr/local/lib/python3.11/dist-packages/sklearn/decomposition/_fastica.py:542: FutureWarning: Starting in v1.3, whiten='unit-variance' will be used by default.\n",
      "  warnings.warn(\n"
     ]
    },
    {
     "name": "stdout",
     "output_type": "stream",
     "text": [
      "Trial 3175: Artifacts - 0.1% (Validation: 0, Clipping: 1, Motion: 0)\n",
      "Trial 3176: Artifacts - 5.5% (Validation: 0, Clipping: 0, Motion: 96)\n"
     ]
    },
    {
     "name": "stderr",
     "output_type": "stream",
     "text": [
      "/usr/local/lib/python3.11/dist-packages/sklearn/decomposition/_fastica.py:542: FutureWarning: Starting in v1.3, whiten='unit-variance' will be used by default.\n",
      "  warnings.warn(\n"
     ]
    },
    {
     "name": "stdout",
     "output_type": "stream",
     "text": [
      "Trial 3177: Artifacts - 0.0% (Validation: 0, Clipping: 0, Motion: 0)\n",
      "Trial 3178: Artifacts - 0.1% (Validation: 0, Clipping: 1, Motion: 0)\n",
      "Trial 3179: Artifacts - 0.5% (Validation: 0, Clipping: 0, Motion: 8)\n",
      "Trial 3180: Artifacts - 3.7% (Validation: 0, Clipping: 0, Motion: 64)\n"
     ]
    },
    {
     "name": "stderr",
     "output_type": "stream",
     "text": [
      "/usr/local/lib/python3.11/dist-packages/sklearn/decomposition/_fastica.py:542: FutureWarning: Starting in v1.3, whiten='unit-variance' will be used by default.\n",
      "  warnings.warn(\n"
     ]
    },
    {
     "name": "stdout",
     "output_type": "stream",
     "text": [
      "Trial 3181: Artifacts - 24.5% (Validation: 182, Clipping: 41, Motion: 247)\n",
      "Trial 3182: Artifacts - 3.6% (Validation: 62, Clipping: 1, Motion: 0)\n"
     ]
    },
    {
     "name": "stderr",
     "output_type": "stream",
     "text": [
      "/usr/local/lib/python3.11/dist-packages/sklearn/decomposition/_fastica.py:542: FutureWarning: Starting in v1.3, whiten='unit-variance' will be used by default.\n",
      "  warnings.warn(\n"
     ]
    },
    {
     "name": "stdout",
     "output_type": "stream",
     "text": [
      "Trial 3183: Artifacts - 0.0% (Validation: 0, Clipping: 0, Motion: 0)\n",
      "Trial 3184: Artifacts - 14.6% (Validation: 254, Clipping: 27, Motion: 0)\n",
      "Trial 3185: Artifacts - 7.7% (Validation: 135, Clipping: 15, Motion: 0)\n",
      "Trial 3186: Artifacts - 9.4% (Validation: 165, Clipping: 9, Motion: 0)\n",
      "Trial 3187: Artifacts - 19.0% (Validation: 332, Clipping: 33, Motion: 0)\n",
      "Trial 3188: Artifacts - 0.3% (Validation: 6, Clipping: 0, Motion: 0)\n",
      "Trial 3189: Artifacts - 0.0% (Validation: 0, Clipping: 0, Motion: 0)\n",
      "Trial 3190: Artifacts - 10.6% (Validation: 184, Clipping: 58, Motion: 0)\n",
      "REJECTING trial 3191: 74.9% artifacts\n",
      "REJECTING trial 3192: 69.8% artifacts\n",
      "REJECTING trial 3193: 74.1% artifacts\n",
      "REJECTING trial 3194: 71.2% artifacts\n",
      "REJECTING trial 3195: 72.2% artifacts\n",
      "REJECTING trial 3196: 75.3% artifacts\n",
      "REJECTING trial 3197: 73.9% artifacts\n",
      "REJECTING trial 3198: 76.7% artifacts\n",
      "REJECTING trial 3199: 80.1% artifacts\n",
      "REJECTING trial 3200: 74.7% artifacts\n",
      "Trial 3201: Artifacts - 14.1% (Validation: 0, Clipping: 0, Motion: 246)\n"
     ]
    },
    {
     "name": "stderr",
     "output_type": "stream",
     "text": [
      "/usr/local/lib/python3.11/dist-packages/sklearn/decomposition/_fastica.py:542: FutureWarning: Starting in v1.3, whiten='unit-variance' will be used by default.\n",
      "  warnings.warn(\n"
     ]
    },
    {
     "name": "stdout",
     "output_type": "stream",
     "text": [
      "Trial 3202: Artifacts - 0.0% (Validation: 0, Clipping: 0, Motion: 0)\n",
      "Trial 3203: Artifacts - 0.3% (Validation: 0, Clipping: 1, Motion: 5)\n",
      "Trial 3204: Artifacts - 4.5% (Validation: 0, Clipping: 0, Motion: 78)\n",
      "Trial 3205: Artifacts - 0.0% (Validation: 0, Clipping: 0, Motion: 0)\n"
     ]
    },
    {
     "name": "stderr",
     "output_type": "stream",
     "text": [
      "/usr/local/lib/python3.11/dist-packages/sklearn/decomposition/_fastica.py:542: FutureWarning: Starting in v1.3, whiten='unit-variance' will be used by default.\n",
      "  warnings.warn(\n"
     ]
    },
    {
     "name": "stdout",
     "output_type": "stream",
     "text": [
      "Trial 3206: Artifacts - 4.4% (Validation: 0, Clipping: 1, Motion: 76)\n",
      "Trial 3207: Artifacts - 0.5% (Validation: 0, Clipping: 1, Motion: 7)\n"
     ]
    },
    {
     "name": "stderr",
     "output_type": "stream",
     "text": [
      "/usr/local/lib/python3.11/dist-packages/sklearn/decomposition/_fastica.py:542: FutureWarning: Starting in v1.3, whiten='unit-variance' will be used by default.\n",
      "  warnings.warn(\n"
     ]
    },
    {
     "name": "stdout",
     "output_type": "stream",
     "text": [
      "Trial 3208: Artifacts - 0.0% (Validation: 0, Clipping: 0, Motion: 0)\n",
      "Trial 3209: Artifacts - 7.5% (Validation: 74, Clipping: 22, Motion: 58)\n"
     ]
    },
    {
     "name": "stderr",
     "output_type": "stream",
     "text": [
      "/usr/local/lib/python3.11/dist-packages/sklearn/decomposition/_fastica.py:542: FutureWarning: Starting in v1.3, whiten='unit-variance' will be used by default.\n",
      "  warnings.warn(\n"
     ]
    },
    {
     "name": "stdout",
     "output_type": "stream",
     "text": [
      "Trial 3210: Artifacts - 0.0% (Validation: 0, Clipping: 0, Motion: 0)\n",
      "Trial 3211: Artifacts - 0.0% (Validation: 0, Clipping: 0, Motion: 0)\n",
      "Trial 3212: Artifacts - 5.6% (Validation: 0, Clipping: 0, Motion: 98)\n",
      "Trial 3213: Artifacts - 0.0% (Validation: 0, Clipping: 0, Motion: 0)\n"
     ]
    },
    {
     "name": "stderr",
     "output_type": "stream",
     "text": [
      "/usr/local/lib/python3.11/dist-packages/sklearn/decomposition/_fastica.py:542: FutureWarning: Starting in v1.3, whiten='unit-variance' will be used by default.\n",
      "  warnings.warn(\n"
     ]
    },
    {
     "name": "stdout",
     "output_type": "stream",
     "text": [
      "Trial 3214: Artifacts - 6.7% (Validation: 0, Clipping: 0, Motion: 118)\n"
     ]
    },
    {
     "name": "stderr",
     "output_type": "stream",
     "text": [
      "/usr/local/lib/python3.11/dist-packages/sklearn/decomposition/_fastica.py:542: FutureWarning: Starting in v1.3, whiten='unit-variance' will be used by default.\n",
      "  warnings.warn(\n"
     ]
    },
    {
     "name": "stdout",
     "output_type": "stream",
     "text": [
      "Trial 3215: Artifacts - 3.0% (Validation: 0, Clipping: 1, Motion: 51)\n",
      "Trial 3216: Artifacts - 1.7% (Validation: 0, Clipping: 0, Motion: 30)\n"
     ]
    },
    {
     "name": "stderr",
     "output_type": "stream",
     "text": [
      "/usr/local/lib/python3.11/dist-packages/sklearn/decomposition/_fastica.py:542: FutureWarning: Starting in v1.3, whiten='unit-variance' will be used by default.\n",
      "  warnings.warn(\n"
     ]
    },
    {
     "name": "stdout",
     "output_type": "stream",
     "text": [
      "Trial 3217: Artifacts - 0.7% (Validation: 0, Clipping: 0, Motion: 13)\n",
      "Trial 3218: Artifacts - 0.5% (Validation: 0, Clipping: 0, Motion: 8)\n",
      "Trial 3219: Artifacts - 0.0% (Validation: 0, Clipping: 0, Motion: 0)\n",
      "Trial 3220: Artifacts - 5.6% (Validation: 91, Clipping: 0, Motion: 7)\n",
      "Trial 3221: Artifacts - 7.5% (Validation: 112, Clipping: 1, Motion: 18)\n",
      "Trial 3222: Artifacts - 8.2% (Validation: 85, Clipping: 0, Motion: 58)\n"
     ]
    },
    {
     "name": "stderr",
     "output_type": "stream",
     "text": [
      "/usr/local/lib/python3.11/dist-packages/sklearn/decomposition/_fastica.py:542: FutureWarning: Starting in v1.3, whiten='unit-variance' will be used by default.\n",
      "  warnings.warn(\n"
     ]
    },
    {
     "name": "stdout",
     "output_type": "stream",
     "text": [
      "Trial 3223: Artifacts - 2.4% (Validation: 27, Clipping: 0, Motion: 15)\n",
      "Trial 3224: Artifacts - 0.1% (Validation: 0, Clipping: 0, Motion: 2)\n",
      "Trial 3225: Artifacts - 2.7% (Validation: 0, Clipping: 0, Motion: 47)\n",
      "Trial 3226: Artifacts - 1.3% (Validation: 0, Clipping: 1, Motion: 22)\n",
      "Trial 3227: Artifacts - 12.1% (Validation: 110, Clipping: 0, Motion: 102)\n",
      "Trial 3228: Artifacts - 0.0% (Validation: 0, Clipping: 0, Motion: 0)\n"
     ]
    },
    {
     "name": "stderr",
     "output_type": "stream",
     "text": [
      "/usr/local/lib/python3.11/dist-packages/sklearn/decomposition/_fastica.py:542: FutureWarning: Starting in v1.3, whiten='unit-variance' will be used by default.\n",
      "  warnings.warn(\n"
     ]
    },
    {
     "name": "stdout",
     "output_type": "stream",
     "text": [
      "Trial 3229: Artifacts - 0.5% (Validation: 0, Clipping: 0, Motion: 9)\n",
      "Trial 3230: Artifacts - 2.9% (Validation: 0, Clipping: 0, Motion: 50)\n",
      "Trial 3231: Artifacts - 8.4% (Validation: 0, Clipping: 1, Motion: 146)\n",
      "Trial 3232: Artifacts - 5.5% (Validation: 0, Clipping: 0, Motion: 97)\n"
     ]
    },
    {
     "name": "stderr",
     "output_type": "stream",
     "text": [
      "/usr/local/lib/python3.11/dist-packages/sklearn/decomposition/_fastica.py:542: FutureWarning: Starting in v1.3, whiten='unit-variance' will be used by default.\n",
      "  warnings.warn(\n",
      "/usr/local/lib/python3.11/dist-packages/sklearn/decomposition/_fastica.py:542: FutureWarning: Starting in v1.3, whiten='unit-variance' will be used by default.\n",
      "  warnings.warn(\n"
     ]
    },
    {
     "name": "stdout",
     "output_type": "stream",
     "text": [
      "Trial 3233: Artifacts - 10.5% (Validation: 84, Clipping: 1, Motion: 99)\n"
     ]
    },
    {
     "name": "stderr",
     "output_type": "stream",
     "text": [
      "/usr/local/lib/python3.11/dist-packages/sklearn/decomposition/_fastica.py:542: FutureWarning: Starting in v1.3, whiten='unit-variance' will be used by default.\n",
      "  warnings.warn(\n"
     ]
    },
    {
     "name": "stdout",
     "output_type": "stream",
     "text": [
      "Trial 3234: Artifacts - 1.7% (Validation: 0, Clipping: 0, Motion: 30)\n",
      "Trial 3235: Artifacts - 3.8% (Validation: 0, Clipping: 0, Motion: 67)\n"
     ]
    },
    {
     "name": "stderr",
     "output_type": "stream",
     "text": [
      "/usr/local/lib/python3.11/dist-packages/sklearn/decomposition/_fastica.py:542: FutureWarning: Starting in v1.3, whiten='unit-variance' will be used by default.\n",
      "  warnings.warn(\n"
     ]
    },
    {
     "name": "stdout",
     "output_type": "stream",
     "text": [
      "Trial 3236: Artifacts - 4.7% (Validation: 0, Clipping: 0, Motion: 82)\n"
     ]
    },
    {
     "name": "stderr",
     "output_type": "stream",
     "text": [
      "/usr/local/lib/python3.11/dist-packages/sklearn/decomposition/_fastica.py:542: FutureWarning: Starting in v1.3, whiten='unit-variance' will be used by default.\n",
      "  warnings.warn(\n"
     ]
    },
    {
     "name": "stdout",
     "output_type": "stream",
     "text": [
      "Trial 3237: Artifacts - 0.1% (Validation: 0, Clipping: 1, Motion: 0)\n",
      "Trial 3238: Artifacts - 0.0% (Validation: 0, Clipping: 0, Motion: 0)\n",
      "Trial 3239: Artifacts - 15.9% (Validation: 278, Clipping: 0, Motion: 0)\n",
      "Trial 3240: Artifacts - 3.1% (Validation: 54, Clipping: 0, Motion: 0)\n",
      "REJECTING trial 3241: 71.6% artifacts\n",
      "REJECTING trial 3242: 74.5% artifacts\n",
      "REJECTING trial 3243: 72.3% artifacts\n",
      "REJECTING trial 3244: 74.8% artifacts\n",
      "REJECTING trial 3245: 72.0% artifacts\n",
      "REJECTING trial 3246: 75.2% artifacts\n",
      "REJECTING trial 3247: 74.9% artifacts\n",
      "REJECTING trial 3248: 71.5% artifacts\n",
      "REJECTING trial 3249: 72.1% artifacts\n",
      "REJECTING trial 3250: 71.6% artifacts\n",
      "Trial 3251: Artifacts - 4.7% (Validation: 0, Clipping: 0, Motion: 83)\n"
     ]
    },
    {
     "name": "stderr",
     "output_type": "stream",
     "text": [
      "/usr/local/lib/python3.11/dist-packages/sklearn/decomposition/_fastica.py:542: FutureWarning: Starting in v1.3, whiten='unit-variance' will be used by default.\n",
      "  warnings.warn(\n"
     ]
    },
    {
     "name": "stdout",
     "output_type": "stream",
     "text": [
      "Trial 3252: Artifacts - 6.9% (Validation: 112, Clipping: 0, Motion: 9)\n",
      "Trial 3253: Artifacts - 3.1% (Validation: 0, Clipping: 0, Motion: 54)\n"
     ]
    },
    {
     "name": "stderr",
     "output_type": "stream",
     "text": [
      "/usr/local/lib/python3.11/dist-packages/sklearn/decomposition/_fastica.py:542: FutureWarning: Starting in v1.3, whiten='unit-variance' will be used by default.\n",
      "  warnings.warn(\n"
     ]
    },
    {
     "name": "stdout",
     "output_type": "stream",
     "text": [
      "Trial 3254: Artifacts - 0.0% (Validation: 0, Clipping: 0, Motion: 0)\n",
      "Trial 3255: Artifacts - 3.9% (Validation: 0, Clipping: 0, Motion: 68)\n"
     ]
    },
    {
     "name": "stderr",
     "output_type": "stream",
     "text": [
      "/usr/local/lib/python3.11/dist-packages/sklearn/decomposition/_fastica.py:542: FutureWarning: Starting in v1.3, whiten='unit-variance' will be used by default.\n",
      "  warnings.warn(\n"
     ]
    },
    {
     "name": "stdout",
     "output_type": "stream",
     "text": [
      "Trial 3256: Artifacts - 0.1% (Validation: 0, Clipping: 1, Motion: 0)\n",
      "Trial 3257: Artifacts - 0.0% (Validation: 0, Clipping: 0, Motion: 0)\n",
      "Trial 3258: Artifacts - 0.1% (Validation: 0, Clipping: 1, Motion: 0)\n",
      "Trial 3259: Artifacts - 0.0% (Validation: 0, Clipping: 0, Motion: 0)\n",
      "Trial 3260: Artifacts - 0.1% (Validation: 0, Clipping: 1, Motion: 0)\n",
      "Trial 3261: Artifacts - 0.0% (Validation: 0, Clipping: 0, Motion: 0)\n",
      "Trial 3262: Artifacts - 0.0% (Validation: 0, Clipping: 0, Motion: 0)\n",
      "Trial 3263: Artifacts - 0.0% (Validation: 0, Clipping: 0, Motion: 0)\n",
      "Trial 3264: Artifacts - 3.5% (Validation: 0, Clipping: 0, Motion: 62)\n",
      "Trial 3265: Artifacts - 0.5% (Validation: 0, Clipping: 0, Motion: 9)\n"
     ]
    },
    {
     "name": "stderr",
     "output_type": "stream",
     "text": [
      "/usr/local/lib/python3.11/dist-packages/sklearn/decomposition/_fastica.py:542: FutureWarning: Starting in v1.3, whiten='unit-variance' will be used by default.\n",
      "  warnings.warn(\n"
     ]
    },
    {
     "name": "stdout",
     "output_type": "stream",
     "text": [
      "Trial 3266: Artifacts - 3.7% (Validation: 0, Clipping: 0, Motion: 64)\n",
      "Trial 3267: Artifacts - 9.1% (Validation: 0, Clipping: 0, Motion: 159)\n"
     ]
    },
    {
     "name": "stderr",
     "output_type": "stream",
     "text": [
      "/usr/local/lib/python3.11/dist-packages/sklearn/decomposition/_fastica.py:542: FutureWarning: Starting in v1.3, whiten='unit-variance' will be used by default.\n",
      "  warnings.warn(\n",
      "/usr/local/lib/python3.11/dist-packages/sklearn/decomposition/_fastica.py:542: FutureWarning: Starting in v1.3, whiten='unit-variance' will be used by default.\n",
      "  warnings.warn(\n"
     ]
    },
    {
     "name": "stdout",
     "output_type": "stream",
     "text": [
      "Trial 3268: Artifacts - 0.0% (Validation: 0, Clipping: 0, Motion: 0)\n",
      "Trial 3269: Artifacts - 0.0% (Validation: 0, Clipping: 0, Motion: 0)\n",
      "Trial 3270: Artifacts - 0.1% (Validation: 0, Clipping: 1, Motion: 0)\n",
      "Trial 3271: Artifacts - 1.0% (Validation: 0, Clipping: 0, Motion: 18)\n",
      "Trial 3272: Artifacts - 0.0% (Validation: 0, Clipping: 0, Motion: 0)\n",
      "Trial 3273: Artifacts - 10.6% (Validation: 0, Clipping: 0, Motion: 185)\n"
     ]
    },
    {
     "name": "stderr",
     "output_type": "stream",
     "text": [
      "/usr/local/lib/python3.11/dist-packages/sklearn/decomposition/_fastica.py:542: FutureWarning: Starting in v1.3, whiten='unit-variance' will be used by default.\n",
      "  warnings.warn(\n"
     ]
    },
    {
     "name": "stdout",
     "output_type": "stream",
     "text": [
      "Trial 3274: Artifacts - 10.9% (Validation: 0, Clipping: 0, Motion: 190)\n"
     ]
    },
    {
     "name": "stderr",
     "output_type": "stream",
     "text": [
      "/usr/local/lib/python3.11/dist-packages/sklearn/decomposition/_fastica.py:542: FutureWarning: Starting in v1.3, whiten='unit-variance' will be used by default.\n",
      "  warnings.warn(\n"
     ]
    },
    {
     "name": "stdout",
     "output_type": "stream",
     "text": [
      "Trial 3275: Artifacts - 2.1% (Validation: 0, Clipping: 0, Motion: 37)\n",
      "Trial 3276: Artifacts - 3.0% (Validation: 0, Clipping: 0, Motion: 52)\n"
     ]
    },
    {
     "name": "stderr",
     "output_type": "stream",
     "text": [
      "/usr/local/lib/python3.11/dist-packages/sklearn/decomposition/_fastica.py:542: FutureWarning: Starting in v1.3, whiten='unit-variance' will be used by default.\n",
      "  warnings.warn(\n"
     ]
    },
    {
     "name": "stdout",
     "output_type": "stream",
     "text": [
      "Trial 3277: Artifacts - 0.0% (Validation: 0, Clipping: 0, Motion: 0)\n",
      "Trial 3278: Artifacts - 0.1% (Validation: 0, Clipping: 1, Motion: 0)\n",
      "Trial 3279: Artifacts - 2.6% (Validation: 0, Clipping: 0, Motion: 46)\n",
      "Trial 3280: Artifacts - 5.4% (Validation: 95, Clipping: 0, Motion: 0)\n",
      "Trial 3281: Artifacts - 1.0% (Validation: 0, Clipping: 0, Motion: 17)\n",
      "Trial 3282: Artifacts - 0.0% (Validation: 0, Clipping: 0, Motion: 0)\n",
      "Trial 3283: Artifacts - 0.0% (Validation: 0, Clipping: 0, Motion: 0)\n",
      "Trial 3284: Artifacts - 0.1% (Validation: 0, Clipping: 1, Motion: 0)\n",
      "Trial 3285: Artifacts - 0.0% (Validation: 0, Clipping: 0, Motion: 0)\n",
      "Trial 3286: Artifacts - 0.0% (Validation: 0, Clipping: 0, Motion: 0)\n",
      "Trial 3287: Artifacts - 8.4% (Validation: 0, Clipping: 1, Motion: 146)\n",
      "Trial 3288: Artifacts - 1.4% (Validation: 0, Clipping: 0, Motion: 25)\n"
     ]
    },
    {
     "name": "stderr",
     "output_type": "stream",
     "text": [
      "/usr/local/lib/python3.11/dist-packages/sklearn/decomposition/_fastica.py:542: FutureWarning: Starting in v1.3, whiten='unit-variance' will be used by default.\n",
      "  warnings.warn(\n"
     ]
    },
    {
     "name": "stdout",
     "output_type": "stream",
     "text": [
      "Trial 3289: Artifacts - 5.5% (Validation: 0, Clipping: 0, Motion: 96)\n",
      "Trial 3290: Artifacts - 0.6% (Validation: 0, Clipping: 0, Motion: 11)\n"
     ]
    },
    {
     "name": "stderr",
     "output_type": "stream",
     "text": [
      "/usr/local/lib/python3.11/dist-packages/sklearn/decomposition/_fastica.py:542: FutureWarning: Starting in v1.3, whiten='unit-variance' will be used by default.\n",
      "  warnings.warn(\n"
     ]
    },
    {
     "name": "stdout",
     "output_type": "stream",
     "text": [
      "Trial 3291: Artifacts - 2.3% (Validation: 0, Clipping: 0, Motion: 40)\n",
      "Trial 3292: Artifacts - 10.2% (Validation: 0, Clipping: 0, Motion: 179)\n"
     ]
    },
    {
     "name": "stderr",
     "output_type": "stream",
     "text": [
      "/usr/local/lib/python3.11/dist-packages/sklearn/decomposition/_fastica.py:542: FutureWarning: Starting in v1.3, whiten='unit-variance' will be used by default.\n",
      "  warnings.warn(\n"
     ]
    },
    {
     "name": "stdout",
     "output_type": "stream",
     "text": [
      "Trial 3293: Artifacts - 0.0% (Validation: 0, Clipping: 0, Motion: 0)\n",
      "Trial 3294: Artifacts - 4.5% (Validation: 0, Clipping: 0, Motion: 78)\n"
     ]
    },
    {
     "name": "stderr",
     "output_type": "stream",
     "text": [
      "/usr/local/lib/python3.11/dist-packages/sklearn/decomposition/_fastica.py:542: FutureWarning: Starting in v1.3, whiten='unit-variance' will be used by default.\n",
      "  warnings.warn(\n"
     ]
    },
    {
     "name": "stdout",
     "output_type": "stream",
     "text": [
      "Trial 3295: Artifacts - 0.0% (Validation: 0, Clipping: 0, Motion: 0)\n",
      "Trial 3296: Artifacts - 10.6% (Validation: 0, Clipping: 0, Motion: 185)\n"
     ]
    },
    {
     "name": "stderr",
     "output_type": "stream",
     "text": [
      "/usr/local/lib/python3.11/dist-packages/sklearn/decomposition/_fastica.py:542: FutureWarning: Starting in v1.3, whiten='unit-variance' will be used by default.\n",
      "  warnings.warn(\n"
     ]
    },
    {
     "name": "stdout",
     "output_type": "stream",
     "text": [
      "Trial 3297: Artifacts - 2.3% (Validation: 0, Clipping: 0, Motion: 40)\n",
      "Trial 3298: Artifacts - 10.5% (Validation: 0, Clipping: 0, Motion: 184)\n"
     ]
    },
    {
     "name": "stderr",
     "output_type": "stream",
     "text": [
      "/usr/local/lib/python3.11/dist-packages/sklearn/decomposition/_fastica.py:542: FutureWarning: Starting in v1.3, whiten='unit-variance' will be used by default.\n",
      "  warnings.warn(\n",
      "/usr/local/lib/python3.11/dist-packages/sklearn/decomposition/_fastica.py:542: FutureWarning: Starting in v1.3, whiten='unit-variance' will be used by default.\n",
      "  warnings.warn(\n"
     ]
    },
    {
     "name": "stdout",
     "output_type": "stream",
     "text": [
      "Trial 3299: Artifacts - 3.3% (Validation: 0, Clipping: 0, Motion: 58)\n",
      "Trial 3300: Artifacts - 6.1% (Validation: 0, Clipping: 0, Motion: 107)\n",
      "Processed 3300/4800 trials\n"
     ]
    },
    {
     "name": "stderr",
     "output_type": "stream",
     "text": [
      "/usr/local/lib/python3.11/dist-packages/sklearn/decomposition/_fastica.py:542: FutureWarning: Starting in v1.3, whiten='unit-variance' will be used by default.\n",
      "  warnings.warn(\n"
     ]
    },
    {
     "name": "stdout",
     "output_type": "stream",
     "text": [
      "Trial 3301: Artifacts - 0.0% (Validation: 0, Clipping: 0, Motion: 0)\n",
      "Trial 3302: Artifacts - 1.4% (Validation: 0, Clipping: 0, Motion: 25)\n",
      "Trial 3303: Artifacts - 0.0% (Validation: 0, Clipping: 0, Motion: 0)\n",
      "Trial 3304: Artifacts - 0.0% (Validation: 0, Clipping: 0, Motion: 0)\n",
      "Trial 3305: Artifacts - 1.2% (Validation: 0, Clipping: 0, Motion: 21)\n",
      "Trial 3306: Artifacts - 0.9% (Validation: 0, Clipping: 0, Motion: 15)\n",
      "Trial 3307: Artifacts - 11.7% (Validation: 0, Clipping: 0, Motion: 205)\n"
     ]
    },
    {
     "name": "stderr",
     "output_type": "stream",
     "text": [
      "/usr/local/lib/python3.11/dist-packages/sklearn/decomposition/_fastica.py:542: FutureWarning: Starting in v1.3, whiten='unit-variance' will be used by default.\n",
      "  warnings.warn(\n"
     ]
    },
    {
     "name": "stdout",
     "output_type": "stream",
     "text": [
      "Trial 3308: Artifacts - 8.3% (Validation: 0, Clipping: 0, Motion: 146)\n"
     ]
    },
    {
     "name": "stderr",
     "output_type": "stream",
     "text": [
      "/usr/local/lib/python3.11/dist-packages/sklearn/decomposition/_fastica.py:542: FutureWarning: Starting in v1.3, whiten='unit-variance' will be used by default.\n",
      "  warnings.warn(\n"
     ]
    },
    {
     "name": "stdout",
     "output_type": "stream",
     "text": [
      "Trial 3309: Artifacts - 0.0% (Validation: 0, Clipping: 0, Motion: 0)\n",
      "Trial 3310: Artifacts - 9.4% (Validation: 0, Clipping: 0, Motion: 164)\n"
     ]
    },
    {
     "name": "stderr",
     "output_type": "stream",
     "text": [
      "/usr/local/lib/python3.11/dist-packages/sklearn/decomposition/_fastica.py:542: FutureWarning: Starting in v1.3, whiten='unit-variance' will be used by default.\n",
      "  warnings.warn(\n"
     ]
    },
    {
     "name": "stdout",
     "output_type": "stream",
     "text": [
      "Trial 3311: Artifacts - 9.5% (Validation: 0, Clipping: 0, Motion: 166)\n",
      "Trial 3312: Artifacts - 0.0% (Validation: 0, Clipping: 0, Motion: 0)\n"
     ]
    },
    {
     "name": "stderr",
     "output_type": "stream",
     "text": [
      "/usr/local/lib/python3.11/dist-packages/sklearn/decomposition/_fastica.py:542: FutureWarning: Starting in v1.3, whiten='unit-variance' will be used by default.\n",
      "  warnings.warn(\n"
     ]
    },
    {
     "name": "stdout",
     "output_type": "stream",
     "text": [
      "Trial 3313: Artifacts - 10.1% (Validation: 0, Clipping: 0, Motion: 177)\n",
      "Trial 3314: Artifacts - 0.0% (Validation: 0, Clipping: 0, Motion: 0)\n"
     ]
    },
    {
     "name": "stderr",
     "output_type": "stream",
     "text": [
      "/usr/local/lib/python3.11/dist-packages/sklearn/decomposition/_fastica.py:542: FutureWarning: Starting in v1.3, whiten='unit-variance' will be used by default.\n",
      "  warnings.warn(\n"
     ]
    },
    {
     "name": "stdout",
     "output_type": "stream",
     "text": [
      "Trial 3315: Artifacts - 2.0% (Validation: 0, Clipping: 0, Motion: 35)\n",
      "Trial 3316: Artifacts - 11.5% (Validation: 0, Clipping: 0, Motion: 201)\n"
     ]
    },
    {
     "name": "stderr",
     "output_type": "stream",
     "text": [
      "/usr/local/lib/python3.11/dist-packages/sklearn/decomposition/_fastica.py:542: FutureWarning: Starting in v1.3, whiten='unit-variance' will be used by default.\n",
      "  warnings.warn(\n"
     ]
    },
    {
     "name": "stdout",
     "output_type": "stream",
     "text": [
      "Trial 3317: Artifacts - 11.7% (Validation: 0, Clipping: 0, Motion: 204)\n",
      "Trial 3318: Artifacts - 11.8% (Validation: 0, Clipping: 0, Motion: 207)\n"
     ]
    },
    {
     "name": "stderr",
     "output_type": "stream",
     "text": [
      "/usr/local/lib/python3.11/dist-packages/sklearn/decomposition/_fastica.py:542: FutureWarning: Starting in v1.3, whiten='unit-variance' will be used by default.\n",
      "  warnings.warn(\n",
      "/usr/local/lib/python3.11/dist-packages/sklearn/decomposition/_fastica.py:542: FutureWarning: Starting in v1.3, whiten='unit-variance' will be used by default.\n",
      "  warnings.warn(\n"
     ]
    },
    {
     "name": "stdout",
     "output_type": "stream",
     "text": [
      "Trial 3319: Artifacts - 3.0% (Validation: 0, Clipping: 0, Motion: 52)\n"
     ]
    },
    {
     "name": "stderr",
     "output_type": "stream",
     "text": [
      "/usr/local/lib/python3.11/dist-packages/sklearn/decomposition/_fastica.py:542: FutureWarning: Starting in v1.3, whiten='unit-variance' will be used by default.\n",
      "  warnings.warn(\n"
     ]
    },
    {
     "name": "stdout",
     "output_type": "stream",
     "text": [
      "Trial 3320: Artifacts - 10.6% (Validation: 0, Clipping: 0, Motion: 186)\n"
     ]
    },
    {
     "name": "stderr",
     "output_type": "stream",
     "text": [
      "/usr/local/lib/python3.11/dist-packages/sklearn/decomposition/_fastica.py:542: FutureWarning: Starting in v1.3, whiten='unit-variance' will be used by default.\n",
      "  warnings.warn(\n"
     ]
    },
    {
     "name": "stdout",
     "output_type": "stream",
     "text": [
      "Trial 3321: Artifacts - 12.2% (Validation: 0, Clipping: 0, Motion: 213)\n",
      "Trial 3322: Artifacts - 11.6% (Validation: 0, Clipping: 0, Motion: 203)\n"
     ]
    },
    {
     "name": "stderr",
     "output_type": "stream",
     "text": [
      "/usr/local/lib/python3.11/dist-packages/sklearn/decomposition/_fastica.py:542: FutureWarning: Starting in v1.3, whiten='unit-variance' will be used by default.\n",
      "  warnings.warn(\n",
      "/usr/local/lib/python3.11/dist-packages/sklearn/decomposition/_fastica.py:542: FutureWarning: Starting in v1.3, whiten='unit-variance' will be used by default.\n",
      "  warnings.warn(\n"
     ]
    },
    {
     "name": "stdout",
     "output_type": "stream",
     "text": [
      "Trial 3323: Artifacts - 5.8% (Validation: 0, Clipping: 0, Motion: 101)\n",
      "Trial 3324: Artifacts - 0.0% (Validation: 0, Clipping: 0, Motion: 0)\n"
     ]
    },
    {
     "name": "stderr",
     "output_type": "stream",
     "text": [
      "/usr/local/lib/python3.11/dist-packages/sklearn/decomposition/_fastica.py:542: FutureWarning: Starting in v1.3, whiten='unit-variance' will be used by default.\n",
      "  warnings.warn(\n"
     ]
    },
    {
     "name": "stdout",
     "output_type": "stream",
     "text": [
      "Trial 3325: Artifacts - 5.8% (Validation: 0, Clipping: 0, Motion: 101)\n",
      "Trial 3326: Artifacts - 0.0% (Validation: 0, Clipping: 0, Motion: 0)\n"
     ]
    },
    {
     "name": "stderr",
     "output_type": "stream",
     "text": [
      "/usr/local/lib/python3.11/dist-packages/sklearn/decomposition/_fastica.py:542: FutureWarning: Starting in v1.3, whiten='unit-variance' will be used by default.\n",
      "  warnings.warn(\n"
     ]
    },
    {
     "name": "stdout",
     "output_type": "stream",
     "text": [
      "Trial 3327: Artifacts - 0.1% (Validation: 0, Clipping: 0, Motion: 1)\n",
      "Trial 3328: Artifacts - 7.6% (Validation: 0, Clipping: 0, Motion: 133)\n"
     ]
    },
    {
     "name": "stderr",
     "output_type": "stream",
     "text": [
      "/usr/local/lib/python3.11/dist-packages/sklearn/decomposition/_fastica.py:542: FutureWarning: Starting in v1.3, whiten='unit-variance' will be used by default.\n",
      "  warnings.warn(\n"
     ]
    },
    {
     "name": "stdout",
     "output_type": "stream",
     "text": [
      "Trial 3329: Artifacts - 0.0% (Validation: 0, Clipping: 0, Motion: 0)\n",
      "Trial 3330: Artifacts - 4.5% (Validation: 0, Clipping: 0, Motion: 78)\n"
     ]
    },
    {
     "name": "stderr",
     "output_type": "stream",
     "text": [
      "/usr/local/lib/python3.11/dist-packages/sklearn/decomposition/_fastica.py:542: FutureWarning: Starting in v1.3, whiten='unit-variance' will be used by default.\n",
      "  warnings.warn(\n"
     ]
    },
    {
     "name": "stdout",
     "output_type": "stream",
     "text": [
      "Trial 3331: Artifacts - 9.4% (Validation: 0, Clipping: 0, Motion: 164)\n",
      "Trial 3332: Artifacts - 0.6% (Validation: 0, Clipping: 0, Motion: 10)\n"
     ]
    },
    {
     "name": "stderr",
     "output_type": "stream",
     "text": [
      "/usr/local/lib/python3.11/dist-packages/sklearn/decomposition/_fastica.py:542: FutureWarning: Starting in v1.3, whiten='unit-variance' will be used by default.\n",
      "  warnings.warn(\n"
     ]
    },
    {
     "name": "stdout",
     "output_type": "stream",
     "text": [
      "Trial 3333: Artifacts - 4.9% (Validation: 0, Clipping: 0, Motion: 85)\n"
     ]
    },
    {
     "name": "stderr",
     "output_type": "stream",
     "text": [
      "/usr/local/lib/python3.11/dist-packages/sklearn/decomposition/_fastica.py:542: FutureWarning: Starting in v1.3, whiten='unit-variance' will be used by default.\n",
      "  warnings.warn(\n"
     ]
    },
    {
     "name": "stdout",
     "output_type": "stream",
     "text": [
      "Trial 3334: Artifacts - 0.1% (Validation: 0, Clipping: 1, Motion: 0)\n",
      "Trial 3335: Artifacts - 0.4% (Validation: 0, Clipping: 0, Motion: 7)\n",
      "Trial 3336: Artifacts - 9.1% (Validation: 0, Clipping: 0, Motion: 160)\n"
     ]
    },
    {
     "name": "stderr",
     "output_type": "stream",
     "text": [
      "/usr/local/lib/python3.11/dist-packages/sklearn/decomposition/_fastica.py:542: FutureWarning: Starting in v1.3, whiten='unit-variance' will be used by default.\n",
      "  warnings.warn(\n"
     ]
    },
    {
     "name": "stdout",
     "output_type": "stream",
     "text": [
      "Trial 3337: Artifacts - 9.8% (Validation: 0, Clipping: 0, Motion: 171)\n",
      "Trial 3338: Artifacts - 8.7% (Validation: 0, Clipping: 0, Motion: 152)\n"
     ]
    },
    {
     "name": "stderr",
     "output_type": "stream",
     "text": [
      "/usr/local/lib/python3.11/dist-packages/sklearn/decomposition/_fastica.py:542: FutureWarning: Starting in v1.3, whiten='unit-variance' will be used by default.\n",
      "  warnings.warn(\n",
      "/usr/local/lib/python3.11/dist-packages/sklearn/decomposition/_fastica.py:542: FutureWarning: Starting in v1.3, whiten='unit-variance' will be used by default.\n",
      "  warnings.warn(\n"
     ]
    },
    {
     "name": "stdout",
     "output_type": "stream",
     "text": [
      "Trial 3339: Artifacts - 5.9% (Validation: 0, Clipping: 1, Motion: 102)\n",
      "Trial 3340: Artifacts - 1.5% (Validation: 0, Clipping: 0, Motion: 26)\n"
     ]
    },
    {
     "name": "stderr",
     "output_type": "stream",
     "text": [
      "/usr/local/lib/python3.11/dist-packages/sklearn/decomposition/_fastica.py:542: FutureWarning: Starting in v1.3, whiten='unit-variance' will be used by default.\n",
      "  warnings.warn(\n"
     ]
    },
    {
     "name": "stdout",
     "output_type": "stream",
     "text": [
      "Trial 3341: Artifacts - 4.5% (Validation: 0, Clipping: 1, Motion: 78)\n",
      "Trial 3342: Artifacts - 0.0% (Validation: 0, Clipping: 0, Motion: 0)\n"
     ]
    },
    {
     "name": "stderr",
     "output_type": "stream",
     "text": [
      "/usr/local/lib/python3.11/dist-packages/sklearn/decomposition/_fastica.py:542: FutureWarning: Starting in v1.3, whiten='unit-variance' will be used by default.\n",
      "  warnings.warn(\n"
     ]
    },
    {
     "name": "stdout",
     "output_type": "stream",
     "text": [
      "Trial 3343: Artifacts - 0.0% (Validation: 0, Clipping: 0, Motion: 0)\n",
      "Trial 3344: Artifacts - 11.7% (Validation: 0, Clipping: 0, Motion: 205)\n"
     ]
    },
    {
     "name": "stderr",
     "output_type": "stream",
     "text": [
      "/usr/local/lib/python3.11/dist-packages/sklearn/decomposition/_fastica.py:542: FutureWarning: Starting in v1.3, whiten='unit-variance' will be used by default.\n",
      "  warnings.warn(\n"
     ]
    },
    {
     "name": "stdout",
     "output_type": "stream",
     "text": [
      "Trial 3345: Artifacts - 12.0% (Validation: 0, Clipping: 0, Motion: 210)\n",
      "Trial 3346: Artifacts - 11.1% (Validation: 0, Clipping: 1, Motion: 194)\n"
     ]
    },
    {
     "name": "stderr",
     "output_type": "stream",
     "text": [
      "/usr/local/lib/python3.11/dist-packages/sklearn/decomposition/_fastica.py:542: FutureWarning: Starting in v1.3, whiten='unit-variance' will be used by default.\n",
      "  warnings.warn(\n",
      "/usr/local/lib/python3.11/dist-packages/sklearn/decomposition/_fastica.py:542: FutureWarning: Starting in v1.3, whiten='unit-variance' will be used by default.\n",
      "  warnings.warn(\n"
     ]
    },
    {
     "name": "stdout",
     "output_type": "stream",
     "text": [
      "Trial 3347: Artifacts - 9.7% (Validation: 0, Clipping: 0, Motion: 170)\n",
      "Trial 3348: Artifacts - 0.0% (Validation: 0, Clipping: 0, Motion: 0)\n"
     ]
    },
    {
     "name": "stderr",
     "output_type": "stream",
     "text": [
      "/usr/local/lib/python3.11/dist-packages/sklearn/decomposition/_fastica.py:542: FutureWarning: Starting in v1.3, whiten='unit-variance' will be used by default.\n",
      "  warnings.warn(\n"
     ]
    },
    {
     "name": "stdout",
     "output_type": "stream",
     "text": [
      "Trial 3349: Artifacts - 0.0% (Validation: 0, Clipping: 0, Motion: 0)\n",
      "Trial 3350: Artifacts - 0.0% (Validation: 0, Clipping: 0, Motion: 0)\n",
      "Trial 3351: Artifacts - 10.9% (Validation: 0, Clipping: 0, Motion: 190)\n"
     ]
    },
    {
     "name": "stderr",
     "output_type": "stream",
     "text": [
      "/usr/local/lib/python3.11/dist-packages/sklearn/decomposition/_fastica.py:542: FutureWarning: Starting in v1.3, whiten='unit-variance' will be used by default.\n",
      "  warnings.warn(\n"
     ]
    },
    {
     "name": "stdout",
     "output_type": "stream",
     "text": [
      "Trial 3352: Artifacts - 0.0% (Validation: 0, Clipping: 0, Motion: 0)\n",
      "Trial 3353: Artifacts - 13.8% (Validation: 0, Clipping: 1, Motion: 240)\n"
     ]
    },
    {
     "name": "stderr",
     "output_type": "stream",
     "text": [
      "/usr/local/lib/python3.11/dist-packages/sklearn/decomposition/_fastica.py:542: FutureWarning: Starting in v1.3, whiten='unit-variance' will be used by default.\n",
      "  warnings.warn(\n",
      "/usr/local/lib/python3.11/dist-packages/sklearn/decomposition/_fastica.py:542: FutureWarning: Starting in v1.3, whiten='unit-variance' will be used by default.\n",
      "  warnings.warn(\n"
     ]
    },
    {
     "name": "stdout",
     "output_type": "stream",
     "text": [
      "Trial 3354: Artifacts - 8.0% (Validation: 0, Clipping: 0, Motion: 140)\n",
      "Trial 3355: Artifacts - 11.0% (Validation: 0, Clipping: 0, Motion: 192)\n",
      "Trial 3356: Artifacts - 6.1% (Validation: 0, Clipping: 0, Motion: 107)\n"
     ]
    },
    {
     "name": "stderr",
     "output_type": "stream",
     "text": [
      "/usr/local/lib/python3.11/dist-packages/sklearn/decomposition/_fastica.py:542: FutureWarning: Starting in v1.3, whiten='unit-variance' will be used by default.\n",
      "  warnings.warn(\n",
      "/usr/local/lib/python3.11/dist-packages/sklearn/decomposition/_fastica.py:542: FutureWarning: Starting in v1.3, whiten='unit-variance' will be used by default.\n",
      "  warnings.warn(\n"
     ]
    },
    {
     "name": "stdout",
     "output_type": "stream",
     "text": [
      "Trial 3357: Artifacts - 0.0% (Validation: 0, Clipping: 0, Motion: 0)\n",
      "Trial 3358: Artifacts - 10.6% (Validation: 0, Clipping: 0, Motion: 186)\n"
     ]
    },
    {
     "name": "stderr",
     "output_type": "stream",
     "text": [
      "/usr/local/lib/python3.11/dist-packages/sklearn/decomposition/_fastica.py:542: FutureWarning: Starting in v1.3, whiten='unit-variance' will be used by default.\n",
      "  warnings.warn(\n"
     ]
    },
    {
     "name": "stdout",
     "output_type": "stream",
     "text": [
      "Trial 3359: Artifacts - 0.0% (Validation: 0, Clipping: 0, Motion: 0)\n",
      "Trial 3360: Artifacts - 0.0% (Validation: 0, Clipping: 0, Motion: 0)\n",
      "Trial 3361: Artifacts - 3.0% (Validation: 0, Clipping: 0, Motion: 53)\n",
      "Trial 3362: Artifacts - 0.0% (Validation: 0, Clipping: 0, Motion: 0)\n"
     ]
    },
    {
     "name": "stderr",
     "output_type": "stream",
     "text": [
      "/usr/local/lib/python3.11/dist-packages/sklearn/decomposition/_fastica.py:542: FutureWarning: Starting in v1.3, whiten='unit-variance' will be used by default.\n",
      "  warnings.warn(\n"
     ]
    },
    {
     "name": "stdout",
     "output_type": "stream",
     "text": [
      "Trial 3363: Artifacts - 0.2% (Validation: 0, Clipping: 0, Motion: 3)\n",
      "Trial 3364: Artifacts - 4.1% (Validation: 0, Clipping: 0, Motion: 72)\n"
     ]
    },
    {
     "name": "stderr",
     "output_type": "stream",
     "text": [
      "/usr/local/lib/python3.11/dist-packages/sklearn/decomposition/_fastica.py:542: FutureWarning: Starting in v1.3, whiten='unit-variance' will be used by default.\n",
      "  warnings.warn(\n"
     ]
    },
    {
     "name": "stdout",
     "output_type": "stream",
     "text": [
      "Trial 3365: Artifacts - 1.8% (Validation: 0, Clipping: 0, Motion: 32)\n",
      "Trial 3366: Artifacts - 2.5% (Validation: 0, Clipping: 0, Motion: 44)\n",
      "Trial 3367: Artifacts - 3.1% (Validation: 0, Clipping: 0, Motion: 54)\n",
      "Trial 3368: Artifacts - 0.6% (Validation: 0, Clipping: 1, Motion: 9)\n"
     ]
    },
    {
     "name": "stderr",
     "output_type": "stream",
     "text": [
      "/usr/local/lib/python3.11/dist-packages/sklearn/decomposition/_fastica.py:542: FutureWarning: Starting in v1.3, whiten='unit-variance' will be used by default.\n",
      "  warnings.warn(\n"
     ]
    },
    {
     "name": "stdout",
     "output_type": "stream",
     "text": [
      "Trial 3369: Artifacts - 3.5% (Validation: 0, Clipping: 0, Motion: 61)\n",
      "Trial 3370: Artifacts - 3.7% (Validation: 0, Clipping: 0, Motion: 65)\n"
     ]
    },
    {
     "name": "stderr",
     "output_type": "stream",
     "text": [
      "/usr/local/lib/python3.11/dist-packages/sklearn/decomposition/_fastica.py:542: FutureWarning: Starting in v1.3, whiten='unit-variance' will be used by default.\n",
      "  warnings.warn(\n",
      "/usr/local/lib/python3.11/dist-packages/sklearn/decomposition/_fastica.py:542: FutureWarning: Starting in v1.3, whiten='unit-variance' will be used by default.\n",
      "  warnings.warn(\n"
     ]
    },
    {
     "name": "stdout",
     "output_type": "stream",
     "text": [
      "Trial 3371: Artifacts - 5.5% (Validation: 0, Clipping: 0, Motion: 97)\n",
      "Trial 3372: Artifacts - 8.8% (Validation: 0, Clipping: 0, Motion: 154)\n"
     ]
    },
    {
     "name": "stderr",
     "output_type": "stream",
     "text": [
      "/usr/local/lib/python3.11/dist-packages/sklearn/decomposition/_fastica.py:542: FutureWarning: Starting in v1.3, whiten='unit-variance' will be used by default.\n",
      "  warnings.warn(\n",
      "/usr/local/lib/python3.11/dist-packages/sklearn/decomposition/_fastica.py:542: FutureWarning: Starting in v1.3, whiten='unit-variance' will be used by default.\n",
      "  warnings.warn(\n"
     ]
    },
    {
     "name": "stdout",
     "output_type": "stream",
     "text": [
      "Trial 3373: Artifacts - 1.9% (Validation: 0, Clipping: 0, Motion: 33)\n",
      "Trial 3374: Artifacts - 0.1% (Validation: 0, Clipping: 1, Motion: 0)\n",
      "Trial 3375: Artifacts - 0.9% (Validation: 0, Clipping: 0, Motion: 15)\n",
      "Trial 3376: Artifacts - 0.0% (Validation: 0, Clipping: 0, Motion: 0)\n",
      "Trial 3377: Artifacts - 1.4% (Validation: 0, Clipping: 0, Motion: 25)\n",
      "Trial 3378: Artifacts - 4.9% (Validation: 0, Clipping: 0, Motion: 85)\n"
     ]
    },
    {
     "name": "stderr",
     "output_type": "stream",
     "text": [
      "/usr/local/lib/python3.11/dist-packages/sklearn/decomposition/_fastica.py:542: FutureWarning: Starting in v1.3, whiten='unit-variance' will be used by default.\n",
      "  warnings.warn(\n"
     ]
    },
    {
     "name": "stdout",
     "output_type": "stream",
     "text": [
      "Trial 3379: Artifacts - 0.0% (Validation: 0, Clipping: 0, Motion: 0)\n",
      "Trial 3380: Artifacts - 1.0% (Validation: 0, Clipping: 0, Motion: 18)\n",
      "Trial 3381: Artifacts - 0.1% (Validation: 0, Clipping: 1, Motion: 0)\n",
      "Trial 3382: Artifacts - 7.3% (Validation: 0, Clipping: 0, Motion: 128)\n"
     ]
    },
    {
     "name": "stderr",
     "output_type": "stream",
     "text": [
      "/usr/local/lib/python3.11/dist-packages/sklearn/decomposition/_fastica.py:542: FutureWarning: Starting in v1.3, whiten='unit-variance' will be used by default.\n",
      "  warnings.warn(\n"
     ]
    },
    {
     "name": "stdout",
     "output_type": "stream",
     "text": [
      "Trial 3383: Artifacts - 4.2% (Validation: 0, Clipping: 0, Motion: 74)\n",
      "Trial 3384: Artifacts - 2.3% (Validation: 0, Clipping: 0, Motion: 40)\n"
     ]
    },
    {
     "name": "stderr",
     "output_type": "stream",
     "text": [
      "/usr/local/lib/python3.11/dist-packages/sklearn/decomposition/_fastica.py:542: FutureWarning: Starting in v1.3, whiten='unit-variance' will be used by default.\n",
      "  warnings.warn(\n"
     ]
    },
    {
     "name": "stdout",
     "output_type": "stream",
     "text": [
      "Trial 3385: Artifacts - 0.0% (Validation: 0, Clipping: 0, Motion: 0)\n",
      "Trial 3386: Artifacts - 8.9% (Validation: 0, Clipping: 0, Motion: 155)\n"
     ]
    },
    {
     "name": "stderr",
     "output_type": "stream",
     "text": [
      "/usr/local/lib/python3.11/dist-packages/sklearn/decomposition/_fastica.py:542: FutureWarning: Starting in v1.3, whiten='unit-variance' will be used by default.\n",
      "  warnings.warn(\n"
     ]
    },
    {
     "name": "stdout",
     "output_type": "stream",
     "text": [
      "Trial 3387: Artifacts - 0.0% (Validation: 0, Clipping: 0, Motion: 0)\n",
      "Trial 3388: Artifacts - 0.0% (Validation: 0, Clipping: 0, Motion: 0)\n",
      "Trial 3389: Artifacts - 0.1% (Validation: 0, Clipping: 1, Motion: 0)\n",
      "Trial 3390: Artifacts - 0.0% (Validation: 0, Clipping: 0, Motion: 0)\n",
      "Trial 3391: Artifacts - 7.1% (Validation: 0, Clipping: 0, Motion: 125)\n",
      "Trial 3392: Artifacts - 4.1% (Validation: 0, Clipping: 0, Motion: 72)\n"
     ]
    },
    {
     "name": "stderr",
     "output_type": "stream",
     "text": [
      "/usr/local/lib/python3.11/dist-packages/sklearn/decomposition/_fastica.py:542: FutureWarning: Starting in v1.3, whiten='unit-variance' will be used by default.\n",
      "  warnings.warn(\n",
      "/usr/local/lib/python3.11/dist-packages/sklearn/decomposition/_fastica.py:542: FutureWarning: Starting in v1.3, whiten='unit-variance' will be used by default.\n",
      "  warnings.warn(\n"
     ]
    },
    {
     "name": "stdout",
     "output_type": "stream",
     "text": [
      "Trial 3393: Artifacts - 0.0% (Validation: 0, Clipping: 0, Motion: 0)\n",
      "Trial 3394: Artifacts - 0.0% (Validation: 0, Clipping: 0, Motion: 0)\n",
      "Trial 3395: Artifacts - 2.4% (Validation: 0, Clipping: 0, Motion: 42)\n",
      "Trial 3396: Artifacts - 3.5% (Validation: 0, Clipping: 0, Motion: 61)\n"
     ]
    },
    {
     "name": "stderr",
     "output_type": "stream",
     "text": [
      "/usr/local/lib/python3.11/dist-packages/sklearn/decomposition/_fastica.py:542: FutureWarning: Starting in v1.3, whiten='unit-variance' will be used by default.\n",
      "  warnings.warn(\n"
     ]
    },
    {
     "name": "stdout",
     "output_type": "stream",
     "text": [
      "Trial 3397: Artifacts - 0.1% (Validation: 0, Clipping: 0, Motion: 1)\n",
      "Trial 3398: Artifacts - 2.0% (Validation: 0, Clipping: 0, Motion: 35)\n",
      "Trial 3399: Artifacts - 0.0% (Validation: 0, Clipping: 0, Motion: 0)\n",
      "Trial 3400: Artifacts - 1.5% (Validation: 0, Clipping: 0, Motion: 27)\n",
      "Processed 3400/4800 trials\n",
      "Trial 3401: Artifacts - 9.1% (Validation: 0, Clipping: 1, Motion: 159)\n"
     ]
    },
    {
     "name": "stderr",
     "output_type": "stream",
     "text": [
      "/usr/local/lib/python3.11/dist-packages/sklearn/decomposition/_fastica.py:542: FutureWarning: Starting in v1.3, whiten='unit-variance' will be used by default.\n",
      "  warnings.warn(\n"
     ]
    },
    {
     "name": "stdout",
     "output_type": "stream",
     "text": [
      "Trial 3402: Artifacts - 1.3% (Validation: 0, Clipping: 0, Motion: 22)\n",
      "Trial 3403: Artifacts - 1.1% (Validation: 0, Clipping: 0, Motion: 19)\n",
      "Trial 3404: Artifacts - 0.0% (Validation: 0, Clipping: 0, Motion: 0)\n",
      "Trial 3405: Artifacts - 3.3% (Validation: 0, Clipping: 0, Motion: 58)\n"
     ]
    },
    {
     "name": "stderr",
     "output_type": "stream",
     "text": [
      "/usr/local/lib/python3.11/dist-packages/sklearn/decomposition/_fastica.py:542: FutureWarning: Starting in v1.3, whiten='unit-variance' will be used by default.\n",
      "  warnings.warn(\n",
      "/usr/local/lib/python3.11/dist-packages/sklearn/decomposition/_fastica.py:542: FutureWarning: Starting in v1.3, whiten='unit-variance' will be used by default.\n",
      "  warnings.warn(\n"
     ]
    },
    {
     "name": "stdout",
     "output_type": "stream",
     "text": [
      "Trial 3406: Artifacts - 3.7% (Validation: 0, Clipping: 0, Motion: 64)\n",
      "Trial 3407: Artifacts - 1.0% (Validation: 0, Clipping: 0, Motion: 18)\n",
      "Trial 3408: Artifacts - 2.9% (Validation: 0, Clipping: 0, Motion: 51)\n"
     ]
    },
    {
     "name": "stderr",
     "output_type": "stream",
     "text": [
      "/usr/local/lib/python3.11/dist-packages/sklearn/decomposition/_fastica.py:542: FutureWarning: Starting in v1.3, whiten='unit-variance' will be used by default.\n",
      "  warnings.warn(\n"
     ]
    },
    {
     "name": "stdout",
     "output_type": "stream",
     "text": [
      "Trial 3409: Artifacts - 0.0% (Validation: 0, Clipping: 0, Motion: 0)\n",
      "Trial 3410: Artifacts - 15.1% (Validation: 0, Clipping: 0, Motion: 264)\n"
     ]
    },
    {
     "name": "stderr",
     "output_type": "stream",
     "text": [
      "/usr/local/lib/python3.11/dist-packages/sklearn/decomposition/_fastica.py:542: FutureWarning: Starting in v1.3, whiten='unit-variance' will be used by default.\n",
      "  warnings.warn(\n"
     ]
    },
    {
     "name": "stdout",
     "output_type": "stream",
     "text": [
      "Trial 3411: Artifacts - 1.8% (Validation: 0, Clipping: 0, Motion: 31)\n",
      "Trial 3412: Artifacts - 4.3% (Validation: 0, Clipping: 0, Motion: 75)\n"
     ]
    },
    {
     "name": "stderr",
     "output_type": "stream",
     "text": [
      "/usr/local/lib/python3.11/dist-packages/sklearn/decomposition/_fastica.py:542: FutureWarning: Starting in v1.3, whiten='unit-variance' will be used by default.\n",
      "  warnings.warn(\n"
     ]
    },
    {
     "name": "stdout",
     "output_type": "stream",
     "text": [
      "Trial 3413: Artifacts - 0.0% (Validation: 0, Clipping: 0, Motion: 0)\n",
      "Trial 3414: Artifacts - 5.5% (Validation: 0, Clipping: 0, Motion: 97)\n"
     ]
    },
    {
     "name": "stderr",
     "output_type": "stream",
     "text": [
      "/usr/local/lib/python3.11/dist-packages/sklearn/decomposition/_fastica.py:542: FutureWarning: Starting in v1.3, whiten='unit-variance' will be used by default.\n",
      "  warnings.warn(\n"
     ]
    },
    {
     "name": "stdout",
     "output_type": "stream",
     "text": [
      "Trial 3415: Artifacts - 1.7% (Validation: 0, Clipping: 0, Motion: 29)\n",
      "Trial 3416: Artifacts - 0.2% (Validation: 0, Clipping: 0, Motion: 3)\n",
      "Trial 3417: Artifacts - 0.0% (Validation: 0, Clipping: 0, Motion: 0)\n",
      "Trial 3418: Artifacts - 1.1% (Validation: 0, Clipping: 0, Motion: 20)\n",
      "Trial 3419: Artifacts - 2.3% (Validation: 0, Clipping: 1, Motion: 40)\n",
      "Trial 3420: Artifacts - 0.0% (Validation: 0, Clipping: 0, Motion: 0)\n",
      "Trial 3421: Artifacts - 2.1% (Validation: 0, Clipping: 0, Motion: 37)\n",
      "Trial 3422: Artifacts - 1.1% (Validation: 0, Clipping: 0, Motion: 19)\n",
      "Trial 3423: Artifacts - 0.0% (Validation: 0, Clipping: 0, Motion: 0)\n",
      "Trial 3424: Artifacts - 2.2% (Validation: 0, Clipping: 0, Motion: 38)\n",
      "Trial 3425: Artifacts - 10.3% (Validation: 0, Clipping: 0, Motion: 181)\n",
      "Trial 3426: Artifacts - 7.3% (Validation: 0, Clipping: 0, Motion: 128)\n"
     ]
    },
    {
     "name": "stderr",
     "output_type": "stream",
     "text": [
      "/usr/local/lib/python3.11/dist-packages/sklearn/decomposition/_fastica.py:542: FutureWarning: Starting in v1.3, whiten='unit-variance' will be used by default.\n",
      "  warnings.warn(\n",
      "/usr/local/lib/python3.11/dist-packages/sklearn/decomposition/_fastica.py:542: FutureWarning: Starting in v1.3, whiten='unit-variance' will be used by default.\n",
      "  warnings.warn(\n"
     ]
    },
    {
     "name": "stdout",
     "output_type": "stream",
     "text": [
      "Trial 3427: Artifacts - 0.0% (Validation: 0, Clipping: 0, Motion: 0)\n",
      "Trial 3428: Artifacts - 0.0% (Validation: 0, Clipping: 0, Motion: 0)\n",
      "Trial 3429: Artifacts - 7.1% (Validation: 0, Clipping: 0, Motion: 124)\n",
      "Trial 3430: Artifacts - 1.9% (Validation: 0, Clipping: 0, Motion: 34)\n"
     ]
    },
    {
     "name": "stderr",
     "output_type": "stream",
     "text": [
      "/usr/local/lib/python3.11/dist-packages/sklearn/decomposition/_fastica.py:542: FutureWarning: Starting in v1.3, whiten='unit-variance' will be used by default.\n",
      "  warnings.warn(\n"
     ]
    },
    {
     "name": "stdout",
     "output_type": "stream",
     "text": [
      "Trial 3431: Artifacts - 4.7% (Validation: 0, Clipping: 0, Motion: 83)\n",
      "Trial 3432: Artifacts - 7.5% (Validation: 0, Clipping: 0, Motion: 132)\n"
     ]
    },
    {
     "name": "stderr",
     "output_type": "stream",
     "text": [
      "/usr/local/lib/python3.11/dist-packages/sklearn/decomposition/_fastica.py:542: FutureWarning: Starting in v1.3, whiten='unit-variance' will be used by default.\n",
      "  warnings.warn(\n",
      "/usr/local/lib/python3.11/dist-packages/sklearn/decomposition/_fastica.py:542: FutureWarning: Starting in v1.3, whiten='unit-variance' will be used by default.\n",
      "  warnings.warn(\n"
     ]
    },
    {
     "name": "stdout",
     "output_type": "stream",
     "text": [
      "Trial 3433: Artifacts - 3.0% (Validation: 0, Clipping: 0, Motion: 53)\n",
      "Trial 3434: Artifacts - 3.4% (Validation: 0, Clipping: 0, Motion: 59)\n"
     ]
    },
    {
     "name": "stderr",
     "output_type": "stream",
     "text": [
      "/usr/local/lib/python3.11/dist-packages/sklearn/decomposition/_fastica.py:542: FutureWarning: Starting in v1.3, whiten='unit-variance' will be used by default.\n",
      "  warnings.warn(\n",
      "/usr/local/lib/python3.11/dist-packages/sklearn/decomposition/_fastica.py:542: FutureWarning: Starting in v1.3, whiten='unit-variance' will be used by default.\n",
      "  warnings.warn(\n"
     ]
    },
    {
     "name": "stdout",
     "output_type": "stream",
     "text": [
      "Trial 3435: Artifacts - 0.0% (Validation: 0, Clipping: 0, Motion: 0)\n",
      "Trial 3436: Artifacts - 0.1% (Validation: 0, Clipping: 1, Motion: 2)\n",
      "Trial 3437: Artifacts - 7.0% (Validation: 0, Clipping: 0, Motion: 122)\n",
      "Trial 3438: Artifacts - 0.9% (Validation: 0, Clipping: 0, Motion: 15)\n"
     ]
    },
    {
     "name": "stderr",
     "output_type": "stream",
     "text": [
      "/usr/local/lib/python3.11/dist-packages/sklearn/decomposition/_fastica.py:542: FutureWarning: Starting in v1.3, whiten='unit-variance' will be used by default.\n",
      "  warnings.warn(\n"
     ]
    },
    {
     "name": "stdout",
     "output_type": "stream",
     "text": [
      "Trial 3439: Artifacts - 3.3% (Validation: 0, Clipping: 0, Motion: 57)\n"
     ]
    },
    {
     "name": "stderr",
     "output_type": "stream",
     "text": [
      "/usr/local/lib/python3.11/dist-packages/sklearn/decomposition/_fastica.py:542: FutureWarning: Starting in v1.3, whiten='unit-variance' will be used by default.\n",
      "  warnings.warn(\n"
     ]
    },
    {
     "name": "stdout",
     "output_type": "stream",
     "text": [
      "Trial 3440: Artifacts - 0.1% (Validation: 0, Clipping: 0, Motion: 2)\n",
      "REJECTING trial 3441: 63.1% artifacts\n",
      "REJECTING trial 3442: 57.4% artifacts\n",
      "REJECTING trial 3443: 64.9% artifacts\n",
      "REJECTING trial 3444: 57.9% artifacts\n",
      "REJECTING trial 3445: 52.7% artifacts\n",
      "REJECTING trial 3446: 59.9% artifacts\n",
      "REJECTING trial 3447: 32.4% artifacts\n",
      "REJECTING trial 3448: 40.1% artifacts\n",
      "REJECTING trial 3449: 69.9% artifacts\n",
      "REJECTING trial 3450: 50.2% artifacts\n",
      "Trial 3451: Artifacts - 2.9% (Validation: 0, Clipping: 0, Motion: 50)\n",
      "Trial 3452: Artifacts - 0.9% (Validation: 0, Clipping: 1, Motion: 14)\n",
      "Trial 3453: Artifacts - 7.7% (Validation: 134, Clipping: 15, Motion: 1)\n",
      "Trial 3454: Artifacts - 6.6% (Validation: 115, Clipping: 0, Motion: 0)\n",
      "Trial 3455: Artifacts - 4.5% (Validation: 0, Clipping: 0, Motion: 79)\n",
      "Trial 3456: Artifacts - 0.0% (Validation: 0, Clipping: 0, Motion: 0)\n"
     ]
    },
    {
     "name": "stderr",
     "output_type": "stream",
     "text": [
      "/usr/local/lib/python3.11/dist-packages/sklearn/decomposition/_fastica.py:542: FutureWarning: Starting in v1.3, whiten='unit-variance' will be used by default.\n",
      "  warnings.warn(\n"
     ]
    },
    {
     "name": "stdout",
     "output_type": "stream",
     "text": [
      "Trial 3457: Artifacts - 0.0% (Validation: 0, Clipping: 0, Motion: 0)\n",
      "Trial 3458: Artifacts - 2.7% (Validation: 0, Clipping: 0, Motion: 47)\n",
      "Trial 3459: Artifacts - 0.0% (Validation: 0, Clipping: 0, Motion: 0)\n",
      "Trial 3460: Artifacts - 0.0% (Validation: 0, Clipping: 0, Motion: 0)\n",
      "Trial 3461: Artifacts - 14.9% (Validation: 129, Clipping: 89, Motion: 131)\n",
      "Trial 3462: Artifacts - 3.1% (Validation: 54, Clipping: 0, Motion: 0)\n"
     ]
    },
    {
     "name": "stderr",
     "output_type": "stream",
     "text": [
      "/usr/local/lib/python3.11/dist-packages/sklearn/decomposition/_fastica.py:542: FutureWarning: Starting in v1.3, whiten='unit-variance' will be used by default.\n",
      "  warnings.warn(\n"
     ]
    },
    {
     "name": "stdout",
     "output_type": "stream",
     "text": [
      "Trial 3463: Artifacts - 3.1% (Validation: 27, Clipping: 0, Motion: 28)\n",
      "Trial 3464: Artifacts - 3.0% (Validation: 0, Clipping: 0, Motion: 53)\n"
     ]
    },
    {
     "name": "stderr",
     "output_type": "stream",
     "text": [
      "/usr/local/lib/python3.11/dist-packages/sklearn/decomposition/_fastica.py:542: FutureWarning: Starting in v1.3, whiten='unit-variance' will be used by default.\n",
      "  warnings.warn(\n",
      "/usr/local/lib/python3.11/dist-packages/sklearn/decomposition/_fastica.py:542: FutureWarning: Starting in v1.3, whiten='unit-variance' will be used by default.\n",
      "  warnings.warn(\n"
     ]
    },
    {
     "name": "stdout",
     "output_type": "stream",
     "text": [
      "Trial 3465: Artifacts - 3.1% (Validation: 0, Clipping: 0, Motion: 54)\n",
      "Trial 3466: Artifacts - 0.4% (Validation: 0, Clipping: 0, Motion: 7)\n",
      "Trial 3467: Artifacts - 0.1% (Validation: 0, Clipping: 1, Motion: 0)\n",
      "Trial 3468: Artifacts - 0.0% (Validation: 0, Clipping: 0, Motion: 0)\n",
      "Trial 3469: Artifacts - 6.2% (Validation: 109, Clipping: 109, Motion: 0)\n",
      "Trial 3470: Artifacts - 13.8% (Validation: 213, Clipping: 66, Motion: 28)\n",
      "Trial 3471: Artifacts - 7.1% (Validation: 0, Clipping: 1, Motion: 124)\n"
     ]
    },
    {
     "name": "stderr",
     "output_type": "stream",
     "text": [
      "/usr/local/lib/python3.11/dist-packages/sklearn/decomposition/_fastica.py:542: FutureWarning: Starting in v1.3, whiten='unit-variance' will be used by default.\n",
      "  warnings.warn(\n"
     ]
    },
    {
     "name": "stdout",
     "output_type": "stream",
     "text": [
      "Trial 3472: Artifacts - 1.7% (Validation: 0, Clipping: 0, Motion: 29)\n",
      "Trial 3473: Artifacts - 0.1% (Validation: 0, Clipping: 1, Motion: 0)\n",
      "Trial 3474: Artifacts - 0.0% (Validation: 0, Clipping: 0, Motion: 0)\n",
      "Trial 3475: Artifacts - 0.0% (Validation: 0, Clipping: 0, Motion: 0)\n",
      "Trial 3476: Artifacts - 0.0% (Validation: 0, Clipping: 0, Motion: 0)\n",
      "Trial 3477: Artifacts - 0.2% (Validation: 0, Clipping: 0, Motion: 3)\n",
      "Trial 3478: Artifacts - 0.0% (Validation: 0, Clipping: 0, Motion: 0)\n",
      "Trial 3479: Artifacts - 1.1% (Validation: 0, Clipping: 0, Motion: 20)\n",
      "Trial 3480: Artifacts - 0.1% (Validation: 0, Clipping: 1, Motion: 0)\n",
      "Trial 3481: Artifacts - 15.1% (Validation: 69, Clipping: 7, Motion: 195)\n"
     ]
    },
    {
     "name": "stderr",
     "output_type": "stream",
     "text": [
      "/usr/local/lib/python3.11/dist-packages/sklearn/decomposition/_fastica.py:542: FutureWarning: Starting in v1.3, whiten='unit-variance' will be used by default.\n",
      "  warnings.warn(\n"
     ]
    },
    {
     "name": "stdout",
     "output_type": "stream",
     "text": [
      "Trial 3482: Artifacts - 2.2% (Validation: 39, Clipping: 0, Motion: 0)\n",
      "Trial 3483: Artifacts - 5.3% (Validation: 93, Clipping: 25, Motion: 0)\n",
      "Trial 3484: Artifacts - 0.1% (Validation: 0, Clipping: 1, Motion: 0)\n",
      "Trial 3485: Artifacts - 0.1% (Validation: 0, Clipping: 1, Motion: 0)\n",
      "Trial 3486: Artifacts - 0.0% (Validation: 0, Clipping: 0, Motion: 0)\n",
      "Trial 3487: Artifacts - 3.3% (Validation: 0, Clipping: 0, Motion: 57)\n"
     ]
    },
    {
     "name": "stderr",
     "output_type": "stream",
     "text": [
      "/usr/local/lib/python3.11/dist-packages/sklearn/decomposition/_fastica.py:542: FutureWarning: Starting in v1.3, whiten='unit-variance' will be used by default.\n",
      "  warnings.warn(\n"
     ]
    },
    {
     "name": "stdout",
     "output_type": "stream",
     "text": [
      "Trial 3488: Artifacts - 0.8% (Validation: 0, Clipping: 0, Motion: 14)\n",
      "Trial 3489: Artifacts - 4.7% (Validation: 83, Clipping: 6, Motion: 0)\n",
      "Trial 3490: Artifacts - 3.4% (Validation: 0, Clipping: 0, Motion: 59)\n"
     ]
    },
    {
     "name": "stderr",
     "output_type": "stream",
     "text": [
      "/usr/local/lib/python3.11/dist-packages/sklearn/decomposition/_fastica.py:542: FutureWarning: Starting in v1.3, whiten='unit-variance' will be used by default.\n",
      "  warnings.warn(\n"
     ]
    },
    {
     "name": "stdout",
     "output_type": "stream",
     "text": [
      "Trial 3491: Artifacts - 12.9% (Validation: 81, Clipping: 0, Motion: 144)\n"
     ]
    },
    {
     "name": "stderr",
     "output_type": "stream",
     "text": [
      "/usr/local/lib/python3.11/dist-packages/sklearn/decomposition/_fastica.py:542: FutureWarning: Starting in v1.3, whiten='unit-variance' will be used by default.\n",
      "  warnings.warn(\n"
     ]
    },
    {
     "name": "stdout",
     "output_type": "stream",
     "text": [
      "Trial 3492: Artifacts - 0.0% (Validation: 0, Clipping: 0, Motion: 0)\n",
      "Trial 3493: Artifacts - 0.0% (Validation: 0, Clipping: 0, Motion: 0)\n",
      "Trial 3494: Artifacts - 0.0% (Validation: 0, Clipping: 0, Motion: 0)\n",
      "Trial 3495: Artifacts - 0.1% (Validation: 0, Clipping: 1, Motion: 0)\n",
      "Trial 3496: Artifacts - 1.6% (Validation: 0, Clipping: 0, Motion: 28)\n",
      "Trial 3497: Artifacts - 0.0% (Validation: 0, Clipping: 0, Motion: 0)\n",
      "Trial 3498: Artifacts - 0.1% (Validation: 0, Clipping: 1, Motion: 0)\n",
      "Trial 3499: Artifacts - 0.0% (Validation: 0, Clipping: 0, Motion: 0)\n",
      "Trial 3500: Artifacts - 0.0% (Validation: 0, Clipping: 0, Motion: 0)\n",
      "Processed 3500/4800 trials\n",
      "Trial 3501: Artifacts - 8.2% (Validation: 0, Clipping: 0, Motion: 144)\n"
     ]
    },
    {
     "name": "stderr",
     "output_type": "stream",
     "text": [
      "/usr/local/lib/python3.11/dist-packages/sklearn/decomposition/_fastica.py:542: FutureWarning: Starting in v1.3, whiten='unit-variance' will be used by default.\n",
      "  warnings.warn(\n"
     ]
    },
    {
     "name": "stdout",
     "output_type": "stream",
     "text": [
      "Trial 3502: Artifacts - 0.0% (Validation: 0, Clipping: 0, Motion: 0)\n",
      "Trial 3503: Artifacts - 0.0% (Validation: 0, Clipping: 0, Motion: 0)\n",
      "Trial 3504: Artifacts - 0.0% (Validation: 0, Clipping: 0, Motion: 0)\n",
      "Trial 3505: Artifacts - 0.1% (Validation: 0, Clipping: 1, Motion: 0)\n",
      "Trial 3506: Artifacts - 0.0% (Validation: 0, Clipping: 0, Motion: 0)\n",
      "Trial 3507: Artifacts - 0.0% (Validation: 0, Clipping: 0, Motion: 0)\n",
      "Trial 3508: Artifacts - 0.0% (Validation: 0, Clipping: 0, Motion: 0)\n",
      "Trial 3509: Artifacts - 0.0% (Validation: 0, Clipping: 0, Motion: 0)\n",
      "Trial 3510: Artifacts - 0.0% (Validation: 0, Clipping: 0, Motion: 0)\n",
      "Trial 3511: Artifacts - 0.0% (Validation: 0, Clipping: 0, Motion: 0)\n",
      "Trial 3512: Artifacts - 0.0% (Validation: 0, Clipping: 0, Motion: 0)\n",
      "Trial 3513: Artifacts - 0.1% (Validation: 0, Clipping: 1, Motion: 0)\n",
      "Trial 3514: Artifacts - 0.1% (Validation: 0, Clipping: 1, Motion: 0)\n",
      "Trial 3515: Artifacts - 0.0% (Validation: 0, Clipping: 0, Motion: 0)\n",
      "Trial 3516: Artifacts - 0.0% (Validation: 0, Clipping: 0, Motion: 0)\n",
      "Trial 3517: Artifacts - 5.6% (Validation: 98, Clipping: 5, Motion: 0)\n",
      "Trial 3518: Artifacts - 0.0% (Validation: 0, Clipping: 0, Motion: 0)\n",
      "Trial 3519: Artifacts - 0.1% (Validation: 0, Clipping: 1, Motion: 0)\n",
      "Trial 3520: Artifacts - 0.0% (Validation: 0, Clipping: 0, Motion: 0)\n",
      "Trial 3521: Artifacts - 2.6% (Validation: 0, Clipping: 0, Motion: 45)\n",
      "Trial 3522: Artifacts - 4.0% (Validation: 0, Clipping: 0, Motion: 70)\n"
     ]
    },
    {
     "name": "stderr",
     "output_type": "stream",
     "text": [
      "/usr/local/lib/python3.11/dist-packages/sklearn/decomposition/_fastica.py:542: FutureWarning: Starting in v1.3, whiten='unit-variance' will be used by default.\n",
      "  warnings.warn(\n"
     ]
    },
    {
     "name": "stdout",
     "output_type": "stream",
     "text": [
      "Trial 3523: Artifacts - 2.3% (Validation: 0, Clipping: 0, Motion: 41)\n",
      "Trial 3524: Artifacts - 5.0% (Validation: 0, Clipping: 1, Motion: 87)\n"
     ]
    },
    {
     "name": "stderr",
     "output_type": "stream",
     "text": [
      "/usr/local/lib/python3.11/dist-packages/sklearn/decomposition/_fastica.py:542: FutureWarning: Starting in v1.3, whiten='unit-variance' will be used by default.\n",
      "  warnings.warn(\n"
     ]
    },
    {
     "name": "stdout",
     "output_type": "stream",
     "text": [
      "Trial 3525: Artifacts - 5.5% (Validation: 0, Clipping: 0, Motion: 96)\n",
      "Trial 3526: Artifacts - 0.0% (Validation: 0, Clipping: 0, Motion: 0)\n"
     ]
    },
    {
     "name": "stderr",
     "output_type": "stream",
     "text": [
      "/usr/local/lib/python3.11/dist-packages/sklearn/decomposition/_fastica.py:542: FutureWarning: Starting in v1.3, whiten='unit-variance' will be used by default.\n",
      "  warnings.warn(\n"
     ]
    },
    {
     "name": "stdout",
     "output_type": "stream",
     "text": [
      "Trial 3527: Artifacts - 3.1% (Validation: 0, Clipping: 0, Motion: 54)\n",
      "Trial 3528: Artifacts - 2.8% (Validation: 0, Clipping: 0, Motion: 49)\n"
     ]
    },
    {
     "name": "stderr",
     "output_type": "stream",
     "text": [
      "/usr/local/lib/python3.11/dist-packages/sklearn/decomposition/_fastica.py:542: FutureWarning: Starting in v1.3, whiten='unit-variance' will be used by default.\n",
      "  warnings.warn(\n"
     ]
    },
    {
     "name": "stdout",
     "output_type": "stream",
     "text": [
      "Trial 3529: Artifacts - 3.3% (Validation: 0, Clipping: 0, Motion: 57)\n"
     ]
    },
    {
     "name": "stderr",
     "output_type": "stream",
     "text": [
      "/usr/local/lib/python3.11/dist-packages/sklearn/decomposition/_fastica.py:542: FutureWarning: Starting in v1.3, whiten='unit-variance' will be used by default.\n",
      "  warnings.warn(\n"
     ]
    },
    {
     "name": "stdout",
     "output_type": "stream",
     "text": [
      "Trial 3530: Artifacts - 0.1% (Validation: 0, Clipping: 1, Motion: 0)\n",
      "Trial 3531: Artifacts - 1.5% (Validation: 0, Clipping: 0, Motion: 26)\n",
      "Trial 3532: Artifacts - 4.3% (Validation: 0, Clipping: 0, Motion: 75)\n",
      "Trial 3533: Artifacts - 0.0% (Validation: 0, Clipping: 0, Motion: 0)\n"
     ]
    },
    {
     "name": "stderr",
     "output_type": "stream",
     "text": [
      "/usr/local/lib/python3.11/dist-packages/sklearn/decomposition/_fastica.py:542: FutureWarning: Starting in v1.3, whiten='unit-variance' will be used by default.\n",
      "  warnings.warn(\n"
     ]
    },
    {
     "name": "stdout",
     "output_type": "stream",
     "text": [
      "Trial 3534: Artifacts - 0.0% (Validation: 0, Clipping: 0, Motion: 0)\n",
      "Trial 3535: Artifacts - 0.1% (Validation: 0, Clipping: 0, Motion: 2)\n",
      "Trial 3536: Artifacts - 2.9% (Validation: 0, Clipping: 0, Motion: 51)\n"
     ]
    },
    {
     "name": "stderr",
     "output_type": "stream",
     "text": [
      "/usr/local/lib/python3.11/dist-packages/sklearn/decomposition/_fastica.py:542: FutureWarning: Starting in v1.3, whiten='unit-variance' will be used by default.\n",
      "  warnings.warn(\n"
     ]
    },
    {
     "name": "stdout",
     "output_type": "stream",
     "text": [
      "Trial 3537: Artifacts - 2.0% (Validation: 0, Clipping: 0, Motion: 35)\n",
      "Trial 3538: Artifacts - 2.2% (Validation: 0, Clipping: 1, Motion: 38)\n",
      "Trial 3539: Artifacts - 2.2% (Validation: 0, Clipping: 0, Motion: 39)\n",
      "Trial 3540: Artifacts - 0.0% (Validation: 0, Clipping: 0, Motion: 0)\n",
      "Trial 3541: Artifacts - 4.9% (Validation: 0, Clipping: 1, Motion: 85)\n",
      "Trial 3542: Artifacts - 2.1% (Validation: 0, Clipping: 0, Motion: 36)\n"
     ]
    },
    {
     "name": "stderr",
     "output_type": "stream",
     "text": [
      "/usr/local/lib/python3.11/dist-packages/sklearn/decomposition/_fastica.py:542: FutureWarning: Starting in v1.3, whiten='unit-variance' will be used by default.\n",
      "  warnings.warn(\n"
     ]
    },
    {
     "name": "stdout",
     "output_type": "stream",
     "text": [
      "Trial 3543: Artifacts - 0.0% (Validation: 0, Clipping: 0, Motion: 0)\n",
      "Trial 3544: Artifacts - 1.0% (Validation: 0, Clipping: 0, Motion: 17)\n",
      "Trial 3545: Artifacts - 2.2% (Validation: 0, Clipping: 0, Motion: 39)\n",
      "Trial 3546: Artifacts - 0.1% (Validation: 0, Clipping: 1, Motion: 0)\n",
      "Trial 3547: Artifacts - 0.0% (Validation: 0, Clipping: 0, Motion: 0)\n",
      "Trial 3548: Artifacts - 1.0% (Validation: 0, Clipping: 1, Motion: 16)\n",
      "Trial 3549: Artifacts - 0.6% (Validation: 0, Clipping: 0, Motion: 10)\n",
      "Trial 3550: Artifacts - 2.3% (Validation: 0, Clipping: 0, Motion: 40)\n",
      "Trial 3551: Artifacts - 1.4% (Validation: 0, Clipping: 0, Motion: 25)\n",
      "Trial 3552: Artifacts - 1.5% (Validation: 0, Clipping: 1, Motion: 27)\n",
      "Trial 3553: Artifacts - 0.9% (Validation: 0, Clipping: 0, Motion: 16)\n",
      "Trial 3554: Artifacts - 5.3% (Validation: 0, Clipping: 0, Motion: 92)\n"
     ]
    },
    {
     "name": "stderr",
     "output_type": "stream",
     "text": [
      "/usr/local/lib/python3.11/dist-packages/sklearn/decomposition/_fastica.py:542: FutureWarning: Starting in v1.3, whiten='unit-variance' will be used by default.\n",
      "  warnings.warn(\n"
     ]
    },
    {
     "name": "stdout",
     "output_type": "stream",
     "text": [
      "Trial 3555: Artifacts - 0.1% (Validation: 0, Clipping: 1, Motion: 0)\n",
      "Trial 3556: Artifacts - 0.1% (Validation: 0, Clipping: 0, Motion: 1)\n",
      "Trial 3557: Artifacts - 0.0% (Validation: 0, Clipping: 0, Motion: 0)\n",
      "Trial 3558: Artifacts - 0.0% (Validation: 0, Clipping: 0, Motion: 0)\n",
      "Trial 3559: Artifacts - 0.4% (Validation: 0, Clipping: 0, Motion: 7)\n",
      "Trial 3560: Artifacts - 1.1% (Validation: 0, Clipping: 0, Motion: 20)\n",
      "Trial 3561: Artifacts - 1.0% (Validation: 0, Clipping: 0, Motion: 18)\n",
      "Trial 3562: Artifacts - 0.0% (Validation: 0, Clipping: 0, Motion: 0)\n",
      "Trial 3563: Artifacts - 1.5% (Validation: 0, Clipping: 1, Motion: 26)\n",
      "Trial 3564: Artifacts - 0.0% (Validation: 0, Clipping: 0, Motion: 0)\n",
      "Trial 3565: Artifacts - 0.1% (Validation: 0, Clipping: 1, Motion: 0)\n",
      "Trial 3566: Artifacts - 0.0% (Validation: 0, Clipping: 0, Motion: 0)\n",
      "Trial 3567: Artifacts - 1.5% (Validation: 0, Clipping: 0, Motion: 27)\n",
      "Trial 3568: Artifacts - 0.0% (Validation: 0, Clipping: 0, Motion: 0)\n",
      "Trial 3569: Artifacts - 1.0% (Validation: 0, Clipping: 0, Motion: 18)\n",
      "Trial 3570: Artifacts - 0.0% (Validation: 0, Clipping: 0, Motion: 0)\n",
      "Trial 3571: Artifacts - 8.2% (Validation: 0, Clipping: 0, Motion: 143)\n",
      "Trial 3572: Artifacts - 0.0% (Validation: 0, Clipping: 0, Motion: 0)\n"
     ]
    },
    {
     "name": "stderr",
     "output_type": "stream",
     "text": [
      "/usr/local/lib/python3.11/dist-packages/sklearn/decomposition/_fastica.py:542: FutureWarning: Starting in v1.3, whiten='unit-variance' will be used by default.\n",
      "  warnings.warn(\n"
     ]
    },
    {
     "name": "stdout",
     "output_type": "stream",
     "text": [
      "Trial 3573: Artifacts - 4.7% (Validation: 0, Clipping: 0, Motion: 83)\n"
     ]
    },
    {
     "name": "stderr",
     "output_type": "stream",
     "text": [
      "/usr/local/lib/python3.11/dist-packages/sklearn/decomposition/_fastica.py:542: FutureWarning: Starting in v1.3, whiten='unit-variance' will be used by default.\n",
      "  warnings.warn(\n"
     ]
    },
    {
     "name": "stdout",
     "output_type": "stream",
     "text": [
      "Trial 3574: Artifacts - 1.3% (Validation: 0, Clipping: 0, Motion: 22)\n",
      "Trial 3575: Artifacts - 0.0% (Validation: 0, Clipping: 0, Motion: 0)\n",
      "Trial 3576: Artifacts - 1.5% (Validation: 0, Clipping: 0, Motion: 26)\n",
      "Trial 3577: Artifacts - 0.6% (Validation: 0, Clipping: 0, Motion: 10)\n",
      "Trial 3578: Artifacts - 1.5% (Validation: 0, Clipping: 0, Motion: 26)\n",
      "Trial 3579: Artifacts - 0.1% (Validation: 0, Clipping: 1, Motion: 0)\n",
      "Trial 3580: Artifacts - 1.8% (Validation: 0, Clipping: 0, Motion: 32)\n",
      "Trial 3581: Artifacts - 5.7% (Validation: 0, Clipping: 1, Motion: 100)\n"
     ]
    },
    {
     "name": "stderr",
     "output_type": "stream",
     "text": [
      "/usr/local/lib/python3.11/dist-packages/sklearn/decomposition/_fastica.py:542: FutureWarning: Starting in v1.3, whiten='unit-variance' will be used by default.\n",
      "  warnings.warn(\n"
     ]
    },
    {
     "name": "stdout",
     "output_type": "stream",
     "text": [
      "Trial 3582: Artifacts - 1.7% (Validation: 0, Clipping: 0, Motion: 29)\n",
      "Trial 3583: Artifacts - 6.5% (Validation: 0, Clipping: 0, Motion: 114)\n"
     ]
    },
    {
     "name": "stderr",
     "output_type": "stream",
     "text": [
      "/usr/local/lib/python3.11/dist-packages/sklearn/decomposition/_fastica.py:542: FutureWarning: Starting in v1.3, whiten='unit-variance' will be used by default.\n",
      "  warnings.warn(\n"
     ]
    },
    {
     "name": "stdout",
     "output_type": "stream",
     "text": [
      "Trial 3584: Artifacts - 5.8% (Validation: 0, Clipping: 1, Motion: 100)\n",
      "Trial 3585: Artifacts - 6.0% (Validation: 0, Clipping: 0, Motion: 105)\n"
     ]
    },
    {
     "name": "stderr",
     "output_type": "stream",
     "text": [
      "/usr/local/lib/python3.11/dist-packages/sklearn/decomposition/_fastica.py:542: FutureWarning: Starting in v1.3, whiten='unit-variance' will be used by default.\n",
      "  warnings.warn(\n",
      "/usr/local/lib/python3.11/dist-packages/sklearn/decomposition/_fastica.py:542: FutureWarning: Starting in v1.3, whiten='unit-variance' will be used by default.\n",
      "  warnings.warn(\n"
     ]
    },
    {
     "name": "stdout",
     "output_type": "stream",
     "text": [
      "Trial 3586: Artifacts - 0.1% (Validation: 0, Clipping: 0, Motion: 2)\n",
      "Trial 3587: Artifacts - 0.0% (Validation: 0, Clipping: 0, Motion: 0)\n",
      "Trial 3588: Artifacts - 0.0% (Validation: 0, Clipping: 0, Motion: 0)\n",
      "Trial 3589: Artifacts - 0.0% (Validation: 0, Clipping: 0, Motion: 0)\n",
      "Trial 3590: Artifacts - 0.0% (Validation: 0, Clipping: 0, Motion: 0)\n",
      "Trial 3591: Artifacts - 14.4% (Validation: 0, Clipping: 0, Motion: 252)\n"
     ]
    },
    {
     "name": "stderr",
     "output_type": "stream",
     "text": [
      "/usr/local/lib/python3.11/dist-packages/sklearn/decomposition/_fastica.py:542: FutureWarning: Starting in v1.3, whiten='unit-variance' will be used by default.\n",
      "  warnings.warn(\n"
     ]
    },
    {
     "name": "stdout",
     "output_type": "stream",
     "text": [
      "Trial 3592: Artifacts - 0.0% (Validation: 0, Clipping: 0, Motion: 0)\n",
      "Trial 3593: Artifacts - 0.0% (Validation: 0, Clipping: 0, Motion: 0)\n",
      "Trial 3594: Artifacts - 0.0% (Validation: 0, Clipping: 0, Motion: 0)\n",
      "Trial 3595: Artifacts - 2.4% (Validation: 0, Clipping: 0, Motion: 42)\n",
      "Trial 3596: Artifacts - 0.1% (Validation: 0, Clipping: 1, Motion: 0)\n",
      "Trial 3597: Artifacts - 0.0% (Validation: 0, Clipping: 0, Motion: 0)\n",
      "Trial 3598: Artifacts - 0.0% (Validation: 0, Clipping: 0, Motion: 0)\n",
      "Trial 3599: Artifacts - 0.0% (Validation: 0, Clipping: 0, Motion: 0)\n",
      "Trial 3600: Artifacts - 0.0% (Validation: 0, Clipping: 0, Motion: 0)\n",
      "Processed 3600/4800 trials\n",
      "Trial 3601: Artifacts - 6.1% (Validation: 88, Clipping: 0, Motion: 18)\n",
      "Trial 3602: Artifacts - 0.0% (Validation: 0, Clipping: 0, Motion: 0)\n",
      "Trial 3603: Artifacts - 1.0% (Validation: 0, Clipping: 0, Motion: 18)\n",
      "Trial 3604: Artifacts - 0.1% (Validation: 0, Clipping: 1, Motion: 0)\n",
      "Trial 3605: Artifacts - 0.0% (Validation: 0, Clipping: 0, Motion: 0)\n",
      "Trial 3606: Artifacts - 0.2% (Validation: 0, Clipping: 0, Motion: 3)\n",
      "Trial 3607: Artifacts - 0.0% (Validation: 0, Clipping: 0, Motion: 0)\n",
      "Trial 3608: Artifacts - 0.0% (Validation: 0, Clipping: 0, Motion: 0)\n",
      "Trial 3609: Artifacts - 0.0% (Validation: 0, Clipping: 0, Motion: 0)\n",
      "Trial 3610: Artifacts - 0.0% (Validation: 0, Clipping: 0, Motion: 0)\n",
      "Trial 3611: Artifacts - 7.5% (Validation: 0, Clipping: 0, Motion: 132)\n"
     ]
    },
    {
     "name": "stderr",
     "output_type": "stream",
     "text": [
      "/usr/local/lib/python3.11/dist-packages/sklearn/decomposition/_fastica.py:542: FutureWarning: Starting in v1.3, whiten='unit-variance' will be used by default.\n",
      "  warnings.warn(\n"
     ]
    },
    {
     "name": "stdout",
     "output_type": "stream",
     "text": [
      "Trial 3612: Artifacts - 0.1% (Validation: 0, Clipping: 1, Motion: 0)\n",
      "Trial 3613: Artifacts - 0.0% (Validation: 0, Clipping: 0, Motion: 0)\n",
      "Trial 3614: Artifacts - 0.1% (Validation: 0, Clipping: 1, Motion: 0)\n",
      "Trial 3615: Artifacts - 0.0% (Validation: 0, Clipping: 0, Motion: 0)\n",
      "Trial 3616: Artifacts - 0.0% (Validation: 0, Clipping: 0, Motion: 0)\n",
      "Trial 3617: Artifacts - 0.0% (Validation: 0, Clipping: 0, Motion: 0)\n",
      "Trial 3618: Artifacts - 2.9% (Validation: 0, Clipping: 0, Motion: 50)\n",
      "Trial 3619: Artifacts - 0.0% (Validation: 0, Clipping: 0, Motion: 0)\n",
      "Trial 3620: Artifacts - 0.0% (Validation: 0, Clipping: 0, Motion: 0)\n",
      "Trial 3621: Artifacts - 19.6% (Validation: 158, Clipping: 39, Motion: 285)\n"
     ]
    },
    {
     "name": "stderr",
     "output_type": "stream",
     "text": [
      "/usr/local/lib/python3.11/dist-packages/sklearn/decomposition/_fastica.py:542: FutureWarning: Starting in v1.3, whiten='unit-variance' will be used by default.\n",
      "  warnings.warn(\n"
     ]
    },
    {
     "name": "stdout",
     "output_type": "stream",
     "text": [
      "Trial 3622: Artifacts - 0.1% (Validation: 0, Clipping: 1, Motion: 0)\n",
      "Trial 3623: Artifacts - 0.0% (Validation: 0, Clipping: 0, Motion: 0)\n",
      "Trial 3624: Artifacts - 0.0% (Validation: 0, Clipping: 0, Motion: 0)\n",
      "Trial 3625: Artifacts - 0.0% (Validation: 0, Clipping: 0, Motion: 0)\n",
      "Trial 3626: Artifacts - 4.6% (Validation: 80, Clipping: 0, Motion: 0)\n",
      "Trial 3627: Artifacts - 0.0% (Validation: 0, Clipping: 0, Motion: 0)\n",
      "Trial 3628: Artifacts - 0.0% (Validation: 0, Clipping: 0, Motion: 0)\n",
      "Trial 3629: Artifacts - 0.0% (Validation: 0, Clipping: 0, Motion: 0)\n",
      "Trial 3630: Artifacts - 0.0% (Validation: 0, Clipping: 0, Motion: 0)\n",
      "Trial 3631: Artifacts - 7.9% (Validation: 0, Clipping: 0, Motion: 138)\n"
     ]
    },
    {
     "name": "stderr",
     "output_type": "stream",
     "text": [
      "/usr/local/lib/python3.11/dist-packages/sklearn/decomposition/_fastica.py:542: FutureWarning: Starting in v1.3, whiten='unit-variance' will be used by default.\n",
      "  warnings.warn(\n"
     ]
    },
    {
     "name": "stdout",
     "output_type": "stream",
     "text": [
      "Trial 3632: Artifacts - 0.0% (Validation: 0, Clipping: 0, Motion: 0)\n",
      "Trial 3633: Artifacts - 4.7% (Validation: 83, Clipping: 83, Motion: 0)\n",
      "Trial 3634: Artifacts - 0.0% (Validation: 0, Clipping: 0, Motion: 0)\n",
      "Trial 3635: Artifacts - 0.1% (Validation: 0, Clipping: 1, Motion: 0)\n",
      "Trial 3636: Artifacts - 0.1% (Validation: 0, Clipping: 1, Motion: 0)\n",
      "Trial 3637: Artifacts - 0.0% (Validation: 0, Clipping: 0, Motion: 0)\n",
      "Trial 3638: Artifacts - 0.0% (Validation: 0, Clipping: 0, Motion: 0)\n",
      "Trial 3639: Artifacts - 0.1% (Validation: 0, Clipping: 1, Motion: 0)\n",
      "Trial 3640: Artifacts - 0.0% (Validation: 0, Clipping: 0, Motion: 0)\n",
      "Trial 3641: Artifacts - 11.7% (Validation: 0, Clipping: 0, Motion: 204)\n"
     ]
    },
    {
     "name": "stderr",
     "output_type": "stream",
     "text": [
      "/usr/local/lib/python3.11/dist-packages/sklearn/decomposition/_fastica.py:542: FutureWarning: Starting in v1.3, whiten='unit-variance' will be used by default.\n",
      "  warnings.warn(\n"
     ]
    },
    {
     "name": "stdout",
     "output_type": "stream",
     "text": [
      "Trial 3642: Artifacts - 0.0% (Validation: 0, Clipping: 0, Motion: 0)\n",
      "Trial 3643: Artifacts - 0.0% (Validation: 0, Clipping: 0, Motion: 0)\n",
      "Trial 3644: Artifacts - 0.0% (Validation: 0, Clipping: 0, Motion: 0)\n",
      "Trial 3645: Artifacts - 0.0% (Validation: 0, Clipping: 0, Motion: 0)\n",
      "Trial 3646: Artifacts - 0.0% (Validation: 0, Clipping: 0, Motion: 0)\n",
      "Trial 3647: Artifacts - 0.1% (Validation: 0, Clipping: 1, Motion: 0)\n",
      "Trial 3648: Artifacts - 0.0% (Validation: 0, Clipping: 0, Motion: 0)\n",
      "Trial 3649: Artifacts - 0.0% (Validation: 0, Clipping: 0, Motion: 0)\n",
      "Trial 3650: Artifacts - 0.1% (Validation: 0, Clipping: 1, Motion: 0)\n",
      "Trial 3651: Artifacts - 8.6% (Validation: 0, Clipping: 0, Motion: 150)\n"
     ]
    },
    {
     "name": "stderr",
     "output_type": "stream",
     "text": [
      "/usr/local/lib/python3.11/dist-packages/sklearn/decomposition/_fastica.py:542: FutureWarning: Starting in v1.3, whiten='unit-variance' will be used by default.\n",
      "  warnings.warn(\n",
      "/usr/local/lib/python3.11/dist-packages/sklearn/decomposition/_fastica.py:542: FutureWarning: Starting in v1.3, whiten='unit-variance' will be used by default.\n",
      "  warnings.warn(\n"
     ]
    },
    {
     "name": "stdout",
     "output_type": "stream",
     "text": [
      "Trial 3652: Artifacts - 18.7% (Validation: 0, Clipping: 0, Motion: 328)\n",
      "Trial 3653: Artifacts - 4.2% (Validation: 73, Clipping: 23, Motion: 0)\n",
      "Trial 3654: Artifacts - 0.0% (Validation: 0, Clipping: 0, Motion: 0)\n",
      "Trial 3655: Artifacts - 0.0% (Validation: 0, Clipping: 0, Motion: 0)\n",
      "Trial 3656: Artifacts - 0.0% (Validation: 0, Clipping: 0, Motion: 0)\n",
      "Trial 3657: Artifacts - 0.1% (Validation: 0, Clipping: 1, Motion: 0)\n",
      "Trial 3658: Artifacts - 0.0% (Validation: 0, Clipping: 0, Motion: 0)\n",
      "Trial 3659: Artifacts - 3.5% (Validation: 0, Clipping: 0, Motion: 62)\n"
     ]
    },
    {
     "name": "stderr",
     "output_type": "stream",
     "text": [
      "/usr/local/lib/python3.11/dist-packages/sklearn/decomposition/_fastica.py:542: FutureWarning: Starting in v1.3, whiten='unit-variance' will be used by default.\n",
      "  warnings.warn(\n"
     ]
    },
    {
     "name": "stdout",
     "output_type": "stream",
     "text": [
      "Trial 3660: Artifacts - 0.6% (Validation: 0, Clipping: 0, Motion: 11)\n",
      "Trial 3661: Artifacts - 0.0% (Validation: 0, Clipping: 0, Motion: 0)\n",
      "Trial 3662: Artifacts - 8.3% (Validation: 0, Clipping: 0, Motion: 146)\n",
      "Trial 3663: Artifacts - 0.0% (Validation: 0, Clipping: 0, Motion: 0)\n"
     ]
    },
    {
     "name": "stderr",
     "output_type": "stream",
     "text": [
      "/usr/local/lib/python3.11/dist-packages/sklearn/decomposition/_fastica.py:542: FutureWarning: Starting in v1.3, whiten='unit-variance' will be used by default.\n",
      "  warnings.warn(\n"
     ]
    },
    {
     "name": "stdout",
     "output_type": "stream",
     "text": [
      "Trial 3664: Artifacts - 4.3% (Validation: 0, Clipping: 0, Motion: 76)\n"
     ]
    },
    {
     "name": "stderr",
     "output_type": "stream",
     "text": [
      "/usr/local/lib/python3.11/dist-packages/sklearn/decomposition/_fastica.py:542: FutureWarning: Starting in v1.3, whiten='unit-variance' will be used by default.\n",
      "  warnings.warn(\n"
     ]
    },
    {
     "name": "stdout",
     "output_type": "stream",
     "text": [
      "Trial 3665: Artifacts - 0.0% (Validation: 0, Clipping: 0, Motion: 0)\n",
      "Trial 3666: Artifacts - 0.0% (Validation: 0, Clipping: 0, Motion: 0)\n",
      "Trial 3667: Artifacts - 0.0% (Validation: 0, Clipping: 0, Motion: 0)\n",
      "Trial 3668: Artifacts - 0.0% (Validation: 0, Clipping: 0, Motion: 0)\n",
      "Trial 3669: Artifacts - 0.0% (Validation: 0, Clipping: 0, Motion: 0)\n",
      "Trial 3670: Artifacts - 0.0% (Validation: 0, Clipping: 0, Motion: 0)\n",
      "Trial 3671: Artifacts - 0.0% (Validation: 0, Clipping: 0, Motion: 0)\n",
      "Trial 3672: Artifacts - 0.1% (Validation: 0, Clipping: 1, Motion: 0)\n",
      "Trial 3673: Artifacts - 0.4% (Validation: 7, Clipping: 0, Motion: 0)\n",
      "Trial 3674: Artifacts - 5.0% (Validation: 86, Clipping: 38, Motion: 0)\n",
      "Trial 3675: Artifacts - 0.0% (Validation: 0, Clipping: 0, Motion: 0)\n",
      "Trial 3676: Artifacts - 0.0% (Validation: 0, Clipping: 0, Motion: 0)\n",
      "Trial 3677: Artifacts - 0.1% (Validation: 0, Clipping: 1, Motion: 0)\n",
      "Trial 3678: Artifacts - 0.0% (Validation: 0, Clipping: 0, Motion: 0)\n",
      "Trial 3679: Artifacts - 1.3% (Validation: 0, Clipping: 0, Motion: 23)\n",
      "Trial 3680: Artifacts - 0.0% (Validation: 0, Clipping: 0, Motion: 0)\n",
      "Trial 3681: Artifacts - 5.0% (Validation: 0, Clipping: 0, Motion: 88)\n"
     ]
    },
    {
     "name": "stderr",
     "output_type": "stream",
     "text": [
      "/usr/local/lib/python3.11/dist-packages/sklearn/decomposition/_fastica.py:542: FutureWarning: Starting in v1.3, whiten='unit-variance' will be used by default.\n",
      "  warnings.warn(\n"
     ]
    },
    {
     "name": "stdout",
     "output_type": "stream",
     "text": [
      "Trial 3682: Artifacts - 1.7% (Validation: 0, Clipping: 1, Motion: 28)\n",
      "Trial 3683: Artifacts - 0.0% (Validation: 0, Clipping: 0, Motion: 0)\n",
      "Trial 3684: Artifacts - 0.6% (Validation: 0, Clipping: 1, Motion: 10)\n",
      "Trial 3685: Artifacts - 1.0% (Validation: 0, Clipping: 1, Motion: 17)\n",
      "Trial 3686: Artifacts - 0.1% (Validation: 0, Clipping: 1, Motion: 0)\n",
      "Trial 3687: Artifacts - 0.4% (Validation: 0, Clipping: 0, Motion: 7)\n",
      "Trial 3688: Artifacts - 0.0% (Validation: 0, Clipping: 0, Motion: 0)\n",
      "Trial 3689: Artifacts - 0.0% (Validation: 0, Clipping: 0, Motion: 0)\n",
      "Trial 3690: Artifacts - 0.0% (Validation: 0, Clipping: 0, Motion: 0)\n",
      "Trial 3691: Artifacts - 6.7% (Validation: 0, Clipping: 1, Motion: 117)\n"
     ]
    },
    {
     "name": "stderr",
     "output_type": "stream",
     "text": [
      "/usr/local/lib/python3.11/dist-packages/sklearn/decomposition/_fastica.py:542: FutureWarning: Starting in v1.3, whiten='unit-variance' will be used by default.\n",
      "  warnings.warn(\n"
     ]
    },
    {
     "name": "stdout",
     "output_type": "stream",
     "text": [
      "Trial 3692: Artifacts - 0.0% (Validation: 0, Clipping: 0, Motion: 0)\n",
      "Trial 3693: Artifacts - 0.0% (Validation: 0, Clipping: 0, Motion: 0)\n",
      "Trial 3694: Artifacts - 0.1% (Validation: 0, Clipping: 1, Motion: 0)\n",
      "Trial 3695: Artifacts - 0.0% (Validation: 0, Clipping: 0, Motion: 0)\n",
      "Trial 3696: Artifacts - 0.0% (Validation: 0, Clipping: 0, Motion: 0)\n",
      "Trial 3697: Artifacts - 0.0% (Validation: 0, Clipping: 0, Motion: 0)\n",
      "Trial 3698: Artifacts - 3.3% (Validation: 0, Clipping: 0, Motion: 58)\n"
     ]
    },
    {
     "name": "stderr",
     "output_type": "stream",
     "text": [
      "/usr/local/lib/python3.11/dist-packages/sklearn/decomposition/_fastica.py:542: FutureWarning: Starting in v1.3, whiten='unit-variance' will be used by default.\n",
      "  warnings.warn(\n"
     ]
    },
    {
     "name": "stdout",
     "output_type": "stream",
     "text": [
      "Trial 3699: Artifacts - 0.0% (Validation: 0, Clipping: 0, Motion: 0)\n",
      "Trial 3700: Artifacts - 0.4% (Validation: 0, Clipping: 0, Motion: 7)\n",
      "Processed 3700/4800 trials\n",
      "Trial 3701: Artifacts - 15.3% (Validation: 0, Clipping: 0, Motion: 268)\n"
     ]
    },
    {
     "name": "stderr",
     "output_type": "stream",
     "text": [
      "/usr/local/lib/python3.11/dist-packages/sklearn/decomposition/_fastica.py:542: FutureWarning: Starting in v1.3, whiten='unit-variance' will be used by default.\n",
      "  warnings.warn(\n"
     ]
    },
    {
     "name": "stdout",
     "output_type": "stream",
     "text": [
      "Trial 3702: Artifacts - 0.2% (Validation: 0, Clipping: 0, Motion: 4)\n",
      "Trial 3703: Artifacts - 1.8% (Validation: 0, Clipping: 0, Motion: 32)\n",
      "Trial 3704: Artifacts - 0.0% (Validation: 0, Clipping: 0, Motion: 0)\n",
      "Trial 3705: Artifacts - 0.1% (Validation: 0, Clipping: 0, Motion: 2)\n",
      "Trial 3706: Artifacts - 0.1% (Validation: 0, Clipping: 1, Motion: 0)\n",
      "Trial 3707: Artifacts - 0.1% (Validation: 0, Clipping: 1, Motion: 0)\n",
      "Trial 3708: Artifacts - 0.0% (Validation: 0, Clipping: 0, Motion: 0)\n",
      "Trial 3709: Artifacts - 0.0% (Validation: 0, Clipping: 0, Motion: 0)\n",
      "Trial 3710: Artifacts - 0.0% (Validation: 0, Clipping: 0, Motion: 0)\n",
      "Trial 3711: Artifacts - 7.4% (Validation: 0, Clipping: 0, Motion: 129)\n"
     ]
    },
    {
     "name": "stderr",
     "output_type": "stream",
     "text": [
      "/usr/local/lib/python3.11/dist-packages/sklearn/decomposition/_fastica.py:542: FutureWarning: Starting in v1.3, whiten='unit-variance' will be used by default.\n",
      "  warnings.warn(\n",
      "/usr/local/lib/python3.11/dist-packages/sklearn/decomposition/_fastica.py:542: FutureWarning: Starting in v1.3, whiten='unit-variance' will be used by default.\n",
      "  warnings.warn(\n"
     ]
    },
    {
     "name": "stdout",
     "output_type": "stream",
     "text": [
      "Trial 3712: Artifacts - 4.6% (Validation: 0, Clipping: 0, Motion: 81)\n",
      "Trial 3713: Artifacts - 0.1% (Validation: 0, Clipping: 1, Motion: 0)\n",
      "Trial 3714: Artifacts - 0.0% (Validation: 0, Clipping: 0, Motion: 0)\n",
      "Trial 3715: Artifacts - 0.0% (Validation: 0, Clipping: 0, Motion: 0)\n",
      "Trial 3716: Artifacts - 0.1% (Validation: 0, Clipping: 1, Motion: 0)\n",
      "Trial 3717: Artifacts - 3.1% (Validation: 0, Clipping: 0, Motion: 55)\n",
      "Trial 3718: Artifacts - 0.4% (Validation: 0, Clipping: 0, Motion: 7)\n"
     ]
    },
    {
     "name": "stderr",
     "output_type": "stream",
     "text": [
      "/usr/local/lib/python3.11/dist-packages/sklearn/decomposition/_fastica.py:542: FutureWarning: Starting in v1.3, whiten='unit-variance' will be used by default.\n",
      "  warnings.warn(\n"
     ]
    },
    {
     "name": "stdout",
     "output_type": "stream",
     "text": [
      "Trial 3719: Artifacts - 0.9% (Validation: 0, Clipping: 0, Motion: 16)\n",
      "Trial 3720: Artifacts - 0.1% (Validation: 0, Clipping: 1, Motion: 0)\n",
      "Trial 3721: Artifacts - 12.3% (Validation: 0, Clipping: 0, Motion: 215)\n",
      "Trial 3722: Artifacts - 0.0% (Validation: 0, Clipping: 0, Motion: 0)\n"
     ]
    },
    {
     "name": "stderr",
     "output_type": "stream",
     "text": [
      "/usr/local/lib/python3.11/dist-packages/sklearn/decomposition/_fastica.py:542: FutureWarning: Starting in v1.3, whiten='unit-variance' will be used by default.\n",
      "  warnings.warn(\n"
     ]
    },
    {
     "name": "stdout",
     "output_type": "stream",
     "text": [
      "Trial 3723: Artifacts - 0.1% (Validation: 0, Clipping: 1, Motion: 0)\n",
      "Trial 3724: Artifacts - 0.0% (Validation: 0, Clipping: 0, Motion: 0)\n",
      "Trial 3725: Artifacts - 0.0% (Validation: 0, Clipping: 0, Motion: 0)\n",
      "Trial 3726: Artifacts - 3.8% (Validation: 0, Clipping: 0, Motion: 66)\n"
     ]
    },
    {
     "name": "stderr",
     "output_type": "stream",
     "text": [
      "/usr/local/lib/python3.11/dist-packages/sklearn/decomposition/_fastica.py:542: FutureWarning: Starting in v1.3, whiten='unit-variance' will be used by default.\n",
      "  warnings.warn(\n"
     ]
    },
    {
     "name": "stdout",
     "output_type": "stream",
     "text": [
      "Trial 3727: Artifacts - 0.0% (Validation: 0, Clipping: 0, Motion: 0)\n",
      "Trial 3728: Artifacts - 0.1% (Validation: 0, Clipping: 1, Motion: 0)\n",
      "Trial 3729: Artifacts - 0.0% (Validation: 0, Clipping: 0, Motion: 0)\n",
      "Trial 3730: Artifacts - 0.0% (Validation: 0, Clipping: 0, Motion: 0)\n",
      "Trial 3731: Artifacts - 8.3% (Validation: 0, Clipping: 0, Motion: 146)\n",
      "Trial 3732: Artifacts - 0.0% (Validation: 0, Clipping: 0, Motion: 0)\n"
     ]
    },
    {
     "name": "stderr",
     "output_type": "stream",
     "text": [
      "/usr/local/lib/python3.11/dist-packages/sklearn/decomposition/_fastica.py:542: FutureWarning: Starting in v1.3, whiten='unit-variance' will be used by default.\n",
      "  warnings.warn(\n"
     ]
    },
    {
     "name": "stdout",
     "output_type": "stream",
     "text": [
      "Trial 3733: Artifacts - 0.0% (Validation: 0, Clipping: 0, Motion: 0)\n",
      "Trial 3734: Artifacts - 0.0% (Validation: 0, Clipping: 0, Motion: 0)\n",
      "Trial 3735: Artifacts - 0.0% (Validation: 0, Clipping: 0, Motion: 0)\n",
      "Trial 3736: Artifacts - 0.0% (Validation: 0, Clipping: 0, Motion: 0)\n",
      "Trial 3737: Artifacts - 0.0% (Validation: 0, Clipping: 0, Motion: 0)\n",
      "Trial 3738: Artifacts - 0.1% (Validation: 0, Clipping: 1, Motion: 0)\n",
      "Trial 3739: Artifacts - 0.0% (Validation: 0, Clipping: 0, Motion: 0)\n",
      "Trial 3740: Artifacts - 1.3% (Validation: 0, Clipping: 0, Motion: 23)\n",
      "Trial 3741: Artifacts - 5.4% (Validation: 0, Clipping: 0, Motion: 94)\n",
      "Trial 3742: Artifacts - 1.2% (Validation: 0, Clipping: 0, Motion: 21)\n"
     ]
    },
    {
     "name": "stderr",
     "output_type": "stream",
     "text": [
      "/usr/local/lib/python3.11/dist-packages/sklearn/decomposition/_fastica.py:542: FutureWarning: Starting in v1.3, whiten='unit-variance' will be used by default.\n",
      "  warnings.warn(\n"
     ]
    },
    {
     "name": "stdout",
     "output_type": "stream",
     "text": [
      "Trial 3743: Artifacts - 0.0% (Validation: 0, Clipping: 0, Motion: 0)\n",
      "Trial 3744: Artifacts - 0.0% (Validation: 0, Clipping: 0, Motion: 0)\n",
      "Trial 3745: Artifacts - 0.0% (Validation: 0, Clipping: 0, Motion: 0)\n",
      "Trial 3746: Artifacts - 0.0% (Validation: 0, Clipping: 0, Motion: 0)\n",
      "Trial 3747: Artifacts - 0.0% (Validation: 0, Clipping: 0, Motion: 0)\n",
      "Trial 3748: Artifacts - 0.0% (Validation: 0, Clipping: 0, Motion: 0)\n",
      "Trial 3749: Artifacts - 0.0% (Validation: 0, Clipping: 0, Motion: 0)\n",
      "Trial 3750: Artifacts - 8.9% (Validation: 0, Clipping: 0, Motion: 155)\n"
     ]
    },
    {
     "name": "stderr",
     "output_type": "stream",
     "text": [
      "/usr/local/lib/python3.11/dist-packages/sklearn/decomposition/_fastica.py:542: FutureWarning: Starting in v1.3, whiten='unit-variance' will be used by default.\n",
      "  warnings.warn(\n"
     ]
    },
    {
     "name": "stdout",
     "output_type": "stream",
     "text": [
      "Trial 3751: Artifacts - 7.5% (Validation: 0, Clipping: 0, Motion: 132)\n"
     ]
    },
    {
     "name": "stderr",
     "output_type": "stream",
     "text": [
      "/usr/local/lib/python3.11/dist-packages/sklearn/decomposition/_fastica.py:542: FutureWarning: Starting in v1.3, whiten='unit-variance' will be used by default.\n",
      "  warnings.warn(\n"
     ]
    },
    {
     "name": "stdout",
     "output_type": "stream",
     "text": [
      "Trial 3752: Artifacts - 0.0% (Validation: 0, Clipping: 0, Motion: 0)\n",
      "Trial 3753: Artifacts - 0.0% (Validation: 0, Clipping: 0, Motion: 0)\n",
      "Trial 3754: Artifacts - 0.0% (Validation: 0, Clipping: 0, Motion: 0)\n",
      "Trial 3755: Artifacts - 0.0% (Validation: 0, Clipping: 0, Motion: 0)\n",
      "Trial 3756: Artifacts - 0.1% (Validation: 0, Clipping: 1, Motion: 0)\n",
      "Trial 3757: Artifacts - 0.1% (Validation: 0, Clipping: 0, Motion: 2)\n",
      "Trial 3758: Artifacts - 0.7% (Validation: 0, Clipping: 0, Motion: 12)\n",
      "Trial 3759: Artifacts - 0.0% (Validation: 0, Clipping: 0, Motion: 0)\n",
      "Trial 3760: Artifacts - 0.0% (Validation: 0, Clipping: 0, Motion: 0)\n",
      "REJECTING trial 3761: 53.4% artifacts\n",
      "Trial 3762: Artifacts - 11.2% (Validation: 181, Clipping: 0, Motion: 46)\n",
      "Trial 3763: Artifacts - 12.7% (Validation: 196, Clipping: 41, Motion: 27)\n",
      "Trial 3764: Artifacts - 3.7% (Validation: 0, Clipping: 0, Motion: 64)\n",
      "Trial 3765: Artifacts - 0.3% (Validation: 0, Clipping: 0, Motion: 5)\n"
     ]
    },
    {
     "name": "stderr",
     "output_type": "stream",
     "text": [
      "/usr/local/lib/python3.11/dist-packages/sklearn/decomposition/_fastica.py:542: FutureWarning: Starting in v1.3, whiten='unit-variance' will be used by default.\n",
      "  warnings.warn(\n"
     ]
    },
    {
     "name": "stdout",
     "output_type": "stream",
     "text": [
      "REJECTING trial 3766: 29.3% artifacts\n",
      "REJECTING trial 3767: 43.9% artifacts\n",
      "Trial 3768: Artifacts - 21.7% (Validation: 379, Clipping: 33, Motion: 0)\n",
      "Trial 3769: Artifacts - 4.4% (Validation: 0, Clipping: 0, Motion: 77)\n",
      "Trial 3770: Artifacts - 8.5% (Validation: 146, Clipping: 32, Motion: 3)\n"
     ]
    },
    {
     "name": "stderr",
     "output_type": "stream",
     "text": [
      "/usr/local/lib/python3.11/dist-packages/sklearn/decomposition/_fastica.py:542: FutureWarning: Starting in v1.3, whiten='unit-variance' will be used by default.\n",
      "  warnings.warn(\n"
     ]
    },
    {
     "name": "stdout",
     "output_type": "stream",
     "text": [
      "REJECTING trial 3771: 48.5% artifacts\n",
      "Trial 3772: Artifacts - 23.4% (Validation: 409, Clipping: 27, Motion: 0)\n",
      "Trial 3773: Artifacts - 1.5% (Validation: 27, Clipping: 0, Motion: 0)\n",
      "Trial 3774: Artifacts - 9.5% (Validation: 167, Clipping: 20, Motion: 0)\n",
      "Trial 3775: Artifacts - 0.0% (Validation: 0, Clipping: 0, Motion: 0)\n",
      "Trial 3776: Artifacts - 0.1% (Validation: 0, Clipping: 1, Motion: 0)\n",
      "Trial 3777: Artifacts - 0.0% (Validation: 0, Clipping: 0, Motion: 0)\n",
      "Trial 3778: Artifacts - 21.3% (Validation: 373, Clipping: 37, Motion: 0)\n",
      "Trial 3779: Artifacts - 0.0% (Validation: 0, Clipping: 0, Motion: 0)\n",
      "Trial 3780: Artifacts - 3.0% (Validation: 0, Clipping: 0, Motion: 53)\n"
     ]
    },
    {
     "name": "stderr",
     "output_type": "stream",
     "text": [
      "/usr/local/lib/python3.11/dist-packages/sklearn/decomposition/_fastica.py:542: FutureWarning: Starting in v1.3, whiten='unit-variance' will be used by default.\n",
      "  warnings.warn(\n"
     ]
    },
    {
     "name": "stdout",
     "output_type": "stream",
     "text": [
      "Trial 3781: Artifacts - 12.3% (Validation: 79, Clipping: 0, Motion: 137)\n"
     ]
    },
    {
     "name": "stderr",
     "output_type": "stream",
     "text": [
      "/usr/local/lib/python3.11/dist-packages/sklearn/decomposition/_fastica.py:542: FutureWarning: Starting in v1.3, whiten='unit-variance' will be used by default.\n",
      "  warnings.warn(\n"
     ]
    },
    {
     "name": "stdout",
     "output_type": "stream",
     "text": [
      "REJECTING trial 3782: 26.9% artifacts\n",
      "Trial 3783: Artifacts - 0.1% (Validation: 0, Clipping: 1, Motion: 0)\n",
      "Trial 3784: Artifacts - 0.0% (Validation: 0, Clipping: 0, Motion: 0)\n",
      "Trial 3785: Artifacts - 0.0% (Validation: 0, Clipping: 0, Motion: 0)\n",
      "Trial 3786: Artifacts - 5.5% (Validation: 0, Clipping: 0, Motion: 96)\n"
     ]
    },
    {
     "name": "stderr",
     "output_type": "stream",
     "text": [
      "/usr/local/lib/python3.11/dist-packages/sklearn/decomposition/_fastica.py:542: FutureWarning: Starting in v1.3, whiten='unit-variance' will be used by default.\n",
      "  warnings.warn(\n"
     ]
    },
    {
     "name": "stdout",
     "output_type": "stream",
     "text": [
      "Trial 3787: Artifacts - 0.0% (Validation: 0, Clipping: 0, Motion: 0)\n",
      "Trial 3788: Artifacts - 0.0% (Validation: 0, Clipping: 0, Motion: 0)\n",
      "Trial 3789: Artifacts - 0.1% (Validation: 0, Clipping: 1, Motion: 0)\n",
      "Trial 3790: Artifacts - 4.1% (Validation: 71, Clipping: 0, Motion: 0)\n",
      "Trial 3791: Artifacts - 1.2% (Validation: 0, Clipping: 0, Motion: 21)\n",
      "Trial 3792: Artifacts - 8.3% (Validation: 63, Clipping: 0, Motion: 82)\n"
     ]
    },
    {
     "name": "stderr",
     "output_type": "stream",
     "text": [
      "/usr/local/lib/python3.11/dist-packages/sklearn/decomposition/_fastica.py:542: FutureWarning: Starting in v1.3, whiten='unit-variance' will be used by default.\n",
      "  warnings.warn(\n"
     ]
    },
    {
     "name": "stdout",
     "output_type": "stream",
     "text": [
      "Trial 3793: Artifacts - 0.6% (Validation: 0, Clipping: 0, Motion: 10)\n",
      "Trial 3794: Artifacts - 0.2% (Validation: 0, Clipping: 0, Motion: 4)\n",
      "Trial 3795: Artifacts - 0.9% (Validation: 0, Clipping: 0, Motion: 15)\n",
      "Trial 3796: Artifacts - 6.0% (Validation: 75, Clipping: 0, Motion: 30)\n",
      "Trial 3797: Artifacts - 18.1% (Validation: 208, Clipping: 0, Motion: 156)\n"
     ]
    },
    {
     "name": "stderr",
     "output_type": "stream",
     "text": [
      "/usr/local/lib/python3.11/dist-packages/sklearn/decomposition/_fastica.py:542: FutureWarning: Starting in v1.3, whiten='unit-variance' will be used by default.\n",
      "  warnings.warn(\n"
     ]
    },
    {
     "name": "stdout",
     "output_type": "stream",
     "text": [
      "Trial 3798: Artifacts - 0.0% (Validation: 0, Clipping: 0, Motion: 0)\n",
      "Trial 3799: Artifacts - 8.9% (Validation: 105, Clipping: 0, Motion: 50)\n",
      "Trial 3800: Artifacts - 4.2% (Validation: 73, Clipping: 0, Motion: 0)\n",
      "Processed 3800/4800 trials\n",
      "Trial 3801: Artifacts - 3.7% (Validation: 0, Clipping: 1, Motion: 64)\n"
     ]
    },
    {
     "name": "stderr",
     "output_type": "stream",
     "text": [
      "/usr/local/lib/python3.11/dist-packages/sklearn/decomposition/_fastica.py:542: FutureWarning: Starting in v1.3, whiten='unit-variance' will be used by default.\n",
      "  warnings.warn(\n"
     ]
    },
    {
     "name": "stdout",
     "output_type": "stream",
     "text": [
      "Trial 3802: Artifacts - 2.1% (Validation: 0, Clipping: 0, Motion: 37)\n",
      "Trial 3803: Artifacts - 6.9% (Validation: 0, Clipping: 0, Motion: 121)\n"
     ]
    },
    {
     "name": "stderr",
     "output_type": "stream",
     "text": [
      "/usr/local/lib/python3.11/dist-packages/sklearn/decomposition/_fastica.py:542: FutureWarning: Starting in v1.3, whiten='unit-variance' will be used by default.\n",
      "  warnings.warn(\n"
     ]
    },
    {
     "name": "stdout",
     "output_type": "stream",
     "text": [
      "Trial 3804: Artifacts - 4.9% (Validation: 86, Clipping: 21, Motion: 0)\n",
      "Trial 3805: Artifacts - 0.0% (Validation: 0, Clipping: 0, Motion: 0)\n",
      "Trial 3806: Artifacts - 6.1% (Validation: 0, Clipping: 0, Motion: 106)\n",
      "Trial 3807: Artifacts - 0.0% (Validation: 0, Clipping: 0, Motion: 0)\n"
     ]
    },
    {
     "name": "stderr",
     "output_type": "stream",
     "text": [
      "/usr/local/lib/python3.11/dist-packages/sklearn/decomposition/_fastica.py:542: FutureWarning: Starting in v1.3, whiten='unit-variance' will be used by default.\n",
      "  warnings.warn(\n"
     ]
    },
    {
     "name": "stdout",
     "output_type": "stream",
     "text": [
      "Trial 3808: Artifacts - 2.2% (Validation: 0, Clipping: 0, Motion: 39)\n",
      "Trial 3809: Artifacts - 0.0% (Validation: 0, Clipping: 0, Motion: 0)\n",
      "Trial 3810: Artifacts - 0.1% (Validation: 0, Clipping: 1, Motion: 0)\n",
      "Trial 3811: Artifacts - 7.0% (Validation: 52, Clipping: 0, Motion: 71)\n"
     ]
    },
    {
     "name": "stderr",
     "output_type": "stream",
     "text": [
      "/usr/local/lib/python3.11/dist-packages/sklearn/decomposition/_fastica.py:542: FutureWarning: Starting in v1.3, whiten='unit-variance' will be used by default.\n",
      "  warnings.warn(\n",
      "/usr/local/lib/python3.11/dist-packages/sklearn/decomposition/_fastica.py:542: FutureWarning: Starting in v1.3, whiten='unit-variance' will be used by default.\n",
      "  warnings.warn(\n"
     ]
    },
    {
     "name": "stdout",
     "output_type": "stream",
     "text": [
      "Trial 3812: Artifacts - 21.1% (Validation: 296, Clipping: 2, Motion: 102)\n",
      "Trial 3813: Artifacts - 19.3% (Validation: 337, Clipping: 92, Motion: 0)\n",
      "REJECTING trial 3814: 32.2% artifacts\n",
      "Trial 3815: Artifacts - 3.0% (Validation: 53, Clipping: 0, Motion: 0)\n",
      "Trial 3816: Artifacts - 4.7% (Validation: 83, Clipping: 0, Motion: 0)\n",
      "Trial 3817: Artifacts - 0.0% (Validation: 0, Clipping: 0, Motion: 0)\n",
      "Trial 3818: Artifacts - 10.7% (Validation: 183, Clipping: 0, Motion: 5)\n",
      "Trial 3819: Artifacts - 14.3% (Validation: 251, Clipping: 84, Motion: 0)\n",
      "Trial 3820: Artifacts - 20.2% (Validation: 353, Clipping: 13, Motion: 0)\n",
      "Trial 3821: Artifacts - 6.7% (Validation: 118, Clipping: 0, Motion: 0)\n",
      "Trial 3822: Artifacts - 1.4% (Validation: 0, Clipping: 1, Motion: 24)\n",
      "Trial 3823: Artifacts - 10.7% (Validation: 109, Clipping: 1, Motion: 80)\n",
      "Trial 3824: Artifacts - 6.5% (Validation: 107, Clipping: 27, Motion: 6)\n"
     ]
    },
    {
     "name": "stderr",
     "output_type": "stream",
     "text": [
      "/usr/local/lib/python3.11/dist-packages/sklearn/decomposition/_fastica.py:542: FutureWarning: Starting in v1.3, whiten='unit-variance' will be used by default.\n",
      "  warnings.warn(\n"
     ]
    },
    {
     "name": "stdout",
     "output_type": "stream",
     "text": [
      "Trial 3825: Artifacts - 2.8% (Validation: 0, Clipping: 1, Motion: 48)\n",
      "Trial 3826: Artifacts - 0.0% (Validation: 0, Clipping: 0, Motion: 0)\n",
      "Trial 3827: Artifacts - 11.2% (Validation: 92, Clipping: 0, Motion: 104)\n",
      "Trial 3828: Artifacts - 11.1% (Validation: 194, Clipping: 27, Motion: 0)\n"
     ]
    },
    {
     "name": "stderr",
     "output_type": "stream",
     "text": [
      "/usr/local/lib/python3.11/dist-packages/sklearn/decomposition/_fastica.py:542: FutureWarning: Starting in v1.3, whiten='unit-variance' will be used by default.\n",
      "  warnings.warn(\n"
     ]
    },
    {
     "name": "stdout",
     "output_type": "stream",
     "text": [
      "Trial 3829: Artifacts - 0.0% (Validation: 0, Clipping: 0, Motion: 0)\n",
      "Trial 3830: Artifacts - 0.0% (Validation: 0, Clipping: 0, Motion: 0)\n",
      "Trial 3831: Artifacts - 8.0% (Validation: 0, Clipping: 0, Motion: 140)\n",
      "Trial 3832: Artifacts - 8.5% (Validation: 0, Clipping: 1, Motion: 148)\n"
     ]
    },
    {
     "name": "stderr",
     "output_type": "stream",
     "text": [
      "/usr/local/lib/python3.11/dist-packages/sklearn/decomposition/_fastica.py:542: FutureWarning: Starting in v1.3, whiten='unit-variance' will be used by default.\n",
      "  warnings.warn(\n",
      "/usr/local/lib/python3.11/dist-packages/sklearn/decomposition/_fastica.py:542: FutureWarning: Starting in v1.3, whiten='unit-variance' will be used by default.\n",
      "  warnings.warn(\n"
     ]
    },
    {
     "name": "stdout",
     "output_type": "stream",
     "text": [
      "Trial 3833: Artifacts - 7.1% (Validation: 0, Clipping: 1, Motion: 124)\n"
     ]
    },
    {
     "name": "stderr",
     "output_type": "stream",
     "text": [
      "/usr/local/lib/python3.11/dist-packages/sklearn/decomposition/_fastica.py:542: FutureWarning: Starting in v1.3, whiten='unit-variance' will be used by default.\n",
      "  warnings.warn(\n"
     ]
    },
    {
     "name": "stdout",
     "output_type": "stream",
     "text": [
      "Trial 3834: Artifacts - 12.5% (Validation: 62, Clipping: 12, Motion: 157)\n",
      "Trial 3835: Artifacts - 1.7% (Validation: 29, Clipping: 0, Motion: 0)\n"
     ]
    },
    {
     "name": "stderr",
     "output_type": "stream",
     "text": [
      "/usr/local/lib/python3.11/dist-packages/sklearn/decomposition/_fastica.py:542: FutureWarning: Starting in v1.3, whiten='unit-variance' will be used by default.\n",
      "  warnings.warn(\n"
     ]
    },
    {
     "name": "stdout",
     "output_type": "stream",
     "text": [
      "Trial 3836: Artifacts - 6.5% (Validation: 0, Clipping: 1, Motion: 112)\n"
     ]
    },
    {
     "name": "stderr",
     "output_type": "stream",
     "text": [
      "/usr/local/lib/python3.11/dist-packages/sklearn/decomposition/_fastica.py:542: FutureWarning: Starting in v1.3, whiten='unit-variance' will be used by default.\n",
      "  warnings.warn(\n"
     ]
    },
    {
     "name": "stdout",
     "output_type": "stream",
     "text": [
      "Trial 3837: Artifacts - 6.7% (Validation: 0, Clipping: 0, Motion: 118)\n",
      "Trial 3838: Artifacts - 0.8% (Validation: 0, Clipping: 0, Motion: 14)\n"
     ]
    },
    {
     "name": "stderr",
     "output_type": "stream",
     "text": [
      "/usr/local/lib/python3.11/dist-packages/sklearn/decomposition/_fastica.py:542: FutureWarning: Starting in v1.3, whiten='unit-variance' will be used by default.\n",
      "  warnings.warn(\n"
     ]
    },
    {
     "name": "stdout",
     "output_type": "stream",
     "text": [
      "Trial 3839: Artifacts - 0.0% (Validation: 0, Clipping: 0, Motion: 0)\n",
      "Trial 3840: Artifacts - 3.1% (Validation: 0, Clipping: 1, Motion: 55)\n"
     ]
    },
    {
     "name": "stderr",
     "output_type": "stream",
     "text": [
      "/usr/local/lib/python3.11/dist-packages/sklearn/decomposition/_fastica.py:542: FutureWarning: Starting in v1.3, whiten='unit-variance' will be used by default.\n",
      "  warnings.warn(\n"
     ]
    },
    {
     "name": "stdout",
     "output_type": "stream",
     "text": [
      "Trial 3841: Artifacts - 5.2% (Validation: 0, Clipping: 1, Motion: 91)\n",
      "Trial 3842: Artifacts - 0.0% (Validation: 0, Clipping: 0, Motion: 0)\n"
     ]
    },
    {
     "name": "stderr",
     "output_type": "stream",
     "text": [
      "/usr/local/lib/python3.11/dist-packages/sklearn/decomposition/_fastica.py:542: FutureWarning: Starting in v1.3, whiten='unit-variance' will be used by default.\n",
      "  warnings.warn(\n"
     ]
    },
    {
     "name": "stdout",
     "output_type": "stream",
     "text": [
      "Trial 3843: Artifacts - 3.1% (Validation: 0, Clipping: 0, Motion: 54)\n",
      "Trial 3844: Artifacts - 2.9% (Validation: 0, Clipping: 0, Motion: 50)\n"
     ]
    },
    {
     "name": "stderr",
     "output_type": "stream",
     "text": [
      "/usr/local/lib/python3.11/dist-packages/sklearn/decomposition/_fastica.py:542: FutureWarning: Starting in v1.3, whiten='unit-variance' will be used by default.\n",
      "  warnings.warn(\n"
     ]
    },
    {
     "name": "stdout",
     "output_type": "stream",
     "text": [
      "Trial 3845: Artifacts - 0.0% (Validation: 0, Clipping: 0, Motion: 0)\n",
      "Trial 3846: Artifacts - 0.0% (Validation: 0, Clipping: 0, Motion: 0)\n",
      "Trial 3847: Artifacts - 0.1% (Validation: 0, Clipping: 1, Motion: 0)\n",
      "Trial 3848: Artifacts - 3.9% (Validation: 0, Clipping: 0, Motion: 68)\n"
     ]
    },
    {
     "name": "stderr",
     "output_type": "stream",
     "text": [
      "/usr/local/lib/python3.11/dist-packages/sklearn/decomposition/_fastica.py:542: FutureWarning: Starting in v1.3, whiten='unit-variance' will be used by default.\n",
      "  warnings.warn(\n"
     ]
    },
    {
     "name": "stdout",
     "output_type": "stream",
     "text": [
      "Trial 3849: Artifacts - 0.9% (Validation: 0, Clipping: 0, Motion: 15)\n",
      "Trial 3850: Artifacts - 0.1% (Validation: 0, Clipping: 1, Motion: 0)\n",
      "Trial 3851: Artifacts - 9.0% (Validation: 0, Clipping: 0, Motion: 158)\n",
      "Trial 3852: Artifacts - 1.9% (Validation: 0, Clipping: 0, Motion: 33)\n"
     ]
    },
    {
     "name": "stderr",
     "output_type": "stream",
     "text": [
      "/usr/local/lib/python3.11/dist-packages/sklearn/decomposition/_fastica.py:542: FutureWarning: Starting in v1.3, whiten='unit-variance' will be used by default.\n",
      "  warnings.warn(\n"
     ]
    },
    {
     "name": "stdout",
     "output_type": "stream",
     "text": [
      "Trial 3853: Artifacts - 0.0% (Validation: 0, Clipping: 0, Motion: 0)\n",
      "Trial 3854: Artifacts - 0.1% (Validation: 0, Clipping: 1, Motion: 0)\n",
      "Trial 3855: Artifacts - 0.0% (Validation: 0, Clipping: 0, Motion: 0)\n",
      "Trial 3856: Artifacts - 5.2% (Validation: 0, Clipping: 0, Motion: 91)\n"
     ]
    },
    {
     "name": "stderr",
     "output_type": "stream",
     "text": [
      "/usr/local/lib/python3.11/dist-packages/sklearn/decomposition/_fastica.py:542: FutureWarning: Starting in v1.3, whiten='unit-variance' will be used by default.\n",
      "  warnings.warn(\n",
      "/usr/local/lib/python3.11/dist-packages/sklearn/decomposition/_fastica.py:542: FutureWarning: Starting in v1.3, whiten='unit-variance' will be used by default.\n",
      "  warnings.warn(\n"
     ]
    },
    {
     "name": "stdout",
     "output_type": "stream",
     "text": [
      "Trial 3857: Artifacts - 5.5% (Validation: 0, Clipping: 0, Motion: 97)\n",
      "Trial 3858: Artifacts - 0.0% (Validation: 0, Clipping: 0, Motion: 0)\n",
      "Trial 3859: Artifacts - 0.0% (Validation: 0, Clipping: 0, Motion: 0)\n",
      "Trial 3860: Artifacts - 1.2% (Validation: 0, Clipping: 0, Motion: 21)\n",
      "Trial 3861: Artifacts - 11.7% (Validation: 0, Clipping: 0, Motion: 205)\n",
      "Trial 3862: Artifacts - 0.0% (Validation: 0, Clipping: 0, Motion: 0)\n"
     ]
    },
    {
     "name": "stderr",
     "output_type": "stream",
     "text": [
      "/usr/local/lib/python3.11/dist-packages/sklearn/decomposition/_fastica.py:542: FutureWarning: Starting in v1.3, whiten='unit-variance' will be used by default.\n",
      "  warnings.warn(\n"
     ]
    },
    {
     "name": "stdout",
     "output_type": "stream",
     "text": [
      "Trial 3863: Artifacts - 0.9% (Validation: 0, Clipping: 0, Motion: 16)\n",
      "Trial 3864: Artifacts - 0.0% (Validation: 0, Clipping: 0, Motion: 0)\n",
      "Trial 3865: Artifacts - 2.2% (Validation: 0, Clipping: 0, Motion: 39)\n",
      "Trial 3866: Artifacts - 0.0% (Validation: 0, Clipping: 0, Motion: 0)\n",
      "Trial 3867: Artifacts - 0.0% (Validation: 0, Clipping: 0, Motion: 0)\n",
      "Trial 3868: Artifacts - 11.8% (Validation: 0, Clipping: 0, Motion: 207)\n"
     ]
    },
    {
     "name": "stderr",
     "output_type": "stream",
     "text": [
      "/usr/local/lib/python3.11/dist-packages/sklearn/decomposition/_fastica.py:542: FutureWarning: Starting in v1.3, whiten='unit-variance' will be used by default.\n",
      "  warnings.warn(\n",
      "/usr/local/lib/python3.11/dist-packages/sklearn/decomposition/_fastica.py:542: FutureWarning: Starting in v1.3, whiten='unit-variance' will be used by default.\n",
      "  warnings.warn(\n"
     ]
    },
    {
     "name": "stdout",
     "output_type": "stream",
     "text": [
      "Trial 3869: Artifacts - 8.8% (Validation: 0, Clipping: 1, Motion: 154)\n",
      "Trial 3870: Artifacts - 9.3% (Validation: 0, Clipping: 0, Motion: 163)\n"
     ]
    },
    {
     "name": "stderr",
     "output_type": "stream",
     "text": [
      "/usr/local/lib/python3.11/dist-packages/sklearn/decomposition/_fastica.py:542: FutureWarning: Starting in v1.3, whiten='unit-variance' will be used by default.\n",
      "  warnings.warn(\n"
     ]
    },
    {
     "name": "stdout",
     "output_type": "stream",
     "text": [
      "Trial 3871: Artifacts - 15.4% (Validation: 0, Clipping: 0, Motion: 270)\n",
      "Trial 3872: Artifacts - 0.3% (Validation: 0, Clipping: 1, Motion: 5)\n"
     ]
    },
    {
     "name": "stderr",
     "output_type": "stream",
     "text": [
      "/usr/local/lib/python3.11/dist-packages/sklearn/decomposition/_fastica.py:542: FutureWarning: Starting in v1.3, whiten='unit-variance' will be used by default.\n",
      "  warnings.warn(\n"
     ]
    },
    {
     "name": "stdout",
     "output_type": "stream",
     "text": [
      "Trial 3873: Artifacts - 0.8% (Validation: 0, Clipping: 0, Motion: 14)\n",
      "Trial 3874: Artifacts - 0.0% (Validation: 0, Clipping: 0, Motion: 0)\n",
      "Trial 3875: Artifacts - 4.1% (Validation: 0, Clipping: 0, Motion: 71)\n"
     ]
    },
    {
     "name": "stderr",
     "output_type": "stream",
     "text": [
      "/usr/local/lib/python3.11/dist-packages/sklearn/decomposition/_fastica.py:542: FutureWarning: Starting in v1.3, whiten='unit-variance' will be used by default.\n",
      "  warnings.warn(\n"
     ]
    },
    {
     "name": "stdout",
     "output_type": "stream",
     "text": [
      "Trial 3876: Artifacts - 0.7% (Validation: 0, Clipping: 0, Motion: 13)\n",
      "Trial 3877: Artifacts - 0.0% (Validation: 0, Clipping: 0, Motion: 0)\n",
      "Trial 3878: Artifacts - 0.5% (Validation: 0, Clipping: 0, Motion: 8)\n",
      "Trial 3879: Artifacts - 0.9% (Validation: 0, Clipping: 0, Motion: 16)\n",
      "Trial 3880: Artifacts - 0.0% (Validation: 0, Clipping: 0, Motion: 0)\n",
      "Trial 3881: Artifacts - 5.7% (Validation: 0, Clipping: 0, Motion: 100)\n"
     ]
    },
    {
     "name": "stderr",
     "output_type": "stream",
     "text": [
      "/usr/local/lib/python3.11/dist-packages/sklearn/decomposition/_fastica.py:542: FutureWarning: Starting in v1.3, whiten='unit-variance' will be used by default.\n",
      "  warnings.warn(\n",
      "/usr/local/lib/python3.11/dist-packages/sklearn/decomposition/_fastica.py:542: FutureWarning: Starting in v1.3, whiten='unit-variance' will be used by default.\n",
      "  warnings.warn(\n"
     ]
    },
    {
     "name": "stdout",
     "output_type": "stream",
     "text": [
      "Trial 3882: Artifacts - 9.4% (Validation: 0, Clipping: 0, Motion: 164)\n",
      "Trial 3883: Artifacts - 0.4% (Validation: 0, Clipping: 1, Motion: 6)\n",
      "Trial 3884: Artifacts - 1.7% (Validation: 0, Clipping: 0, Motion: 30)\n",
      "Trial 3885: Artifacts - 7.1% (Validation: 0, Clipping: 0, Motion: 125)\n"
     ]
    },
    {
     "name": "stderr",
     "output_type": "stream",
     "text": [
      "/usr/local/lib/python3.11/dist-packages/sklearn/decomposition/_fastica.py:542: FutureWarning: Starting in v1.3, whiten='unit-variance' will be used by default.\n",
      "  warnings.warn(\n"
     ]
    },
    {
     "name": "stdout",
     "output_type": "stream",
     "text": [
      "Trial 3886: Artifacts - 2.3% (Validation: 0, Clipping: 0, Motion: 40)\n",
      "Trial 3887: Artifacts - 0.0% (Validation: 0, Clipping: 0, Motion: 0)\n",
      "Trial 3888: Artifacts - 0.0% (Validation: 0, Clipping: 0, Motion: 0)\n",
      "Trial 3889: Artifacts - 1.5% (Validation: 0, Clipping: 0, Motion: 26)\n",
      "Trial 3890: Artifacts - 0.2% (Validation: 0, Clipping: 0, Motion: 3)\n",
      "Trial 3891: Artifacts - 14.2% (Validation: 0, Clipping: 0, Motion: 249)\n"
     ]
    },
    {
     "name": "stderr",
     "output_type": "stream",
     "text": [
      "/usr/local/lib/python3.11/dist-packages/sklearn/decomposition/_fastica.py:542: FutureWarning: Starting in v1.3, whiten='unit-variance' will be used by default.\n",
      "  warnings.warn(\n"
     ]
    },
    {
     "name": "stdout",
     "output_type": "stream",
     "text": [
      "Trial 3892: Artifacts - 1.3% (Validation: 0, Clipping: 0, Motion: 22)\n",
      "Trial 3893: Artifacts - 0.7% (Validation: 0, Clipping: 0, Motion: 13)\n",
      "Trial 3894: Artifacts - 1.5% (Validation: 0, Clipping: 1, Motion: 26)\n",
      "Trial 3895: Artifacts - 0.9% (Validation: 0, Clipping: 1, Motion: 14)\n",
      "Trial 3896: Artifacts - 1.5% (Validation: 0, Clipping: 0, Motion: 26)\n",
      "Trial 3897: Artifacts - 0.4% (Validation: 0, Clipping: 1, Motion: 6)\n",
      "Trial 3898: Artifacts - 0.0% (Validation: 0, Clipping: 0, Motion: 0)\n",
      "Trial 3899: Artifacts - 6.6% (Validation: 0, Clipping: 0, Motion: 115)\n"
     ]
    },
    {
     "name": "stderr",
     "output_type": "stream",
     "text": [
      "/usr/local/lib/python3.11/dist-packages/sklearn/decomposition/_fastica.py:542: FutureWarning: Starting in v1.3, whiten='unit-variance' will be used by default.\n",
      "  warnings.warn(\n"
     ]
    },
    {
     "name": "stdout",
     "output_type": "stream",
     "text": [
      "Trial 3900: Artifacts - 0.0% (Validation: 0, Clipping: 0, Motion: 0)\n",
      "Processed 3900/4800 trials\n",
      "Trial 3901: Artifacts - 0.1% (Validation: 0, Clipping: 1, Motion: 1)\n",
      "Trial 3902: Artifacts - 0.0% (Validation: 0, Clipping: 0, Motion: 0)\n",
      "Trial 3903: Artifacts - 3.9% (Validation: 0, Clipping: 1, Motion: 68)\n"
     ]
    },
    {
     "name": "stderr",
     "output_type": "stream",
     "text": [
      "/usr/local/lib/python3.11/dist-packages/sklearn/decomposition/_fastica.py:542: FutureWarning: Starting in v1.3, whiten='unit-variance' will be used by default.\n",
      "  warnings.warn(\n"
     ]
    },
    {
     "name": "stdout",
     "output_type": "stream",
     "text": [
      "Trial 3904: Artifacts - 5.8% (Validation: 0, Clipping: 0, Motion: 101)\n"
     ]
    },
    {
     "name": "stderr",
     "output_type": "stream",
     "text": [
      "/usr/local/lib/python3.11/dist-packages/sklearn/decomposition/_fastica.py:542: FutureWarning: Starting in v1.3, whiten='unit-variance' will be used by default.\n",
      "  warnings.warn(\n"
     ]
    },
    {
     "name": "stdout",
     "output_type": "stream",
     "text": [
      "Trial 3905: Artifacts - 0.6% (Validation: 0, Clipping: 0, Motion: 11)\n",
      "Trial 3906: Artifacts - 0.0% (Validation: 0, Clipping: 0, Motion: 0)\n",
      "Trial 3907: Artifacts - 0.0% (Validation: 0, Clipping: 0, Motion: 0)\n",
      "Trial 3908: Artifacts - 0.1% (Validation: 0, Clipping: 0, Motion: 1)\n",
      "Trial 3909: Artifacts - 0.1% (Validation: 0, Clipping: 1, Motion: 0)\n",
      "Trial 3910: Artifacts - 0.1% (Validation: 0, Clipping: 1, Motion: 0)\n",
      "Trial 3911: Artifacts - 0.0% (Validation: 0, Clipping: 0, Motion: 0)\n",
      "Trial 3912: Artifacts - 1.5% (Validation: 0, Clipping: 1, Motion: 25)\n",
      "Trial 3913: Artifacts - 0.0% (Validation: 0, Clipping: 0, Motion: 0)\n",
      "Trial 3914: Artifacts - 0.0% (Validation: 0, Clipping: 0, Motion: 0)\n",
      "Trial 3915: Artifacts - 0.0% (Validation: 0, Clipping: 0, Motion: 0)\n",
      "Trial 3916: Artifacts - 0.2% (Validation: 0, Clipping: 0, Motion: 3)\n",
      "Trial 3917: Artifacts - 0.0% (Validation: 0, Clipping: 0, Motion: 0)\n",
      "Trial 3918: Artifacts - 9.1% (Validation: 0, Clipping: 0, Motion: 160)\n"
     ]
    },
    {
     "name": "stderr",
     "output_type": "stream",
     "text": [
      "/usr/local/lib/python3.11/dist-packages/sklearn/decomposition/_fastica.py:542: FutureWarning: Starting in v1.3, whiten='unit-variance' will be used by default.\n",
      "  warnings.warn(\n"
     ]
    },
    {
     "name": "stdout",
     "output_type": "stream",
     "text": [
      "Trial 3919: Artifacts - 0.5% (Validation: 0, Clipping: 0, Motion: 9)\n",
      "Trial 3920: Artifacts - 4.1% (Validation: 0, Clipping: 1, Motion: 71)\n"
     ]
    },
    {
     "name": "stderr",
     "output_type": "stream",
     "text": [
      "/usr/local/lib/python3.11/dist-packages/sklearn/decomposition/_fastica.py:542: FutureWarning: Starting in v1.3, whiten='unit-variance' will be used by default.\n",
      "  warnings.warn(\n"
     ]
    },
    {
     "name": "stdout",
     "output_type": "stream",
     "text": [
      "Trial 3921: Artifacts - 0.0% (Validation: 0, Clipping: 0, Motion: 0)\n",
      "Trial 3922: Artifacts - 0.0% (Validation: 0, Clipping: 0, Motion: 0)\n",
      "Trial 3923: Artifacts - 0.0% (Validation: 0, Clipping: 0, Motion: 0)\n",
      "Trial 3924: Artifacts - 0.0% (Validation: 0, Clipping: 0, Motion: 0)\n",
      "Trial 3925: Artifacts - 0.0% (Validation: 0, Clipping: 0, Motion: 0)\n",
      "Trial 3926: Artifacts - 0.0% (Validation: 0, Clipping: 0, Motion: 0)\n",
      "Trial 3927: Artifacts - 0.5% (Validation: 0, Clipping: 0, Motion: 8)\n",
      "Trial 3928: Artifacts - 0.0% (Validation: 0, Clipping: 0, Motion: 0)\n",
      "Trial 3929: Artifacts - 0.0% (Validation: 0, Clipping: 0, Motion: 0)\n",
      "Trial 3930: Artifacts - 0.0% (Validation: 0, Clipping: 0, Motion: 0)\n",
      "Trial 3931: Artifacts - 13.8% (Validation: 0, Clipping: 0, Motion: 242)\n"
     ]
    },
    {
     "name": "stderr",
     "output_type": "stream",
     "text": [
      "/usr/local/lib/python3.11/dist-packages/sklearn/decomposition/_fastica.py:542: FutureWarning: Starting in v1.3, whiten='unit-variance' will be used by default.\n",
      "  warnings.warn(\n"
     ]
    },
    {
     "name": "stdout",
     "output_type": "stream",
     "text": [
      "Trial 3932: Artifacts - 0.0% (Validation: 0, Clipping: 0, Motion: 0)\n",
      "Trial 3933: Artifacts - 5.9% (Validation: 0, Clipping: 0, Motion: 103)\n"
     ]
    },
    {
     "name": "stderr",
     "output_type": "stream",
     "text": [
      "/usr/local/lib/python3.11/dist-packages/sklearn/decomposition/_fastica.py:542: FutureWarning: Starting in v1.3, whiten='unit-variance' will be used by default.\n",
      "  warnings.warn(\n"
     ]
    },
    {
     "name": "stdout",
     "output_type": "stream",
     "text": [
      "Trial 3934: Artifacts - 17.1% (Validation: 97, Clipping: 1, Motion: 203)\n",
      "Trial 3935: Artifacts - 8.1% (Validation: 0, Clipping: 0, Motion: 142)\n"
     ]
    },
    {
     "name": "stderr",
     "output_type": "stream",
     "text": [
      "/usr/local/lib/python3.11/dist-packages/sklearn/decomposition/_fastica.py:542: FutureWarning: Starting in v1.3, whiten='unit-variance' will be used by default.\n",
      "  warnings.warn(\n",
      "/usr/local/lib/python3.11/dist-packages/sklearn/decomposition/_fastica.py:542: FutureWarning: Starting in v1.3, whiten='unit-variance' will be used by default.\n",
      "  warnings.warn(\n"
     ]
    },
    {
     "name": "stdout",
     "output_type": "stream",
     "text": [
      "Trial 3936: Artifacts - 4.9% (Validation: 0, Clipping: 0, Motion: 85)\n",
      "Trial 3937: Artifacts - 6.7% (Validation: 0, Clipping: 0, Motion: 118)\n"
     ]
    },
    {
     "name": "stderr",
     "output_type": "stream",
     "text": [
      "/usr/local/lib/python3.11/dist-packages/sklearn/decomposition/_fastica.py:542: FutureWarning: Starting in v1.3, whiten='unit-variance' will be used by default.\n",
      "  warnings.warn(\n",
      "/usr/local/lib/python3.11/dist-packages/sklearn/decomposition/_fastica.py:542: FutureWarning: Starting in v1.3, whiten='unit-variance' will be used by default.\n",
      "  warnings.warn(\n"
     ]
    },
    {
     "name": "stdout",
     "output_type": "stream",
     "text": [
      "Trial 3938: Artifacts - 19.3% (Validation: 190, Clipping: 0, Motion: 215)\n"
     ]
    },
    {
     "name": "stderr",
     "output_type": "stream",
     "text": [
      "/usr/local/lib/python3.11/dist-packages/sklearn/decomposition/_fastica.py:542: FutureWarning: Starting in v1.3, whiten='unit-variance' will be used by default.\n",
      "  warnings.warn(\n"
     ]
    },
    {
     "name": "stdout",
     "output_type": "stream",
     "text": [
      "Trial 3939: Artifacts - 0.0% (Validation: 0, Clipping: 0, Motion: 0)\n",
      "Trial 3940: Artifacts - 13.7% (Validation: 0, Clipping: 1, Motion: 239)\n"
     ]
    },
    {
     "name": "stderr",
     "output_type": "stream",
     "text": [
      "/usr/local/lib/python3.11/dist-packages/sklearn/decomposition/_fastica.py:542: FutureWarning: Starting in v1.3, whiten='unit-variance' will be used by default.\n",
      "  warnings.warn(\n"
     ]
    },
    {
     "name": "stdout",
     "output_type": "stream",
     "text": [
      "Trial 3941: Artifacts - 7.9% (Validation: 81, Clipping: 0, Motion: 66)\n",
      "Trial 3942: Artifacts - 2.7% (Validation: 0, Clipping: 0, Motion: 47)\n"
     ]
    },
    {
     "name": "stderr",
     "output_type": "stream",
     "text": [
      "/usr/local/lib/python3.11/dist-packages/sklearn/decomposition/_fastica.py:542: FutureWarning: Starting in v1.3, whiten='unit-variance' will be used by default.\n",
      "  warnings.warn(\n"
     ]
    },
    {
     "name": "stdout",
     "output_type": "stream",
     "text": [
      "Trial 3943: Artifacts - 1.8% (Validation: 0, Clipping: 0, Motion: 31)\n",
      "Trial 3944: Artifacts - 4.3% (Validation: 0, Clipping: 0, Motion: 75)\n"
     ]
    },
    {
     "name": "stderr",
     "output_type": "stream",
     "text": [
      "/usr/local/lib/python3.11/dist-packages/sklearn/decomposition/_fastica.py:542: FutureWarning: Starting in v1.3, whiten='unit-variance' will be used by default.\n",
      "  warnings.warn(\n"
     ]
    },
    {
     "name": "stdout",
     "output_type": "stream",
     "text": [
      "Trial 3945: Artifacts - 0.0% (Validation: 0, Clipping: 0, Motion: 0)\n",
      "Trial 3946: Artifacts - 5.9% (Validation: 0, Clipping: 1, Motion: 103)\n"
     ]
    },
    {
     "name": "stderr",
     "output_type": "stream",
     "text": [
      "/usr/local/lib/python3.11/dist-packages/sklearn/decomposition/_fastica.py:542: FutureWarning: Starting in v1.3, whiten='unit-variance' will be used by default.\n",
      "  warnings.warn(\n",
      "/usr/local/lib/python3.11/dist-packages/sklearn/decomposition/_fastica.py:542: FutureWarning: Starting in v1.3, whiten='unit-variance' will be used by default.\n",
      "  warnings.warn(\n"
     ]
    },
    {
     "name": "stdout",
     "output_type": "stream",
     "text": [
      "Trial 3947: Artifacts - 11.7% (Validation: 80, Clipping: 1, Motion: 124)\n",
      "Trial 3948: Artifacts - 0.5% (Validation: 0, Clipping: 0, Motion: 9)\n",
      "Trial 3949: Artifacts - 0.0% (Validation: 0, Clipping: 0, Motion: 0)\n",
      "Trial 3950: Artifacts - 5.8% (Validation: 0, Clipping: 0, Motion: 101)\n"
     ]
    },
    {
     "name": "stderr",
     "output_type": "stream",
     "text": [
      "/usr/local/lib/python3.11/dist-packages/sklearn/decomposition/_fastica.py:542: FutureWarning: Starting in v1.3, whiten='unit-variance' will be used by default.\n",
      "  warnings.warn(\n"
     ]
    },
    {
     "name": "stdout",
     "output_type": "stream",
     "text": [
      "Trial 3951: Artifacts - 4.9% (Validation: 75, Clipping: 7, Motion: 10)\n",
      "Trial 3952: Artifacts - 5.1% (Validation: 0, Clipping: 0, Motion: 90)\n"
     ]
    },
    {
     "name": "stderr",
     "output_type": "stream",
     "text": [
      "/usr/local/lib/python3.11/dist-packages/sklearn/decomposition/_fastica.py:542: FutureWarning: Starting in v1.3, whiten='unit-variance' will be used by default.\n",
      "  warnings.warn(\n",
      "/usr/local/lib/python3.11/dist-packages/sklearn/decomposition/_fastica.py:542: FutureWarning: Starting in v1.3, whiten='unit-variance' will be used by default.\n",
      "  warnings.warn(\n"
     ]
    },
    {
     "name": "stdout",
     "output_type": "stream",
     "text": [
      "Trial 3953: Artifacts - 4.1% (Validation: 0, Clipping: 0, Motion: 72)\n",
      "Trial 3954: Artifacts - 1.0% (Validation: 0, Clipping: 0, Motion: 17)\n",
      "Trial 3955: Artifacts - 0.0% (Validation: 0, Clipping: 0, Motion: 0)\n",
      "Trial 3956: Artifacts - 0.0% (Validation: 0, Clipping: 0, Motion: 0)\n",
      "Trial 3957: Artifacts - 0.1% (Validation: 0, Clipping: 1, Motion: 0)\n",
      "Trial 3958: Artifacts - 0.0% (Validation: 0, Clipping: 0, Motion: 0)\n",
      "Trial 3959: Artifacts - 2.4% (Validation: 0, Clipping: 0, Motion: 42)\n",
      "Trial 3960: Artifacts - 5.3% (Validation: 92, Clipping: 10, Motion: 0)\n",
      "Trial 3961: Artifacts - 2.6% (Validation: 0, Clipping: 0, Motion: 45)\n",
      "Trial 3962: Artifacts - 0.0% (Validation: 0, Clipping: 0, Motion: 0)\n",
      "Trial 3963: Artifacts - 0.1% (Validation: 0, Clipping: 1, Motion: 0)\n",
      "Trial 3964: Artifacts - 0.0% (Validation: 0, Clipping: 0, Motion: 0)\n",
      "Trial 3965: Artifacts - 0.0% (Validation: 0, Clipping: 0, Motion: 0)\n",
      "Trial 3966: Artifacts - 0.6% (Validation: 0, Clipping: 1, Motion: 9)\n",
      "Trial 3967: Artifacts - 0.0% (Validation: 0, Clipping: 0, Motion: 0)\n",
      "Trial 3968: Artifacts - 0.0% (Validation: 0, Clipping: 0, Motion: 0)\n",
      "Trial 3969: Artifacts - 0.1% (Validation: 0, Clipping: 1, Motion: 0)\n",
      "Trial 3970: Artifacts - 0.0% (Validation: 0, Clipping: 0, Motion: 0)\n",
      "Trial 3971: Artifacts - 0.0% (Validation: 0, Clipping: 0, Motion: 0)\n",
      "Trial 3972: Artifacts - 0.0% (Validation: 0, Clipping: 0, Motion: 0)\n",
      "Trial 3973: Artifacts - 0.0% (Validation: 0, Clipping: 0, Motion: 0)\n",
      "Trial 3974: Artifacts - 0.0% (Validation: 0, Clipping: 0, Motion: 0)\n",
      "Trial 3975: Artifacts - 0.1% (Validation: 0, Clipping: 1, Motion: 0)\n",
      "Trial 3976: Artifacts - 0.1% (Validation: 0, Clipping: 1, Motion: 0)\n",
      "Trial 3977: Artifacts - 0.0% (Validation: 0, Clipping: 0, Motion: 0)\n",
      "Trial 3978: Artifacts - 0.0% (Validation: 0, Clipping: 0, Motion: 0)\n",
      "Trial 3979: Artifacts - 0.0% (Validation: 0, Clipping: 0, Motion: 0)\n",
      "Trial 3980: Artifacts - 0.0% (Validation: 0, Clipping: 0, Motion: 0)\n",
      "Trial 3981: Artifacts - 6.7% (Validation: 0, Clipping: 0, Motion: 117)\n",
      "Trial 3982: Artifacts - 4.5% (Validation: 79, Clipping: 0, Motion: 0)\n"
     ]
    },
    {
     "name": "stderr",
     "output_type": "stream",
     "text": [
      "/usr/local/lib/python3.11/dist-packages/sklearn/decomposition/_fastica.py:542: FutureWarning: Starting in v1.3, whiten='unit-variance' will be used by default.\n",
      "  warnings.warn(\n"
     ]
    },
    {
     "name": "stdout",
     "output_type": "stream",
     "text": [
      "Trial 3983: Artifacts - 0.0% (Validation: 0, Clipping: 0, Motion: 0)\n",
      "Trial 3984: Artifacts - 0.0% (Validation: 0, Clipping: 0, Motion: 0)\n",
      "Trial 3985: Artifacts - 0.0% (Validation: 0, Clipping: 0, Motion: 0)\n",
      "Trial 3986: Artifacts - 4.6% (Validation: 79, Clipping: 1, Motion: 0)\n",
      "Trial 3987: Artifacts - 0.0% (Validation: 0, Clipping: 0, Motion: 0)\n",
      "Trial 3988: Artifacts - 0.0% (Validation: 0, Clipping: 0, Motion: 0)\n",
      "Trial 3989: Artifacts - 0.0% (Validation: 0, Clipping: 0, Motion: 0)\n",
      "Trial 3990: Artifacts - 0.1% (Validation: 0, Clipping: 1, Motion: 0)\n",
      "Trial 3991: Artifacts - 0.0% (Validation: 0, Clipping: 0, Motion: 0)\n",
      "Trial 3992: Artifacts - 0.1% (Validation: 0, Clipping: 1, Motion: 0)\n",
      "Trial 3993: Artifacts - 0.9% (Validation: 0, Clipping: 0, Motion: 16)\n",
      "Trial 3994: Artifacts - 0.0% (Validation: 0, Clipping: 0, Motion: 0)\n",
      "Trial 3995: Artifacts - 0.0% (Validation: 0, Clipping: 0, Motion: 0)\n",
      "Trial 3996: Artifacts - 0.1% (Validation: 0, Clipping: 1, Motion: 0)\n",
      "Trial 3997: Artifacts - 0.0% (Validation: 0, Clipping: 0, Motion: 0)\n",
      "Trial 3998: Artifacts - 0.3% (Validation: 0, Clipping: 1, Motion: 4)\n",
      "Trial 3999: Artifacts - 0.0% (Validation: 0, Clipping: 0, Motion: 0)\n",
      "Trial 4000: Artifacts - 0.0% (Validation: 0, Clipping: 0, Motion: 0)\n",
      "Processed 4000/4800 trials\n",
      "Trial 4001: Artifacts - 6.1% (Validation: 0, Clipping: 0, Motion: 107)\n"
     ]
    },
    {
     "name": "stderr",
     "output_type": "stream",
     "text": [
      "/usr/local/lib/python3.11/dist-packages/sklearn/decomposition/_fastica.py:542: FutureWarning: Starting in v1.3, whiten='unit-variance' will be used by default.\n",
      "  warnings.warn(\n"
     ]
    },
    {
     "name": "stdout",
     "output_type": "stream",
     "text": [
      "Trial 4002: Artifacts - 1.4% (Validation: 0, Clipping: 0, Motion: 24)\n",
      "Trial 4003: Artifacts - 0.0% (Validation: 0, Clipping: 0, Motion: 0)\n",
      "Trial 4004: Artifacts - 5.0% (Validation: 0, Clipping: 0, Motion: 87)\n",
      "Trial 4005: Artifacts - 0.0% (Validation: 0, Clipping: 0, Motion: 0)\n"
     ]
    },
    {
     "name": "stderr",
     "output_type": "stream",
     "text": [
      "/usr/local/lib/python3.11/dist-packages/sklearn/decomposition/_fastica.py:542: FutureWarning: Starting in v1.3, whiten='unit-variance' will be used by default.\n",
      "  warnings.warn(\n"
     ]
    },
    {
     "name": "stdout",
     "output_type": "stream",
     "text": [
      "Trial 4006: Artifacts - 0.1% (Validation: 0, Clipping: 1, Motion: 0)\n",
      "Trial 4007: Artifacts - 0.0% (Validation: 0, Clipping: 0, Motion: 0)\n",
      "Trial 4008: Artifacts - 0.0% (Validation: 0, Clipping: 0, Motion: 0)\n",
      "Trial 4009: Artifacts - 0.1% (Validation: 0, Clipping: 1, Motion: 0)\n",
      "Trial 4010: Artifacts - 1.5% (Validation: 0, Clipping: 0, Motion: 26)\n",
      "Trial 4011: Artifacts - 10.6% (Validation: 0, Clipping: 1, Motion: 185)\n"
     ]
    },
    {
     "name": "stderr",
     "output_type": "stream",
     "text": [
      "/usr/local/lib/python3.11/dist-packages/sklearn/decomposition/_fastica.py:542: FutureWarning: Starting in v1.3, whiten='unit-variance' will be used by default.\n",
      "  warnings.warn(\n"
     ]
    },
    {
     "name": "stdout",
     "output_type": "stream",
     "text": [
      "Trial 4012: Artifacts - 0.0% (Validation: 0, Clipping: 0, Motion: 0)\n",
      "Trial 4013: Artifacts - 0.0% (Validation: 0, Clipping: 0, Motion: 0)\n",
      "Trial 4014: Artifacts - 0.0% (Validation: 0, Clipping: 0, Motion: 0)\n",
      "Trial 4015: Artifacts - 0.0% (Validation: 0, Clipping: 0, Motion: 0)\n",
      "Trial 4016: Artifacts - 0.0% (Validation: 0, Clipping: 0, Motion: 0)\n",
      "Trial 4017: Artifacts - 0.0% (Validation: 0, Clipping: 0, Motion: 0)\n",
      "Trial 4018: Artifacts - 0.0% (Validation: 0, Clipping: 0, Motion: 0)\n",
      "Trial 4019: Artifacts - 0.4% (Validation: 0, Clipping: 0, Motion: 7)\n",
      "Trial 4020: Artifacts - 0.0% (Validation: 0, Clipping: 0, Motion: 0)\n",
      "Trial 4021: Artifacts - 12.4% (Validation: 0, Clipping: 1, Motion: 217)\n"
     ]
    },
    {
     "name": "stderr",
     "output_type": "stream",
     "text": [
      "/usr/local/lib/python3.11/dist-packages/sklearn/decomposition/_fastica.py:542: FutureWarning: Starting in v1.3, whiten='unit-variance' will be used by default.\n",
      "  warnings.warn(\n"
     ]
    },
    {
     "name": "stdout",
     "output_type": "stream",
     "text": [
      "Trial 4022: Artifacts - 0.4% (Validation: 0, Clipping: 1, Motion: 6)\n",
      "Trial 4023: Artifacts - 0.0% (Validation: 0, Clipping: 0, Motion: 0)\n",
      "Trial 4024: Artifacts - 0.0% (Validation: 0, Clipping: 0, Motion: 0)\n",
      "Trial 4025: Artifacts - 0.7% (Validation: 0, Clipping: 0, Motion: 12)\n",
      "Trial 4026: Artifacts - 0.0% (Validation: 0, Clipping: 0, Motion: 0)\n",
      "Trial 4027: Artifacts - 0.1% (Validation: 0, Clipping: 1, Motion: 0)\n",
      "Trial 4028: Artifacts - 0.0% (Validation: 0, Clipping: 0, Motion: 0)\n",
      "Trial 4029: Artifacts - 0.0% (Validation: 0, Clipping: 0, Motion: 0)\n",
      "Trial 4030: Artifacts - 0.0% (Validation: 0, Clipping: 0, Motion: 0)\n",
      "Trial 4031: Artifacts - 7.8% (Validation: 0, Clipping: 1, Motion: 136)\n"
     ]
    },
    {
     "name": "stderr",
     "output_type": "stream",
     "text": [
      "/usr/local/lib/python3.11/dist-packages/sklearn/decomposition/_fastica.py:542: FutureWarning: Starting in v1.3, whiten='unit-variance' will be used by default.\n",
      "  warnings.warn(\n"
     ]
    },
    {
     "name": "stdout",
     "output_type": "stream",
     "text": [
      "Trial 4032: Artifacts - 0.0% (Validation: 0, Clipping: 0, Motion: 0)\n",
      "Trial 4033: Artifacts - 0.0% (Validation: 0, Clipping: 0, Motion: 0)\n",
      "Trial 4034: Artifacts - 0.0% (Validation: 0, Clipping: 0, Motion: 0)\n",
      "Trial 4035: Artifacts - 0.7% (Validation: 0, Clipping: 0, Motion: 12)\n",
      "Trial 4036: Artifacts - 0.0% (Validation: 0, Clipping: 0, Motion: 0)\n",
      "Trial 4037: Artifacts - 0.1% (Validation: 0, Clipping: 1, Motion: 0)\n",
      "Trial 4038: Artifacts - 1.6% (Validation: 0, Clipping: 0, Motion: 28)\n",
      "Trial 4039: Artifacts - 0.4% (Validation: 0, Clipping: 0, Motion: 7)\n",
      "Trial 4040: Artifacts - 0.0% (Validation: 0, Clipping: 0, Motion: 0)\n",
      "Trial 4041: Artifacts - 9.4% (Validation: 0, Clipping: 0, Motion: 164)\n"
     ]
    },
    {
     "name": "stderr",
     "output_type": "stream",
     "text": [
      "/usr/local/lib/python3.11/dist-packages/sklearn/decomposition/_fastica.py:542: FutureWarning: Starting in v1.3, whiten='unit-variance' will be used by default.\n",
      "  warnings.warn(\n"
     ]
    },
    {
     "name": "stdout",
     "output_type": "stream",
     "text": [
      "Trial 4042: Artifacts - 2.2% (Validation: 0, Clipping: 0, Motion: 38)\n",
      "Trial 4043: Artifacts - 0.1% (Validation: 0, Clipping: 1, Motion: 0)\n",
      "Trial 4044: Artifacts - 0.4% (Validation: 0, Clipping: 0, Motion: 7)\n",
      "Trial 4045: Artifacts - 2.1% (Validation: 0, Clipping: 0, Motion: 37)\n",
      "Trial 4046: Artifacts - 0.0% (Validation: 0, Clipping: 0, Motion: 0)\n",
      "Trial 4047: Artifacts - 0.2% (Validation: 0, Clipping: 0, Motion: 3)\n",
      "Trial 4048: Artifacts - 0.0% (Validation: 0, Clipping: 0, Motion: 0)\n",
      "Trial 4049: Artifacts - 0.1% (Validation: 0, Clipping: 1, Motion: 0)\n",
      "Trial 4050: Artifacts - 0.0% (Validation: 0, Clipping: 0, Motion: 0)\n",
      "Trial 4051: Artifacts - 14.7% (Validation: 0, Clipping: 0, Motion: 258)\n"
     ]
    },
    {
     "name": "stderr",
     "output_type": "stream",
     "text": [
      "/usr/local/lib/python3.11/dist-packages/sklearn/decomposition/_fastica.py:542: FutureWarning: Starting in v1.3, whiten='unit-variance' will be used by default.\n",
      "  warnings.warn(\n"
     ]
    },
    {
     "name": "stdout",
     "output_type": "stream",
     "text": [
      "Trial 4052: Artifacts - 0.0% (Validation: 0, Clipping: 0, Motion: 0)\n",
      "Trial 4053: Artifacts - 0.0% (Validation: 0, Clipping: 0, Motion: 0)\n",
      "Trial 4054: Artifacts - 0.0% (Validation: 0, Clipping: 0, Motion: 0)\n",
      "Trial 4055: Artifacts - 0.0% (Validation: 0, Clipping: 0, Motion: 0)\n",
      "Trial 4056: Artifacts - 0.0% (Validation: 0, Clipping: 0, Motion: 0)\n",
      "Trial 4057: Artifacts - 0.0% (Validation: 0, Clipping: 0, Motion: 0)\n",
      "Trial 4058: Artifacts - 0.0% (Validation: 0, Clipping: 0, Motion: 0)\n",
      "Trial 4059: Artifacts - 3.4% (Validation: 0, Clipping: 0, Motion: 59)\n"
     ]
    },
    {
     "name": "stderr",
     "output_type": "stream",
     "text": [
      "/usr/local/lib/python3.11/dist-packages/sklearn/decomposition/_fastica.py:542: FutureWarning: Starting in v1.3, whiten='unit-variance' will be used by default.\n",
      "  warnings.warn(\n"
     ]
    },
    {
     "name": "stdout",
     "output_type": "stream",
     "text": [
      "Trial 4060: Artifacts - 0.6% (Validation: 0, Clipping: 0, Motion: 10)\n",
      "Trial 4061: Artifacts - 11.5% (Validation: 0, Clipping: 0, Motion: 202)\n"
     ]
    },
    {
     "name": "stderr",
     "output_type": "stream",
     "text": [
      "/usr/local/lib/python3.11/dist-packages/sklearn/decomposition/_fastica.py:542: FutureWarning: Starting in v1.3, whiten='unit-variance' will be used by default.\n",
      "  warnings.warn(\n"
     ]
    },
    {
     "name": "stdout",
     "output_type": "stream",
     "text": [
      "Trial 4062: Artifacts - 2.1% (Validation: 0, Clipping: 0, Motion: 37)\n",
      "Trial 4063: Artifacts - 0.1% (Validation: 0, Clipping: 1, Motion: 0)\n",
      "Trial 4064: Artifacts - 0.0% (Validation: 0, Clipping: 0, Motion: 0)\n",
      "Trial 4065: Artifacts - 1.5% (Validation: 0, Clipping: 0, Motion: 27)\n",
      "Trial 4066: Artifacts - 0.7% (Validation: 0, Clipping: 0, Motion: 12)\n",
      "Trial 4067: Artifacts - 0.0% (Validation: 0, Clipping: 0, Motion: 0)\n",
      "Trial 4068: Artifacts - 0.0% (Validation: 0, Clipping: 0, Motion: 0)\n",
      "Trial 4069: Artifacts - 0.2% (Validation: 0, Clipping: 0, Motion: 4)\n",
      "Trial 4070: Artifacts - 0.0% (Validation: 0, Clipping: 0, Motion: 0)\n",
      "Trial 4071: Artifacts - 12.4% (Validation: 0, Clipping: 0, Motion: 217)\n"
     ]
    },
    {
     "name": "stderr",
     "output_type": "stream",
     "text": [
      "/usr/local/lib/python3.11/dist-packages/sklearn/decomposition/_fastica.py:542: FutureWarning: Starting in v1.3, whiten='unit-variance' will be used by default.\n",
      "  warnings.warn(\n"
     ]
    },
    {
     "name": "stdout",
     "output_type": "stream",
     "text": [
      "Trial 4072: Artifacts - 9.8% (Validation: 0, Clipping: 0, Motion: 172)\n",
      "Trial 4073: Artifacts - 14.4% (Validation: 0, Clipping: 1, Motion: 251)\n"
     ]
    },
    {
     "name": "stderr",
     "output_type": "stream",
     "text": [
      "/usr/local/lib/python3.11/dist-packages/sklearn/decomposition/_fastica.py:542: FutureWarning: Starting in v1.3, whiten='unit-variance' will be used by default.\n",
      "  warnings.warn(\n",
      "/usr/local/lib/python3.11/dist-packages/sklearn/decomposition/_fastica.py:542: FutureWarning: Starting in v1.3, whiten='unit-variance' will be used by default.\n",
      "  warnings.warn(\n"
     ]
    },
    {
     "name": "stdout",
     "output_type": "stream",
     "text": [
      "Trial 4074: Artifacts - 0.0% (Validation: 0, Clipping: 0, Motion: 0)\n",
      "Trial 4075: Artifacts - 0.1% (Validation: 0, Clipping: 1, Motion: 0)\n",
      "Trial 4076: Artifacts - 0.0% (Validation: 0, Clipping: 0, Motion: 0)\n",
      "Trial 4077: Artifacts - 0.0% (Validation: 0, Clipping: 0, Motion: 0)\n",
      "Trial 4078: Artifacts - 0.1% (Validation: 0, Clipping: 1, Motion: 0)\n",
      "Trial 4079: Artifacts - 0.0% (Validation: 0, Clipping: 0, Motion: 0)\n",
      "Trial 4080: Artifacts - 0.0% (Validation: 0, Clipping: 0, Motion: 0)\n",
      "Trial 4081: Artifacts - 8.8% (Validation: 101, Clipping: 0, Motion: 53)\n"
     ]
    },
    {
     "name": "stderr",
     "output_type": "stream",
     "text": [
      "/usr/local/lib/python3.11/dist-packages/sklearn/decomposition/_fastica.py:542: FutureWarning: Starting in v1.3, whiten='unit-variance' will be used by default.\n",
      "  warnings.warn(\n"
     ]
    },
    {
     "name": "stdout",
     "output_type": "stream",
     "text": [
      "Trial 4082: Artifacts - 6.3% (Validation: 87, Clipping: 12, Motion: 22)\n",
      "Trial 4083: Artifacts - 3.4% (Validation: 0, Clipping: 0, Motion: 60)\n"
     ]
    },
    {
     "name": "stderr",
     "output_type": "stream",
     "text": [
      "/usr/local/lib/python3.11/dist-packages/sklearn/decomposition/_fastica.py:542: FutureWarning: Starting in v1.3, whiten='unit-variance' will be used by default.\n",
      "  warnings.warn(\n"
     ]
    },
    {
     "name": "stdout",
     "output_type": "stream",
     "text": [
      "Trial 4084: Artifacts - 10.2% (Validation: 0, Clipping: 0, Motion: 178)\n"
     ]
    },
    {
     "name": "stderr",
     "output_type": "stream",
     "text": [
      "/usr/local/lib/python3.11/dist-packages/sklearn/decomposition/_fastica.py:542: FutureWarning: Starting in v1.3, whiten='unit-variance' will be used by default.\n",
      "  warnings.warn(\n"
     ]
    },
    {
     "name": "stdout",
     "output_type": "stream",
     "text": [
      "Trial 4085: Artifacts - 3.0% (Validation: 0, Clipping: 0, Motion: 52)\n",
      "Trial 4086: Artifacts - 2.0% (Validation: 0, Clipping: 0, Motion: 35)\n"
     ]
    },
    {
     "name": "stderr",
     "output_type": "stream",
     "text": [
      "/usr/local/lib/python3.11/dist-packages/sklearn/decomposition/_fastica.py:542: FutureWarning: Starting in v1.3, whiten='unit-variance' will be used by default.\n",
      "  warnings.warn(\n"
     ]
    },
    {
     "name": "stdout",
     "output_type": "stream",
     "text": [
      "Trial 4087: Artifacts - 1.6% (Validation: 0, Clipping: 1, Motion: 27)\n",
      "Trial 4088: Artifacts - 0.0% (Validation: 0, Clipping: 0, Motion: 0)\n",
      "Trial 4089: Artifacts - 4.7% (Validation: 82, Clipping: 0, Motion: 0)\n",
      "Trial 4090: Artifacts - 0.9% (Validation: 0, Clipping: 1, Motion: 14)\n",
      "Trial 4091: Artifacts - 3.3% (Validation: 0, Clipping: 1, Motion: 56)\n"
     ]
    },
    {
     "name": "stderr",
     "output_type": "stream",
     "text": [
      "/usr/local/lib/python3.11/dist-packages/sklearn/decomposition/_fastica.py:542: FutureWarning: Starting in v1.3, whiten='unit-variance' will be used by default.\n",
      "  warnings.warn(\n"
     ]
    },
    {
     "name": "stdout",
     "output_type": "stream",
     "text": [
      "Trial 4092: Artifacts - 0.0% (Validation: 0, Clipping: 0, Motion: 0)\n",
      "Trial 4093: Artifacts - 0.0% (Validation: 0, Clipping: 0, Motion: 0)\n",
      "Trial 4094: Artifacts - 0.0% (Validation: 0, Clipping: 0, Motion: 0)\n",
      "Trial 4095: Artifacts - 9.8% (Validation: 0, Clipping: 0, Motion: 172)\n"
     ]
    },
    {
     "name": "stderr",
     "output_type": "stream",
     "text": [
      "/usr/local/lib/python3.11/dist-packages/sklearn/decomposition/_fastica.py:542: FutureWarning: Starting in v1.3, whiten='unit-variance' will be used by default.\n",
      "  warnings.warn(\n"
     ]
    },
    {
     "name": "stdout",
     "output_type": "stream",
     "text": [
      "Trial 4096: Artifacts - 0.0% (Validation: 0, Clipping: 0, Motion: 0)\n",
      "Trial 4097: Artifacts - 11.0% (Validation: 0, Clipping: 0, Motion: 192)\n"
     ]
    },
    {
     "name": "stderr",
     "output_type": "stream",
     "text": [
      "/usr/local/lib/python3.11/dist-packages/sklearn/decomposition/_fastica.py:542: FutureWarning: Starting in v1.3, whiten='unit-variance' will be used by default.\n",
      "  warnings.warn(\n"
     ]
    },
    {
     "name": "stdout",
     "output_type": "stream",
     "text": [
      "Trial 4098: Artifacts - 2.1% (Validation: 0, Clipping: 0, Motion: 37)\n",
      "Trial 4099: Artifacts - 0.0% (Validation: 0, Clipping: 0, Motion: 0)\n",
      "Trial 4100: Artifacts - 0.1% (Validation: 0, Clipping: 1, Motion: 0)\n",
      "Processed 4100/4800 trials\n",
      "Trial 4101: Artifacts - 0.0% (Validation: 0, Clipping: 0, Motion: 0)\n",
      "Trial 4102: Artifacts - 3.7% (Validation: 0, Clipping: 0, Motion: 64)\n",
      "Trial 4103: Artifacts - 12.3% (Validation: 89, Clipping: 0, Motion: 127)\n"
     ]
    },
    {
     "name": "stderr",
     "output_type": "stream",
     "text": [
      "/usr/local/lib/python3.11/dist-packages/sklearn/decomposition/_fastica.py:542: FutureWarning: Starting in v1.3, whiten='unit-variance' will be used by default.\n",
      "  warnings.warn(\n",
      "/usr/local/lib/python3.11/dist-packages/sklearn/decomposition/_fastica.py:542: FutureWarning: Starting in v1.3, whiten='unit-variance' will be used by default.\n",
      "  warnings.warn(\n"
     ]
    },
    {
     "name": "stdout",
     "output_type": "stream",
     "text": [
      "Trial 4104: Artifacts - 5.8% (Validation: 97, Clipping: 0, Motion: 5)\n",
      "Trial 4105: Artifacts - 5.3% (Validation: 92, Clipping: 0, Motion: 0)\n",
      "Trial 4106: Artifacts - 5.9% (Validation: 103, Clipping: 0, Motion: 0)\n",
      "Trial 4107: Artifacts - 15.7% (Validation: 274, Clipping: 0, Motion: 0)\n",
      "Trial 4108: Artifacts - 6.1% (Validation: 106, Clipping: 0, Motion: 0)\n",
      "Trial 4109: Artifacts - 14.9% (Validation: 261, Clipping: 26, Motion: 0)\n",
      "Trial 4110: Artifacts - 2.5% (Validation: 43, Clipping: 12, Motion: 0)\n",
      "Trial 4111: Artifacts - 7.2% (Validation: 126, Clipping: 59, Motion: 0)\n",
      "Trial 4112: Artifacts - 7.8% (Validation: 65, Clipping: 22, Motion: 111)\n"
     ]
    },
    {
     "name": "stderr",
     "output_type": "stream",
     "text": [
      "/usr/local/lib/python3.11/dist-packages/sklearn/decomposition/_fastica.py:542: FutureWarning: Starting in v1.3, whiten='unit-variance' will be used by default.\n",
      "  warnings.warn(\n"
     ]
    },
    {
     "name": "stdout",
     "output_type": "stream",
     "text": [
      "Trial 4113: Artifacts - 1.3% (Validation: 0, Clipping: 0, Motion: 22)\n",
      "Trial 4114: Artifacts - 8.2% (Validation: 80, Clipping: 8, Motion: 83)\n"
     ]
    },
    {
     "name": "stderr",
     "output_type": "stream",
     "text": [
      "/usr/local/lib/python3.11/dist-packages/sklearn/decomposition/_fastica.py:542: FutureWarning: Starting in v1.3, whiten='unit-variance' will be used by default.\n",
      "  warnings.warn(\n",
      "/usr/local/lib/python3.11/dist-packages/sklearn/decomposition/_fastica.py:542: FutureWarning: Starting in v1.3, whiten='unit-variance' will be used by default.\n",
      "  warnings.warn(\n"
     ]
    },
    {
     "name": "stdout",
     "output_type": "stream",
     "text": [
      "Trial 4115: Artifacts - 16.1% (Validation: 124, Clipping: 36, Motion: 158)\n",
      "Trial 4116: Artifacts - 3.8% (Validation: 0, Clipping: 0, Motion: 67)\n"
     ]
    },
    {
     "name": "stderr",
     "output_type": "stream",
     "text": [
      "/usr/local/lib/python3.11/dist-packages/sklearn/decomposition/_fastica.py:542: FutureWarning: Starting in v1.3, whiten='unit-variance' will be used by default.\n",
      "  warnings.warn(\n"
     ]
    },
    {
     "name": "stdout",
     "output_type": "stream",
     "text": [
      "Trial 4117: Artifacts - 5.7% (Validation: 99, Clipping: 40, Motion: 0)\n",
      "Trial 4118: Artifacts - 6.4% (Validation: 80, Clipping: 0, Motion: 32)\n",
      "Trial 4119: Artifacts - 6.8% (Validation: 102, Clipping: 37, Motion: 16)\n",
      "Trial 4120: Artifacts - 14.1% (Validation: 106, Clipping: 1, Motion: 140)\n"
     ]
    },
    {
     "name": "stderr",
     "output_type": "stream",
     "text": [
      "/usr/local/lib/python3.11/dist-packages/sklearn/decomposition/_fastica.py:542: FutureWarning: Starting in v1.3, whiten='unit-variance' will be used by default.\n",
      "  warnings.warn(\n"
     ]
    },
    {
     "name": "stdout",
     "output_type": "stream",
     "text": [
      "Trial 4121: Artifacts - 8.9% (Validation: 154, Clipping: 0, Motion: 2)\n",
      "Trial 4122: Artifacts - 5.8% (Validation: 0, Clipping: 0, Motion: 102)\n"
     ]
    },
    {
     "name": "stderr",
     "output_type": "stream",
     "text": [
      "/usr/local/lib/python3.11/dist-packages/sklearn/decomposition/_fastica.py:542: FutureWarning: Starting in v1.3, whiten='unit-variance' will be used by default.\n",
      "  warnings.warn(\n"
     ]
    },
    {
     "name": "stdout",
     "output_type": "stream",
     "text": [
      "Trial 4123: Artifacts - 0.0% (Validation: 0, Clipping: 0, Motion: 0)\n",
      "Trial 4124: Artifacts - 5.2% (Validation: 91, Clipping: 0, Motion: 0)\n",
      "Trial 4125: Artifacts - 0.0% (Validation: 0, Clipping: 0, Motion: 0)\n",
      "Trial 4126: Artifacts - 11.0% (Validation: 82, Clipping: 0, Motion: 110)\n"
     ]
    },
    {
     "name": "stderr",
     "output_type": "stream",
     "text": [
      "/usr/local/lib/python3.11/dist-packages/sklearn/decomposition/_fastica.py:542: FutureWarning: Starting in v1.3, whiten='unit-variance' will be used by default.\n",
      "  warnings.warn(\n"
     ]
    },
    {
     "name": "stdout",
     "output_type": "stream",
     "text": [
      "Trial 4127: Artifacts - 9.2% (Validation: 119, Clipping: 27, Motion: 42)\n",
      "Trial 4128: Artifacts - 9.4% (Validation: 164, Clipping: 73, Motion: 0)\n",
      "Trial 4129: Artifacts - 2.7% (Validation: 48, Clipping: 48, Motion: 0)\n",
      "Trial 4130: Artifacts - 2.5% (Validation: 44, Clipping: 11, Motion: 0)\n",
      "Trial 4131: Artifacts - 0.2% (Validation: 0, Clipping: 0, Motion: 4)\n",
      "Trial 4132: Artifacts - 2.1% (Validation: 0, Clipping: 0, Motion: 37)\n",
      "Trial 4133: Artifacts - 6.9% (Validation: 84, Clipping: 1, Motion: 36)\n",
      "Trial 4134: Artifacts - 0.3% (Validation: 0, Clipping: 0, Motion: 6)\n",
      "Trial 4135: Artifacts - 7.3% (Validation: 0, Clipping: 1, Motion: 126)\n",
      "Trial 4136: Artifacts - 0.0% (Validation: 0, Clipping: 0, Motion: 0)\n"
     ]
    },
    {
     "name": "stderr",
     "output_type": "stream",
     "text": [
      "/usr/local/lib/python3.11/dist-packages/sklearn/decomposition/_fastica.py:542: FutureWarning: Starting in v1.3, whiten='unit-variance' will be used by default.\n",
      "  warnings.warn(\n"
     ]
    },
    {
     "name": "stdout",
     "output_type": "stream",
     "text": [
      "Trial 4137: Artifacts - 1.5% (Validation: 0, Clipping: 0, Motion: 26)\n",
      "Trial 4138: Artifacts - 16.6% (Validation: 289, Clipping: 72, Motion: 0)\n",
      "Trial 4139: Artifacts - 0.0% (Validation: 0, Clipping: 0, Motion: 0)\n",
      "Trial 4140: Artifacts - 3.3% (Validation: 56, Clipping: 1, Motion: 0)\n",
      "Trial 4141: Artifacts - 7.1% (Validation: 124, Clipping: 52, Motion: 0)\n",
      "Trial 4142: Artifacts - 8.2% (Validation: 33, Clipping: 0, Motion: 138)\n"
     ]
    },
    {
     "name": "stderr",
     "output_type": "stream",
     "text": [
      "/usr/local/lib/python3.11/dist-packages/sklearn/decomposition/_fastica.py:542: FutureWarning: Starting in v1.3, whiten='unit-variance' will be used by default.\n",
      "  warnings.warn(\n",
      "/usr/local/lib/python3.11/dist-packages/sklearn/decomposition/_fastica.py:542: FutureWarning: Starting in v1.3, whiten='unit-variance' will be used by default.\n",
      "  warnings.warn(\n"
     ]
    },
    {
     "name": "stdout",
     "output_type": "stream",
     "text": [
      "Trial 4143: Artifacts - 2.9% (Validation: 0, Clipping: 0, Motion: 51)\n",
      "Trial 4144: Artifacts - 17.6% (Validation: 189, Clipping: 6, Motion: 119)\n"
     ]
    },
    {
     "name": "stderr",
     "output_type": "stream",
     "text": [
      "/usr/local/lib/python3.11/dist-packages/sklearn/decomposition/_fastica.py:542: FutureWarning: Starting in v1.3, whiten='unit-variance' will be used by default.\n",
      "  warnings.warn(\n"
     ]
    },
    {
     "name": "stdout",
     "output_type": "stream",
     "text": [
      "Trial 4145: Artifacts - 0.0% (Validation: 0, Clipping: 0, Motion: 0)\n",
      "Trial 4146: Artifacts - 0.0% (Validation: 0, Clipping: 0, Motion: 0)\n",
      "Trial 4147: Artifacts - 13.3% (Validation: 0, Clipping: 0, Motion: 232)\n",
      "Trial 4148: Artifacts - 0.0% (Validation: 0, Clipping: 0, Motion: 0)\n"
     ]
    },
    {
     "name": "stderr",
     "output_type": "stream",
     "text": [
      "/usr/local/lib/python3.11/dist-packages/sklearn/decomposition/_fastica.py:542: FutureWarning: Starting in v1.3, whiten='unit-variance' will be used by default.\n",
      "  warnings.warn(\n"
     ]
    },
    {
     "name": "stdout",
     "output_type": "stream",
     "text": [
      "Trial 4149: Artifacts - 0.0% (Validation: 0, Clipping: 0, Motion: 0)\n",
      "Trial 4150: Artifacts - 5.1% (Validation: 90, Clipping: 21, Motion: 0)\n",
      "Trial 4151: Artifacts - 0.0% (Validation: 0, Clipping: 0, Motion: 0)\n",
      "Trial 4152: Artifacts - 3.0% (Validation: 0, Clipping: 0, Motion: 53)\n"
     ]
    },
    {
     "name": "stderr",
     "output_type": "stream",
     "text": [
      "/usr/local/lib/python3.11/dist-packages/sklearn/decomposition/_fastica.py:542: FutureWarning: Starting in v1.3, whiten='unit-variance' will be used by default.\n",
      "  warnings.warn(\n"
     ]
    },
    {
     "name": "stdout",
     "output_type": "stream",
     "text": [
      "Trial 4153: Artifacts - 3.5% (Validation: 0, Clipping: 1, Motion: 61)\n"
     ]
    },
    {
     "name": "stderr",
     "output_type": "stream",
     "text": [
      "/usr/local/lib/python3.11/dist-packages/sklearn/decomposition/_fastica.py:542: FutureWarning: Starting in v1.3, whiten='unit-variance' will be used by default.\n",
      "  warnings.warn(\n"
     ]
    },
    {
     "name": "stdout",
     "output_type": "stream",
     "text": [
      "Trial 4154: Artifacts - 8.7% (Validation: 151, Clipping: 25, Motion: 0)\n",
      "Trial 4155: Artifacts - 0.5% (Validation: 0, Clipping: 1, Motion: 7)\n",
      "Trial 4156: Artifacts - 15.4% (Validation: 74, Clipping: 31, Motion: 196)\n",
      "Trial 4157: Artifacts - 0.0% (Validation: 0, Clipping: 0, Motion: 0)\n"
     ]
    },
    {
     "name": "stderr",
     "output_type": "stream",
     "text": [
      "/usr/local/lib/python3.11/dist-packages/sklearn/decomposition/_fastica.py:542: FutureWarning: Starting in v1.3, whiten='unit-variance' will be used by default.\n",
      "  warnings.warn(\n"
     ]
    },
    {
     "name": "stdout",
     "output_type": "stream",
     "text": [
      "Trial 4158: Artifacts - 0.1% (Validation: 0, Clipping: 1, Motion: 0)\n",
      "Trial 4159: Artifacts - 0.1% (Validation: 0, Clipping: 1, Motion: 0)\n",
      "Trial 4160: Artifacts - 0.7% (Validation: 0, Clipping: 1, Motion: 12)\n",
      "Trial 4161: Artifacts - 8.6% (Validation: 0, Clipping: 0, Motion: 150)\n"
     ]
    },
    {
     "name": "stderr",
     "output_type": "stream",
     "text": [
      "/usr/local/lib/python3.11/dist-packages/sklearn/decomposition/_fastica.py:542: FutureWarning: Starting in v1.3, whiten='unit-variance' will be used by default.\n",
      "  warnings.warn(\n"
     ]
    },
    {
     "name": "stdout",
     "output_type": "stream",
     "text": [
      "Trial 4162: Artifacts - 1.7% (Validation: 0, Clipping: 0, Motion: 30)\n",
      "Trial 4163: Artifacts - 3.7% (Validation: 0, Clipping: 0, Motion: 65)\n"
     ]
    },
    {
     "name": "stderr",
     "output_type": "stream",
     "text": [
      "/usr/local/lib/python3.11/dist-packages/sklearn/decomposition/_fastica.py:542: FutureWarning: Starting in v1.3, whiten='unit-variance' will be used by default.\n",
      "  warnings.warn(\n"
     ]
    },
    {
     "name": "stdout",
     "output_type": "stream",
     "text": [
      "Trial 4164: Artifacts - 10.1% (Validation: 0, Clipping: 0, Motion: 177)\n"
     ]
    },
    {
     "name": "stderr",
     "output_type": "stream",
     "text": [
      "/usr/local/lib/python3.11/dist-packages/sklearn/decomposition/_fastica.py:542: FutureWarning: Starting in v1.3, whiten='unit-variance' will be used by default.\n",
      "  warnings.warn(\n"
     ]
    },
    {
     "name": "stdout",
     "output_type": "stream",
     "text": [
      "Trial 4165: Artifacts - 5.2% (Validation: 0, Clipping: 0, Motion: 91)\n"
     ]
    },
    {
     "name": "stderr",
     "output_type": "stream",
     "text": [
      "/usr/local/lib/python3.11/dist-packages/sklearn/decomposition/_fastica.py:542: FutureWarning: Starting in v1.3, whiten='unit-variance' will be used by default.\n",
      "  warnings.warn(\n"
     ]
    },
    {
     "name": "stdout",
     "output_type": "stream",
     "text": [
      "Trial 4166: Artifacts - 0.0% (Validation: 0, Clipping: 0, Motion: 0)\n",
      "Trial 4167: Artifacts - 0.0% (Validation: 0, Clipping: 0, Motion: 0)\n",
      "Trial 4168: Artifacts - 0.0% (Validation: 0, Clipping: 0, Motion: 0)\n",
      "Trial 4169: Artifacts - 0.0% (Validation: 0, Clipping: 0, Motion: 0)\n",
      "Trial 4170: Artifacts - 0.0% (Validation: 0, Clipping: 0, Motion: 0)\n",
      "Trial 4171: Artifacts - 0.6% (Validation: 0, Clipping: 0, Motion: 10)\n",
      "Trial 4172: Artifacts - 0.0% (Validation: 0, Clipping: 0, Motion: 0)\n",
      "Trial 4173: Artifacts - 0.6% (Validation: 0, Clipping: 0, Motion: 11)\n",
      "Trial 4174: Artifacts - 2.2% (Validation: 0, Clipping: 0, Motion: 38)\n",
      "Trial 4175: Artifacts - 12.9% (Validation: 0, Clipping: 0, Motion: 226)\n"
     ]
    },
    {
     "name": "stderr",
     "output_type": "stream",
     "text": [
      "/usr/local/lib/python3.11/dist-packages/sklearn/decomposition/_fastica.py:542: FutureWarning: Starting in v1.3, whiten='unit-variance' will be used by default.\n",
      "  warnings.warn(\n"
     ]
    },
    {
     "name": "stdout",
     "output_type": "stream",
     "text": [
      "Trial 4176: Artifacts - 0.1% (Validation: 0, Clipping: 1, Motion: 0)\n",
      "Trial 4177: Artifacts - 0.0% (Validation: 0, Clipping: 0, Motion: 0)\n",
      "Trial 4178: Artifacts - 0.0% (Validation: 0, Clipping: 0, Motion: 0)\n",
      "Trial 4179: Artifacts - 0.0% (Validation: 0, Clipping: 0, Motion: 0)\n",
      "Trial 4180: Artifacts - 0.0% (Validation: 0, Clipping: 0, Motion: 0)\n",
      "Trial 4181: Artifacts - 10.1% (Validation: 0, Clipping: 0, Motion: 176)\n"
     ]
    },
    {
     "name": "stderr",
     "output_type": "stream",
     "text": [
      "/usr/local/lib/python3.11/dist-packages/sklearn/decomposition/_fastica.py:542: FutureWarning: Starting in v1.3, whiten='unit-variance' will be used by default.\n",
      "  warnings.warn(\n"
     ]
    },
    {
     "name": "stdout",
     "output_type": "stream",
     "text": [
      "Trial 4182: Artifacts - 0.0% (Validation: 0, Clipping: 0, Motion: 0)\n",
      "Trial 4183: Artifacts - 0.0% (Validation: 0, Clipping: 0, Motion: 0)\n",
      "Trial 4184: Artifacts - 1.0% (Validation: 0, Clipping: 0, Motion: 17)\n",
      "Trial 4185: Artifacts - 0.1% (Validation: 0, Clipping: 1, Motion: 0)\n",
      "Trial 4186: Artifacts - 1.7% (Validation: 0, Clipping: 1, Motion: 29)\n",
      "Trial 4187: Artifacts - 0.0% (Validation: 0, Clipping: 0, Motion: 0)\n",
      "Trial 4188: Artifacts - 0.0% (Validation: 0, Clipping: 0, Motion: 0)\n",
      "Trial 4189: Artifacts - 0.0% (Validation: 0, Clipping: 0, Motion: 0)\n",
      "Trial 4190: Artifacts - 1.1% (Validation: 0, Clipping: 0, Motion: 19)\n",
      "Trial 4191: Artifacts - 7.9% (Validation: 0, Clipping: 0, Motion: 139)\n"
     ]
    },
    {
     "name": "stderr",
     "output_type": "stream",
     "text": [
      "/usr/local/lib/python3.11/dist-packages/sklearn/decomposition/_fastica.py:542: FutureWarning: Starting in v1.3, whiten='unit-variance' will be used by default.\n",
      "  warnings.warn(\n"
     ]
    },
    {
     "name": "stdout",
     "output_type": "stream",
     "text": [
      "Trial 4192: Artifacts - 1.1% (Validation: 0, Clipping: 0, Motion: 19)\n",
      "Trial 4193: Artifacts - 0.0% (Validation: 0, Clipping: 0, Motion: 0)\n",
      "Trial 4194: Artifacts - 0.0% (Validation: 0, Clipping: 0, Motion: 0)\n",
      "Trial 4195: Artifacts - 0.3% (Validation: 0, Clipping: 0, Motion: 6)\n",
      "Trial 4196: Artifacts - 0.1% (Validation: 0, Clipping: 0, Motion: 2)\n",
      "Trial 4197: Artifacts - 0.0% (Validation: 0, Clipping: 0, Motion: 0)\n",
      "Trial 4198: Artifacts - 1.9% (Validation: 0, Clipping: 0, Motion: 33)\n",
      "Trial 4199: Artifacts - 0.0% (Validation: 0, Clipping: 0, Motion: 0)\n",
      "Trial 4200: Artifacts - 1.5% (Validation: 0, Clipping: 0, Motion: 27)\n",
      "Processed 4200/4800 trials\n",
      "Trial 4201: Artifacts - 5.0% (Validation: 0, Clipping: 0, Motion: 87)\n"
     ]
    },
    {
     "name": "stderr",
     "output_type": "stream",
     "text": [
      "/usr/local/lib/python3.11/dist-packages/sklearn/decomposition/_fastica.py:542: FutureWarning: Starting in v1.3, whiten='unit-variance' will be used by default.\n",
      "  warnings.warn(\n"
     ]
    },
    {
     "name": "stdout",
     "output_type": "stream",
     "text": [
      "Trial 4202: Artifacts - 1.3% (Validation: 0, Clipping: 0, Motion: 22)\n",
      "Trial 4203: Artifacts - 0.0% (Validation: 0, Clipping: 0, Motion: 0)\n",
      "Trial 4204: Artifacts - 0.0% (Validation: 0, Clipping: 0, Motion: 0)\n",
      "Trial 4205: Artifacts - 0.0% (Validation: 0, Clipping: 0, Motion: 0)\n",
      "Trial 4206: Artifacts - 1.5% (Validation: 0, Clipping: 0, Motion: 27)\n",
      "Trial 4207: Artifacts - 0.0% (Validation: 0, Clipping: 0, Motion: 0)\n",
      "Trial 4208: Artifacts - 0.5% (Validation: 0, Clipping: 0, Motion: 9)\n",
      "Trial 4209: Artifacts - 0.1% (Validation: 0, Clipping: 1, Motion: 0)\n",
      "Trial 4210: Artifacts - 0.0% (Validation: 0, Clipping: 0, Motion: 0)\n",
      "Trial 4211: Artifacts - 5.3% (Validation: 0, Clipping: 0, Motion: 92)\n"
     ]
    },
    {
     "name": "stderr",
     "output_type": "stream",
     "text": [
      "/usr/local/lib/python3.11/dist-packages/sklearn/decomposition/_fastica.py:542: FutureWarning: Starting in v1.3, whiten='unit-variance' will be used by default.\n",
      "  warnings.warn(\n"
     ]
    },
    {
     "name": "stdout",
     "output_type": "stream",
     "text": [
      "Trial 4212: Artifacts - 1.5% (Validation: 0, Clipping: 0, Motion: 27)\n",
      "Trial 4213: Artifacts - 3.7% (Validation: 0, Clipping: 0, Motion: 65)\n"
     ]
    },
    {
     "name": "stderr",
     "output_type": "stream",
     "text": [
      "/usr/local/lib/python3.11/dist-packages/sklearn/decomposition/_fastica.py:542: FutureWarning: Starting in v1.3, whiten='unit-variance' will be used by default.\n",
      "  warnings.warn(\n"
     ]
    },
    {
     "name": "stdout",
     "output_type": "stream",
     "text": [
      "Trial 4214: Artifacts - 0.0% (Validation: 0, Clipping: 0, Motion: 0)\n",
      "Trial 4215: Artifacts - 5.3% (Validation: 0, Clipping: 0, Motion: 92)\n"
     ]
    },
    {
     "name": "stderr",
     "output_type": "stream",
     "text": [
      "/usr/local/lib/python3.11/dist-packages/sklearn/decomposition/_fastica.py:542: FutureWarning: Starting in v1.3, whiten='unit-variance' will be used by default.\n",
      "  warnings.warn(\n",
      "/usr/local/lib/python3.11/dist-packages/sklearn/decomposition/_fastica.py:542: FutureWarning: Starting in v1.3, whiten='unit-variance' will be used by default.\n",
      "  warnings.warn(\n"
     ]
    },
    {
     "name": "stdout",
     "output_type": "stream",
     "text": [
      "Trial 4216: Artifacts - 3.1% (Validation: 0, Clipping: 0, Motion: 55)\n",
      "Trial 4217: Artifacts - 1.0% (Validation: 0, Clipping: 1, Motion: 16)\n",
      "Trial 4218: Artifacts - 0.1% (Validation: 0, Clipping: 1, Motion: 1)\n",
      "Trial 4219: Artifacts - 0.1% (Validation: 0, Clipping: 1, Motion: 0)\n",
      "Trial 4220: Artifacts - 0.0% (Validation: 0, Clipping: 0, Motion: 0)\n",
      "Trial 4221: Artifacts - 9.5% (Validation: 0, Clipping: 0, Motion: 166)\n",
      "Trial 4222: Artifacts - 2.0% (Validation: 0, Clipping: 0, Motion: 35)\n"
     ]
    },
    {
     "name": "stderr",
     "output_type": "stream",
     "text": [
      "/usr/local/lib/python3.11/dist-packages/sklearn/decomposition/_fastica.py:542: FutureWarning: Starting in v1.3, whiten='unit-variance' will be used by default.\n",
      "  warnings.warn(\n"
     ]
    },
    {
     "name": "stdout",
     "output_type": "stream",
     "text": [
      "Trial 4223: Artifacts - 0.0% (Validation: 0, Clipping: 0, Motion: 0)\n",
      "Trial 4224: Artifacts - 0.0% (Validation: 0, Clipping: 0, Motion: 0)\n",
      "Trial 4225: Artifacts - 0.0% (Validation: 0, Clipping: 0, Motion: 0)\n",
      "Trial 4226: Artifacts - 0.4% (Validation: 0, Clipping: 0, Motion: 7)\n",
      "Trial 4227: Artifacts - 0.1% (Validation: 0, Clipping: 1, Motion: 0)\n",
      "Trial 4228: Artifacts - 3.7% (Validation: 0, Clipping: 0, Motion: 65)\n"
     ]
    },
    {
     "name": "stderr",
     "output_type": "stream",
     "text": [
      "/usr/local/lib/python3.11/dist-packages/sklearn/decomposition/_fastica.py:542: FutureWarning: Starting in v1.3, whiten='unit-variance' will be used by default.\n",
      "  warnings.warn(\n",
      "/usr/local/lib/python3.11/dist-packages/sklearn/decomposition/_fastica.py:123: ConvergenceWarning: FastICA did not converge. Consider increasing tolerance or the maximum number of iterations.\n",
      "  warnings.warn(\n"
     ]
    },
    {
     "name": "stdout",
     "output_type": "stream",
     "text": [
      "Trial 4229: Artifacts - 1.8% (Validation: 0, Clipping: 0, Motion: 31)\n",
      "Trial 4230: Artifacts - 0.2% (Validation: 0, Clipping: 1, Motion: 2)\n",
      "Trial 4231: Artifacts - 11.5% (Validation: 0, Clipping: 0, Motion: 202)\n",
      "Trial 4232: Artifacts - 0.0% (Validation: 0, Clipping: 0, Motion: 0)\n"
     ]
    },
    {
     "name": "stderr",
     "output_type": "stream",
     "text": [
      "/usr/local/lib/python3.11/dist-packages/sklearn/decomposition/_fastica.py:542: FutureWarning: Starting in v1.3, whiten='unit-variance' will be used by default.\n",
      "  warnings.warn(\n"
     ]
    },
    {
     "name": "stdout",
     "output_type": "stream",
     "text": [
      "Trial 4233: Artifacts - 3.1% (Validation: 0, Clipping: 0, Motion: 54)\n",
      "Trial 4234: Artifacts - 5.0% (Validation: 0, Clipping: 0, Motion: 87)\n"
     ]
    },
    {
     "name": "stderr",
     "output_type": "stream",
     "text": [
      "/usr/local/lib/python3.11/dist-packages/sklearn/decomposition/_fastica.py:542: FutureWarning: Starting in v1.3, whiten='unit-variance' will be used by default.\n",
      "  warnings.warn(\n",
      "/usr/local/lib/python3.11/dist-packages/sklearn/decomposition/_fastica.py:542: FutureWarning: Starting in v1.3, whiten='unit-variance' will be used by default.\n",
      "  warnings.warn(\n"
     ]
    },
    {
     "name": "stdout",
     "output_type": "stream",
     "text": [
      "Trial 4235: Artifacts - 1.3% (Validation: 0, Clipping: 1, Motion: 22)\n",
      "Trial 4236: Artifacts - 0.0% (Validation: 0, Clipping: 0, Motion: 0)\n",
      "Trial 4237: Artifacts - 0.1% (Validation: 0, Clipping: 1, Motion: 0)\n",
      "Trial 4238: Artifacts - 0.1% (Validation: 0, Clipping: 1, Motion: 0)\n",
      "Trial 4239: Artifacts - 0.0% (Validation: 0, Clipping: 0, Motion: 0)\n",
      "Trial 4240: Artifacts - 0.1% (Validation: 0, Clipping: 1, Motion: 0)\n",
      "Trial 4241: Artifacts - 0.0% (Validation: 0, Clipping: 0, Motion: 0)\n",
      "Trial 4242: Artifacts - 0.0% (Validation: 0, Clipping: 0, Motion: 0)\n",
      "Trial 4243: Artifacts - 0.0% (Validation: 0, Clipping: 0, Motion: 0)\n",
      "Trial 4244: Artifacts - 0.0% (Validation: 0, Clipping: 0, Motion: 0)\n",
      "Trial 4245: Artifacts - 0.0% (Validation: 0, Clipping: 0, Motion: 0)\n",
      "Trial 4246: Artifacts - 0.1% (Validation: 0, Clipping: 1, Motion: 0)\n",
      "Trial 4247: Artifacts - 0.1% (Validation: 0, Clipping: 1, Motion: 0)\n",
      "Trial 4248: Artifacts - 0.0% (Validation: 0, Clipping: 0, Motion: 0)\n",
      "Trial 4249: Artifacts - 0.0% (Validation: 0, Clipping: 0, Motion: 0)\n",
      "Trial 4250: Artifacts - 0.1% (Validation: 0, Clipping: 1, Motion: 0)\n",
      "Trial 4251: Artifacts - 3.2% (Validation: 0, Clipping: 0, Motion: 56)\n",
      "Trial 4252: Artifacts - 0.0% (Validation: 0, Clipping: 0, Motion: 0)\n"
     ]
    },
    {
     "name": "stderr",
     "output_type": "stream",
     "text": [
      "/usr/local/lib/python3.11/dist-packages/sklearn/decomposition/_fastica.py:542: FutureWarning: Starting in v1.3, whiten='unit-variance' will be used by default.\n",
      "  warnings.warn(\n"
     ]
    },
    {
     "name": "stdout",
     "output_type": "stream",
     "text": [
      "Trial 4253: Artifacts - 0.0% (Validation: 0, Clipping: 0, Motion: 0)\n",
      "Trial 4254: Artifacts - 0.0% (Validation: 0, Clipping: 0, Motion: 0)\n",
      "Trial 4255: Artifacts - 0.0% (Validation: 0, Clipping: 0, Motion: 0)\n",
      "Trial 4256: Artifacts - 0.0% (Validation: 0, Clipping: 0, Motion: 0)\n",
      "Trial 4257: Artifacts - 2.3% (Validation: 0, Clipping: 0, Motion: 40)\n",
      "Trial 4258: Artifacts - 0.1% (Validation: 0, Clipping: 1, Motion: 0)\n",
      "Trial 4259: Artifacts - 0.0% (Validation: 0, Clipping: 0, Motion: 0)\n",
      "Trial 4260: Artifacts - 0.0% (Validation: 0, Clipping: 0, Motion: 0)\n",
      "Trial 4261: Artifacts - 12.3% (Validation: 0, Clipping: 0, Motion: 216)\n",
      "Trial 4262: Artifacts - 0.1% (Validation: 0, Clipping: 1, Motion: 0)\n"
     ]
    },
    {
     "name": "stderr",
     "output_type": "stream",
     "text": [
      "/usr/local/lib/python3.11/dist-packages/sklearn/decomposition/_fastica.py:542: FutureWarning: Starting in v1.3, whiten='unit-variance' will be used by default.\n",
      "  warnings.warn(\n"
     ]
    },
    {
     "name": "stdout",
     "output_type": "stream",
     "text": [
      "Trial 4263: Artifacts - 0.0% (Validation: 0, Clipping: 0, Motion: 0)\n",
      "Trial 4264: Artifacts - 0.0% (Validation: 0, Clipping: 0, Motion: 0)\n",
      "Trial 4265: Artifacts - 0.9% (Validation: 0, Clipping: 1, Motion: 15)\n",
      "Trial 4266: Artifacts - 0.0% (Validation: 0, Clipping: 0, Motion: 0)\n",
      "Trial 4267: Artifacts - 0.0% (Validation: 0, Clipping: 0, Motion: 0)\n",
      "Trial 4268: Artifacts - 0.0% (Validation: 0, Clipping: 0, Motion: 0)\n",
      "Trial 4269: Artifacts - 0.0% (Validation: 0, Clipping: 0, Motion: 0)\n",
      "Trial 4270: Artifacts - 0.0% (Validation: 0, Clipping: 0, Motion: 0)\n",
      "Trial 4271: Artifacts - 1.7% (Validation: 0, Clipping: 1, Motion: 29)\n",
      "Trial 4272: Artifacts - 0.0% (Validation: 0, Clipping: 0, Motion: 0)\n",
      "Trial 4273: Artifacts - 0.0% (Validation: 0, Clipping: 0, Motion: 0)\n",
      "Trial 4274: Artifacts - 0.0% (Validation: 0, Clipping: 0, Motion: 0)\n",
      "Trial 4275: Artifacts - 0.1% (Validation: 0, Clipping: 1, Motion: 0)\n",
      "Trial 4276: Artifacts - 0.0% (Validation: 0, Clipping: 0, Motion: 0)\n",
      "Trial 4277: Artifacts - 0.0% (Validation: 0, Clipping: 0, Motion: 0)\n",
      "Trial 4278: Artifacts - 0.0% (Validation: 0, Clipping: 0, Motion: 0)\n",
      "Trial 4279: Artifacts - 0.0% (Validation: 0, Clipping: 0, Motion: 0)\n",
      "Trial 4280: Artifacts - 0.1% (Validation: 0, Clipping: 1, Motion: 0)\n",
      "Trial 4281: Artifacts - 8.1% (Validation: 0, Clipping: 0, Motion: 141)\n",
      "Trial 4282: Artifacts - 5.4% (Validation: 0, Clipping: 0, Motion: 95)\n"
     ]
    },
    {
     "name": "stderr",
     "output_type": "stream",
     "text": [
      "/usr/local/lib/python3.11/dist-packages/sklearn/decomposition/_fastica.py:542: FutureWarning: Starting in v1.3, whiten='unit-variance' will be used by default.\n",
      "  warnings.warn(\n",
      "/usr/local/lib/python3.11/dist-packages/sklearn/decomposition/_fastica.py:542: FutureWarning: Starting in v1.3, whiten='unit-variance' will be used by default.\n",
      "  warnings.warn(\n"
     ]
    },
    {
     "name": "stdout",
     "output_type": "stream",
     "text": [
      "Trial 4283: Artifacts - 4.3% (Validation: 0, Clipping: 0, Motion: 75)\n",
      "Trial 4284: Artifacts - 0.0% (Validation: 0, Clipping: 0, Motion: 0)\n"
     ]
    },
    {
     "name": "stderr",
     "output_type": "stream",
     "text": [
      "/usr/local/lib/python3.11/dist-packages/sklearn/decomposition/_fastica.py:542: FutureWarning: Starting in v1.3, whiten='unit-variance' will be used by default.\n",
      "  warnings.warn(\n"
     ]
    },
    {
     "name": "stdout",
     "output_type": "stream",
     "text": [
      "Trial 4285: Artifacts - 0.0% (Validation: 0, Clipping: 0, Motion: 0)\n",
      "Trial 4286: Artifacts - 1.2% (Validation: 0, Clipping: 1, Motion: 20)\n",
      "Trial 4287: Artifacts - 0.3% (Validation: 0, Clipping: 0, Motion: 5)\n",
      "Trial 4288: Artifacts - 0.0% (Validation: 0, Clipping: 0, Motion: 0)\n",
      "Trial 4289: Artifacts - 0.0% (Validation: 0, Clipping: 0, Motion: 0)\n",
      "Trial 4290: Artifacts - 0.0% (Validation: 0, Clipping: 0, Motion: 0)\n",
      "Trial 4291: Artifacts - 6.9% (Validation: 0, Clipping: 0, Motion: 120)\n",
      "Trial 4292: Artifacts - 4.4% (Validation: 0, Clipping: 0, Motion: 77)\n"
     ]
    },
    {
     "name": "stderr",
     "output_type": "stream",
     "text": [
      "/usr/local/lib/python3.11/dist-packages/sklearn/decomposition/_fastica.py:542: FutureWarning: Starting in v1.3, whiten='unit-variance' will be used by default.\n",
      "  warnings.warn(\n",
      "/usr/local/lib/python3.11/dist-packages/sklearn/decomposition/_fastica.py:542: FutureWarning: Starting in v1.3, whiten='unit-variance' will be used by default.\n",
      "  warnings.warn(\n"
     ]
    },
    {
     "name": "stdout",
     "output_type": "stream",
     "text": [
      "Trial 4293: Artifacts - 0.3% (Validation: 0, Clipping: 0, Motion: 6)\n",
      "Trial 4294: Artifacts - 0.0% (Validation: 0, Clipping: 0, Motion: 0)\n",
      "Trial 4295: Artifacts - 0.0% (Validation: 0, Clipping: 0, Motion: 0)\n",
      "Trial 4296: Artifacts - 0.0% (Validation: 0, Clipping: 0, Motion: 0)\n",
      "Trial 4297: Artifacts - 0.1% (Validation: 0, Clipping: 1, Motion: 0)\n",
      "Trial 4298: Artifacts - 0.0% (Validation: 0, Clipping: 0, Motion: 0)\n",
      "Trial 4299: Artifacts - 0.0% (Validation: 0, Clipping: 0, Motion: 0)\n",
      "Trial 4300: Artifacts - 3.6% (Validation: 0, Clipping: 1, Motion: 62)\n",
      "Processed 4300/4800 trials\n"
     ]
    },
    {
     "name": "stderr",
     "output_type": "stream",
     "text": [
      "/usr/local/lib/python3.11/dist-packages/sklearn/decomposition/_fastica.py:542: FutureWarning: Starting in v1.3, whiten='unit-variance' will be used by default.\n",
      "  warnings.warn(\n"
     ]
    },
    {
     "name": "stdout",
     "output_type": "stream",
     "text": [
      "Trial 4301: Artifacts - 10.9% (Validation: 0, Clipping: 0, Motion: 190)\n",
      "Trial 4302: Artifacts - 0.1% (Validation: 0, Clipping: 1, Motion: 0)\n"
     ]
    },
    {
     "name": "stderr",
     "output_type": "stream",
     "text": [
      "/usr/local/lib/python3.11/dist-packages/sklearn/decomposition/_fastica.py:542: FutureWarning: Starting in v1.3, whiten='unit-variance' will be used by default.\n",
      "  warnings.warn(\n"
     ]
    },
    {
     "name": "stdout",
     "output_type": "stream",
     "text": [
      "Trial 4303: Artifacts - 0.0% (Validation: 0, Clipping: 0, Motion: 0)\n",
      "Trial 4304: Artifacts - 0.0% (Validation: 0, Clipping: 0, Motion: 0)\n",
      "Trial 4305: Artifacts - 0.0% (Validation: 0, Clipping: 0, Motion: 0)\n",
      "Trial 4306: Artifacts - 0.0% (Validation: 0, Clipping: 0, Motion: 0)\n",
      "Trial 4307: Artifacts - 0.0% (Validation: 0, Clipping: 0, Motion: 0)\n",
      "Trial 4308: Artifacts - 0.0% (Validation: 0, Clipping: 0, Motion: 0)\n",
      "Trial 4309: Artifacts - 0.0% (Validation: 0, Clipping: 0, Motion: 0)\n",
      "Trial 4310: Artifacts - 0.0% (Validation: 0, Clipping: 0, Motion: 0)\n",
      "Trial 4311: Artifacts - 8.5% (Validation: 0, Clipping: 0, Motion: 149)\n"
     ]
    },
    {
     "name": "stderr",
     "output_type": "stream",
     "text": [
      "/usr/local/lib/python3.11/dist-packages/sklearn/decomposition/_fastica.py:542: FutureWarning: Starting in v1.3, whiten='unit-variance' will be used by default.\n",
      "  warnings.warn(\n"
     ]
    },
    {
     "name": "stdout",
     "output_type": "stream",
     "text": [
      "Trial 4312: Artifacts - 0.1% (Validation: 0, Clipping: 1, Motion: 0)\n",
      "Trial 4313: Artifacts - 0.0% (Validation: 0, Clipping: 0, Motion: 0)\n",
      "Trial 4314: Artifacts - 0.9% (Validation: 0, Clipping: 0, Motion: 15)\n",
      "Trial 4315: Artifacts - 0.1% (Validation: 0, Clipping: 1, Motion: 0)\n",
      "Trial 4316: Artifacts - 0.0% (Validation: 0, Clipping: 0, Motion: 0)\n",
      "Trial 4317: Artifacts - 0.0% (Validation: 0, Clipping: 0, Motion: 0)\n",
      "Trial 4318: Artifacts - 0.0% (Validation: 0, Clipping: 0, Motion: 0)\n",
      "Trial 4319: Artifacts - 3.1% (Validation: 0, Clipping: 0, Motion: 55)\n"
     ]
    },
    {
     "name": "stderr",
     "output_type": "stream",
     "text": [
      "/usr/local/lib/python3.11/dist-packages/sklearn/decomposition/_fastica.py:542: FutureWarning: Starting in v1.3, whiten='unit-variance' will be used by default.\n",
      "  warnings.warn(\n"
     ]
    },
    {
     "name": "stdout",
     "output_type": "stream",
     "text": [
      "Trial 4320: Artifacts - 0.0% (Validation: 0, Clipping: 0, Motion: 0)\n",
      "Trial 4321: Artifacts - 0.1% (Validation: 0, Clipping: 1, Motion: 0)\n",
      "Trial 4322: Artifacts - 0.6% (Validation: 0, Clipping: 1, Motion: 9)\n",
      "Trial 4323: Artifacts - 1.9% (Validation: 0, Clipping: 1, Motion: 33)\n",
      "Trial 4324: Artifacts - 0.1% (Validation: 1, Clipping: 1, Motion: 0)\n",
      "Trial 4325: Artifacts - 2.3% (Validation: 0, Clipping: 1, Motion: 40)\n",
      "Trial 4326: Artifacts - 0.3% (Validation: 0, Clipping: 0, Motion: 5)\n",
      "Trial 4327: Artifacts - 2.4% (Validation: 0, Clipping: 0, Motion: 42)\n",
      "Trial 4328: Artifacts - 4.5% (Validation: 2, Clipping: 0, Motion: 77)\n",
      "Trial 4329: Artifacts - 0.0% (Validation: 0, Clipping: 0, Motion: 0)\n"
     ]
    },
    {
     "name": "stderr",
     "output_type": "stream",
     "text": [
      "/usr/local/lib/python3.11/dist-packages/sklearn/decomposition/_fastica.py:542: FutureWarning: Starting in v1.3, whiten='unit-variance' will be used by default.\n",
      "  warnings.warn(\n"
     ]
    },
    {
     "name": "stdout",
     "output_type": "stream",
     "text": [
      "Trial 4330: Artifacts - 0.1% (Validation: 1, Clipping: 0, Motion: 0)\n",
      "Trial 4331: Artifacts - 0.5% (Validation: 7, Clipping: 1, Motion: 0)\n",
      "Trial 4332: Artifacts - 0.0% (Validation: 0, Clipping: 0, Motion: 0)\n",
      "Trial 4333: Artifacts - 0.0% (Validation: 0, Clipping: 0, Motion: 0)\n",
      "Trial 4334: Artifacts - 11.0% (Validation: 1, Clipping: 0, Motion: 191)\n"
     ]
    },
    {
     "name": "stderr",
     "output_type": "stream",
     "text": [
      "/usr/local/lib/python3.11/dist-packages/sklearn/decomposition/_fastica.py:542: FutureWarning: Starting in v1.3, whiten='unit-variance' will be used by default.\n",
      "  warnings.warn(\n"
     ]
    },
    {
     "name": "stdout",
     "output_type": "stream",
     "text": [
      "Trial 4335: Artifacts - 0.0% (Validation: 0, Clipping: 0, Motion: 0)\n",
      "Trial 4336: Artifacts - 0.1% (Validation: 1, Clipping: 0, Motion: 0)\n",
      "Trial 4337: Artifacts - 0.1% (Validation: 0, Clipping: 1, Motion: 0)\n",
      "Trial 4338: Artifacts - 0.0% (Validation: 0, Clipping: 0, Motion: 0)\n",
      "Trial 4339: Artifacts - 0.0% (Validation: 0, Clipping: 0, Motion: 0)\n",
      "Trial 4340: Artifacts - 0.0% (Validation: 0, Clipping: 0, Motion: 0)\n",
      "Trial 4341: Artifacts - 0.0% (Validation: 0, Clipping: 0, Motion: 0)\n",
      "Trial 4342: Artifacts - 0.3% (Validation: 5, Clipping: 0, Motion: 0)\n",
      "Trial 4343: Artifacts - 0.0% (Validation: 0, Clipping: 0, Motion: 0)\n",
      "Trial 4344: Artifacts - 0.2% (Validation: 3, Clipping: 0, Motion: 0)\n",
      "Trial 4345: Artifacts - 0.0% (Validation: 0, Clipping: 0, Motion: 0)\n",
      "Trial 4346: Artifacts - 0.4% (Validation: 0, Clipping: 0, Motion: 7)\n",
      "Trial 4347: Artifacts - 2.1% (Validation: 18, Clipping: 0, Motion: 18)\n",
      "Trial 4348: Artifacts - 0.1% (Validation: 0, Clipping: 1, Motion: 0)\n",
      "Trial 4349: Artifacts - 0.0% (Validation: 0, Clipping: 0, Motion: 0)\n",
      "Trial 4350: Artifacts - 3.4% (Validation: 4, Clipping: 0, Motion: 55)\n"
     ]
    },
    {
     "name": "stderr",
     "output_type": "stream",
     "text": [
      "/usr/local/lib/python3.11/dist-packages/sklearn/decomposition/_fastica.py:542: FutureWarning: Starting in v1.3, whiten='unit-variance' will be used by default.\n",
      "  warnings.warn(\n"
     ]
    },
    {
     "name": "stdout",
     "output_type": "stream",
     "text": [
      "Trial 4351: Artifacts - 3.4% (Validation: 0, Clipping: 0, Motion: 59)\n"
     ]
    },
    {
     "name": "stderr",
     "output_type": "stream",
     "text": [
      "/usr/local/lib/python3.11/dist-packages/sklearn/decomposition/_fastica.py:542: FutureWarning: Starting in v1.3, whiten='unit-variance' will be used by default.\n",
      "  warnings.warn(\n"
     ]
    },
    {
     "name": "stdout",
     "output_type": "stream",
     "text": [
      "Trial 4352: Artifacts - 6.5% (Validation: 1, Clipping: 0, Motion: 113)\n",
      "Trial 4353: Artifacts - 0.1% (Validation: 0, Clipping: 1, Motion: 0)\n"
     ]
    },
    {
     "name": "stderr",
     "output_type": "stream",
     "text": [
      "/usr/local/lib/python3.11/dist-packages/sklearn/decomposition/_fastica.py:542: FutureWarning: Starting in v1.3, whiten='unit-variance' will be used by default.\n",
      "  warnings.warn(\n"
     ]
    },
    {
     "name": "stdout",
     "output_type": "stream",
     "text": [
      "Trial 4354: Artifacts - 0.1% (Validation: 0, Clipping: 1, Motion: 0)\n",
      "Trial 4355: Artifacts - 0.0% (Validation: 0, Clipping: 0, Motion: 0)\n",
      "Trial 4356: Artifacts - 2.3% (Validation: 0, Clipping: 1, Motion: 40)\n",
      "Trial 4357: Artifacts - 0.1% (Validation: 0, Clipping: 1, Motion: 0)\n",
      "Trial 4358: Artifacts - 0.0% (Validation: 0, Clipping: 0, Motion: 0)\n",
      "Trial 4359: Artifacts - 2.7% (Validation: 1, Clipping: 0, Motion: 46)\n",
      "Trial 4360: Artifacts - 0.0% (Validation: 0, Clipping: 0, Motion: 0)\n",
      "Trial 4361: Artifacts - 0.1% (Validation: 1, Clipping: 0, Motion: 0)\n",
      "Trial 4362: Artifacts - 1.9% (Validation: 0, Clipping: 0, Motion: 33)\n",
      "Trial 4363: Artifacts - 0.0% (Validation: 0, Clipping: 0, Motion: 0)\n",
      "Trial 4364: Artifacts - 0.0% (Validation: 0, Clipping: 0, Motion: 0)\n",
      "Trial 4365: Artifacts - 0.0% (Validation: 0, Clipping: 0, Motion: 0)\n",
      "Trial 4366: Artifacts - 0.1% (Validation: 0, Clipping: 1, Motion: 0)\n",
      "Trial 4367: Artifacts - 0.6% (Validation: 5, Clipping: 0, Motion: 6)\n",
      "Trial 4368: Artifacts - 0.0% (Validation: 0, Clipping: 0, Motion: 0)\n",
      "Trial 4369: Artifacts - 0.0% (Validation: 0, Clipping: 0, Motion: 0)\n",
      "Trial 4370: Artifacts - 0.0% (Validation: 0, Clipping: 0, Motion: 0)\n",
      "Trial 4371: Artifacts - 10.9% (Validation: 0, Clipping: 0, Motion: 191)\n"
     ]
    },
    {
     "name": "stderr",
     "output_type": "stream",
     "text": [
      "/usr/local/lib/python3.11/dist-packages/sklearn/decomposition/_fastica.py:542: FutureWarning: Starting in v1.3, whiten='unit-variance' will be used by default.\n",
      "  warnings.warn(\n"
     ]
    },
    {
     "name": "stdout",
     "output_type": "stream",
     "text": [
      "Trial 4372: Artifacts - 0.1% (Validation: 0, Clipping: 1, Motion: 0)\n",
      "Trial 4373: Artifacts - 0.0% (Validation: 0, Clipping: 0, Motion: 0)\n",
      "Trial 4374: Artifacts - 0.1% (Validation: 0, Clipping: 1, Motion: 0)\n",
      "Trial 4375: Artifacts - 0.0% (Validation: 0, Clipping: 0, Motion: 0)\n",
      "Trial 4376: Artifacts - 0.0% (Validation: 0, Clipping: 0, Motion: 0)\n",
      "Trial 4377: Artifacts - 0.0% (Validation: 0, Clipping: 0, Motion: 0)\n",
      "Trial 4378: Artifacts - 0.0% (Validation: 0, Clipping: 0, Motion: 0)\n",
      "Trial 4379: Artifacts - 0.1% (Validation: 1, Clipping: 1, Motion: 0)\n",
      "Trial 4380: Artifacts - 0.2% (Validation: 4, Clipping: 0, Motion: 0)\n",
      "Trial 4381: Artifacts - 0.0% (Validation: 0, Clipping: 0, Motion: 0)\n",
      "Trial 4382: Artifacts - 0.0% (Validation: 0, Clipping: 0, Motion: 0)\n",
      "Trial 4383: Artifacts - 0.0% (Validation: 0, Clipping: 0, Motion: 0)\n",
      "Trial 4384: Artifacts - 0.0% (Validation: 0, Clipping: 0, Motion: 0)\n",
      "Trial 4385: Artifacts - 0.1% (Validation: 1, Clipping: 0, Motion: 0)\n",
      "Trial 4386: Artifacts - 0.0% (Validation: 0, Clipping: 0, Motion: 0)\n",
      "Trial 4387: Artifacts - 0.1% (Validation: 2, Clipping: 0, Motion: 0)\n",
      "Trial 4388: Artifacts - 0.2% (Validation: 4, Clipping: 0, Motion: 0)\n",
      "Trial 4389: Artifacts - 0.0% (Validation: 0, Clipping: 0, Motion: 0)\n",
      "Trial 4390: Artifacts - 0.0% (Validation: 0, Clipping: 0, Motion: 0)\n",
      "Trial 4391: Artifacts - 1.1% (Validation: 5, Clipping: 2, Motion: 13)\n",
      "Trial 4392: Artifacts - 11.7% (Validation: 0, Clipping: 1, Motion: 204)\n",
      "Trial 4393: Artifacts - 0.1% (Validation: 0, Clipping: 1, Motion: 0)\n"
     ]
    },
    {
     "name": "stderr",
     "output_type": "stream",
     "text": [
      "/usr/local/lib/python3.11/dist-packages/sklearn/decomposition/_fastica.py:542: FutureWarning: Starting in v1.3, whiten='unit-variance' will be used by default.\n",
      "  warnings.warn(\n"
     ]
    },
    {
     "name": "stdout",
     "output_type": "stream",
     "text": [
      "Trial 4394: Artifacts - 2.5% (Validation: 44, Clipping: 11, Motion: 0)\n",
      "Trial 4395: Artifacts - 0.2% (Validation: 4, Clipping: 0, Motion: 0)\n",
      "Trial 4396: Artifacts - 0.2% (Validation: 0, Clipping: 0, Motion: 4)\n",
      "Trial 4397: Artifacts - 0.2% (Validation: 2, Clipping: 1, Motion: 0)\n",
      "Trial 4398: Artifacts - 0.1% (Validation: 0, Clipping: 1, Motion: 0)\n",
      "Trial 4399: Artifacts - 0.1% (Validation: 2, Clipping: 0, Motion: 0)\n",
      "Trial 4400: Artifacts - 0.2% (Validation: 2, Clipping: 1, Motion: 0)\n",
      "Processed 4400/4800 trials\n",
      "Trial 4401: Artifacts - 9.6% (Validation: 0, Clipping: 0, Motion: 168)\n"
     ]
    },
    {
     "name": "stderr",
     "output_type": "stream",
     "text": [
      "/usr/local/lib/python3.11/dist-packages/sklearn/decomposition/_fastica.py:542: FutureWarning: Starting in v1.3, whiten='unit-variance' will be used by default.\n",
      "  warnings.warn(\n"
     ]
    },
    {
     "name": "stdout",
     "output_type": "stream",
     "text": [
      "Trial 4402: Artifacts - 6.6% (Validation: 0, Clipping: 0, Motion: 116)\n",
      "Trial 4403: Artifacts - 0.0% (Validation: 0, Clipping: 0, Motion: 0)\n"
     ]
    },
    {
     "name": "stderr",
     "output_type": "stream",
     "text": [
      "/usr/local/lib/python3.11/dist-packages/sklearn/decomposition/_fastica.py:542: FutureWarning: Starting in v1.3, whiten='unit-variance' will be used by default.\n",
      "  warnings.warn(\n"
     ]
    },
    {
     "name": "stdout",
     "output_type": "stream",
     "text": [
      "Trial 4404: Artifacts - 3.8% (Validation: 0, Clipping: 0, Motion: 66)\n"
     ]
    },
    {
     "name": "stderr",
     "output_type": "stream",
     "text": [
      "/usr/local/lib/python3.11/dist-packages/sklearn/decomposition/_fastica.py:542: FutureWarning: Starting in v1.3, whiten='unit-variance' will be used by default.\n",
      "  warnings.warn(\n"
     ]
    },
    {
     "name": "stdout",
     "output_type": "stream",
     "text": [
      "Trial 4405: Artifacts - 0.1% (Validation: 0, Clipping: 1, Motion: 0)\n",
      "Trial 4406: Artifacts - 0.0% (Validation: 0, Clipping: 0, Motion: 0)\n",
      "Trial 4407: Artifacts - 0.0% (Validation: 0, Clipping: 0, Motion: 0)\n",
      "Trial 4408: Artifacts - 0.0% (Validation: 0, Clipping: 0, Motion: 0)\n",
      "Trial 4409: Artifacts - 4.0% (Validation: 0, Clipping: 0, Motion: 70)\n",
      "Trial 4410: Artifacts - 2.2% (Validation: 0, Clipping: 0, Motion: 38)\n"
     ]
    },
    {
     "name": "stderr",
     "output_type": "stream",
     "text": [
      "/usr/local/lib/python3.11/dist-packages/sklearn/decomposition/_fastica.py:542: FutureWarning: Starting in v1.3, whiten='unit-variance' will be used by default.\n",
      "  warnings.warn(\n"
     ]
    },
    {
     "name": "stdout",
     "output_type": "stream",
     "text": [
      "Trial 4411: Artifacts - 8.3% (Validation: 0, Clipping: 1, Motion: 144)\n",
      "Trial 4412: Artifacts - 0.0% (Validation: 0, Clipping: 0, Motion: 0)\n"
     ]
    },
    {
     "name": "stderr",
     "output_type": "stream",
     "text": [
      "/usr/local/lib/python3.11/dist-packages/sklearn/decomposition/_fastica.py:542: FutureWarning: Starting in v1.3, whiten='unit-variance' will be used by default.\n",
      "  warnings.warn(\n"
     ]
    },
    {
     "name": "stdout",
     "output_type": "stream",
     "text": [
      "Trial 4413: Artifacts - 0.0% (Validation: 0, Clipping: 0, Motion: 0)\n",
      "Trial 4414: Artifacts - 0.1% (Validation: 0, Clipping: 1, Motion: 0)\n",
      "Trial 4415: Artifacts - 1.9% (Validation: 0, Clipping: 0, Motion: 33)\n",
      "Trial 4416: Artifacts - 7.0% (Validation: 0, Clipping: 0, Motion: 123)\n"
     ]
    },
    {
     "name": "stderr",
     "output_type": "stream",
     "text": [
      "/usr/local/lib/python3.11/dist-packages/sklearn/decomposition/_fastica.py:542: FutureWarning: Starting in v1.3, whiten='unit-variance' will be used by default.\n",
      "  warnings.warn(\n"
     ]
    },
    {
     "name": "stdout",
     "output_type": "stream",
     "text": [
      "Trial 4417: Artifacts - 0.1% (Validation: 0, Clipping: 1, Motion: 0)\n",
      "Trial 4418: Artifacts - 0.0% (Validation: 0, Clipping: 0, Motion: 0)\n",
      "Trial 4419: Artifacts - 0.0% (Validation: 0, Clipping: 0, Motion: 0)\n",
      "Trial 4420: Artifacts - 0.1% (Validation: 0, Clipping: 1, Motion: 0)\n",
      "Trial 4421: Artifacts - 9.0% (Validation: 90, Clipping: 30, Motion: 67)\n",
      "Trial 4422: Artifacts - 0.0% (Validation: 0, Clipping: 0, Motion: 0)\n"
     ]
    },
    {
     "name": "stderr",
     "output_type": "stream",
     "text": [
      "/usr/local/lib/python3.11/dist-packages/sklearn/decomposition/_fastica.py:542: FutureWarning: Starting in v1.3, whiten='unit-variance' will be used by default.\n",
      "  warnings.warn(\n"
     ]
    },
    {
     "name": "stdout",
     "output_type": "stream",
     "text": [
      "Trial 4423: Artifacts - 0.0% (Validation: 0, Clipping: 0, Motion: 0)\n",
      "Trial 4424: Artifacts - 0.0% (Validation: 0, Clipping: 0, Motion: 0)\n",
      "Trial 4425: Artifacts - 0.0% (Validation: 0, Clipping: 0, Motion: 0)\n",
      "Trial 4426: Artifacts - 0.1% (Validation: 0, Clipping: 1, Motion: 0)\n",
      "Trial 4427: Artifacts - 0.0% (Validation: 0, Clipping: 0, Motion: 0)\n",
      "Trial 4428: Artifacts - 0.1% (Validation: 0, Clipping: 1, Motion: 0)\n",
      "Trial 4429: Artifacts - 0.0% (Validation: 0, Clipping: 0, Motion: 0)\n",
      "Trial 4430: Artifacts - 0.0% (Validation: 0, Clipping: 0, Motion: 0)\n",
      "Trial 4431: Artifacts - 11.1% (Validation: 0, Clipping: 1, Motion: 194)\n"
     ]
    },
    {
     "name": "stderr",
     "output_type": "stream",
     "text": [
      "/usr/local/lib/python3.11/dist-packages/sklearn/decomposition/_fastica.py:542: FutureWarning: Starting in v1.3, whiten='unit-variance' will be used by default.\n",
      "  warnings.warn(\n"
     ]
    },
    {
     "name": "stdout",
     "output_type": "stream",
     "text": [
      "Trial 4432: Artifacts - 9.5% (Validation: 0, Clipping: 0, Motion: 166)\n"
     ]
    },
    {
     "name": "stderr",
     "output_type": "stream",
     "text": [
      "/usr/local/lib/python3.11/dist-packages/sklearn/decomposition/_fastica.py:542: FutureWarning: Starting in v1.3, whiten='unit-variance' will be used by default.\n",
      "  warnings.warn(\n"
     ]
    },
    {
     "name": "stdout",
     "output_type": "stream",
     "text": [
      "Trial 4433: Artifacts - 0.0% (Validation: 0, Clipping: 0, Motion: 0)\n",
      "Trial 4434: Artifacts - 0.0% (Validation: 0, Clipping: 0, Motion: 0)\n",
      "Trial 4435: Artifacts - 0.0% (Validation: 0, Clipping: 0, Motion: 0)\n",
      "Trial 4436: Artifacts - 2.6% (Validation: 0, Clipping: 1, Motion: 45)\n",
      "Trial 4437: Artifacts - 2.1% (Validation: 0, Clipping: 0, Motion: 36)\n",
      "Trial 4438: Artifacts - 4.6% (Validation: 0, Clipping: 0, Motion: 81)\n"
     ]
    },
    {
     "name": "stderr",
     "output_type": "stream",
     "text": [
      "/usr/local/lib/python3.11/dist-packages/sklearn/decomposition/_fastica.py:542: FutureWarning: Starting in v1.3, whiten='unit-variance' will be used by default.\n",
      "  warnings.warn(\n"
     ]
    },
    {
     "name": "stdout",
     "output_type": "stream",
     "text": [
      "Trial 4439: Artifacts - 0.0% (Validation: 0, Clipping: 0, Motion: 0)\n",
      "Trial 4440: Artifacts - 0.0% (Validation: 0, Clipping: 0, Motion: 0)\n",
      "Trial 4441: Artifacts - 4.3% (Validation: 0, Clipping: 0, Motion: 75)\n",
      "Trial 4442: Artifacts - 2.5% (Validation: 0, Clipping: 0, Motion: 43)\n"
     ]
    },
    {
     "name": "stderr",
     "output_type": "stream",
     "text": [
      "/usr/local/lib/python3.11/dist-packages/sklearn/decomposition/_fastica.py:542: FutureWarning: Starting in v1.3, whiten='unit-variance' will be used by default.\n",
      "  warnings.warn(\n"
     ]
    },
    {
     "name": "stdout",
     "output_type": "stream",
     "text": [
      "Trial 4443: Artifacts - 0.0% (Validation: 0, Clipping: 0, Motion: 0)\n",
      "Trial 4444: Artifacts - 0.1% (Validation: 0, Clipping: 1, Motion: 0)\n",
      "Trial 4445: Artifacts - 0.0% (Validation: 0, Clipping: 0, Motion: 0)\n",
      "Trial 4446: Artifacts - 0.0% (Validation: 0, Clipping: 0, Motion: 0)\n",
      "Trial 4447: Artifacts - 0.1% (Validation: 0, Clipping: 1, Motion: 0)\n",
      "Trial 4448: Artifacts - 5.5% (Validation: 0, Clipping: 0, Motion: 96)\n"
     ]
    },
    {
     "name": "stderr",
     "output_type": "stream",
     "text": [
      "/usr/local/lib/python3.11/dist-packages/sklearn/decomposition/_fastica.py:542: FutureWarning: Starting in v1.3, whiten='unit-variance' will be used by default.\n",
      "  warnings.warn(\n"
     ]
    },
    {
     "name": "stdout",
     "output_type": "stream",
     "text": [
      "Trial 4449: Artifacts - 0.0% (Validation: 0, Clipping: 0, Motion: 0)\n",
      "Trial 4450: Artifacts - 7.1% (Validation: 0, Clipping: 0, Motion: 124)\n"
     ]
    },
    {
     "name": "stderr",
     "output_type": "stream",
     "text": [
      "/usr/local/lib/python3.11/dist-packages/sklearn/decomposition/_fastica.py:542: FutureWarning: Starting in v1.3, whiten='unit-variance' will be used by default.\n",
      "  warnings.warn(\n"
     ]
    },
    {
     "name": "stdout",
     "output_type": "stream",
     "text": [
      "Trial 4451: Artifacts - 13.5% (Validation: 0, Clipping: 1, Motion: 236)\n"
     ]
    },
    {
     "name": "stderr",
     "output_type": "stream",
     "text": [
      "/usr/local/lib/python3.11/dist-packages/sklearn/decomposition/_fastica.py:542: FutureWarning: Starting in v1.3, whiten='unit-variance' will be used by default.\n",
      "  warnings.warn(\n"
     ]
    },
    {
     "name": "stdout",
     "output_type": "stream",
     "text": [
      "Trial 4452: Artifacts - 0.0% (Validation: 0, Clipping: 0, Motion: 0)\n",
      "Trial 4453: Artifacts - 0.1% (Validation: 0, Clipping: 1, Motion: 0)\n",
      "Trial 4454: Artifacts - 0.0% (Validation: 0, Clipping: 0, Motion: 0)\n",
      "Trial 4455: Artifacts - 0.0% (Validation: 0, Clipping: 0, Motion: 0)\n",
      "Trial 4456: Artifacts - 5.8% (Validation: 0, Clipping: 0, Motion: 102)\n"
     ]
    },
    {
     "name": "stderr",
     "output_type": "stream",
     "text": [
      "/usr/local/lib/python3.11/dist-packages/sklearn/decomposition/_fastica.py:542: FutureWarning: Starting in v1.3, whiten='unit-variance' will be used by default.\n",
      "  warnings.warn(\n"
     ]
    },
    {
     "name": "stdout",
     "output_type": "stream",
     "text": [
      "Trial 4457: Artifacts - 0.0% (Validation: 0, Clipping: 0, Motion: 0)\n",
      "Trial 4458: Artifacts - 0.0% (Validation: 0, Clipping: 0, Motion: 0)\n",
      "Trial 4459: Artifacts - 0.0% (Validation: 0, Clipping: 0, Motion: 0)\n",
      "Trial 4460: Artifacts - 0.0% (Validation: 0, Clipping: 0, Motion: 0)\n",
      "Trial 4461: Artifacts - 8.1% (Validation: 0, Clipping: 0, Motion: 142)\n",
      "Trial 4462: Artifacts - 3.8% (Validation: 0, Clipping: 0, Motion: 66)\n"
     ]
    },
    {
     "name": "stderr",
     "output_type": "stream",
     "text": [
      "/usr/local/lib/python3.11/dist-packages/sklearn/decomposition/_fastica.py:542: FutureWarning: Starting in v1.3, whiten='unit-variance' will be used by default.\n",
      "  warnings.warn(\n",
      "/usr/local/lib/python3.11/dist-packages/sklearn/decomposition/_fastica.py:542: FutureWarning: Starting in v1.3, whiten='unit-variance' will be used by default.\n",
      "  warnings.warn(\n"
     ]
    },
    {
     "name": "stdout",
     "output_type": "stream",
     "text": [
      "Trial 4463: Artifacts - 0.0% (Validation: 0, Clipping: 0, Motion: 0)\n",
      "Trial 4464: Artifacts - 0.0% (Validation: 0, Clipping: 0, Motion: 0)\n",
      "Trial 4465: Artifacts - 0.1% (Validation: 0, Clipping: 1, Motion: 0)\n",
      "Trial 4466: Artifacts - 3.9% (Validation: 0, Clipping: 1, Motion: 68)\n"
     ]
    },
    {
     "name": "stderr",
     "output_type": "stream",
     "text": [
      "/usr/local/lib/python3.11/dist-packages/sklearn/decomposition/_fastica.py:542: FutureWarning: Starting in v1.3, whiten='unit-variance' will be used by default.\n",
      "  warnings.warn(\n"
     ]
    },
    {
     "name": "stdout",
     "output_type": "stream",
     "text": [
      "Trial 4467: Artifacts - 0.0% (Validation: 0, Clipping: 0, Motion: 0)\n",
      "Trial 4468: Artifacts - 2.5% (Validation: 0, Clipping: 0, Motion: 43)\n",
      "Trial 4469: Artifacts - 0.0% (Validation: 0, Clipping: 0, Motion: 0)\n",
      "Trial 4470: Artifacts - 0.0% (Validation: 0, Clipping: 0, Motion: 0)\n",
      "Trial 4471: Artifacts - 7.9% (Validation: 0, Clipping: 0, Motion: 139)\n",
      "Trial 4472: Artifacts - 0.7% (Validation: 0, Clipping: 0, Motion: 13)\n"
     ]
    },
    {
     "name": "stderr",
     "output_type": "stream",
     "text": [
      "/usr/local/lib/python3.11/dist-packages/sklearn/decomposition/_fastica.py:542: FutureWarning: Starting in v1.3, whiten='unit-variance' will be used by default.\n",
      "  warnings.warn(\n"
     ]
    },
    {
     "name": "stdout",
     "output_type": "stream",
     "text": [
      "Trial 4473: Artifacts - 0.1% (Validation: 0, Clipping: 1, Motion: 0)\n",
      "Trial 4474: Artifacts - 0.0% (Validation: 0, Clipping: 0, Motion: 0)\n",
      "Trial 4475: Artifacts - 0.0% (Validation: 0, Clipping: 0, Motion: 0)\n",
      "Trial 4476: Artifacts - 0.0% (Validation: 0, Clipping: 0, Motion: 0)\n",
      "Trial 4477: Artifacts - 3.5% (Validation: 0, Clipping: 0, Motion: 62)\n",
      "Trial 4478: Artifacts - 5.2% (Validation: 0, Clipping: 0, Motion: 91)\n"
     ]
    },
    {
     "name": "stderr",
     "output_type": "stream",
     "text": [
      "/usr/local/lib/python3.11/dist-packages/sklearn/decomposition/_fastica.py:542: FutureWarning: Starting in v1.3, whiten='unit-variance' will be used by default.\n",
      "  warnings.warn(\n",
      "/usr/local/lib/python3.11/dist-packages/sklearn/decomposition/_fastica.py:542: FutureWarning: Starting in v1.3, whiten='unit-variance' will be used by default.\n",
      "  warnings.warn(\n"
     ]
    },
    {
     "name": "stdout",
     "output_type": "stream",
     "text": [
      "Trial 4479: Artifacts - 4.1% (Validation: 0, Clipping: 1, Motion: 71)\n",
      "Trial 4480: Artifacts - 4.7% (Validation: 0, Clipping: 0, Motion: 82)\n"
     ]
    },
    {
     "name": "stderr",
     "output_type": "stream",
     "text": [
      "/usr/local/lib/python3.11/dist-packages/sklearn/decomposition/_fastica.py:542: FutureWarning: Starting in v1.3, whiten='unit-variance' will be used by default.\n",
      "  warnings.warn(\n",
      "/usr/local/lib/python3.11/dist-packages/sklearn/decomposition/_fastica.py:542: FutureWarning: Starting in v1.3, whiten='unit-variance' will be used by default.\n",
      "  warnings.warn(\n"
     ]
    },
    {
     "name": "stdout",
     "output_type": "stream",
     "text": [
      "REJECTING trial 4481: 74.1% artifacts\n",
      "REJECTING trial 4482: 68.3% artifacts\n",
      "REJECTING trial 4483: 72.2% artifacts\n",
      "REJECTING trial 4484: 71.0% artifacts\n",
      "REJECTING trial 4485: 74.9% artifacts\n",
      "REJECTING trial 4486: 72.2% artifacts\n",
      "REJECTING trial 4487: 73.9% artifacts\n",
      "REJECTING trial 4488: 71.7% artifacts\n",
      "REJECTING trial 4489: 71.7% artifacts\n",
      "REJECTING trial 4490: 70.0% artifacts\n",
      "REJECTING trial 4491: 73.7% artifacts\n",
      "REJECTING trial 4492: 74.9% artifacts\n",
      "REJECTING trial 4493: 76.3% artifacts\n",
      "REJECTING trial 4494: 75.3% artifacts\n",
      "REJECTING trial 4495: 74.2% artifacts\n",
      "REJECTING trial 4496: 71.5% artifacts\n",
      "REJECTING trial 4497: 75.6% artifacts\n",
      "REJECTING trial 4498: 71.8% artifacts\n",
      "REJECTING trial 4499: 72.3% artifacts\n",
      "REJECTING trial 4500: 71.4% artifacts\n",
      "REJECTING trial 4501: 75.5% artifacts\n",
      "REJECTING trial 4502: 72.7% artifacts\n",
      "REJECTING trial 4503: 75.4% artifacts\n",
      "REJECTING trial 4504: 72.6% artifacts\n",
      "REJECTING trial 4505: 71.7% artifacts\n",
      "REJECTING trial 4506: 71.5% artifacts\n",
      "REJECTING trial 4507: 74.7% artifacts\n",
      "REJECTING trial 4508: 70.2% artifacts\n",
      "REJECTING trial 4509: 75.3% artifacts\n",
      "REJECTING trial 4510: 71.7% artifacts\n",
      "REJECTING trial 4511: 71.6% artifacts\n",
      "REJECTING trial 4512: 70.2% artifacts\n",
      "REJECTING trial 4513: 73.1% artifacts\n",
      "REJECTING trial 4514: 72.4% artifacts\n",
      "REJECTING trial 4515: 75.4% artifacts\n",
      "REJECTING trial 4516: 73.3% artifacts\n",
      "REJECTING trial 4517: 75.1% artifacts\n",
      "REJECTING trial 4518: 73.5% artifacts\n",
      "REJECTING trial 4519: 70.6% artifacts\n",
      "REJECTING trial 4520: 70.6% artifacts\n",
      "REJECTING trial 4521: 75.2% artifacts\n",
      "REJECTING trial 4522: 72.7% artifacts\n",
      "REJECTING trial 4523: 75.8% artifacts\n",
      "REJECTING trial 4524: 76.9% artifacts\n",
      "REJECTING trial 4525: 76.3% artifacts\n",
      "REJECTING trial 4526: 74.2% artifacts\n",
      "REJECTING trial 4527: 70.7% artifacts\n",
      "REJECTING trial 4528: 71.5% artifacts\n",
      "REJECTING trial 4529: 68.7% artifacts\n",
      "REJECTING trial 4530: 72.7% artifacts\n",
      "REJECTING trial 4531: 75.7% artifacts\n",
      "REJECTING trial 4532: 77.4% artifacts\n",
      "REJECTING trial 4533: 75.0% artifacts\n",
      "REJECTING trial 4534: 77.7% artifacts\n",
      "REJECTING trial 4535: 73.4% artifacts\n",
      "REJECTING trial 4536: 71.2% artifacts\n",
      "REJECTING trial 4537: 73.5% artifacts\n",
      "REJECTING trial 4538: 71.5% artifacts\n",
      "REJECTING trial 4539: 72.4% artifacts\n",
      "REJECTING trial 4540: 74.6% artifacts\n",
      "REJECTING trial 4541: 77.3% artifacts\n",
      "REJECTING trial 4542: 78.3% artifacts\n",
      "REJECTING trial 4543: 74.7% artifacts\n",
      "REJECTING trial 4544: 72.6% artifacts\n",
      "REJECTING trial 4545: 74.1% artifacts\n",
      "REJECTING trial 4546: 70.1% artifacts\n",
      "REJECTING trial 4547: 76.4% artifacts\n",
      "REJECTING trial 4548: 72.6% artifacts\n",
      "REJECTING trial 4549: 73.9% artifacts\n",
      "REJECTING trial 4550: 71.6% artifacts\n",
      "REJECTING trial 4551: 74.1% artifacts\n",
      "REJECTING trial 4552: 71.7% artifacts\n",
      "REJECTING trial 4553: 73.7% artifacts\n",
      "REJECTING trial 4554: 76.1% artifacts\n",
      "REJECTING trial 4555: 73.9% artifacts\n",
      "REJECTING trial 4556: 77.9% artifacts\n",
      "REJECTING trial 4557: 70.7% artifacts\n",
      "REJECTING trial 4558: 73.2% artifacts\n",
      "REJECTING trial 4559: 73.2% artifacts\n",
      "REJECTING trial 4560: 73.3% artifacts\n",
      "REJECTING trial 4561: 29.8% artifacts\n",
      "Trial 4562: Artifacts - 8.8% (Validation: 59, Clipping: 0, Motion: 95)\n"
     ]
    },
    {
     "name": "stderr",
     "output_type": "stream",
     "text": [
      "/usr/local/lib/python3.11/dist-packages/sklearn/decomposition/_fastica.py:542: FutureWarning: Starting in v1.3, whiten='unit-variance' will be used by default.\n",
      "  warnings.warn(\n"
     ]
    },
    {
     "name": "stdout",
     "output_type": "stream",
     "text": [
      "Trial 4563: Artifacts - 5.3% (Validation: 92, Clipping: 0, Motion: 0)\n",
      "Trial 4564: Artifacts - 1.2% (Validation: 21, Clipping: 11, Motion: 0)\n",
      "Trial 4565: Artifacts - 0.1% (Validation: 0, Clipping: 1, Motion: 0)\n",
      "Trial 4566: Artifacts - 0.0% (Validation: 0, Clipping: 0, Motion: 0)\n",
      "Trial 4567: Artifacts - 0.0% (Validation: 0, Clipping: 0, Motion: 0)\n",
      "Trial 4568: Artifacts - 11.3% (Validation: 97, Clipping: 0, Motion: 100)\n"
     ]
    },
    {
     "name": "stderr",
     "output_type": "stream",
     "text": [
      "/usr/local/lib/python3.11/dist-packages/sklearn/decomposition/_fastica.py:542: FutureWarning: Starting in v1.3, whiten='unit-variance' will be used by default.\n",
      "  warnings.warn(\n"
     ]
    },
    {
     "name": "stdout",
     "output_type": "stream",
     "text": [
      "Trial 4569: Artifacts - 14.4% (Validation: 82, Clipping: 35, Motion: 169)\n",
      "Trial 4570: Artifacts - 5.1% (Validation: 0, Clipping: 1, Motion: 89)\n"
     ]
    },
    {
     "name": "stderr",
     "output_type": "stream",
     "text": [
      "/usr/local/lib/python3.11/dist-packages/sklearn/decomposition/_fastica.py:542: FutureWarning: Starting in v1.3, whiten='unit-variance' will be used by default.\n",
      "  warnings.warn(\n",
      "/usr/local/lib/python3.11/dist-packages/sklearn/decomposition/_fastica.py:542: FutureWarning: Starting in v1.3, whiten='unit-variance' will be used by default.\n",
      "  warnings.warn(\n"
     ]
    },
    {
     "name": "stdout",
     "output_type": "stream",
     "text": [
      "Trial 4571: Artifacts - 21.5% (Validation: 255, Clipping: 0, Motion: 161)\n"
     ]
    },
    {
     "name": "stderr",
     "output_type": "stream",
     "text": [
      "/usr/local/lib/python3.11/dist-packages/sklearn/decomposition/_fastica.py:542: FutureWarning: Starting in v1.3, whiten='unit-variance' will be used by default.\n",
      "  warnings.warn(\n"
     ]
    },
    {
     "name": "stdout",
     "output_type": "stream",
     "text": [
      "Trial 4572: Artifacts - 15.5% (Validation: 147, Clipping: 0, Motion: 125)\n",
      "Trial 4573: Artifacts - 10.2% (Validation: 65, Clipping: 0, Motion: 114)\n"
     ]
    },
    {
     "name": "stderr",
     "output_type": "stream",
     "text": [
      "/usr/local/lib/python3.11/dist-packages/sklearn/decomposition/_fastica.py:542: FutureWarning: Starting in v1.3, whiten='unit-variance' will be used by default.\n",
      "  warnings.warn(\n",
      "/usr/local/lib/python3.11/dist-packages/sklearn/decomposition/_fastica.py:542: FutureWarning: Starting in v1.3, whiten='unit-variance' will be used by default.\n",
      "  warnings.warn(\n"
     ]
    },
    {
     "name": "stdout",
     "output_type": "stream",
     "text": [
      "Trial 4574: Artifacts - 16.6% (Validation: 22, Clipping: 7, Motion: 290)\n",
      "Trial 4575: Artifacts - 9.7% (Validation: 71, Clipping: 1, Motion: 97)\n"
     ]
    },
    {
     "name": "stderr",
     "output_type": "stream",
     "text": [
      "/usr/local/lib/python3.11/dist-packages/sklearn/decomposition/_fastica.py:542: FutureWarning: Starting in v1.3, whiten='unit-variance' will be used by default.\n",
      "  warnings.warn(\n",
      "/usr/local/lib/python3.11/dist-packages/sklearn/decomposition/_fastica.py:542: FutureWarning: Starting in v1.3, whiten='unit-variance' will be used by default.\n",
      "  warnings.warn(\n"
     ]
    },
    {
     "name": "stdout",
     "output_type": "stream",
     "text": [
      "Trial 4576: Artifacts - 0.0% (Validation: 0, Clipping: 0, Motion: 0)\n",
      "Trial 4577: Artifacts - 4.3% (Validation: 76, Clipping: 0, Motion: 0)\n",
      "Trial 4578: Artifacts - 10.1% (Validation: 177, Clipping: 31, Motion: 0)\n",
      "Trial 4579: Artifacts - 12.6% (Validation: 219, Clipping: 15, Motion: 0)\n",
      "Trial 4580: Artifacts - 4.2% (Validation: 74, Clipping: 0, Motion: 0)\n",
      "REJECTING trial 4581: 25.3% artifacts\n",
      "Trial 4582: Artifacts - 19.9% (Validation: 245, Clipping: 81, Motion: 109)\n",
      "Trial 4583: Artifacts - 19.6% (Validation: 226, Clipping: 0, Motion: 131)\n"
     ]
    },
    {
     "name": "stderr",
     "output_type": "stream",
     "text": [
      "/usr/local/lib/python3.11/dist-packages/sklearn/decomposition/_fastica.py:542: FutureWarning: Starting in v1.3, whiten='unit-variance' will be used by default.\n",
      "  warnings.warn(\n",
      "/usr/local/lib/python3.11/dist-packages/sklearn/decomposition/_fastica.py:542: FutureWarning: Starting in v1.3, whiten='unit-variance' will be used by default.\n",
      "  warnings.warn(\n",
      "/usr/local/lib/python3.11/dist-packages/sklearn/decomposition/_fastica.py:542: FutureWarning: Starting in v1.3, whiten='unit-variance' will be used by default.\n",
      "  warnings.warn(\n"
     ]
    },
    {
     "name": "stdout",
     "output_type": "stream",
     "text": [
      "Trial 4584: Artifacts - 17.3% (Validation: 172, Clipping: 1, Motion: 130)\n",
      "Trial 4585: Artifacts - 10.4% (Validation: 81, Clipping: 26, Motion: 101)\n"
     ]
    },
    {
     "name": "stderr",
     "output_type": "stream",
     "text": [
      "/usr/local/lib/python3.11/dist-packages/sklearn/decomposition/_fastica.py:542: FutureWarning: Starting in v1.3, whiten='unit-variance' will be used by default.\n",
      "  warnings.warn(\n"
     ]
    },
    {
     "name": "stdout",
     "output_type": "stream",
     "text": [
      "Trial 4586: Artifacts - 13.7% (Validation: 239, Clipping: 37, Motion: 0)\n",
      "Trial 4587: Artifacts - 5.3% (Validation: 93, Clipping: 51, Motion: 0)\n",
      "Trial 4588: Artifacts - 4.7% (Validation: 81, Clipping: 1, Motion: 0)\n",
      "Trial 4589: Artifacts - 0.1% (Validation: 0, Clipping: 1, Motion: 0)\n",
      "Trial 4590: Artifacts - 0.0% (Validation: 0, Clipping: 0, Motion: 0)\n",
      "Trial 4591: Artifacts - 23.4% (Validation: 174, Clipping: 0, Motion: 235)\n"
     ]
    },
    {
     "name": "stderr",
     "output_type": "stream",
     "text": [
      "/usr/local/lib/python3.11/dist-packages/sklearn/decomposition/_fastica.py:542: FutureWarning: Starting in v1.3, whiten='unit-variance' will be used by default.\n",
      "  warnings.warn(\n"
     ]
    },
    {
     "name": "stdout",
     "output_type": "stream",
     "text": [
      "Trial 4592: Artifacts - 1.5% (Validation: 0, Clipping: 0, Motion: 26)\n",
      "Trial 4593: Artifacts - 0.0% (Validation: 0, Clipping: 0, Motion: 0)\n",
      "Trial 4594: Artifacts - 5.0% (Validation: 87, Clipping: 19, Motion: 0)\n",
      "Trial 4595: Artifacts - 15.4% (Validation: 269, Clipping: 0, Motion: 0)\n",
      "Trial 4596: Artifacts - 8.6% (Validation: 151, Clipping: 13, Motion: 0)\n",
      "Trial 4597: Artifacts - 0.1% (Validation: 0, Clipping: 1, Motion: 0)\n",
      "Trial 4598: Artifacts - 5.1% (Validation: 89, Clipping: 36, Motion: 0)\n",
      "Trial 4599: Artifacts - 11.9% (Validation: 209, Clipping: 43, Motion: 0)\n",
      "Trial 4600: Artifacts - 7.0% (Validation: 123, Clipping: 0, Motion: 0)\n",
      "Processed 4600/4800 trials\n",
      "Trial 4601: Artifacts - 15.7% (Validation: 157, Clipping: 0, Motion: 173)\n"
     ]
    },
    {
     "name": "stderr",
     "output_type": "stream",
     "text": [
      "/usr/local/lib/python3.11/dist-packages/sklearn/decomposition/_fastica.py:542: FutureWarning: Starting in v1.3, whiten='unit-variance' will be used by default.\n",
      "  warnings.warn(\n"
     ]
    },
    {
     "name": "stdout",
     "output_type": "stream",
     "text": [
      "Trial 4602: Artifacts - 0.1% (Validation: 0, Clipping: 1, Motion: 0)\n",
      "Trial 4603: Artifacts - 9.4% (Validation: 165, Clipping: 0, Motion: 0)\n",
      "Trial 4604: Artifacts - 13.6% (Validation: 238, Clipping: 14, Motion: 0)\n",
      "Trial 4605: Artifacts - 9.7% (Validation: 170, Clipping: 0, Motion: 0)\n",
      "Trial 4606: Artifacts - 4.7% (Validation: 81, Clipping: 30, Motion: 0)\n",
      "Trial 4607: Artifacts - 5.1% (Validation: 89, Clipping: 12, Motion: 0)\n",
      "Trial 4608: Artifacts - 14.2% (Validation: 248, Clipping: 7, Motion: 0)\n",
      "Trial 4609: Artifacts - 13.6% (Validation: 238, Clipping: 0, Motion: 0)\n",
      "Trial 4610: Artifacts - 0.0% (Validation: 0, Clipping: 0, Motion: 0)\n",
      "Trial 4611: Artifacts - 10.6% (Validation: 0, Clipping: 0, Motion: 186)\n"
     ]
    },
    {
     "name": "stderr",
     "output_type": "stream",
     "text": [
      "/usr/local/lib/python3.11/dist-packages/sklearn/decomposition/_fastica.py:542: FutureWarning: Starting in v1.3, whiten='unit-variance' will be used by default.\n",
      "  warnings.warn(\n"
     ]
    },
    {
     "name": "stdout",
     "output_type": "stream",
     "text": [
      "Trial 4612: Artifacts - 0.0% (Validation: 0, Clipping: 0, Motion: 0)\n",
      "Trial 4613: Artifacts - 6.0% (Validation: 104, Clipping: 1, Motion: 0)\n",
      "Trial 4614: Artifacts - 0.0% (Validation: 0, Clipping: 0, Motion: 0)\n",
      "Trial 4615: Artifacts - 0.2% (Validation: 0, Clipping: 1, Motion: 2)\n",
      "Trial 4616: Artifacts - 0.0% (Validation: 0, Clipping: 0, Motion: 0)\n",
      "Trial 4617: Artifacts - 6.7% (Validation: 116, Clipping: 1, Motion: 0)\n",
      "Trial 4618: Artifacts - 4.6% (Validation: 73, Clipping: 1, Motion: 7)\n",
      "Trial 4619: Artifacts - 3.8% (Validation: 64, Clipping: 0, Motion: 3)\n",
      "Trial 4620: Artifacts - 4.9% (Validation: 86, Clipping: 0, Motion: 0)\n",
      "Trial 4621: Artifacts - 20.1% (Validation: 197, Clipping: 27, Motion: 192)\n"
     ]
    },
    {
     "name": "stderr",
     "output_type": "stream",
     "text": [
      "/usr/local/lib/python3.11/dist-packages/sklearn/decomposition/_fastica.py:542: FutureWarning: Starting in v1.3, whiten='unit-variance' will be used by default.\n",
      "  warnings.warn(\n"
     ]
    },
    {
     "name": "stdout",
     "output_type": "stream",
     "text": [
      "Trial 4622: Artifacts - 11.9% (Validation: 209, Clipping: 67, Motion: 0)\n",
      "Trial 4623: Artifacts - 0.0% (Validation: 0, Clipping: 0, Motion: 0)\n",
      "Trial 4624: Artifacts - 15.1% (Validation: 264, Clipping: 1, Motion: 0)\n",
      "Trial 4625: Artifacts - 4.2% (Validation: 73, Clipping: 24, Motion: 0)\n",
      "Trial 4626: Artifacts - 0.0% (Validation: 0, Clipping: 0, Motion: 0)\n",
      "Trial 4627: Artifacts - 5.9% (Validation: 104, Clipping: 0, Motion: 0)\n",
      "Trial 4628: Artifacts - 5.5% (Validation: 97, Clipping: 0, Motion: 0)\n",
      "Trial 4629: Artifacts - 15.7% (Validation: 274, Clipping: 186, Motion: 0)\n",
      "Trial 4630: Artifacts - 0.0% (Validation: 0, Clipping: 0, Motion: 0)\n",
      "Trial 4631: Artifacts - 4.9% (Validation: 0, Clipping: 0, Motion: 86)\n"
     ]
    },
    {
     "name": "stderr",
     "output_type": "stream",
     "text": [
      "/usr/local/lib/python3.11/dist-packages/sklearn/decomposition/_fastica.py:542: FutureWarning: Starting in v1.3, whiten='unit-variance' will be used by default.\n",
      "  warnings.warn(\n"
     ]
    },
    {
     "name": "stdout",
     "output_type": "stream",
     "text": [
      "Trial 4632: Artifacts - 0.0% (Validation: 0, Clipping: 0, Motion: 0)\n",
      "Trial 4633: Artifacts - 0.0% (Validation: 0, Clipping: 0, Motion: 0)\n",
      "Trial 4634: Artifacts - 0.0% (Validation: 0, Clipping: 0, Motion: 0)\n",
      "Trial 4635: Artifacts - 5.4% (Validation: 95, Clipping: 0, Motion: 0)\n",
      "Trial 4636: Artifacts - 4.5% (Validation: 79, Clipping: 0, Motion: 0)\n",
      "Trial 4637: Artifacts - 0.0% (Validation: 0, Clipping: 0, Motion: 0)\n",
      "Trial 4638: Artifacts - 0.0% (Validation: 0, Clipping: 0, Motion: 0)\n",
      "Trial 4639: Artifacts - 12.9% (Validation: 225, Clipping: 0, Motion: 0)\n",
      "Trial 4640: Artifacts - 15.0% (Validation: 263, Clipping: 0, Motion: 0)\n",
      "Trial 4641: Artifacts - 14.4% (Validation: 176, Clipping: 66, Motion: 101)\n"
     ]
    },
    {
     "name": "stderr",
     "output_type": "stream",
     "text": [
      "/usr/local/lib/python3.11/dist-packages/sklearn/decomposition/_fastica.py:542: FutureWarning: Starting in v1.3, whiten='unit-variance' will be used by default.\n",
      "  warnings.warn(\n"
     ]
    },
    {
     "name": "stdout",
     "output_type": "stream",
     "text": [
      "Trial 4642: Artifacts - 5.6% (Validation: 98, Clipping: 0, Motion: 0)\n",
      "Trial 4643: Artifacts - 0.0% (Validation: 0, Clipping: 0, Motion: 0)\n",
      "Trial 4644: Artifacts - 6.5% (Validation: 114, Clipping: 0, Motion: 0)\n",
      "Trial 4645: Artifacts - 0.0% (Validation: 0, Clipping: 0, Motion: 0)\n",
      "Trial 4646: Artifacts - 0.0% (Validation: 0, Clipping: 0, Motion: 0)\n",
      "Trial 4647: Artifacts - 0.0% (Validation: 0, Clipping: 0, Motion: 0)\n",
      "Trial 4648: Artifacts - 6.5% (Validation: 0, Clipping: 0, Motion: 114)\n",
      "Trial 4649: Artifacts - 17.9% (Validation: 70, Clipping: 0, Motion: 244)\n"
     ]
    },
    {
     "name": "stderr",
     "output_type": "stream",
     "text": [
      "/usr/local/lib/python3.11/dist-packages/sklearn/decomposition/_fastica.py:542: FutureWarning: Starting in v1.3, whiten='unit-variance' will be used by default.\n",
      "  warnings.warn(\n",
      "/usr/local/lib/python3.11/dist-packages/sklearn/decomposition/_fastica.py:542: FutureWarning: Starting in v1.3, whiten='unit-variance' will be used by default.\n",
      "  warnings.warn(\n"
     ]
    },
    {
     "name": "stdout",
     "output_type": "stream",
     "text": [
      "Trial 4650: Artifacts - 0.0% (Validation: 0, Clipping: 0, Motion: 0)\n",
      "Trial 4651: Artifacts - 9.2% (Validation: 80, Clipping: 0, Motion: 81)\n"
     ]
    },
    {
     "name": "stderr",
     "output_type": "stream",
     "text": [
      "/usr/local/lib/python3.11/dist-packages/sklearn/decomposition/_fastica.py:542: FutureWarning: Starting in v1.3, whiten='unit-variance' will be used by default.\n",
      "  warnings.warn(\n"
     ]
    },
    {
     "name": "stdout",
     "output_type": "stream",
     "text": [
      "Trial 4652: Artifacts - 4.2% (Validation: 0, Clipping: 0, Motion: 73)\n",
      "Trial 4653: Artifacts - 5.0% (Validation: 86, Clipping: 1, Motion: 0)\n"
     ]
    },
    {
     "name": "stderr",
     "output_type": "stream",
     "text": [
      "/usr/local/lib/python3.11/dist-packages/sklearn/decomposition/_fastica.py:542: FutureWarning: Starting in v1.3, whiten='unit-variance' will be used by default.\n",
      "  warnings.warn(\n"
     ]
    },
    {
     "name": "stdout",
     "output_type": "stream",
     "text": [
      "Trial 4654: Artifacts - 0.1% (Validation: 0, Clipping: 0, Motion: 1)\n",
      "Trial 4655: Artifacts - 6.2% (Validation: 77, Clipping: 1, Motion: 31)\n",
      "Trial 4656: Artifacts - 5.7% (Validation: 100, Clipping: 0, Motion: 0)\n",
      "Trial 4657: Artifacts - 11.7% (Validation: 12, Clipping: 2, Motion: 192)\n"
     ]
    },
    {
     "name": "stderr",
     "output_type": "stream",
     "text": [
      "/usr/local/lib/python3.11/dist-packages/sklearn/decomposition/_fastica.py:542: FutureWarning: Starting in v1.3, whiten='unit-variance' will be used by default.\n",
      "  warnings.warn(\n"
     ]
    },
    {
     "name": "stdout",
     "output_type": "stream",
     "text": [
      "Trial 4658: Artifacts - 2.6% (Validation: 45, Clipping: 0, Motion: 0)\n",
      "Trial 4659: Artifacts - 16.8% (Validation: 294, Clipping: 0, Motion: 0)\n",
      "Trial 4660: Artifacts - 12.2% (Validation: 213, Clipping: 1, Motion: 0)\n",
      "Trial 4661: Artifacts - 12.9% (Validation: 0, Clipping: 0, Motion: 226)\n"
     ]
    },
    {
     "name": "stderr",
     "output_type": "stream",
     "text": [
      "/usr/local/lib/python3.11/dist-packages/sklearn/decomposition/_fastica.py:542: FutureWarning: Starting in v1.3, whiten='unit-variance' will be used by default.\n",
      "  warnings.warn(\n"
     ]
    },
    {
     "name": "stdout",
     "output_type": "stream",
     "text": [
      "Trial 4662: Artifacts - 0.0% (Validation: 0, Clipping: 0, Motion: 0)\n",
      "Trial 4663: Artifacts - 0.0% (Validation: 0, Clipping: 0, Motion: 0)\n",
      "Trial 4664: Artifacts - 0.0% (Validation: 0, Clipping: 0, Motion: 0)\n",
      "Trial 4665: Artifacts - 0.0% (Validation: 0, Clipping: 0, Motion: 0)\n",
      "Trial 4666: Artifacts - 0.0% (Validation: 0, Clipping: 0, Motion: 0)\n",
      "Trial 4667: Artifacts - 0.1% (Validation: 0, Clipping: 1, Motion: 0)\n",
      "Trial 4668: Artifacts - 0.0% (Validation: 0, Clipping: 0, Motion: 0)\n",
      "Trial 4669: Artifacts - 0.0% (Validation: 0, Clipping: 0, Motion: 0)\n",
      "Trial 4670: Artifacts - 0.0% (Validation: 0, Clipping: 0, Motion: 0)\n",
      "Trial 4671: Artifacts - 9.1% (Validation: 0, Clipping: 0, Motion: 159)\n"
     ]
    },
    {
     "name": "stderr",
     "output_type": "stream",
     "text": [
      "/usr/local/lib/python3.11/dist-packages/sklearn/decomposition/_fastica.py:542: FutureWarning: Starting in v1.3, whiten='unit-variance' will be used by default.\n",
      "  warnings.warn(\n"
     ]
    },
    {
     "name": "stdout",
     "output_type": "stream",
     "text": [
      "Trial 4672: Artifacts - 0.0% (Validation: 0, Clipping: 0, Motion: 0)\n",
      "Trial 4673: Artifacts - 0.0% (Validation: 0, Clipping: 0, Motion: 0)\n",
      "Trial 4674: Artifacts - 0.0% (Validation: 0, Clipping: 0, Motion: 0)\n",
      "Trial 4675: Artifacts - 0.0% (Validation: 0, Clipping: 0, Motion: 0)\n",
      "Trial 4676: Artifacts - 0.0% (Validation: 0, Clipping: 0, Motion: 0)\n",
      "Trial 4677: Artifacts - 0.0% (Validation: 0, Clipping: 0, Motion: 0)\n",
      "Trial 4678: Artifacts - 1.3% (Validation: 0, Clipping: 0, Motion: 22)\n",
      "Trial 4679: Artifacts - 6.7% (Validation: 0, Clipping: 0, Motion: 118)\n"
     ]
    },
    {
     "name": "stderr",
     "output_type": "stream",
     "text": [
      "/usr/local/lib/python3.11/dist-packages/sklearn/decomposition/_fastica.py:542: FutureWarning: Starting in v1.3, whiten='unit-variance' will be used by default.\n",
      "  warnings.warn(\n"
     ]
    },
    {
     "name": "stdout",
     "output_type": "stream",
     "text": [
      "Trial 4680: Artifacts - 0.0% (Validation: 0, Clipping: 0, Motion: 0)\n",
      "Trial 4681: Artifacts - 22.2% (Validation: 163, Clipping: 0, Motion: 226)\n"
     ]
    },
    {
     "name": "stderr",
     "output_type": "stream",
     "text": [
      "/usr/local/lib/python3.11/dist-packages/sklearn/decomposition/_fastica.py:542: FutureWarning: Starting in v1.3, whiten='unit-variance' will be used by default.\n",
      "  warnings.warn(\n"
     ]
    },
    {
     "name": "stdout",
     "output_type": "stream",
     "text": [
      "Trial 4682: Artifacts - 5.9% (Validation: 104, Clipping: 7, Motion: 0)\n",
      "Trial 4683: Artifacts - 3.7% (Validation: 65, Clipping: 0, Motion: 0)\n",
      "Trial 4684: Artifacts - 12.2% (Validation: 214, Clipping: 0, Motion: 0)\n",
      "Trial 4685: Artifacts - 13.8% (Validation: 241, Clipping: 23, Motion: 0)\n",
      "Trial 4686: Artifacts - 13.0% (Validation: 228, Clipping: 31, Motion: 0)\n",
      "Trial 4687: Artifacts - 5.5% (Validation: 96, Clipping: 0, Motion: 0)\n",
      "Trial 4688: Artifacts - 0.0% (Validation: 0, Clipping: 0, Motion: 0)\n",
      "Trial 4689: Artifacts - 3.8% (Validation: 66, Clipping: 2, Motion: 0)\n",
      "Trial 4690: Artifacts - 14.7% (Validation: 257, Clipping: 26, Motion: 0)\n",
      "Trial 4691: Artifacts - 19.3% (Validation: 94, Clipping: 0, Motion: 244)\n"
     ]
    },
    {
     "name": "stderr",
     "output_type": "stream",
     "text": [
      "/usr/local/lib/python3.11/dist-packages/sklearn/decomposition/_fastica.py:542: FutureWarning: Starting in v1.3, whiten='unit-variance' will be used by default.\n",
      "  warnings.warn(\n",
      "/usr/local/lib/python3.11/dist-packages/sklearn/decomposition/_fastica.py:542: FutureWarning: Starting in v1.3, whiten='unit-variance' will be used by default.\n",
      "  warnings.warn(\n"
     ]
    },
    {
     "name": "stdout",
     "output_type": "stream",
     "text": [
      "Trial 4692: Artifacts - 19.1% (Validation: 90, Clipping: 0, Motion: 328)\n",
      "Trial 4693: Artifacts - 10.4% (Validation: 82, Clipping: 0, Motion: 100)\n"
     ]
    },
    {
     "name": "stderr",
     "output_type": "stream",
     "text": [
      "/usr/local/lib/python3.11/dist-packages/sklearn/decomposition/_fastica.py:542: FutureWarning: Starting in v1.3, whiten='unit-variance' will be used by default.\n",
      "  warnings.warn(\n"
     ]
    },
    {
     "name": "stdout",
     "output_type": "stream",
     "text": [
      "Trial 4694: Artifacts - 0.0% (Validation: 0, Clipping: 0, Motion: 0)\n",
      "Trial 4695: Artifacts - 4.4% (Validation: 77, Clipping: 0, Motion: 0)\n",
      "Trial 4696: Artifacts - 5.9% (Validation: 104, Clipping: 0, Motion: 0)\n",
      "Trial 4697: Artifacts - 6.5% (Validation: 114, Clipping: 0, Motion: 0)\n",
      "Trial 4698: Artifacts - 15.5% (Validation: 270, Clipping: 1, Motion: 0)\n",
      "Trial 4699: Artifacts - 7.2% (Validation: 126, Clipping: 3, Motion: 0)\n",
      "Trial 4700: Artifacts - 11.1% (Validation: 195, Clipping: 0, Motion: 0)\n",
      "Processed 4700/4800 trials\n",
      "Trial 4701: Artifacts - 1.3% (Validation: 0, Clipping: 0, Motion: 22)\n",
      "Trial 4702: Artifacts - 0.0% (Validation: 0, Clipping: 0, Motion: 0)\n",
      "Trial 4703: Artifacts - 0.0% (Validation: 0, Clipping: 0, Motion: 0)\n",
      "Trial 4704: Artifacts - 1.4% (Validation: 0, Clipping: 1, Motion: 23)\n",
      "Trial 4705: Artifacts - 1.9% (Validation: 0, Clipping: 0, Motion: 33)\n",
      "Trial 4706: Artifacts - 10.1% (Validation: 0, Clipping: 0, Motion: 177)\n"
     ]
    },
    {
     "name": "stderr",
     "output_type": "stream",
     "text": [
      "/usr/local/lib/python3.11/dist-packages/sklearn/decomposition/_fastica.py:542: FutureWarning: Starting in v1.3, whiten='unit-variance' will be used by default.\n",
      "  warnings.warn(\n"
     ]
    },
    {
     "name": "stdout",
     "output_type": "stream",
     "text": [
      "Trial 4707: Artifacts - 5.3% (Validation: 0, Clipping: 0, Motion: 93)\n"
     ]
    },
    {
     "name": "stderr",
     "output_type": "stream",
     "text": [
      "/usr/local/lib/python3.11/dist-packages/sklearn/decomposition/_fastica.py:542: FutureWarning: Starting in v1.3, whiten='unit-variance' will be used by default.\n",
      "  warnings.warn(\n"
     ]
    },
    {
     "name": "stdout",
     "output_type": "stream",
     "text": [
      "Trial 4708: Artifacts - 13.5% (Validation: 0, Clipping: 0, Motion: 237)\n",
      "Trial 4709: Artifacts - 0.0% (Validation: 0, Clipping: 0, Motion: 0)\n"
     ]
    },
    {
     "name": "stderr",
     "output_type": "stream",
     "text": [
      "/usr/local/lib/python3.11/dist-packages/sklearn/decomposition/_fastica.py:542: FutureWarning: Starting in v1.3, whiten='unit-variance' will be used by default.\n",
      "  warnings.warn(\n"
     ]
    },
    {
     "name": "stdout",
     "output_type": "stream",
     "text": [
      "Trial 4710: Artifacts - 0.0% (Validation: 0, Clipping: 0, Motion: 0)\n",
      "Trial 4711: Artifacts - 14.5% (Validation: 0, Clipping: 0, Motion: 254)\n"
     ]
    },
    {
     "name": "stderr",
     "output_type": "stream",
     "text": [
      "/usr/local/lib/python3.11/dist-packages/sklearn/decomposition/_fastica.py:542: FutureWarning: Starting in v1.3, whiten='unit-variance' will be used by default.\n",
      "  warnings.warn(\n"
     ]
    },
    {
     "name": "stdout",
     "output_type": "stream",
     "text": [
      "Trial 4712: Artifacts - 0.0% (Validation: 0, Clipping: 0, Motion: 0)\n",
      "Trial 4713: Artifacts - 2.0% (Validation: 0, Clipping: 0, Motion: 35)\n",
      "Trial 4714: Artifacts - 0.0% (Validation: 0, Clipping: 0, Motion: 0)\n",
      "Trial 4715: Artifacts - 6.8% (Validation: 0, Clipping: 0, Motion: 119)\n"
     ]
    },
    {
     "name": "stderr",
     "output_type": "stream",
     "text": [
      "/usr/local/lib/python3.11/dist-packages/sklearn/decomposition/_fastica.py:542: FutureWarning: Starting in v1.3, whiten='unit-variance' will be used by default.\n",
      "  warnings.warn(\n"
     ]
    },
    {
     "name": "stdout",
     "output_type": "stream",
     "text": [
      "Trial 4716: Artifacts - 1.7% (Validation: 0, Clipping: 0, Motion: 30)\n",
      "Trial 4717: Artifacts - 11.9% (Validation: 0, Clipping: 0, Motion: 209)\n"
     ]
    },
    {
     "name": "stderr",
     "output_type": "stream",
     "text": [
      "/usr/local/lib/python3.11/dist-packages/sklearn/decomposition/_fastica.py:542: FutureWarning: Starting in v1.3, whiten='unit-variance' will be used by default.\n",
      "  warnings.warn(\n",
      "/usr/local/lib/python3.11/dist-packages/sklearn/decomposition/_fastica.py:542: FutureWarning: Starting in v1.3, whiten='unit-variance' will be used by default.\n",
      "  warnings.warn(\n"
     ]
    },
    {
     "name": "stdout",
     "output_type": "stream",
     "text": [
      "Trial 4718: Artifacts - 5.5% (Validation: 0, Clipping: 0, Motion: 96)\n",
      "Trial 4719: Artifacts - 15.5% (Validation: 0, Clipping: 1, Motion: 272)\n",
      "Trial 4720: Artifacts - 0.0% (Validation: 0, Clipping: 0, Motion: 0)\n"
     ]
    },
    {
     "name": "stderr",
     "output_type": "stream",
     "text": [
      "/usr/local/lib/python3.11/dist-packages/sklearn/decomposition/_fastica.py:542: FutureWarning: Starting in v1.3, whiten='unit-variance' will be used by default.\n",
      "  warnings.warn(\n"
     ]
    },
    {
     "name": "stdout",
     "output_type": "stream",
     "text": [
      "Trial 4721: Artifacts - 0.0% (Validation: 0, Clipping: 0, Motion: 0)\n",
      "Trial 4722: Artifacts - 0.0% (Validation: 0, Clipping: 0, Motion: 0)\n",
      "Trial 4723: Artifacts - 0.0% (Validation: 0, Clipping: 0, Motion: 0)\n",
      "Trial 4724: Artifacts - 0.0% (Validation: 0, Clipping: 0, Motion: 0)\n",
      "Trial 4725: Artifacts - 14.6% (Validation: 0, Clipping: 0, Motion: 256)\n",
      "Trial 4726: Artifacts - 0.4% (Validation: 0, Clipping: 0, Motion: 7)\n"
     ]
    },
    {
     "name": "stderr",
     "output_type": "stream",
     "text": [
      "/usr/local/lib/python3.11/dist-packages/sklearn/decomposition/_fastica.py:542: FutureWarning: Starting in v1.3, whiten='unit-variance' will be used by default.\n",
      "  warnings.warn(\n"
     ]
    },
    {
     "name": "stdout",
     "output_type": "stream",
     "text": [
      "Trial 4727: Artifacts - 0.0% (Validation: 0, Clipping: 0, Motion: 0)\n",
      "Trial 4728: Artifacts - 5.0% (Validation: 0, Clipping: 1, Motion: 86)\n"
     ]
    },
    {
     "name": "stderr",
     "output_type": "stream",
     "text": [
      "/usr/local/lib/python3.11/dist-packages/sklearn/decomposition/_fastica.py:542: FutureWarning: Starting in v1.3, whiten='unit-variance' will be used by default.\n",
      "  warnings.warn(\n"
     ]
    },
    {
     "name": "stdout",
     "output_type": "stream",
     "text": [
      "Trial 4729: Artifacts - 1.0% (Validation: 0, Clipping: 0, Motion: 18)\n",
      "Trial 4730: Artifacts - 0.0% (Validation: 0, Clipping: 0, Motion: 0)\n",
      "Trial 4731: Artifacts - 5.9% (Validation: 0, Clipping: 0, Motion: 104)\n",
      "Trial 4732: Artifacts - 14.2% (Validation: 0, Clipping: 0, Motion: 248)\n"
     ]
    },
    {
     "name": "stderr",
     "output_type": "stream",
     "text": [
      "/usr/local/lib/python3.11/dist-packages/sklearn/decomposition/_fastica.py:542: FutureWarning: Starting in v1.3, whiten='unit-variance' will be used by default.\n",
      "  warnings.warn(\n",
      "/usr/local/lib/python3.11/dist-packages/sklearn/decomposition/_fastica.py:542: FutureWarning: Starting in v1.3, whiten='unit-variance' will be used by default.\n",
      "  warnings.warn(\n"
     ]
    },
    {
     "name": "stdout",
     "output_type": "stream",
     "text": [
      "Trial 4733: Artifacts - 0.0% (Validation: 0, Clipping: 0, Motion: 0)\n",
      "Trial 4734: Artifacts - 8.9% (Validation: 0, Clipping: 0, Motion: 155)\n"
     ]
    },
    {
     "name": "stderr",
     "output_type": "stream",
     "text": [
      "/usr/local/lib/python3.11/dist-packages/sklearn/decomposition/_fastica.py:542: FutureWarning: Starting in v1.3, whiten='unit-variance' will be used by default.\n",
      "  warnings.warn(\n"
     ]
    },
    {
     "name": "stdout",
     "output_type": "stream",
     "text": [
      "Trial 4735: Artifacts - 1.5% (Validation: 0, Clipping: 0, Motion: 27)\n",
      "Trial 4736: Artifacts - 0.2% (Validation: 0, Clipping: 1, Motion: 2)\n",
      "Trial 4737: Artifacts - 8.4% (Validation: 0, Clipping: 0, Motion: 147)\n",
      "Trial 4738: Artifacts - 4.8% (Validation: 0, Clipping: 0, Motion: 84)\n"
     ]
    },
    {
     "name": "stderr",
     "output_type": "stream",
     "text": [
      "/usr/local/lib/python3.11/dist-packages/sklearn/decomposition/_fastica.py:542: FutureWarning: Starting in v1.3, whiten='unit-variance' will be used by default.\n",
      "  warnings.warn(\n",
      "/usr/local/lib/python3.11/dist-packages/sklearn/decomposition/_fastica.py:542: FutureWarning: Starting in v1.3, whiten='unit-variance' will be used by default.\n",
      "  warnings.warn(\n"
     ]
    },
    {
     "name": "stdout",
     "output_type": "stream",
     "text": [
      "Trial 4739: Artifacts - 0.0% (Validation: 0, Clipping: 0, Motion: 0)\n",
      "Trial 4740: Artifacts - 0.0% (Validation: 0, Clipping: 0, Motion: 0)\n",
      "Trial 4741: Artifacts - 5.1% (Validation: 0, Clipping: 0, Motion: 89)\n"
     ]
    },
    {
     "name": "stderr",
     "output_type": "stream",
     "text": [
      "/usr/local/lib/python3.11/dist-packages/sklearn/decomposition/_fastica.py:542: FutureWarning: Starting in v1.3, whiten='unit-variance' will be used by default.\n",
      "  warnings.warn(\n"
     ]
    },
    {
     "name": "stdout",
     "output_type": "stream",
     "text": [
      "Trial 4742: Artifacts - 0.0% (Validation: 0, Clipping: 0, Motion: 0)\n",
      "Trial 4743: Artifacts - 9.3% (Validation: 0, Clipping: 0, Motion: 162)\n"
     ]
    },
    {
     "name": "stderr",
     "output_type": "stream",
     "text": [
      "/usr/local/lib/python3.11/dist-packages/sklearn/decomposition/_fastica.py:542: FutureWarning: Starting in v1.3, whiten='unit-variance' will be used by default.\n",
      "  warnings.warn(\n"
     ]
    },
    {
     "name": "stdout",
     "output_type": "stream",
     "text": [
      "Trial 4744: Artifacts - 0.0% (Validation: 0, Clipping: 0, Motion: 0)\n",
      "Trial 4745: Artifacts - 0.1% (Validation: 0, Clipping: 1, Motion: 0)\n",
      "Trial 4746: Artifacts - 0.0% (Validation: 0, Clipping: 0, Motion: 0)\n",
      "Trial 4747: Artifacts - 0.0% (Validation: 0, Clipping: 0, Motion: 0)\n",
      "Trial 4748: Artifacts - 0.3% (Validation: 0, Clipping: 0, Motion: 6)\n",
      "Trial 4749: Artifacts - 0.0% (Validation: 0, Clipping: 0, Motion: 0)\n",
      "Trial 4750: Artifacts - 0.0% (Validation: 0, Clipping: 0, Motion: 0)\n",
      "Trial 4751: Artifacts - 8.3% (Validation: 0, Clipping: 1, Motion: 144)\n"
     ]
    },
    {
     "name": "stderr",
     "output_type": "stream",
     "text": [
      "/usr/local/lib/python3.11/dist-packages/sklearn/decomposition/_fastica.py:542: FutureWarning: Starting in v1.3, whiten='unit-variance' will be used by default.\n",
      "  warnings.warn(\n"
     ]
    },
    {
     "name": "stdout",
     "output_type": "stream",
     "text": [
      "Trial 4752: Artifacts - 0.0% (Validation: 0, Clipping: 0, Motion: 0)\n",
      "Trial 4753: Artifacts - 0.0% (Validation: 0, Clipping: 0, Motion: 0)\n",
      "Trial 4754: Artifacts - 1.1% (Validation: 0, Clipping: 0, Motion: 19)\n",
      "Trial 4755: Artifacts - 11.3% (Validation: 0, Clipping: 0, Motion: 197)\n"
     ]
    },
    {
     "name": "stderr",
     "output_type": "stream",
     "text": [
      "/usr/local/lib/python3.11/dist-packages/sklearn/decomposition/_fastica.py:542: FutureWarning: Starting in v1.3, whiten='unit-variance' will be used by default.\n",
      "  warnings.warn(\n",
      "/usr/local/lib/python3.11/dist-packages/sklearn/decomposition/_fastica.py:542: FutureWarning: Starting in v1.3, whiten='unit-variance' will be used by default.\n",
      "  warnings.warn(\n"
     ]
    },
    {
     "name": "stdout",
     "output_type": "stream",
     "text": [
      "Trial 4756: Artifacts - 5.9% (Validation: 0, Clipping: 0, Motion: 103)\n",
      "Trial 4757: Artifacts - 0.6% (Validation: 0, Clipping: 1, Motion: 9)\n",
      "Trial 4758: Artifacts - 0.0% (Validation: 0, Clipping: 0, Motion: 0)\n",
      "Trial 4759: Artifacts - 0.0% (Validation: 0, Clipping: 0, Motion: 0)\n",
      "Trial 4760: Artifacts - 0.6% (Validation: 0, Clipping: 0, Motion: 11)\n",
      "Trial 4761: Artifacts - 7.0% (Validation: 0, Clipping: 0, Motion: 123)\n"
     ]
    },
    {
     "name": "stderr",
     "output_type": "stream",
     "text": [
      "/usr/local/lib/python3.11/dist-packages/sklearn/decomposition/_fastica.py:542: FutureWarning: Starting in v1.3, whiten='unit-variance' will be used by default.\n",
      "  warnings.warn(\n"
     ]
    },
    {
     "name": "stdout",
     "output_type": "stream",
     "text": [
      "Trial 4762: Artifacts - 0.0% (Validation: 0, Clipping: 0, Motion: 0)\n",
      "Trial 4763: Artifacts - 0.0% (Validation: 0, Clipping: 0, Motion: 0)\n",
      "Trial 4764: Artifacts - 0.0% (Validation: 0, Clipping: 0, Motion: 0)\n",
      "Trial 4765: Artifacts - 0.0% (Validation: 0, Clipping: 0, Motion: 0)\n",
      "Trial 4766: Artifacts - 0.0% (Validation: 0, Clipping: 0, Motion: 0)\n",
      "Trial 4767: Artifacts - 0.0% (Validation: 0, Clipping: 0, Motion: 0)\n",
      "Trial 4768: Artifacts - 0.0% (Validation: 0, Clipping: 0, Motion: 0)\n",
      "Trial 4769: Artifacts - 0.0% (Validation: 0, Clipping: 0, Motion: 0)\n",
      "Trial 4770: Artifacts - 0.0% (Validation: 0, Clipping: 0, Motion: 0)\n",
      "Trial 4771: Artifacts - 1.6% (Validation: 0, Clipping: 0, Motion: 28)\n",
      "Trial 4772: Artifacts - 7.8% (Validation: 0, Clipping: 0, Motion: 137)\n",
      "Trial 4773: Artifacts - 1.1% (Validation: 0, Clipping: 0, Motion: 20)\n"
     ]
    },
    {
     "name": "stderr",
     "output_type": "stream",
     "text": [
      "/usr/local/lib/python3.11/dist-packages/sklearn/decomposition/_fastica.py:542: FutureWarning: Starting in v1.3, whiten='unit-variance' will be used by default.\n",
      "  warnings.warn(\n"
     ]
    },
    {
     "name": "stdout",
     "output_type": "stream",
     "text": [
      "Trial 4774: Artifacts - 0.1% (Validation: 0, Clipping: 1, Motion: 0)\n",
      "Trial 4775: Artifacts - 9.9% (Validation: 0, Clipping: 0, Motion: 174)\n"
     ]
    },
    {
     "name": "stderr",
     "output_type": "stream",
     "text": [
      "/usr/local/lib/python3.11/dist-packages/sklearn/decomposition/_fastica.py:542: FutureWarning: Starting in v1.3, whiten='unit-variance' will be used by default.\n",
      "  warnings.warn(\n",
      "/usr/local/lib/python3.11/dist-packages/sklearn/decomposition/_fastica.py:542: FutureWarning: Starting in v1.3, whiten='unit-variance' will be used by default.\n",
      "  warnings.warn(\n"
     ]
    },
    {
     "name": "stdout",
     "output_type": "stream",
     "text": [
      "Trial 4776: Artifacts - 8.5% (Validation: 0, Clipping: 0, Motion: 149)\n",
      "Trial 4777: Artifacts - 10.5% (Validation: 0, Clipping: 0, Motion: 184)\n",
      "Trial 4778: Artifacts - 0.0% (Validation: 0, Clipping: 0, Motion: 0)\n"
     ]
    },
    {
     "name": "stderr",
     "output_type": "stream",
     "text": [
      "/usr/local/lib/python3.11/dist-packages/sklearn/decomposition/_fastica.py:542: FutureWarning: Starting in v1.3, whiten='unit-variance' will be used by default.\n",
      "  warnings.warn(\n"
     ]
    },
    {
     "name": "stdout",
     "output_type": "stream",
     "text": [
      "Trial 4779: Artifacts - 18.3% (Validation: 0, Clipping: 0, Motion: 320)\n"
     ]
    },
    {
     "name": "stderr",
     "output_type": "stream",
     "text": [
      "/usr/local/lib/python3.11/dist-packages/sklearn/decomposition/_fastica.py:542: FutureWarning: Starting in v1.3, whiten='unit-variance' will be used by default.\n",
      "  warnings.warn(\n"
     ]
    },
    {
     "name": "stdout",
     "output_type": "stream",
     "text": [
      "Trial 4780: Artifacts - 0.1% (Validation: 0, Clipping: 1, Motion: 1)\n",
      "Trial 4781: Artifacts - 4.2% (Validation: 0, Clipping: 0, Motion: 74)\n"
     ]
    },
    {
     "name": "stderr",
     "output_type": "stream",
     "text": [
      "/usr/local/lib/python3.11/dist-packages/sklearn/decomposition/_fastica.py:542: FutureWarning: Starting in v1.3, whiten='unit-variance' will be used by default.\n",
      "  warnings.warn(\n"
     ]
    },
    {
     "name": "stdout",
     "output_type": "stream",
     "text": [
      "Trial 4782: Artifacts - 0.0% (Validation: 0, Clipping: 0, Motion: 0)\n",
      "Trial 4783: Artifacts - 9.4% (Validation: 0, Clipping: 1, Motion: 163)\n"
     ]
    },
    {
     "name": "stderr",
     "output_type": "stream",
     "text": [
      "/usr/local/lib/python3.11/dist-packages/sklearn/decomposition/_fastica.py:542: FutureWarning: Starting in v1.3, whiten='unit-variance' will be used by default.\n",
      "  warnings.warn(\n"
     ]
    },
    {
     "name": "stdout",
     "output_type": "stream",
     "text": [
      "Trial 4784: Artifacts - 1.3% (Validation: 0, Clipping: 0, Motion: 23)\n",
      "Trial 4785: Artifacts - 0.1% (Validation: 0, Clipping: 1, Motion: 0)\n",
      "Trial 4786: Artifacts - 4.5% (Validation: 0, Clipping: 0, Motion: 79)\n"
     ]
    },
    {
     "name": "stderr",
     "output_type": "stream",
     "text": [
      "/usr/local/lib/python3.11/dist-packages/sklearn/decomposition/_fastica.py:542: FutureWarning: Starting in v1.3, whiten='unit-variance' will be used by default.\n",
      "  warnings.warn(\n"
     ]
    },
    {
     "name": "stdout",
     "output_type": "stream",
     "text": [
      "Trial 4787: Artifacts - 9.0% (Validation: 0, Clipping: 0, Motion: 158)\n",
      "Trial 4788: Artifacts - 5.6% (Validation: 0, Clipping: 0, Motion: 98)\n"
     ]
    },
    {
     "name": "stderr",
     "output_type": "stream",
     "text": [
      "/usr/local/lib/python3.11/dist-packages/sklearn/decomposition/_fastica.py:542: FutureWarning: Starting in v1.3, whiten='unit-variance' will be used by default.\n",
      "  warnings.warn(\n",
      "/usr/local/lib/python3.11/dist-packages/sklearn/decomposition/_fastica.py:542: FutureWarning: Starting in v1.3, whiten='unit-variance' will be used by default.\n",
      "  warnings.warn(\n"
     ]
    },
    {
     "name": "stdout",
     "output_type": "stream",
     "text": [
      "Trial 4789: Artifacts - 8.1% (Validation: 0, Clipping: 1, Motion: 141)\n",
      "Trial 4790: Artifacts - 1.7% (Validation: 0, Clipping: 0, Motion: 29)\n"
     ]
    },
    {
     "name": "stderr",
     "output_type": "stream",
     "text": [
      "/usr/local/lib/python3.11/dist-packages/sklearn/decomposition/_fastica.py:542: FutureWarning: Starting in v1.3, whiten='unit-variance' will be used by default.\n",
      "  warnings.warn(\n"
     ]
    },
    {
     "name": "stdout",
     "output_type": "stream",
     "text": [
      "Trial 4791: Artifacts - 10.5% (Validation: 0, Clipping: 0, Motion: 184)\n"
     ]
    },
    {
     "name": "stderr",
     "output_type": "stream",
     "text": [
      "/usr/local/lib/python3.11/dist-packages/sklearn/decomposition/_fastica.py:542: FutureWarning: Starting in v1.3, whiten='unit-variance' will be used by default.\n",
      "  warnings.warn(\n"
     ]
    },
    {
     "name": "stdout",
     "output_type": "stream",
     "text": [
      "Trial 4792: Artifacts - 0.0% (Validation: 0, Clipping: 0, Motion: 0)\n",
      "Trial 4793: Artifacts - 0.0% (Validation: 0, Clipping: 0, Motion: 0)\n",
      "Trial 4794: Artifacts - 0.0% (Validation: 0, Clipping: 0, Motion: 0)\n",
      "Trial 4795: Artifacts - 0.0% (Validation: 0, Clipping: 0, Motion: 0)\n",
      "Trial 4796: Artifacts - 0.0% (Validation: 0, Clipping: 0, Motion: 0)\n",
      "Trial 4797: Artifacts - 0.4% (Validation: 0, Clipping: 0, Motion: 7)\n",
      "Trial 4798: Artifacts - 8.0% (Validation: 0, Clipping: 0, Motion: 140)\n",
      "Trial 4799: Artifacts - 0.0% (Validation: 0, Clipping: 0, Motion: 0)\n"
     ]
    },
    {
     "name": "stderr",
     "output_type": "stream",
     "text": [
      "/usr/local/lib/python3.11/dist-packages/sklearn/decomposition/_fastica.py:542: FutureWarning: Starting in v1.3, whiten='unit-variance' will be used by default.\n",
      "  warnings.warn(\n"
     ]
    },
    {
     "name": "stdout",
     "output_type": "stream",
     "text": [
      "Trial 4800: Artifacts - 0.0% (Validation: 0, Clipping: 0, Motion: 0)\n",
      "Processed 4800/4800 trials\n",
      "\n",
      "===== TRAIN SET SUMMARY =====\n",
      "Total trials: 4800\n",
      "Successfully processed: 4634 (96.5%)\n",
      "Rejected trials: 166 (3.5%)\n",
      "Error trials: 0 (0.0%)\n",
      "Average artifact percentage: 5.1%\n",
      "Median artifact percentage: 0.5%\n",
      "\n",
      "=== PROCESSING VALIDATION SET ===\n",
      "Preprocessing validation set with 100 trials...\n",
      "Trial 4801: Artifacts - 0.0% (Validation: 0, Clipping: 0, Motion: 0)\n",
      "Trial 4802: Artifacts - 0.7% (Validation: 0, Clipping: 0, Motion: 16)\n",
      "Trial 4803: Artifacts - 3.1% (Validation: 0, Clipping: 0, Motion: 70)\n"
     ]
    },
    {
     "name": "stderr",
     "output_type": "stream",
     "text": [
      "/usr/local/lib/python3.11/dist-packages/sklearn/decomposition/_fastica.py:542: FutureWarning: Starting in v1.3, whiten='unit-variance' will be used by default.\n",
      "  warnings.warn(\n"
     ]
    },
    {
     "name": "stdout",
     "output_type": "stream",
     "text": [
      "Trial 4804: Artifacts - 0.0% (Validation: 0, Clipping: 0, Motion: 0)\n",
      "Trial 4805: Artifacts - 0.0% (Validation: 0, Clipping: 0, Motion: 0)\n",
      "Trial 4806: Artifacts - 1.3% (Validation: 0, Clipping: 0, Motion: 29)\n",
      "Trial 4807: Artifacts - 0.0% (Validation: 0, Clipping: 0, Motion: 0)\n",
      "Trial 4808: Artifacts - 0.0% (Validation: 0, Clipping: 0, Motion: 0)\n",
      "Trial 4809: Artifacts - 0.0% (Validation: 0, Clipping: 1, Motion: 0)\n",
      "Trial 4810: Artifacts - 0.0% (Validation: 0, Clipping: 0, Motion: 0)\n",
      "Trial 4811: Artifacts - 16.3% (Validation: 366, Clipping: 76, Motion: 0)\n",
      "Trial 4812: Artifacts - 12.6% (Validation: 177, Clipping: 9, Motion: 122)\n"
     ]
    },
    {
     "name": "stderr",
     "output_type": "stream",
     "text": [
      "/usr/local/lib/python3.11/dist-packages/sklearn/decomposition/_fastica.py:542: FutureWarning: Starting in v1.3, whiten='unit-variance' will be used by default.\n",
      "  warnings.warn(\n"
     ]
    },
    {
     "name": "stdout",
     "output_type": "stream",
     "text": [
      "REJECTING trial 4813: 30.4% artifacts\n",
      "Trial 4814: Artifacts - 14.3% (Validation: 321, Clipping: 61, Motion: 0)\n",
      "Trial 4815: Artifacts - 0.3% (Validation: 0, Clipping: 0, Motion: 7)\n",
      "Trial 4816: Artifacts - 18.2% (Validation: 410, Clipping: 79, Motion: 0)\n",
      "Trial 4817: Artifacts - 22.8% (Validation: 513, Clipping: 129, Motion: 0)\n",
      "Trial 4818: Artifacts - 21.9% (Validation: 493, Clipping: 126, Motion: 0)\n",
      "Trial 4819: Artifacts - 14.3% (Validation: 310, Clipping: 54, Motion: 10)\n",
      "Trial 4820: Artifacts - 15.9% (Validation: 358, Clipping: 113, Motion: 0)\n",
      "Trial 4821: Artifacts - 4.2% (Validation: 0, Clipping: 0, Motion: 94)\n"
     ]
    },
    {
     "name": "stderr",
     "output_type": "stream",
     "text": [
      "/usr/local/lib/python3.11/dist-packages/sklearn/decomposition/_fastica.py:542: FutureWarning: Starting in v1.3, whiten='unit-variance' will be used by default.\n",
      "  warnings.warn(\n"
     ]
    },
    {
     "name": "stdout",
     "output_type": "stream",
     "text": [
      "Trial 4822: Artifacts - 0.0% (Validation: 0, Clipping: 0, Motion: 0)\n",
      "Trial 4823: Artifacts - 4.9% (Validation: 0, Clipping: 0, Motion: 111)\n"
     ]
    },
    {
     "name": "stderr",
     "output_type": "stream",
     "text": [
      "/usr/local/lib/python3.11/dist-packages/sklearn/decomposition/_fastica.py:542: FutureWarning: Starting in v1.3, whiten='unit-variance' will be used by default.\n",
      "  warnings.warn(\n"
     ]
    },
    {
     "name": "stdout",
     "output_type": "stream",
     "text": [
      "Trial 4824: Artifacts - 2.9% (Validation: 0, Clipping: 0, Motion: 66)\n"
     ]
    },
    {
     "name": "stderr",
     "output_type": "stream",
     "text": [
      "/usr/local/lib/python3.11/dist-packages/sklearn/decomposition/_fastica.py:542: FutureWarning: Starting in v1.3, whiten='unit-variance' will be used by default.\n",
      "  warnings.warn(\n"
     ]
    },
    {
     "name": "stdout",
     "output_type": "stream",
     "text": [
      "Trial 4825: Artifacts - 0.0% (Validation: 0, Clipping: 0, Motion: 0)\n",
      "Trial 4826: Artifacts - 12.4% (Validation: 0, Clipping: 0, Motion: 279)\n"
     ]
    },
    {
     "name": "stderr",
     "output_type": "stream",
     "text": [
      "/usr/local/lib/python3.11/dist-packages/sklearn/decomposition/_fastica.py:542: FutureWarning: Starting in v1.3, whiten='unit-variance' will be used by default.\n",
      "  warnings.warn(\n"
     ]
    },
    {
     "name": "stdout",
     "output_type": "stream",
     "text": [
      "Trial 4827: Artifacts - 3.6% (Validation: 0, Clipping: 1, Motion: 80)\n"
     ]
    },
    {
     "name": "stderr",
     "output_type": "stream",
     "text": [
      "/usr/local/lib/python3.11/dist-packages/sklearn/decomposition/_fastica.py:542: FutureWarning: Starting in v1.3, whiten='unit-variance' will be used by default.\n",
      "  warnings.warn(\n",
      "/usr/local/lib/python3.11/dist-packages/sklearn/decomposition/_fastica.py:123: ConvergenceWarning: FastICA did not converge. Consider increasing tolerance or the maximum number of iterations.\n",
      "  warnings.warn(\n",
      "/usr/local/lib/python3.11/dist-packages/sklearn/decomposition/_fastica.py:542: FutureWarning: Starting in v1.3, whiten='unit-variance' will be used by default.\n",
      "  warnings.warn(\n"
     ]
    },
    {
     "name": "stdout",
     "output_type": "stream",
     "text": [
      "Trial 4828: Artifacts - 10.9% (Validation: 0, Clipping: 0, Motion: 245)\n",
      "Trial 4829: Artifacts - 1.2% (Validation: 0, Clipping: 0, Motion: 26)\n",
      "Trial 4830: Artifacts - 0.0% (Validation: 0, Clipping: 0, Motion: 0)\n",
      "Trial 4831: Artifacts - 1.9% (Validation: 0, Clipping: 0, Motion: 42)\n",
      "Trial 4832: Artifacts - 2.0% (Validation: 26, Clipping: 0, Motion: 20)\n",
      "Trial 4833: Artifacts - 1.2% (Validation: 27, Clipping: 16, Motion: 0)\n",
      "Trial 4834: Artifacts - 0.4% (Validation: 8, Clipping: 9, Motion: 0)\n",
      "Trial 4835: Artifacts - 15.9% (Validation: 354, Clipping: 52, Motion: 17)\n",
      "Trial 4836: Artifacts - 0.2% (Validation: 0, Clipping: 0, Motion: 5)\n",
      "Trial 4837: Artifacts - 16.1% (Validation: 347, Clipping: 99, Motion: 26)\n",
      "Trial 4838: Artifacts - 2.2% (Validation: 35, Clipping: 35, Motion: 14)\n",
      "Trial 4839: Artifacts - 17.5% (Validation: 393, Clipping: 133, Motion: 0)\n",
      "Trial 4840: Artifacts - 6.5% (Validation: 145, Clipping: 103, Motion: 0)\n",
      "Trial 4841: Artifacts - 7.2% (Validation: 0, Clipping: 0, Motion: 161)\n"
     ]
    },
    {
     "name": "stderr",
     "output_type": "stream",
     "text": [
      "/usr/local/lib/python3.11/dist-packages/sklearn/decomposition/_fastica.py:542: FutureWarning: Starting in v1.3, whiten='unit-variance' will be used by default.\n",
      "  warnings.warn(\n"
     ]
    },
    {
     "name": "stdout",
     "output_type": "stream",
     "text": [
      "Trial 4842: Artifacts - 9.6% (Validation: 0, Clipping: 0, Motion: 216)\n"
     ]
    },
    {
     "name": "stderr",
     "output_type": "stream",
     "text": [
      "/usr/local/lib/python3.11/dist-packages/sklearn/decomposition/_fastica.py:542: FutureWarning: Starting in v1.3, whiten='unit-variance' will be used by default.\n",
      "  warnings.warn(\n"
     ]
    },
    {
     "name": "stdout",
     "output_type": "stream",
     "text": [
      "Trial 4843: Artifacts - 0.0% (Validation: 0, Clipping: 0, Motion: 0)\n",
      "Trial 4844: Artifacts - 0.0% (Validation: 0, Clipping: 0, Motion: 0)\n",
      "Trial 4845: Artifacts - 0.8% (Validation: 0, Clipping: 0, Motion: 18)\n",
      "Trial 4846: Artifacts - 0.0% (Validation: 0, Clipping: 0, Motion: 0)\n",
      "Trial 4847: Artifacts - 0.0% (Validation: 0, Clipping: 0, Motion: 0)\n",
      "Trial 4848: Artifacts - 0.0% (Validation: 0, Clipping: 0, Motion: 0)\n",
      "Trial 4849: Artifacts - 0.2% (Validation: 0, Clipping: 0, Motion: 4)\n",
      "Trial 4850: Artifacts - 7.8% (Validation: 0, Clipping: 0, Motion: 176)\n"
     ]
    },
    {
     "name": "stderr",
     "output_type": "stream",
     "text": [
      "/usr/local/lib/python3.11/dist-packages/sklearn/decomposition/_fastica.py:542: FutureWarning: Starting in v1.3, whiten='unit-variance' will be used by default.\n",
      "  warnings.warn(\n"
     ]
    },
    {
     "name": "stdout",
     "output_type": "stream",
     "text": [
      "Trial 4851: Artifacts - 10.2% (Validation: 0, Clipping: 1, Motion: 177)\n"
     ]
    },
    {
     "name": "stderr",
     "output_type": "stream",
     "text": [
      "/usr/local/lib/python3.11/dist-packages/sklearn/decomposition/_fastica.py:542: FutureWarning: Starting in v1.3, whiten='unit-variance' will be used by default.\n",
      "  warnings.warn(\n"
     ]
    },
    {
     "name": "stdout",
     "output_type": "stream",
     "text": [
      "Trial 4852: Artifacts - 0.1% (Validation: 0, Clipping: 0, Motion: 2)\n",
      "Trial 4853: Artifacts - 0.0% (Validation: 0, Clipping: 0, Motion: 0)\n",
      "Trial 4854: Artifacts - 6.1% (Validation: 0, Clipping: 0, Motion: 107)\n",
      "Trial 4855: Artifacts - 2.2% (Validation: 0, Clipping: 0, Motion: 38)\n"
     ]
    },
    {
     "name": "stderr",
     "output_type": "stream",
     "text": [
      "/usr/local/lib/python3.11/dist-packages/sklearn/decomposition/_fastica.py:542: FutureWarning: Starting in v1.3, whiten='unit-variance' will be used by default.\n",
      "  warnings.warn(\n"
     ]
    },
    {
     "name": "stdout",
     "output_type": "stream",
     "text": [
      "Trial 4856: Artifacts - 0.0% (Validation: 0, Clipping: 0, Motion: 0)\n",
      "Trial 4857: Artifacts - 0.0% (Validation: 0, Clipping: 0, Motion: 0)\n",
      "Trial 4858: Artifacts - 0.0% (Validation: 0, Clipping: 0, Motion: 0)\n",
      "Trial 4859: Artifacts - 0.2% (Validation: 0, Clipping: 1, Motion: 2)\n",
      "Trial 4860: Artifacts - 0.3% (Validation: 0, Clipping: 1, Motion: 4)\n",
      "Trial 4861: Artifacts - 8.8% (Validation: 0, Clipping: 0, Motion: 154)\n"
     ]
    },
    {
     "name": "stderr",
     "output_type": "stream",
     "text": [
      "/usr/local/lib/python3.11/dist-packages/sklearn/decomposition/_fastica.py:542: FutureWarning: Starting in v1.3, whiten='unit-variance' will be used by default.\n",
      "  warnings.warn(\n"
     ]
    },
    {
     "name": "stdout",
     "output_type": "stream",
     "text": [
      "Trial 4862: Artifacts - 1.6% (Validation: 0, Clipping: 1, Motion: 27)\n",
      "Trial 4863: Artifacts - 1.5% (Validation: 0, Clipping: 1, Motion: 26)\n",
      "REJECTING trial 4864: 28.1% artifacts\n",
      "REJECTING trial 4865: 39.1% artifacts\n",
      "Trial 4866: Artifacts - 14.2% (Validation: 150, Clipping: 89, Motion: 98)\n"
     ]
    },
    {
     "name": "stderr",
     "output_type": "stream",
     "text": [
      "/usr/local/lib/python3.11/dist-packages/sklearn/decomposition/_fastica.py:542: FutureWarning: Starting in v1.3, whiten='unit-variance' will be used by default.\n",
      "  warnings.warn(\n"
     ]
    },
    {
     "name": "stdout",
     "output_type": "stream",
     "text": [
      "Trial 4867: Artifacts - 17.4% (Validation: 295, Clipping: 62, Motion: 8)\n",
      "Trial 4868: Artifacts - 14.2% (Validation: 247, Clipping: 66, Motion: 0)\n",
      "REJECTING trial 4869: 40.8% artifacts\n",
      "REJECTING trial 4870: 46.3% artifacts\n",
      "Trial 4871: Artifacts - 3.4% (Validation: 0, Clipping: 1, Motion: 58)\n"
     ]
    },
    {
     "name": "stderr",
     "output_type": "stream",
     "text": [
      "/usr/local/lib/python3.11/dist-packages/sklearn/decomposition/_fastica.py:542: FutureWarning: Starting in v1.3, whiten='unit-variance' will be used by default.\n",
      "  warnings.warn(\n"
     ]
    },
    {
     "name": "stdout",
     "output_type": "stream",
     "text": [
      "Trial 4872: Artifacts - 0.1% (Validation: 0, Clipping: 1, Motion: 0)\n",
      "Trial 4873: Artifacts - 0.1% (Validation: 0, Clipping: 1, Motion: 0)\n",
      "Trial 4874: Artifacts - 1.1% (Validation: 0, Clipping: 1, Motion: 18)\n",
      "Trial 4875: Artifacts - 0.1% (Validation: 0, Clipping: 1, Motion: 0)\n",
      "Trial 4876: Artifacts - 6.0% (Validation: 90, Clipping: 1, Motion: 14)\n",
      "Trial 4877: Artifacts - 3.3% (Validation: 39, Clipping: 1, Motion: 17)\n",
      "Trial 4878: Artifacts - 5.1% (Validation: 88, Clipping: 1, Motion: 0)\n",
      "Trial 4879: Artifacts - 0.1% (Validation: 0, Clipping: 1, Motion: 0)\n",
      "Trial 4880: Artifacts - 0.1% (Validation: 0, Clipping: 1, Motion: 0)\n",
      "Trial 4881: Artifacts - 17.8% (Validation: 241, Clipping: 0, Motion: 71)\n"
     ]
    },
    {
     "name": "stderr",
     "output_type": "stream",
     "text": [
      "/usr/local/lib/python3.11/dist-packages/sklearn/decomposition/_fastica.py:542: FutureWarning: Starting in v1.3, whiten='unit-variance' will be used by default.\n",
      "  warnings.warn(\n"
     ]
    },
    {
     "name": "stdout",
     "output_type": "stream",
     "text": [
      "Trial 4882: Artifacts - 10.1% (Validation: 169, Clipping: 35, Motion: 6)\n",
      "Trial 4883: Artifacts - 8.8% (Validation: 153, Clipping: 54, Motion: 0)\n",
      "Trial 4884: Artifacts - 5.1% (Validation: 89, Clipping: 44, Motion: 0)\n",
      "Trial 4885: Artifacts - 20.6% (Validation: 263, Clipping: 59, Motion: 147)\n"
     ]
    },
    {
     "name": "stderr",
     "output_type": "stream",
     "text": [
      "/usr/local/lib/python3.11/dist-packages/sklearn/decomposition/_fastica.py:542: FutureWarning: Starting in v1.3, whiten='unit-variance' will be used by default.\n",
      "  warnings.warn(\n"
     ]
    },
    {
     "name": "stdout",
     "output_type": "stream",
     "text": [
      "Trial 4886: Artifacts - 10.7% (Validation: 174, Clipping: 44, Motion: 14)\n",
      "Trial 4887: Artifacts - 24.2% (Validation: 314, Clipping: 43, Motion: 148)\n"
     ]
    },
    {
     "name": "stderr",
     "output_type": "stream",
     "text": [
      "/usr/local/lib/python3.11/dist-packages/sklearn/decomposition/_fastica.py:542: FutureWarning: Starting in v1.3, whiten='unit-variance' will be used by default.\n",
      "  warnings.warn(\n"
     ]
    },
    {
     "name": "stdout",
     "output_type": "stream",
     "text": [
      "Trial 4888: Artifacts - 3.7% (Validation: 65, Clipping: 0, Motion: 0)\n",
      "Trial 4889: Artifacts - 1.0% (Validation: 0, Clipping: 0, Motion: 18)\n",
      "Trial 4890: Artifacts - 0.0% (Validation: 0, Clipping: 0, Motion: 0)\n",
      "Trial 4891: Artifacts - 14.2% (Validation: 0, Clipping: 1, Motion: 249)\n"
     ]
    },
    {
     "name": "stderr",
     "output_type": "stream",
     "text": [
      "/usr/local/lib/python3.11/dist-packages/sklearn/decomposition/_fastica.py:542: FutureWarning: Starting in v1.3, whiten='unit-variance' will be used by default.\n",
      "  warnings.warn(\n"
     ]
    },
    {
     "name": "stdout",
     "output_type": "stream",
     "text": [
      "Trial 4892: Artifacts - 0.0% (Validation: 0, Clipping: 0, Motion: 0)\n",
      "Trial 4893: Artifacts - 5.0% (Validation: 0, Clipping: 0, Motion: 88)\n"
     ]
    },
    {
     "name": "stderr",
     "output_type": "stream",
     "text": [
      "/usr/local/lib/python3.11/dist-packages/sklearn/decomposition/_fastica.py:542: FutureWarning: Starting in v1.3, whiten='unit-variance' will be used by default.\n",
      "  warnings.warn(\n",
      "/usr/local/lib/python3.11/dist-packages/sklearn/decomposition/_fastica.py:542: FutureWarning: Starting in v1.3, whiten='unit-variance' will be used by default.\n",
      "  warnings.warn(\n"
     ]
    },
    {
     "name": "stdout",
     "output_type": "stream",
     "text": [
      "Trial 4894: Artifacts - 9.7% (Validation: 0, Clipping: 1, Motion: 168)\n",
      "Trial 4895: Artifacts - 1.1% (Validation: 0, Clipping: 0, Motion: 19)\n",
      "Trial 4896: Artifacts - 0.0% (Validation: 0, Clipping: 0, Motion: 0)\n",
      "Trial 4897: Artifacts - 0.3% (Validation: 0, Clipping: 0, Motion: 6)\n",
      "Trial 4898: Artifacts - 1.2% (Validation: 0, Clipping: 1, Motion: 20)\n",
      "Trial 4899: Artifacts - 0.0% (Validation: 0, Clipping: 0, Motion: 0)\n",
      "Trial 4900: Artifacts - 0.0% (Validation: 0, Clipping: 0, Motion: 0)\n",
      "Processed 100/100 trials\n",
      "\n",
      "===== VALIDATION SET SUMMARY =====\n",
      "Total trials: 100\n",
      "Successfully processed: 95 (95.0%)\n",
      "Rejected trials: 5 (5.0%)\n",
      "Error trials: 0 (0.0%)\n",
      "Average artifact percentage: 6.9%\n",
      "Median artifact percentage: 2.1%\n",
      "\n",
      "=== PROCESSING TEST SET ===\n",
      "Preprocessing test set with 100 trials...\n",
      "Trial 4901: Artifacts - 8.8% (Validation: 132, Clipping: 24, Motion: 66)\n"
     ]
    },
    {
     "name": "stderr",
     "output_type": "stream",
     "text": [
      "/usr/local/lib/python3.11/dist-packages/sklearn/decomposition/_fastica.py:542: FutureWarning: Starting in v1.3, whiten='unit-variance' will be used by default.\n",
      "  warnings.warn(\n"
     ]
    },
    {
     "name": "stdout",
     "output_type": "stream",
     "text": [
      "Trial 4902: Artifacts - 6.3% (Validation: 142, Clipping: 46, Motion: 0)\n",
      "Trial 4903: Artifacts - 0.0% (Validation: 0, Clipping: 1, Motion: 0)\n",
      "Trial 4904: Artifacts - 3.9% (Validation: 86, Clipping: 13, Motion: 0)\n",
      "Trial 4905: Artifacts - 2.9% (Validation: 66, Clipping: 19, Motion: 0)\n",
      "Trial 4906: Artifacts - 11.2% (Validation: 253, Clipping: 56, Motion: 0)\n",
      "Trial 4907: Artifacts - 11.7% (Validation: 263, Clipping: 51, Motion: 0)\n",
      "Trial 4908: Artifacts - 1.9% (Validation: 42, Clipping: 11, Motion: 0)\n",
      "Trial 4909: Artifacts - 3.6% (Validation: 81, Clipping: 44, Motion: 0)\n",
      "Trial 4910: Artifacts - 0.3% (Validation: 0, Clipping: 0, Motion: 6)\n",
      "Trial 4911: Artifacts - 11.8% (Validation: 0, Clipping: 1, Motion: 265)\n"
     ]
    },
    {
     "name": "stderr",
     "output_type": "stream",
     "text": [
      "/usr/local/lib/python3.11/dist-packages/sklearn/decomposition/_fastica.py:542: FutureWarning: Starting in v1.3, whiten='unit-variance' will be used by default.\n",
      "  warnings.warn(\n"
     ]
    },
    {
     "name": "stdout",
     "output_type": "stream",
     "text": [
      "Trial 4912: Artifacts - 0.0% (Validation: 0, Clipping: 0, Motion: 0)\n",
      "Trial 4913: Artifacts - 8.8% (Validation: 0, Clipping: 0, Motion: 199)\n"
     ]
    },
    {
     "name": "stderr",
     "output_type": "stream",
     "text": [
      "/usr/local/lib/python3.11/dist-packages/sklearn/decomposition/_fastica.py:542: FutureWarning: Starting in v1.3, whiten='unit-variance' will be used by default.\n",
      "  warnings.warn(\n"
     ]
    },
    {
     "name": "stdout",
     "output_type": "stream",
     "text": [
      "Trial 4914: Artifacts - 0.9% (Validation: 0, Clipping: 0, Motion: 20)\n",
      "Trial 4915: Artifacts - 5.9% (Validation: 0, Clipping: 0, Motion: 132)\n"
     ]
    },
    {
     "name": "stderr",
     "output_type": "stream",
     "text": [
      "/usr/local/lib/python3.11/dist-packages/sklearn/decomposition/_fastica.py:542: FutureWarning: Starting in v1.3, whiten='unit-variance' will be used by default.\n",
      "  warnings.warn(\n"
     ]
    },
    {
     "name": "stdout",
     "output_type": "stream",
     "text": [
      "Trial 4916: Artifacts - 0.0% (Validation: 0, Clipping: 0, Motion: 0)\n",
      "Trial 4917: Artifacts - 1.0% (Validation: 0, Clipping: 0, Motion: 22)\n",
      "Trial 4918: Artifacts - 0.0% (Validation: 0, Clipping: 0, Motion: 0)\n",
      "Trial 4919: Artifacts - 1.9% (Validation: 0, Clipping: 1, Motion: 42)\n",
      "Trial 4920: Artifacts - 0.0% (Validation: 0, Clipping: 1, Motion: 0)\n",
      "Trial 4921: Artifacts - 17.3% (Validation: 348, Clipping: 0, Motion: 41)\n",
      "Trial 4922: Artifacts - 3.0% (Validation: 51, Clipping: 16, Motion: 17)\n",
      "Trial 4923: Artifacts - 4.0% (Validation: 67, Clipping: 0, Motion: 23)\n",
      "Trial 4924: Artifacts - 4.0% (Validation: 91, Clipping: 0, Motion: 0)\n",
      "Trial 4925: Artifacts - 11.1% (Validation: 129, Clipping: 1, Motion: 158)\n"
     ]
    },
    {
     "name": "stderr",
     "output_type": "stream",
     "text": [
      "/usr/local/lib/python3.11/dist-packages/sklearn/decomposition/_fastica.py:542: FutureWarning: Starting in v1.3, whiten='unit-variance' will be used by default.\n",
      "  warnings.warn(\n"
     ]
    },
    {
     "name": "stdout",
     "output_type": "stream",
     "text": [
      "Trial 4926: Artifacts - 4.1% (Validation: 58, Clipping: 1, Motion: 42)\n",
      "Trial 4927: Artifacts - 10.1% (Validation: 165, Clipping: 1, Motion: 107)\n"
     ]
    },
    {
     "name": "stderr",
     "output_type": "stream",
     "text": [
      "/usr/local/lib/python3.11/dist-packages/sklearn/decomposition/_fastica.py:542: FutureWarning: Starting in v1.3, whiten='unit-variance' will be used by default.\n",
      "  warnings.warn(\n"
     ]
    },
    {
     "name": "stdout",
     "output_type": "stream",
     "text": [
      "Trial 4928: Artifacts - 5.9% (Validation: 10, Clipping: 0, Motion: 123)\n"
     ]
    },
    {
     "name": "stderr",
     "output_type": "stream",
     "text": [
      "/usr/local/lib/python3.11/dist-packages/sklearn/decomposition/_fastica.py:542: FutureWarning: Starting in v1.3, whiten='unit-variance' will be used by default.\n",
      "  warnings.warn(\n"
     ]
    },
    {
     "name": "stdout",
     "output_type": "stream",
     "text": [
      "Trial 4929: Artifacts - 2.6% (Validation: 27, Clipping: 0, Motion: 32)\n",
      "Trial 4930: Artifacts - 9.4% (Validation: 212, Clipping: 21, Motion: 0)\n",
      "Trial 4931: Artifacts - 22.9% (Validation: 421, Clipping: 0, Motion: 107)\n"
     ]
    },
    {
     "name": "stderr",
     "output_type": "stream",
     "text": [
      "/usr/local/lib/python3.11/dist-packages/sklearn/decomposition/_fastica.py:542: FutureWarning: Starting in v1.3, whiten='unit-variance' will be used by default.\n",
      "  warnings.warn(\n"
     ]
    },
    {
     "name": "stdout",
     "output_type": "stream",
     "text": [
      "Trial 4932: Artifacts - 15.9% (Validation: 358, Clipping: 28, Motion: 0)\n",
      "Trial 4933: Artifacts - 22.7% (Validation: 511, Clipping: 63, Motion: 0)\n",
      "Trial 4934: Artifacts - 4.2% (Validation: 95, Clipping: 0, Motion: 0)\n",
      "Trial 4935: Artifacts - 3.3% (Validation: 74, Clipping: 0, Motion: 0)\n",
      "Trial 4936: Artifacts - 2.5% (Validation: 56, Clipping: 1, Motion: 0)\n",
      "Trial 4937: Artifacts - 3.9% (Validation: 88, Clipping: 0, Motion: 0)\n",
      "Trial 4938: Artifacts - 0.0% (Validation: 0, Clipping: 0, Motion: 0)\n",
      "Trial 4939: Artifacts - 7.2% (Validation: 162, Clipping: 0, Motion: 0)\n",
      "Trial 4940: Artifacts - 12.5% (Validation: 281, Clipping: 40, Motion: 0)\n",
      "Trial 4941: Artifacts - 4.8% (Validation: 0, Clipping: 0, Motion: 108)\n"
     ]
    },
    {
     "name": "stderr",
     "output_type": "stream",
     "text": [
      "/usr/local/lib/python3.11/dist-packages/sklearn/decomposition/_fastica.py:542: FutureWarning: Starting in v1.3, whiten='unit-variance' will be used by default.\n",
      "  warnings.warn(\n"
     ]
    },
    {
     "name": "stdout",
     "output_type": "stream",
     "text": [
      "Trial 4942: Artifacts - 0.0% (Validation: 0, Clipping: 0, Motion: 0)\n",
      "Trial 4943: Artifacts - 0.0% (Validation: 0, Clipping: 1, Motion: 0)\n",
      "Trial 4944: Artifacts - 5.6% (Validation: 0, Clipping: 0, Motion: 125)\n"
     ]
    },
    {
     "name": "stderr",
     "output_type": "stream",
     "text": [
      "/usr/local/lib/python3.11/dist-packages/sklearn/decomposition/_fastica.py:542: FutureWarning: Starting in v1.3, whiten='unit-variance' will be used by default.\n",
      "  warnings.warn(\n"
     ]
    },
    {
     "name": "stdout",
     "output_type": "stream",
     "text": [
      "Trial 4945: Artifacts - 0.2% (Validation: 0, Clipping: 0, Motion: 5)\n",
      "Trial 4946: Artifacts - 0.0% (Validation: 0, Clipping: 0, Motion: 0)\n",
      "Trial 4947: Artifacts - 4.2% (Validation: 0, Clipping: 0, Motion: 94)\n"
     ]
    },
    {
     "name": "stderr",
     "output_type": "stream",
     "text": [
      "/usr/local/lib/python3.11/dist-packages/sklearn/decomposition/_fastica.py:542: FutureWarning: Starting in v1.3, whiten='unit-variance' will be used by default.\n",
      "  warnings.warn(\n"
     ]
    },
    {
     "name": "stdout",
     "output_type": "stream",
     "text": [
      "Trial 4948: Artifacts - 0.2% (Validation: 0, Clipping: 0, Motion: 5)\n",
      "Trial 4949: Artifacts - 0.2% (Validation: 0, Clipping: 0, Motion: 5)\n",
      "Trial 4950: Artifacts - 2.6% (Validation: 0, Clipping: 0, Motion: 58)\n"
     ]
    },
    {
     "name": "stderr",
     "output_type": "stream",
     "text": [
      "/usr/local/lib/python3.11/dist-packages/sklearn/decomposition/_fastica.py:542: FutureWarning: Starting in v1.3, whiten='unit-variance' will be used by default.\n",
      "  warnings.warn(\n",
      "/usr/local/lib/python3.11/dist-packages/sklearn/decomposition/_fastica.py:123: ConvergenceWarning: FastICA did not converge. Consider increasing tolerance or the maximum number of iterations.\n",
      "  warnings.warn(\n",
      "/usr/local/lib/python3.11/dist-packages/sklearn/decomposition/_fastica.py:542: FutureWarning: Starting in v1.3, whiten='unit-variance' will be used by default.\n",
      "  warnings.warn(\n"
     ]
    },
    {
     "name": "stdout",
     "output_type": "stream",
     "text": [
      "Trial 4951: Artifacts - 11.8% (Validation: 77, Clipping: 11, Motion: 130)\n",
      "Trial 4952: Artifacts - 9.7% (Validation: 155, Clipping: 0, Motion: 14)\n",
      "Trial 4953: Artifacts - 1.6% (Validation: 27, Clipping: 1, Motion: 0)\n",
      "Trial 4954: Artifacts - 5.9% (Validation: 104, Clipping: 15, Motion: 0)\n",
      "Trial 4955: Artifacts - 3.3% (Validation: 56, Clipping: 11, Motion: 0)\n",
      "Trial 4956: Artifacts - 9.1% (Validation: 160, Clipping: 21, Motion: 0)\n",
      "Trial 4957: Artifacts - 1.4% (Validation: 25, Clipping: 0, Motion: 0)\n",
      "Trial 4958: Artifacts - 11.2% (Validation: 195, Clipping: 22, Motion: 0)\n",
      "Trial 4959: Artifacts - 5.4% (Validation: 95, Clipping: 38, Motion: 0)\n",
      "Trial 4960: Artifacts - 10.0% (Validation: 167, Clipping: 32, Motion: 8)\n",
      "Trial 4961: Artifacts - 2.1% (Validation: 0, Clipping: 0, Motion: 37)\n",
      "Trial 4962: Artifacts - 1.4% (Validation: 0, Clipping: 0, Motion: 24)\n",
      "Trial 4963: Artifacts - 6.3% (Validation: 0, Clipping: 0, Motion: 111)\n"
     ]
    },
    {
     "name": "stderr",
     "output_type": "stream",
     "text": [
      "/usr/local/lib/python3.11/dist-packages/sklearn/decomposition/_fastica.py:542: FutureWarning: Starting in v1.3, whiten='unit-variance' will be used by default.\n",
      "  warnings.warn(\n"
     ]
    },
    {
     "name": "stdout",
     "output_type": "stream",
     "text": [
      "Trial 4964: Artifacts - 1.1% (Validation: 0, Clipping: 0, Motion: 19)\n",
      "Trial 4965: Artifacts - 0.2% (Validation: 0, Clipping: 0, Motion: 4)\n",
      "Trial 4966: Artifacts - 9.8% (Validation: 0, Clipping: 1, Motion: 171)\n",
      "Trial 4967: Artifacts - 6.2% (Validation: 0, Clipping: 1, Motion: 107)\n"
     ]
    },
    {
     "name": "stderr",
     "output_type": "stream",
     "text": [
      "/usr/local/lib/python3.11/dist-packages/sklearn/decomposition/_fastica.py:542: FutureWarning: Starting in v1.3, whiten='unit-variance' will be used by default.\n",
      "  warnings.warn(\n",
      "/usr/local/lib/python3.11/dist-packages/sklearn/decomposition/_fastica.py:542: FutureWarning: Starting in v1.3, whiten='unit-variance' will be used by default.\n",
      "  warnings.warn(\n"
     ]
    },
    {
     "name": "stdout",
     "output_type": "stream",
     "text": [
      "Trial 4968: Artifacts - 0.1% (Validation: 0, Clipping: 1, Motion: 0)\n",
      "Trial 4969: Artifacts - 0.0% (Validation: 0, Clipping: 0, Motion: 0)\n",
      "Trial 4970: Artifacts - 0.0% (Validation: 0, Clipping: 0, Motion: 0)\n",
      "Trial 4971: Artifacts - 2.5% (Validation: 0, Clipping: 0, Motion: 44)\n",
      "Trial 4972: Artifacts - 2.2% (Validation: 0, Clipping: 0, Motion: 39)\n",
      "Trial 4973: Artifacts - 0.4% (Validation: 0, Clipping: 1, Motion: 6)\n",
      "Trial 4974: Artifacts - 0.0% (Validation: 0, Clipping: 0, Motion: 0)\n",
      "Trial 4975: Artifacts - 0.0% (Validation: 0, Clipping: 0, Motion: 0)\n",
      "Trial 4976: Artifacts - 0.2% (Validation: 0, Clipping: 0, Motion: 4)\n",
      "Trial 4977: Artifacts - 0.5% (Validation: 0, Clipping: 0, Motion: 8)\n",
      "Trial 4978: Artifacts - 0.1% (Validation: 0, Clipping: 1, Motion: 0)\n",
      "Trial 4979: Artifacts - 0.0% (Validation: 0, Clipping: 0, Motion: 0)\n",
      "Trial 4980: Artifacts - 0.0% (Validation: 0, Clipping: 0, Motion: 0)\n",
      "Trial 4981: Artifacts - 15.5% (Validation: 102, Clipping: 0, Motion: 178)\n"
     ]
    },
    {
     "name": "stderr",
     "output_type": "stream",
     "text": [
      "/usr/local/lib/python3.11/dist-packages/sklearn/decomposition/_fastica.py:542: FutureWarning: Starting in v1.3, whiten='unit-variance' will be used by default.\n",
      "  warnings.warn(\n"
     ]
    },
    {
     "name": "stdout",
     "output_type": "stream",
     "text": [
      "Trial 4982: Artifacts - 4.5% (Validation: 65, Clipping: 0, Motion: 13)\n",
      "Trial 4983: Artifacts - 0.0% (Validation: 0, Clipping: 0, Motion: 0)\n",
      "Trial 4984: Artifacts - 0.0% (Validation: 0, Clipping: 0, Motion: 0)\n",
      "Trial 4985: Artifacts - 0.1% (Validation: 0, Clipping: 1, Motion: 0)\n",
      "Trial 4986: Artifacts - 0.0% (Validation: 0, Clipping: 0, Motion: 0)\n",
      "Trial 4987: Artifacts - 4.1% (Validation: 70, Clipping: 1, Motion: 0)\n",
      "Trial 4988: Artifacts - 0.0% (Validation: 0, Clipping: 0, Motion: 0)\n",
      "Trial 4989: Artifacts - 5.4% (Validation: 94, Clipping: 1, Motion: 0)\n",
      "Trial 4990: Artifacts - 3.7% (Validation: 60, Clipping: 1, Motion: 4)\n",
      "Trial 4991: Artifacts - 3.4% (Validation: 0, Clipping: 0, Motion: 59)\n"
     ]
    },
    {
     "name": "stderr",
     "output_type": "stream",
     "text": [
      "/usr/local/lib/python3.11/dist-packages/sklearn/decomposition/_fastica.py:542: FutureWarning: Starting in v1.3, whiten='unit-variance' will be used by default.\n",
      "  warnings.warn(\n"
     ]
    },
    {
     "name": "stdout",
     "output_type": "stream",
     "text": [
      "Trial 4992: Artifacts - 10.7% (Validation: 0, Clipping: 0, Motion: 187)\n"
     ]
    },
    {
     "name": "stderr",
     "output_type": "stream",
     "text": [
      "/usr/local/lib/python3.11/dist-packages/sklearn/decomposition/_fastica.py:542: FutureWarning: Starting in v1.3, whiten='unit-variance' will be used by default.\n",
      "  warnings.warn(\n"
     ]
    },
    {
     "name": "stdout",
     "output_type": "stream",
     "text": [
      "Trial 4993: Artifacts - 9.7% (Validation: 0, Clipping: 0, Motion: 169)\n",
      "Trial 4994: Artifacts - 13.9% (Validation: 0, Clipping: 0, Motion: 244)\n"
     ]
    },
    {
     "name": "stderr",
     "output_type": "stream",
     "text": [
      "/usr/local/lib/python3.11/dist-packages/sklearn/decomposition/_fastica.py:542: FutureWarning: Starting in v1.3, whiten='unit-variance' will be used by default.\n",
      "  warnings.warn(\n",
      "/usr/local/lib/python3.11/dist-packages/sklearn/decomposition/_fastica.py:542: FutureWarning: Starting in v1.3, whiten='unit-variance' will be used by default.\n",
      "  warnings.warn(\n",
      "/usr/local/lib/python3.11/dist-packages/sklearn/decomposition/_fastica.py:542: FutureWarning: Starting in v1.3, whiten='unit-variance' will be used by default.\n",
      "  warnings.warn(\n"
     ]
    },
    {
     "name": "stdout",
     "output_type": "stream",
     "text": [
      "Trial 4995: Artifacts - 11.9% (Validation: 0, Clipping: 0, Motion: 209)\n",
      "Trial 4996: Artifacts - 7.1% (Validation: 0, Clipping: 0, Motion: 124)\n"
     ]
    },
    {
     "name": "stderr",
     "output_type": "stream",
     "text": [
      "/usr/local/lib/python3.11/dist-packages/sklearn/decomposition/_fastica.py:542: FutureWarning: Starting in v1.3, whiten='unit-variance' will be used by default.\n",
      "  warnings.warn(\n",
      "/usr/local/lib/python3.11/dist-packages/sklearn/decomposition/_fastica.py:542: FutureWarning: Starting in v1.3, whiten='unit-variance' will be used by default.\n",
      "  warnings.warn(\n"
     ]
    },
    {
     "name": "stdout",
     "output_type": "stream",
     "text": [
      "Trial 4997: Artifacts - 10.8% (Validation: 0, Clipping: 0, Motion: 189)\n",
      "Trial 4998: Artifacts - 13.8% (Validation: 0, Clipping: 1, Motion: 240)\n"
     ]
    },
    {
     "name": "stderr",
     "output_type": "stream",
     "text": [
      "/usr/local/lib/python3.11/dist-packages/sklearn/decomposition/_fastica.py:542: FutureWarning: Starting in v1.3, whiten='unit-variance' will be used by default.\n",
      "  warnings.warn(\n"
     ]
    },
    {
     "name": "stdout",
     "output_type": "stream",
     "text": [
      "Trial 4999: Artifacts - 10.1% (Validation: 0, Clipping: 0, Motion: 177)\n",
      "Trial 5000: Artifacts - 11.7% (Validation: 0, Clipping: 0, Motion: 205)\n"
     ]
    },
    {
     "name": "stderr",
     "output_type": "stream",
     "text": [
      "/usr/local/lib/python3.11/dist-packages/sklearn/decomposition/_fastica.py:542: FutureWarning: Starting in v1.3, whiten='unit-variance' will be used by default.\n",
      "  warnings.warn(\n",
      "/usr/local/lib/python3.11/dist-packages/sklearn/decomposition/_fastica.py:542: FutureWarning: Starting in v1.3, whiten='unit-variance' will be used by default.\n",
      "  warnings.warn(\n"
     ]
    },
    {
     "name": "stdout",
     "output_type": "stream",
     "text": [
      "Processed 100/100 trials\n",
      "\n",
      "===== TEST SET SUMMARY =====\n",
      "Total trials: 100\n",
      "Successfully processed: 100 (100.0%)\n",
      "Rejected trials: 0 (0.0%)\n",
      "Error trials: 0 (0.0%)\n",
      "Average artifact percentage: 5.0%\n",
      "Median artifact percentage: 3.7%\n",
      "\n",
      "===== FINAL SUMMARY =====\n",
      "Total trials in dataset: 5000\n",
      "Successfully processed: 4829 (96.6%)\n",
      "Rejection threshold: >25% artifacts\n",
      "\n",
      "Preprocessing complete! Data saved to: ./quality_controlled_preprocessed/\n",
      "Quality reports available for each dataset:\n",
      "- train_quality.json\n",
      "- validation_quality.json\n",
      "- test_quality.json\n",
      "\n",
      "To analyze results:\n",
      "import json, pandas as pd\n",
      "report = json.load(open('./quality_controlled_preprocessed/train_quality.json'))\n",
      "print(f\"Rejected trials: {len(report['rejected_trials'])}\")\n",
      "print(f\"Error trials: {len(report['error_trials'])}\")\n"
     ]
    }
   ],
   "source": [
    "import numpy as np\n",
    "import pandas as pd\n",
    "import os\n",
    "import json\n",
    "from scipy import signal, fft\n",
    "from sklearn.decomposition import FastICA\n",
    "import traceback\n",
    "\n",
    "# =============================\n",
    "# CONFIGURATION\n",
    "# =============================\n",
    "BASE_PATH = '/kaggle/input/mtcaic3'\n",
    "PREPROCESSED_PATH = './quality_controlled_preprocessed/'\n",
    "EEG_CHANNELS = ['FZ', 'C3', 'CZ', 'C4', 'PZ', 'PO7', 'OZ', 'PO8']\n",
    "MOTION_SENSORS = ['AccX', 'AccY', 'AccZ', 'Gyro1', 'Gyro2', 'Gyro3']\n",
    "FS = 250  # Sampling rate (Hz)\n",
    "ARTIFACT_REJECTION_THRESHOLD = 25  # Reject trials with >50% artifacts\n",
    "\n",
    "# =============================\n",
    "# HELPER FUNCTIONS\n",
    "# =============================\n",
    "def load_full_trial(row):\n",
    "    \"\"\"Load complete trial data with all columns\"\"\"\n",
    "    try:\n",
    "        # Determine dataset split\n",
    "        id_num = row['id']\n",
    "        if id_num <= 4800:\n",
    "            split = 'train'\n",
    "        elif id_num <= 4900:\n",
    "            split = 'validation'\n",
    "        else:\n",
    "            split = 'test'\n",
    "        \n",
    "        # Build file path\n",
    "        eeg_path = f\"{BASE_PATH}/{row['task']}/{split}/{row['subject_id']}/{row['trial_session']}/EEGdata.csv\"\n",
    "        \n",
    "        # Load EEG data\n",
    "        full_data = pd.read_csv(eeg_path)\n",
    "        \n",
    "        # Calculate trial indices\n",
    "        trial_duration = 2250 if row['task'] == 'MI' else 1750\n",
    "        start_idx = (row['trial'] - 1) * trial_duration\n",
    "        end_idx = start_idx + trial_duration\n",
    "        \n",
    "        # Handle short trials\n",
    "        if end_idx > len(full_data):\n",
    "            end_idx = len(full_data)\n",
    "            if end_idx <= start_idx:\n",
    "                raise ValueError(f\"Invalid trial range: {start_idx}-{end_idx}\")\n",
    "        \n",
    "        return full_data.iloc[start_idx:end_idx].copy()\n",
    "    \n",
    "    except Exception as e:\n",
    "        print(f\"Error loading trial {row['id']}: {str(e)}\")\n",
    "        raise\n",
    "\n",
    "def save_preprocessed_data(preprocessed_data, row):\n",
    "    \"\"\"Save preprocessed data to organized directory structure as CSV\"\"\"\n",
    "    # Determine dataset split\n",
    "    id_num = row['id']\n",
    "    if id_num <= 4800:\n",
    "        split = 'train'\n",
    "    elif id_num <= 4900:\n",
    "        split = 'validation'\n",
    "    else:\n",
    "        split = 'test'\n",
    "    \n",
    "    # Create output directory\n",
    "    output_dir = f\"{PREPROCESSED_PATH}/{row['task']}/{split}/{row['subject_id']}/{row['trial_session']}/\"\n",
    "    os.makedirs(output_dir, exist_ok=True)\n",
    "    \n",
    "    # Save as CSV file\n",
    "    output_path = f\"{output_dir}/trial_{row['trial']}.csv\"\n",
    "    preprocessed_data.to_csv(output_path, index=False)\n",
    "    \n",
    "    return output_path\n",
    "\n",
    "# =============================\n",
    "# QUALITY-CONTROLLED PREPROCESSING\n",
    "# =============================\n",
    "def remove_line_noise(data, f0=50, harmonics=3):\n",
    "    \"\"\"Adaptive multi-notch filtering with phase correction\"\"\"\n",
    "    filtered = data.copy()\n",
    "    n_samples = len(data)\n",
    "    \n",
    "    for n in range(1, harmonics + 1):\n",
    "        freq = n * f0\n",
    "        if freq < FS/2.1:\n",
    "            Q = 35 if n == 1 else 25\n",
    "            b, a = signal.iirnotch(freq, Q, FS)\n",
    "            filtered = signal.filtfilt(b, a, filtered, axis=0)\n",
    "    \n",
    "    return filtered\n",
    "\n",
    "def preprocess_trial(trial_data, task, trial_id=None):\n",
    "    \"\"\"Quality-controlled preprocessing with artifact rejection\"\"\"\n",
    "    try:\n",
    "        # 1. Convert nV to μV\n",
    "        eeg_data = trial_data[EEG_CHANNELS].copy() / 1000\n",
    "        \n",
    "        # 2. Extract validation flags and motion sensors\n",
    "        validation_flags = trial_data['Validation'].values if 'Validation' in trial_data else None\n",
    "        motion_data = trial_data[MOTION_SENSORS].copy() if all(col in trial_data for col in MOTION_SENSORS) else None\n",
    "        \n",
    "        # 3. Remove DC offset using median\n",
    "        eeg_data = eeg_data - np.median(eeg_data, axis=0)\n",
    "        \n",
    "        # 4. Create combined artifact mask\n",
    "        artifact_mask = np.zeros(len(eeg_data), dtype=bool)\n",
    "        artifact_counts = {'validation': 0, 'clipping': 0, 'motion': 0}\n",
    "        \n",
    "        # Handle validation flags - only mark explicit invalid points\n",
    "        if validation_flags is not None:\n",
    "            validation_artifacts = (validation_flags == 0)\n",
    "            artifact_mask |= validation_artifacts\n",
    "            artifact_counts['validation'] = int(np.sum(validation_artifacts))  # Convert to int\n",
    "        \n",
    "        # Optimized clipping detection\n",
    "        def detect_clipping(channel_data):\n",
    "            \"\"\"Less aggressive clipping detection\"\"\"\n",
    "            # Find flat segments (consecutive identical values)\n",
    "            diff = np.diff(channel_data, prepend=channel_data[0])\n",
    "            flat_points = (np.abs(diff) < 1e-4)\n",
    "            \n",
    "            # Find extreme values (only top/bottom 1% of range)\n",
    "            data_range = np.max(channel_data) - np.min(channel_data)\n",
    "            if data_range < 1e-5:  # Avoid division by zero for flat channels\n",
    "                return np.zeros_like(channel_data, dtype=bool)\n",
    "                \n",
    "            extreme_threshold = 0.01 * data_range\n",
    "            top_extreme = channel_data > (np.max(channel_data) - extreme_threshold)\n",
    "            bottom_extreme = channel_data < (np.min(channel_data) + extreme_threshold)\n",
    "            \n",
    "            # Only mark as clipping if flat AND extreme\n",
    "            return flat_points & (top_extreme | bottom_extreme)\n",
    "        \n",
    "        # Apply clipping detection per channel\n",
    "        clipping_mask = np.zeros(len(eeg_data), dtype=bool)\n",
    "        for channel in EEG_CHANNELS:\n",
    "            channel_mask = detect_clipping(eeg_data[channel].values)\n",
    "            clipping_mask |= channel_mask\n",
    "        \n",
    "        artifact_mask |= clipping_mask\n",
    "        artifact_counts['clipping'] = int(np.sum(clipping_mask))  # Convert to int\n",
    "        \n",
    "        # Motion artifact detection - less sensitive\n",
    "        if motion_data is not None and not motion_data.empty:\n",
    "            # Compute motion magnitude\n",
    "            acc_mag = np.sqrt(motion_data[['AccX', 'AccY', 'AccZ']].pow(2).sum(axis=1))\n",
    "            gyro_mag = np.sqrt(motion_data[['Gyro1', 'Gyro2', 'Gyro3']].pow(2).sum(axis=1))\n",
    "            motion_index = acc_mag + gyro_mag\n",
    "            \n",
    "            # Only detect motion if there's variation\n",
    "            if motion_index.nunique() > 1:\n",
    "                # Use percentiles instead of z-scores\n",
    "                upper_quartile = np.percentile(motion_index, 75)\n",
    "                lower_quartile = np.percentile(motion_index, 25)\n",
    "                iqr = upper_quartile - lower_quartile\n",
    "                \n",
    "                # Higher threshold for motion detection\n",
    "                motion_threshold = upper_quartile + 3 * iqr\n",
    "                motion_artifacts = motion_index > motion_threshold\n",
    "                \n",
    "                artifact_mask |= motion_artifacts\n",
    "                artifact_counts['motion'] = int(np.sum(motion_artifacts))  # Convert to int\n",
    "        \n",
    "        # Calculate artifact percentage\n",
    "        total_artifacts = np.sum(artifact_mask)\n",
    "        artifact_percent = total_artifacts / len(artifact_mask) * 100\n",
    "        \n",
    "        # ===== QUALITY CONTROL =====\n",
    "        # Reject severely contaminated trials\n",
    "        if artifact_percent > ARTIFACT_REJECTION_THRESHOLD:\n",
    "            if trial_id:\n",
    "                print(f\"REJECTING trial {trial_id}: {artifact_percent:.1f}% artifacts\")\n",
    "            return None, artifact_percent, artifact_counts\n",
    "        \n",
    "        # Log artifact statistics\n",
    "        if trial_id:\n",
    "            print(f\"Trial {trial_id}: Artifacts - {artifact_percent:.1f}% \"\n",
    "                  f\"(Validation: {artifact_counts['validation']}, \"\n",
    "                  f\"Clipping: {artifact_counts['clipping']}, \"\n",
    "                  f\"Motion: {artifact_counts['motion']})\")\n",
    "        \n",
    "        # Expand artifact regions conservatively\n",
    "        expanded_mask = artifact_mask.copy()\n",
    "        artifact_indices = np.where(artifact_mask)[0]\n",
    "        \n",
    "        if len(artifact_indices) > 0:\n",
    "            # Only expand by 50ms (12 samples) instead of 100ms\n",
    "            for i in artifact_indices:\n",
    "                start = max(0, i - 12)\n",
    "                end = min(len(artifact_mask), i + 13)\n",
    "                expanded_mask[start:end] = True\n",
    "        \n",
    "        # 5. Apply artifact mask with validation\n",
    "        valid_mask = ~expanded_mask\n",
    "        x = np.arange(len(eeg_data))\n",
    "        \n",
    "        # Ensure there are enough valid points\n",
    "        min_valid_points = max(50, int(0.1 * len(eeg_data)))  # At least 50 points or 10% of trial\n",
    "        \n",
    "        if np.sum(valid_mask) < min_valid_points:\n",
    "            # Use fallback: mark as valid unless explicitly invalid\n",
    "            valid_mask = ~artifact_mask  # Only original artifacts\n",
    "            if np.sum(valid_mask) < min_valid_points:\n",
    "                valid_mask = np.ones(len(eeg_data), dtype=bool)\n",
    "                if trial_id:\n",
    "                    print(f\"Warning: Limited valid points in trial {trial_id}. Using all points\")\n",
    "        \n",
    "        # Apply interpolation per channel\n",
    "        for channel in EEG_CHANNELS:\n",
    "            channel_data = eeg_data[channel].values\n",
    "            eeg_data[channel] = np.interp(x, x[valid_mask], channel_data[valid_mask])\n",
    "        \n",
    "        # 6. Enhanced Line Noise Removal\n",
    "        eeg_values = remove_line_noise(eeg_data.values)\n",
    "        eeg_data = pd.DataFrame(eeg_values, columns=EEG_CHANNELS)\n",
    "        \n",
    "        # 7. ERD Preservation\n",
    "        sos_bp = signal.butter(3, [4, 40], btype='bandpass', output='sos', fs=FS)\n",
    "        filtered = signal.sosfiltfilt(sos_bp, eeg_data.values, axis=0)\n",
    "        \n",
    "        # 8. Motion artifact handling with ICA (only when significant motion artifacts detected)\n",
    "        if motion_data is not None and not motion_data.empty and artifact_counts['motion'] > 50:\n",
    "            try:\n",
    "                ica = FastICA(n_components=len(EEG_CHANNELS), random_state=0, max_iter=500)\n",
    "                ica_sources = ica.fit_transform(filtered)\n",
    "                \n",
    "                # Compute motion index\n",
    "                acc_mag = np.sqrt(motion_data[['AccX', 'AccY', 'AccZ']].pow(2).sum(axis=1))\n",
    "                gyro_mag = np.sqrt(motion_data[['Gyro1', 'Gyro2', 'Gyro3']].pow(2).sum(axis=1))\n",
    "                motion_index = acc_mag + gyro_mag\n",
    "                \n",
    "                # Identify motion-correlated components\n",
    "                motion_corr = np.zeros(ica_sources.shape[1])\n",
    "                for i in range(ica_sources.shape[1]):\n",
    "                    corr = np.corrcoef(np.abs(ica_sources[:, i]), np.abs(motion_index))[0, 1]\n",
    "                    motion_corr[i] = np.abs(corr)\n",
    "                \n",
    "                # Remove only strongly correlated components\n",
    "                motion_components = motion_corr > 0.7\n",
    "                if np.any(motion_components):\n",
    "                    ica_sources[:, motion_components] = 0\n",
    "                    filtered = ica.inverse_transform(ica_sources)\n",
    "            except Exception as e:\n",
    "                if trial_id:\n",
    "                    print(f\"ICA skipped in trial {trial_id}: {str(e)}\")\n",
    "        \n",
    "        # 9. Final output\n",
    "        eeg_data = pd.DataFrame(filtered, columns=EEG_CHANNELS)\n",
    "        \n",
    "        return eeg_data, artifact_percent, artifact_counts\n",
    "    \n",
    "    except Exception as e:\n",
    "        print(f\"Error during preprocessing trial {trial_id}: {str(e)}\")\n",
    "        traceback.print_exc()\n",
    "        return None, None, None\n",
    "\n",
    "# =============================\n",
    "# PIPELINE EXECUTION WITH QUALITY TRACKING\n",
    "# =============================\n",
    "def preprocess_dataset(df, dataset_name):\n",
    "    \"\"\"Preprocess entire dataset with quality tracking\"\"\"\n",
    "    print(f\"Preprocessing {dataset_name} set with {len(df)} trials...\")\n",
    "    \n",
    "    processed_paths = []\n",
    "    artifact_percentages = []\n",
    "    artifact_reports = []\n",
    "    rejected_trials = []\n",
    "    error_trials = []\n",
    "    \n",
    "    for idx, row in df.iterrows():\n",
    "        trial_id = int(row['id'])  # Convert to native Python int\n",
    "        try:\n",
    "            # Load full trial data\n",
    "            trial_data = load_full_trial(row)\n",
    "            \n",
    "            # Apply preprocessing pipeline\n",
    "            preprocessed, artifact_percent, artifact_counts = preprocess_trial(\n",
    "                trial_data, row['task'], trial_id=trial_id\n",
    "            )\n",
    "            \n",
    "            # Create artifact report\n",
    "            report_entry = {\n",
    "                'trial_id': trial_id,\n",
    "            }\n",
    "            \n",
    "            # Track artifact metrics\n",
    "            if artifact_percent is not None:\n",
    "                artifact_percentages.append(float(artifact_percent))  # Convert to float\n",
    "                report_entry['artifact_percent'] = float(artifact_percent)\n",
    "            \n",
    "            if artifact_counts is not None:\n",
    "                # Convert counts to native Python integers\n",
    "                report_entry['artifact_counts'] = {k: int(v) for k, v in artifact_counts.items()}\n",
    "            \n",
    "            artifact_reports.append(report_entry)\n",
    "            \n",
    "            # Handle rejected trials\n",
    "            if preprocessed is None and artifact_percent is not None:\n",
    "                processed_paths.append(None)\n",
    "                rejected_trials.append(trial_id)\n",
    "                continue\n",
    "                \n",
    "            # Handle processing errors\n",
    "            if preprocessed is None:\n",
    "                processed_paths.append(None)\n",
    "                error_trials.append(trial_id)\n",
    "                continue\n",
    "                \n",
    "            # Save processed data\n",
    "            output_path = save_preprocessed_data(preprocessed, row)\n",
    "            processed_paths.append(output_path)\n",
    "            \n",
    "            # Print progress\n",
    "            if (idx + 1) % 100 == 0:\n",
    "                print(f\"Processed {idx+1}/{len(df)} trials\")\n",
    "                \n",
    "        except Exception as e:\n",
    "            print(f\"Error processing trial {trial_id}: {str(e)}\")\n",
    "            processed_paths.append(None)\n",
    "            error_trials.append(trial_id)\n",
    "            artifact_reports.append({\n",
    "                'trial_id': trial_id,\n",
    "                'error': str(e)\n",
    "            })\n",
    "    \n",
    "    # Add paths to dataframe\n",
    "    df['processed_path'] = processed_paths\n",
    "    \n",
    "    # Save updated dataframe\n",
    "    df.to_csv(f\"{PREPROCESSED_PATH}/{dataset_name}.csv\", index=False)\n",
    "    \n",
    "    # Calculate statistics\n",
    "    processed_count = len([p for p in processed_paths if p is not None])\n",
    "    rejected_count = len(rejected_trials)\n",
    "    error_count = len(error_trials)\n",
    "    valid_artifact_percentages = [p for p in artifact_percentages if not np.isnan(p)]\n",
    "    \n",
    "    # Save quality report\n",
    "    quality_report = {\n",
    "        'dataset': dataset_name,\n",
    "        'total_trials': len(df),\n",
    "        'processed_trials': processed_count,\n",
    "        'rejected_trials': rejected_trials,\n",
    "        'error_trials': error_trials,\n",
    "        'rejection_rate': rejected_count / len(df) * 100,\n",
    "        'error_rate': error_count / len(df) * 100,\n",
    "        'mean_artifact_percent': float(np.mean(valid_artifact_percentages)) if valid_artifact_percentages else 0,\n",
    "        'median_artifact_percent': float(np.median(valid_artifact_percentages)) if valid_artifact_percentages else 0,\n",
    "        'artifact_reports': artifact_reports\n",
    "    }\n",
    "    \n",
    "    # Save with native Python types\n",
    "    with open(f\"{PREPROCESSED_PATH}/{dataset_name}_quality.json\", 'w') as f:\n",
    "        json.dump(quality_report, f, indent=2, default=str)\n",
    "    \n",
    "    # Print summary\n",
    "    print(f\"\\n===== {dataset_name.upper()} SET SUMMARY =====\")\n",
    "    print(f\"Total trials: {len(df)}\")\n",
    "    print(f\"Successfully processed: {processed_count} ({processed_count/len(df)*100:.1f}%)\")\n",
    "    print(f\"Rejected trials: {rejected_count} ({rejected_count/len(df)*100:.1f}%)\")\n",
    "    print(f\"Error trials: {error_count} ({error_count/len(df)*100:.1f}%)\")\n",
    "    if valid_artifact_percentages:\n",
    "        print(f\"Average artifact percentage: {np.mean(valid_artifact_percentages):.1f}%\")\n",
    "        print(f\"Median artifact percentage: {np.median(valid_artifact_percentages):.1f}%\")\n",
    "    \n",
    "    return df\n",
    "\n",
    "# =============================\n",
    "# MAIN EXECUTION\n",
    "# =============================\n",
    "if __name__ == \"__main__\":\n",
    "    # Create output directory\n",
    "    os.makedirs(PREPROCESSED_PATH, exist_ok=True)\n",
    "    \n",
    "    # Load datasets\n",
    "    train_df = pd.read_csv(os.path.join(BASE_PATH, 'train.csv'))\n",
    "    val_df = pd.read_csv(os.path.join(BASE_PATH, 'validation.csv'))\n",
    "    test_df = pd.read_csv(os.path.join(BASE_PATH, 'test.csv'))\n",
    "    \n",
    "    # Preprocess all datasets\n",
    "    print(\"Starting quality-controlled preprocessing...\")\n",
    "    print(f\"Rejection threshold: >{ARTIFACT_REJECTION_THRESHOLD}% artifacts\\n\")\n",
    "    \n",
    "    print(\"=== PROCESSING TRAINING SET ===\")\n",
    "    train_df = preprocess_dataset(train_df, 'train')\n",
    "    \n",
    "    print(\"\\n=== PROCESSING VALIDATION SET ===\")\n",
    "    val_df = preprocess_dataset(val_df, 'validation')\n",
    "    \n",
    "    print(\"\\n=== PROCESSING TEST SET ===\")\n",
    "    test_df = preprocess_dataset(test_df, 'test')\n",
    "    \n",
    "    # Save final metadata\n",
    "    train_df.to_csv(os.path.join(PREPROCESSED_PATH, 'train.csv'), index=False)\n",
    "    val_df.to_csv(os.path.join(PREPROCESSED_PATH, 'validation.csv'), index=False)\n",
    "    test_df.to_csv(os.path.join(PREPROCESSED_PATH, 'test.csv'), index=False)\n",
    "    \n",
    "    # Final summary\n",
    "    total_trials = len(train_df) + len(val_df) + len(test_df)\n",
    "    total_processed = (\n",
    "        sum(1 for p in train_df['processed_path'] if p is not None) +\n",
    "        sum(1 for p in val_df['processed_path'] if p is not None) +\n",
    "        sum(1 for p in test_df['processed_path'] if p is not None)\n",
    "    )\n",
    "    \n",
    "    print(\"\\n===== FINAL SUMMARY =====\")\n",
    "    print(f\"Total trials in dataset: {total_trials}\")\n",
    "    print(f\"Successfully processed: {total_processed} ({total_processed/total_trials*100:.1f}%)\")\n",
    "    print(f\"Rejection threshold: >{ARTIFACT_REJECTION_THRESHOLD}% artifacts\")\n",
    "    print(\"\\nPreprocessing complete! Data saved to:\", PREPROCESSED_PATH)\n",
    "    print(\"Quality reports available for each dataset:\")\n",
    "    print(\"- train_quality.json\")\n",
    "    print(\"- validation_quality.json\")\n",
    "    print(\"- test_quality.json\")\n",
    "    \n",
    "    print(\"\\nTo analyze results:\")\n",
    "    print(\"import json, pandas as pd\")\n",
    "    print(\"report = json.load(open('./quality_controlled_preprocessed/train_quality.json'))\")\n",
    "    print(\"print(f\\\"Rejected trials: {len(report['rejected_trials'])}\\\")\")\n",
    "    print(\"print(f\\\"Error trials: {len(report['error_trials'])}\\\")\")"
   ]
  },
  {
   "cell_type": "code",
   "execution_count": null,
   "id": "d05e919e",
   "metadata": {
    "papermill": {
     "duration": 0.197187,
     "end_time": "2025-06-25T06:40:31.241132",
     "exception": false,
     "start_time": "2025-06-25T06:40:31.043945",
     "status": "completed"
    },
    "tags": []
   },
   "outputs": [],
   "source": []
  },
  {
   "cell_type": "code",
   "execution_count": null,
   "id": "33962087",
   "metadata": {
    "papermill": {
     "duration": 0.258761,
     "end_time": "2025-06-25T06:40:31.682286",
     "exception": false,
     "start_time": "2025-06-25T06:40:31.423525",
     "status": "completed"
    },
    "tags": []
   },
   "outputs": [],
   "source": []
  }
 ],
 "metadata": {
  "kaggle": {
   "accelerator": "none",
   "dataSources": [
    {
     "databundleVersionId": 12673416,
     "sourceId": 98188,
     "sourceType": "competition"
    }
   ],
   "dockerImageVersionId": 31040,
   "isGpuEnabled": false,
   "isInternetEnabled": true,
   "language": "python",
   "sourceType": "notebook"
  },
  "kernelspec": {
   "display_name": "Python 3",
   "language": "python",
   "name": "python3"
  },
  "language_info": {
   "codemirror_mode": {
    "name": "ipython",
    "version": 3
   },
   "file_extension": ".py",
   "mimetype": "text/x-python",
   "name": "python",
   "nbconvert_exporter": "python",
   "pygments_lexer": "ipython3",
   "version": "3.11.11"
  },
  "papermill": {
   "default_parameters": {},
   "duration": 797.705682,
   "end_time": "2025-06-25T06:40:32.619655",
   "environment_variables": {},
   "exception": null,
   "input_path": "__notebook__.ipynb",
   "output_path": "__notebook__.ipynb",
   "parameters": {},
   "start_time": "2025-06-25T06:27:14.913973",
   "version": "2.6.0"
  }
 },
 "nbformat": 4,
 "nbformat_minor": 5
}
