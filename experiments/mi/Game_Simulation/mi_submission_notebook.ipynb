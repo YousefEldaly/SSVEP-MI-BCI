{
 "cells": [
  {
   "cell_type": "markdown",
   "id": "bb9e6024",
   "metadata": {},
   "source": [
    "# 🧠 BCI Competition: Motor Imagery (MI) Game Control Template\n",
    "\n",
    "Welcome, teams\\! This notebook is your template for the real-time Motor Imagery (MI) competition.\n",
    "\n",
    "### Your Task\n",
    "\n",
    "Your goal is to classify a user's intended \"left\" or \"right\" hand movement to control a game. You will only modify two functions: `load_model` and `predict`. The surrounding infrastructure for data recording and game communication is fixed.\n",
    "\n",
    "1.  Add any necessary library imports in **Part 1**.\n",
    "2.  Complete the `load_model` function in **Part 3**.\n",
    "3.  Complete the `predict` function in **Part 4**.\n",
    "4.  Submit this completed notebook and your model file(s)."
   ]
  },
  {
   "cell_type": "markdown",
   "id": "9354e33f",
   "metadata": {},
   "source": [
    "## Part 1: Team-Specific Imports <span style=\"color:green\">*(✍️ EDITABLE)*</span>.\n",
    "\n",
    "In the cell below, add any libraries required to load your model and process the data (e.g., `tensorflow`, `sklearn`, `mne`, `scipy`).\n"
   ]
  },
  {
   "cell_type": "code",
   "execution_count": 1,
   "id": "67354f48",
   "metadata": {},
   "outputs": [
    {
     "name": "stdout",
     "output_type": "stream",
     "text": [
      "Team-specific libraries would be imported here.\n"
     ]
    }
   ],
   "source": [
    "# ==> YOUR CODE HERE <==\n",
    "# Example:\n",
    "# import mne\n",
    "# from scipy.signal import butter, lfilter\n",
    "# import joblib\n",
    "import pandas as pd\n",
    "import numpy as np\n",
    "import os\n",
    "import tensorflow as tf # Assuming you've loaded your model using tf.keras.models.load_model\n",
    "import mne\n",
    "SAMPLING_RATE = 250\n",
    "EEG_CHANNELS = ['FZ', 'C3', 'CZ', 'C4', 'PZ', 'PO7', 'OZ', 'PO8']\n",
    "T_MIN, T_MAX = 3.5, 7.5\n",
    "LOW_CUT, HIGH_CUT, NOTCH_FREQ = 1.0, 40.0, 50.0\n",
    "\n",
    "print(\"Team-specific libraries would be imported here.\")\n"
   ]
  },
  {
   "cell_type": "markdown",
   "id": "15b9b85c",
   "metadata": {},
   "source": [
    "## Part 2: Data Recording Infrastructure <span style=\"color:red\">*(❌ DO NOT EDIT or ADD anything)*</span>.\n",
    "\n",
    "The system uses a dedicated function to record each trial of raw EEG data from the headset. This function captures the data and passes it to your `predict` function as a pandas DataFrame. You do not need to modify this.\n",
    "\n",
    "```python\n",
    "def record_trial(inlet):\n",
    "    # This function's internal logic is fixed.\n",
    "    # It records 9 seconds of data and returns a DataFrame.\n",
    "    ...\n",
    "```\n",
    "\n",
    "The structure of the pandas DataFrame given to `predict()` will contain **2250 rows**, which is the total number of samples for a single 9-second trial.\n",
    "\n",
    "```\n",
    "              Time            FZ            C3           CZ  ...     Gyro3    Battery  Counter  Validation\n",
    "0     1.664401e+06  332287.40625  357817.12500  640024.6250  ...  0.366211  66.666672  19733.0         1.0\n",
    "1     1.664401e+06  335842.93750  361377.65625  647339.8750  ...  0.274658  66.666672  19734.0         1.0\n",
    "...            ...           ...           ...          ...  ...       ...        ...      ...         ...\n",
    "2248  1.664410e+06  335227.37500  358243.93750  639073.8750  ...  0.732422  66.666672  21981.0         1.0\n",
    "2249  1.664410e+06  331707.93750  355082.68750  631451.1250  ...  0.823975  66.666672  21982.0         1.0\n",
    "```"
   ]
  },
  {
   "cell_type": "markdown",
   "id": "3303f269",
   "metadata": {},
   "source": [
    "## Part 3: Model Loading <span style=\"color:green\">*(✍️ EDITABLE)*</span>.\n",
    "\n",
    "Complete this function to load your trained model from the provided file path.\n",
    "\n",
    "**Instructions:**\n",
    "\n",
    "  * The function takes a `model_path` string as input.\n",
    "  * It must load your model and return the model object.\n",
    "  * Ensure the model is in evaluation/inference mode (e.g., `model.eval()`)."
   ]
  },
  {
   "cell_type": "markdown",
   "id": "cb256710",
   "metadata": {},
   "source": []
  },
  {
   "cell_type": "code",
   "execution_count": 2,
   "id": "653d9e4c",
   "metadata": {},
   "outputs": [],
   "source": [
    "def load_model(model_path):\n",
    "    \"\"\"\n",
    "    Load the trained MI model from the given file path.\n",
    "\n",
    "    Args:\n",
    "        model_path (str): The path to the model file.\n",
    "\n",
    "    Returns:\n",
    "        model: The loaded model object.\n",
    "    \"\"\"\n",
    "    # ==> YOUR CODE HERE <==\n",
    "    \n",
    "    # --- Example for a PyTorch Model ---\n",
    "    # import torch\n",
    "    # # The model architecture must be defined here or imported.\n",
    "    # # For MI, the model should have 2 outputs (left/right).\n",
    "    # # model = YourMIModelClass(n_outputs=2, ...etc) \n",
    "    # model.load_state_dict(torch.load(model_path, map_location=\"cpu\"))\n",
    "    # model.eval()\n",
    "    # return model\n",
    "    loaded_model = tf.keras.models.load_model(model_path, compile=False)\n",
    "    \n",
    "    # Remove the 'pass' statement and add your code.\n",
    "    return loaded_model"
   ]
  },
  {
   "cell_type": "markdown",
   "id": "d432ac4a",
   "metadata": {},
   "source": [
    "## Part 4: Preprocessing and Prediction  <span style=\"color:green\">*(✍️ EDITABLE)*</span>.\n",
    "\n",
    "Complete this function to process the raw trial data and make a final prediction for game control.\n",
    "\n",
    "**Instructions:**\n",
    "\n",
    "  * The function receives the `model` object and a `df` (a pandas DataFrame) from the `record_trial` function.\n",
    "  * You must perform all necessary **preprocessing** (e.g., filtering, feature extraction) inside this function.\n",
    "  * The function must return one of three specific strings: `\"left\"`, `\"right\"`, or `\"?\"`.\n",
    "  * Returning `\"?\"` is crucial for preventing incorrect moves in the game when the model is not confident."
   ]
  },
  {
   "cell_type": "code",
   "execution_count": null,
   "id": "9e47255c",
   "metadata": {},
   "outputs": [],
   "source": [
    "def predict(model, df_trial_raw):\n",
    "    \"\"\"\n",
    "    Preprocess the raw MI data and make a prediction.\n",
    "\n",
    "    Args:\n",
    "        model: The loaded model object (TensorFlow Keras model).\n",
    "        df_trial_raw (pd.DataFrame): The raw trial data, expected to be a DataFrame\n",
    "                                    representing a single trial's EEG readings.\n",
    "\n",
    "    Returns:\n",
    "        str: The prediction, which must be \"left\" or \"right\". Returns \"?\" if an error occurs.\n",
    "    \"\"\"\n",
    "    # ==> YOUR CODE HERE <==\n",
    "    if df_trial_raw.empty:\n",
    "        print(\"Warning: Input DataFrame for prediction is empty.\")\n",
    "        return \"?\"\n",
    "\n",
    "    try:\n",
    "\n",
    "        df_trial_raw.columns = df_trial_raw.columns.str.strip()\n",
    "        eeg_data_subset = df_trial_raw[EEG_CHANNELS].copy()\n",
    "        eeg_data_subset = eeg_data_subset.astype(np.float32)\n",
    "    except KeyError as e:\n",
    "        print(f\"Error: Missing expected EEG channel column: {e}\")\n",
    "        return \"?\"\n",
    "    except Exception as e:\n",
    "        print(f\"Error during initial data selection and type conversion: {e}\")\n",
    "        return \"?\"\n",
    "\n",
    "\n",
    "    try:\n",
    "        eeg_data_np_transposed = eeg_data_subset.values.T\n",
    "        \n",
    "        info = mne.create_info(ch_names=EEG_CHANNELS, sfreq=SAMPLING_RATE, ch_types='eeg', verbose=False)\n",
    "        raw_trial_mne = mne.io.RawArray(eeg_data_np_transposed * 1e-6, info, verbose=False) # Assuming data is in uV\n",
    "\n",
    "        raw_trial_mne.filter(l_freq=LOW_CUT, h_freq=HIGH_CUT, fir_design='firwin', verbose=False)\n",
    "        raw_trial_mne.notch_filter(freqs=NOTCH_FREQ, verbose=False)\n",
    "\n",
    "        epoch_data = raw_trial_mne.get_data(tmin=T_MIN, tmax=T_MAX)\n",
    "        \n",
    "\n",
    "        epoch_data_transposed = epoch_data.T\n",
    "        \n",
    "        mean_val = np.mean(epoch_data_transposed, axis=0)\n",
    "        std_val = np.std(epoch_data_transposed, axis=0)\n",
    "\n",
    "        normalized_epoch_data = (epoch_data_transposed - mean_val) / (std_val + 1e-8)\n",
    "        \n",
    "        normalized_epoch_data = normalized_epoch_data.T\n",
    "        \n",
    "\n",
    "        model_input_data = normalized_epoch_data[np.newaxis, :, :, np.newaxis]\n",
    "\n",
    "    except Exception as e:\n",
    "        print(f\"Error during MNE processing or normalization: {e}\")\n",
    "        return \"?\"\n",
    "\n",
    "    try:\n",
    "\n",
    "        predictions = model.predict(model_input_data, verbose=0)\n",
    "    except Exception as e:\n",
    "        print(f\"Error during model prediction: {e}\")\n",
    "        return \"?\"\n",
    "\n",
    "\n",
    "    if predictions.shape[1] == 2: # Ensure it's a 2-class output\n",
    "        predicted_class_index = np.argmax(predictions, axis=1)[0]\n",
    "        \n",
    "        if predicted_class_index == 0:\n",
    "            return \"left\"\n",
    "        elif predicted_class_index == 1:\n",
    "            return \"right\"\n",
    "        else:\n",
    "            # This case should not be reached for a 2-class output if argmax works correctly.\n",
    "            print(f\"Warning: Unexpected prediction index: {predicted_class_index}\")\n",
    "            return \"?\"\n",
    "    else:\n",
    "        print(f\"Error: Model returned unexpected number of classes: {predictions.shape[1]}\")\n",
    "        return \"?\""
   ]
  },
  {
   "cell_type": "markdown",
   "id": "0d777f65",
   "metadata": {},
   "source": [
    "## Part 5: Game Interface <span style=\"color:red\">*(❌ DO NOT EDIT or ADD anything)*</span>.\n",
    "\n",
    "After your `predict` function returns a command (e.g., `\"left\"`), the system passes this string to a game interface function. This function sends your prediction over the network to the game engine.\n",
    "\n",
    "```python\n",
    "def send_to_game(socket, prediction):\n",
    "    # This function's internal logic is fixed.\n",
    "    # It sends your prediction string (\"left\", \"right\", or \"?\")\n",
    "    # over a ZeroMQ socket to the game.\n",
    "    ..."
   ]
  },
  {
   "cell_type": "markdown",
   "id": "aa4e0d34",
   "metadata": {},
   "source": []
  }
 ],
 "metadata": {
  "kernelspec": {
   "display_name": "myenv",
   "language": "python",
   "name": "python3"
  },
  "language_info": {
   "codemirror_mode": {
    "name": "ipython",
    "version": 3
   },
   "file_extension": ".py",
   "mimetype": "text/x-python",
   "name": "python",
   "nbconvert_exporter": "python",
   "pygments_lexer": "ipython3",
   "version": "3.12.3"
  }
 },
 "nbformat": 4,
 "nbformat_minor": 5
}
